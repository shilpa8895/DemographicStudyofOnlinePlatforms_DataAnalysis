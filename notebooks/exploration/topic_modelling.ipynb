{
 "cells": [
  {
   "cell_type": "code",
   "execution_count": 1,
   "metadata": {},
   "outputs": [
    {
     "name": "stdout",
     "output_type": "stream",
     "text": [
      "Requirement already satisfied: vaderSentiment in /Users/tnathu-ai/opt/anaconda3/lib/python3.9/site-packages (3.3.2)\n",
      "Requirement already satisfied: requests in /Users/tnathu-ai/opt/anaconda3/lib/python3.9/site-packages (from vaderSentiment) (2.31.0)\n",
      "Requirement already satisfied: charset-normalizer<4,>=2 in /Users/tnathu-ai/opt/anaconda3/lib/python3.9/site-packages (from requests->vaderSentiment) (2.0.4)\n",
      "Requirement already satisfied: idna<4,>=2.5 in /Users/tnathu-ai/opt/anaconda3/lib/python3.9/site-packages (from requests->vaderSentiment) (3.3)\n",
      "Requirement already satisfied: certifi>=2017.4.17 in /Users/tnathu-ai/opt/anaconda3/lib/python3.9/site-packages (from requests->vaderSentiment) (2024.2.2)\n",
      "Requirement already satisfied: urllib3<3,>=1.21.1 in /Users/tnathu-ai/opt/anaconda3/lib/python3.9/site-packages (from requests->vaderSentiment) (1.26.9)\n",
      "Requirement already satisfied: nltk in /Users/tnathu-ai/opt/anaconda3/lib/python3.9/site-packages (3.8.1)\n",
      "Requirement already satisfied: tqdm in /Users/tnathu-ai/opt/anaconda3/lib/python3.9/site-packages (from nltk) (4.64.0)\n",
      "Requirement already satisfied: joblib in /Users/tnathu-ai/opt/anaconda3/lib/python3.9/site-packages (from nltk) (1.1.0)\n",
      "Requirement already satisfied: regex>=2021.8.3 in /Users/tnathu-ai/opt/anaconda3/lib/python3.9/site-packages (from nltk) (2022.3.15)\n",
      "Requirement already satisfied: click in /Users/tnathu-ai/opt/anaconda3/lib/python3.9/site-packages (from nltk) (8.0.4)\n",
      "Requirement already satisfied: gensim in /Users/tnathu-ai/opt/anaconda3/lib/python3.9/site-packages (4.2.0)\n",
      "Requirement already satisfied: smart-open>=1.8.1 in /Users/tnathu-ai/opt/anaconda3/lib/python3.9/site-packages (from gensim) (5.1.0)\n",
      "Requirement already satisfied: scipy>=0.18.1 in /Users/tnathu-ai/opt/anaconda3/lib/python3.9/site-packages (from gensim) (1.7.3)\n",
      "Requirement already satisfied: numpy>=1.17.0 in /Users/tnathu-ai/opt/anaconda3/lib/python3.9/site-packages (from gensim) (1.21.5)\n"
     ]
    }
   ],
   "source": [
    "\n",
    "!pip install vaderSentiment\n",
    "!pip install nltk\n",
    "!pip install gensim"
   ]
  },
  {
   "cell_type": "markdown",
   "metadata": {},
   "source": [
    "\n",
    "# VADER (Valence Aware Dictionary and sEntiment Reasoner) \n",
    "\n",
    "is a lexicon and rule-based sentiment analysis tool specifically attuned to sentiments expressed in social media. It is designed to perform well on short texts, which makes it ideal for analyzing comments, tweets, and other short-form content."
   ]
  },
  {
   "cell_type": "code",
   "execution_count": 2,
   "metadata": {},
   "outputs": [
    {
     "name": "stderr",
     "output_type": "stream",
     "text": [
      "[nltk_data] Downloading package stopwords to /Users/tnathu-\n",
      "[nltk_data]     ai/nltk_data...\n",
      "[nltk_data]   Package stopwords is already up-to-date!\n",
      "[nltk_data] Downloading package punkt to /Users/tnathu-ai/nltk_data...\n",
      "[nltk_data]   Package punkt is already up-to-date!\n"
     ]
    }
   ],
   "source": [
    "\n",
    "import sys\n",
    "import os\n",
    "import pandas as pd\n",
    "import seaborn as sns\n",
    "import matplotlib.pyplot as plt\n",
    "import nltk\n",
    "from nltk.corpus import stopwords\n",
    "from gensim import corpora, models\n",
    "from sklearn.feature_extraction.text import CountVectorizer\n",
    "from vaderSentiment.vaderSentiment import SentimentIntensityAnalyzer\n",
    "\n",
    "# Ensure necessary nltk resources are downloaded\n",
    "nltk.download('stopwords')\n",
    "nltk.download('punkt')\n",
    "\n",
    "# Add the directory containing config.py to the Python path\n",
    "sys.path.append(os.path.abspath(os.path.join('..', '..')))\n",
    "from config import REDDIT_RAW_DATA_DIR, GITHUB_RAW_DATA_DIR, STACKOVERFLOW_RAW_DATA_DIR, IMAGE_DIR, INTERMEDIATE_ANALYSIS_DIR\n",
    "\n",
    "# Define data directories\n",
    "DATA_DIRS = {\n",
    "    'Reddit': REDDIT_RAW_DATA_DIR,\n",
    "    'GitHub': GITHUB_RAW_DATA_DIR,\n",
    "    'StackOverflow': STACKOVERFLOW_RAW_DATA_DIR\n",
    "}\n",
    "\n",
    "# Initialize VADER sentiment analyzer\n",
    "analyzer = SentimentIntensityAnalyzer()\n"
   ]
  },
  {
   "cell_type": "code",
   "execution_count": 4,
   "metadata": {},
   "outputs": [
    {
     "name": "stdout",
     "output_type": "stream",
     "text": [
      "Saved sentiment analysis for GitHub to /Users/tnathu-ai/VSCode/Government-Digital-Transformation/data/intermediate/analysis/github_sentiment_analysis.txt\n",
      "Extracted Topic: (0, '0.060*\"data\" + 0.032*\"based\" + 0.032*\"study\" + 0.032*\"using\" + 0.032*\"road\"')\n",
      "Extracted Topic: (1, '0.025*\"government\" + 0.025*\"us\" + 0.025*\"location\" + 0.025*\"information\" + 0.025*\"forecast\"')\n",
      "Extracted Topic: (2, '0.047*\"market\" + 0.022*\"taxi\" + 0.021*\"booking\" + 0.020*\"type\" + 0.013*\"uber\"')\n",
      "Extracted Topic: (3, '0.003*\"market\" + 0.003*\"data\" + 0.003*\"taxi\" + 0.003*\"based\" + 0.003*\"trends\"')\n",
      "Extracted Topic: (4, '0.003*\"market\" + 0.003*\"booking\" + 0.003*\"type\" + 0.003*\"taxi\" + 0.003*\"information\"')\n",
      "Saved topic modeling for GitHub to /Users/tnathu-ai/VSCode/Government-Digital-Transformation/data/intermediate/analysis/github_topic_modeling.txt\n",
      "Saved qualitative analysis for GitHub to /Users/tnathu-ai/VSCode/Government-Digital-Transformation/data/intermediate/analysis/github_qualitative_analysis.txt\n",
      "Saved time series visualization for GitHub - Topic: data  based  study  to /Users/tnathu-ai/VSCode/Government-Digital-Transformation/assets/images/github_time_series_analysis_data  based  study .png\n",
      "Saved time series visualization for GitHub - Topic: government  us  location  to /Users/tnathu-ai/VSCode/Government-Digital-Transformation/assets/images/github_time_series_analysis_government  us  location .png\n"
     ]
    },
    {
     "name": "stderr",
     "output_type": "stream",
     "text": [
      "<timed exec>:63: SettingWithCopyWarning: \n",
      "A value is trying to be set on a copy of a slice from a DataFrame.\n",
      "Try using .loc[row_indexer,col_indexer] = value instead\n",
      "\n",
      "See the caveats in the documentation: https://pandas.pydata.org/pandas-docs/stable/user_guide/indexing.html#returning-a-view-versus-a-copy\n"
     ]
    },
    {
     "name": "stdout",
     "output_type": "stream",
     "text": [
      "Saved time series visualization for GitHub - Topic: market  taxi  booking  to /Users/tnathu-ai/VSCode/Government-Digital-Transformation/assets/images/github_time_series_analysis_market  taxi  booking .png\n",
      "Saved time series visualization for GitHub - Topic: market  data  taxi  to /Users/tnathu-ai/VSCode/Government-Digital-Transformation/assets/images/github_time_series_analysis_market  data  taxi .png\n"
     ]
    },
    {
     "name": "stderr",
     "output_type": "stream",
     "text": [
      "<timed exec>:63: SettingWithCopyWarning: \n",
      "A value is trying to be set on a copy of a slice from a DataFrame.\n",
      "Try using .loc[row_indexer,col_indexer] = value instead\n",
      "\n",
      "See the caveats in the documentation: https://pandas.pydata.org/pandas-docs/stable/user_guide/indexing.html#returning-a-view-versus-a-copy\n"
     ]
    },
    {
     "name": "stdout",
     "output_type": "stream",
     "text": [
      "Saved time series visualization for GitHub - Topic: market  booking  type  to /Users/tnathu-ai/VSCode/Government-Digital-Transformation/assets/images/github_time_series_analysis_market  booking  type .png\n",
      "Saved sentiment analysis for GitHub to /Users/tnathu-ai/VSCode/Government-Digital-Transformation/data/intermediate/analysis/github_sentiment_analysis.txt\n",
      "Extracted Topic: (0, '0.004*\"healthcare\" + 0.004*\"care\" + 0.004*\"devices\" + 0.004*\"health\" + 0.004*\"patient\"')\n",
      "Extracted Topic: (1, '0.037*\"healthcare\" + 0.026*\"care\" + 0.020*\"health\" + 0.020*\"devices\" + 0.017*\"patient\"')\n",
      "Extracted Topic: (2, '0.004*\"healthcare\" + 0.004*\"care\" + 0.004*\"devices\" + 0.004*\"patient\" + 0.004*\"health\"')\n",
      "Extracted Topic: (3, '0.004*\"healthcare\" + 0.004*\"care\" + 0.004*\"health\" + 0.004*\"devices\" + 0.004*\"tracking\"')\n",
      "Extracted Topic: (4, '0.004*\"healthcare\" + 0.004*\"devices\" + 0.004*\"health\" + 0.004*\"care\" + 0.004*\"patient\"')\n",
      "Saved topic modeling for GitHub to /Users/tnathu-ai/VSCode/Government-Digital-Transformation/data/intermediate/analysis/github_topic_modeling.txt\n",
      "Saved qualitative analysis for GitHub to /Users/tnathu-ai/VSCode/Government-Digital-Transformation/data/intermediate/analysis/github_qualitative_analysis.txt\n",
      "Saved time series visualization for GitHub - Topic: healthcare  care  devices  to /Users/tnathu-ai/VSCode/Government-Digital-Transformation/assets/images/github_time_series_analysis_healthcare  care  devices .png\n",
      "Saved time series visualization for GitHub - Topic: healthcare  care  health  to /Users/tnathu-ai/VSCode/Government-Digital-Transformation/assets/images/github_time_series_analysis_healthcare  care  health .png\n",
      "Saved time series visualization for GitHub - Topic: healthcare  care  devices  to /Users/tnathu-ai/VSCode/Government-Digital-Transformation/assets/images/github_time_series_analysis_healthcare  care  devices .png\n",
      "Saved time series visualization for GitHub - Topic: healthcare  care  health  to /Users/tnathu-ai/VSCode/Government-Digital-Transformation/assets/images/github_time_series_analysis_healthcare  care  health .png\n",
      "Saved time series visualization for GitHub - Topic: healthcare  devices  health  to /Users/tnathu-ai/VSCode/Government-Digital-Transformation/assets/images/github_time_series_analysis_healthcare  devices  health .png\n",
      "Saved sentiment analysis for GitHub to /Users/tnathu-ai/VSCode/Government-Digital-Transformation/data/intermediate/analysis/github_sentiment_analysis.txt\n",
      "Extracted Topic: (0, '0.008*\"business\" + 0.008*\"melbourne\" + 0.008*\"tyres\" + 0.008*\"services\" + 0.008*\"shop\"')\n",
      "Extracted Topic: (1, '0.008*\"melbourne\" + 0.008*\"sunshine\" + 0.008*\"tyres\" + 0.008*\"australia\" + 0.008*\"victoria\"')\n",
      "Extracted Topic: (2, '0.008*\"tyres\" + 0.008*\"business\" + 0.008*\"melbourne\" + 0.008*\"sunshine\" + 0.008*\"services\"')\n",
      "Extracted Topic: (3, '0.038*\"tyres\" + 0.029*\"sunshine\" + 0.029*\"business\" + 0.025*\"shop\" + 0.021*\"tyre\"')\n",
      "Extracted Topic: (4, '0.076*\"station\" + 0.051*\"data\" + 0.038*\"mainly\" + 0.026*\"services\" + 0.026*\"australia\"')\n",
      "Saved topic modeling for GitHub to /Users/tnathu-ai/VSCode/Government-Digital-Transformation/data/intermediate/analysis/github_topic_modeling.txt\n",
      "Saved qualitative analysis for GitHub to /Users/tnathu-ai/VSCode/Government-Digital-Transformation/data/intermediate/analysis/github_qualitative_analysis.txt\n",
      "Saved time series visualization for GitHub - Topic: business  melbourne  tyres  to /Users/tnathu-ai/VSCode/Government-Digital-Transformation/assets/images/github_time_series_analysis_business  melbourne  tyres .png\n",
      "Saved time series visualization for GitHub - Topic: melbourne  sunshine  tyres  to /Users/tnathu-ai/VSCode/Government-Digital-Transformation/assets/images/github_time_series_analysis_melbourne  sunshine  tyres .png\n",
      "Saved time series visualization for GitHub - Topic: tyres  business  melbourne  to /Users/tnathu-ai/VSCode/Government-Digital-Transformation/assets/images/github_time_series_analysis_tyres  business  melbourne .png\n",
      "Saved time series visualization for GitHub - Topic: tyres  sunshine  business  to /Users/tnathu-ai/VSCode/Government-Digital-Transformation/assets/images/github_time_series_analysis_tyres  sunshine  business .png\n"
     ]
    },
    {
     "name": "stderr",
     "output_type": "stream",
     "text": [
      "<timed exec>:63: SettingWithCopyWarning: \n",
      "A value is trying to be set on a copy of a slice from a DataFrame.\n",
      "Try using .loc[row_indexer,col_indexer] = value instead\n",
      "\n",
      "See the caveats in the documentation: https://pandas.pydata.org/pandas-docs/stable/user_guide/indexing.html#returning-a-view-versus-a-copy\n",
      "<timed exec>:63: SettingWithCopyWarning: \n",
      "A value is trying to be set on a copy of a slice from a DataFrame.\n",
      "Try using .loc[row_indexer,col_indexer] = value instead\n",
      "\n",
      "See the caveats in the documentation: https://pandas.pydata.org/pandas-docs/stable/user_guide/indexing.html#returning-a-view-versus-a-copy\n"
     ]
    },
    {
     "name": "stdout",
     "output_type": "stream",
     "text": [
      "Saved time series visualization for GitHub - Topic: station  data  mainly  to /Users/tnathu-ai/VSCode/Government-Digital-Transformation/assets/images/github_time_series_analysis_station  data  mainly .png\n",
      "Saved sentiment analysis for GitHub to /Users/tnathu-ai/VSCode/Government-Digital-Transformation/data/intermediate/analysis/github_sentiment_analysis.txt\n",
      "Extracted Topic: (0, '0.042*\"eulondon\" + 0.040*\"function\" + 0.033*\"var\" + 0.030*\"usatlanta\" + 0.020*\"null\"')\n",
      "Extracted Topic: (1, '0.001*\"eulondon\" + 0.001*\"var\" + 0.001*\"function\" + 0.001*\"usatlanta\" + 0.001*\"jptokyo\"')\n",
      "Extracted Topic: (2, '0.044*\"eulondon\" + 0.036*\"function\" + 0.031*\"usatlanta\" + 0.029*\"var\" + 0.020*\"null\"')\n",
      "Extracted Topic: (3, '0.040*\"eulondon\" + 0.038*\"var\" + 0.033*\"function\" + 0.018*\"jptokyo\" + 0.017*\"null\"')\n",
      "Extracted Topic: (4, '0.001*\"var\" + 0.001*\"function\" + 0.001*\"eulondon\" + 0.001*\"usatlanta\" + 0.001*\"null\"')\n",
      "Saved topic modeling for GitHub to /Users/tnathu-ai/VSCode/Government-Digital-Transformation/data/intermediate/analysis/github_topic_modeling.txt\n",
      "Saved qualitative analysis for GitHub to /Users/tnathu-ai/VSCode/Government-Digital-Transformation/data/intermediate/analysis/github_qualitative_analysis.txt\n",
      "Saved time series visualization for GitHub - Topic: eulondon  function  var  to /Users/tnathu-ai/VSCode/Government-Digital-Transformation/assets/images/github_time_series_analysis_eulondon  function  var .png\n",
      "Saved time series visualization for GitHub - Topic: eulondon  var  function  to /Users/tnathu-ai/VSCode/Government-Digital-Transformation/assets/images/github_time_series_analysis_eulondon  var  function .png\n",
      "Saved time series visualization for GitHub - Topic: eulondon  function  usatlanta  to /Users/tnathu-ai/VSCode/Government-Digital-Transformation/assets/images/github_time_series_analysis_eulondon  function  usatlanta .png\n",
      "Saved time series visualization for GitHub - Topic: eulondon  var  function  to /Users/tnathu-ai/VSCode/Government-Digital-Transformation/assets/images/github_time_series_analysis_eulondon  var  function .png\n",
      "Saved time series visualization for GitHub - Topic: var  function  eulondon  to /Users/tnathu-ai/VSCode/Government-Digital-Transformation/assets/images/github_time_series_analysis_var  function  eulondon .png\n",
      "Saved sentiment analysis for GitHub to /Users/tnathu-ai/VSCode/Government-Digital-Transformation/data/intermediate/analysis/github_sentiment_analysis.txt\n",
      "Extracted Topic: (0, '0.070*\"renewable\" + 0.070*\"locations\" + 0.070*\"energy\" + 0.070*\"rural\" + 0.070*\"distributed\"')\n",
      "Extracted Topic: (1, '0.098*\"australia\" + 0.069*\"energy\" + 0.050*\"data\" + 0.050*\"proposal\" + 0.050*\"wind\"')\n",
      "Extracted Topic: (2, '0.028*\"data\" + 0.028*\"australia\" + 0.028*\"renewable\" + 0.028*\"energy\" + 0.028*\"locations\"')\n",
      "Extracted Topic: (3, '0.081*\"renewable\" + 0.081*\"locations\" + 0.081*\"australia\" + 0.081*\"optimal\" + 0.081*\"across\"')\n",
      "Extracted Topic: (4, '0.028*\"data\" + 0.028*\"australia\" + 0.028*\"renewable\" + 0.028*\"energy\" + 0.028*\"locations\"')\n",
      "Saved topic modeling for GitHub to /Users/tnathu-ai/VSCode/Government-Digital-Transformation/data/intermediate/analysis/github_topic_modeling.txt\n",
      "Saved qualitative analysis for GitHub to /Users/tnathu-ai/VSCode/Government-Digital-Transformation/data/intermediate/analysis/github_qualitative_analysis.txt\n",
      "Saved time series visualization for GitHub - Topic: renewable  locations  energy  to /Users/tnathu-ai/VSCode/Government-Digital-Transformation/assets/images/github_time_series_analysis_renewable  locations  energy .png\n",
      "Saved time series visualization for GitHub - Topic: australia  energy  data  to /Users/tnathu-ai/VSCode/Government-Digital-Transformation/assets/images/github_time_series_analysis_australia  energy  data .png\n",
      "Saved time series visualization for GitHub - Topic: data  australia  renewable  to /Users/tnathu-ai/VSCode/Government-Digital-Transformation/assets/images/github_time_series_analysis_data  australia  renewable .png\n",
      "Saved time series visualization for GitHub - Topic: renewable  locations  australia  to /Users/tnathu-ai/VSCode/Government-Digital-Transformation/assets/images/github_time_series_analysis_renewable  locations  australia .png\n",
      "Saved time series visualization for GitHub - Topic: data  australia  renewable  to /Users/tnathu-ai/VSCode/Government-Digital-Transformation/assets/images/github_time_series_analysis_data  australia  renewable .png\n",
      "Saved sentiment analysis for GitHub to /Users/tnathu-ai/VSCode/Government-Digital-Transformation/data/intermediate/analysis/github_sentiment_analysis.txt\n",
      "Extracted Topic: (0, '0.000*\"var\" + 0.000*\"eulondon\" + 0.000*\"function\" + 0.000*\"null\" + 0.000*\"jptokyo\"')\n",
      "Extracted Topic: (1, '0.056*\"div\" + 0.026*\"script\" + 0.010*\"typetextjavascript\" + 0.009*\"jquery\" + 0.006*\"jqueryprivate\"')\n",
      "Extracted Topic: (2, '0.046*\"var\" + 0.025*\"eulondon\" + 0.022*\"function\" + 0.013*\"null\" + 0.012*\"jptokyo\"')\n",
      "Extracted Topic: (3, '0.000*\"var\" + 0.000*\"function\" + 0.000*\"eulondon\" + 0.000*\"null\" + 0.000*\"jptokyo\"')\n",
      "Extracted Topic: (4, '0.040*\"eulondon\" + 0.037*\"var\" + 0.032*\"function\" + 0.018*\"jptokyo\" + 0.017*\"null\"')\n",
      "Saved topic modeling for GitHub to /Users/tnathu-ai/VSCode/Government-Digital-Transformation/data/intermediate/analysis/github_topic_modeling.txt\n",
      "Saved qualitative analysis for GitHub to /Users/tnathu-ai/VSCode/Government-Digital-Transformation/data/intermediate/analysis/github_qualitative_analysis.txt\n",
      "Saved time series visualization for GitHub - Topic: var  eulondon  function  to /Users/tnathu-ai/VSCode/Government-Digital-Transformation/assets/images/github_time_series_analysis_var  eulondon  function .png\n",
      "Saved time series visualization for GitHub - Topic: div  script  typetextjavascript  to /Users/tnathu-ai/VSCode/Government-Digital-Transformation/assets/images/github_time_series_analysis_div  script  typetextjavascript .png\n",
      "Saved time series visualization for GitHub - Topic: var  eulondon  function  to /Users/tnathu-ai/VSCode/Government-Digital-Transformation/assets/images/github_time_series_analysis_var  eulondon  function .png\n",
      "Saved time series visualization for GitHub - Topic: var  function  eulondon  to /Users/tnathu-ai/VSCode/Government-Digital-Transformation/assets/images/github_time_series_analysis_var  function  eulondon .png\n",
      "Saved time series visualization for GitHub - Topic: eulondon  var  function  to /Users/tnathu-ai/VSCode/Government-Digital-Transformation/assets/images/github_time_series_analysis_eulondon  var  function .png\n",
      "Saved sentiment analysis for GitHub to /Users/tnathu-ai/VSCode/Government-Digital-Transformation/data/intermediate/analysis/github_sentiment_analysis.txt\n",
      "Extracted Topic: (0, '0.048*\"location\" + 0.048*\"crime\" + 0.048*\"analysing\" + 0.048*\"suburbs\" + 0.048*\"australia\"')\n",
      "Extracted Topic: (1, '0.048*\"location\" + 0.048*\"crime\" + 0.048*\"analysing\" + 0.048*\"suburbs\" + 0.048*\"australia\"')\n",
      "Extracted Topic: (2, '0.113*\"crime\" + 0.113*\"location\" + 0.113*\"rate\" + 0.113*\"basis\" + 0.113*\"prices\"')\n",
      "Extracted Topic: (3, '0.048*\"location\" + 0.048*\"crime\" + 0.048*\"analysing\" + 0.048*\"suburbs\" + 0.048*\"australia\"')\n",
      "Extracted Topic: (4, '0.085*\"cheap\" + 0.085*\"ideal\" + 0.085*\"project\" + 0.085*\"buy\" + 0.085*\"investigate\"')\n",
      "Saved topic modeling for GitHub to /Users/tnathu-ai/VSCode/Government-Digital-Transformation/data/intermediate/analysis/github_topic_modeling.txt\n",
      "Saved qualitative analysis for GitHub to /Users/tnathu-ai/VSCode/Government-Digital-Transformation/data/intermediate/analysis/github_qualitative_analysis.txt\n",
      "Saved time series visualization for GitHub - Topic: location  crime  analysing  to /Users/tnathu-ai/VSCode/Government-Digital-Transformation/assets/images/github_time_series_analysis_location  crime  analysing .png\n",
      "Saved time series visualization for GitHub - Topic: location  crime  analysing  to /Users/tnathu-ai/VSCode/Government-Digital-Transformation/assets/images/github_time_series_analysis_location  crime  analysing .png\n",
      "Saved time series visualization for GitHub - Topic: crime  location  rate  to /Users/tnathu-ai/VSCode/Government-Digital-Transformation/assets/images/github_time_series_analysis_crime  location  rate .png\n",
      "Saved time series visualization for GitHub - Topic: location  crime  analysing  to /Users/tnathu-ai/VSCode/Government-Digital-Transformation/assets/images/github_time_series_analysis_location  crime  analysing .png\n",
      "Saved time series visualization for GitHub - Topic: cheap  ideal  project  to /Users/tnathu-ai/VSCode/Government-Digital-Transformation/assets/images/github_time_series_analysis_cheap  ideal  project .png\n"
     ]
    },
    {
     "name": "stderr",
     "output_type": "stream",
     "text": [
      "<timed exec>:63: SettingWithCopyWarning: \n",
      "A value is trying to be set on a copy of a slice from a DataFrame.\n",
      "Try using .loc[row_indexer,col_indexer] = value instead\n",
      "\n",
      "See the caveats in the documentation: https://pandas.pydata.org/pandas-docs/stable/user_guide/indexing.html#returning-a-view-versus-a-copy\n"
     ]
    },
    {
     "name": "stdout",
     "output_type": "stream",
     "text": [
      "Saved sentiment analysis for GitHub to /Users/tnathu-ai/VSCode/Government-Digital-Transformation/data/intermediate/analysis/github_sentiment_analysis.txt\n",
      "Extracted Topic: (0, '0.053*\"variables\" + 0.043*\"variable\" + 0.036*\"value\" + 0.023*\"ie\" + 0.023*\"data\"')\n",
      "Extracted Topic: (1, '0.007*\"variables\" + 0.007*\"variable\" + 0.007*\"value\" + 0.007*\"categorical\" + 0.007*\"examples\"')\n",
      "Extracted Topic: (2, '0.007*\"variables\" + 0.007*\"variable\" + 0.007*\"value\" + 0.007*\"include\" + 0.007*\"data\"')\n",
      "Extracted Topic: (3, '0.007*\"variables\" + 0.007*\"value\" + 0.007*\"ie\" + 0.007*\"variable\" + 0.007*\"include\"')\n",
      "Extracted Topic: (4, '0.007*\"variables\" + 0.007*\"variable\" + 0.007*\"value\" + 0.007*\"data\" + 0.007*\"may\"')\n",
      "Saved topic modeling for GitHub to /Users/tnathu-ai/VSCode/Government-Digital-Transformation/data/intermediate/analysis/github_topic_modeling.txt\n",
      "Saved qualitative analysis for GitHub to /Users/tnathu-ai/VSCode/Government-Digital-Transformation/data/intermediate/analysis/github_qualitative_analysis.txt\n",
      "Saved time series visualization for GitHub - Topic: variables  variable  value  to /Users/tnathu-ai/VSCode/Government-Digital-Transformation/assets/images/github_time_series_analysis_variables  variable  value .png\n",
      "Saved time series visualization for GitHub - Topic: variables  variable  value  to /Users/tnathu-ai/VSCode/Government-Digital-Transformation/assets/images/github_time_series_analysis_variables  variable  value .png\n",
      "Saved time series visualization for GitHub - Topic: variables  variable  value  to /Users/tnathu-ai/VSCode/Government-Digital-Transformation/assets/images/github_time_series_analysis_variables  variable  value .png\n",
      "Saved time series visualization for GitHub - Topic: variables  value  ie  to /Users/tnathu-ai/VSCode/Government-Digital-Transformation/assets/images/github_time_series_analysis_variables  value  ie .png\n",
      "Saved time series visualization for GitHub - Topic: variables  variable  value  to /Users/tnathu-ai/VSCode/Government-Digital-Transformation/assets/images/github_time_series_analysis_variables  variable  value .png\n",
      "Saved sentiment analysis for GitHub to /Users/tnathu-ai/VSCode/Government-Digital-Transformation/data/intermediate/analysis/github_sentiment_analysis.txt\n",
      "Extracted Topic: (0, '0.053*\"australia\" + 0.053*\"energy\" + 0.053*\"given\" + 0.053*\"clean\" + 0.053*\"gave\"')\n",
      "Extracted Topic: (1, '0.053*\"australia\" + 0.053*\"school\" + 0.053*\"wind\" + 0.053*\"gave\" + 0.053*\"data\"')\n",
      "Extracted Topic: (2, '0.053*\"australia\" + 0.053*\"school\" + 0.053*\"solar\" + 0.053*\"data\" + 0.053*\"speed\"')\n",
      "Extracted Topic: (3, '0.101*\"australia\" + 0.071*\"energy\" + 0.052*\"proposal\" + 0.052*\"various\" + 0.052*\"usage\"')\n",
      "Extracted Topic: (4, '0.053*\"school\" + 0.053*\"data\" + 0.053*\"replacing\" + 0.053*\"solar\" + 0.053*\"project\"')\n",
      "Saved topic modeling for GitHub to /Users/tnathu-ai/VSCode/Government-Digital-Transformation/data/intermediate/analysis/github_topic_modeling.txt\n",
      "Saved qualitative analysis for GitHub to /Users/tnathu-ai/VSCode/Government-Digital-Transformation/data/intermediate/analysis/github_qualitative_analysis.txt\n",
      "Saved time series visualization for GitHub - Topic: australia  energy  given  to /Users/tnathu-ai/VSCode/Government-Digital-Transformation/assets/images/github_time_series_analysis_australia  energy  given .png\n",
      "Saved time series visualization for GitHub - Topic: australia  school  wind  to /Users/tnathu-ai/VSCode/Government-Digital-Transformation/assets/images/github_time_series_analysis_australia  school  wind .png\n",
      "Saved time series visualization for GitHub - Topic: australia  school  solar  to /Users/tnathu-ai/VSCode/Government-Digital-Transformation/assets/images/github_time_series_analysis_australia  school  solar .png\n",
      "Saved time series visualization for GitHub - Topic: australia  energy  proposal  to /Users/tnathu-ai/VSCode/Government-Digital-Transformation/assets/images/github_time_series_analysis_australia  energy  proposal .png\n",
      "Saved time series visualization for GitHub - Topic: school  data  replacing  to /Users/tnathu-ai/VSCode/Government-Digital-Transformation/assets/images/github_time_series_analysis_school  data  replacing .png\n",
      "Saved sentiment analysis for GitHub to /Users/tnathu-ai/VSCode/Government-Digital-Transformation/data/intermediate/analysis/github_sentiment_analysis.txt\n",
      "Extracted Topic: (0, '0.040*\"preparedness\" + 0.040*\"water\" + 0.040*\"methods\" + 0.040*\"australia\" + 0.040*\"specific\"')\n",
      "Extracted Topic: (1, '0.043*\"various\" + 0.043*\"disaster\" + 0.043*\"including\" + 0.043*\"precise\" + 0.043*\"australia\"')\n",
      "Extracted Topic: (2, '0.040*\"predictions\" + 0.040*\"sectors\" + 0.040*\"specific\" + 0.040*\"preparedness\" + 0.040*\"agriculture\"')\n",
      "Extracted Topic: (3, '0.040*\"timeframes\" + 0.040*\"accurate\" + 0.040*\"rainfall\" + 0.040*\"locations\" + 0.040*\"predictions\"')\n",
      "Extracted Topic: (4, '0.040*\"various\" + 0.040*\"prediction\" + 0.040*\"management\" + 0.040*\"often\" + 0.040*\"methods\"')\n",
      "Saved topic modeling for GitHub to /Users/tnathu-ai/VSCode/Government-Digital-Transformation/data/intermediate/analysis/github_topic_modeling.txt\n",
      "Saved qualitative analysis for GitHub to /Users/tnathu-ai/VSCode/Government-Digital-Transformation/data/intermediate/analysis/github_qualitative_analysis.txt\n",
      "Saved time series visualization for GitHub - Topic: preparedness  water  methods  to /Users/tnathu-ai/VSCode/Government-Digital-Transformation/assets/images/github_time_series_analysis_preparedness  water  methods .png\n",
      "Saved time series visualization for GitHub - Topic: various  disaster  including  to /Users/tnathu-ai/VSCode/Government-Digital-Transformation/assets/images/github_time_series_analysis_various  disaster  including .png\n",
      "Saved time series visualization for GitHub - Topic: predictions  sectors  specific  to /Users/tnathu-ai/VSCode/Government-Digital-Transformation/assets/images/github_time_series_analysis_predictions  sectors  specific .png\n",
      "Saved time series visualization for GitHub - Topic: timeframes  accurate  rainfall  to /Users/tnathu-ai/VSCode/Government-Digital-Transformation/assets/images/github_time_series_analysis_timeframes  accurate  rainfall .png\n",
      "Saved time series visualization for GitHub - Topic: various  prediction  management  to /Users/tnathu-ai/VSCode/Government-Digital-Transformation/assets/images/github_time_series_analysis_various  prediction  management .png\n",
      "Saved sentiment analysis for GitHub to /Users/tnathu-ai/VSCode/Government-Digital-Transformation/data/intermediate/analysis/github_sentiment_analysis.txt\n",
      "Extracted Topic: (0, '0.004*\"market\" + 0.004*\"taxi\" + 0.004*\"booking\" + 0.004*\"type\" + 0.004*\"uber\"')\n",
      "Extracted Topic: (1, '0.004*\"market\" + 0.004*\"taxi\" + 0.004*\"booking\" + 0.004*\"type\" + 0.004*\"vehicle\"')\n",
      "Extracted Topic: (2, '0.047*\"market\" + 0.022*\"taxi\" + 0.021*\"booking\" + 0.020*\"type\" + 0.013*\"uber\"')\n",
      "Extracted Topic: (3, '0.004*\"market\" + 0.004*\"taxi\" + 0.004*\"booking\" + 0.004*\"type\" + 0.004*\"based\"')\n",
      "Extracted Topic: (4, '0.004*\"market\" + 0.004*\"booking\" + 0.004*\"type\" + 0.004*\"taxi\" + 0.004*\"service\"')\n",
      "Saved topic modeling for GitHub to /Users/tnathu-ai/VSCode/Government-Digital-Transformation/data/intermediate/analysis/github_topic_modeling.txt\n",
      "Saved qualitative analysis for GitHub to /Users/tnathu-ai/VSCode/Government-Digital-Transformation/data/intermediate/analysis/github_qualitative_analysis.txt\n",
      "Saved time series visualization for GitHub - Topic: market  taxi  booking  to /Users/tnathu-ai/VSCode/Government-Digital-Transformation/assets/images/github_time_series_analysis_market  taxi  booking .png\n",
      "Saved time series visualization for GitHub - Topic: market  taxi  booking  to /Users/tnathu-ai/VSCode/Government-Digital-Transformation/assets/images/github_time_series_analysis_market  taxi  booking .png\n",
      "Saved time series visualization for GitHub - Topic: market  taxi  booking  to /Users/tnathu-ai/VSCode/Government-Digital-Transformation/assets/images/github_time_series_analysis_market  taxi  booking .png\n",
      "Saved time series visualization for GitHub - Topic: market  taxi  booking  to /Users/tnathu-ai/VSCode/Government-Digital-Transformation/assets/images/github_time_series_analysis_market  taxi  booking .png\n",
      "Saved time series visualization for GitHub - Topic: market  booking  type  to /Users/tnathu-ai/VSCode/Government-Digital-Transformation/assets/images/github_time_series_analysis_market  booking  type .png\n",
      "Saved sentiment analysis for GitHub to /Users/tnathu-ai/VSCode/Government-Digital-Transformation/data/intermediate/analysis/github_sentiment_analysis.txt\n",
      "Extracted Topic: (0, '0.004*\"based\" + 0.004*\"detection\" + 0.004*\"framework\" + 0.004*\"data\" + 0.004*\"security\"')\n",
      "Extracted Topic: (1, '0.020*\"based\" + 0.017*\"framework\" + 0.016*\"detection\" + 0.015*\"data\" + 0.013*\"intrusion\"')\n",
      "Extracted Topic: (2, '0.004*\"based\" + 0.004*\"detection\" + 0.004*\"framework\" + 0.004*\"data\" + 0.004*\"intrusion\"')\n",
      "Extracted Topic: (3, '0.004*\"detection\" + 0.004*\"based\" + 0.004*\"framework\" + 0.004*\"data\" + 0.004*\"intrusion\"')\n",
      "Extracted Topic: (4, '0.004*\"based\" + 0.004*\"data\" + 0.004*\"framework\" + 0.004*\"different\" + 0.004*\"security\"')\n",
      "Saved topic modeling for GitHub to /Users/tnathu-ai/VSCode/Government-Digital-Transformation/data/intermediate/analysis/github_topic_modeling.txt\n",
      "Saved qualitative analysis for GitHub to /Users/tnathu-ai/VSCode/Government-Digital-Transformation/data/intermediate/analysis/github_qualitative_analysis.txt\n",
      "Saved time series visualization for GitHub - Topic: based  detection  framework  to /Users/tnathu-ai/VSCode/Government-Digital-Transformation/assets/images/github_time_series_analysis_based  detection  framework .png\n",
      "Saved time series visualization for GitHub - Topic: based  framework  detection  to /Users/tnathu-ai/VSCode/Government-Digital-Transformation/assets/images/github_time_series_analysis_based  framework  detection .png\n",
      "Saved time series visualization for GitHub - Topic: based  detection  framework  to /Users/tnathu-ai/VSCode/Government-Digital-Transformation/assets/images/github_time_series_analysis_based  detection  framework .png\n",
      "Saved time series visualization for GitHub - Topic: detection  based  framework  to /Users/tnathu-ai/VSCode/Government-Digital-Transformation/assets/images/github_time_series_analysis_detection  based  framework .png\n",
      "Saved time series visualization for GitHub - Topic: based  data  framework  to /Users/tnathu-ai/VSCode/Government-Digital-Transformation/assets/images/github_time_series_analysis_based  data  framework .png\n",
      "Saved sentiment analysis for GitHub to /Users/tnathu-ai/VSCode/Government-Digital-Transformation/data/intermediate/analysis/github_sentiment_analysis.txt\n",
      "Extracted Topic: (0, '0.005*\"study\" + 0.005*\"abroad\" + 0.005*\"engineering\" + 0.005*\"top\" + 0.005*\"nation\"')\n",
      "Extracted Topic: (1, '0.005*\"study\" + 0.005*\"abroad\" + 0.005*\"engineering\" + 0.005*\"students\" + 0.005*\"nation\"')\n",
      "Extracted Topic: (2, '0.005*\"study\" + 0.005*\"abroad\" + 0.005*\"engineering\" + 0.005*\"mba\" + 0.005*\"students\"')\n",
      "Extracted Topic: (3, '0.005*\"study\" + 0.005*\"abroad\" + 0.005*\"also\" + 0.005*\"engineering\" + 0.005*\"programmes\"')\n",
      "Extracted Topic: (4, '0.032*\"study\" + 0.029*\"abroad\" + 0.014*\"phd\" + 0.014*\"programmes\" + 0.014*\"top\"')\n",
      "Saved topic modeling for GitHub to /Users/tnathu-ai/VSCode/Government-Digital-Transformation/data/intermediate/analysis/github_topic_modeling.txt\n",
      "Saved qualitative analysis for GitHub to /Users/tnathu-ai/VSCode/Government-Digital-Transformation/data/intermediate/analysis/github_qualitative_analysis.txt\n",
      "Saved time series visualization for GitHub - Topic: study  abroad  engineering  to /Users/tnathu-ai/VSCode/Government-Digital-Transformation/assets/images/github_time_series_analysis_study  abroad  engineering .png\n",
      "Saved time series visualization for GitHub - Topic: study  abroad  engineering  to /Users/tnathu-ai/VSCode/Government-Digital-Transformation/assets/images/github_time_series_analysis_study  abroad  engineering .png\n",
      "Saved time series visualization for GitHub - Topic: study  abroad  engineering  to /Users/tnathu-ai/VSCode/Government-Digital-Transformation/assets/images/github_time_series_analysis_study  abroad  engineering .png\n",
      "Saved time series visualization for GitHub - Topic: study  abroad  also  to /Users/tnathu-ai/VSCode/Government-Digital-Transformation/assets/images/github_time_series_analysis_study  abroad  also .png\n",
      "Saved time series visualization for GitHub - Topic: study  abroad  phd  to /Users/tnathu-ai/VSCode/Government-Digital-Transformation/assets/images/github_time_series_analysis_study  abroad  phd .png\n",
      "Saved sentiment analysis for GitHub to /Users/tnathu-ai/VSCode/Government-Digital-Transformation/data/intermediate/analysis/github_sentiment_analysis.txt\n",
      "Extracted Topic: (0, '0.047*\"market\" + 0.022*\"taxi\" + 0.021*\"booking\" + 0.020*\"type\" + 0.013*\"uber\"')\n",
      "Extracted Topic: (1, '0.004*\"market\" + 0.004*\"booking\" + 0.004*\"taxi\" + 0.004*\"type\" + 0.004*\"uber\"')\n",
      "Extracted Topic: (2, '0.004*\"market\" + 0.004*\"booking\" + 0.004*\"type\" + 0.004*\"taxi\" + 0.004*\"uber\"')\n",
      "Extracted Topic: (3, '0.004*\"market\" + 0.004*\"taxi\" + 0.004*\"type\" + 0.004*\"booking\" + 0.004*\"service\"')\n",
      "Extracted Topic: (4, '0.004*\"market\" + 0.004*\"taxi\" + 0.004*\"type\" + 0.004*\"booking\" + 0.004*\"uber\"')\n",
      "Saved topic modeling for GitHub to /Users/tnathu-ai/VSCode/Government-Digital-Transformation/data/intermediate/analysis/github_topic_modeling.txt\n",
      "Saved qualitative analysis for GitHub to /Users/tnathu-ai/VSCode/Government-Digital-Transformation/data/intermediate/analysis/github_qualitative_analysis.txt\n",
      "Saved time series visualization for GitHub - Topic: market  taxi  booking  to /Users/tnathu-ai/VSCode/Government-Digital-Transformation/assets/images/github_time_series_analysis_market  taxi  booking .png\n",
      "Saved time series visualization for GitHub - Topic: market  booking  taxi  to /Users/tnathu-ai/VSCode/Government-Digital-Transformation/assets/images/github_time_series_analysis_market  booking  taxi .png\n",
      "Saved time series visualization for GitHub - Topic: market  booking  type  to /Users/tnathu-ai/VSCode/Government-Digital-Transformation/assets/images/github_time_series_analysis_market  booking  type .png\n",
      "Saved time series visualization for GitHub - Topic: market  taxi  type  to /Users/tnathu-ai/VSCode/Government-Digital-Transformation/assets/images/github_time_series_analysis_market  taxi  type .png\n",
      "Saved time series visualization for GitHub - Topic: market  taxi  type  to /Users/tnathu-ai/VSCode/Government-Digital-Transformation/assets/images/github_time_series_analysis_market  taxi  type .png\n",
      "Saved sentiment analysis for GitHub to /Users/tnathu-ai/VSCode/Government-Digital-Transformation/data/intermediate/analysis/github_sentiment_analysis.txt\n",
      "Extracted Topic: (0, '0.046*\"var\" + 0.025*\"eulondon\" + 0.023*\"function\" + 0.013*\"null\" + 0.012*\"jptokyo\"')\n",
      "Extracted Topic: (1, '0.000*\"var\" + 0.000*\"eulondon\" + 0.000*\"function\" + 0.000*\"null\" + 0.000*\"jptokyo\"')\n",
      "Extracted Topic: (2, '0.000*\"var\" + 0.000*\"eulondon\" + 0.000*\"function\" + 0.000*\"null\" + 0.000*\"usatlanta\"')\n",
      "Extracted Topic: (3, '0.000*\"var\" + 0.000*\"eulondon\" + 0.000*\"function\" + 0.000*\"null\" + 0.000*\"usatlanta\"')\n",
      "Extracted Topic: (4, '0.040*\"eulondon\" + 0.037*\"var\" + 0.032*\"function\" + 0.018*\"jptokyo\" + 0.017*\"null\"')\n",
      "Saved topic modeling for GitHub to /Users/tnathu-ai/VSCode/Government-Digital-Transformation/data/intermediate/analysis/github_topic_modeling.txt\n",
      "Saved qualitative analysis for GitHub to /Users/tnathu-ai/VSCode/Government-Digital-Transformation/data/intermediate/analysis/github_qualitative_analysis.txt\n",
      "Saved time series visualization for GitHub - Topic: var  eulondon  function  to /Users/tnathu-ai/VSCode/Government-Digital-Transformation/assets/images/github_time_series_analysis_var  eulondon  function .png\n",
      "Saved time series visualization for GitHub - Topic: var  eulondon  function  to /Users/tnathu-ai/VSCode/Government-Digital-Transformation/assets/images/github_time_series_analysis_var  eulondon  function .png\n",
      "Saved time series visualization for GitHub - Topic: var  eulondon  function  to /Users/tnathu-ai/VSCode/Government-Digital-Transformation/assets/images/github_time_series_analysis_var  eulondon  function .png\n",
      "Saved time series visualization for GitHub - Topic: var  eulondon  function  to /Users/tnathu-ai/VSCode/Government-Digital-Transformation/assets/images/github_time_series_analysis_var  eulondon  function .png\n",
      "Saved time series visualization for GitHub - Topic: eulondon  var  function  to /Users/tnathu-ai/VSCode/Government-Digital-Transformation/assets/images/github_time_series_analysis_eulondon  var  function .png\n",
      "Saved sentiment analysis for GitHub to /Users/tnathu-ai/VSCode/Government-Digital-Transformation/data/intermediate/analysis/github_sentiment_analysis.txt\n",
      "Extracted Topic: (0, '0.020*\"none\" + 0.015*\"import\" + 0.013*\"true\" + 0.011*\"false\" + 0.010*\"webroot\"')\n",
      "Extracted Topic: (1, '0.001*\"div\" + 0.001*\"script\" + 0.001*\"none\" + 0.001*\"true\" + 0.001*\"import\"')\n",
      "Extracted Topic: (2, '0.061*\"div\" + 0.029*\"script\" + 0.011*\"typetextjavascript\" + 0.010*\"jquery\" + 0.007*\"jqueryprivate\"')\n",
      "Extracted Topic: (3, '0.001*\"div\" + 0.001*\"none\" + 0.001*\"true\" + 0.001*\"script\" + 0.001*\"false\"')\n",
      "Extracted Topic: (4, '0.001*\"div\" + 0.001*\"script\" + 0.001*\"none\" + 0.001*\"true\" + 0.001*\"import\"')\n",
      "Saved topic modeling for GitHub to /Users/tnathu-ai/VSCode/Government-Digital-Transformation/data/intermediate/analysis/github_topic_modeling.txt\n",
      "Saved qualitative analysis for GitHub to /Users/tnathu-ai/VSCode/Government-Digital-Transformation/data/intermediate/analysis/github_qualitative_analysis.txt\n",
      "Saved time series visualization for GitHub - Topic: none  import  true  to /Users/tnathu-ai/VSCode/Government-Digital-Transformation/assets/images/github_time_series_analysis_none  import  true .png\n",
      "Saved time series visualization for GitHub - Topic: div  script  none  to /Users/tnathu-ai/VSCode/Government-Digital-Transformation/assets/images/github_time_series_analysis_div  script  none .png\n",
      "Saved time series visualization for GitHub - Topic: div  script  typetextjavascript  to /Users/tnathu-ai/VSCode/Government-Digital-Transformation/assets/images/github_time_series_analysis_div  script  typetextjavascript .png\n",
      "Saved time series visualization for GitHub - Topic: div  none  true  to /Users/tnathu-ai/VSCode/Government-Digital-Transformation/assets/images/github_time_series_analysis_div  none  true .png\n",
      "Saved time series visualization for GitHub - Topic: div  script  none  to /Users/tnathu-ai/VSCode/Government-Digital-Transformation/assets/images/github_time_series_analysis_div  script  none .png\n",
      "Saved sentiment analysis for GitHub to /Users/tnathu-ai/VSCode/Government-Digital-Transformation/data/intermediate/analysis/github_sentiment_analysis.txt\n",
      "Extracted Topic: (0, '0.067*\"create\" + 0.067*\"fauna\" + 0.067*\"uses\" + 0.067*\"flora\" + 0.067*\"app\"')\n",
      "Extracted Topic: (1, '0.067*\"location\" + 0.067*\"govhack\" + 0.067*\"2013\" + 0.067*\"given\" + 0.067*\"project\"')\n",
      "Extracted Topic: (2, '0.067*\"location\" + 0.067*\"govhack\" + 0.067*\"2013\" + 0.067*\"given\" + 0.067*\"project\"')\n",
      "Extracted Topic: (3, '0.136*\"create\" + 0.069*\"atlas\" + 0.069*\"project\" + 0.069*\"australia\" + 0.069*\"lists\"')\n",
      "Extracted Topic: (4, '0.067*\"location\" + 0.067*\"govhack\" + 0.067*\"2013\" + 0.067*\"given\" + 0.067*\"project\"')\n",
      "Saved topic modeling for GitHub to /Users/tnathu-ai/VSCode/Government-Digital-Transformation/data/intermediate/analysis/github_topic_modeling.txt\n",
      "Saved qualitative analysis for GitHub to /Users/tnathu-ai/VSCode/Government-Digital-Transformation/data/intermediate/analysis/github_qualitative_analysis.txt\n",
      "Saved time series visualization for GitHub - Topic: create  fauna  uses  to /Users/tnathu-ai/VSCode/Government-Digital-Transformation/assets/images/github_time_series_analysis_create  fauna  uses .png\n",
      "Saved time series visualization for GitHub - Topic: location  govhack  2013  to /Users/tnathu-ai/VSCode/Government-Digital-Transformation/assets/images/github_time_series_analysis_location  govhack  2013 .png\n",
      "Saved time series visualization for GitHub - Topic: location  govhack  2013  to /Users/tnathu-ai/VSCode/Government-Digital-Transformation/assets/images/github_time_series_analysis_location  govhack  2013 .png\n",
      "Saved time series visualization for GitHub - Topic: create  atlas  project  to /Users/tnathu-ai/VSCode/Government-Digital-Transformation/assets/images/github_time_series_analysis_create  atlas  project .png\n",
      "Saved time series visualization for GitHub - Topic: location  govhack  2013  to /Users/tnathu-ai/VSCode/Government-Digital-Transformation/assets/images/github_time_series_analysis_location  govhack  2013 .png\n",
      "Saved sentiment analysis for GitHub to /Users/tnathu-ai/VSCode/Government-Digital-Transformation/data/intermediate/analysis/github_sentiment_analysis.txt\n",
      "Extracted Topic: (0, '0.002*\"div\" + 0.002*\"script\" + 0.002*\"typetextjavascript\" + 0.002*\"jqueryprivate\" + 0.002*\"jquery\"')\n",
      "Extracted Topic: (1, '0.002*\"div\" + 0.002*\"script\" + 0.002*\"typetextjavascript\" + 0.002*\"jquery\" + 0.002*\"var\"')\n",
      "Extracted Topic: (2, '0.002*\"div\" + 0.002*\"script\" + 0.002*\"typetextjavascript\" + 0.002*\"jquery\" + 0.002*\"function\"')\n",
      "Extracted Topic: (3, '0.063*\"div\" + 0.030*\"script\" + 0.011*\"typetextjavascript\" + 0.010*\"jquery\" + 0.007*\"jqueryprivate\"')\n",
      "Extracted Topic: (4, '0.002*\"div\" + 0.002*\"script\" + 0.002*\"typetextjavascript\" + 0.002*\"meta\" + 0.002*\"var\"')\n",
      "Saved topic modeling for GitHub to /Users/tnathu-ai/VSCode/Government-Digital-Transformation/data/intermediate/analysis/github_topic_modeling.txt\n",
      "Saved qualitative analysis for GitHub to /Users/tnathu-ai/VSCode/Government-Digital-Transformation/data/intermediate/analysis/github_qualitative_analysis.txt\n",
      "Saved time series visualization for GitHub - Topic: div  script  typetextjavascript  to /Users/tnathu-ai/VSCode/Government-Digital-Transformation/assets/images/github_time_series_analysis_div  script  typetextjavascript .png\n",
      "Saved time series visualization for GitHub - Topic: div  script  typetextjavascript  to /Users/tnathu-ai/VSCode/Government-Digital-Transformation/assets/images/github_time_series_analysis_div  script  typetextjavascript .png\n",
      "Saved time series visualization for GitHub - Topic: div  script  typetextjavascript  to /Users/tnathu-ai/VSCode/Government-Digital-Transformation/assets/images/github_time_series_analysis_div  script  typetextjavascript .png\n",
      "Saved time series visualization for GitHub - Topic: div  script  typetextjavascript  to /Users/tnathu-ai/VSCode/Government-Digital-Transformation/assets/images/github_time_series_analysis_div  script  typetextjavascript .png\n",
      "Saved time series visualization for GitHub - Topic: div  script  typetextjavascript  to /Users/tnathu-ai/VSCode/Government-Digital-Transformation/assets/images/github_time_series_analysis_div  script  typetextjavascript .png\n",
      "Saved sentiment analysis for GitHub to /Users/tnathu-ai/VSCode/Government-Digital-Transformation/data/intermediate/analysis/github_sentiment_analysis.txt\n",
      "Extracted Topic: (0, '0.008*\"medical\" + 0.008*\"russian\" + 0.008*\"international\" + 0.008*\"students\" + 0.008*\"universities\"')\n",
      "Extracted Topic: (1, '0.055*\"medical\" + 0.044*\"international\" + 0.033*\"russian\" + 0.031*\"students\" + 0.030*\"universities\"')\n",
      "Extracted Topic: (2, '0.008*\"medical\" + 0.008*\"students\" + 0.008*\"international\" + 0.008*\"russian\" + 0.008*\"universities\"')\n",
      "Extracted Topic: (3, '0.008*\"medical\" + 0.008*\"international\" + 0.008*\"universities\" + 0.008*\"students\" + 0.008*\"russian\"')\n",
      "Extracted Topic: (4, '0.008*\"medical\" + 0.008*\"international\" + 0.008*\"russian\" + 0.008*\"students\" + 0.008*\"universities\"')\n",
      "Saved topic modeling for GitHub to /Users/tnathu-ai/VSCode/Government-Digital-Transformation/data/intermediate/analysis/github_topic_modeling.txt\n",
      "Saved qualitative analysis for GitHub to /Users/tnathu-ai/VSCode/Government-Digital-Transformation/data/intermediate/analysis/github_qualitative_analysis.txt\n",
      "Saved time series visualization for GitHub - Topic: medical  russian  international  to /Users/tnathu-ai/VSCode/Government-Digital-Transformation/assets/images/github_time_series_analysis_medical  russian  international .png\n",
      "Saved time series visualization for GitHub - Topic: medical  international  russian  to /Users/tnathu-ai/VSCode/Government-Digital-Transformation/assets/images/github_time_series_analysis_medical  international  russian .png\n",
      "Saved time series visualization for GitHub - Topic: medical  students  international  to /Users/tnathu-ai/VSCode/Government-Digital-Transformation/assets/images/github_time_series_analysis_medical  students  international .png\n",
      "Saved time series visualization for GitHub - Topic: medical  international  universities  to /Users/tnathu-ai/VSCode/Government-Digital-Transformation/assets/images/github_time_series_analysis_medical  international  universities .png\n",
      "Saved time series visualization for GitHub - Topic: medical  international  russian  to /Users/tnathu-ai/VSCode/Government-Digital-Transformation/assets/images/github_time_series_analysis_medical  international  russian .png\n",
      "Saved sentiment analysis for GitHub to /Users/tnathu-ai/VSCode/Government-Digital-Transformation/data/intermediate/analysis/github_sentiment_analysis.txt\n",
      "Extracted Topic: (0, '0.002*\"none\" + 0.002*\"import\" + 0.002*\"true\" + 0.002*\"name\" + 0.002*\"webroot\"')\n",
      "Extracted Topic: (1, '0.002*\"none\" + 0.002*\"true\" + 0.002*\"import\" + 0.002*\"false\" + 0.002*\"webroot\"')\n",
      "Extracted Topic: (2, '0.002*\"none\" + 0.002*\"import\" + 0.002*\"true\" + 0.002*\"false\" + 0.002*\"default\"')\n",
      "Extracted Topic: (3, '0.002*\"none\" + 0.002*\"import\" + 0.002*\"false\" + 0.002*\"true\" + 0.002*\"image\"')\n",
      "Extracted Topic: (4, '0.020*\"none\" + 0.015*\"import\" + 0.013*\"true\" + 0.011*\"false\" + 0.010*\"webroot\"')\n",
      "Saved topic modeling for GitHub to /Users/tnathu-ai/VSCode/Government-Digital-Transformation/data/intermediate/analysis/github_topic_modeling.txt\n",
      "Saved qualitative analysis for GitHub to /Users/tnathu-ai/VSCode/Government-Digital-Transformation/data/intermediate/analysis/github_qualitative_analysis.txt\n",
      "Saved time series visualization for GitHub - Topic: none  import  true  to /Users/tnathu-ai/VSCode/Government-Digital-Transformation/assets/images/github_time_series_analysis_none  import  true .png\n",
      "Saved time series visualization for GitHub - Topic: none  true  import  to /Users/tnathu-ai/VSCode/Government-Digital-Transformation/assets/images/github_time_series_analysis_none  true  import .png\n",
      "Saved time series visualization for GitHub - Topic: none  import  true  to /Users/tnathu-ai/VSCode/Government-Digital-Transformation/assets/images/github_time_series_analysis_none  import  true .png\n",
      "Saved time series visualization for GitHub - Topic: none  import  false  to /Users/tnathu-ai/VSCode/Government-Digital-Transformation/assets/images/github_time_series_analysis_none  import  false .png\n",
      "Saved time series visualization for GitHub - Topic: none  import  true  to /Users/tnathu-ai/VSCode/Government-Digital-Transformation/assets/images/github_time_series_analysis_none  import  true .png\n",
      "Saved sentiment analysis for GitHub to /Users/tnathu-ai/VSCode/Government-Digital-Transformation/data/intermediate/analysis/github_sentiment_analysis.txt\n",
      "Extracted Topic: (0, '0.030*\"study\" + 0.027*\"abroad\" + 0.014*\"engineering\" + 0.014*\"programmes\" + 0.014*\"phd\"')\n",
      "Extracted Topic: (1, '0.050*\"medical\" + 0.040*\"international\" + 0.030*\"russian\" + 0.028*\"students\" + 0.027*\"universities\"')\n",
      "Extracted Topic: (2, '0.032*\"test\" + 0.032*\"ielts\" + 0.016*\"speaking\" + 0.016*\"writing\" + 0.014*\"academic\"')\n",
      "Extracted Topic: (3, '0.002*\"test\" + 0.002*\"ielts\" + 0.002*\"study\" + 0.002*\"academic\" + 0.002*\"students\"')\n",
      "Extracted Topic: (4, '0.002*\"test\" + 0.002*\"ielts\" + 0.002*\"study\" + 0.002*\"abroad\" + 0.002*\"students\"')\n",
      "Saved topic modeling for GitHub to /Users/tnathu-ai/VSCode/Government-Digital-Transformation/data/intermediate/analysis/github_topic_modeling.txt\n",
      "Saved qualitative analysis for GitHub to /Users/tnathu-ai/VSCode/Government-Digital-Transformation/data/intermediate/analysis/github_qualitative_analysis.txt\n",
      "Saved time series visualization for GitHub - Topic: study  abroad  engineering  to /Users/tnathu-ai/VSCode/Government-Digital-Transformation/assets/images/github_time_series_analysis_study  abroad  engineering .png\n",
      "Saved time series visualization for GitHub - Topic: medical  international  russian  to /Users/tnathu-ai/VSCode/Government-Digital-Transformation/assets/images/github_time_series_analysis_medical  international  russian .png\n",
      "Saved time series visualization for GitHub - Topic: test  ielts  speaking  to /Users/tnathu-ai/VSCode/Government-Digital-Transformation/assets/images/github_time_series_analysis_test  ielts  speaking .png\n"
     ]
    },
    {
     "name": "stderr",
     "output_type": "stream",
     "text": [
      "<timed exec>:63: SettingWithCopyWarning: \n",
      "A value is trying to be set on a copy of a slice from a DataFrame.\n",
      "Try using .loc[row_indexer,col_indexer] = value instead\n",
      "\n",
      "See the caveats in the documentation: https://pandas.pydata.org/pandas-docs/stable/user_guide/indexing.html#returning-a-view-versus-a-copy\n"
     ]
    },
    {
     "name": "stdout",
     "output_type": "stream",
     "text": [
      "Saved time series visualization for GitHub - Topic: test  ielts  study  to /Users/tnathu-ai/VSCode/Government-Digital-Transformation/assets/images/github_time_series_analysis_test  ielts  study .png\n",
      "Saved time series visualization for GitHub - Topic: test  ielts  study  to /Users/tnathu-ai/VSCode/Government-Digital-Transformation/assets/images/github_time_series_analysis_test  ielts  study .png\n",
      "Saved sentiment analysis for GitHub to /Users/tnathu-ai/VSCode/Government-Digital-Transformation/data/intermediate/analysis/github_sentiment_analysis.txt\n",
      "Extracted Topic: (0, '0.002*\"none\" + 0.002*\"import\" + 0.002*\"false\" + 0.002*\"true\" + 0.002*\"default\"')\n",
      "Extracted Topic: (1, '0.002*\"import\" + 0.002*\"none\" + 0.002*\"true\" + 0.002*\"webroot\" + 0.002*\"name\"')\n",
      "Extracted Topic: (2, '0.002*\"none\" + 0.002*\"import\" + 0.002*\"webroot\" + 0.002*\"true\" + 0.002*\"default\"')\n",
      "Extracted Topic: (3, '0.002*\"none\" + 0.002*\"import\" + 0.002*\"true\" + 0.002*\"default\" + 0.002*\"false\"')\n",
      "Extracted Topic: (4, '0.020*\"none\" + 0.015*\"import\" + 0.013*\"true\" + 0.011*\"false\" + 0.010*\"webroot\"')\n",
      "Saved topic modeling for GitHub to /Users/tnathu-ai/VSCode/Government-Digital-Transformation/data/intermediate/analysis/github_topic_modeling.txt\n",
      "Saved qualitative analysis for GitHub to /Users/tnathu-ai/VSCode/Government-Digital-Transformation/data/intermediate/analysis/github_qualitative_analysis.txt\n",
      "Saved time series visualization for GitHub - Topic: none  import  false  to /Users/tnathu-ai/VSCode/Government-Digital-Transformation/assets/images/github_time_series_analysis_none  import  false .png\n",
      "Saved time series visualization for GitHub - Topic: import  none  true  to /Users/tnathu-ai/VSCode/Government-Digital-Transformation/assets/images/github_time_series_analysis_import  none  true .png\n",
      "Saved time series visualization for GitHub - Topic: none  import  webroot  to /Users/tnathu-ai/VSCode/Government-Digital-Transformation/assets/images/github_time_series_analysis_none  import  webroot .png\n",
      "Saved time series visualization for GitHub - Topic: none  import  true  to /Users/tnathu-ai/VSCode/Government-Digital-Transformation/assets/images/github_time_series_analysis_none  import  true .png\n",
      "Saved time series visualization for GitHub - Topic: none  import  true  to /Users/tnathu-ai/VSCode/Government-Digital-Transformation/assets/images/github_time_series_analysis_none  import  true .png\n",
      "Saved sentiment analysis for GitHub to /Users/tnathu-ai/VSCode/Government-Digital-Transformation/data/intermediate/analysis/github_sentiment_analysis.txt\n",
      "Extracted Topic: (0, '0.003*\"market\" + 0.003*\"variables\" + 0.003*\"type\" + 0.003*\"variable\" + 0.003*\"booking\"')\n",
      "Extracted Topic: (1, '0.047*\"market\" + 0.022*\"taxi\" + 0.021*\"booking\" + 0.020*\"type\" + 0.013*\"uber\"')\n",
      "Extracted Topic: (2, '0.003*\"market\" + 0.003*\"booking\" + 0.003*\"taxi\" + 0.003*\"type\" + 0.003*\"service\"')\n",
      "Extracted Topic: (3, '0.003*\"market\" + 0.003*\"variables\" + 0.003*\"variable\" + 0.003*\"type\" + 0.003*\"value\"')\n",
      "Extracted Topic: (4, '0.051*\"variables\" + 0.042*\"variable\" + 0.035*\"value\" + 0.022*\"data\" + 0.022*\"ie\"')\n",
      "Saved topic modeling for GitHub to /Users/tnathu-ai/VSCode/Government-Digital-Transformation/data/intermediate/analysis/github_topic_modeling.txt\n",
      "Saved qualitative analysis for GitHub to /Users/tnathu-ai/VSCode/Government-Digital-Transformation/data/intermediate/analysis/github_qualitative_analysis.txt\n",
      "Saved time series visualization for GitHub - Topic: market  variables  type  to /Users/tnathu-ai/VSCode/Government-Digital-Transformation/assets/images/github_time_series_analysis_market  variables  type .png\n"
     ]
    },
    {
     "name": "stderr",
     "output_type": "stream",
     "text": [
      "<timed exec>:63: SettingWithCopyWarning: \n",
      "A value is trying to be set on a copy of a slice from a DataFrame.\n",
      "Try using .loc[row_indexer,col_indexer] = value instead\n",
      "\n",
      "See the caveats in the documentation: https://pandas.pydata.org/pandas-docs/stable/user_guide/indexing.html#returning-a-view-versus-a-copy\n",
      "<timed exec>:63: SettingWithCopyWarning: \n",
      "A value is trying to be set on a copy of a slice from a DataFrame.\n",
      "Try using .loc[row_indexer,col_indexer] = value instead\n",
      "\n",
      "See the caveats in the documentation: https://pandas.pydata.org/pandas-docs/stable/user_guide/indexing.html#returning-a-view-versus-a-copy\n"
     ]
    },
    {
     "name": "stdout",
     "output_type": "stream",
     "text": [
      "Saved time series visualization for GitHub - Topic: market  taxi  booking  to /Users/tnathu-ai/VSCode/Government-Digital-Transformation/assets/images/github_time_series_analysis_market  taxi  booking .png\n",
      "Saved time series visualization for GitHub - Topic: market  booking  taxi  to /Users/tnathu-ai/VSCode/Government-Digital-Transformation/assets/images/github_time_series_analysis_market  booking  taxi .png\n",
      "Saved time series visualization for GitHub - Topic: market  variables  variable  to /Users/tnathu-ai/VSCode/Government-Digital-Transformation/assets/images/github_time_series_analysis_market  variables  variable .png\n",
      "Saved time series visualization for GitHub - Topic: variables  variable  value  to /Users/tnathu-ai/VSCode/Government-Digital-Transformation/assets/images/github_time_series_analysis_variables  variable  value .png\n",
      "Saved sentiment analysis for GitHub to /Users/tnathu-ai/VSCode/Government-Digital-Transformation/data/intermediate/analysis/github_sentiment_analysis.txt\n"
     ]
    },
    {
     "name": "stderr",
     "output_type": "stream",
     "text": [
      "<timed exec>:63: SettingWithCopyWarning: \n",
      "A value is trying to be set on a copy of a slice from a DataFrame.\n",
      "Try using .loc[row_indexer,col_indexer] = value instead\n",
      "\n",
      "See the caveats in the documentation: https://pandas.pydata.org/pandas-docs/stable/user_guide/indexing.html#returning-a-view-versus-a-copy\n"
     ]
    },
    {
     "name": "stdout",
     "output_type": "stream",
     "text": [
      "Extracted Topic: (0, '0.048*\"app\" + 0.048*\"detailed\" + 0.048*\"analysis\" + 0.048*\"flask\" + 0.048*\"greenhouse\"')\n",
      "Extracted Topic: (1, '0.048*\"app\" + 0.048*\"detailed\" + 0.048*\"analysis\" + 0.048*\"flask\" + 0.048*\"greenhouse\"')\n",
      "Extracted Topic: (2, '0.048*\"detailed\" + 0.048*\"fires\" + 0.048*\"app\" + 0.048*\"deadly\" + 0.048*\"based\"')\n",
      "Extracted Topic: (3, '0.137*\"fires\" + 0.047*\"number\" + 0.047*\"presented\" + 0.047*\"role\" + 0.047*\"form\"')\n",
      "Extracted Topic: (4, '0.048*\"app\" + 0.048*\"detailed\" + 0.048*\"analysis\" + 0.048*\"flask\" + 0.048*\"greenhouse\"')\n",
      "Saved topic modeling for GitHub to /Users/tnathu-ai/VSCode/Government-Digital-Transformation/data/intermediate/analysis/github_topic_modeling.txt\n",
      "Saved qualitative analysis for GitHub to /Users/tnathu-ai/VSCode/Government-Digital-Transformation/data/intermediate/analysis/github_qualitative_analysis.txt\n",
      "Saved time series visualization for GitHub - Topic: app  detailed  analysis  to /Users/tnathu-ai/VSCode/Government-Digital-Transformation/assets/images/github_time_series_analysis_app  detailed  analysis .png\n",
      "Saved time series visualization for GitHub - Topic: app  detailed  analysis  to /Users/tnathu-ai/VSCode/Government-Digital-Transformation/assets/images/github_time_series_analysis_app  detailed  analysis .png\n",
      "Saved time series visualization for GitHub - Topic: detailed  fires  app  to /Users/tnathu-ai/VSCode/Government-Digital-Transformation/assets/images/github_time_series_analysis_detailed  fires  app .png\n",
      "Saved time series visualization for GitHub - Topic: fires  number  presented  to /Users/tnathu-ai/VSCode/Government-Digital-Transformation/assets/images/github_time_series_analysis_fires  number  presented .png\n",
      "Saved time series visualization for GitHub - Topic: app  detailed  analysis  to /Users/tnathu-ai/VSCode/Government-Digital-Transformation/assets/images/github_time_series_analysis_app  detailed  analysis .png\n",
      "Saved sentiment analysis for GitHub to /Users/tnathu-ai/VSCode/Government-Digital-Transformation/data/intermediate/analysis/github_sentiment_analysis.txt\n",
      "Extracted Topic: (0, '0.004*\"market\" + 0.004*\"taxi\" + 0.004*\"booking\" + 0.004*\"type\" + 0.004*\"service\"')\n",
      "Extracted Topic: (1, '0.047*\"market\" + 0.022*\"taxi\" + 0.021*\"booking\" + 0.020*\"type\" + 0.013*\"uber\"')\n",
      "Extracted Topic: (2, '0.004*\"market\" + 0.004*\"booking\" + 0.004*\"type\" + 0.004*\"taxi\" + 0.004*\"uber\"')\n",
      "Extracted Topic: (3, '0.004*\"market\" + 0.004*\"taxi\" + 0.004*\"type\" + 0.004*\"booking\" + 0.004*\"vehicle\"')\n",
      "Extracted Topic: (4, '0.004*\"market\" + 0.004*\"type\" + 0.004*\"taxi\" + 0.004*\"booking\" + 0.004*\"vehicle\"')\n",
      "Saved topic modeling for GitHub to /Users/tnathu-ai/VSCode/Government-Digital-Transformation/data/intermediate/analysis/github_topic_modeling.txt\n",
      "Saved qualitative analysis for GitHub to /Users/tnathu-ai/VSCode/Government-Digital-Transformation/data/intermediate/analysis/github_qualitative_analysis.txt\n",
      "Saved time series visualization for GitHub - Topic: market  taxi  booking  to /Users/tnathu-ai/VSCode/Government-Digital-Transformation/assets/images/github_time_series_analysis_market  taxi  booking .png\n",
      "Saved time series visualization for GitHub - Topic: market  taxi  booking  to /Users/tnathu-ai/VSCode/Government-Digital-Transformation/assets/images/github_time_series_analysis_market  taxi  booking .png\n",
      "Saved time series visualization for GitHub - Topic: market  booking  type  to /Users/tnathu-ai/VSCode/Government-Digital-Transformation/assets/images/github_time_series_analysis_market  booking  type .png\n",
      "Saved time series visualization for GitHub - Topic: market  taxi  type  to /Users/tnathu-ai/VSCode/Government-Digital-Transformation/assets/images/github_time_series_analysis_market  taxi  type .png\n",
      "Saved time series visualization for GitHub - Topic: market  type  taxi  to /Users/tnathu-ai/VSCode/Government-Digital-Transformation/assets/images/github_time_series_analysis_market  type  taxi .png\n",
      "Saved sentiment analysis for GitHub to /Users/tnathu-ai/VSCode/Government-Digital-Transformation/data/intermediate/analysis/github_sentiment_analysis.txt\n",
      "Extracted Topic: (0, '0.020*\"none\" + 0.015*\"import\" + 0.013*\"true\" + 0.011*\"false\" + 0.010*\"webroot\"')\n",
      "Extracted Topic: (1, '0.002*\"import\" + 0.002*\"none\" + 0.002*\"true\" + 0.002*\"webroot\" + 0.002*\"false\"')\n",
      "Extracted Topic: (2, '0.002*\"none\" + 0.002*\"import\" + 0.002*\"false\" + 0.002*\"true\" + 0.002*\"name\"')\n",
      "Extracted Topic: (3, '0.019*\"using\" + 0.019*\"government\" + 0.019*\"location\" + 0.019*\"whether\" + 0.019*\"provide\"')\n",
      "Extracted Topic: (4, '0.002*\"none\" + 0.002*\"true\" + 0.002*\"import\" + 0.002*\"false\" + 0.002*\"webroot\"')\n",
      "Saved topic modeling for GitHub to /Users/tnathu-ai/VSCode/Government-Digital-Transformation/data/intermediate/analysis/github_topic_modeling.txt\n",
      "Saved qualitative analysis for GitHub to /Users/tnathu-ai/VSCode/Government-Digital-Transformation/data/intermediate/analysis/github_qualitative_analysis.txt\n"
     ]
    },
    {
     "name": "stderr",
     "output_type": "stream",
     "text": [
      "<timed exec>:63: SettingWithCopyWarning: \n",
      "A value is trying to be set on a copy of a slice from a DataFrame.\n",
      "Try using .loc[row_indexer,col_indexer] = value instead\n",
      "\n",
      "See the caveats in the documentation: https://pandas.pydata.org/pandas-docs/stable/user_guide/indexing.html#returning-a-view-versus-a-copy\n",
      "<timed exec>:63: SettingWithCopyWarning: \n",
      "A value is trying to be set on a copy of a slice from a DataFrame.\n",
      "Try using .loc[row_indexer,col_indexer] = value instead\n",
      "\n",
      "See the caveats in the documentation: https://pandas.pydata.org/pandas-docs/stable/user_guide/indexing.html#returning-a-view-versus-a-copy\n"
     ]
    },
    {
     "name": "stdout",
     "output_type": "stream",
     "text": [
      "Saved time series visualization for GitHub - Topic: none  import  true  to /Users/tnathu-ai/VSCode/Government-Digital-Transformation/assets/images/github_time_series_analysis_none  import  true .png\n",
      "Saved time series visualization for GitHub - Topic: import  none  true  to /Users/tnathu-ai/VSCode/Government-Digital-Transformation/assets/images/github_time_series_analysis_import  none  true .png\n"
     ]
    },
    {
     "name": "stderr",
     "output_type": "stream",
     "text": [
      "<timed exec>:63: SettingWithCopyWarning: \n",
      "A value is trying to be set on a copy of a slice from a DataFrame.\n",
      "Try using .loc[row_indexer,col_indexer] = value instead\n",
      "\n",
      "See the caveats in the documentation: https://pandas.pydata.org/pandas-docs/stable/user_guide/indexing.html#returning-a-view-versus-a-copy\n"
     ]
    },
    {
     "name": "stdout",
     "output_type": "stream",
     "text": [
      "Saved time series visualization for GitHub - Topic: none  import  false  to /Users/tnathu-ai/VSCode/Government-Digital-Transformation/assets/images/github_time_series_analysis_none  import  false .png\n",
      "Saved time series visualization for GitHub - Topic: using  government  location  to /Users/tnathu-ai/VSCode/Government-Digital-Transformation/assets/images/github_time_series_analysis_using  government  location .png\n"
     ]
    },
    {
     "name": "stderr",
     "output_type": "stream",
     "text": [
      "<timed exec>:63: SettingWithCopyWarning: \n",
      "A value is trying to be set on a copy of a slice from a DataFrame.\n",
      "Try using .loc[row_indexer,col_indexer] = value instead\n",
      "\n",
      "See the caveats in the documentation: https://pandas.pydata.org/pandas-docs/stable/user_guide/indexing.html#returning-a-view-versus-a-copy\n"
     ]
    },
    {
     "name": "stdout",
     "output_type": "stream",
     "text": [
      "Saved time series visualization for GitHub - Topic: none  true  import  to /Users/tnathu-ai/VSCode/Government-Digital-Transformation/assets/images/github_time_series_analysis_none  true  import .png\n",
      "Saved sentiment analysis for GitHub to /Users/tnathu-ai/VSCode/Government-Digital-Transformation/data/intermediate/analysis/github_sentiment_analysis.txt\n",
      "Extracted Topic: (0, '0.002*\"healthcare\" + 0.002*\"care\" + 0.002*\"devices\" + 0.002*\"health\" + 0.002*\"patient\"')\n",
      "Extracted Topic: (1, '0.002*\"healthcare\" + 0.002*\"care\" + 0.002*\"devices\" + 0.002*\"health\" + 0.002*\"based\"')\n",
      "Extracted Topic: (2, '0.020*\"based\" + 0.017*\"framework\" + 0.015*\"detection\" + 0.014*\"data\" + 0.013*\"intrusion\"')\n",
      "Extracted Topic: (3, '0.002*\"healthcare\" + 0.002*\"care\" + 0.002*\"health\" + 0.002*\"devices\" + 0.002*\"based\"')\n",
      "Extracted Topic: (4, '0.036*\"healthcare\" + 0.025*\"care\" + 0.020*\"health\" + 0.020*\"devices\" + 0.017*\"patient\"')\n",
      "Saved topic modeling for GitHub to /Users/tnathu-ai/VSCode/Government-Digital-Transformation/data/intermediate/analysis/github_topic_modeling.txt\n",
      "Saved qualitative analysis for GitHub to /Users/tnathu-ai/VSCode/Government-Digital-Transformation/data/intermediate/analysis/github_qualitative_analysis.txt\n",
      "Saved time series visualization for GitHub - Topic: healthcare  care  devices  to /Users/tnathu-ai/VSCode/Government-Digital-Transformation/assets/images/github_time_series_analysis_healthcare  care  devices .png\n",
      "Saved time series visualization for GitHub - Topic: healthcare  care  devices  to /Users/tnathu-ai/VSCode/Government-Digital-Transformation/assets/images/github_time_series_analysis_healthcare  care  devices .png\n"
     ]
    },
    {
     "name": "stderr",
     "output_type": "stream",
     "text": [
      "<timed exec>:63: SettingWithCopyWarning: \n",
      "A value is trying to be set on a copy of a slice from a DataFrame.\n",
      "Try using .loc[row_indexer,col_indexer] = value instead\n",
      "\n",
      "See the caveats in the documentation: https://pandas.pydata.org/pandas-docs/stable/user_guide/indexing.html#returning-a-view-versus-a-copy\n"
     ]
    },
    {
     "name": "stdout",
     "output_type": "stream",
     "text": [
      "Saved time series visualization for GitHub - Topic: based  framework  detection  to /Users/tnathu-ai/VSCode/Government-Digital-Transformation/assets/images/github_time_series_analysis_based  framework  detection .png\n",
      "Saved time series visualization for GitHub - Topic: healthcare  care  health  to /Users/tnathu-ai/VSCode/Government-Digital-Transformation/assets/images/github_time_series_analysis_healthcare  care  health .png\n",
      "Saved time series visualization for GitHub - Topic: healthcare  care  health  to /Users/tnathu-ai/VSCode/Government-Digital-Transformation/assets/images/github_time_series_analysis_healthcare  care  health .png\n",
      "Saved sentiment analysis for GitHub to /Users/tnathu-ai/VSCode/Government-Digital-Transformation/data/intermediate/analysis/github_sentiment_analysis.txt\n",
      "Extracted Topic: (0, '0.002*\"none\" + 0.002*\"import\" + 0.002*\"true\" + 0.002*\"webroot\" + 0.002*\"false\"')\n",
      "Extracted Topic: (1, '0.020*\"none\" + 0.015*\"import\" + 0.013*\"true\" + 0.011*\"false\" + 0.010*\"webroot\"')\n",
      "Extracted Topic: (2, '0.002*\"none\" + 0.002*\"import\" + 0.002*\"true\" + 0.002*\"webroot\" + 0.002*\"image\"')\n",
      "Extracted Topic: (3, '0.002*\"none\" + 0.002*\"import\" + 0.002*\"true\" + 0.002*\"false\" + 0.002*\"webroot\"')\n",
      "Extracted Topic: (4, '0.002*\"none\" + 0.002*\"import\" + 0.002*\"true\" + 0.002*\"name\" + 0.002*\"false\"')\n",
      "Saved topic modeling for GitHub to /Users/tnathu-ai/VSCode/Government-Digital-Transformation/data/intermediate/analysis/github_topic_modeling.txt\n",
      "Saved qualitative analysis for GitHub to /Users/tnathu-ai/VSCode/Government-Digital-Transformation/data/intermediate/analysis/github_qualitative_analysis.txt\n",
      "Saved time series visualization for GitHub - Topic: none  import  true  to /Users/tnathu-ai/VSCode/Government-Digital-Transformation/assets/images/github_time_series_analysis_none  import  true .png\n",
      "Saved time series visualization for GitHub - Topic: none  import  true  to /Users/tnathu-ai/VSCode/Government-Digital-Transformation/assets/images/github_time_series_analysis_none  import  true .png\n",
      "Saved time series visualization for GitHub - Topic: none  import  true  to /Users/tnathu-ai/VSCode/Government-Digital-Transformation/assets/images/github_time_series_analysis_none  import  true .png\n",
      "Saved time series visualization for GitHub - Topic: none  import  true  to /Users/tnathu-ai/VSCode/Government-Digital-Transformation/assets/images/github_time_series_analysis_none  import  true .png\n",
      "Saved time series visualization for GitHub - Topic: none  import  true  to /Users/tnathu-ai/VSCode/Government-Digital-Transformation/assets/images/github_time_series_analysis_none  import  true .png\n",
      "Saved sentiment analysis for GitHub to /Users/tnathu-ai/VSCode/Government-Digital-Transformation/data/intermediate/analysis/github_sentiment_analysis.txt\n",
      "Extracted Topic: (0, '0.044*\"ruritania\" + 0.033*\"island\" + 0.022*\"government\" + 0.022*\"world\" + 0.022*\"ecitizen\"')\n",
      "Extracted Topic: (1, '0.013*\"ruritania\" + 0.013*\"ruritanians\" + 0.013*\"ecitizen\" + 0.013*\"island\" + 0.013*\"levels\"')\n",
      "Extracted Topic: (2, '0.013*\"ruritania\" + 0.013*\"island\" + 0.013*\"modelled\" + 0.013*\"ruritanians\" + 0.013*\"sea\"')\n",
      "Extracted Topic: (3, '0.013*\"locations\" + 0.013*\"republic\" + 0.013*\"resettle\" + 0.013*\"hemisphere\" + 0.013*\"fear\"')\n",
      "Extracted Topic: (4, '0.013*\"ruritania\" + 0.013*\"island\" + 0.013*\"ruritanians\" + 0.013*\"modelled\" + 0.013*\"government\"')\n",
      "Saved topic modeling for GitHub to /Users/tnathu-ai/VSCode/Government-Digital-Transformation/data/intermediate/analysis/github_topic_modeling.txt\n",
      "Saved qualitative analysis for GitHub to /Users/tnathu-ai/VSCode/Government-Digital-Transformation/data/intermediate/analysis/github_qualitative_analysis.txt\n",
      "Saved time series visualization for GitHub - Topic: ruritania  island  government  to /Users/tnathu-ai/VSCode/Government-Digital-Transformation/assets/images/github_time_series_analysis_ruritania  island  government .png\n",
      "Saved time series visualization for GitHub - Topic: ruritania  ruritanians  ecitizen  to /Users/tnathu-ai/VSCode/Government-Digital-Transformation/assets/images/github_time_series_analysis_ruritania  ruritanians  ecitizen .png\n",
      "Saved time series visualization for GitHub - Topic: ruritania  island  modelled  to /Users/tnathu-ai/VSCode/Government-Digital-Transformation/assets/images/github_time_series_analysis_ruritania  island  modelled .png\n",
      "Saved time series visualization for GitHub - Topic: locations  republic  resettle  to /Users/tnathu-ai/VSCode/Government-Digital-Transformation/assets/images/github_time_series_analysis_locations  republic  resettle .png\n",
      "Saved time series visualization for GitHub - Topic: ruritania  island  ruritanians  to /Users/tnathu-ai/VSCode/Government-Digital-Transformation/assets/images/github_time_series_analysis_ruritania  island  ruritanians .png\n",
      "Saved sentiment analysis for GitHub to /Users/tnathu-ai/VSCode/Government-Digital-Transformation/data/intermediate/analysis/github_sentiment_analysis.txt\n",
      "Extracted Topic: (0, '0.002*\"none\" + 0.002*\"import\" + 0.002*\"true\" + 0.002*\"false\" + 0.002*\"default\"')\n",
      "Extracted Topic: (1, '0.002*\"none\" + 0.002*\"import\" + 0.002*\"false\" + 0.002*\"true\" + 0.002*\"default\"')\n",
      "Extracted Topic: (2, '0.002*\"none\" + 0.002*\"false\" + 0.002*\"import\" + 0.002*\"true\" + 0.002*\"name\"')\n",
      "Extracted Topic: (3, '0.002*\"none\" + 0.002*\"import\" + 0.002*\"true\" + 0.002*\"webroot\" + 0.002*\"name\"')\n",
      "Extracted Topic: (4, '0.020*\"none\" + 0.015*\"import\" + 0.013*\"true\" + 0.011*\"false\" + 0.010*\"webroot\"')\n",
      "Saved topic modeling for GitHub to /Users/tnathu-ai/VSCode/Government-Digital-Transformation/data/intermediate/analysis/github_topic_modeling.txt\n",
      "Saved qualitative analysis for GitHub to /Users/tnathu-ai/VSCode/Government-Digital-Transformation/data/intermediate/analysis/github_qualitative_analysis.txt\n",
      "Saved time series visualization for GitHub - Topic: none  import  true  to /Users/tnathu-ai/VSCode/Government-Digital-Transformation/assets/images/github_time_series_analysis_none  import  true .png\n",
      "Saved time series visualization for GitHub - Topic: none  import  false  to /Users/tnathu-ai/VSCode/Government-Digital-Transformation/assets/images/github_time_series_analysis_none  import  false .png\n",
      "Saved time series visualization for GitHub - Topic: none  false  import  to /Users/tnathu-ai/VSCode/Government-Digital-Transformation/assets/images/github_time_series_analysis_none  false  import .png\n",
      "Saved time series visualization for GitHub - Topic: none  import  true  to /Users/tnathu-ai/VSCode/Government-Digital-Transformation/assets/images/github_time_series_analysis_none  import  true .png\n",
      "Saved time series visualization for GitHub - Topic: none  import  true  to /Users/tnathu-ai/VSCode/Government-Digital-Transformation/assets/images/github_time_series_analysis_none  import  true .png\n",
      "Saved sentiment analysis for GitHub to /Users/tnathu-ai/VSCode/Government-Digital-Transformation/data/intermediate/analysis/github_sentiment_analysis.txt\n",
      "Extracted Topic: (0, '0.015*\"world\" + 0.015*\"government\" + 0.015*\"location\" + 0.015*\"us\" + 0.015*\"whether\"')\n",
      "Extracted Topic: (1, '0.036*\"market\" + 0.017*\"taxi\" + 0.016*\"booking\" + 0.015*\"type\" + 0.010*\"global\"')\n",
      "Extracted Topic: (2, '0.043*\"data\" + 0.023*\"using\" + 0.023*\"study\" + 0.023*\"based\" + 0.023*\"comparison\"')\n",
      "Extracted Topic: (3, '0.001*\"none\" + 0.001*\"true\" + 0.001*\"import\" + 0.001*\"false\" + 0.001*\"webroot\"')\n",
      "Extracted Topic: (4, '0.020*\"none\" + 0.015*\"import\" + 0.013*\"true\" + 0.011*\"false\" + 0.010*\"webroot\"')\n",
      "Saved topic modeling for GitHub to /Users/tnathu-ai/VSCode/Government-Digital-Transformation/data/intermediate/analysis/github_topic_modeling.txt\n",
      "Saved qualitative analysis for GitHub to /Users/tnathu-ai/VSCode/Government-Digital-Transformation/data/intermediate/analysis/github_qualitative_analysis.txt\n",
      "Saved time series visualization for GitHub - Topic: world  government  location  to /Users/tnathu-ai/VSCode/Government-Digital-Transformation/assets/images/github_time_series_analysis_world  government  location .png\n"
     ]
    },
    {
     "name": "stderr",
     "output_type": "stream",
     "text": [
      "<timed exec>:63: SettingWithCopyWarning: \n",
      "A value is trying to be set on a copy of a slice from a DataFrame.\n",
      "Try using .loc[row_indexer,col_indexer] = value instead\n",
      "\n",
      "See the caveats in the documentation: https://pandas.pydata.org/pandas-docs/stable/user_guide/indexing.html#returning-a-view-versus-a-copy\n",
      "<timed exec>:63: SettingWithCopyWarning: \n",
      "A value is trying to be set on a copy of a slice from a DataFrame.\n",
      "Try using .loc[row_indexer,col_indexer] = value instead\n",
      "\n",
      "See the caveats in the documentation: https://pandas.pydata.org/pandas-docs/stable/user_guide/indexing.html#returning-a-view-versus-a-copy\n"
     ]
    },
    {
     "name": "stdout",
     "output_type": "stream",
     "text": [
      "Saved time series visualization for GitHub - Topic: market  taxi  booking  to /Users/tnathu-ai/VSCode/Government-Digital-Transformation/assets/images/github_time_series_analysis_market  taxi  booking .png\n",
      "Saved time series visualization for GitHub - Topic: data  using  study  to /Users/tnathu-ai/VSCode/Government-Digital-Transformation/assets/images/github_time_series_analysis_data  using  study .png\n"
     ]
    },
    {
     "name": "stderr",
     "output_type": "stream",
     "text": [
      "<timed exec>:63: SettingWithCopyWarning: \n",
      "A value is trying to be set on a copy of a slice from a DataFrame.\n",
      "Try using .loc[row_indexer,col_indexer] = value instead\n",
      "\n",
      "See the caveats in the documentation: https://pandas.pydata.org/pandas-docs/stable/user_guide/indexing.html#returning-a-view-versus-a-copy\n",
      "<timed exec>:63: SettingWithCopyWarning: \n",
      "A value is trying to be set on a copy of a slice from a DataFrame.\n",
      "Try using .loc[row_indexer,col_indexer] = value instead\n",
      "\n",
      "See the caveats in the documentation: https://pandas.pydata.org/pandas-docs/stable/user_guide/indexing.html#returning-a-view-versus-a-copy\n"
     ]
    },
    {
     "name": "stdout",
     "output_type": "stream",
     "text": [
      "Saved time series visualization for GitHub - Topic: none  true  import  to /Users/tnathu-ai/VSCode/Government-Digital-Transformation/assets/images/github_time_series_analysis_none  true  import .png\n",
      "Saved time series visualization for GitHub - Topic: none  import  true  to /Users/tnathu-ai/VSCode/Government-Digital-Transformation/assets/images/github_time_series_analysis_none  import  true .png\n",
      "Saved sentiment analysis for GitHub to /Users/tnathu-ai/VSCode/Government-Digital-Transformation/data/intermediate/analysis/github_sentiment_analysis.txt\n",
      "Extracted Topic: (0, '0.002*\"none\" + 0.002*\"import\" + 0.002*\"true\" + 0.002*\"false\" + 0.002*\"webroot\"')\n",
      "Extracted Topic: (1, '0.002*\"none\" + 0.002*\"import\" + 0.002*\"true\" + 0.002*\"webroot\" + 0.002*\"false\"')\n",
      "Extracted Topic: (2, '0.002*\"none\" + 0.002*\"true\" + 0.002*\"import\" + 0.002*\"webroot\" + 0.002*\"false\"')\n",
      "Extracted Topic: (3, '0.002*\"none\" + 0.002*\"import\" + 0.002*\"true\" + 0.002*\"webroot\" + 0.002*\"default\"')\n",
      "Extracted Topic: (4, '0.020*\"none\" + 0.015*\"import\" + 0.013*\"true\" + 0.011*\"false\" + 0.010*\"webroot\"')\n",
      "Saved topic modeling for GitHub to /Users/tnathu-ai/VSCode/Government-Digital-Transformation/data/intermediate/analysis/github_topic_modeling.txt\n",
      "Saved qualitative analysis for GitHub to /Users/tnathu-ai/VSCode/Government-Digital-Transformation/data/intermediate/analysis/github_qualitative_analysis.txt\n",
      "Saved time series visualization for GitHub - Topic: none  import  true  to /Users/tnathu-ai/VSCode/Government-Digital-Transformation/assets/images/github_time_series_analysis_none  import  true .png\n",
      "Saved time series visualization for GitHub - Topic: none  import  true  to /Users/tnathu-ai/VSCode/Government-Digital-Transformation/assets/images/github_time_series_analysis_none  import  true .png\n",
      "Saved time series visualization for GitHub - Topic: none  true  import  to /Users/tnathu-ai/VSCode/Government-Digital-Transformation/assets/images/github_time_series_analysis_none  true  import .png\n",
      "Saved time series visualization for GitHub - Topic: none  import  true  to /Users/tnathu-ai/VSCode/Government-Digital-Transformation/assets/images/github_time_series_analysis_none  import  true .png\n",
      "Saved time series visualization for GitHub - Topic: none  import  true  to /Users/tnathu-ai/VSCode/Government-Digital-Transformation/assets/images/github_time_series_analysis_none  import  true .png\n",
      "Saved sentiment analysis for GitHub to /Users/tnathu-ai/VSCode/Government-Digital-Transformation/data/intermediate/analysis/github_sentiment_analysis.txt\n",
      "Extracted Topic: (0, '0.004*\"healthcare\" + 0.004*\"health\" + 0.004*\"care\" + 0.004*\"devices\" + 0.004*\"patient\"')\n",
      "Extracted Topic: (1, '0.004*\"healthcare\" + 0.004*\"care\" + 0.004*\"health\" + 0.004*\"devices\" + 0.004*\"medical\"')\n",
      "Extracted Topic: (2, '0.004*\"healthcare\" + 0.004*\"care\" + 0.004*\"medical\" + 0.004*\"devices\" + 0.004*\"patient\"')\n",
      "Extracted Topic: (3, '0.037*\"healthcare\" + 0.026*\"care\" + 0.020*\"health\" + 0.020*\"devices\" + 0.017*\"patient\"')\n",
      "Extracted Topic: (4, '0.004*\"healthcare\" + 0.004*\"care\" + 0.004*\"devices\" + 0.004*\"health\" + 0.004*\"patient\"')\n",
      "Saved topic modeling for GitHub to /Users/tnathu-ai/VSCode/Government-Digital-Transformation/data/intermediate/analysis/github_topic_modeling.txt\n",
      "Saved qualitative analysis for GitHub to /Users/tnathu-ai/VSCode/Government-Digital-Transformation/data/intermediate/analysis/github_qualitative_analysis.txt\n",
      "Saved time series visualization for GitHub - Topic: healthcare  health  care  to /Users/tnathu-ai/VSCode/Government-Digital-Transformation/assets/images/github_time_series_analysis_healthcare  health  care .png\n",
      "Saved time series visualization for GitHub - Topic: healthcare  care  health  to /Users/tnathu-ai/VSCode/Government-Digital-Transformation/assets/images/github_time_series_analysis_healthcare  care  health .png\n",
      "Saved time series visualization for GitHub - Topic: healthcare  care  medical  to /Users/tnathu-ai/VSCode/Government-Digital-Transformation/assets/images/github_time_series_analysis_healthcare  care  medical .png\n",
      "Saved time series visualization for GitHub - Topic: healthcare  care  health  to /Users/tnathu-ai/VSCode/Government-Digital-Transformation/assets/images/github_time_series_analysis_healthcare  care  health .png\n",
      "Saved time series visualization for GitHub - Topic: healthcare  care  devices  to /Users/tnathu-ai/VSCode/Government-Digital-Transformation/assets/images/github_time_series_analysis_healthcare  care  devices .png\n",
      "Saved sentiment analysis for GitHub to /Users/tnathu-ai/VSCode/Government-Digital-Transformation/data/intermediate/analysis/github_sentiment_analysis.txt\n",
      "Extracted Topic: (0, '0.100*\"python\" + 0.100*\"map\" + 0.100*\"home\" + 0.100*\"office\" + 0.100*\"google\"')\n",
      "Extracted Topic: (1, '0.118*\"australia\" + 0.118*\"locations\" + 0.118*\"office\" + 0.118*\"affair\" + 0.118*\"visualise\"')\n",
      "Extracted Topic: (2, '0.100*\"map\" + 0.100*\"python\" + 0.100*\"google\" + 0.100*\"script\" + 0.100*\"locations\"')\n",
      "Extracted Topic: (3, '0.100*\"map\" + 0.100*\"python\" + 0.100*\"google\" + 0.100*\"script\" + 0.100*\"locations\"')\n",
      "Extracted Topic: (4, '0.100*\"map\" + 0.100*\"python\" + 0.100*\"google\" + 0.100*\"script\" + 0.100*\"locations\"')\n",
      "Saved topic modeling for GitHub to /Users/tnathu-ai/VSCode/Government-Digital-Transformation/data/intermediate/analysis/github_topic_modeling.txt\n",
      "Saved qualitative analysis for GitHub to /Users/tnathu-ai/VSCode/Government-Digital-Transformation/data/intermediate/analysis/github_qualitative_analysis.txt\n",
      "Saved time series visualization for GitHub - Topic: python  map  home  to /Users/tnathu-ai/VSCode/Government-Digital-Transformation/assets/images/github_time_series_analysis_python  map  home .png\n",
      "Saved time series visualization for GitHub - Topic: australia  locations  office  to /Users/tnathu-ai/VSCode/Government-Digital-Transformation/assets/images/github_time_series_analysis_australia  locations  office .png\n",
      "Saved time series visualization for GitHub - Topic: map  python  google  to /Users/tnathu-ai/VSCode/Government-Digital-Transformation/assets/images/github_time_series_analysis_map  python  google .png\n",
      "Saved time series visualization for GitHub - Topic: map  python  google  to /Users/tnathu-ai/VSCode/Government-Digital-Transformation/assets/images/github_time_series_analysis_map  python  google .png\n",
      "Saved time series visualization for GitHub - Topic: map  python  google  to /Users/tnathu-ai/VSCode/Government-Digital-Transformation/assets/images/github_time_series_analysis_map  python  google .png\n",
      "Saved sentiment analysis for GitHub to /Users/tnathu-ai/VSCode/Government-Digital-Transformation/data/intermediate/analysis/github_sentiment_analysis.txt\n",
      "Extracted Topic: (0, '0.042*\"eulondon\" + 0.039*\"function\" + 0.033*\"var\" + 0.029*\"usatlanta\" + 0.020*\"null\"')\n",
      "Extracted Topic: (1, '0.000*\"var\" + 0.000*\"function\" + 0.000*\"null\" + 0.000*\"else\" + 0.000*\"eulondon\"')\n",
      "Extracted Topic: (2, '0.000*\"var\" + 0.000*\"function\" + 0.000*\"null\" + 0.000*\"eulondon\" + 0.000*\"return\"')\n",
      "Extracted Topic: (3, '0.043*\"eulondon\" + 0.035*\"function\" + 0.034*\"var\" + 0.023*\"usatlanta\" + 0.019*\"jptokyo\"')\n",
      "Extracted Topic: (4, '0.059*\"var\" + 0.033*\"function\" + 0.023*\"null\" + 0.013*\"else\" + 0.009*\"return\"')\n",
      "Saved topic modeling for GitHub to /Users/tnathu-ai/VSCode/Government-Digital-Transformation/data/intermediate/analysis/github_topic_modeling.txt\n",
      "Saved qualitative analysis for GitHub to /Users/tnathu-ai/VSCode/Government-Digital-Transformation/data/intermediate/analysis/github_qualitative_analysis.txt\n",
      "Saved time series visualization for GitHub - Topic: eulondon  function  var  to /Users/tnathu-ai/VSCode/Government-Digital-Transformation/assets/images/github_time_series_analysis_eulondon  function  var .png\n",
      "Saved time series visualization for GitHub - Topic: var  function  null  to /Users/tnathu-ai/VSCode/Government-Digital-Transformation/assets/images/github_time_series_analysis_var  function  null .png\n",
      "Saved time series visualization for GitHub - Topic: var  function  null  to /Users/tnathu-ai/VSCode/Government-Digital-Transformation/assets/images/github_time_series_analysis_var  function  null .png\n",
      "Saved time series visualization for GitHub - Topic: eulondon  function  var  to /Users/tnathu-ai/VSCode/Government-Digital-Transformation/assets/images/github_time_series_analysis_eulondon  function  var .png\n",
      "Saved time series visualization for GitHub - Topic: var  function  null  to /Users/tnathu-ai/VSCode/Government-Digital-Transformation/assets/images/github_time_series_analysis_var  function  null .png\n",
      "Saved sentiment analysis for GitHub to /Users/tnathu-ai/VSCode/Government-Digital-Transformation/data/intermediate/analysis/github_sentiment_analysis.txt\n",
      "Extracted Topic: (0, '0.101*\"road\" + 0.051*\"records\" + 0.051*\"years\" + 0.051*\"victoria\" + 0.051*\"types\"')\n",
      "Extracted Topic: (1, '0.050*\"report\" + 0.050*\"measures\" + 0.050*\"safety\" + 0.050*\"analyzes\" + 0.050*\"timing\"')\n",
      "Extracted Topic: (2, '0.050*\"report\" + 0.050*\"measures\" + 0.050*\"safety\" + 0.050*\"analyzes\" + 0.050*\"timing\"')\n",
      "Extracted Topic: (3, '0.050*\"road\" + 0.050*\"four\" + 0.050*\"traffic\" + 0.050*\"identifying\" + 0.050*\"australia\"')\n",
      "Extracted Topic: (4, '0.050*\"road\" + 0.050*\"records\" + 0.050*\"years\" + 0.050*\"traffic\" + 0.050*\"australia\"')\n",
      "Saved topic modeling for GitHub to /Users/tnathu-ai/VSCode/Government-Digital-Transformation/data/intermediate/analysis/github_topic_modeling.txt\n",
      "Saved qualitative analysis for GitHub to /Users/tnathu-ai/VSCode/Government-Digital-Transformation/data/intermediate/analysis/github_qualitative_analysis.txt\n",
      "Saved time series visualization for GitHub - Topic: road  records  years  to /Users/tnathu-ai/VSCode/Government-Digital-Transformation/assets/images/github_time_series_analysis_road  records  years .png\n",
      "Saved time series visualization for GitHub - Topic: report  measures  safety  to /Users/tnathu-ai/VSCode/Government-Digital-Transformation/assets/images/github_time_series_analysis_report  measures  safety .png\n",
      "Saved time series visualization for GitHub - Topic: report  measures  safety  to /Users/tnathu-ai/VSCode/Government-Digital-Transformation/assets/images/github_time_series_analysis_report  measures  safety .png\n",
      "Saved time series visualization for GitHub - Topic: road  four  traffic  to /Users/tnathu-ai/VSCode/Government-Digital-Transformation/assets/images/github_time_series_analysis_road  four  traffic .png\n",
      "Saved time series visualization for GitHub - Topic: road  records  years  to /Users/tnathu-ai/VSCode/Government-Digital-Transformation/assets/images/github_time_series_analysis_road  records  years .png\n",
      "Saved sentiment analysis for GitHub to /Users/tnathu-ai/VSCode/Government-Digital-Transformation/data/intermediate/analysis/github_sentiment_analysis.txt\n",
      "Extracted Topic: (0, '0.005*\"abroad\" + 0.005*\"study\" + 0.005*\"top\" + 0.005*\"students\" + 0.005*\"engineering\"')\n",
      "Extracted Topic: (1, '0.032*\"study\" + 0.029*\"abroad\" + 0.014*\"top\" + 0.014*\"nation\" + 0.014*\"programmes\"')\n",
      "Extracted Topic: (2, '0.046*\"visa\" + 0.026*\"canada\" + 0.026*\"countries\" + 0.026*\"help\" + 0.026*\"immigration\"')\n",
      "Extracted Topic: (3, '0.005*\"study\" + 0.005*\"abroad\" + 0.005*\"engineering\" + 0.005*\"mbbs\" + 0.005*\"nation\"')\n",
      "Extracted Topic: (4, '0.005*\"study\" + 0.005*\"abroad\" + 0.005*\"mba\" + 0.005*\"top\" + 0.005*\"programmes\"')\n",
      "Saved topic modeling for GitHub to /Users/tnathu-ai/VSCode/Government-Digital-Transformation/data/intermediate/analysis/github_topic_modeling.txt\n",
      "Saved qualitative analysis for GitHub to /Users/tnathu-ai/VSCode/Government-Digital-Transformation/data/intermediate/analysis/github_qualitative_analysis.txt\n",
      "Saved time series visualization for GitHub - Topic: abroad  study  top  to /Users/tnathu-ai/VSCode/Government-Digital-Transformation/assets/images/github_time_series_analysis_abroad  study  top .png\n"
     ]
    },
    {
     "name": "stderr",
     "output_type": "stream",
     "text": [
      "<timed exec>:63: SettingWithCopyWarning: \n",
      "A value is trying to be set on a copy of a slice from a DataFrame.\n",
      "Try using .loc[row_indexer,col_indexer] = value instead\n",
      "\n",
      "See the caveats in the documentation: https://pandas.pydata.org/pandas-docs/stable/user_guide/indexing.html#returning-a-view-versus-a-copy\n",
      "<timed exec>:63: SettingWithCopyWarning: \n",
      "A value is trying to be set on a copy of a slice from a DataFrame.\n",
      "Try using .loc[row_indexer,col_indexer] = value instead\n",
      "\n",
      "See the caveats in the documentation: https://pandas.pydata.org/pandas-docs/stable/user_guide/indexing.html#returning-a-view-versus-a-copy\n"
     ]
    },
    {
     "name": "stdout",
     "output_type": "stream",
     "text": [
      "Saved time series visualization for GitHub - Topic: study  abroad  top  to /Users/tnathu-ai/VSCode/Government-Digital-Transformation/assets/images/github_time_series_analysis_study  abroad  top .png\n",
      "Saved time series visualization for GitHub - Topic: visa  canada  countries  to /Users/tnathu-ai/VSCode/Government-Digital-Transformation/assets/images/github_time_series_analysis_visa  canada  countries .png\n"
     ]
    },
    {
     "name": "stderr",
     "output_type": "stream",
     "text": [
      "<timed exec>:63: SettingWithCopyWarning: \n",
      "A value is trying to be set on a copy of a slice from a DataFrame.\n",
      "Try using .loc[row_indexer,col_indexer] = value instead\n",
      "\n",
      "See the caveats in the documentation: https://pandas.pydata.org/pandas-docs/stable/user_guide/indexing.html#returning-a-view-versus-a-copy\n",
      "<timed exec>:63: SettingWithCopyWarning: \n",
      "A value is trying to be set on a copy of a slice from a DataFrame.\n",
      "Try using .loc[row_indexer,col_indexer] = value instead\n",
      "\n",
      "See the caveats in the documentation: https://pandas.pydata.org/pandas-docs/stable/user_guide/indexing.html#returning-a-view-versus-a-copy\n"
     ]
    },
    {
     "name": "stdout",
     "output_type": "stream",
     "text": [
      "Saved time series visualization for GitHub - Topic: study  abroad  engineering  to /Users/tnathu-ai/VSCode/Government-Digital-Transformation/assets/images/github_time_series_analysis_study  abroad  engineering .png\n",
      "Saved time series visualization for GitHub - Topic: study  abroad  mba  to /Users/tnathu-ai/VSCode/Government-Digital-Transformation/assets/images/github_time_series_analysis_study  abroad  mba .png\n",
      "Saved sentiment analysis for GitHub to /Users/tnathu-ai/VSCode/Government-Digital-Transformation/data/intermediate/analysis/github_sentiment_analysis.txt\n",
      "Extracted Topic: (0, '0.041*\"div\" + 0.019*\"script\" + 0.007*\"typetextjavascript\" + 0.006*\"jquery\" + 0.005*\"jqueryprivate\"')\n",
      "Extracted Topic: (1, '0.051*\"var\" + 0.027*\"function\" + 0.017*\"null\" + 0.016*\"eulondon\" + 0.010*\"else\"')\n",
      "Extracted Topic: (2, '0.045*\"eulondon\" + 0.038*\"function\" + 0.032*\"var\" + 0.029*\"usatlanta\" + 0.020*\"jptokyo\"')\n",
      "Extracted Topic: (3, '0.010*\"australia\" + 0.010*\"location\" + 0.005*\"using\" + 0.005*\"post\" + 0.005*\"tweets\"')\n",
      "Extracted Topic: (4, '0.020*\"study\" + 0.018*\"abroad\" + 0.009*\"top\" + 0.009*\"phd\" + 0.009*\"engineering\"')\n",
      "Saved topic modeling for GitHub to /Users/tnathu-ai/VSCode/Government-Digital-Transformation/data/intermediate/analysis/github_topic_modeling.txt\n",
      "Saved qualitative analysis for GitHub to /Users/tnathu-ai/VSCode/Government-Digital-Transformation/data/intermediate/analysis/github_qualitative_analysis.txt\n",
      "Saved time series visualization for GitHub - Topic: div  script  typetextjavascript  to /Users/tnathu-ai/VSCode/Government-Digital-Transformation/assets/images/github_time_series_analysis_div  script  typetextjavascript .png\n"
     ]
    },
    {
     "name": "stderr",
     "output_type": "stream",
     "text": [
      "<timed exec>:63: SettingWithCopyWarning: \n",
      "A value is trying to be set on a copy of a slice from a DataFrame.\n",
      "Try using .loc[row_indexer,col_indexer] = value instead\n",
      "\n",
      "See the caveats in the documentation: https://pandas.pydata.org/pandas-docs/stable/user_guide/indexing.html#returning-a-view-versus-a-copy\n",
      "<timed exec>:63: SettingWithCopyWarning: \n",
      "A value is trying to be set on a copy of a slice from a DataFrame.\n",
      "Try using .loc[row_indexer,col_indexer] = value instead\n",
      "\n",
      "See the caveats in the documentation: https://pandas.pydata.org/pandas-docs/stable/user_guide/indexing.html#returning-a-view-versus-a-copy\n"
     ]
    },
    {
     "name": "stdout",
     "output_type": "stream",
     "text": [
      "Saved time series visualization for GitHub - Topic: var  function  null  to /Users/tnathu-ai/VSCode/Government-Digital-Transformation/assets/images/github_time_series_analysis_var  function  null .png\n",
      "Saved time series visualization for GitHub - Topic: eulondon  function  var  to /Users/tnathu-ai/VSCode/Government-Digital-Transformation/assets/images/github_time_series_analysis_eulondon  function  var .png\n"
     ]
    },
    {
     "name": "stderr",
     "output_type": "stream",
     "text": [
      "<timed exec>:63: SettingWithCopyWarning: \n",
      "A value is trying to be set on a copy of a slice from a DataFrame.\n",
      "Try using .loc[row_indexer,col_indexer] = value instead\n",
      "\n",
      "See the caveats in the documentation: https://pandas.pydata.org/pandas-docs/stable/user_guide/indexing.html#returning-a-view-versus-a-copy\n"
     ]
    },
    {
     "name": "stdout",
     "output_type": "stream",
     "text": [
      "Saved time series visualization for GitHub - Topic: australia  location  using  to /Users/tnathu-ai/VSCode/Government-Digital-Transformation/assets/images/github_time_series_analysis_australia  location  using .png\n",
      "Saved time series visualization for GitHub - Topic: study  abroad  top  to /Users/tnathu-ai/VSCode/Government-Digital-Transformation/assets/images/github_time_series_analysis_study  abroad  top .png\n",
      "Saved sentiment analysis for GitHub to /Users/tnathu-ai/VSCode/Government-Digital-Transformation/data/intermediate/analysis/github_sentiment_analysis.txt\n"
     ]
    },
    {
     "name": "stderr",
     "output_type": "stream",
     "text": [
      "<timed exec>:63: SettingWithCopyWarning: \n",
      "A value is trying to be set on a copy of a slice from a DataFrame.\n",
      "Try using .loc[row_indexer,col_indexer] = value instead\n",
      "\n",
      "See the caveats in the documentation: https://pandas.pydata.org/pandas-docs/stable/user_guide/indexing.html#returning-a-view-versus-a-copy\n"
     ]
    },
    {
     "name": "stdout",
     "output_type": "stream",
     "text": [
      "Extracted Topic: (0, '0.024*\"station\" + 0.024*\"mainly\" + 0.024*\"data\" + 0.024*\"screens\" + 0.024*\"services\"')\n",
      "Extracted Topic: (1, '0.024*\"station\" + 0.024*\"data\" + 0.024*\"mainly\" + 0.024*\"screens\" + 0.024*\"victoria\"')\n",
      "Extracted Topic: (2, '0.101*\"station\" + 0.068*\"data\" + 0.035*\"mainly\" + 0.035*\"public\" + 0.035*\"map\"')\n",
      "Extracted Topic: (3, '0.024*\"station\" + 0.024*\"data\" + 0.024*\"metrotrains\" + 0.024*\"details\" + 0.024*\"mainly\"')\n",
      "Extracted Topic: (4, '0.067*\"development\" + 0.067*\"current\" + 0.046*\"mainly\" + 0.042*\"station\" + 0.034*\"operations\"')\n",
      "Saved topic modeling for GitHub to /Users/tnathu-ai/VSCode/Government-Digital-Transformation/data/intermediate/analysis/github_topic_modeling.txt\n",
      "Saved qualitative analysis for GitHub to /Users/tnathu-ai/VSCode/Government-Digital-Transformation/data/intermediate/analysis/github_qualitative_analysis.txt\n",
      "Saved time series visualization for GitHub - Topic: station  mainly  data  to /Users/tnathu-ai/VSCode/Government-Digital-Transformation/assets/images/github_time_series_analysis_station  mainly  data .png\n",
      "Saved time series visualization for GitHub - Topic: station  data  mainly  to /Users/tnathu-ai/VSCode/Government-Digital-Transformation/assets/images/github_time_series_analysis_station  data  mainly .png\n",
      "Saved time series visualization for GitHub - Topic: station  data  mainly  to /Users/tnathu-ai/VSCode/Government-Digital-Transformation/assets/images/github_time_series_analysis_station  data  mainly .png\n",
      "Saved time series visualization for GitHub - Topic: station  data  metrotrains  to /Users/tnathu-ai/VSCode/Government-Digital-Transformation/assets/images/github_time_series_analysis_station  data  metrotrains .png\n",
      "Saved time series visualization for GitHub - Topic: development  current  mainly  to /Users/tnathu-ai/VSCode/Government-Digital-Transformation/assets/images/github_time_series_analysis_development  current  mainly .png\n",
      "Saved sentiment analysis for GitHub to /Users/tnathu-ai/VSCode/Government-Digital-Transformation/data/intermediate/analysis/github_sentiment_analysis.txt\n",
      "Extracted Topic: (0, '0.103*\"locations\" + 0.103*\"covid19\" + 0.103*\"exposure\" + 0.103*\"via\" + 0.103*\"email\"')\n",
      "Extracted Topic: (1, '0.069*\"nsw\" + 0.069*\"cases\" + 0.069*\"australia\" + 0.069*\"council\" + 0.069*\"find\"')\n",
      "Extracted Topic: (2, '0.023*\"locations\" + 0.023*\"cases\" + 0.023*\"nsw\" + 0.023*\"covid19\" + 0.023*\"australia\"')\n",
      "Extracted Topic: (3, '0.023*\"nsw\" + 0.023*\"cases\" + 0.023*\"covid19\" + 0.023*\"locations\" + 0.023*\"httpsdatanswgovaudatadatasetnswcovid19caselocations\"')\n",
      "Extracted Topic: (4, '0.077*\"australia\" + 0.069*\"exposure\" + 0.039*\"act\" + 0.039*\"changes\" + 0.039*\"easier\"')\n",
      "Saved topic modeling for GitHub to /Users/tnathu-ai/VSCode/Government-Digital-Transformation/data/intermediate/analysis/github_topic_modeling.txt\n",
      "Saved qualitative analysis for GitHub to /Users/tnathu-ai/VSCode/Government-Digital-Transformation/data/intermediate/analysis/github_qualitative_analysis.txt\n",
      "Saved time series visualization for GitHub - Topic: locations  covid19  exposure  to /Users/tnathu-ai/VSCode/Government-Digital-Transformation/assets/images/github_time_series_analysis_locations  covid19  exposure .png\n",
      "Saved time series visualization for GitHub - Topic: nsw  cases  australia  to /Users/tnathu-ai/VSCode/Government-Digital-Transformation/assets/images/github_time_series_analysis_nsw  cases  australia .png\n",
      "Saved time series visualization for GitHub - Topic: locations  cases  nsw  to /Users/tnathu-ai/VSCode/Government-Digital-Transformation/assets/images/github_time_series_analysis_locations  cases  nsw .png\n",
      "Saved time series visualization for GitHub - Topic: nsw  cases  covid19  to /Users/tnathu-ai/VSCode/Government-Digital-Transformation/assets/images/github_time_series_analysis_nsw  cases  covid19 .png\n",
      "Saved time series visualization for GitHub - Topic: australia  exposure  act  to /Users/tnathu-ai/VSCode/Government-Digital-Transformation/assets/images/github_time_series_analysis_australia  exposure  act .png\n",
      "Saved top services visualization for GitHub to /Users/tnathu-ai/VSCode/Government-Digital-Transformation/assets/images/github_top_services.png\n",
      "Saved top services visualization for GitHub to /Users/tnathu-ai/VSCode/Government-Digital-Transformation/assets/images/github_top_services.png\n",
      "Saved top services visualization for GitHub to /Users/tnathu-ai/VSCode/Government-Digital-Transformation/assets/images/github_top_services.png\n",
      "Saved top services visualization for GitHub to /Users/tnathu-ai/VSCode/Government-Digital-Transformation/assets/images/github_top_services.png\n",
      "Saved top services visualization for GitHub to /Users/tnathu-ai/VSCode/Government-Digital-Transformation/assets/images/github_top_services.png\n",
      "Saved top services visualization for GitHub to /Users/tnathu-ai/VSCode/Government-Digital-Transformation/assets/images/github_top_services.png\n",
      "Saved top services visualization for GitHub to /Users/tnathu-ai/VSCode/Government-Digital-Transformation/assets/images/github_top_services.png\n",
      "Saved top services visualization for GitHub to /Users/tnathu-ai/VSCode/Government-Digital-Transformation/assets/images/github_top_services.png\n",
      "Saved top services visualization for GitHub to /Users/tnathu-ai/VSCode/Government-Digital-Transformation/assets/images/github_top_services.png\n",
      "Saved top services visualization for GitHub to /Users/tnathu-ai/VSCode/Government-Digital-Transformation/assets/images/github_top_services.png\n",
      "Saved top services visualization for GitHub to /Users/tnathu-ai/VSCode/Government-Digital-Transformation/assets/images/github_top_services.png\n",
      "Saved top services visualization for GitHub to /Users/tnathu-ai/VSCode/Government-Digital-Transformation/assets/images/github_top_services.png\n",
      "Saved top services visualization for GitHub to /Users/tnathu-ai/VSCode/Government-Digital-Transformation/assets/images/github_top_services.png\n",
      "Saved top services visualization for GitHub to /Users/tnathu-ai/VSCode/Government-Digital-Transformation/assets/images/github_top_services.png\n",
      "Saved top services visualization for GitHub to /Users/tnathu-ai/VSCode/Government-Digital-Transformation/assets/images/github_top_services.png\n",
      "Saved top services visualization for GitHub to /Users/tnathu-ai/VSCode/Government-Digital-Transformation/assets/images/github_top_services.png\n",
      "Saved top services visualization for GitHub to /Users/tnathu-ai/VSCode/Government-Digital-Transformation/assets/images/github_top_services.png\n",
      "Saved top services visualization for GitHub to /Users/tnathu-ai/VSCode/Government-Digital-Transformation/assets/images/github_top_services.png\n",
      "Saved top services visualization for GitHub to /Users/tnathu-ai/VSCode/Government-Digital-Transformation/assets/images/github_top_services.png\n",
      "Saved top services visualization for GitHub to /Users/tnathu-ai/VSCode/Government-Digital-Transformation/assets/images/github_top_services.png\n",
      "Saved top services visualization for GitHub to /Users/tnathu-ai/VSCode/Government-Digital-Transformation/assets/images/github_top_services.png\n",
      "Saved top services visualization for GitHub to /Users/tnathu-ai/VSCode/Government-Digital-Transformation/assets/images/github_top_services.png\n",
      "Saved top services visualization for GitHub to /Users/tnathu-ai/VSCode/Government-Digital-Transformation/assets/images/github_top_services.png\n",
      "Saved top services visualization for GitHub to /Users/tnathu-ai/VSCode/Government-Digital-Transformation/assets/images/github_top_services.png\n",
      "Saved top services visualization for GitHub to /Users/tnathu-ai/VSCode/Government-Digital-Transformation/assets/images/github_top_services.png\n",
      "Saved top services visualization for GitHub to /Users/tnathu-ai/VSCode/Government-Digital-Transformation/assets/images/github_top_services.png\n",
      "Saved top services visualization for GitHub to /Users/tnathu-ai/VSCode/Government-Digital-Transformation/assets/images/github_top_services.png\n",
      "Saved top services visualization for GitHub to /Users/tnathu-ai/VSCode/Government-Digital-Transformation/assets/images/github_top_services.png\n",
      "Saved top services visualization for GitHub to /Users/tnathu-ai/VSCode/Government-Digital-Transformation/assets/images/github_top_services.png\n",
      "Saved top services visualization for GitHub to /Users/tnathu-ai/VSCode/Government-Digital-Transformation/assets/images/github_top_services.png\n",
      "Saved top services visualization for GitHub to /Users/tnathu-ai/VSCode/Government-Digital-Transformation/assets/images/github_top_services.png\n",
      "Saved top services visualization for GitHub to /Users/tnathu-ai/VSCode/Government-Digital-Transformation/assets/images/github_top_services.png\n",
      "Saved top services visualization for GitHub to /Users/tnathu-ai/VSCode/Government-Digital-Transformation/assets/images/github_top_services.png\n",
      "Saved top services visualization for GitHub to /Users/tnathu-ai/VSCode/Government-Digital-Transformation/assets/images/github_top_services.png\n",
      "Saved top services visualization for GitHub to /Users/tnathu-ai/VSCode/Government-Digital-Transformation/assets/images/github_top_services.png\n",
      "Saved top services visualization for GitHub to /Users/tnathu-ai/VSCode/Government-Digital-Transformation/assets/images/github_top_services.png\n",
      "Saved top services visualization for GitHub to /Users/tnathu-ai/VSCode/Government-Digital-Transformation/assets/images/github_top_services.png\n",
      "Saved top services visualization for GitHub to /Users/tnathu-ai/VSCode/Government-Digital-Transformation/assets/images/github_top_services.png\n",
      "Saved top services visualization for GitHub to /Users/tnathu-ai/VSCode/Government-Digital-Transformation/assets/images/github_top_services.png\n",
      "Saved top services visualization for GitHub to /Users/tnathu-ai/VSCode/Government-Digital-Transformation/assets/images/github_top_services.png\n",
      "Saved sentiment analysis for StackOverflow to /Users/tnathu-ai/VSCode/Government-Digital-Transformation/data/intermediate/analysis/stackoverflow_sentiment_analysis.txt\n",
      "Extracted Topic: (0, '0.033*\"new\" + 0.031*\"key\" + 0.030*\"value\" + 0.008*\"boilerplateapp1\" + 0.007*\"var\"')\n",
      "Extracted Topic: (1, '0.042*\"option\" + 0.025*\"div\" + 0.011*\"function\" + 0.008*\"script\" + 0.007*\"return\"')\n",
      "Extracted Topic: (2, '0.006*\"private\" + 0.006*\"data\" + 0.006*\"post\" + 0.005*\"email\" + 0.005*\"cliazureclicoresdkpolicies\"')\n",
      "Extracted Topic: (3, '0.009*\"div\" + 0.007*\"data\" + 0.007*\"using\" + 0.007*\"post\" + 0.006*\"return\"')\n",
      "Extracted Topic: (4, '0.021*\"value\" + 0.017*\"get\" + 0.013*\"enabled\" + 0.012*\"string\" + 0.011*\"support\"')\n",
      "Saved topic modeling for StackOverflow to /Users/tnathu-ai/VSCode/Government-Digital-Transformation/data/intermediate/analysis/stackoverflow_topic_modeling.txt\n",
      "Saved qualitative analysis for StackOverflow to /Users/tnathu-ai/VSCode/Government-Digital-Transformation/data/intermediate/analysis/stackoverflow_qualitative_analysis.txt\n",
      "Saved time series visualization for StackOverflow - Topic: new  key  value  to /Users/tnathu-ai/VSCode/Government-Digital-Transformation/assets/images/stackoverflow_time_series_analysis_new  key  value .png\n"
     ]
    },
    {
     "name": "stderr",
     "output_type": "stream",
     "text": [
      "<timed exec>:63: SettingWithCopyWarning: \n",
      "A value is trying to be set on a copy of a slice from a DataFrame.\n",
      "Try using .loc[row_indexer,col_indexer] = value instead\n",
      "\n",
      "See the caveats in the documentation: https://pandas.pydata.org/pandas-docs/stable/user_guide/indexing.html#returning-a-view-versus-a-copy\n",
      "<timed exec>:63: SettingWithCopyWarning: \n",
      "A value is trying to be set on a copy of a slice from a DataFrame.\n",
      "Try using .loc[row_indexer,col_indexer] = value instead\n",
      "\n",
      "See the caveats in the documentation: https://pandas.pydata.org/pandas-docs/stable/user_guide/indexing.html#returning-a-view-versus-a-copy\n"
     ]
    },
    {
     "name": "stdout",
     "output_type": "stream",
     "text": [
      "Saved time series visualization for StackOverflow - Topic: option  div  function  to /Users/tnathu-ai/VSCode/Government-Digital-Transformation/assets/images/stackoverflow_time_series_analysis_option  div  function .png\n",
      "Saved time series visualization for StackOverflow - Topic: private  data  post  to /Users/tnathu-ai/VSCode/Government-Digital-Transformation/assets/images/stackoverflow_time_series_analysis_private  data  post .png\n"
     ]
    },
    {
     "name": "stderr",
     "output_type": "stream",
     "text": [
      "<timed exec>:63: SettingWithCopyWarning: \n",
      "A value is trying to be set on a copy of a slice from a DataFrame.\n",
      "Try using .loc[row_indexer,col_indexer] = value instead\n",
      "\n",
      "See the caveats in the documentation: https://pandas.pydata.org/pandas-docs/stable/user_guide/indexing.html#returning-a-view-versus-a-copy\n",
      "<timed exec>:63: SettingWithCopyWarning: \n",
      "A value is trying to be set on a copy of a slice from a DataFrame.\n",
      "Try using .loc[row_indexer,col_indexer] = value instead\n",
      "\n",
      "See the caveats in the documentation: https://pandas.pydata.org/pandas-docs/stable/user_guide/indexing.html#returning-a-view-versus-a-copy\n"
     ]
    },
    {
     "name": "stdout",
     "output_type": "stream",
     "text": [
      "Saved time series visualization for StackOverflow - Topic: div  data  using  to /Users/tnathu-ai/VSCode/Government-Digital-Transformation/assets/images/stackoverflow_time_series_analysis_div  data  using .png\n",
      "Saved time series visualization for StackOverflow - Topic: value  get  enabled  to /Users/tnathu-ai/VSCode/Government-Digital-Transformation/assets/images/stackoverflow_time_series_analysis_value  get  enabled .png\n",
      "Saved sentiment analysis for StackOverflow to /Users/tnathu-ai/VSCode/Government-Digital-Transformation/data/intermediate/analysis/stackoverflow_sentiment_analysis.txt\n",
      "Extracted Topic: (0, '0.002*\"option\" + 0.002*\"management\" + 0.002*\"engineering\" + 0.002*\"design\" + 0.002*\"studies\"')\n",
      "Extracted Topic: (1, '0.156*\"option\" + 0.015*\"management\" + 0.013*\"studies\" + 0.012*\"engineering\" + 0.010*\"design\"')\n",
      "Extracted Topic: (2, '0.002*\"option\" + 0.002*\"management\" + 0.002*\"engineering\" + 0.002*\"studies\" + 0.002*\"design\"')\n",
      "Extracted Topic: (3, '0.002*\"option\" + 0.002*\"engineering\" + 0.002*\"management\" + 0.002*\"studies\" + 0.002*\"form\"')\n",
      "Extracted Topic: (4, '0.002*\"option\" + 0.002*\"management\" + 0.002*\"studies\" + 0.002*\"business\" + 0.002*\"engineering\"')\n",
      "Saved topic modeling for StackOverflow to /Users/tnathu-ai/VSCode/Government-Digital-Transformation/data/intermediate/analysis/stackoverflow_topic_modeling.txt\n",
      "Saved qualitative analysis for StackOverflow to /Users/tnathu-ai/VSCode/Government-Digital-Transformation/data/intermediate/analysis/stackoverflow_qualitative_analysis.txt\n",
      "Saved time series visualization for StackOverflow - Topic: option  management  engineering  to /Users/tnathu-ai/VSCode/Government-Digital-Transformation/assets/images/stackoverflow_time_series_analysis_option  management  engineering .png\n",
      "Saved time series visualization for StackOverflow - Topic: option  management  studies  to /Users/tnathu-ai/VSCode/Government-Digital-Transformation/assets/images/stackoverflow_time_series_analysis_option  management  studies .png\n",
      "Saved time series visualization for StackOverflow - Topic: option  management  engineering  to /Users/tnathu-ai/VSCode/Government-Digital-Transformation/assets/images/stackoverflow_time_series_analysis_option  management  engineering .png\n",
      "Saved time series visualization for StackOverflow - Topic: option  engineering  management  to /Users/tnathu-ai/VSCode/Government-Digital-Transformation/assets/images/stackoverflow_time_series_analysis_option  engineering  management .png\n",
      "Saved time series visualization for StackOverflow - Topic: option  management  studies  to /Users/tnathu-ai/VSCode/Government-Digital-Transformation/assets/images/stackoverflow_time_series_analysis_option  management  studies .png\n",
      "Saved sentiment analysis for StackOverflow to /Users/tnathu-ai/VSCode/Government-Digital-Transformation/data/intermediate/analysis/stackoverflow_sentiment_analysis.txt\n",
      "Extracted Topic: (0, '0.000*\"div\" + 0.000*\"fitness\" + 0.000*\"travel\" + 0.000*\"li\" + 0.000*\"python\"')\n",
      "Extracted Topic: (1, '0.000*\"div\" + 0.000*\"script\" + 0.000*\"li\" + 0.000*\"health\" + 0.000*\"fitness\"')\n",
      "Extracted Topic: (2, '0.044*\"div\" + 0.009*\"li\" + 0.008*\"script\" + 0.008*\"language\" + 0.007*\"python\"')\n",
      "Extracted Topic: (3, '0.032*\"health\" + 0.030*\"fitness\" + 0.027*\"sports\" + 0.025*\"travel\" + 0.024*\"recreation\"')\n",
      "Extracted Topic: (4, '0.023*\"div\" + 0.009*\"team\" + 0.009*\"color\" + 0.009*\"height\" + 0.009*\"classblock\"')\n",
      "Saved topic modeling for StackOverflow to /Users/tnathu-ai/VSCode/Government-Digital-Transformation/data/intermediate/analysis/stackoverflow_topic_modeling.txt\n",
      "Saved qualitative analysis for StackOverflow to /Users/tnathu-ai/VSCode/Government-Digital-Transformation/data/intermediate/analysis/stackoverflow_qualitative_analysis.txt\n",
      "Saved time series visualization for StackOverflow - Topic: div  fitness  travel  to /Users/tnathu-ai/VSCode/Government-Digital-Transformation/assets/images/stackoverflow_time_series_analysis_div  fitness  travel .png\n"
     ]
    },
    {
     "name": "stderr",
     "output_type": "stream",
     "text": [
      "<timed exec>:63: SettingWithCopyWarning: \n",
      "A value is trying to be set on a copy of a slice from a DataFrame.\n",
      "Try using .loc[row_indexer,col_indexer] = value instead\n",
      "\n",
      "See the caveats in the documentation: https://pandas.pydata.org/pandas-docs/stable/user_guide/indexing.html#returning-a-view-versus-a-copy\n"
     ]
    },
    {
     "name": "stdout",
     "output_type": "stream",
     "text": [
      "Saved time series visualization for StackOverflow - Topic: div  script  li  to /Users/tnathu-ai/VSCode/Government-Digital-Transformation/assets/images/stackoverflow_time_series_analysis_div  script  li .png\n",
      "Saved time series visualization for StackOverflow - Topic: div  li  script  to /Users/tnathu-ai/VSCode/Government-Digital-Transformation/assets/images/stackoverflow_time_series_analysis_div  li  script .png\n"
     ]
    },
    {
     "name": "stderr",
     "output_type": "stream",
     "text": [
      "<timed exec>:63: SettingWithCopyWarning: \n",
      "A value is trying to be set on a copy of a slice from a DataFrame.\n",
      "Try using .loc[row_indexer,col_indexer] = value instead\n",
      "\n",
      "See the caveats in the documentation: https://pandas.pydata.org/pandas-docs/stable/user_guide/indexing.html#returning-a-view-versus-a-copy\n"
     ]
    },
    {
     "name": "stdout",
     "output_type": "stream",
     "text": [
      "Saved time series visualization for StackOverflow - Topic: health  fitness  sports  to /Users/tnathu-ai/VSCode/Government-Digital-Transformation/assets/images/stackoverflow_time_series_analysis_health  fitness  sports .png\n",
      "Saved time series visualization for StackOverflow - Topic: div  team  color  to /Users/tnathu-ai/VSCode/Government-Digital-Transformation/assets/images/stackoverflow_time_series_analysis_div  team  color .png\n",
      "Saved sentiment analysis for StackOverflow to /Users/tnathu-ai/VSCode/Government-Digital-Transformation/data/intermediate/analysis/stackoverflow_sentiment_analysis.txt\n",
      "Extracted Topic: (0, '0.058*\"question\" + 0.052*\"new\" + 0.034*\"none\" + 0.010*\"questionthe\" + 0.010*\"non\"')\n",
      "Extracted Topic: (1, '0.001*\"question\" + 0.001*\"new\" + 0.001*\"none\" + 0.001*\"questionthe\" + 0.001*\"pakistan\"')\n",
      "Extracted Topic: (2, '0.001*\"new\" + 0.001*\"question\" + 0.001*\"none\" + 0.001*\"non\" + 0.001*\"pakistan\"')\n",
      "Extracted Topic: (3, '0.001*\"new\" + 0.001*\"question\" + 0.001*\"none\" + 0.001*\"non\" + 0.001*\"pakistan\"')\n",
      "Extracted Topic: (4, '0.001*\"new\" + 0.001*\"none\" + 0.001*\"question\" + 0.001*\"non\" + 0.001*\"questionthe\"')\n",
      "Saved topic modeling for StackOverflow to /Users/tnathu-ai/VSCode/Government-Digital-Transformation/data/intermediate/analysis/stackoverflow_topic_modeling.txt\n",
      "Saved qualitative analysis for StackOverflow to /Users/tnathu-ai/VSCode/Government-Digital-Transformation/data/intermediate/analysis/stackoverflow_qualitative_analysis.txt\n",
      "Saved time series visualization for StackOverflow - Topic: question  new  none  to /Users/tnathu-ai/VSCode/Government-Digital-Transformation/assets/images/stackoverflow_time_series_analysis_question  new  none .png\n",
      "Saved time series visualization for StackOverflow - Topic: question  new  none  to /Users/tnathu-ai/VSCode/Government-Digital-Transformation/assets/images/stackoverflow_time_series_analysis_question  new  none .png\n",
      "Saved time series visualization for StackOverflow - Topic: new  question  none  to /Users/tnathu-ai/VSCode/Government-Digital-Transformation/assets/images/stackoverflow_time_series_analysis_new  question  none .png\n",
      "Saved time series visualization for StackOverflow - Topic: new  question  none  to /Users/tnathu-ai/VSCode/Government-Digital-Transformation/assets/images/stackoverflow_time_series_analysis_new  question  none .png\n",
      "Saved time series visualization for StackOverflow - Topic: new  none  question  to /Users/tnathu-ai/VSCode/Government-Digital-Transformation/assets/images/stackoverflow_time_series_analysis_new  none  question .png\n",
      "Saved sentiment analysis for StackOverflow to /Users/tnathu-ai/VSCode/Government-Digital-Transformation/data/intermediate/analysis/stackoverflow_sentiment_analysis.txt\n",
      "Extracted Topic: (0, '0.002*\"line\" + 0.002*\"economics\" + 0.002*\"science\" + 0.002*\"file\" + 0.002*\"economic\"')\n",
      "Extracted Topic: (1, '0.038*\"science\" + 0.030*\"economics\" + 0.025*\"economic\" + 0.024*\"institute\" + 0.017*\"research\"')\n",
      "Extracted Topic: (2, '0.032*\"line\" + 0.029*\"file\" + 0.012*\"url\" + 0.010*\"import\" + 0.008*\"py\"')\n",
      "Extracted Topic: (3, '0.002*\"file\" + 0.002*\"economics\" + 0.002*\"line\" + 0.002*\"science\" + 0.002*\"institute\"')\n",
      "Extracted Topic: (4, '0.002*\"line\" + 0.002*\"file\" + 0.002*\"url\" + 0.002*\"import\" + 0.002*\"py\"')\n",
      "Saved topic modeling for StackOverflow to /Users/tnathu-ai/VSCode/Government-Digital-Transformation/data/intermediate/analysis/stackoverflow_topic_modeling.txt\n",
      "Saved qualitative analysis for StackOverflow to /Users/tnathu-ai/VSCode/Government-Digital-Transformation/data/intermediate/analysis/stackoverflow_qualitative_analysis.txt\n",
      "Saved time series visualization for StackOverflow - Topic: line  economics  science  to /Users/tnathu-ai/VSCode/Government-Digital-Transformation/assets/images/stackoverflow_time_series_analysis_line  economics  science .png\n",
      "Saved time series visualization for StackOverflow - Topic: science  economics  economic  to /Users/tnathu-ai/VSCode/Government-Digital-Transformation/assets/images/stackoverflow_time_series_analysis_science  economics  economic .png\n"
     ]
    },
    {
     "name": "stderr",
     "output_type": "stream",
     "text": [
      "<timed exec>:63: SettingWithCopyWarning: \n",
      "A value is trying to be set on a copy of a slice from a DataFrame.\n",
      "Try using .loc[row_indexer,col_indexer] = value instead\n",
      "\n",
      "See the caveats in the documentation: https://pandas.pydata.org/pandas-docs/stable/user_guide/indexing.html#returning-a-view-versus-a-copy\n"
     ]
    },
    {
     "name": "stdout",
     "output_type": "stream",
     "text": [
      "Saved time series visualization for StackOverflow - Topic: line  file  url  to /Users/tnathu-ai/VSCode/Government-Digital-Transformation/assets/images/stackoverflow_time_series_analysis_line  file  url .png\n",
      "Saved time series visualization for StackOverflow - Topic: file  economics  line  to /Users/tnathu-ai/VSCode/Government-Digital-Transformation/assets/images/stackoverflow_time_series_analysis_file  economics  line .png\n"
     ]
    },
    {
     "name": "stderr",
     "output_type": "stream",
     "text": [
      "<timed exec>:63: SettingWithCopyWarning: \n",
      "A value is trying to be set on a copy of a slice from a DataFrame.\n",
      "Try using .loc[row_indexer,col_indexer] = value instead\n",
      "\n",
      "See the caveats in the documentation: https://pandas.pydata.org/pandas-docs/stable/user_guide/indexing.html#returning-a-view-versus-a-copy\n"
     ]
    },
    {
     "name": "stdout",
     "output_type": "stream",
     "text": [
      "Saved time series visualization for StackOverflow - Topic: line  file  url  to /Users/tnathu-ai/VSCode/Government-Digital-Transformation/assets/images/stackoverflow_time_series_analysis_line  file  url .png\n",
      "Saved sentiment analysis for StackOverflow to /Users/tnathu-ai/VSCode/Government-Digital-Transformation/data/intermediate/analysis/stackoverflow_sentiment_analysis.txt\n",
      "Extracted Topic: (0, '0.017*\"court\" + 0.015*\"patents\" + 0.015*\"abstract\" + 0.014*\"claims\" + 0.014*\"patent\"')\n",
      "Extracted Topic: (1, '0.104*\"option\" + 0.010*\"management\" + 0.010*\"line\" + 0.009*\"studies\" + 0.009*\"file\"')\n",
      "Extracted Topic: (2, '0.000*\"option\" + 0.000*\"management\" + 0.000*\"science\" + 0.000*\"studies\" + 0.000*\"keywords\"')\n",
      "Extracted Topic: (3, '0.030*\"science\" + 0.023*\"economics\" + 0.019*\"economic\" + 0.019*\"institute\" + 0.013*\"research\"')\n",
      "Extracted Topic: (4, '0.007*\"url\" + 0.007*\"title\" + 0.007*\"category\" + 0.006*\"image\" + 0.006*\"keywords\"')\n",
      "Saved topic modeling for StackOverflow to /Users/tnathu-ai/VSCode/Government-Digital-Transformation/data/intermediate/analysis/stackoverflow_topic_modeling.txt\n",
      "Saved qualitative analysis for StackOverflow to /Users/tnathu-ai/VSCode/Government-Digital-Transformation/data/intermediate/analysis/stackoverflow_qualitative_analysis.txt\n",
      "Saved time series visualization for StackOverflow - Topic: court  patents  abstract  to /Users/tnathu-ai/VSCode/Government-Digital-Transformation/assets/images/stackoverflow_time_series_analysis_court  patents  abstract .png\n"
     ]
    },
    {
     "name": "stderr",
     "output_type": "stream",
     "text": [
      "<timed exec>:63: SettingWithCopyWarning: \n",
      "A value is trying to be set on a copy of a slice from a DataFrame.\n",
      "Try using .loc[row_indexer,col_indexer] = value instead\n",
      "\n",
      "See the caveats in the documentation: https://pandas.pydata.org/pandas-docs/stable/user_guide/indexing.html#returning-a-view-versus-a-copy\n"
     ]
    },
    {
     "name": "stdout",
     "output_type": "stream",
     "text": [
      "Saved time series visualization for StackOverflow - Topic: option  management  line  to /Users/tnathu-ai/VSCode/Government-Digital-Transformation/assets/images/stackoverflow_time_series_analysis_option  management  line .png\n",
      "Saved time series visualization for StackOverflow - Topic: option  management  science  to /Users/tnathu-ai/VSCode/Government-Digital-Transformation/assets/images/stackoverflow_time_series_analysis_option  management  science .png\n"
     ]
    },
    {
     "name": "stderr",
     "output_type": "stream",
     "text": [
      "<timed exec>:63: SettingWithCopyWarning: \n",
      "A value is trying to be set on a copy of a slice from a DataFrame.\n",
      "Try using .loc[row_indexer,col_indexer] = value instead\n",
      "\n",
      "See the caveats in the documentation: https://pandas.pydata.org/pandas-docs/stable/user_guide/indexing.html#returning-a-view-versus-a-copy\n",
      "<timed exec>:63: SettingWithCopyWarning: \n",
      "A value is trying to be set on a copy of a slice from a DataFrame.\n",
      "Try using .loc[row_indexer,col_indexer] = value instead\n",
      "\n",
      "See the caveats in the documentation: https://pandas.pydata.org/pandas-docs/stable/user_guide/indexing.html#returning-a-view-versus-a-copy\n"
     ]
    },
    {
     "name": "stdout",
     "output_type": "stream",
     "text": [
      "Saved time series visualization for StackOverflow - Topic: science  economics  economic  to /Users/tnathu-ai/VSCode/Government-Digital-Transformation/assets/images/stackoverflow_time_series_analysis_science  economics  economic .png\n",
      "Saved time series visualization for StackOverflow - Topic: url  title  category  to /Users/tnathu-ai/VSCode/Government-Digital-Transformation/assets/images/stackoverflow_time_series_analysis_url  title  category .png\n"
     ]
    },
    {
     "name": "stderr",
     "output_type": "stream",
     "text": [
      "<timed exec>:63: SettingWithCopyWarning: \n",
      "A value is trying to be set on a copy of a slice from a DataFrame.\n",
      "Try using .loc[row_indexer,col_indexer] = value instead\n",
      "\n",
      "See the caveats in the documentation: https://pandas.pydata.org/pandas-docs/stable/user_guide/indexing.html#returning-a-view-versus-a-copy\n"
     ]
    },
    {
     "name": "stdout",
     "output_type": "stream",
     "text": [
      "Saved sentiment analysis for StackOverflow to /Users/tnathu-ai/VSCode/Government-Digital-Transformation/data/intermediate/analysis/stackoverflow_sentiment_analysis.txt\n",
      "Extracted Topic: (0, '0.001*\"dd\" + 0.001*\"dt\" + 0.001*\"td\" + 0.001*\"business\" + 0.001*\"australia\"')\n",
      "Extracted Topic: (1, '0.093*\"dd\" + 0.041*\"dt\" + 0.015*\"business\" + 0.012*\"least\" + 0.012*\"tr\"')\n",
      "Extracted Topic: (2, '0.001*\"dd\" + 0.001*\"dt\" + 0.001*\"name\" + 0.001*\"location\" + 0.001*\"council\"')\n",
      "Extracted Topic: (3, '0.031*\"name\" + 0.022*\"council\" + 0.018*\"location\" + 0.015*\"folder\" + 0.014*\"text\"')\n",
      "Extracted Topic: (4, '0.001*\"dd\" + 0.001*\"name\" + 0.001*\"council\" + 0.001*\"dt\" + 0.001*\"coded\"')\n",
      "Saved topic modeling for StackOverflow to /Users/tnathu-ai/VSCode/Government-Digital-Transformation/data/intermediate/analysis/stackoverflow_topic_modeling.txt\n",
      "Saved qualitative analysis for StackOverflow to /Users/tnathu-ai/VSCode/Government-Digital-Transformation/data/intermediate/analysis/stackoverflow_qualitative_analysis.txt\n",
      "Saved time series visualization for StackOverflow - Topic: dd  dt  td  to /Users/tnathu-ai/VSCode/Government-Digital-Transformation/assets/images/stackoverflow_time_series_analysis_dd  dt  td .png\n"
     ]
    },
    {
     "name": "stderr",
     "output_type": "stream",
     "text": [
      "<timed exec>:63: SettingWithCopyWarning: \n",
      "A value is trying to be set on a copy of a slice from a DataFrame.\n",
      "Try using .loc[row_indexer,col_indexer] = value instead\n",
      "\n",
      "See the caveats in the documentation: https://pandas.pydata.org/pandas-docs/stable/user_guide/indexing.html#returning-a-view-versus-a-copy\n"
     ]
    },
    {
     "name": "stdout",
     "output_type": "stream",
     "text": [
      "Saved time series visualization for StackOverflow - Topic: dd  dt  business  to /Users/tnathu-ai/VSCode/Government-Digital-Transformation/assets/images/stackoverflow_time_series_analysis_dd  dt  business .png\n",
      "Saved time series visualization for StackOverflow - Topic: dd  dt  name  to /Users/tnathu-ai/VSCode/Government-Digital-Transformation/assets/images/stackoverflow_time_series_analysis_dd  dt  name .png\n",
      "Saved time series visualization for StackOverflow - Topic: name  council  location  to /Users/tnathu-ai/VSCode/Government-Digital-Transformation/assets/images/stackoverflow_time_series_analysis_name  council  location .png\n",
      "Saved time series visualization for StackOverflow - Topic: dd  name  council  to /Users/tnathu-ai/VSCode/Government-Digital-Transformation/assets/images/stackoverflow_time_series_analysis_dd  name  council .png\n",
      "Saved sentiment analysis for StackOverflow to /Users/tnathu-ai/VSCode/Government-Digital-Transformation/data/intermediate/analysis/stackoverflow_sentiment_analysis.txt\n",
      "Extracted Topic: (0, '0.018*\"court\" + 0.016*\"patents\" + 0.015*\"abstract\" + 0.015*\"claims\" + 0.014*\"patent\"')\n",
      "Extracted Topic: (1, '0.147*\"option\" + 0.014*\"management\" + 0.013*\"studies\" + 0.011*\"engineering\" + 0.009*\"design\"')\n",
      "Extracted Topic: (2, '0.019*\"line\" + 0.017*\"file\" + 0.013*\"science\" + 0.010*\"economics\" + 0.009*\"economic\"')\n",
      "Extracted Topic: (3, '0.018*\"application\" + 0.017*\"used\" + 0.015*\"view\" + 0.015*\"detail\" + 0.012*\"need\"')\n",
      "Extracted Topic: (4, '0.067*\"lia\" + 0.035*\"ul\" + 0.032*\"div\" + 0.019*\"li\" + 0.011*\"training\"')\n",
      "Saved topic modeling for StackOverflow to /Users/tnathu-ai/VSCode/Government-Digital-Transformation/data/intermediate/analysis/stackoverflow_topic_modeling.txt\n",
      "Saved qualitative analysis for StackOverflow to /Users/tnathu-ai/VSCode/Government-Digital-Transformation/data/intermediate/analysis/stackoverflow_qualitative_analysis.txt\n"
     ]
    },
    {
     "name": "stderr",
     "output_type": "stream",
     "text": [
      "<timed exec>:63: SettingWithCopyWarning: \n",
      "A value is trying to be set on a copy of a slice from a DataFrame.\n",
      "Try using .loc[row_indexer,col_indexer] = value instead\n",
      "\n",
      "See the caveats in the documentation: https://pandas.pydata.org/pandas-docs/stable/user_guide/indexing.html#returning-a-view-versus-a-copy\n"
     ]
    },
    {
     "name": "stdout",
     "output_type": "stream",
     "text": [
      "Saved time series visualization for StackOverflow - Topic: court  patents  abstract  to /Users/tnathu-ai/VSCode/Government-Digital-Transformation/assets/images/stackoverflow_time_series_analysis_court  patents  abstract .png\n",
      "Saved time series visualization for StackOverflow - Topic: option  management  studies  to /Users/tnathu-ai/VSCode/Government-Digital-Transformation/assets/images/stackoverflow_time_series_analysis_option  management  studies .png\n"
     ]
    },
    {
     "name": "stderr",
     "output_type": "stream",
     "text": [
      "<timed exec>:63: SettingWithCopyWarning: \n",
      "A value is trying to be set on a copy of a slice from a DataFrame.\n",
      "Try using .loc[row_indexer,col_indexer] = value instead\n",
      "\n",
      "See the caveats in the documentation: https://pandas.pydata.org/pandas-docs/stable/user_guide/indexing.html#returning-a-view-versus-a-copy\n"
     ]
    },
    {
     "name": "stdout",
     "output_type": "stream",
     "text": [
      "Saved time series visualization for StackOverflow - Topic: line  file  science  to /Users/tnathu-ai/VSCode/Government-Digital-Transformation/assets/images/stackoverflow_time_series_analysis_line  file  science .png\n",
      "Saved time series visualization for StackOverflow - Topic: application  used  view  to /Users/tnathu-ai/VSCode/Government-Digital-Transformation/assets/images/stackoverflow_time_series_analysis_application  used  view .png\n"
     ]
    },
    {
     "name": "stderr",
     "output_type": "stream",
     "text": [
      "<timed exec>:63: SettingWithCopyWarning: \n",
      "A value is trying to be set on a copy of a slice from a DataFrame.\n",
      "Try using .loc[row_indexer,col_indexer] = value instead\n",
      "\n",
      "See the caveats in the documentation: https://pandas.pydata.org/pandas-docs/stable/user_guide/indexing.html#returning-a-view-versus-a-copy\n"
     ]
    },
    {
     "name": "stdout",
     "output_type": "stream",
     "text": [
      "Saved time series visualization for StackOverflow - Topic: lia  ul  div  to /Users/tnathu-ai/VSCode/Government-Digital-Transformation/assets/images/stackoverflow_time_series_analysis_lia  ul  div .png\n",
      "Saved sentiment analysis for StackOverflow to /Users/tnathu-ai/VSCode/Government-Digital-Transformation/data/intermediate/analysis/stackoverflow_sentiment_analysis.txt\n",
      "Extracted Topic: (0, '0.001*\"tdtd\" + 0.001*\"source\" + 0.001*\"description\" + 0.001*\"link\" + 0.001*\"medooziescore\"')\n",
      "Extracted Topic: (1, '0.001*\"source\" + 0.001*\"title\" + 0.001*\"medooziescore\" + 0.001*\"link\" + 0.001*\"tdtd\"')\n",
      "Extracted Topic: (2, '0.001*\"source\" + 0.001*\"tdtd\" + 0.001*\"title\" + 0.001*\"link\" + 0.001*\"description\"')\n",
      "Extracted Topic: (3, '0.001*\"source\" + 0.001*\"tdtd\" + 0.001*\"title\" + 0.001*\"link\" + 0.001*\"description\"')\n",
      "Extracted Topic: (4, '0.027*\"source\" + 0.019*\"link\" + 0.019*\"tdtd\" + 0.017*\"title\" + 0.016*\"description\"')\n",
      "Saved topic modeling for StackOverflow to /Users/tnathu-ai/VSCode/Government-Digital-Transformation/data/intermediate/analysis/stackoverflow_topic_modeling.txt\n",
      "Saved qualitative analysis for StackOverflow to /Users/tnathu-ai/VSCode/Government-Digital-Transformation/data/intermediate/analysis/stackoverflow_qualitative_analysis.txt\n",
      "Saved time series visualization for StackOverflow - Topic: tdtd  source  description  to /Users/tnathu-ai/VSCode/Government-Digital-Transformation/assets/images/stackoverflow_time_series_analysis_tdtd  source  description .png\n",
      "Saved time series visualization for StackOverflow - Topic: source  title  medooziescore  to /Users/tnathu-ai/VSCode/Government-Digital-Transformation/assets/images/stackoverflow_time_series_analysis_source  title  medooziescore .png\n",
      "Saved time series visualization for StackOverflow - Topic: source  tdtd  title  to /Users/tnathu-ai/VSCode/Government-Digital-Transformation/assets/images/stackoverflow_time_series_analysis_source  tdtd  title .png\n",
      "Saved time series visualization for StackOverflow - Topic: source  tdtd  title  to /Users/tnathu-ai/VSCode/Government-Digital-Transformation/assets/images/stackoverflow_time_series_analysis_source  tdtd  title .png\n",
      "Saved time series visualization for StackOverflow - Topic: source  link  tdtd  to /Users/tnathu-ai/VSCode/Government-Digital-Transformation/assets/images/stackoverflow_time_series_analysis_source  link  tdtd .png\n",
      "Saved sentiment analysis for StackOverflow to /Users/tnathu-ai/VSCode/Government-Digital-Transformation/data/intermediate/analysis/stackoverflow_sentiment_analysis.txt\n",
      "Extracted Topic: (0, '0.002*\"none\" + 0.002*\"false\" + 0.002*\"upyobject\" + 0.002*\"upyid\" + 0.002*\"hashtags\"')\n",
      "Extracted Topic: (1, '0.002*\"none\" + 0.002*\"false\" + 0.002*\"upyobject\" + 0.002*\"upyid\" + 0.002*\"hashtags\"')\n",
      "Extracted Topic: (2, '0.031*\"false\" + 0.029*\"none\" + 0.021*\"hashtags\" + 0.019*\"upyobject\" + 0.016*\"upyid\"')\n",
      "Extracted Topic: (3, '0.002*\"none\" + 0.002*\"false\" + 0.002*\"upyid\" + 0.002*\"hashtags\" + 0.002*\"upyobject\"')\n",
      "Extracted Topic: (4, '0.002*\"none\" + 0.002*\"false\" + 0.002*\"upyobject\" + 0.002*\"hashtags\" + 0.002*\"tweet\"')\n",
      "Saved topic modeling for StackOverflow to /Users/tnathu-ai/VSCode/Government-Digital-Transformation/data/intermediate/analysis/stackoverflow_topic_modeling.txt\n",
      "Saved qualitative analysis for StackOverflow to /Users/tnathu-ai/VSCode/Government-Digital-Transformation/data/intermediate/analysis/stackoverflow_qualitative_analysis.txt\n",
      "Saved time series visualization for StackOverflow - Topic: none  false  upyobject  to /Users/tnathu-ai/VSCode/Government-Digital-Transformation/assets/images/stackoverflow_time_series_analysis_none  false  upyobject .png\n",
      "Saved time series visualization for StackOverflow - Topic: none  false  upyobject  to /Users/tnathu-ai/VSCode/Government-Digital-Transformation/assets/images/stackoverflow_time_series_analysis_none  false  upyobject .png\n",
      "Saved time series visualization for StackOverflow - Topic: false  none  hashtags  to /Users/tnathu-ai/VSCode/Government-Digital-Transformation/assets/images/stackoverflow_time_series_analysis_false  none  hashtags .png\n",
      "Saved time series visualization for StackOverflow - Topic: none  false  upyid  to /Users/tnathu-ai/VSCode/Government-Digital-Transformation/assets/images/stackoverflow_time_series_analysis_none  false  upyid .png\n",
      "Saved time series visualization for StackOverflow - Topic: none  false  upyobject  to /Users/tnathu-ai/VSCode/Government-Digital-Transformation/assets/images/stackoverflow_time_series_analysis_none  false  upyobject .png\n",
      "Saved sentiment analysis for StackOverflow to /Users/tnathu-ai/VSCode/Government-Digital-Transformation/data/intermediate/analysis/stackoverflow_sentiment_analysis.txt\n",
      "Extracted Topic: (0, '0.002*\"stylefontsize\" + 0.002*\"25px\" + 0.002*\"isnumeric\" + 0.002*\"else\" + 0.002*\"td\"')\n",
      "Extracted Topic: (1, '0.002*\"stylefontsize\" + 0.002*\"td\" + 0.002*\"25px\" + 0.002*\"centrelink\" + 0.002*\"span\"')\n",
      "Extracted Topic: (2, '0.041*\"form\" + 0.039*\"input\" + 0.037*\"label\" + 0.024*\"mandatory\" + 0.022*\"buttons\"')\n",
      "Extracted Topic: (3, '0.033*\"td\" + 0.024*\"stylefontsize\" + 0.022*\"25px\" + 0.017*\"span\" + 0.016*\"tr\"')\n",
      "Extracted Topic: (4, '0.130*\"else\" + 0.095*\"isnumeric\" + 0.068*\"invalid\" + 0.032*\"false\" + 0.023*\"return\"')\n",
      "Saved topic modeling for StackOverflow to /Users/tnathu-ai/VSCode/Government-Digital-Transformation/data/intermediate/analysis/stackoverflow_topic_modeling.txt\n",
      "Saved qualitative analysis for StackOverflow to /Users/tnathu-ai/VSCode/Government-Digital-Transformation/data/intermediate/analysis/stackoverflow_qualitative_analysis.txt\n"
     ]
    },
    {
     "name": "stderr",
     "output_type": "stream",
     "text": [
      "<timed exec>:63: SettingWithCopyWarning: \n",
      "A value is trying to be set on a copy of a slice from a DataFrame.\n",
      "Try using .loc[row_indexer,col_indexer] = value instead\n",
      "\n",
      "See the caveats in the documentation: https://pandas.pydata.org/pandas-docs/stable/user_guide/indexing.html#returning-a-view-versus-a-copy\n",
      "<timed exec>:63: SettingWithCopyWarning: \n",
      "A value is trying to be set on a copy of a slice from a DataFrame.\n",
      "Try using .loc[row_indexer,col_indexer] = value instead\n",
      "\n",
      "See the caveats in the documentation: https://pandas.pydata.org/pandas-docs/stable/user_guide/indexing.html#returning-a-view-versus-a-copy\n"
     ]
    },
    {
     "name": "stdout",
     "output_type": "stream",
     "text": [
      "Saved time series visualization for StackOverflow - Topic: stylefontsize  25px  isnumeric  to /Users/tnathu-ai/VSCode/Government-Digital-Transformation/assets/images/stackoverflow_time_series_analysis_stylefontsize  25px  isnumeric .png\n",
      "Saved time series visualization for StackOverflow - Topic: stylefontsize  td  25px  to /Users/tnathu-ai/VSCode/Government-Digital-Transformation/assets/images/stackoverflow_time_series_analysis_stylefontsize  td  25px .png\n"
     ]
    },
    {
     "name": "stderr",
     "output_type": "stream",
     "text": [
      "<timed exec>:63: SettingWithCopyWarning: \n",
      "A value is trying to be set on a copy of a slice from a DataFrame.\n",
      "Try using .loc[row_indexer,col_indexer] = value instead\n",
      "\n",
      "See the caveats in the documentation: https://pandas.pydata.org/pandas-docs/stable/user_guide/indexing.html#returning-a-view-versus-a-copy\n"
     ]
    },
    {
     "name": "stdout",
     "output_type": "stream",
     "text": [
      "Saved time series visualization for StackOverflow - Topic: form  input  label  to /Users/tnathu-ai/VSCode/Government-Digital-Transformation/assets/images/stackoverflow_time_series_analysis_form  input  label .png\n",
      "Saved time series visualization for StackOverflow - Topic: td  stylefontsize  25px  to /Users/tnathu-ai/VSCode/Government-Digital-Transformation/assets/images/stackoverflow_time_series_analysis_td  stylefontsize  25px .png\n"
     ]
    },
    {
     "name": "stderr",
     "output_type": "stream",
     "text": [
      "<timed exec>:63: SettingWithCopyWarning: \n",
      "A value is trying to be set on a copy of a slice from a DataFrame.\n",
      "Try using .loc[row_indexer,col_indexer] = value instead\n",
      "\n",
      "See the caveats in the documentation: https://pandas.pydata.org/pandas-docs/stable/user_guide/indexing.html#returning-a-view-versus-a-copy\n",
      "<timed exec>:63: SettingWithCopyWarning: \n",
      "A value is trying to be set on a copy of a slice from a DataFrame.\n",
      "Try using .loc[row_indexer,col_indexer] = value instead\n",
      "\n",
      "See the caveats in the documentation: https://pandas.pydata.org/pandas-docs/stable/user_guide/indexing.html#returning-a-view-versus-a-copy\n"
     ]
    },
    {
     "name": "stdout",
     "output_type": "stream",
     "text": [
      "Saved time series visualization for StackOverflow - Topic: else  isnumeric  invalid  to /Users/tnathu-ai/VSCode/Government-Digital-Transformation/assets/images/stackoverflow_time_series_analysis_else  isnumeric  invalid .png\n",
      "Saved sentiment analysis for StackOverflow to /Users/tnathu-ai/VSCode/Government-Digital-Transformation/data/intermediate/analysis/stackoverflow_sentiment_analysis.txt\n",
      "Extracted Topic: (0, '0.006*\"25\" + 0.006*\"option\" + 0.006*\"ptsoption\" + 0.006*\"div\" + 0.006*\"card\"')\n",
      "Extracted Topic: (1, '0.058*\"25\" + 0.048*\"option\" + 0.029*\"ptsoption\" + 0.028*\"div\" + 0.022*\"40\"')\n",
      "Extracted Topic: (2, '0.006*\"option\" + 0.006*\"25\" + 0.006*\"ptsoption\" + 0.006*\"card\" + 0.006*\"div\"')\n",
      "Extracted Topic: (3, '0.006*\"25\" + 0.006*\"option\" + 0.006*\"ptsoption\" + 0.006*\"div\" + 0.006*\"card\"')\n",
      "Extracted Topic: (4, '0.006*\"25\" + 0.006*\"option\" + 0.006*\"ptsoption\" + 0.006*\"div\" + 0.006*\"70\"')\n",
      "Saved topic modeling for StackOverflow to /Users/tnathu-ai/VSCode/Government-Digital-Transformation/data/intermediate/analysis/stackoverflow_topic_modeling.txt\n",
      "Saved qualitative analysis for StackOverflow to /Users/tnathu-ai/VSCode/Government-Digital-Transformation/data/intermediate/analysis/stackoverflow_qualitative_analysis.txt\n",
      "Saved time series visualization for StackOverflow - Topic: 25  option  ptsoption  to /Users/tnathu-ai/VSCode/Government-Digital-Transformation/assets/images/stackoverflow_time_series_analysis_25  option  ptsoption .png\n",
      "Saved time series visualization for StackOverflow - Topic: 25  option  ptsoption  to /Users/tnathu-ai/VSCode/Government-Digital-Transformation/assets/images/stackoverflow_time_series_analysis_25  option  ptsoption .png\n",
      "Saved time series visualization for StackOverflow - Topic: option  25  ptsoption  to /Users/tnathu-ai/VSCode/Government-Digital-Transformation/assets/images/stackoverflow_time_series_analysis_option  25  ptsoption .png\n",
      "Saved time series visualization for StackOverflow - Topic: 25  option  ptsoption  to /Users/tnathu-ai/VSCode/Government-Digital-Transformation/assets/images/stackoverflow_time_series_analysis_25  option  ptsoption .png\n",
      "Saved time series visualization for StackOverflow - Topic: 25  option  ptsoption  to /Users/tnathu-ai/VSCode/Government-Digital-Transformation/assets/images/stackoverflow_time_series_analysis_25  option  ptsoption .png\n",
      "Saved sentiment analysis for StackOverflow to /Users/tnathu-ai/VSCode/Government-Digital-Transformation/data/intermediate/analysis/stackoverflow_sentiment_analysis.txt\n",
      "Extracted Topic: (0, '0.029*\"title\" + 0.027*\"description\" + 0.026*\"time\" + 0.025*\"link\" + 0.018*\"edt\"')\n",
      "Extracted Topic: (1, '0.002*\"description\" + 0.002*\"time\" + 0.002*\"title\" + 0.002*\"link\" + 0.002*\"monday\"')\n",
      "Extracted Topic: (2, '0.002*\"time\" + 0.002*\"title\" + 0.002*\"link\" + 0.002*\"description\" + 0.002*\"edt\"')\n",
      "Extracted Topic: (3, '0.002*\"description\" + 0.002*\"time\" + 0.002*\"link\" + 0.002*\"edt\" + 0.002*\"title\"')\n",
      "Extracted Topic: (4, '0.002*\"title\" + 0.002*\"description\" + 0.002*\"time\" + 0.002*\"edt\" + 0.002*\"monday\"')\n",
      "Saved topic modeling for StackOverflow to /Users/tnathu-ai/VSCode/Government-Digital-Transformation/data/intermediate/analysis/stackoverflow_topic_modeling.txt\n",
      "Saved qualitative analysis for StackOverflow to /Users/tnathu-ai/VSCode/Government-Digital-Transformation/data/intermediate/analysis/stackoverflow_qualitative_analysis.txt\n",
      "Saved time series visualization for StackOverflow - Topic: title  description  time  to /Users/tnathu-ai/VSCode/Government-Digital-Transformation/assets/images/stackoverflow_time_series_analysis_title  description  time .png\n",
      "Saved time series visualization for StackOverflow - Topic: description  time  title  to /Users/tnathu-ai/VSCode/Government-Digital-Transformation/assets/images/stackoverflow_time_series_analysis_description  time  title .png\n",
      "Saved time series visualization for StackOverflow - Topic: time  title  link  to /Users/tnathu-ai/VSCode/Government-Digital-Transformation/assets/images/stackoverflow_time_series_analysis_time  title  link .png\n",
      "Saved time series visualization for StackOverflow - Topic: description  time  link  to /Users/tnathu-ai/VSCode/Government-Digital-Transformation/assets/images/stackoverflow_time_series_analysis_description  time  link .png\n",
      "Saved time series visualization for StackOverflow - Topic: title  description  time  to /Users/tnathu-ai/VSCode/Government-Digital-Transformation/assets/images/stackoverflow_time_series_analysis_title  description  time .png\n",
      "Saved sentiment analysis for StackOverflow to /Users/tnathu-ai/VSCode/Government-Digital-Transformation/data/intermediate/analysis/stackoverflow_sentiment_analysis.txt\n",
      "Extracted Topic: (0, '0.005*\"ltpgt\" + 0.005*\"xml\" + 0.005*\"map\" + 0.005*\"node\" + 0.005*\"relations\"')\n",
      "Extracted Topic: (1, '0.023*\"xml\" + 0.022*\"ltpgt\" + 0.015*\"relations\" + 0.013*\"new\" + 0.013*\"communication\"')\n",
      "Extracted Topic: (2, '0.005*\"ltpgt\" + 0.005*\"xml\" + 0.005*\"new\" + 0.005*\"marketing\" + 0.005*\"map\"')\n",
      "Extracted Topic: (3, '0.005*\"xml\" + 0.005*\"ltpgt\" + 0.005*\"relations\" + 0.005*\"new\" + 0.005*\"map\"')\n",
      "Extracted Topic: (4, '0.005*\"xml\" + 0.005*\"relations\" + 0.005*\"ltpgt\" + 0.005*\"node\" + 0.005*\"map\"')\n",
      "Saved topic modeling for StackOverflow to /Users/tnathu-ai/VSCode/Government-Digital-Transformation/data/intermediate/analysis/stackoverflow_topic_modeling.txt\n",
      "Saved qualitative analysis for StackOverflow to /Users/tnathu-ai/VSCode/Government-Digital-Transformation/data/intermediate/analysis/stackoverflow_qualitative_analysis.txt\n",
      "Saved time series visualization for StackOverflow - Topic: ltpgt  xml  map  to /Users/tnathu-ai/VSCode/Government-Digital-Transformation/assets/images/stackoverflow_time_series_analysis_ltpgt  xml  map .png\n",
      "Saved time series visualization for StackOverflow - Topic: xml  ltpgt  relations  to /Users/tnathu-ai/VSCode/Government-Digital-Transformation/assets/images/stackoverflow_time_series_analysis_xml  ltpgt  relations .png\n",
      "Saved time series visualization for StackOverflow - Topic: ltpgt  xml  new  to /Users/tnathu-ai/VSCode/Government-Digital-Transformation/assets/images/stackoverflow_time_series_analysis_ltpgt  xml  new .png\n",
      "Saved time series visualization for StackOverflow - Topic: xml  ltpgt  relations  to /Users/tnathu-ai/VSCode/Government-Digital-Transformation/assets/images/stackoverflow_time_series_analysis_xml  ltpgt  relations .png\n",
      "Saved time series visualization for StackOverflow - Topic: xml  relations  ltpgt  to /Users/tnathu-ai/VSCode/Government-Digital-Transformation/assets/images/stackoverflow_time_series_analysis_xml  relations  ltpgt .png\n",
      "Saved sentiment analysis for StackOverflow to /Users/tnathu-ai/VSCode/Government-Digital-Transformation/data/intermediate/analysis/stackoverflow_sentiment_analysis.txt\n",
      "Extracted Topic: (0, '0.043*\"web\" + 0.041*\"azure\" + 0.036*\"one\" + 0.029*\"server\" + 0.026*\"app\"')\n",
      "Extracted Topic: (1, '0.019*\"comedy\" + 0.017*\"enclosureurl\" + 0.015*\"enclosurebyts\" + 0.015*\"pubdate\" + 0.015*\"comedian\"')\n",
      "Extracted Topic: (2, '0.031*\"import\" + 0.031*\"div\" + 0.015*\"ui\" + 0.015*\"uncontrolledtooltip\" + 0.014*\"const\"')\n",
      "Extracted Topic: (3, '0.016*\"using\" + 0.015*\"location\" + 0.012*\"new\" + 0.012*\"request\" + 0.012*\"want\"')\n",
      "Extracted Topic: (4, '0.030*\"line\" + 0.027*\"file\" + 0.011*\"url\" + 0.010*\"import\" + 0.008*\"py\"')\n",
      "Saved topic modeling for StackOverflow to /Users/tnathu-ai/VSCode/Government-Digital-Transformation/data/intermediate/analysis/stackoverflow_topic_modeling.txt\n",
      "Saved qualitative analysis for StackOverflow to /Users/tnathu-ai/VSCode/Government-Digital-Transformation/data/intermediate/analysis/stackoverflow_qualitative_analysis.txt\n",
      "Saved time series visualization for StackOverflow - Topic: web  azure  one  to /Users/tnathu-ai/VSCode/Government-Digital-Transformation/assets/images/stackoverflow_time_series_analysis_web  azure  one .png\n"
     ]
    },
    {
     "name": "stderr",
     "output_type": "stream",
     "text": [
      "<timed exec>:63: SettingWithCopyWarning: \n",
      "A value is trying to be set on a copy of a slice from a DataFrame.\n",
      "Try using .loc[row_indexer,col_indexer] = value instead\n",
      "\n",
      "See the caveats in the documentation: https://pandas.pydata.org/pandas-docs/stable/user_guide/indexing.html#returning-a-view-versus-a-copy\n",
      "<timed exec>:63: SettingWithCopyWarning: \n",
      "A value is trying to be set on a copy of a slice from a DataFrame.\n",
      "Try using .loc[row_indexer,col_indexer] = value instead\n",
      "\n",
      "See the caveats in the documentation: https://pandas.pydata.org/pandas-docs/stable/user_guide/indexing.html#returning-a-view-versus-a-copy\n"
     ]
    },
    {
     "name": "stdout",
     "output_type": "stream",
     "text": [
      "Saved time series visualization for StackOverflow - Topic: comedy  enclosureurl  enclosurebyts  to /Users/tnathu-ai/VSCode/Government-Digital-Transformation/assets/images/stackoverflow_time_series_analysis_comedy  enclosureurl  enclosurebyts .png\n",
      "Saved time series visualization for StackOverflow - Topic: import  div  ui  to /Users/tnathu-ai/VSCode/Government-Digital-Transformation/assets/images/stackoverflow_time_series_analysis_import  div  ui .png\n"
     ]
    },
    {
     "name": "stderr",
     "output_type": "stream",
     "text": [
      "<timed exec>:63: SettingWithCopyWarning: \n",
      "A value is trying to be set on a copy of a slice from a DataFrame.\n",
      "Try using .loc[row_indexer,col_indexer] = value instead\n",
      "\n",
      "See the caveats in the documentation: https://pandas.pydata.org/pandas-docs/stable/user_guide/indexing.html#returning-a-view-versus-a-copy\n",
      "<timed exec>:63: SettingWithCopyWarning: \n",
      "A value is trying to be set on a copy of a slice from a DataFrame.\n",
      "Try using .loc[row_indexer,col_indexer] = value instead\n",
      "\n",
      "See the caveats in the documentation: https://pandas.pydata.org/pandas-docs/stable/user_guide/indexing.html#returning-a-view-versus-a-copy\n"
     ]
    },
    {
     "name": "stdout",
     "output_type": "stream",
     "text": [
      "Saved time series visualization for StackOverflow - Topic: using  location  new  to /Users/tnathu-ai/VSCode/Government-Digital-Transformation/assets/images/stackoverflow_time_series_analysis_using  location  new .png\n",
      "Saved time series visualization for StackOverflow - Topic: line  file  url  to /Users/tnathu-ai/VSCode/Government-Digital-Transformation/assets/images/stackoverflow_time_series_analysis_line  file  url .png\n"
     ]
    },
    {
     "name": "stderr",
     "output_type": "stream",
     "text": [
      "<timed exec>:63: SettingWithCopyWarning: \n",
      "A value is trying to be set on a copy of a slice from a DataFrame.\n",
      "Try using .loc[row_indexer,col_indexer] = value instead\n",
      "\n",
      "See the caveats in the documentation: https://pandas.pydata.org/pandas-docs/stable/user_guide/indexing.html#returning-a-view-versus-a-copy\n"
     ]
    },
    {
     "name": "stdout",
     "output_type": "stream",
     "text": [
      "Saved sentiment analysis for StackOverflow to /Users/tnathu-ai/VSCode/Government-Digital-Transformation/data/intermediate/analysis/stackoverflow_sentiment_analysis.txt\n",
      "Extracted Topic: (0, '0.002*\"lia\" + 0.002*\"ul\" + 0.002*\"li\" + 0.002*\"div\" + 0.002*\"end\"')\n",
      "Extracted Topic: (1, '0.002*\"lia\" + 0.002*\"div\" + 0.002*\"ul\" + 0.002*\"li\" + 0.002*\"classhide\"')\n",
      "Extracted Topic: (2, '0.002*\"lia\" + 0.002*\"div\" + 0.002*\"ul\" + 0.002*\"li\" + 0.002*\"training\"')\n",
      "Extracted Topic: (3, '0.002*\"lia\" + 0.002*\"ul\" + 0.002*\"div\" + 0.002*\"li\" + 0.002*\"training\"')\n",
      "Extracted Topic: (4, '0.072*\"lia\" + 0.037*\"ul\" + 0.035*\"div\" + 0.020*\"li\" + 0.012*\"training\"')\n",
      "Saved topic modeling for StackOverflow to /Users/tnathu-ai/VSCode/Government-Digital-Transformation/data/intermediate/analysis/stackoverflow_topic_modeling.txt\n",
      "Saved qualitative analysis for StackOverflow to /Users/tnathu-ai/VSCode/Government-Digital-Transformation/data/intermediate/analysis/stackoverflow_qualitative_analysis.txt\n",
      "Saved time series visualization for StackOverflow - Topic: lia  ul  li  to /Users/tnathu-ai/VSCode/Government-Digital-Transformation/assets/images/stackoverflow_time_series_analysis_lia  ul  li .png\n",
      "Saved time series visualization for StackOverflow - Topic: lia  div  ul  to /Users/tnathu-ai/VSCode/Government-Digital-Transformation/assets/images/stackoverflow_time_series_analysis_lia  div  ul .png\n",
      "Saved time series visualization for StackOverflow - Topic: lia  div  ul  to /Users/tnathu-ai/VSCode/Government-Digital-Transformation/assets/images/stackoverflow_time_series_analysis_lia  div  ul .png\n",
      "Saved time series visualization for StackOverflow - Topic: lia  ul  div  to /Users/tnathu-ai/VSCode/Government-Digital-Transformation/assets/images/stackoverflow_time_series_analysis_lia  ul  div .png\n",
      "Saved time series visualization for StackOverflow - Topic: lia  ul  div  to /Users/tnathu-ai/VSCode/Government-Digital-Transformation/assets/images/stackoverflow_time_series_analysis_lia  ul  div .png\n",
      "Saved sentiment analysis for StackOverflow to /Users/tnathu-ai/VSCode/Government-Digital-Transformation/data/intermediate/analysis/stackoverflow_sentiment_analysis.txt\n",
      "Extracted Topic: (0, '0.002*\"title\" + 0.002*\"description\" + 0.002*\"time\" + 0.002*\"link\" + 0.002*\"edt\"')\n",
      "Extracted Topic: (1, '0.002*\"title\" + 0.002*\"time\" + 0.002*\"description\" + 0.002*\"link\" + 0.002*\"edt\"')\n",
      "Extracted Topic: (2, '0.029*\"title\" + 0.027*\"description\" + 0.026*\"time\" + 0.025*\"link\" + 0.018*\"edt\"')\n",
      "Extracted Topic: (3, '0.002*\"link\" + 0.002*\"description\" + 0.002*\"title\" + 0.002*\"time\" + 0.002*\"edt\"')\n",
      "Extracted Topic: (4, '0.002*\"time\" + 0.002*\"title\" + 0.002*\"edt\" + 0.002*\"link\" + 0.002*\"description\"')\n",
      "Saved topic modeling for StackOverflow to /Users/tnathu-ai/VSCode/Government-Digital-Transformation/data/intermediate/analysis/stackoverflow_topic_modeling.txt\n",
      "Saved qualitative analysis for StackOverflow to /Users/tnathu-ai/VSCode/Government-Digital-Transformation/data/intermediate/analysis/stackoverflow_qualitative_analysis.txt\n",
      "Saved time series visualization for StackOverflow - Topic: title  description  time  to /Users/tnathu-ai/VSCode/Government-Digital-Transformation/assets/images/stackoverflow_time_series_analysis_title  description  time .png\n",
      "Saved time series visualization for StackOverflow - Topic: title  time  description  to /Users/tnathu-ai/VSCode/Government-Digital-Transformation/assets/images/stackoverflow_time_series_analysis_title  time  description .png\n",
      "Saved time series visualization for StackOverflow - Topic: title  description  time  to /Users/tnathu-ai/VSCode/Government-Digital-Transformation/assets/images/stackoverflow_time_series_analysis_title  description  time .png\n",
      "Saved time series visualization for StackOverflow - Topic: link  description  title  to /Users/tnathu-ai/VSCode/Government-Digital-Transformation/assets/images/stackoverflow_time_series_analysis_link  description  title .png\n",
      "Saved time series visualization for StackOverflow - Topic: time  title  edt  to /Users/tnathu-ai/VSCode/Government-Digital-Transformation/assets/images/stackoverflow_time_series_analysis_time  title  edt .png\n",
      "Saved sentiment analysis for StackOverflow to /Users/tnathu-ai/VSCode/Government-Digital-Transformation/data/intermediate/analysis/stackoverflow_sentiment_analysis.txt\n",
      "Extracted Topic: (0, '0.001*\"game\" + 0.001*\"played\" + 0.001*\"ball\" + 0.001*\"team\" + 0.001*\"sport\"')\n",
      "Extracted Topic: (1, '0.013*\"played\" + 0.013*\"game\" + 0.012*\"ball\" + 0.011*\"team\" + 0.010*\"sport\"')\n",
      "Extracted Topic: (2, '0.022*\"div\" + 0.018*\"banking\" + 0.009*\"crisis\" + 0.008*\"us\" + 0.008*\"banks\"')\n",
      "Extracted Topic: (3, '0.001*\"also\" + 0.001*\"played\" + 0.001*\"game\" + 0.001*\"team\" + 0.001*\"ball\"')\n",
      "Extracted Topic: (4, '0.019*\"span\" + 0.018*\"snippet\" + 0.016*\"li\" + 0.014*\"data\" + 0.012*\"end\"')\n",
      "Saved topic modeling for StackOverflow to /Users/tnathu-ai/VSCode/Government-Digital-Transformation/data/intermediate/analysis/stackoverflow_topic_modeling.txt\n",
      "Saved qualitative analysis for StackOverflow to /Users/tnathu-ai/VSCode/Government-Digital-Transformation/data/intermediate/analysis/stackoverflow_qualitative_analysis.txt\n",
      "Saved time series visualization for StackOverflow - Topic: game  played  ball  to /Users/tnathu-ai/VSCode/Government-Digital-Transformation/assets/images/stackoverflow_time_series_analysis_game  played  ball .png\n"
     ]
    },
    {
     "name": "stderr",
     "output_type": "stream",
     "text": [
      "<timed exec>:63: SettingWithCopyWarning: \n",
      "A value is trying to be set on a copy of a slice from a DataFrame.\n",
      "Try using .loc[row_indexer,col_indexer] = value instead\n",
      "\n",
      "See the caveats in the documentation: https://pandas.pydata.org/pandas-docs/stable/user_guide/indexing.html#returning-a-view-versus-a-copy\n",
      "<timed exec>:63: SettingWithCopyWarning: \n",
      "A value is trying to be set on a copy of a slice from a DataFrame.\n",
      "Try using .loc[row_indexer,col_indexer] = value instead\n",
      "\n",
      "See the caveats in the documentation: https://pandas.pydata.org/pandas-docs/stable/user_guide/indexing.html#returning-a-view-versus-a-copy\n"
     ]
    },
    {
     "name": "stdout",
     "output_type": "stream",
     "text": [
      "Saved time series visualization for StackOverflow - Topic: played  game  ball  to /Users/tnathu-ai/VSCode/Government-Digital-Transformation/assets/images/stackoverflow_time_series_analysis_played  game  ball .png\n",
      "Saved time series visualization for StackOverflow - Topic: div  banking  crisis  to /Users/tnathu-ai/VSCode/Government-Digital-Transformation/assets/images/stackoverflow_time_series_analysis_div  banking  crisis .png\n",
      "Saved time series visualization for StackOverflow - Topic: also  played  game  to /Users/tnathu-ai/VSCode/Government-Digital-Transformation/assets/images/stackoverflow_time_series_analysis_also  played  game .png\n",
      "Saved time series visualization for StackOverflow - Topic: span  snippet  li  to /Users/tnathu-ai/VSCode/Government-Digital-Transformation/assets/images/stackoverflow_time_series_analysis_span  snippet  li .png\n",
      "Saved sentiment analysis for StackOverflow to /Users/tnathu-ai/VSCode/Government-Digital-Transformation/data/intermediate/analysis/stackoverflow_sentiment_analysis.txt\n",
      "Extracted Topic: (0, '0.022*\"text\" + 0.020*\"line\" + 0.014*\"x260\" + 0.012*\"file\" + 0.012*\"fontsize10px\"')\n",
      "Extracted Topic: (1, '0.015*\"kernel\" + 0.012*\"tempblocklen\" + 0.009*\"data\" + 0.008*\"time\" + 0.008*\"familyserif\"')\n",
      "Extracted Topic: (2, '0.018*\"title\" + 0.014*\"author\" + 0.013*\"hasname\" + 0.012*\"lastname\" + 0.012*\"firstname\"')\n",
      "Extracted Topic: (3, '0.016*\"use\" + 0.008*\"product\" + 0.007*\"idt\" + 0.007*\"file\" + 0.007*\"products\"')\n",
      "Extracted Topic: (4, '0.007*\"na\" + 0.006*\"get\" + 0.005*\"class\" + 0.005*\"label\" + 0.005*\"canesm2\"')\n",
      "Saved topic modeling for StackOverflow to /Users/tnathu-ai/VSCode/Government-Digital-Transformation/data/intermediate/analysis/stackoverflow_topic_modeling.txt\n",
      "Saved qualitative analysis for StackOverflow to /Users/tnathu-ai/VSCode/Government-Digital-Transformation/data/intermediate/analysis/stackoverflow_qualitative_analysis.txt\n"
     ]
    },
    {
     "name": "stderr",
     "output_type": "stream",
     "text": [
      "<timed exec>:63: SettingWithCopyWarning: \n",
      "A value is trying to be set on a copy of a slice from a DataFrame.\n",
      "Try using .loc[row_indexer,col_indexer] = value instead\n",
      "\n",
      "See the caveats in the documentation: https://pandas.pydata.org/pandas-docs/stable/user_guide/indexing.html#returning-a-view-versus-a-copy\n",
      "<timed exec>:63: SettingWithCopyWarning: \n",
      "A value is trying to be set on a copy of a slice from a DataFrame.\n",
      "Try using .loc[row_indexer,col_indexer] = value instead\n",
      "\n",
      "See the caveats in the documentation: https://pandas.pydata.org/pandas-docs/stable/user_guide/indexing.html#returning-a-view-versus-a-copy\n"
     ]
    },
    {
     "name": "stdout",
     "output_type": "stream",
     "text": [
      "Saved time series visualization for StackOverflow - Topic: text  line  x260  to /Users/tnathu-ai/VSCode/Government-Digital-Transformation/assets/images/stackoverflow_time_series_analysis_text  line  x260 .png\n",
      "Saved time series visualization for StackOverflow - Topic: kernel  tempblocklen  data  to /Users/tnathu-ai/VSCode/Government-Digital-Transformation/assets/images/stackoverflow_time_series_analysis_kernel  tempblocklen  data .png\n"
     ]
    },
    {
     "name": "stderr",
     "output_type": "stream",
     "text": [
      "<timed exec>:63: SettingWithCopyWarning: \n",
      "A value is trying to be set on a copy of a slice from a DataFrame.\n",
      "Try using .loc[row_indexer,col_indexer] = value instead\n",
      "\n",
      "See the caveats in the documentation: https://pandas.pydata.org/pandas-docs/stable/user_guide/indexing.html#returning-a-view-versus-a-copy\n",
      "<timed exec>:63: SettingWithCopyWarning: \n",
      "A value is trying to be set on a copy of a slice from a DataFrame.\n",
      "Try using .loc[row_indexer,col_indexer] = value instead\n",
      "\n",
      "See the caveats in the documentation: https://pandas.pydata.org/pandas-docs/stable/user_guide/indexing.html#returning-a-view-versus-a-copy\n"
     ]
    },
    {
     "name": "stdout",
     "output_type": "stream",
     "text": [
      "Saved time series visualization for StackOverflow - Topic: title  author  hasname  to /Users/tnathu-ai/VSCode/Government-Digital-Transformation/assets/images/stackoverflow_time_series_analysis_title  author  hasname .png\n",
      "Saved time series visualization for StackOverflow - Topic: use  product  idt  to /Users/tnathu-ai/VSCode/Government-Digital-Transformation/assets/images/stackoverflow_time_series_analysis_use  product  idt .png\n"
     ]
    },
    {
     "name": "stderr",
     "output_type": "stream",
     "text": [
      "<timed exec>:63: SettingWithCopyWarning: \n",
      "A value is trying to be set on a copy of a slice from a DataFrame.\n",
      "Try using .loc[row_indexer,col_indexer] = value instead\n",
      "\n",
      "See the caveats in the documentation: https://pandas.pydata.org/pandas-docs/stable/user_guide/indexing.html#returning-a-view-versus-a-copy\n"
     ]
    },
    {
     "name": "stdout",
     "output_type": "stream",
     "text": [
      "Saved time series visualization for StackOverflow - Topic: na  get  class  to /Users/tnathu-ai/VSCode/Government-Digital-Transformation/assets/images/stackoverflow_time_series_analysis_na  get  class .png\n",
      "Saved sentiment analysis for StackOverflow to /Users/tnathu-ai/VSCode/Government-Digital-Transformation/data/intermediate/analysis/stackoverflow_sentiment_analysis.txt\n",
      "Extracted Topic: (0, '0.019*\"mtypeseg\" + 0.017*\"mrkmrk\" + 0.009*\"drugs\" + 0.009*\"nan\" + 0.008*\"world\"')\n",
      "Extracted Topic: (1, '0.003*\"data\" + 0.002*\"accid\" + 0.002*\"want\" + 0.002*\"held\" + 0.002*\"next\"')\n",
      "Extracted Topic: (2, '0.123*\"option\" + 0.011*\"management\" + 0.010*\"studies\" + 0.009*\"engineering\" + 0.007*\"design\"')\n",
      "Extracted Topic: (3, '0.011*\"color\" + 0.009*\"0px\" + 0.009*\"new\" + 0.008*\"div\" + 0.007*\"fff\"')\n",
      "Extracted Topic: (4, '0.000*\"mtypeseg\" + 0.000*\"mrkmrk\" + 0.000*\"world\" + 0.000*\"drugs\" + 0.000*\"drugfree\"')\n",
      "Saved topic modeling for StackOverflow to /Users/tnathu-ai/VSCode/Government-Digital-Transformation/data/intermediate/analysis/stackoverflow_topic_modeling.txt\n",
      "Saved qualitative analysis for StackOverflow to /Users/tnathu-ai/VSCode/Government-Digital-Transformation/data/intermediate/analysis/stackoverflow_qualitative_analysis.txt\n",
      "Saved time series visualization for StackOverflow - Topic: mtypeseg  mrkmrk  drugs  to /Users/tnathu-ai/VSCode/Government-Digital-Transformation/assets/images/stackoverflow_time_series_analysis_mtypeseg  mrkmrk  drugs .png\n"
     ]
    },
    {
     "name": "stderr",
     "output_type": "stream",
     "text": [
      "<timed exec>:63: SettingWithCopyWarning: \n",
      "A value is trying to be set on a copy of a slice from a DataFrame.\n",
      "Try using .loc[row_indexer,col_indexer] = value instead\n",
      "\n",
      "See the caveats in the documentation: https://pandas.pydata.org/pandas-docs/stable/user_guide/indexing.html#returning-a-view-versus-a-copy\n",
      "<timed exec>:63: SettingWithCopyWarning: \n",
      "A value is trying to be set on a copy of a slice from a DataFrame.\n",
      "Try using .loc[row_indexer,col_indexer] = value instead\n",
      "\n",
      "See the caveats in the documentation: https://pandas.pydata.org/pandas-docs/stable/user_guide/indexing.html#returning-a-view-versus-a-copy\n"
     ]
    },
    {
     "name": "stdout",
     "output_type": "stream",
     "text": [
      "Saved time series visualization for StackOverflow - Topic: data  accid  want  to /Users/tnathu-ai/VSCode/Government-Digital-Transformation/assets/images/stackoverflow_time_series_analysis_data  accid  want .png\n",
      "Saved time series visualization for StackOverflow - Topic: option  management  studies  to /Users/tnathu-ai/VSCode/Government-Digital-Transformation/assets/images/stackoverflow_time_series_analysis_option  management  studies .png\n"
     ]
    },
    {
     "name": "stderr",
     "output_type": "stream",
     "text": [
      "<timed exec>:63: SettingWithCopyWarning: \n",
      "A value is trying to be set on a copy of a slice from a DataFrame.\n",
      "Try using .loc[row_indexer,col_indexer] = value instead\n",
      "\n",
      "See the caveats in the documentation: https://pandas.pydata.org/pandas-docs/stable/user_guide/indexing.html#returning-a-view-versus-a-copy\n",
      "<timed exec>:63: SettingWithCopyWarning: \n",
      "A value is trying to be set on a copy of a slice from a DataFrame.\n",
      "Try using .loc[row_indexer,col_indexer] = value instead\n",
      "\n",
      "See the caveats in the documentation: https://pandas.pydata.org/pandas-docs/stable/user_guide/indexing.html#returning-a-view-versus-a-copy\n"
     ]
    },
    {
     "name": "stdout",
     "output_type": "stream",
     "text": [
      "Saved time series visualization for StackOverflow - Topic: color  0px  new  to /Users/tnathu-ai/VSCode/Government-Digital-Transformation/assets/images/stackoverflow_time_series_analysis_color  0px  new .png\n",
      "Saved time series visualization for StackOverflow - Topic: mtypeseg  mrkmrk  world  to /Users/tnathu-ai/VSCode/Government-Digital-Transformation/assets/images/stackoverflow_time_series_analysis_mtypeseg  mrkmrk  world .png\n"
     ]
    },
    {
     "name": "stderr",
     "output_type": "stream",
     "text": [
      "<timed exec>:63: SettingWithCopyWarning: \n",
      "A value is trying to be set on a copy of a slice from a DataFrame.\n",
      "Try using .loc[row_indexer,col_indexer] = value instead\n",
      "\n",
      "See the caveats in the documentation: https://pandas.pydata.org/pandas-docs/stable/user_guide/indexing.html#returning-a-view-versus-a-copy\n"
     ]
    },
    {
     "name": "stdout",
     "output_type": "stream",
     "text": [
      "Saved sentiment analysis for StackOverflow to /Users/tnathu-ai/VSCode/Government-Digital-Transformation/data/intermediate/analysis/stackoverflow_sentiment_analysis.txt\n",
      "Extracted Topic: (0, '0.002*\"div\" + 0.002*\"xmlns\" + 0.002*\"lia\" + 0.002*\"classfa\" + 0.002*\"ariahiddentruei\"')\n",
      "Extracted Topic: (1, '0.076*\"lia\" + 0.049*\"classfa\" + 0.048*\"ariahiddentruei\" + 0.029*\"faarrowcircleoright\" + 0.023*\"div\"')\n",
      "Extracted Topic: (2, '0.002*\"div\" + 0.002*\"xmlns\" + 0.002*\"lia\" + 0.002*\"classfa\" + 0.002*\"ariahiddentruei\"')\n",
      "Extracted Topic: (3, '0.122*\"div\" + 0.047*\"xmlns\" + 0.014*\"email\" + 0.012*\"winds\" + 0.011*\"classmaxlmaxdiv\"')\n",
      "Extracted Topic: (4, '0.002*\"div\" + 0.002*\"xmlns\" + 0.002*\"lia\" + 0.002*\"ariahiddentruei\" + 0.002*\"classfa\"')\n",
      "Saved topic modeling for StackOverflow to /Users/tnathu-ai/VSCode/Government-Digital-Transformation/data/intermediate/analysis/stackoverflow_topic_modeling.txt\n",
      "Saved qualitative analysis for StackOverflow to /Users/tnathu-ai/VSCode/Government-Digital-Transformation/data/intermediate/analysis/stackoverflow_qualitative_analysis.txt\n",
      "Saved time series visualization for StackOverflow - Topic: div  xmlns  lia  to /Users/tnathu-ai/VSCode/Government-Digital-Transformation/assets/images/stackoverflow_time_series_analysis_div  xmlns  lia .png\n",
      "Saved time series visualization for StackOverflow - Topic: lia  classfa  ariahiddentruei  to /Users/tnathu-ai/VSCode/Government-Digital-Transformation/assets/images/stackoverflow_time_series_analysis_lia  classfa  ariahiddentruei .png\n",
      "Saved time series visualization for StackOverflow - Topic: div  xmlns  lia  to /Users/tnathu-ai/VSCode/Government-Digital-Transformation/assets/images/stackoverflow_time_series_analysis_div  xmlns  lia .png\n",
      "Saved time series visualization for StackOverflow - Topic: div  xmlns  email  to /Users/tnathu-ai/VSCode/Government-Digital-Transformation/assets/images/stackoverflow_time_series_analysis_div  xmlns  email .png\n",
      "Saved time series visualization for StackOverflow - Topic: div  xmlns  lia  to /Users/tnathu-ai/VSCode/Government-Digital-Transformation/assets/images/stackoverflow_time_series_analysis_div  xmlns  lia .png\n",
      "Saved sentiment analysis for StackOverflow to /Users/tnathu-ai/VSCode/Government-Digital-Transformation/data/intermediate/analysis/stackoverflow_sentiment_analysis.txt\n",
      "Extracted Topic: (0, '0.002*\"shares\" + 0.002*\"td\" + 0.002*\"voting\" + 0.002*\"lineheight\" + 0.002*\"llc\"')\n",
      "Extracted Topic: (1, '0.002*\"shares\" + 0.002*\"td\" + 0.002*\"lineheight\" + 0.002*\"voting\" + 0.002*\"directors\"')\n",
      "Extracted Topic: (2, '0.002*\"shares\" + 0.002*\"td\" + 0.002*\"lineheight\" + 0.002*\"respect\" + 0.002*\"power\"')\n",
      "Extracted Topic: (3, '0.021*\"shares\" + 0.020*\"td\" + 0.011*\"lineheight\" + 0.011*\"voting\" + 0.010*\"power\"')\n",
      "Extracted Topic: (4, '0.002*\"td\" + 0.002*\"shares\" + 0.002*\"voting\" + 0.002*\"fmr\" + 0.002*\"table\"')\n",
      "Saved topic modeling for StackOverflow to /Users/tnathu-ai/VSCode/Government-Digital-Transformation/data/intermediate/analysis/stackoverflow_topic_modeling.txt\n",
      "Saved qualitative analysis for StackOverflow to /Users/tnathu-ai/VSCode/Government-Digital-Transformation/data/intermediate/analysis/stackoverflow_qualitative_analysis.txt\n",
      "Saved time series visualization for StackOverflow - Topic: shares  td  voting  to /Users/tnathu-ai/VSCode/Government-Digital-Transformation/assets/images/stackoverflow_time_series_analysis_shares  td  voting .png\n",
      "Saved time series visualization for StackOverflow - Topic: shares  td  lineheight  to /Users/tnathu-ai/VSCode/Government-Digital-Transformation/assets/images/stackoverflow_time_series_analysis_shares  td  lineheight .png\n",
      "Saved time series visualization for StackOverflow - Topic: shares  td  lineheight  to /Users/tnathu-ai/VSCode/Government-Digital-Transformation/assets/images/stackoverflow_time_series_analysis_shares  td  lineheight .png\n",
      "Saved time series visualization for StackOverflow - Topic: shares  td  lineheight  to /Users/tnathu-ai/VSCode/Government-Digital-Transformation/assets/images/stackoverflow_time_series_analysis_shares  td  lineheight .png\n",
      "Saved time series visualization for StackOverflow - Topic: td  shares  voting  to /Users/tnathu-ai/VSCode/Government-Digital-Transformation/assets/images/stackoverflow_time_series_analysis_td  shares  voting .png\n",
      "Saved sentiment analysis for StackOverflow to /Users/tnathu-ai/VSCode/Government-Digital-Transformation/data/intermediate/analysis/stackoverflow_sentiment_analysis.txt\n",
      "Extracted Topic: (0, '0.001*\"dd\" + 0.001*\"card\" + 0.001*\"dt\" + 0.001*\"express\" + 0.001*\"per\"')\n",
      "Extracted Topic: (1, '0.092*\"dd\" + 0.041*\"dt\" + 0.015*\"business\" + 0.012*\"least\" + 0.011*\"tr\"')\n",
      "Extracted Topic: (2, '0.021*\"home\" + 0.018*\"tax\" + 0.008*\"div\" + 0.008*\"widget\" + 0.007*\"br\"')\n",
      "Extracted Topic: (3, '0.001*\"card\" + 0.001*\"points\" + 0.001*\"express\" + 0.001*\"tax\" + 0.001*\"home\"')\n",
      "Extracted Topic: (4, '0.032*\"card\" + 0.026*\"points\" + 0.021*\"express\" + 0.016*\"qantas\" + 0.015*\"per\"')\n",
      "Saved topic modeling for StackOverflow to /Users/tnathu-ai/VSCode/Government-Digital-Transformation/data/intermediate/analysis/stackoverflow_topic_modeling.txt\n",
      "Saved qualitative analysis for StackOverflow to /Users/tnathu-ai/VSCode/Government-Digital-Transformation/data/intermediate/analysis/stackoverflow_qualitative_analysis.txt\n",
      "Saved time series visualization for StackOverflow - Topic: dd  card  dt  to /Users/tnathu-ai/VSCode/Government-Digital-Transformation/assets/images/stackoverflow_time_series_analysis_dd  card  dt .png\n",
      "Saved time series visualization for StackOverflow - Topic: dd  dt  business  to /Users/tnathu-ai/VSCode/Government-Digital-Transformation/assets/images/stackoverflow_time_series_analysis_dd  dt  business .png\n",
      "Saved time series visualization for StackOverflow - Topic: home  tax  div  to /Users/tnathu-ai/VSCode/Government-Digital-Transformation/assets/images/stackoverflow_time_series_analysis_home  tax  div .png\n"
     ]
    },
    {
     "name": "stderr",
     "output_type": "stream",
     "text": [
      "<timed exec>:63: SettingWithCopyWarning: \n",
      "A value is trying to be set on a copy of a slice from a DataFrame.\n",
      "Try using .loc[row_indexer,col_indexer] = value instead\n",
      "\n",
      "See the caveats in the documentation: https://pandas.pydata.org/pandas-docs/stable/user_guide/indexing.html#returning-a-view-versus-a-copy\n",
      "<timed exec>:63: SettingWithCopyWarning: \n",
      "A value is trying to be set on a copy of a slice from a DataFrame.\n",
      "Try using .loc[row_indexer,col_indexer] = value instead\n",
      "\n",
      "See the caveats in the documentation: https://pandas.pydata.org/pandas-docs/stable/user_guide/indexing.html#returning-a-view-versus-a-copy\n"
     ]
    },
    {
     "name": "stdout",
     "output_type": "stream",
     "text": [
      "Saved time series visualization for StackOverflow - Topic: card  points  express  to /Users/tnathu-ai/VSCode/Government-Digital-Transformation/assets/images/stackoverflow_time_series_analysis_card  points  express .png\n",
      "Saved time series visualization for StackOverflow - Topic: card  points  express  to /Users/tnathu-ai/VSCode/Government-Digital-Transformation/assets/images/stackoverflow_time_series_analysis_card  points  express .png\n",
      "Saved sentiment analysis for StackOverflow to /Users/tnathu-ai/VSCode/Government-Digital-Transformation/data/intermediate/analysis/stackoverflow_sentiment_analysis.txt\n",
      "Extracted Topic: (0, '0.014*\"crimes\" + 0.014*\"want\" + 0.014*\"ive\" + 0.014*\"possible\" + 0.014*\"regression\"')\n",
      "Extracted Topic: (1, '0.014*\"ive\" + 0.014*\"crimes\" + 0.014*\"best\" + 0.014*\"want\" + 0.014*\"regression\"')\n",
      "Extracted Topic: (2, '0.014*\"best\" + 0.014*\"ive\" + 0.014*\"crimes\" + 0.014*\"regression\" + 0.014*\"possible\"')\n",
      "Extracted Topic: (3, '0.014*\"best\" + 0.014*\"council\" + 0.014*\"possible\" + 0.014*\"crimes\" + 0.014*\"want\"')\n",
      "Extracted Topic: (4, '0.035*\"best\" + 0.025*\"house\" + 0.025*\"possible\" + 0.025*\"want\" + 0.025*\"regression\"')\n",
      "Saved topic modeling for StackOverflow to /Users/tnathu-ai/VSCode/Government-Digital-Transformation/data/intermediate/analysis/stackoverflow_topic_modeling.txt\n",
      "Saved qualitative analysis for StackOverflow to /Users/tnathu-ai/VSCode/Government-Digital-Transformation/data/intermediate/analysis/stackoverflow_qualitative_analysis.txt\n",
      "Saved time series visualization for StackOverflow - Topic: crimes  want  ive  to /Users/tnathu-ai/VSCode/Government-Digital-Transformation/assets/images/stackoverflow_time_series_analysis_crimes  want  ive .png\n",
      "Saved time series visualization for StackOverflow - Topic: ive  crimes  best  to /Users/tnathu-ai/VSCode/Government-Digital-Transformation/assets/images/stackoverflow_time_series_analysis_ive  crimes  best .png\n",
      "Saved time series visualization for StackOverflow - Topic: best  ive  crimes  to /Users/tnathu-ai/VSCode/Government-Digital-Transformation/assets/images/stackoverflow_time_series_analysis_best  ive  crimes .png\n",
      "Saved time series visualization for StackOverflow - Topic: best  council  possible  to /Users/tnathu-ai/VSCode/Government-Digital-Transformation/assets/images/stackoverflow_time_series_analysis_best  council  possible .png\n",
      "Saved time series visualization for StackOverflow - Topic: best  house  possible  to /Users/tnathu-ai/VSCode/Government-Digital-Transformation/assets/images/stackoverflow_time_series_analysis_best  house  possible .png\n",
      "Saved sentiment analysis for StackOverflow to /Users/tnathu-ai/VSCode/Government-Digital-Transformation/data/intermediate/analysis/stackoverflow_sentiment_analysis.txt\n",
      "Extracted Topic: (0, '0.029*\"line\" + 0.027*\"file\" + 0.011*\"url\" + 0.009*\"import\" + 0.008*\"py\"')\n",
      "Extracted Topic: (1, '0.043*\"university\" + 0.024*\"usa\" + 0.018*\"health\" + 0.016*\"hospital\" + 0.014*\"school\"')\n",
      "Extracted Topic: (2, '0.001*\"university\" + 0.001*\"usa\" + 0.001*\"health\" + 0.001*\"school\" + 0.001*\"nursing\"')\n",
      "Extracted Topic: (3, '0.010*\"would\" + 0.008*\"soviet\" + 0.007*\"text\" + 0.007*\"people\" + 0.007*\"book\"')\n",
      "Extracted Topic: (4, '0.001*\"would\" + 0.001*\"business\" + 0.001*\"people\" + 0.001*\"text\" + 0.001*\"soviet\"')\n",
      "Saved topic modeling for StackOverflow to /Users/tnathu-ai/VSCode/Government-Digital-Transformation/data/intermediate/analysis/stackoverflow_topic_modeling.txt\n",
      "Saved qualitative analysis for StackOverflow to /Users/tnathu-ai/VSCode/Government-Digital-Transformation/data/intermediate/analysis/stackoverflow_qualitative_analysis.txt\n",
      "Saved time series visualization for StackOverflow - Topic: line  file  url  to /Users/tnathu-ai/VSCode/Government-Digital-Transformation/assets/images/stackoverflow_time_series_analysis_line  file  url .png\n"
     ]
    },
    {
     "name": "stderr",
     "output_type": "stream",
     "text": [
      "<timed exec>:63: SettingWithCopyWarning: \n",
      "A value is trying to be set on a copy of a slice from a DataFrame.\n",
      "Try using .loc[row_indexer,col_indexer] = value instead\n",
      "\n",
      "See the caveats in the documentation: https://pandas.pydata.org/pandas-docs/stable/user_guide/indexing.html#returning-a-view-versus-a-copy\n"
     ]
    },
    {
     "name": "stdout",
     "output_type": "stream",
     "text": [
      "Saved time series visualization for StackOverflow - Topic: university  usa  health  to /Users/tnathu-ai/VSCode/Government-Digital-Transformation/assets/images/stackoverflow_time_series_analysis_university  usa  health .png\n",
      "Saved time series visualization for StackOverflow - Topic: university  usa  health  to /Users/tnathu-ai/VSCode/Government-Digital-Transformation/assets/images/stackoverflow_time_series_analysis_university  usa  health .png\n",
      "Saved time series visualization for StackOverflow - Topic: would  soviet  text  to /Users/tnathu-ai/VSCode/Government-Digital-Transformation/assets/images/stackoverflow_time_series_analysis_would  soviet  text .png\n"
     ]
    },
    {
     "name": "stderr",
     "output_type": "stream",
     "text": [
      "<timed exec>:63: SettingWithCopyWarning: \n",
      "A value is trying to be set on a copy of a slice from a DataFrame.\n",
      "Try using .loc[row_indexer,col_indexer] = value instead\n",
      "\n",
      "See the caveats in the documentation: https://pandas.pydata.org/pandas-docs/stable/user_guide/indexing.html#returning-a-view-versus-a-copy\n"
     ]
    },
    {
     "name": "stdout",
     "output_type": "stream",
     "text": [
      "Saved time series visualization for StackOverflow - Topic: would  business  people  to /Users/tnathu-ai/VSCode/Government-Digital-Transformation/assets/images/stackoverflow_time_series_analysis_would  business  people .png\n",
      "Saved sentiment analysis for StackOverflow to /Users/tnathu-ai/VSCode/Government-Digital-Transformation/data/intermediate/analysis/stackoverflow_sentiment_analysis.txt\n",
      "Extracted Topic: (0, '0.020*\"div\" + 0.015*\"mtypeseg\" + 0.013*\"mrkmrk\" + 0.008*\"new\" + 0.007*\"drugs\"')\n",
      "Extracted Topic: (1, '0.040*\"university\" + 0.022*\"usa\" + 0.016*\"health\" + 0.014*\"hospital\" + 0.013*\"school\"')\n",
      "Extracted Topic: (2, '0.008*\"team\" + 0.008*\"div\" + 0.007*\"first\" + 0.007*\"retail\" + 0.006*\"member\"')\n",
      "Extracted Topic: (3, '0.022*\"city\" + 0.006*\"name\" + 0.006*\"country\" + 0.006*\"import\" + 0.006*\"population\"')\n",
      "Extracted Topic: (4, '0.016*\"api\" + 0.013*\"link\" + 0.011*\"const\" + 0.011*\"import\" + 0.011*\"return\"')\n",
      "Saved topic modeling for StackOverflow to /Users/tnathu-ai/VSCode/Government-Digital-Transformation/data/intermediate/analysis/stackoverflow_topic_modeling.txt\n",
      "Saved qualitative analysis for StackOverflow to /Users/tnathu-ai/VSCode/Government-Digital-Transformation/data/intermediate/analysis/stackoverflow_qualitative_analysis.txt\n",
      "Saved time series visualization for StackOverflow - Topic: div  mtypeseg  mrkmrk  to /Users/tnathu-ai/VSCode/Government-Digital-Transformation/assets/images/stackoverflow_time_series_analysis_div  mtypeseg  mrkmrk .png\n",
      "Saved time series visualization for StackOverflow - Topic: university  usa  health  to /Users/tnathu-ai/VSCode/Government-Digital-Transformation/assets/images/stackoverflow_time_series_analysis_university  usa  health .png\n",
      "Saved time series visualization for StackOverflow - Topic: team  div  first  to /Users/tnathu-ai/VSCode/Government-Digital-Transformation/assets/images/stackoverflow_time_series_analysis_team  div  first .png\n",
      "Saved time series visualization for StackOverflow - Topic: city  name  country  to /Users/tnathu-ai/VSCode/Government-Digital-Transformation/assets/images/stackoverflow_time_series_analysis_city  name  country .png\n",
      "Saved time series visualization for StackOverflow - Topic: api  link  const  to /Users/tnathu-ai/VSCode/Government-Digital-Transformation/assets/images/stackoverflow_time_series_analysis_api  link  const .png\n"
     ]
    },
    {
     "name": "stderr",
     "output_type": "stream",
     "text": [
      "<timed exec>:63: SettingWithCopyWarning: \n",
      "A value is trying to be set on a copy of a slice from a DataFrame.\n",
      "Try using .loc[row_indexer,col_indexer] = value instead\n",
      "\n",
      "See the caveats in the documentation: https://pandas.pydata.org/pandas-docs/stable/user_guide/indexing.html#returning-a-view-versus-a-copy\n"
     ]
    },
    {
     "name": "stdout",
     "output_type": "stream",
     "text": [
      "Saved sentiment analysis for StackOverflow to /Users/tnathu-ai/VSCode/Government-Digital-Transformation/data/intermediate/analysis/stackoverflow_sentiment_analysis.txt\n",
      "Extracted Topic: (0, '0.033*\"health\" + 0.031*\"fitness\" + 0.028*\"sports\" + 0.026*\"travel\" + 0.025*\"recreation\"')\n",
      "Extracted Topic: (1, '0.001*\"name\" + 0.001*\"id\" + 0.001*\"state\" + 0.001*\"classid\" + 0.001*\"object\"')\n",
      "Extracted Topic: (2, '0.001*\"name\" + 0.001*\"id\" + 0.001*\"state\" + 0.001*\"object\" + 0.001*\"classid\"')\n",
      "Extracted Topic: (3, '0.124*\"name\" + 0.077*\"id\" + 0.055*\"state\" + 0.033*\"object\" + 0.028*\"classid\"')\n",
      "Extracted Topic: (4, '0.001*\"health\" + 0.001*\"fitness\" + 0.001*\"sports\" + 0.001*\"travel\" + 0.001*\"arts\"')\n",
      "Saved topic modeling for StackOverflow to /Users/tnathu-ai/VSCode/Government-Digital-Transformation/data/intermediate/analysis/stackoverflow_topic_modeling.txt\n",
      "Saved qualitative analysis for StackOverflow to /Users/tnathu-ai/VSCode/Government-Digital-Transformation/data/intermediate/analysis/stackoverflow_qualitative_analysis.txt\n",
      "Saved time series visualization for StackOverflow - Topic: health  fitness  sports  to /Users/tnathu-ai/VSCode/Government-Digital-Transformation/assets/images/stackoverflow_time_series_analysis_health  fitness  sports .png\n"
     ]
    },
    {
     "name": "stderr",
     "output_type": "stream",
     "text": [
      "<timed exec>:63: SettingWithCopyWarning: \n",
      "A value is trying to be set on a copy of a slice from a DataFrame.\n",
      "Try using .loc[row_indexer,col_indexer] = value instead\n",
      "\n",
      "See the caveats in the documentation: https://pandas.pydata.org/pandas-docs/stable/user_guide/indexing.html#returning-a-view-versus-a-copy\n"
     ]
    },
    {
     "name": "stdout",
     "output_type": "stream",
     "text": [
      "Saved time series visualization for StackOverflow - Topic: name  id  state  to /Users/tnathu-ai/VSCode/Government-Digital-Transformation/assets/images/stackoverflow_time_series_analysis_name  id  state .png\n",
      "Saved time series visualization for StackOverflow - Topic: name  id  state  to /Users/tnathu-ai/VSCode/Government-Digital-Transformation/assets/images/stackoverflow_time_series_analysis_name  id  state .png\n",
      "Saved time series visualization for StackOverflow - Topic: name  id  state  to /Users/tnathu-ai/VSCode/Government-Digital-Transformation/assets/images/stackoverflow_time_series_analysis_name  id  state .png\n",
      "Saved time series visualization for StackOverflow - Topic: health  fitness  sports  to /Users/tnathu-ai/VSCode/Government-Digital-Transformation/assets/images/stackoverflow_time_series_analysis_health  fitness  sports .png\n"
     ]
    },
    {
     "name": "stderr",
     "output_type": "stream",
     "text": [
      "<timed exec>:63: SettingWithCopyWarning: \n",
      "A value is trying to be set on a copy of a slice from a DataFrame.\n",
      "Try using .loc[row_indexer,col_indexer] = value instead\n",
      "\n",
      "See the caveats in the documentation: https://pandas.pydata.org/pandas-docs/stable/user_guide/indexing.html#returning-a-view-versus-a-copy\n"
     ]
    },
    {
     "name": "stdout",
     "output_type": "stream",
     "text": [
      "Saved sentiment analysis for StackOverflow to /Users/tnathu-ai/VSCode/Government-Digital-Transformation/data/intermediate/analysis/stackoverflow_sentiment_analysis.txt\n",
      "Extracted Topic: (0, '0.002*\"statusnormal\" + 0.002*\"public\" + 0.002*\"topicinternational\" + 0.002*\"statusspecialinterest\" + 0.002*\"topicmiscellaneous\"')\n",
      "Extracted Topic: (1, '0.002*\"statusnormal\" + 0.002*\"topicinternational\" + 0.002*\"business\" + 0.002*\"statusspecialinterest\" + 0.002*\"status\"')\n",
      "Extracted Topic: (2, '0.025*\"statusnormal\" + 0.019*\"topicinternational\" + 0.017*\"statusspecialinterest\" + 0.016*\"status\" + 0.015*\"topicmiscellaneous\"')\n",
      "Extracted Topic: (3, '0.019*\"data\" + 0.017*\"support\" + 0.016*\"business\" + 0.015*\"want\" + 0.015*\"span\"')\n",
      "Extracted Topic: (4, '0.002*\"statusnormal\" + 0.002*\"topicinternational\" + 0.002*\"public\" + 0.002*\"statusspecialinterest\" + 0.002*\"status\"')\n",
      "Saved topic modeling for StackOverflow to /Users/tnathu-ai/VSCode/Government-Digital-Transformation/data/intermediate/analysis/stackoverflow_topic_modeling.txt\n",
      "Saved qualitative analysis for StackOverflow to /Users/tnathu-ai/VSCode/Government-Digital-Transformation/data/intermediate/analysis/stackoverflow_qualitative_analysis.txt\n"
     ]
    },
    {
     "name": "stderr",
     "output_type": "stream",
     "text": [
      "<timed exec>:63: SettingWithCopyWarning: \n",
      "A value is trying to be set on a copy of a slice from a DataFrame.\n",
      "Try using .loc[row_indexer,col_indexer] = value instead\n",
      "\n",
      "See the caveats in the documentation: https://pandas.pydata.org/pandas-docs/stable/user_guide/indexing.html#returning-a-view-versus-a-copy\n",
      "<timed exec>:63: SettingWithCopyWarning: \n",
      "A value is trying to be set on a copy of a slice from a DataFrame.\n",
      "Try using .loc[row_indexer,col_indexer] = value instead\n",
      "\n",
      "See the caveats in the documentation: https://pandas.pydata.org/pandas-docs/stable/user_guide/indexing.html#returning-a-view-versus-a-copy\n"
     ]
    },
    {
     "name": "stdout",
     "output_type": "stream",
     "text": [
      "Saved time series visualization for StackOverflow - Topic: statusnormal  public  topicinternational  to /Users/tnathu-ai/VSCode/Government-Digital-Transformation/assets/images/stackoverflow_time_series_analysis_statusnormal  public  topicinternational .png\n",
      "Saved time series visualization for StackOverflow - Topic: statusnormal  topicinternational  business  to /Users/tnathu-ai/VSCode/Government-Digital-Transformation/assets/images/stackoverflow_time_series_analysis_statusnormal  topicinternational  business .png\n"
     ]
    },
    {
     "name": "stderr",
     "output_type": "stream",
     "text": [
      "<timed exec>:63: SettingWithCopyWarning: \n",
      "A value is trying to be set on a copy of a slice from a DataFrame.\n",
      "Try using .loc[row_indexer,col_indexer] = value instead\n",
      "\n",
      "See the caveats in the documentation: https://pandas.pydata.org/pandas-docs/stable/user_guide/indexing.html#returning-a-view-versus-a-copy\n"
     ]
    },
    {
     "name": "stdout",
     "output_type": "stream",
     "text": [
      "Saved time series visualization for StackOverflow - Topic: statusnormal  topicinternational  statusspecialinterest  to /Users/tnathu-ai/VSCode/Government-Digital-Transformation/assets/images/stackoverflow_time_series_analysis_statusnormal  topicinternational  statusspecialinterest .png\n",
      "Saved time series visualization for StackOverflow - Topic: data  support  business  to /Users/tnathu-ai/VSCode/Government-Digital-Transformation/assets/images/stackoverflow_time_series_analysis_data  support  business .png\n"
     ]
    },
    {
     "name": "stderr",
     "output_type": "stream",
     "text": [
      "<timed exec>:63: SettingWithCopyWarning: \n",
      "A value is trying to be set on a copy of a slice from a DataFrame.\n",
      "Try using .loc[row_indexer,col_indexer] = value instead\n",
      "\n",
      "See the caveats in the documentation: https://pandas.pydata.org/pandas-docs/stable/user_guide/indexing.html#returning-a-view-versus-a-copy\n"
     ]
    },
    {
     "name": "stdout",
     "output_type": "stream",
     "text": [
      "Saved time series visualization for StackOverflow - Topic: statusnormal  topicinternational  public  to /Users/tnathu-ai/VSCode/Government-Digital-Transformation/assets/images/stackoverflow_time_series_analysis_statusnormal  topicinternational  public .png\n",
      "Saved sentiment analysis for StackOverflow to /Users/tnathu-ai/VSCode/Government-Digital-Transformation/data/intermediate/analysis/stackoverflow_sentiment_analysis.txt\n",
      "Extracted Topic: (0, '0.037*\"committee\" + 0.033*\"id\" + 0.028*\"subcommittees\" + 0.014*\"security\" + 0.013*\"subcommittee\"')\n",
      "Extracted Topic: (1, '0.001*\"subcommittees\" + 0.001*\"committee\" + 0.001*\"id\" + 0.001*\"security\" + 0.001*\"oversight\"')\n",
      "Extracted Topic: (2, '0.039*\"webmatrix\" + 0.028*\"vs2012\" + 0.025*\"dll\" + 0.019*\"loading\" + 0.019*\"debug\"')\n",
      "Extracted Topic: (3, '0.001*\"id\" + 0.001*\"committee\" + 0.001*\"subcommittees\" + 0.001*\"security\" + 0.001*\"oversight\"')\n",
      "Extracted Topic: (4, '0.001*\"committee\" + 0.001*\"id\" + 0.001*\"subcommittees\" + 0.001*\"oversight\" + 0.001*\"international\"')\n",
      "Saved topic modeling for StackOverflow to /Users/tnathu-ai/VSCode/Government-Digital-Transformation/data/intermediate/analysis/stackoverflow_topic_modeling.txt\n",
      "Saved qualitative analysis for StackOverflow to /Users/tnathu-ai/VSCode/Government-Digital-Transformation/data/intermediate/analysis/stackoverflow_qualitative_analysis.txt\n",
      "Saved time series visualization for StackOverflow - Topic: committee  id  subcommittees  to /Users/tnathu-ai/VSCode/Government-Digital-Transformation/assets/images/stackoverflow_time_series_analysis_committee  id  subcommittees .png\n",
      "Saved time series visualization for StackOverflow - Topic: subcommittees  committee  id  to /Users/tnathu-ai/VSCode/Government-Digital-Transformation/assets/images/stackoverflow_time_series_analysis_subcommittees  committee  id .png\n"
     ]
    },
    {
     "name": "stderr",
     "output_type": "stream",
     "text": [
      "<timed exec>:63: SettingWithCopyWarning: \n",
      "A value is trying to be set on a copy of a slice from a DataFrame.\n",
      "Try using .loc[row_indexer,col_indexer] = value instead\n",
      "\n",
      "See the caveats in the documentation: https://pandas.pydata.org/pandas-docs/stable/user_guide/indexing.html#returning-a-view-versus-a-copy\n"
     ]
    },
    {
     "name": "stdout",
     "output_type": "stream",
     "text": [
      "Saved time series visualization for StackOverflow - Topic: webmatrix  vs2012  dll  to /Users/tnathu-ai/VSCode/Government-Digital-Transformation/assets/images/stackoverflow_time_series_analysis_webmatrix  vs2012  dll .png\n",
      "Saved time series visualization for StackOverflow - Topic: id  committee  subcommittees  to /Users/tnathu-ai/VSCode/Government-Digital-Transformation/assets/images/stackoverflow_time_series_analysis_id  committee  subcommittees .png\n",
      "Saved time series visualization for StackOverflow - Topic: committee  id  subcommittees  to /Users/tnathu-ai/VSCode/Government-Digital-Transformation/assets/images/stackoverflow_time_series_analysis_committee  id  subcommittees .png\n",
      "Saved sentiment analysis for StackOverflow to /Users/tnathu-ai/VSCode/Government-Digital-Transformation/data/intermediate/analysis/stackoverflow_sentiment_analysis.txt\n",
      "Extracted Topic: (0, '0.001*\"new\" + 0.001*\"question\" + 0.001*\"none\" + 0.001*\"text\" + 0.001*\"non\"')\n",
      "Extracted Topic: (1, '0.001*\"new\" + 0.001*\"question\" + 0.001*\"none\" + 0.001*\"text\" + 0.001*\"questionthe\"')\n",
      "Extracted Topic: (2, '0.001*\"question\" + 0.001*\"none\" + 0.001*\"new\" + 0.001*\"text\" + 0.001*\"id\"')\n",
      "Extracted Topic: (3, '0.039*\"text\" + 0.032*\"answerstart\" + 0.028*\"id\" + 0.023*\"answers\" + 0.018*\"question\"')\n",
      "Extracted Topic: (4, '0.057*\"question\" + 0.051*\"new\" + 0.034*\"none\" + 0.010*\"questionthe\" + 0.010*\"non\"')\n",
      "Saved topic modeling for StackOverflow to /Users/tnathu-ai/VSCode/Government-Digital-Transformation/data/intermediate/analysis/stackoverflow_topic_modeling.txt\n",
      "Saved qualitative analysis for StackOverflow to /Users/tnathu-ai/VSCode/Government-Digital-Transformation/data/intermediate/analysis/stackoverflow_qualitative_analysis.txt\n",
      "Saved time series visualization for StackOverflow - Topic: new  question  none  to /Users/tnathu-ai/VSCode/Government-Digital-Transformation/assets/images/stackoverflow_time_series_analysis_new  question  none .png\n",
      "Saved time series visualization for StackOverflow - Topic: new  question  none  to /Users/tnathu-ai/VSCode/Government-Digital-Transformation/assets/images/stackoverflow_time_series_analysis_new  question  none .png\n",
      "Saved time series visualization for StackOverflow - Topic: question  none  new  to /Users/tnathu-ai/VSCode/Government-Digital-Transformation/assets/images/stackoverflow_time_series_analysis_question  none  new .png\n",
      "Saved time series visualization for StackOverflow - Topic: text  answerstart  id  to /Users/tnathu-ai/VSCode/Government-Digital-Transformation/assets/images/stackoverflow_time_series_analysis_text  answerstart  id .png\n",
      "Saved time series visualization for StackOverflow - Topic: question  new  none  to /Users/tnathu-ai/VSCode/Government-Digital-Transformation/assets/images/stackoverflow_time_series_analysis_question  new  none .png\n",
      "Saved sentiment analysis for StackOverflow to /Users/tnathu-ai/VSCode/Government-Digital-Transformation/data/intermediate/analysis/stackoverflow_sentiment_analysis.txt\n",
      "Extracted Topic: (0, '0.071*\"free\" + 0.064*\"electoral\" + 0.048*\"australian\" + 0.040*\"commission\" + 0.040*\"using\"')\n",
      "Extracted Topic: (1, '0.007*\"data\" + 0.007*\"party\" + 0.007*\"elected\" + 0.007*\"cells\" + 0.007*\"table\"')\n",
      "Extracted Topic: (2, '0.031*\"party\" + 0.025*\"table\" + 0.023*\"data\" + 0.018*\"cells\" + 0.018*\"elected\"')\n",
      "Extracted Topic: (3, '0.007*\"data\" + 0.007*\"electoral\" + 0.007*\"party\" + 0.007*\"australian\" + 0.007*\"elected\"')\n",
      "Extracted Topic: (4, '0.007*\"data\" + 0.007*\"party\" + 0.007*\"electoral\" + 0.007*\"table\" + 0.007*\"cells\"')\n",
      "Saved topic modeling for StackOverflow to /Users/tnathu-ai/VSCode/Government-Digital-Transformation/data/intermediate/analysis/stackoverflow_topic_modeling.txt\n",
      "Saved qualitative analysis for StackOverflow to /Users/tnathu-ai/VSCode/Government-Digital-Transformation/data/intermediate/analysis/stackoverflow_qualitative_analysis.txt\n",
      "Saved time series visualization for StackOverflow - Topic: free  electoral  australian  to /Users/tnathu-ai/VSCode/Government-Digital-Transformation/assets/images/stackoverflow_time_series_analysis_free  electoral  australian .png\n",
      "Saved time series visualization for StackOverflow - Topic: data  party  elected  to /Users/tnathu-ai/VSCode/Government-Digital-Transformation/assets/images/stackoverflow_time_series_analysis_data  party  elected .png\n",
      "Saved time series visualization for StackOverflow - Topic: party  table  data  to /Users/tnathu-ai/VSCode/Government-Digital-Transformation/assets/images/stackoverflow_time_series_analysis_party  table  data .png\n",
      "Saved time series visualization for StackOverflow - Topic: data  electoral  party  to /Users/tnathu-ai/VSCode/Government-Digital-Transformation/assets/images/stackoverflow_time_series_analysis_data  electoral  party .png\n",
      "Saved time series visualization for StackOverflow - Topic: data  party  electoral  to /Users/tnathu-ai/VSCode/Government-Digital-Transformation/assets/images/stackoverflow_time_series_analysis_data  party  electoral .png\n",
      "Saved sentiment analysis for StackOverflow to /Users/tnathu-ai/VSCode/Government-Digital-Transformation/data/intermediate/analysis/stackoverflow_sentiment_analysis.txt\n",
      "Extracted Topic: (0, '0.030*\"line\" + 0.027*\"file\" + 0.011*\"url\" + 0.010*\"import\" + 0.008*\"py\"')\n",
      "Extracted Topic: (1, '0.001*\"option\" + 0.001*\"line\" + 0.001*\"file\" + 0.001*\"engineering\" + 0.001*\"studies\"')\n",
      "Extracted Topic: (2, '0.151*\"option\" + 0.014*\"management\" + 0.013*\"studies\" + 0.011*\"engineering\" + 0.009*\"design\"')\n",
      "Extracted Topic: (3, '0.020*\"comedy\" + 0.018*\"enclosureurl\" + 0.016*\"enclosurebyts\" + 0.016*\"pubdate\" + 0.016*\"comedian\"')\n",
      "Extracted Topic: (4, '0.001*\"option\" + 0.001*\"comedy\" + 0.001*\"line\" + 0.001*\"file\" + 0.001*\"link\"')\n",
      "Saved topic modeling for StackOverflow to /Users/tnathu-ai/VSCode/Government-Digital-Transformation/data/intermediate/analysis/stackoverflow_topic_modeling.txt\n",
      "Saved qualitative analysis for StackOverflow to /Users/tnathu-ai/VSCode/Government-Digital-Transformation/data/intermediate/analysis/stackoverflow_qualitative_analysis.txt\n",
      "Saved time series visualization for StackOverflow - Topic: line  file  url  to /Users/tnathu-ai/VSCode/Government-Digital-Transformation/assets/images/stackoverflow_time_series_analysis_line  file  url .png\n",
      "Saved time series visualization for StackOverflow - Topic: option  line  file  to /Users/tnathu-ai/VSCode/Government-Digital-Transformation/assets/images/stackoverflow_time_series_analysis_option  line  file .png\n",
      "Saved time series visualization for StackOverflow - Topic: option  management  studies  to /Users/tnathu-ai/VSCode/Government-Digital-Transformation/assets/images/stackoverflow_time_series_analysis_option  management  studies .png\n"
     ]
    },
    {
     "name": "stderr",
     "output_type": "stream",
     "text": [
      "<timed exec>:63: SettingWithCopyWarning: \n",
      "A value is trying to be set on a copy of a slice from a DataFrame.\n",
      "Try using .loc[row_indexer,col_indexer] = value instead\n",
      "\n",
      "See the caveats in the documentation: https://pandas.pydata.org/pandas-docs/stable/user_guide/indexing.html#returning-a-view-versus-a-copy\n",
      "<timed exec>:63: SettingWithCopyWarning: \n",
      "A value is trying to be set on a copy of a slice from a DataFrame.\n",
      "Try using .loc[row_indexer,col_indexer] = value instead\n",
      "\n",
      "See the caveats in the documentation: https://pandas.pydata.org/pandas-docs/stable/user_guide/indexing.html#returning-a-view-versus-a-copy\n"
     ]
    },
    {
     "name": "stdout",
     "output_type": "stream",
     "text": [
      "Saved time series visualization for StackOverflow - Topic: comedy  enclosureurl  enclosurebyts  to /Users/tnathu-ai/VSCode/Government-Digital-Transformation/assets/images/stackoverflow_time_series_analysis_comedy  enclosureurl  enclosurebyts .png\n",
      "Saved time series visualization for StackOverflow - Topic: option  comedy  line  to /Users/tnathu-ai/VSCode/Government-Digital-Transformation/assets/images/stackoverflow_time_series_analysis_option  comedy  line .png\n",
      "Saved sentiment analysis for StackOverflow to /Users/tnathu-ai/VSCode/Government-Digital-Transformation/data/intermediate/analysis/stackoverflow_sentiment_analysis.txt\n",
      "Extracted Topic: (0, '0.016*\"exchange\" + 0.014*\"stock\" + 0.013*\"option\" + 0.008*\"unknown\" + 0.007*\"div\"')\n",
      "Extracted Topic: (1, '0.018*\"data\" + 0.013*\"import\" + 0.010*\"ticker\" + 0.010*\"stock\" + 0.009*\"would\"')\n",
      "Extracted Topic: (2, '0.027*\"exchange\" + 0.027*\"stock\" + 0.015*\"said\" + 0.013*\"revenue\" + 0.012*\"million\"')\n",
      "Extracted Topic: (3, '0.020*\"indexlili\" + 0.019*\"classoptionus\" + 0.012*\"shares\" + 0.011*\"td\" + 0.008*\"spotlili\"')\n",
      "Extracted Topic: (4, '0.024*\"exchange\" + 0.018*\"stock\" + 0.016*\"data\" + 0.014*\"price\" + 0.014*\"table\"')\n",
      "Saved topic modeling for StackOverflow to /Users/tnathu-ai/VSCode/Government-Digital-Transformation/data/intermediate/analysis/stackoverflow_topic_modeling.txt\n",
      "Saved qualitative analysis for StackOverflow to /Users/tnathu-ai/VSCode/Government-Digital-Transformation/data/intermediate/analysis/stackoverflow_qualitative_analysis.txt\n",
      "Saved time series visualization for StackOverflow - Topic: exchange  stock  option  to /Users/tnathu-ai/VSCode/Government-Digital-Transformation/assets/images/stackoverflow_time_series_analysis_exchange  stock  option .png\n"
     ]
    },
    {
     "name": "stderr",
     "output_type": "stream",
     "text": [
      "<timed exec>:63: SettingWithCopyWarning: \n",
      "A value is trying to be set on a copy of a slice from a DataFrame.\n",
      "Try using .loc[row_indexer,col_indexer] = value instead\n",
      "\n",
      "See the caveats in the documentation: https://pandas.pydata.org/pandas-docs/stable/user_guide/indexing.html#returning-a-view-versus-a-copy\n"
     ]
    },
    {
     "name": "stdout",
     "output_type": "stream",
     "text": [
      "Saved time series visualization for StackOverflow - Topic: data  import  ticker  to /Users/tnathu-ai/VSCode/Government-Digital-Transformation/assets/images/stackoverflow_time_series_analysis_data  import  ticker .png\n",
      "Saved time series visualization for StackOverflow - Topic: exchange  stock  said  to /Users/tnathu-ai/VSCode/Government-Digital-Transformation/assets/images/stackoverflow_time_series_analysis_exchange  stock  said .png\n"
     ]
    },
    {
     "name": "stderr",
     "output_type": "stream",
     "text": [
      "<timed exec>:63: SettingWithCopyWarning: \n",
      "A value is trying to be set on a copy of a slice from a DataFrame.\n",
      "Try using .loc[row_indexer,col_indexer] = value instead\n",
      "\n",
      "See the caveats in the documentation: https://pandas.pydata.org/pandas-docs/stable/user_guide/indexing.html#returning-a-view-versus-a-copy\n"
     ]
    },
    {
     "name": "stdout",
     "output_type": "stream",
     "text": [
      "Saved time series visualization for StackOverflow - Topic: indexlili  classoptionus  shares  to /Users/tnathu-ai/VSCode/Government-Digital-Transformation/assets/images/stackoverflow_time_series_analysis_indexlili  classoptionus  shares .png\n",
      "Saved time series visualization for StackOverflow - Topic: exchange  stock  data  to /Users/tnathu-ai/VSCode/Government-Digital-Transformation/assets/images/stackoverflow_time_series_analysis_exchange  stock  data .png\n",
      "Saved sentiment analysis for StackOverflow to /Users/tnathu-ai/VSCode/Government-Digital-Transformation/data/intermediate/analysis/stackoverflow_sentiment_analysis.txt\n",
      "Extracted Topic: (0, '0.011*\"south\" + 0.006*\"span\" + 0.004*\"rolenavigation\" + 0.004*\"experience\" + 0.004*\"page\"')\n",
      "Extracted Topic: (1, '0.024*\"geometry\" + 0.023*\"field\" + 0.021*\"import\" + 0.014*\"geopandas\" + 0.014*\"centroid\"')\n",
      "Extracted Topic: (2, '0.007*\"url\" + 0.006*\"title\" + 0.006*\"category\" + 0.006*\"keywords\" + 0.006*\"image\"')\n",
      "Extracted Topic: (3, '0.015*\"element\" + 0.014*\"text\" + 0.011*\"forecastperiod\" + 0.011*\"data\" + 0.009*\"card\"')\n",
      "Extracted Topic: (4, '0.032*\"div\" + 0.013*\"fontsize\" + 0.012*\"modal\" + 0.010*\"color\" + 0.009*\"close\"')\n",
      "Saved topic modeling for StackOverflow to /Users/tnathu-ai/VSCode/Government-Digital-Transformation/data/intermediate/analysis/stackoverflow_topic_modeling.txt\n",
      "Saved qualitative analysis for StackOverflow to /Users/tnathu-ai/VSCode/Government-Digital-Transformation/data/intermediate/analysis/stackoverflow_qualitative_analysis.txt\n",
      "Saved time series visualization for StackOverflow - Topic: south  span  rolenavigation  to /Users/tnathu-ai/VSCode/Government-Digital-Transformation/assets/images/stackoverflow_time_series_analysis_south  span  rolenavigation .png\n"
     ]
    },
    {
     "name": "stderr",
     "output_type": "stream",
     "text": [
      "<timed exec>:63: SettingWithCopyWarning: \n",
      "A value is trying to be set on a copy of a slice from a DataFrame.\n",
      "Try using .loc[row_indexer,col_indexer] = value instead\n",
      "\n",
      "See the caveats in the documentation: https://pandas.pydata.org/pandas-docs/stable/user_guide/indexing.html#returning-a-view-versus-a-copy\n",
      "<timed exec>:63: SettingWithCopyWarning: \n",
      "A value is trying to be set on a copy of a slice from a DataFrame.\n",
      "Try using .loc[row_indexer,col_indexer] = value instead\n",
      "\n",
      "See the caveats in the documentation: https://pandas.pydata.org/pandas-docs/stable/user_guide/indexing.html#returning-a-view-versus-a-copy\n"
     ]
    },
    {
     "name": "stdout",
     "output_type": "stream",
     "text": [
      "Saved time series visualization for StackOverflow - Topic: geometry  field  import  to /Users/tnathu-ai/VSCode/Government-Digital-Transformation/assets/images/stackoverflow_time_series_analysis_geometry  field  import .png\n",
      "Saved time series visualization for StackOverflow - Topic: url  title  category  to /Users/tnathu-ai/VSCode/Government-Digital-Transformation/assets/images/stackoverflow_time_series_analysis_url  title  category .png\n"
     ]
    },
    {
     "name": "stderr",
     "output_type": "stream",
     "text": [
      "<timed exec>:63: SettingWithCopyWarning: \n",
      "A value is trying to be set on a copy of a slice from a DataFrame.\n",
      "Try using .loc[row_indexer,col_indexer] = value instead\n",
      "\n",
      "See the caveats in the documentation: https://pandas.pydata.org/pandas-docs/stable/user_guide/indexing.html#returning-a-view-versus-a-copy\n",
      "<timed exec>:63: SettingWithCopyWarning: \n",
      "A value is trying to be set on a copy of a slice from a DataFrame.\n",
      "Try using .loc[row_indexer,col_indexer] = value instead\n",
      "\n",
      "See the caveats in the documentation: https://pandas.pydata.org/pandas-docs/stable/user_guide/indexing.html#returning-a-view-versus-a-copy\n"
     ]
    },
    {
     "name": "stdout",
     "output_type": "stream",
     "text": [
      "Saved time series visualization for StackOverflow - Topic: element  text  forecastperiod  to /Users/tnathu-ai/VSCode/Government-Digital-Transformation/assets/images/stackoverflow_time_series_analysis_element  text  forecastperiod .png\n",
      "Saved time series visualization for StackOverflow - Topic: div  fontsize  modal  to /Users/tnathu-ai/VSCode/Government-Digital-Transformation/assets/images/stackoverflow_time_series_analysis_div  fontsize  modal .png\n"
     ]
    },
    {
     "name": "stderr",
     "output_type": "stream",
     "text": [
      "<timed exec>:63: SettingWithCopyWarning: \n",
      "A value is trying to be set on a copy of a slice from a DataFrame.\n",
      "Try using .loc[row_indexer,col_indexer] = value instead\n",
      "\n",
      "See the caveats in the documentation: https://pandas.pydata.org/pandas-docs/stable/user_guide/indexing.html#returning-a-view-versus-a-copy\n"
     ]
    },
    {
     "name": "stdout",
     "output_type": "stream",
     "text": [
      "Saved sentiment analysis for StackOverflow to /Users/tnathu-ai/VSCode/Government-Digital-Transformation/data/intermediate/analysis/stackoverflow_sentiment_analysis.txt\n",
      "Extracted Topic: (0, '0.001*\"south\" + 0.001*\"span\" + 0.001*\"rolenavigation\" + 0.001*\"page\" + 0.001*\"fitzroy\"')\n",
      "Extracted Topic: (1, '0.001*\"south\" + 0.001*\"span\" + 0.001*\"rolenavigation\" + 0.001*\"page\" + 0.001*\"styletextaligncenter\"')\n",
      "Extracted Topic: (2, '0.001*\"south\" + 0.001*\"span\" + 0.001*\"page\" + 0.001*\"road\" + 0.001*\"styletextaligncenter\"')\n",
      "Extracted Topic: (3, '0.001*\"south\" + 0.001*\"span\" + 0.001*\"rolenavigation\" + 0.001*\"page\" + 0.001*\"titleedit\"')\n",
      "Extracted Topic: (4, '0.018*\"south\" + 0.010*\"span\" + 0.007*\"rolenavigation\" + 0.007*\"page\" + 0.005*\"road\"')\n",
      "Saved topic modeling for StackOverflow to /Users/tnathu-ai/VSCode/Government-Digital-Transformation/data/intermediate/analysis/stackoverflow_topic_modeling.txt\n",
      "Saved qualitative analysis for StackOverflow to /Users/tnathu-ai/VSCode/Government-Digital-Transformation/data/intermediate/analysis/stackoverflow_qualitative_analysis.txt\n",
      "Saved time series visualization for StackOverflow - Topic: south  span  rolenavigation  to /Users/tnathu-ai/VSCode/Government-Digital-Transformation/assets/images/stackoverflow_time_series_analysis_south  span  rolenavigation .png\n",
      "Saved time series visualization for StackOverflow - Topic: south  span  rolenavigation  to /Users/tnathu-ai/VSCode/Government-Digital-Transformation/assets/images/stackoverflow_time_series_analysis_south  span  rolenavigation .png\n",
      "Saved time series visualization for StackOverflow - Topic: south  span  page  to /Users/tnathu-ai/VSCode/Government-Digital-Transformation/assets/images/stackoverflow_time_series_analysis_south  span  page .png\n",
      "Saved time series visualization for StackOverflow - Topic: south  span  rolenavigation  to /Users/tnathu-ai/VSCode/Government-Digital-Transformation/assets/images/stackoverflow_time_series_analysis_south  span  rolenavigation .png\n",
      "Saved time series visualization for StackOverflow - Topic: south  span  rolenavigation  to /Users/tnathu-ai/VSCode/Government-Digital-Transformation/assets/images/stackoverflow_time_series_analysis_south  span  rolenavigation .png\n",
      "Saved sentiment analysis for StackOverflow to /Users/tnathu-ai/VSCode/Government-Digital-Transformation/data/intermediate/analysis/stackoverflow_sentiment_analysis.txt\n",
      "Extracted Topic: (0, '0.028*\"use\" + 0.018*\"product\" + 0.016*\"idt\" + 0.014*\"products\" + 0.009*\"patents\"')\n",
      "Extracted Topic: (1, '0.001*\"use\" + 0.001*\"product\" + 0.001*\"products\" + 0.001*\"idt\" + 0.001*\"patents\"')\n",
      "Extracted Topic: (2, '0.001*\"use\" + 0.001*\"idt\" + 0.001*\"product\" + 0.001*\"products\" + 0.001*\"research\"')\n",
      "Extracted Topic: (3, '0.021*\"energy\" + 0.018*\"inplace\" + 0.014*\"united\" + 0.013*\"true\" + 0.012*\"000\"')\n",
      "Extracted Topic: (4, '0.001*\"use\" + 0.001*\"products\" + 0.001*\"product\" + 0.001*\"idt\" + 0.001*\"research\"')\n",
      "Saved topic modeling for StackOverflow to /Users/tnathu-ai/VSCode/Government-Digital-Transformation/data/intermediate/analysis/stackoverflow_topic_modeling.txt\n",
      "Saved qualitative analysis for StackOverflow to /Users/tnathu-ai/VSCode/Government-Digital-Transformation/data/intermediate/analysis/stackoverflow_qualitative_analysis.txt\n",
      "Saved time series visualization for StackOverflow - Topic: use  product  idt  to /Users/tnathu-ai/VSCode/Government-Digital-Transformation/assets/images/stackoverflow_time_series_analysis_use  product  idt .png\n",
      "Saved time series visualization for StackOverflow - Topic: use  product  products  to /Users/tnathu-ai/VSCode/Government-Digital-Transformation/assets/images/stackoverflow_time_series_analysis_use  product  products .png\n",
      "Saved time series visualization for StackOverflow - Topic: use  idt  product  to /Users/tnathu-ai/VSCode/Government-Digital-Transformation/assets/images/stackoverflow_time_series_analysis_use  idt  product .png\n",
      "Saved time series visualization for StackOverflow - Topic: energy  inplace  united  to /Users/tnathu-ai/VSCode/Government-Digital-Transformation/assets/images/stackoverflow_time_series_analysis_energy  inplace  united .png\n",
      "Saved time series visualization for StackOverflow - Topic: use  products  product  to /Users/tnathu-ai/VSCode/Government-Digital-Transformation/assets/images/stackoverflow_time_series_analysis_use  products  product .png\n",
      "Saved sentiment analysis for StackOverflow to /Users/tnathu-ai/VSCode/Government-Digital-Transformation/data/intermediate/analysis/stackoverflow_sentiment_analysis.txt\n",
      "Extracted Topic: (0, '0.001*\"datatnlink\" + 0.001*\"var\" + 0.001*\"datatnelementcountry\" + 0.001*\"function\" + 0.001*\"script\"')\n",
      "Extracted Topic: (1, '0.001*\"datatnelementcountry\" + 0.001*\"datatnlink\" + 0.001*\"script\" + 0.001*\"var\" + 0.001*\"function\"')\n",
      "Extracted Topic: (2, '0.001*\"datatnlink\" + 0.001*\"var\" + 0.001*\"datatnelementcountry\" + 0.001*\"script\" + 0.001*\"function\"')\n",
      "Extracted Topic: (3, '0.027*\"datatnlink\" + 0.015*\"var\" + 0.015*\"datatnelementcountry\" + 0.012*\"script\" + 0.009*\"function\"')\n",
      "Extracted Topic: (4, '0.001*\"datatnlink\" + 0.001*\"var\" + 0.001*\"datatnelementcountry\" + 0.001*\"script\" + 0.001*\"function\"')\n",
      "Saved topic modeling for StackOverflow to /Users/tnathu-ai/VSCode/Government-Digital-Transformation/data/intermediate/analysis/stackoverflow_topic_modeling.txt\n",
      "Saved qualitative analysis for StackOverflow to /Users/tnathu-ai/VSCode/Government-Digital-Transformation/data/intermediate/analysis/stackoverflow_qualitative_analysis.txt\n",
      "Saved time series visualization for StackOverflow - Topic: datatnlink  var  datatnelementcountry  to /Users/tnathu-ai/VSCode/Government-Digital-Transformation/assets/images/stackoverflow_time_series_analysis_datatnlink  var  datatnelementcountry .png\n",
      "Saved time series visualization for StackOverflow - Topic: datatnelementcountry  datatnlink  script  to /Users/tnathu-ai/VSCode/Government-Digital-Transformation/assets/images/stackoverflow_time_series_analysis_datatnelementcountry  datatnlink  script .png\n",
      "Saved time series visualization for StackOverflow - Topic: datatnlink  var  datatnelementcountry  to /Users/tnathu-ai/VSCode/Government-Digital-Transformation/assets/images/stackoverflow_time_series_analysis_datatnlink  var  datatnelementcountry .png\n",
      "Saved time series visualization for StackOverflow - Topic: datatnlink  var  datatnelementcountry  to /Users/tnathu-ai/VSCode/Government-Digital-Transformation/assets/images/stackoverflow_time_series_analysis_datatnlink  var  datatnelementcountry .png\n",
      "Saved time series visualization for StackOverflow - Topic: datatnlink  var  datatnelementcountry  to /Users/tnathu-ai/VSCode/Government-Digital-Transformation/assets/images/stackoverflow_time_series_analysis_datatnlink  var  datatnelementcountry .png\n",
      "Saved sentiment analysis for StackOverflow to /Users/tnathu-ai/VSCode/Government-Digital-Transformation/data/intermediate/analysis/stackoverflow_sentiment_analysis.txt\n",
      "Extracted Topic: (0, '0.019*\"rsqrm\" + 0.016*\"currency\" + 0.014*\"file\" + 0.010*\"model\" + 0.010*\"else\"')\n",
      "Extracted Topic: (1, '0.031*\"div\" + 0.016*\"data\" + 0.008*\"json\" + 0.008*\"js\" + 0.007*\"yf\"')\n",
      "Extracted Topic: (2, '0.012*\"covid19\" + 0.010*\"people\" + 0.009*\"li\" + 0.008*\"vaccine\" + 0.007*\"breaches\"')\n",
      "Extracted Topic: (3, '0.024*\"systems\" + 0.015*\"data\" + 0.014*\"company\" + 0.014*\"view\" + 0.013*\"long\"')\n",
      "Extracted Topic: (4, '0.029*\"option\" + 0.019*\"script\" + 0.017*\"fieldset\" + 0.016*\"var\" + 0.015*\"function\"')\n",
      "Saved topic modeling for StackOverflow to /Users/tnathu-ai/VSCode/Government-Digital-Transformation/data/intermediate/analysis/stackoverflow_topic_modeling.txt\n",
      "Saved qualitative analysis for StackOverflow to /Users/tnathu-ai/VSCode/Government-Digital-Transformation/data/intermediate/analysis/stackoverflow_qualitative_analysis.txt\n",
      "Saved time series visualization for StackOverflow - Topic: rsqrm  currency  file  to /Users/tnathu-ai/VSCode/Government-Digital-Transformation/assets/images/stackoverflow_time_series_analysis_rsqrm  currency  file .png\n"
     ]
    },
    {
     "name": "stderr",
     "output_type": "stream",
     "text": [
      "<timed exec>:63: SettingWithCopyWarning: \n",
      "A value is trying to be set on a copy of a slice from a DataFrame.\n",
      "Try using .loc[row_indexer,col_indexer] = value instead\n",
      "\n",
      "See the caveats in the documentation: https://pandas.pydata.org/pandas-docs/stable/user_guide/indexing.html#returning-a-view-versus-a-copy\n"
     ]
    },
    {
     "name": "stdout",
     "output_type": "stream",
     "text": [
      "Saved time series visualization for StackOverflow - Topic: div  data  json  to /Users/tnathu-ai/VSCode/Government-Digital-Transformation/assets/images/stackoverflow_time_series_analysis_div  data  json .png\n",
      "Saved time series visualization for StackOverflow - Topic: covid19  people  li  to /Users/tnathu-ai/VSCode/Government-Digital-Transformation/assets/images/stackoverflow_time_series_analysis_covid19  people  li .png\n",
      "Saved time series visualization for StackOverflow - Topic: systems  data  company  to /Users/tnathu-ai/VSCode/Government-Digital-Transformation/assets/images/stackoverflow_time_series_analysis_systems  data  company .png\n",
      "Saved time series visualization for StackOverflow - Topic: option  script  fieldset  to /Users/tnathu-ai/VSCode/Government-Digital-Transformation/assets/images/stackoverflow_time_series_analysis_option  script  fieldset .png\n"
     ]
    },
    {
     "name": "stderr",
     "output_type": "stream",
     "text": [
      "<timed exec>:63: SettingWithCopyWarning: \n",
      "A value is trying to be set on a copy of a slice from a DataFrame.\n",
      "Try using .loc[row_indexer,col_indexer] = value instead\n",
      "\n",
      "See the caveats in the documentation: https://pandas.pydata.org/pandas-docs/stable/user_guide/indexing.html#returning-a-view-versus-a-copy\n"
     ]
    },
    {
     "name": "stdout",
     "output_type": "stream",
     "text": [
      "Saved sentiment analysis for StackOverflow to /Users/tnathu-ai/VSCode/Government-Digital-Transformation/data/intermediate/analysis/stackoverflow_sentiment_analysis.txt\n",
      "Extracted Topic: (0, '0.029*\"fires\" + 0.025*\"near\" + 0.025*\"google\" + 0.018*\"im\" + 0.018*\"fire\"')\n",
      "Extracted Topic: (1, '0.004*\"li\" + 0.004*\"0px\" + 0.004*\"fontsize\" + 0.004*\"ali\" + 0.004*\"im\"')\n",
      "Extracted Topic: (2, '0.035*\"0px\" + 0.031*\"li\" + 0.025*\"div\" + 0.021*\"ali\" + 0.017*\"color\"')\n",
      "Extracted Topic: (3, '0.004*\"google\" + 0.004*\"fires\" + 0.004*\"im\" + 0.004*\"near\" + 0.004*\"li\"')\n",
      "Extracted Topic: (4, '0.004*\"li\" + 0.004*\"div\" + 0.004*\"0px\" + 0.004*\"ali\" + 0.004*\"im\"')\n",
      "Saved topic modeling for StackOverflow to /Users/tnathu-ai/VSCode/Government-Digital-Transformation/data/intermediate/analysis/stackoverflow_topic_modeling.txt\n",
      "Saved qualitative analysis for StackOverflow to /Users/tnathu-ai/VSCode/Government-Digital-Transformation/data/intermediate/analysis/stackoverflow_qualitative_analysis.txt\n",
      "Saved time series visualization for StackOverflow - Topic: fires  near  google  to /Users/tnathu-ai/VSCode/Government-Digital-Transformation/assets/images/stackoverflow_time_series_analysis_fires  near  google .png\n",
      "Saved time series visualization for StackOverflow - Topic: li  0px  fontsize  to /Users/tnathu-ai/VSCode/Government-Digital-Transformation/assets/images/stackoverflow_time_series_analysis_li  0px  fontsize .png\n",
      "Saved time series visualization for StackOverflow - Topic: 0px  li  div  to /Users/tnathu-ai/VSCode/Government-Digital-Transformation/assets/images/stackoverflow_time_series_analysis_0px  li  div .png\n",
      "Saved time series visualization for StackOverflow - Topic: google  fires  im  to /Users/tnathu-ai/VSCode/Government-Digital-Transformation/assets/images/stackoverflow_time_series_analysis_google  fires  im .png\n",
      "Saved time series visualization for StackOverflow - Topic: li  div  0px  to /Users/tnathu-ai/VSCode/Government-Digital-Transformation/assets/images/stackoverflow_time_series_analysis_li  div  0px .png\n",
      "Saved sentiment analysis for StackOverflow to /Users/tnathu-ai/VSCode/Government-Digital-Transformation/data/intermediate/analysis/stackoverflow_sentiment_analysis.txt\n",
      "Extracted Topic: (0, '0.027*\"health\" + 0.025*\"fitness\" + 0.022*\"sports\" + 0.021*\"travel\" + 0.020*\"recreation\"')\n",
      "Extracted Topic: (1, '0.037*\"div\" + 0.035*\"var\" + 0.028*\"uluru\" + 0.027*\"map\" + 0.025*\"new\"')\n",
      "Extracted Topic: (2, '0.008*\"featuretype\" + 0.008*\"covid19\" + 0.007*\"us\" + 0.007*\"people\" + 0.006*\"elementtype\"')\n",
      "Extracted Topic: (3, '0.024*\"lia\" + 0.019*\"import\" + 0.015*\"li\" + 0.015*\"div\" + 0.011*\"weather\"')\n",
      "Extracted Topic: (4, '0.020*\"var\" + 0.008*\"function\" + 0.007*\"button\" + 0.007*\"script\" + 0.006*\"api\"')\n",
      "Saved topic modeling for StackOverflow to /Users/tnathu-ai/VSCode/Government-Digital-Transformation/data/intermediate/analysis/stackoverflow_topic_modeling.txt\n",
      "Saved qualitative analysis for StackOverflow to /Users/tnathu-ai/VSCode/Government-Digital-Transformation/data/intermediate/analysis/stackoverflow_qualitative_analysis.txt\n",
      "Saved time series visualization for StackOverflow - Topic: health  fitness  sports  to /Users/tnathu-ai/VSCode/Government-Digital-Transformation/assets/images/stackoverflow_time_series_analysis_health  fitness  sports .png\n"
     ]
    },
    {
     "name": "stderr",
     "output_type": "stream",
     "text": [
      "<timed exec>:63: SettingWithCopyWarning: \n",
      "A value is trying to be set on a copy of a slice from a DataFrame.\n",
      "Try using .loc[row_indexer,col_indexer] = value instead\n",
      "\n",
      "See the caveats in the documentation: https://pandas.pydata.org/pandas-docs/stable/user_guide/indexing.html#returning-a-view-versus-a-copy\n",
      "<timed exec>:63: SettingWithCopyWarning: \n",
      "A value is trying to be set on a copy of a slice from a DataFrame.\n",
      "Try using .loc[row_indexer,col_indexer] = value instead\n",
      "\n",
      "See the caveats in the documentation: https://pandas.pydata.org/pandas-docs/stable/user_guide/indexing.html#returning-a-view-versus-a-copy\n"
     ]
    },
    {
     "name": "stdout",
     "output_type": "stream",
     "text": [
      "Saved time series visualization for StackOverflow - Topic: div  var  uluru  to /Users/tnathu-ai/VSCode/Government-Digital-Transformation/assets/images/stackoverflow_time_series_analysis_div  var  uluru .png\n",
      "Saved time series visualization for StackOverflow - Topic: featuretype  covid19  us  to /Users/tnathu-ai/VSCode/Government-Digital-Transformation/assets/images/stackoverflow_time_series_analysis_featuretype  covid19  us .png\n",
      "Saved time series visualization for StackOverflow - Topic: lia  import  li  to /Users/tnathu-ai/VSCode/Government-Digital-Transformation/assets/images/stackoverflow_time_series_analysis_lia  import  li .png\n",
      "Saved time series visualization for StackOverflow - Topic: var  function  button  to /Users/tnathu-ai/VSCode/Government-Digital-Transformation/assets/images/stackoverflow_time_series_analysis_var  function  button .png\n"
     ]
    },
    {
     "name": "stderr",
     "output_type": "stream",
     "text": [
      "<timed exec>:63: SettingWithCopyWarning: \n",
      "A value is trying to be set on a copy of a slice from a DataFrame.\n",
      "Try using .loc[row_indexer,col_indexer] = value instead\n",
      "\n",
      "See the caveats in the documentation: https://pandas.pydata.org/pandas-docs/stable/user_guide/indexing.html#returning-a-view-versus-a-copy\n"
     ]
    },
    {
     "name": "stdout",
     "output_type": "stream",
     "text": [
      "Saved sentiment analysis for StackOverflow to /Users/tnathu-ai/VSCode/Government-Digital-Transformation/data/intermediate/analysis/stackoverflow_sentiment_analysis.txt\n",
      "Extracted Topic: (0, '0.001*\"option\" + 0.001*\"court\" + 0.001*\"patents\" + 0.001*\"management\" + 0.001*\"patent\"')\n",
      "Extracted Topic: (1, '0.017*\"speaker\" + 0.014*\"united\" + 0.014*\"transcription\" + 0.012*\"speakertags\" + 0.011*\"us\"')\n",
      "Extracted Topic: (2, '0.001*\"option\" + 0.001*\"abstract\" + 0.001*\"patent\" + 0.001*\"court\" + 0.001*\"patents\"')\n",
      "Extracted Topic: (3, '0.012*\"court\" + 0.011*\"patents\" + 0.010*\"abstract\" + 0.010*\"claims\" + 0.010*\"patent\"')\n",
      "Extracted Topic: (4, '0.121*\"option\" + 0.014*\"science\" + 0.013*\"management\" + 0.012*\"studies\" + 0.010*\"engineering\"')\n",
      "Saved topic modeling for StackOverflow to /Users/tnathu-ai/VSCode/Government-Digital-Transformation/data/intermediate/analysis/stackoverflow_topic_modeling.txt\n",
      "Saved qualitative analysis for StackOverflow to /Users/tnathu-ai/VSCode/Government-Digital-Transformation/data/intermediate/analysis/stackoverflow_qualitative_analysis.txt\n",
      "Saved time series visualization for StackOverflow - Topic: option  court  patents  to /Users/tnathu-ai/VSCode/Government-Digital-Transformation/assets/images/stackoverflow_time_series_analysis_option  court  patents .png\n"
     ]
    },
    {
     "name": "stderr",
     "output_type": "stream",
     "text": [
      "<timed exec>:63: SettingWithCopyWarning: \n",
      "A value is trying to be set on a copy of a slice from a DataFrame.\n",
      "Try using .loc[row_indexer,col_indexer] = value instead\n",
      "\n",
      "See the caveats in the documentation: https://pandas.pydata.org/pandas-docs/stable/user_guide/indexing.html#returning-a-view-versus-a-copy\n",
      "<timed exec>:63: SettingWithCopyWarning: \n",
      "A value is trying to be set on a copy of a slice from a DataFrame.\n",
      "Try using .loc[row_indexer,col_indexer] = value instead\n",
      "\n",
      "See the caveats in the documentation: https://pandas.pydata.org/pandas-docs/stable/user_guide/indexing.html#returning-a-view-versus-a-copy\n"
     ]
    },
    {
     "name": "stdout",
     "output_type": "stream",
     "text": [
      "Saved time series visualization for StackOverflow - Topic: speaker  united  transcription  to /Users/tnathu-ai/VSCode/Government-Digital-Transformation/assets/images/stackoverflow_time_series_analysis_speaker  united  transcription .png\n",
      "Saved time series visualization for StackOverflow - Topic: option  abstract  patent  to /Users/tnathu-ai/VSCode/Government-Digital-Transformation/assets/images/stackoverflow_time_series_analysis_option  abstract  patent .png\n"
     ]
    },
    {
     "name": "stderr",
     "output_type": "stream",
     "text": [
      "<timed exec>:63: SettingWithCopyWarning: \n",
      "A value is trying to be set on a copy of a slice from a DataFrame.\n",
      "Try using .loc[row_indexer,col_indexer] = value instead\n",
      "\n",
      "See the caveats in the documentation: https://pandas.pydata.org/pandas-docs/stable/user_guide/indexing.html#returning-a-view-versus-a-copy\n",
      "<timed exec>:63: SettingWithCopyWarning: \n",
      "A value is trying to be set on a copy of a slice from a DataFrame.\n",
      "Try using .loc[row_indexer,col_indexer] = value instead\n",
      "\n",
      "See the caveats in the documentation: https://pandas.pydata.org/pandas-docs/stable/user_guide/indexing.html#returning-a-view-versus-a-copy\n"
     ]
    },
    {
     "name": "stdout",
     "output_type": "stream",
     "text": [
      "Saved time series visualization for StackOverflow - Topic: court  patents  abstract  to /Users/tnathu-ai/VSCode/Government-Digital-Transformation/assets/images/stackoverflow_time_series_analysis_court  patents  abstract .png\n",
      "Saved time series visualization for StackOverflow - Topic: option  science  management  to /Users/tnathu-ai/VSCode/Government-Digital-Transformation/assets/images/stackoverflow_time_series_analysis_option  science  management .png\n"
     ]
    },
    {
     "name": "stderr",
     "output_type": "stream",
     "text": [
      "<timed exec>:63: SettingWithCopyWarning: \n",
      "A value is trying to be set on a copy of a slice from a DataFrame.\n",
      "Try using .loc[row_indexer,col_indexer] = value instead\n",
      "\n",
      "See the caveats in the documentation: https://pandas.pydata.org/pandas-docs/stable/user_guide/indexing.html#returning-a-view-versus-a-copy\n"
     ]
    },
    {
     "name": "stdout",
     "output_type": "stream",
     "text": [
      "Saved sentiment analysis for StackOverflow to /Users/tnathu-ai/VSCode/Government-Digital-Transformation/data/intermediate/analysis/stackoverflow_sentiment_analysis.txt\n",
      "Extracted Topic: (0, '0.018*\"im\" + 0.016*\"021117\" + 0.015*\"data\" + 0.014*\"sent\" + 0.011*\"left\"')\n",
      "Extracted Topic: (1, '0.151*\"option\" + 0.014*\"management\" + 0.013*\"studies\" + 0.011*\"engineering\" + 0.009*\"design\"')\n",
      "Extracted Topic: (2, '0.017*\"dividend\" + 0.013*\"merger\" + 0.013*\"text\" + 0.009*\"mine\" + 0.008*\"expected\"')\n",
      "Extracted Topic: (3, '0.001*\"option\" + 0.001*\"management\" + 0.001*\"engineering\" + 0.001*\"business\" + 0.001*\"studies\"')\n",
      "Extracted Topic: (4, '0.020*\"home\" + 0.018*\"tax\" + 0.008*\"div\" + 0.008*\"widget\" + 0.007*\"font\"')\n",
      "Saved topic modeling for StackOverflow to /Users/tnathu-ai/VSCode/Government-Digital-Transformation/data/intermediate/analysis/stackoverflow_topic_modeling.txt\n",
      "Saved qualitative analysis for StackOverflow to /Users/tnathu-ai/VSCode/Government-Digital-Transformation/data/intermediate/analysis/stackoverflow_qualitative_analysis.txt\n",
      "Saved time series visualization for StackOverflow - Topic: im  021117  data  to /Users/tnathu-ai/VSCode/Government-Digital-Transformation/assets/images/stackoverflow_time_series_analysis_im  021117  data .png\n"
     ]
    },
    {
     "name": "stderr",
     "output_type": "stream",
     "text": [
      "<timed exec>:63: SettingWithCopyWarning: \n",
      "A value is trying to be set on a copy of a slice from a DataFrame.\n",
      "Try using .loc[row_indexer,col_indexer] = value instead\n",
      "\n",
      "See the caveats in the documentation: https://pandas.pydata.org/pandas-docs/stable/user_guide/indexing.html#returning-a-view-versus-a-copy\n"
     ]
    },
    {
     "name": "stdout",
     "output_type": "stream",
     "text": [
      "Saved time series visualization for StackOverflow - Topic: option  management  studies  to /Users/tnathu-ai/VSCode/Government-Digital-Transformation/assets/images/stackoverflow_time_series_analysis_option  management  studies .png\n",
      "Saved time series visualization for StackOverflow - Topic: dividend  merger  text  to /Users/tnathu-ai/VSCode/Government-Digital-Transformation/assets/images/stackoverflow_time_series_analysis_dividend  merger  text .png\n"
     ]
    },
    {
     "name": "stderr",
     "output_type": "stream",
     "text": [
      "<timed exec>:63: SettingWithCopyWarning: \n",
      "A value is trying to be set on a copy of a slice from a DataFrame.\n",
      "Try using .loc[row_indexer,col_indexer] = value instead\n",
      "\n",
      "See the caveats in the documentation: https://pandas.pydata.org/pandas-docs/stable/user_guide/indexing.html#returning-a-view-versus-a-copy\n",
      "<timed exec>:63: SettingWithCopyWarning: \n",
      "A value is trying to be set on a copy of a slice from a DataFrame.\n",
      "Try using .loc[row_indexer,col_indexer] = value instead\n",
      "\n",
      "See the caveats in the documentation: https://pandas.pydata.org/pandas-docs/stable/user_guide/indexing.html#returning-a-view-versus-a-copy\n"
     ]
    },
    {
     "name": "stdout",
     "output_type": "stream",
     "text": [
      "Saved time series visualization for StackOverflow - Topic: option  management  engineering  to /Users/tnathu-ai/VSCode/Government-Digital-Transformation/assets/images/stackoverflow_time_series_analysis_option  management  engineering .png\n",
      "Saved time series visualization for StackOverflow - Topic: home  tax  div  to /Users/tnathu-ai/VSCode/Government-Digital-Transformation/assets/images/stackoverflow_time_series_analysis_home  tax  div .png\n",
      "Saved sentiment analysis for StackOverflow to /Users/tnathu-ai/VSCode/Government-Digital-Transformation/data/intermediate/analysis/stackoverflow_sentiment_analysis.txt\n",
      "Extracted Topic: (0, '0.039*\"like\" + 0.028*\"national\" + 0.028*\"kosciuszko\" + 0.014*\"part\" + 0.014*\"australian\"')\n",
      "Extracted Topic: (1, '0.002*\"lltoken\" + 0.002*\"string\" + 0.002*\"import\" + 0.002*\"05\" + 0.002*\"public\"')\n",
      "Extracted Topic: (2, '0.053*\"import\" + 0.046*\"string\" + 0.032*\"public\" + 0.025*\"new\" + 0.017*\"casino\"')\n",
      "Extracted Topic: (3, '0.063*\"05\" + 0.052*\"lltoken\" + 0.024*\"topic\" + 0.014*\"time\" + 0.013*\"0008\"')\n",
      "Extracted Topic: (4, '0.002*\"import\" + 0.002*\"string\" + 0.002*\"public\" + 0.002*\"05\" + 0.002*\"lltoken\"')\n",
      "Saved topic modeling for StackOverflow to /Users/tnathu-ai/VSCode/Government-Digital-Transformation/data/intermediate/analysis/stackoverflow_topic_modeling.txt\n",
      "Saved qualitative analysis for StackOverflow to /Users/tnathu-ai/VSCode/Government-Digital-Transformation/data/intermediate/analysis/stackoverflow_qualitative_analysis.txt\n",
      "Saved time series visualization for StackOverflow - Topic: like  national  kosciuszko  to /Users/tnathu-ai/VSCode/Government-Digital-Transformation/assets/images/stackoverflow_time_series_analysis_like  national  kosciuszko .png\n",
      "Saved time series visualization for StackOverflow - Topic: lltoken  string  import  to /Users/tnathu-ai/VSCode/Government-Digital-Transformation/assets/images/stackoverflow_time_series_analysis_lltoken  string  import .png\n"
     ]
    },
    {
     "name": "stderr",
     "output_type": "stream",
     "text": [
      "<timed exec>:63: SettingWithCopyWarning: \n",
      "A value is trying to be set on a copy of a slice from a DataFrame.\n",
      "Try using .loc[row_indexer,col_indexer] = value instead\n",
      "\n",
      "See the caveats in the documentation: https://pandas.pydata.org/pandas-docs/stable/user_guide/indexing.html#returning-a-view-versus-a-copy\n",
      "<timed exec>:63: SettingWithCopyWarning: \n",
      "A value is trying to be set on a copy of a slice from a DataFrame.\n",
      "Try using .loc[row_indexer,col_indexer] = value instead\n",
      "\n",
      "See the caveats in the documentation: https://pandas.pydata.org/pandas-docs/stable/user_guide/indexing.html#returning-a-view-versus-a-copy\n"
     ]
    },
    {
     "name": "stdout",
     "output_type": "stream",
     "text": [
      "Saved time series visualization for StackOverflow - Topic: import  string  public  to /Users/tnathu-ai/VSCode/Government-Digital-Transformation/assets/images/stackoverflow_time_series_analysis_import  string  public .png\n",
      "Saved time series visualization for StackOverflow - Topic: 05  lltoken  topic  to /Users/tnathu-ai/VSCode/Government-Digital-Transformation/assets/images/stackoverflow_time_series_analysis_05  lltoken  topic .png\n"
     ]
    },
    {
     "name": "stderr",
     "output_type": "stream",
     "text": [
      "<timed exec>:63: SettingWithCopyWarning: \n",
      "A value is trying to be set on a copy of a slice from a DataFrame.\n",
      "Try using .loc[row_indexer,col_indexer] = value instead\n",
      "\n",
      "See the caveats in the documentation: https://pandas.pydata.org/pandas-docs/stable/user_guide/indexing.html#returning-a-view-versus-a-copy\n",
      "<timed exec>:63: SettingWithCopyWarning: \n",
      "A value is trying to be set on a copy of a slice from a DataFrame.\n",
      "Try using .loc[row_indexer,col_indexer] = value instead\n",
      "\n",
      "See the caveats in the documentation: https://pandas.pydata.org/pandas-docs/stable/user_guide/indexing.html#returning-a-view-versus-a-copy\n"
     ]
    },
    {
     "name": "stdout",
     "output_type": "stream",
     "text": [
      "Saved time series visualization for StackOverflow - Topic: import  string  public  to /Users/tnathu-ai/VSCode/Government-Digital-Transformation/assets/images/stackoverflow_time_series_analysis_import  string  public .png\n",
      "Saved sentiment analysis for StackOverflow to /Users/tnathu-ai/VSCode/Government-Digital-Transformation/data/intermediate/analysis/stackoverflow_sentiment_analysis.txt\n",
      "Extracted Topic: (0, '0.003*\"option\" + 0.003*\"visaoptionappendtocname\" + 0.003*\"div\" + 0.003*\"visa\" + 0.003*\"tier\"')\n",
      "Extracted Topic: (1, '0.098*\"option\" + 0.025*\"visaoptionappendtocname\" + 0.015*\"div\" + 0.013*\"tier\" + 0.012*\"visa\"')\n",
      "Extracted Topic: (2, '0.003*\"option\" + 0.003*\"visaoptionappendtocname\" + 0.003*\"visa\" + 0.003*\"skilled\" + 0.003*\"div\"')\n",
      "Extracted Topic: (3, '0.003*\"option\" + 0.003*\"visaoptionappendtocname\" + 0.003*\"tier\" + 0.003*\"div\" + 0.003*\"visa\"')\n",
      "Extracted Topic: (4, '0.003*\"option\" + 0.003*\"visaoptionappendtocname\" + 0.003*\"skilled\" + 0.003*\"evaluationoptionappendtocname\" + 0.003*\"tier\"')\n",
      "Saved topic modeling for StackOverflow to /Users/tnathu-ai/VSCode/Government-Digital-Transformation/data/intermediate/analysis/stackoverflow_topic_modeling.txt\n",
      "Saved qualitative analysis for StackOverflow to /Users/tnathu-ai/VSCode/Government-Digital-Transformation/data/intermediate/analysis/stackoverflow_qualitative_analysis.txt\n",
      "Saved time series visualization for StackOverflow - Topic: option  visaoptionappendtocname  div  to /Users/tnathu-ai/VSCode/Government-Digital-Transformation/assets/images/stackoverflow_time_series_analysis_option  visaoptionappendtocname  div .png\n",
      "Saved time series visualization for StackOverflow - Topic: option  visaoptionappendtocname  div  to /Users/tnathu-ai/VSCode/Government-Digital-Transformation/assets/images/stackoverflow_time_series_analysis_option  visaoptionappendtocname  div .png\n",
      "Saved time series visualization for StackOverflow - Topic: option  visaoptionappendtocname  visa  to /Users/tnathu-ai/VSCode/Government-Digital-Transformation/assets/images/stackoverflow_time_series_analysis_option  visaoptionappendtocname  visa .png\n",
      "Saved time series visualization for StackOverflow - Topic: option  visaoptionappendtocname  tier  to /Users/tnathu-ai/VSCode/Government-Digital-Transformation/assets/images/stackoverflow_time_series_analysis_option  visaoptionappendtocname  tier .png\n",
      "Saved time series visualization for StackOverflow - Topic: option  visaoptionappendtocname  skilled  to /Users/tnathu-ai/VSCode/Government-Digital-Transformation/assets/images/stackoverflow_time_series_analysis_option  visaoptionappendtocname  skilled .png\n",
      "Saved sentiment analysis for StackOverflow to /Users/tnathu-ai/VSCode/Government-Digital-Transformation/data/intermediate/analysis/stackoverflow_sentiment_analysis.txt\n",
      "Extracted Topic: (0, '0.056*\"question\" + 0.050*\"new\" + 0.033*\"none\" + 0.010*\"questionthe\" + 0.010*\"non\"')\n",
      "Extracted Topic: (1, '0.068*\"display\" + 0.010*\"first\" + 0.009*\"italy\" + 0.007*\"january\" + 0.007*\"july\"')\n",
      "Extracted Topic: (2, '0.040*\"public\" + 0.023*\"string\" + 0.019*\"return\" + 0.018*\"void\" + 0.013*\"private\"')\n",
      "Extracted Topic: (3, '0.026*\"def\" + 0.020*\"global\" + 0.018*\"filename\" + 0.017*\"command\" + 0.016*\"buttonroot\"')\n",
      "Extracted Topic: (4, '0.024*\"tendulkar\" + 0.016*\"first\" + 0.015*\"award\" + 0.011*\"international\" + 0.011*\"div\"')\n",
      "Saved topic modeling for StackOverflow to /Users/tnathu-ai/VSCode/Government-Digital-Transformation/data/intermediate/analysis/stackoverflow_topic_modeling.txt\n",
      "Saved qualitative analysis for StackOverflow to /Users/tnathu-ai/VSCode/Government-Digital-Transformation/data/intermediate/analysis/stackoverflow_qualitative_analysis.txt\n",
      "Saved time series visualization for StackOverflow - Topic: question  new  none  to /Users/tnathu-ai/VSCode/Government-Digital-Transformation/assets/images/stackoverflow_time_series_analysis_question  new  none .png\n"
     ]
    },
    {
     "name": "stderr",
     "output_type": "stream",
     "text": [
      "<timed exec>:63: SettingWithCopyWarning: \n",
      "A value is trying to be set on a copy of a slice from a DataFrame.\n",
      "Try using .loc[row_indexer,col_indexer] = value instead\n",
      "\n",
      "See the caveats in the documentation: https://pandas.pydata.org/pandas-docs/stable/user_guide/indexing.html#returning-a-view-versus-a-copy\n",
      "<timed exec>:63: SettingWithCopyWarning: \n",
      "A value is trying to be set on a copy of a slice from a DataFrame.\n",
      "Try using .loc[row_indexer,col_indexer] = value instead\n",
      "\n",
      "See the caveats in the documentation: https://pandas.pydata.org/pandas-docs/stable/user_guide/indexing.html#returning-a-view-versus-a-copy\n"
     ]
    },
    {
     "name": "stdout",
     "output_type": "stream",
     "text": [
      "Saved time series visualization for StackOverflow - Topic: display  first  italy  to /Users/tnathu-ai/VSCode/Government-Digital-Transformation/assets/images/stackoverflow_time_series_analysis_display  first  italy .png\n"
     ]
    },
    {
     "name": "stderr",
     "output_type": "stream",
     "text": [
      "<timed exec>:63: SettingWithCopyWarning: \n",
      "A value is trying to be set on a copy of a slice from a DataFrame.\n",
      "Try using .loc[row_indexer,col_indexer] = value instead\n",
      "\n",
      "See the caveats in the documentation: https://pandas.pydata.org/pandas-docs/stable/user_guide/indexing.html#returning-a-view-versus-a-copy\n"
     ]
    },
    {
     "name": "stdout",
     "output_type": "stream",
     "text": [
      "Saved time series visualization for StackOverflow - Topic: public  string  return  to /Users/tnathu-ai/VSCode/Government-Digital-Transformation/assets/images/stackoverflow_time_series_analysis_public  string  return .png\n"
     ]
    },
    {
     "name": "stderr",
     "output_type": "stream",
     "text": [
      "<timed exec>:63: SettingWithCopyWarning: \n",
      "A value is trying to be set on a copy of a slice from a DataFrame.\n",
      "Try using .loc[row_indexer,col_indexer] = value instead\n",
      "\n",
      "See the caveats in the documentation: https://pandas.pydata.org/pandas-docs/stable/user_guide/indexing.html#returning-a-view-versus-a-copy\n",
      "<timed exec>:63: SettingWithCopyWarning: \n",
      "A value is trying to be set on a copy of a slice from a DataFrame.\n",
      "Try using .loc[row_indexer,col_indexer] = value instead\n",
      "\n",
      "See the caveats in the documentation: https://pandas.pydata.org/pandas-docs/stable/user_guide/indexing.html#returning-a-view-versus-a-copy\n"
     ]
    },
    {
     "name": "stdout",
     "output_type": "stream",
     "text": [
      "Saved time series visualization for StackOverflow - Topic: def  global  filename  to /Users/tnathu-ai/VSCode/Government-Digital-Transformation/assets/images/stackoverflow_time_series_analysis_def  global  filename .png\n",
      "Saved time series visualization for StackOverflow - Topic: tendulkar  first  award  to /Users/tnathu-ai/VSCode/Government-Digital-Transformation/assets/images/stackoverflow_time_series_analysis_tendulkar  first  award .png\n",
      "Saved sentiment analysis for StackOverflow to /Users/tnathu-ai/VSCode/Government-Digital-Transformation/data/intermediate/analysis/stackoverflow_sentiment_analysis.txt\n",
      "Extracted Topic: (0, '0.021*\"sporting\" + 0.018*\"local\" + 0.016*\"like\" + 0.016*\"caption\" + 0.016*\"sports\"')\n",
      "Extracted Topic: (1, '0.009*\"local\" + 0.009*\"sporting\" + 0.009*\"width1024\" + 0.009*\"caption\" + 0.009*\"like\"')\n",
      "Extracted Topic: (2, '0.009*\"sporting\" + 0.009*\"sports\" + 0.009*\"caption\" + 0.009*\"local\" + 0.009*\"champions\"')\n",
      "Extracted Topic: (3, '0.009*\"sports\" + 0.009*\"sporting\" + 0.009*\"champions\" + 0.009*\"caption\" + 0.009*\"young\"')\n",
      "Extracted Topic: (4, '0.009*\"sporting\" + 0.009*\"champions\" + 0.009*\"local\" + 0.009*\"like\" + 0.009*\"width1024\"')\n",
      "Saved topic modeling for StackOverflow to /Users/tnathu-ai/VSCode/Government-Digital-Transformation/data/intermediate/analysis/stackoverflow_topic_modeling.txt\n",
      "Saved qualitative analysis for StackOverflow to /Users/tnathu-ai/VSCode/Government-Digital-Transformation/data/intermediate/analysis/stackoverflow_qualitative_analysis.txt\n",
      "Saved time series visualization for StackOverflow - Topic: sporting  local  like  to /Users/tnathu-ai/VSCode/Government-Digital-Transformation/assets/images/stackoverflow_time_series_analysis_sporting  local  like .png\n",
      "Saved time series visualization for StackOverflow - Topic: local  sporting  width1024  to /Users/tnathu-ai/VSCode/Government-Digital-Transformation/assets/images/stackoverflow_time_series_analysis_local  sporting  width1024 .png\n",
      "Saved time series visualization for StackOverflow - Topic: sporting  sports  caption  to /Users/tnathu-ai/VSCode/Government-Digital-Transformation/assets/images/stackoverflow_time_series_analysis_sporting  sports  caption .png\n",
      "Saved time series visualization for StackOverflow - Topic: sports  sporting  champions  to /Users/tnathu-ai/VSCode/Government-Digital-Transformation/assets/images/stackoverflow_time_series_analysis_sports  sporting  champions .png\n",
      "Saved time series visualization for StackOverflow - Topic: sporting  champions  local  to /Users/tnathu-ai/VSCode/Government-Digital-Transformation/assets/images/stackoverflow_time_series_analysis_sporting  champions  local .png\n",
      "Saved sentiment analysis for StackOverflow to /Users/tnathu-ai/VSCode/Government-Digital-Transformation/data/intermediate/analysis/stackoverflow_sentiment_analysis.txt\n",
      "Extracted Topic: (0, '0.001*\"question\" + 0.001*\"new\" + 0.001*\"none\" + 0.001*\"questionthe\" + 0.001*\"pakistan\"')\n",
      "Extracted Topic: (1, '0.058*\"question\" + 0.052*\"new\" + 0.034*\"none\" + 0.010*\"questionthe\" + 0.010*\"non\"')\n",
      "Extracted Topic: (2, '0.001*\"question\" + 0.001*\"none\" + 0.001*\"new\" + 0.001*\"non\" + 0.001*\"pakistan\"')\n",
      "Extracted Topic: (3, '0.001*\"new\" + 0.001*\"question\" + 0.001*\"none\" + 0.001*\"questionthe\" + 0.001*\"non\"')\n",
      "Extracted Topic: (4, '0.001*\"question\" + 0.001*\"new\" + 0.001*\"none\" + 0.001*\"non\" + 0.001*\"pakistan\"')\n",
      "Saved topic modeling for StackOverflow to /Users/tnathu-ai/VSCode/Government-Digital-Transformation/data/intermediate/analysis/stackoverflow_topic_modeling.txt\n",
      "Saved qualitative analysis for StackOverflow to /Users/tnathu-ai/VSCode/Government-Digital-Transformation/data/intermediate/analysis/stackoverflow_qualitative_analysis.txt\n",
      "Saved time series visualization for StackOverflow - Topic: question  new  none  to /Users/tnathu-ai/VSCode/Government-Digital-Transformation/assets/images/stackoverflow_time_series_analysis_question  new  none .png\n",
      "Saved time series visualization for StackOverflow - Topic: question  new  none  to /Users/tnathu-ai/VSCode/Government-Digital-Transformation/assets/images/stackoverflow_time_series_analysis_question  new  none .png\n",
      "Saved time series visualization for StackOverflow - Topic: question  none  new  to /Users/tnathu-ai/VSCode/Government-Digital-Transformation/assets/images/stackoverflow_time_series_analysis_question  none  new .png\n",
      "Saved time series visualization for StackOverflow - Topic: new  question  none  to /Users/tnathu-ai/VSCode/Government-Digital-Transformation/assets/images/stackoverflow_time_series_analysis_new  question  none .png\n",
      "Saved time series visualization for StackOverflow - Topic: question  new  none  to /Users/tnathu-ai/VSCode/Government-Digital-Transformation/assets/images/stackoverflow_time_series_analysis_question  new  none .png\n",
      "Saved sentiment analysis for StackOverflow to /Users/tnathu-ai/VSCode/Government-Digital-Transformation/data/intermediate/analysis/stackoverflow_sentiment_analysis.txt\n",
      "Extracted Topic: (0, '0.144*\"country\" + 0.031*\"import\" + 0.014*\"values\" + 0.013*\"insert\" + 0.009*\"size40\"')\n",
      "Extracted Topic: (1, '0.011*\"source\" + 0.009*\"link\" + 0.008*\"tdtd\" + 0.007*\"title\" + 0.007*\"ca\"')\n",
      "Extracted Topic: (2, '0.115*\"university\" + 0.027*\"na\" + 0.017*\"college\" + 0.016*\"notreported\" + 0.014*\"hospital\"')\n",
      "Extracted Topic: (3, '0.019*\"htmlattributions\" + 0.014*\"types\" + 0.014*\"google\" + 0.008*\"var\" + 0.008*\"new\"')\n",
      "Extracted Topic: (4, '0.026*\"lia\" + 0.020*\"div\" + 0.016*\"li\" + 0.012*\"site\" + 0.011*\"weather\"')\n",
      "Saved topic modeling for StackOverflow to /Users/tnathu-ai/VSCode/Government-Digital-Transformation/data/intermediate/analysis/stackoverflow_topic_modeling.txt\n",
      "Saved qualitative analysis for StackOverflow to /Users/tnathu-ai/VSCode/Government-Digital-Transformation/data/intermediate/analysis/stackoverflow_qualitative_analysis.txt\n"
     ]
    },
    {
     "name": "stderr",
     "output_type": "stream",
     "text": [
      "<timed exec>:63: SettingWithCopyWarning: \n",
      "A value is trying to be set on a copy of a slice from a DataFrame.\n",
      "Try using .loc[row_indexer,col_indexer] = value instead\n",
      "\n",
      "See the caveats in the documentation: https://pandas.pydata.org/pandas-docs/stable/user_guide/indexing.html#returning-a-view-versus-a-copy\n",
      "<timed exec>:63: SettingWithCopyWarning: \n",
      "A value is trying to be set on a copy of a slice from a DataFrame.\n",
      "Try using .loc[row_indexer,col_indexer] = value instead\n",
      "\n",
      "See the caveats in the documentation: https://pandas.pydata.org/pandas-docs/stable/user_guide/indexing.html#returning-a-view-versus-a-copy\n"
     ]
    },
    {
     "name": "stdout",
     "output_type": "stream",
     "text": [
      "Saved time series visualization for StackOverflow - Topic: country  import  values  to /Users/tnathu-ai/VSCode/Government-Digital-Transformation/assets/images/stackoverflow_time_series_analysis_country  import  values .png\n",
      "Saved time series visualization for StackOverflow - Topic: source  link  tdtd  to /Users/tnathu-ai/VSCode/Government-Digital-Transformation/assets/images/stackoverflow_time_series_analysis_source  link  tdtd .png\n"
     ]
    },
    {
     "name": "stderr",
     "output_type": "stream",
     "text": [
      "<timed exec>:63: SettingWithCopyWarning: \n",
      "A value is trying to be set on a copy of a slice from a DataFrame.\n",
      "Try using .loc[row_indexer,col_indexer] = value instead\n",
      "\n",
      "See the caveats in the documentation: https://pandas.pydata.org/pandas-docs/stable/user_guide/indexing.html#returning-a-view-versus-a-copy\n",
      "<timed exec>:63: SettingWithCopyWarning: \n",
      "A value is trying to be set on a copy of a slice from a DataFrame.\n",
      "Try using .loc[row_indexer,col_indexer] = value instead\n",
      "\n",
      "See the caveats in the documentation: https://pandas.pydata.org/pandas-docs/stable/user_guide/indexing.html#returning-a-view-versus-a-copy\n"
     ]
    },
    {
     "name": "stdout",
     "output_type": "stream",
     "text": [
      "Saved time series visualization for StackOverflow - Topic: university  na  college  to /Users/tnathu-ai/VSCode/Government-Digital-Transformation/assets/images/stackoverflow_time_series_analysis_university  na  college .png\n",
      "Saved time series visualization for StackOverflow - Topic: htmlattributions  types  google  to /Users/tnathu-ai/VSCode/Government-Digital-Transformation/assets/images/stackoverflow_time_series_analysis_htmlattributions  types  google .png\n",
      "Saved time series visualization for StackOverflow - Topic: lia  div  li  to /Users/tnathu-ai/VSCode/Government-Digital-Transformation/assets/images/stackoverflow_time_series_analysis_lia  div  li .png\n",
      "Saved sentiment analysis for StackOverflow to /Users/tnathu-ai/VSCode/Government-Digital-Transformation/data/intermediate/analysis/stackoverflow_sentiment_analysis.txt\n",
      "Extracted Topic: (0, '0.011*\"time\" + 0.010*\"standard\" + 0.006*\"us\" + 0.004*\"ca\" + 0.004*\"rainforests\"')\n",
      "Extracted Topic: (1, '0.007*\"td\" + 0.007*\"region\" + 0.006*\"row\" + 0.005*\"div\" + 0.005*\"fr\"')\n",
      "Extracted Topic: (2, '0.040*\"name\" + 0.038*\"id\" + 0.016*\"new\" + 0.011*\"label\" + 0.007*\"target\"')\n",
      "Extracted Topic: (3, '0.007*\"species\" + 0.006*\"time\" + 0.006*\"standard\" + 0.006*\"timezonehiddenfield\" + 0.006*\"limited\"')\n",
      "Extracted Topic: (4, '0.029*\"option\" + 0.017*\"return\" + 0.013*\"case\" + 0.010*\"var\" + 0.008*\"time\"')\n",
      "Saved topic modeling for StackOverflow to /Users/tnathu-ai/VSCode/Government-Digital-Transformation/data/intermediate/analysis/stackoverflow_topic_modeling.txt\n",
      "Saved qualitative analysis for StackOverflow to /Users/tnathu-ai/VSCode/Government-Digital-Transformation/data/intermediate/analysis/stackoverflow_qualitative_analysis.txt\n",
      "Saved time series visualization for StackOverflow - Topic: time  standard  us  to /Users/tnathu-ai/VSCode/Government-Digital-Transformation/assets/images/stackoverflow_time_series_analysis_time  standard  us .png\n"
     ]
    },
    {
     "name": "stderr",
     "output_type": "stream",
     "text": [
      "<timed exec>:63: SettingWithCopyWarning: \n",
      "A value is trying to be set on a copy of a slice from a DataFrame.\n",
      "Try using .loc[row_indexer,col_indexer] = value instead\n",
      "\n",
      "See the caveats in the documentation: https://pandas.pydata.org/pandas-docs/stable/user_guide/indexing.html#returning-a-view-versus-a-copy\n",
      "<timed exec>:63: SettingWithCopyWarning: \n",
      "A value is trying to be set on a copy of a slice from a DataFrame.\n",
      "Try using .loc[row_indexer,col_indexer] = value instead\n",
      "\n",
      "See the caveats in the documentation: https://pandas.pydata.org/pandas-docs/stable/user_guide/indexing.html#returning-a-view-versus-a-copy\n"
     ]
    },
    {
     "name": "stdout",
     "output_type": "stream",
     "text": [
      "Saved time series visualization for StackOverflow - Topic: td  region  row  to /Users/tnathu-ai/VSCode/Government-Digital-Transformation/assets/images/stackoverflow_time_series_analysis_td  region  row .png\n",
      "Saved time series visualization for StackOverflow - Topic: name  id  new  to /Users/tnathu-ai/VSCode/Government-Digital-Transformation/assets/images/stackoverflow_time_series_analysis_name  id  new .png\n"
     ]
    },
    {
     "name": "stderr",
     "output_type": "stream",
     "text": [
      "<timed exec>:63: SettingWithCopyWarning: \n",
      "A value is trying to be set on a copy of a slice from a DataFrame.\n",
      "Try using .loc[row_indexer,col_indexer] = value instead\n",
      "\n",
      "See the caveats in the documentation: https://pandas.pydata.org/pandas-docs/stable/user_guide/indexing.html#returning-a-view-versus-a-copy\n",
      "<timed exec>:63: SettingWithCopyWarning: \n",
      "A value is trying to be set on a copy of a slice from a DataFrame.\n",
      "Try using .loc[row_indexer,col_indexer] = value instead\n",
      "\n",
      "See the caveats in the documentation: https://pandas.pydata.org/pandas-docs/stable/user_guide/indexing.html#returning-a-view-versus-a-copy\n"
     ]
    },
    {
     "name": "stdout",
     "output_type": "stream",
     "text": [
      "Saved time series visualization for StackOverflow - Topic: species  time  standard  to /Users/tnathu-ai/VSCode/Government-Digital-Transformation/assets/images/stackoverflow_time_series_analysis_species  time  standard .png\n",
      "Saved time series visualization for StackOverflow - Topic: option  return  case  to /Users/tnathu-ai/VSCode/Government-Digital-Transformation/assets/images/stackoverflow_time_series_analysis_option  return  case .png\n",
      "Saved sentiment analysis for StackOverflow to /Users/tnathu-ai/VSCode/Government-Digital-Transformation/data/intermediate/analysis/stackoverflow_sentiment_analysis.txt\n",
      "Extracted Topic: (0, '0.011*\"color\" + 0.009*\"0px\" + 0.008*\"div\" + 0.008*\"url\" + 0.007*\"content\"')\n",
      "Extracted Topic: (1, '0.042*\"0424\" + 0.036*\"import\" + 0.013*\"license\" + 0.012*\"wsystemerr627\" + 0.011*\"private\"')\n",
      "Extracted Topic: (2, '0.001*\"lia\" + 0.001*\"0424\" + 0.001*\"div\" + 0.001*\"import\" + 0.001*\"ul\"')\n",
      "Extracted Topic: (3, '0.001*\"lia\" + 0.001*\"div\" + 0.001*\"import\" + 0.001*\"ul\" + 0.001*\"0424\"')\n",
      "Extracted Topic: (4, '0.068*\"lia\" + 0.035*\"ul\" + 0.033*\"div\" + 0.019*\"li\" + 0.011*\"training\"')\n",
      "Saved topic modeling for StackOverflow to /Users/tnathu-ai/VSCode/Government-Digital-Transformation/data/intermediate/analysis/stackoverflow_topic_modeling.txt\n",
      "Saved qualitative analysis for StackOverflow to /Users/tnathu-ai/VSCode/Government-Digital-Transformation/data/intermediate/analysis/stackoverflow_qualitative_analysis.txt\n"
     ]
    },
    {
     "name": "stderr",
     "output_type": "stream",
     "text": [
      "<timed exec>:63: SettingWithCopyWarning: \n",
      "A value is trying to be set on a copy of a slice from a DataFrame.\n",
      "Try using .loc[row_indexer,col_indexer] = value instead\n",
      "\n",
      "See the caveats in the documentation: https://pandas.pydata.org/pandas-docs/stable/user_guide/indexing.html#returning-a-view-versus-a-copy\n",
      "<timed exec>:63: SettingWithCopyWarning: \n",
      "A value is trying to be set on a copy of a slice from a DataFrame.\n",
      "Try using .loc[row_indexer,col_indexer] = value instead\n",
      "\n",
      "See the caveats in the documentation: https://pandas.pydata.org/pandas-docs/stable/user_guide/indexing.html#returning-a-view-versus-a-copy\n"
     ]
    },
    {
     "name": "stdout",
     "output_type": "stream",
     "text": [
      "Saved time series visualization for StackOverflow - Topic: color  0px  div  to /Users/tnathu-ai/VSCode/Government-Digital-Transformation/assets/images/stackoverflow_time_series_analysis_color  0px  div .png\n",
      "Saved time series visualization for StackOverflow - Topic: 0424  import  license  to /Users/tnathu-ai/VSCode/Government-Digital-Transformation/assets/images/stackoverflow_time_series_analysis_0424  import  license .png\n",
      "Saved time series visualization for StackOverflow - Topic: lia  0424  div  to /Users/tnathu-ai/VSCode/Government-Digital-Transformation/assets/images/stackoverflow_time_series_analysis_lia  0424  div .png\n",
      "Saved time series visualization for StackOverflow - Topic: lia  div  import  to /Users/tnathu-ai/VSCode/Government-Digital-Transformation/assets/images/stackoverflow_time_series_analysis_lia  div  import .png\n",
      "Saved time series visualization for StackOverflow - Topic: lia  ul  div  to /Users/tnathu-ai/VSCode/Government-Digital-Transformation/assets/images/stackoverflow_time_series_analysis_lia  ul  div .png\n",
      "Saved sentiment analysis for StackOverflow to /Users/tnathu-ai/VSCode/Government-Digital-Transformation/data/intermediate/analysis/stackoverflow_sentiment_analysis.txt\n",
      "Extracted Topic: (0, '0.001*\"stars\" + 0.001*\"director\" + 0.001*\"min\" + 0.001*\"typeof\" + 0.001*\"wb\"')\n",
      "Extracted Topic: (1, '0.001*\"director\" + 0.001*\"typeof\" + 0.001*\"wb\" + 0.001*\"stars\" + 0.001*\"min\"')\n",
      "Extracted Topic: (2, '0.001*\"stars\" + 0.001*\"director\" + 0.001*\"typeof\" + 0.001*\"wb\" + 0.001*\"2019\"')\n",
      "Extracted Topic: (3, '0.001*\"stars\" + 0.001*\"director\" + 0.001*\"min\" + 0.001*\"wb\" + 0.001*\"drama\"')\n",
      "Extracted Topic: (4, '0.021*\"stars\" + 0.019*\"director\" + 0.015*\"typeof\" + 0.014*\"min\" + 0.014*\"wb\"')\n",
      "Saved topic modeling for StackOverflow to /Users/tnathu-ai/VSCode/Government-Digital-Transformation/data/intermediate/analysis/stackoverflow_topic_modeling.txt\n",
      "Saved qualitative analysis for StackOverflow to /Users/tnathu-ai/VSCode/Government-Digital-Transformation/data/intermediate/analysis/stackoverflow_qualitative_analysis.txt\n",
      "Saved time series visualization for StackOverflow - Topic: stars  director  min  to /Users/tnathu-ai/VSCode/Government-Digital-Transformation/assets/images/stackoverflow_time_series_analysis_stars  director  min .png\n",
      "Saved time series visualization for StackOverflow - Topic: director  typeof  wb  to /Users/tnathu-ai/VSCode/Government-Digital-Transformation/assets/images/stackoverflow_time_series_analysis_director  typeof  wb .png\n",
      "Saved time series visualization for StackOverflow - Topic: stars  director  typeof  to /Users/tnathu-ai/VSCode/Government-Digital-Transformation/assets/images/stackoverflow_time_series_analysis_stars  director  typeof .png\n",
      "Saved time series visualization for StackOverflow - Topic: stars  director  min  to /Users/tnathu-ai/VSCode/Government-Digital-Transformation/assets/images/stackoverflow_time_series_analysis_stars  director  min .png\n",
      "Saved time series visualization for StackOverflow - Topic: stars  director  typeof  to /Users/tnathu-ai/VSCode/Government-Digital-Transformation/assets/images/stackoverflow_time_series_analysis_stars  director  typeof .png\n",
      "Saved sentiment analysis for StackOverflow to /Users/tnathu-ai/VSCode/Government-Digital-Transformation/data/intermediate/analysis/stackoverflow_sentiment_analysis.txt\n",
      "Extracted Topic: (0, '0.002*\"description\" + 0.002*\"title\" + 0.002*\"link\" + 0.002*\"time\" + 0.002*\"edt\"')\n",
      "Extracted Topic: (1, '0.002*\"description\" + 0.002*\"link\" + 0.002*\"edt\" + 0.002*\"title\" + 0.002*\"time\"')\n",
      "Extracted Topic: (2, '0.002*\"link\" + 0.002*\"time\" + 0.002*\"description\" + 0.002*\"title\" + 0.002*\"edt\"')\n",
      "Extracted Topic: (3, '0.002*\"title\" + 0.002*\"description\" + 0.002*\"time\" + 0.002*\"link\" + 0.002*\"edt\"')\n",
      "Extracted Topic: (4, '0.029*\"title\" + 0.027*\"description\" + 0.026*\"time\" + 0.025*\"link\" + 0.018*\"edt\"')\n",
      "Saved topic modeling for StackOverflow to /Users/tnathu-ai/VSCode/Government-Digital-Transformation/data/intermediate/analysis/stackoverflow_topic_modeling.txt\n",
      "Saved qualitative analysis for StackOverflow to /Users/tnathu-ai/VSCode/Government-Digital-Transformation/data/intermediate/analysis/stackoverflow_qualitative_analysis.txt\n",
      "Saved time series visualization for StackOverflow - Topic: description  title  link  to /Users/tnathu-ai/VSCode/Government-Digital-Transformation/assets/images/stackoverflow_time_series_analysis_description  title  link .png\n",
      "Saved time series visualization for StackOverflow - Topic: description  link  edt  to /Users/tnathu-ai/VSCode/Government-Digital-Transformation/assets/images/stackoverflow_time_series_analysis_description  link  edt .png\n",
      "Saved time series visualization for StackOverflow - Topic: link  time  description  to /Users/tnathu-ai/VSCode/Government-Digital-Transformation/assets/images/stackoverflow_time_series_analysis_link  time  description .png\n",
      "Saved time series visualization for StackOverflow - Topic: title  description  time  to /Users/tnathu-ai/VSCode/Government-Digital-Transformation/assets/images/stackoverflow_time_series_analysis_title  description  time .png\n",
      "Saved time series visualization for StackOverflow - Topic: title  description  time  to /Users/tnathu-ai/VSCode/Government-Digital-Transformation/assets/images/stackoverflow_time_series_analysis_title  description  time .png\n",
      "Saved sentiment analysis for StackOverflow to /Users/tnathu-ai/VSCode/Government-Digital-Transformation/data/intermediate/analysis/stackoverflow_sentiment_analysis.txt\n",
      "Extracted Topic: (0, '0.001*\"university\" + 0.001*\"na\" + 0.001*\"notreported\" + 0.001*\"dental\" + 0.001*\"medical\"')\n",
      "Extracted Topic: (1, '0.001*\"list\" + 0.001*\"thank\" + 0.001*\"montpellier\" + 0.001*\"missouri\" + 0.001*\"mm\"')\n",
      "Extracted Topic: (2, '0.162*\"university\" + 0.042*\"na\" + 0.024*\"notreported\" + 0.024*\"college\" + 0.022*\"dental\"')\n",
      "Extracted Topic: (3, '0.001*\"university\" + 0.001*\"na\" + 0.001*\"notreported\" + 0.001*\"dental\" + 0.001*\"institute\"')\n",
      "Extracted Topic: (4, '0.001*\"university\" + 0.001*\"na\" + 0.001*\"college\" + 0.001*\"dental\" + 0.001*\"hospital\"')\n",
      "Saved topic modeling for StackOverflow to /Users/tnathu-ai/VSCode/Government-Digital-Transformation/data/intermediate/analysis/stackoverflow_topic_modeling.txt\n",
      "Saved qualitative analysis for StackOverflow to /Users/tnathu-ai/VSCode/Government-Digital-Transformation/data/intermediate/analysis/stackoverflow_qualitative_analysis.txt\n",
      "Saved time series visualization for StackOverflow - Topic: university  na  notreported  to /Users/tnathu-ai/VSCode/Government-Digital-Transformation/assets/images/stackoverflow_time_series_analysis_university  na  notreported .png\n",
      "Saved time series visualization for StackOverflow - Topic: list  thank  montpellier  to /Users/tnathu-ai/VSCode/Government-Digital-Transformation/assets/images/stackoverflow_time_series_analysis_list  thank  montpellier .png\n",
      "Saved time series visualization for StackOverflow - Topic: university  na  notreported  to /Users/tnathu-ai/VSCode/Government-Digital-Transformation/assets/images/stackoverflow_time_series_analysis_university  na  notreported .png\n",
      "Saved time series visualization for StackOverflow - Topic: university  na  notreported  to /Users/tnathu-ai/VSCode/Government-Digital-Transformation/assets/images/stackoverflow_time_series_analysis_university  na  notreported .png\n",
      "Saved time series visualization for StackOverflow - Topic: university  na  college  to /Users/tnathu-ai/VSCode/Government-Digital-Transformation/assets/images/stackoverflow_time_series_analysis_university  na  college .png\n",
      "Saved sentiment analysis for StackOverflow to /Users/tnathu-ai/VSCode/Government-Digital-Transformation/data/intermediate/analysis/stackoverflow_sentiment_analysis.txt\n",
      "Extracted Topic: (0, '0.034*\"page\" + 0.027*\"div\" + 0.025*\"string\" + 0.021*\"img\" + 0.018*\"null\"')\n",
      "Extracted Topic: (1, '0.001*\"div\" + 0.001*\"img\" + 0.001*\"string\" + 0.001*\"page\" + 0.001*\"meta\"')\n",
      "Extracted Topic: (2, '0.122*\"classimmigrationcountrieslinks\" + 0.119*\"btncountrylink\" + 0.027*\"new\" + 0.015*\"option\" + 0.014*\"beertype\"')\n",
      "Extracted Topic: (3, '0.033*\"div\" + 0.018*\"immigration\" + 0.016*\"images\" + 0.014*\"meta\" + 0.014*\"citizenship\"')\n",
      "Extracted Topic: (4, '0.001*\"div\" + 0.001*\"page\" + 0.001*\"classimmigrationcountrieslinks\" + 0.001*\"img\" + 0.001*\"btncountrylink\"')\n",
      "Saved topic modeling for StackOverflow to /Users/tnathu-ai/VSCode/Government-Digital-Transformation/data/intermediate/analysis/stackoverflow_topic_modeling.txt\n",
      "Saved qualitative analysis for StackOverflow to /Users/tnathu-ai/VSCode/Government-Digital-Transformation/data/intermediate/analysis/stackoverflow_qualitative_analysis.txt\n",
      "Saved time series visualization for StackOverflow - Topic: page  div  string  to /Users/tnathu-ai/VSCode/Government-Digital-Transformation/assets/images/stackoverflow_time_series_analysis_page  div  string .png\n",
      "Saved time series visualization for StackOverflow - Topic: div  img  string  to /Users/tnathu-ai/VSCode/Government-Digital-Transformation/assets/images/stackoverflow_time_series_analysis_div  img  string .png\n",
      "Saved time series visualization for StackOverflow - Topic: classimmigrationcountrieslinks  btncountrylink  new  to /Users/tnathu-ai/VSCode/Government-Digital-Transformation/assets/images/stackoverflow_time_series_analysis_classimmigrationcountrieslinks  btncountrylink  new .png\n"
     ]
    },
    {
     "name": "stderr",
     "output_type": "stream",
     "text": [
      "<timed exec>:63: SettingWithCopyWarning: \n",
      "A value is trying to be set on a copy of a slice from a DataFrame.\n",
      "Try using .loc[row_indexer,col_indexer] = value instead\n",
      "\n",
      "See the caveats in the documentation: https://pandas.pydata.org/pandas-docs/stable/user_guide/indexing.html#returning-a-view-versus-a-copy\n"
     ]
    },
    {
     "name": "stdout",
     "output_type": "stream",
     "text": [
      "Saved time series visualization for StackOverflow - Topic: div  immigration  images  to /Users/tnathu-ai/VSCode/Government-Digital-Transformation/assets/images/stackoverflow_time_series_analysis_div  immigration  images .png\n",
      "Saved time series visualization for StackOverflow - Topic: div  page  classimmigrationcountrieslinks  to /Users/tnathu-ai/VSCode/Government-Digital-Transformation/assets/images/stackoverflow_time_series_analysis_div  page  classimmigrationcountrieslinks .png\n",
      "Saved sentiment analysis for StackOverflow to /Users/tnathu-ai/VSCode/Government-Digital-Transformation/data/intermediate/analysis/stackoverflow_sentiment_analysis.txt\n",
      "Extracted Topic: (0, '0.002*\"div\" + 0.002*\"li\" + 0.002*\"script\" + 0.002*\"end\" + 0.002*\"blogsidebar\"')\n",
      "Extracted Topic: (1, '0.002*\"div\" + 0.002*\"li\" + 0.002*\"end\" + 0.002*\"blogsidebar\" + 0.002*\"ul\"')\n",
      "Extracted Topic: (2, '0.043*\"div\" + 0.027*\"li\" + 0.022*\"end\" + 0.018*\"script\" + 0.016*\"meta\"')\n",
      "Extracted Topic: (3, '0.002*\"div\" + 0.002*\"end\" + 0.002*\"li\" + 0.002*\"blogsidebar\" + 0.002*\"meta\"')\n",
      "Extracted Topic: (4, '0.002*\"div\" + 0.002*\"li\" + 0.002*\"end\" + 0.002*\"script\" + 0.002*\"ul\"')\n",
      "Saved topic modeling for StackOverflow to /Users/tnathu-ai/VSCode/Government-Digital-Transformation/data/intermediate/analysis/stackoverflow_topic_modeling.txt\n",
      "Saved qualitative analysis for StackOverflow to /Users/tnathu-ai/VSCode/Government-Digital-Transformation/data/intermediate/analysis/stackoverflow_qualitative_analysis.txt\n",
      "Saved time series visualization for StackOverflow - Topic: div  li  script  to /Users/tnathu-ai/VSCode/Government-Digital-Transformation/assets/images/stackoverflow_time_series_analysis_div  li  script .png\n",
      "Saved time series visualization for StackOverflow - Topic: div  li  end  to /Users/tnathu-ai/VSCode/Government-Digital-Transformation/assets/images/stackoverflow_time_series_analysis_div  li  end .png\n",
      "Saved time series visualization for StackOverflow - Topic: div  li  end  to /Users/tnathu-ai/VSCode/Government-Digital-Transformation/assets/images/stackoverflow_time_series_analysis_div  li  end .png\n",
      "Saved time series visualization for StackOverflow - Topic: div  end  li  to /Users/tnathu-ai/VSCode/Government-Digital-Transformation/assets/images/stackoverflow_time_series_analysis_div  end  li .png\n",
      "Saved time series visualization for StackOverflow - Topic: div  li  end  to /Users/tnathu-ai/VSCode/Government-Digital-Transformation/assets/images/stackoverflow_time_series_analysis_div  li  end .png\n",
      "Saved sentiment analysis for StackOverflow to /Users/tnathu-ai/VSCode/Government-Digital-Transformation/data/intermediate/analysis/stackoverflow_sentiment_analysis.txt\n",
      "Extracted Topic: (0, '0.001*\"patents\" + 0.001*\"court\" + 0.001*\"claims\" + 0.001*\"software\" + 0.001*\"abstract\"')\n",
      "Extracted Topic: (1, '0.018*\"court\" + 0.016*\"patents\" + 0.015*\"abstract\" + 0.015*\"claims\" + 0.015*\"patent\"')\n",
      "Extracted Topic: (2, '0.001*\"court\" + 0.001*\"idea\" + 0.001*\"claims\" + 0.001*\"patents\" + 0.001*\"software\"')\n",
      "Extracted Topic: (3, '0.001*\"patents\" + 0.001*\"patent\" + 0.001*\"abstract\" + 0.001*\"court\" + 0.001*\"claims\"')\n",
      "Extracted Topic: (4, '0.001*\"patents\" + 0.001*\"court\" + 0.001*\"claims\" + 0.001*\"abstract\" + 0.001*\"patent\"')\n",
      "Saved topic modeling for StackOverflow to /Users/tnathu-ai/VSCode/Government-Digital-Transformation/data/intermediate/analysis/stackoverflow_topic_modeling.txt\n",
      "Saved qualitative analysis for StackOverflow to /Users/tnathu-ai/VSCode/Government-Digital-Transformation/data/intermediate/analysis/stackoverflow_qualitative_analysis.txt\n",
      "Saved time series visualization for StackOverflow - Topic: patents  court  claims  to /Users/tnathu-ai/VSCode/Government-Digital-Transformation/assets/images/stackoverflow_time_series_analysis_patents  court  claims .png\n",
      "Saved time series visualization for StackOverflow - Topic: court  patents  abstract  to /Users/tnathu-ai/VSCode/Government-Digital-Transformation/assets/images/stackoverflow_time_series_analysis_court  patents  abstract .png\n",
      "Saved time series visualization for StackOverflow - Topic: court  idea  claims  to /Users/tnathu-ai/VSCode/Government-Digital-Transformation/assets/images/stackoverflow_time_series_analysis_court  idea  claims .png\n",
      "Saved time series visualization for StackOverflow - Topic: patents  patent  abstract  to /Users/tnathu-ai/VSCode/Government-Digital-Transformation/assets/images/stackoverflow_time_series_analysis_patents  patent  abstract .png\n",
      "Saved time series visualization for StackOverflow - Topic: patents  court  claims  to /Users/tnathu-ai/VSCode/Government-Digital-Transformation/assets/images/stackoverflow_time_series_analysis_patents  court  claims .png\n",
      "Saved sentiment analysis for StackOverflow to /Users/tnathu-ai/VSCode/Government-Digital-Transformation/data/intermediate/analysis/stackoverflow_sentiment_analysis.txt\n",
      "Extracted Topic: (0, '0.061*\"option\" + 0.034*\"na\" + 0.008*\"none\" + 0.008*\"div\" + 0.007*\"vietnam\"')\n",
      "Extracted Topic: (1, '0.078*\"dd\" + 0.035*\"dt\" + 0.013*\"business\" + 0.011*\"least\" + 0.010*\"tr\"')\n",
      "Extracted Topic: (2, '0.009*\"would\" + 0.007*\"soviet\" + 0.007*\"people\" + 0.007*\"text\" + 0.006*\"book\"')\n",
      "Extracted Topic: (3, '0.021*\"title\" + 0.019*\"description\" + 0.019*\"time\" + 0.018*\"link\" + 0.013*\"edt\"')\n",
      "Extracted Topic: (4, '0.013*\"source\" + 0.010*\"link\" + 0.009*\"tdtd\" + 0.009*\"title\" + 0.008*\"description\"')\n",
      "Saved topic modeling for StackOverflow to /Users/tnathu-ai/VSCode/Government-Digital-Transformation/data/intermediate/analysis/stackoverflow_topic_modeling.txt\n",
      "Saved qualitative analysis for StackOverflow to /Users/tnathu-ai/VSCode/Government-Digital-Transformation/data/intermediate/analysis/stackoverflow_qualitative_analysis.txt\n",
      "Saved time series visualization for StackOverflow - Topic: option  na  none  to /Users/tnathu-ai/VSCode/Government-Digital-Transformation/assets/images/stackoverflow_time_series_analysis_option  na  none .png\n"
     ]
    },
    {
     "name": "stderr",
     "output_type": "stream",
     "text": [
      "<timed exec>:63: SettingWithCopyWarning: \n",
      "A value is trying to be set on a copy of a slice from a DataFrame.\n",
      "Try using .loc[row_indexer,col_indexer] = value instead\n",
      "\n",
      "See the caveats in the documentation: https://pandas.pydata.org/pandas-docs/stable/user_guide/indexing.html#returning-a-view-versus-a-copy\n",
      "<timed exec>:63: SettingWithCopyWarning: \n",
      "A value is trying to be set on a copy of a slice from a DataFrame.\n",
      "Try using .loc[row_indexer,col_indexer] = value instead\n",
      "\n",
      "See the caveats in the documentation: https://pandas.pydata.org/pandas-docs/stable/user_guide/indexing.html#returning-a-view-versus-a-copy\n"
     ]
    },
    {
     "name": "stdout",
     "output_type": "stream",
     "text": [
      "Saved time series visualization for StackOverflow - Topic: dd  dt  business  to /Users/tnathu-ai/VSCode/Government-Digital-Transformation/assets/images/stackoverflow_time_series_analysis_dd  dt  business .png\n",
      "Saved time series visualization for StackOverflow - Topic: would  soviet  people  to /Users/tnathu-ai/VSCode/Government-Digital-Transformation/assets/images/stackoverflow_time_series_analysis_would  soviet  people .png\n"
     ]
    },
    {
     "name": "stderr",
     "output_type": "stream",
     "text": [
      "<timed exec>:63: SettingWithCopyWarning: \n",
      "A value is trying to be set on a copy of a slice from a DataFrame.\n",
      "Try using .loc[row_indexer,col_indexer] = value instead\n",
      "\n",
      "See the caveats in the documentation: https://pandas.pydata.org/pandas-docs/stable/user_guide/indexing.html#returning-a-view-versus-a-copy\n",
      "<timed exec>:63: SettingWithCopyWarning: \n",
      "A value is trying to be set on a copy of a slice from a DataFrame.\n",
      "Try using .loc[row_indexer,col_indexer] = value instead\n",
      "\n",
      "See the caveats in the documentation: https://pandas.pydata.org/pandas-docs/stable/user_guide/indexing.html#returning-a-view-versus-a-copy\n"
     ]
    },
    {
     "name": "stdout",
     "output_type": "stream",
     "text": [
      "Saved time series visualization for StackOverflow - Topic: title  description  time  to /Users/tnathu-ai/VSCode/Government-Digital-Transformation/assets/images/stackoverflow_time_series_analysis_title  description  time .png\n",
      "Saved time series visualization for StackOverflow - Topic: source  link  tdtd  to /Users/tnathu-ai/VSCode/Government-Digital-Transformation/assets/images/stackoverflow_time_series_analysis_source  link  tdtd .png\n",
      "Saved sentiment analysis for StackOverflow to /Users/tnathu-ai/VSCode/Government-Digital-Transformation/data/intermediate/analysis/stackoverflow_sentiment_analysis.txt\n",
      "Extracted Topic: (0, '0.005*\"systems\" + 0.005*\"long\" + 0.005*\"company\" + 0.005*\"products\" + 0.005*\"view\"')\n",
      "Extracted Topic: (1, '0.031*\"systems\" + 0.019*\"data\" + 0.018*\"company\" + 0.018*\"view\" + 0.016*\"long\"')\n",
      "Extracted Topic: (2, '0.005*\"systems\" + 0.005*\"view\" + 0.005*\"long\" + 0.005*\"markets\" + 0.005*\"data\"')\n",
      "Extracted Topic: (3, '0.005*\"systems\" + 0.005*\"view\" + 0.005*\"company\" + 0.005*\"markets\" + 0.005*\"data\"')\n",
      "Extracted Topic: (4, '0.005*\"systems\" + 0.005*\"long\" + 0.005*\"power\" + 0.005*\"company\" + 0.005*\"energy\"')\n",
      "Saved topic modeling for StackOverflow to /Users/tnathu-ai/VSCode/Government-Digital-Transformation/data/intermediate/analysis/stackoverflow_topic_modeling.txt\n",
      "Saved qualitative analysis for StackOverflow to /Users/tnathu-ai/VSCode/Government-Digital-Transformation/data/intermediate/analysis/stackoverflow_qualitative_analysis.txt\n",
      "Saved time series visualization for StackOverflow - Topic: systems  long  company  to /Users/tnathu-ai/VSCode/Government-Digital-Transformation/assets/images/stackoverflow_time_series_analysis_systems  long  company .png\n",
      "Saved time series visualization for StackOverflow - Topic: systems  data  company  to /Users/tnathu-ai/VSCode/Government-Digital-Transformation/assets/images/stackoverflow_time_series_analysis_systems  data  company .png\n",
      "Saved time series visualization for StackOverflow - Topic: systems  view  long  to /Users/tnathu-ai/VSCode/Government-Digital-Transformation/assets/images/stackoverflow_time_series_analysis_systems  view  long .png\n",
      "Saved time series visualization for StackOverflow - Topic: systems  view  company  to /Users/tnathu-ai/VSCode/Government-Digital-Transformation/assets/images/stackoverflow_time_series_analysis_systems  view  company .png\n",
      "Saved time series visualization for StackOverflow - Topic: systems  long  power  to /Users/tnathu-ai/VSCode/Government-Digital-Transformation/assets/images/stackoverflow_time_series_analysis_systems  long  power .png\n",
      "Saved sentiment analysis for StackOverflow to /Users/tnathu-ai/VSCode/Government-Digital-Transformation/data/intermediate/analysis/stackoverflow_sentiment_analysis.txt\n",
      "Extracted Topic: (0, '0.001*\"location\" + 0.001*\"sql\" + 0.001*\"dateactive\" + 0.001*\"160160\" + 0.001*\"job\"')\n",
      "Extracted Topic: (1, '0.001*\"covid19\" + 0.001*\"people\" + 0.001*\"vaccine\" + 0.001*\"covid\" + 0.001*\"get\"')\n",
      "Extracted Topic: (2, '0.020*\"covid19\" + 0.016*\"people\" + 0.014*\"vaccine\" + 0.012*\"covid\" + 0.010*\"get\"')\n",
      "Extracted Topic: (3, '0.026*\"location\" + 0.015*\"sql\" + 0.014*\"job\" + 0.013*\"dateexpires\" + 0.013*\"dateactive\"')\n",
      "Extracted Topic: (4, '0.001*\"location\" + 0.001*\"people\" + 0.001*\"covid19\" + 0.001*\"new\" + 0.001*\"vaccine\"')\n",
      "Saved topic modeling for StackOverflow to /Users/tnathu-ai/VSCode/Government-Digital-Transformation/data/intermediate/analysis/stackoverflow_topic_modeling.txt\n",
      "Saved qualitative analysis for StackOverflow to /Users/tnathu-ai/VSCode/Government-Digital-Transformation/data/intermediate/analysis/stackoverflow_qualitative_analysis.txt\n",
      "Saved time series visualization for StackOverflow - Topic: location  sql  dateactive  to /Users/tnathu-ai/VSCode/Government-Digital-Transformation/assets/images/stackoverflow_time_series_analysis_location  sql  dateactive .png\n"
     ]
    },
    {
     "name": "stderr",
     "output_type": "stream",
     "text": [
      "<timed exec>:63: SettingWithCopyWarning: \n",
      "A value is trying to be set on a copy of a slice from a DataFrame.\n",
      "Try using .loc[row_indexer,col_indexer] = value instead\n",
      "\n",
      "See the caveats in the documentation: https://pandas.pydata.org/pandas-docs/stable/user_guide/indexing.html#returning-a-view-versus-a-copy\n"
     ]
    },
    {
     "name": "stdout",
     "output_type": "stream",
     "text": [
      "Saved time series visualization for StackOverflow - Topic: covid19  people  vaccine  to /Users/tnathu-ai/VSCode/Government-Digital-Transformation/assets/images/stackoverflow_time_series_analysis_covid19  people  vaccine .png\n"
     ]
    },
    {
     "name": "stderr",
     "output_type": "stream",
     "text": [
      "<timed exec>:63: SettingWithCopyWarning: \n",
      "A value is trying to be set on a copy of a slice from a DataFrame.\n",
      "Try using .loc[row_indexer,col_indexer] = value instead\n",
      "\n",
      "See the caveats in the documentation: https://pandas.pydata.org/pandas-docs/stable/user_guide/indexing.html#returning-a-view-versus-a-copy\n"
     ]
    },
    {
     "name": "stdout",
     "output_type": "stream",
     "text": [
      "Saved time series visualization for StackOverflow - Topic: covid19  people  vaccine  to /Users/tnathu-ai/VSCode/Government-Digital-Transformation/assets/images/stackoverflow_time_series_analysis_covid19  people  vaccine .png\n",
      "Saved time series visualization for StackOverflow - Topic: location  sql  job  to /Users/tnathu-ai/VSCode/Government-Digital-Transformation/assets/images/stackoverflow_time_series_analysis_location  sql  job .png\n",
      "Saved time series visualization for StackOverflow - Topic: location  people  covid19  to /Users/tnathu-ai/VSCode/Government-Digital-Transformation/assets/images/stackoverflow_time_series_analysis_location  people  covid19 .png\n",
      "Saved sentiment analysis for StackOverflow to /Users/tnathu-ai/VSCode/Government-Digital-Transformation/data/intermediate/analysis/stackoverflow_sentiment_analysis.txt\n",
      "Extracted Topic: (0, '0.073*\"values\" + 0.072*\"insert\" + 0.040*\"answeroption\" + 0.017*\"question\" + 0.012*\"eno\"')\n",
      "Extracted Topic: (1, '0.000*\"sports\" + 0.000*\"health\" + 0.000*\"fitness\" + 0.000*\"recreation\" + 0.000*\"autos\"')\n",
      "Extracted Topic: (2, '0.017*\"health\" + 0.016*\"fitness\" + 0.014*\"sports\" + 0.013*\"travel\" + 0.013*\"recreation\"')\n",
      "Extracted Topic: (3, '0.054*\"user\" + 0.033*\"name\" + 0.029*\"id\" + 0.023*\"text\" + 0.020*\"description\"')\n",
      "Extracted Topic: (4, '0.007*\"title\" + 0.006*\"content\" + 0.005*\"news\" + 0.005*\"url\" + 0.005*\"category\"')\n",
      "Saved topic modeling for StackOverflow to /Users/tnathu-ai/VSCode/Government-Digital-Transformation/data/intermediate/analysis/stackoverflow_topic_modeling.txt\n",
      "Saved qualitative analysis for StackOverflow to /Users/tnathu-ai/VSCode/Government-Digital-Transformation/data/intermediate/analysis/stackoverflow_qualitative_analysis.txt\n"
     ]
    },
    {
     "name": "stderr",
     "output_type": "stream",
     "text": [
      "<timed exec>:63: SettingWithCopyWarning: \n",
      "A value is trying to be set on a copy of a slice from a DataFrame.\n",
      "Try using .loc[row_indexer,col_indexer] = value instead\n",
      "\n",
      "See the caveats in the documentation: https://pandas.pydata.org/pandas-docs/stable/user_guide/indexing.html#returning-a-view-versus-a-copy\n"
     ]
    },
    {
     "name": "stdout",
     "output_type": "stream",
     "text": [
      "Saved time series visualization for StackOverflow - Topic: values  insert  answeroption  to /Users/tnathu-ai/VSCode/Government-Digital-Transformation/assets/images/stackoverflow_time_series_analysis_values  insert  answeroption .png\n",
      "Saved time series visualization for StackOverflow - Topic: sports  health  fitness  to /Users/tnathu-ai/VSCode/Government-Digital-Transformation/assets/images/stackoverflow_time_series_analysis_sports  health  fitness .png\n"
     ]
    },
    {
     "name": "stderr",
     "output_type": "stream",
     "text": [
      "<timed exec>:63: SettingWithCopyWarning: \n",
      "A value is trying to be set on a copy of a slice from a DataFrame.\n",
      "Try using .loc[row_indexer,col_indexer] = value instead\n",
      "\n",
      "See the caveats in the documentation: https://pandas.pydata.org/pandas-docs/stable/user_guide/indexing.html#returning-a-view-versus-a-copy\n",
      "<timed exec>:63: SettingWithCopyWarning: \n",
      "A value is trying to be set on a copy of a slice from a DataFrame.\n",
      "Try using .loc[row_indexer,col_indexer] = value instead\n",
      "\n",
      "See the caveats in the documentation: https://pandas.pydata.org/pandas-docs/stable/user_guide/indexing.html#returning-a-view-versus-a-copy\n"
     ]
    },
    {
     "name": "stdout",
     "output_type": "stream",
     "text": [
      "Saved time series visualization for StackOverflow - Topic: health  fitness  sports  to /Users/tnathu-ai/VSCode/Government-Digital-Transformation/assets/images/stackoverflow_time_series_analysis_health  fitness  sports .png\n",
      "Saved time series visualization for StackOverflow - Topic: user  name  id  to /Users/tnathu-ai/VSCode/Government-Digital-Transformation/assets/images/stackoverflow_time_series_analysis_user  name  id .png\n"
     ]
    },
    {
     "name": "stderr",
     "output_type": "stream",
     "text": [
      "<timed exec>:63: SettingWithCopyWarning: \n",
      "A value is trying to be set on a copy of a slice from a DataFrame.\n",
      "Try using .loc[row_indexer,col_indexer] = value instead\n",
      "\n",
      "See the caveats in the documentation: https://pandas.pydata.org/pandas-docs/stable/user_guide/indexing.html#returning-a-view-versus-a-copy\n"
     ]
    },
    {
     "name": "stdout",
     "output_type": "stream",
     "text": [
      "Saved time series visualization for StackOverflow - Topic: title  content  news  to /Users/tnathu-ai/VSCode/Government-Digital-Transformation/assets/images/stackoverflow_time_series_analysis_title  content  news .png\n",
      "Saved sentiment analysis for StackOverflow to /Users/tnathu-ai/VSCode/Government-Digital-Transformation/data/intermediate/analysis/stackoverflow_sentiment_analysis.txt\n",
      "Extracted Topic: (0, '0.021*\"devid\" + 0.019*\"signature\" + 0.017*\"api\" + 0.014*\"query\" + 0.013*\"error\"')\n",
      "Extracted Topic: (1, '0.100*\"insert\" + 0.018*\"st\" + 0.015*\"client\" + 0.012*\"job\" + 0.011*\"quotation\"')\n",
      "Extracted Topic: (2, '0.024*\"interest\" + 0.024*\"destination\" + 0.023*\"point\" + 0.023*\"returns\" + 0.021*\"origin\"')\n",
      "Extracted Topic: (3, '0.001*\"insert\" + 0.001*\"div\" + 0.001*\"class\" + 0.001*\"100\" + 0.001*\"devid\"')\n",
      "Extracted Topic: (4, '0.013*\"div\" + 0.011*\"class\" + 0.010*\"100\" + 0.009*\"margin\" + 0.009*\"height\"')\n",
      "Saved topic modeling for StackOverflow to /Users/tnathu-ai/VSCode/Government-Digital-Transformation/data/intermediate/analysis/stackoverflow_topic_modeling.txt\n",
      "Saved qualitative analysis for StackOverflow to /Users/tnathu-ai/VSCode/Government-Digital-Transformation/data/intermediate/analysis/stackoverflow_qualitative_analysis.txt\n",
      "Saved time series visualization for StackOverflow - Topic: devid  signature  api  to /Users/tnathu-ai/VSCode/Government-Digital-Transformation/assets/images/stackoverflow_time_series_analysis_devid  signature  api .png\n"
     ]
    },
    {
     "name": "stderr",
     "output_type": "stream",
     "text": [
      "<timed exec>:63: SettingWithCopyWarning: \n",
      "A value is trying to be set on a copy of a slice from a DataFrame.\n",
      "Try using .loc[row_indexer,col_indexer] = value instead\n",
      "\n",
      "See the caveats in the documentation: https://pandas.pydata.org/pandas-docs/stable/user_guide/indexing.html#returning-a-view-versus-a-copy\n"
     ]
    },
    {
     "name": "stdout",
     "output_type": "stream",
     "text": [
      "Saved time series visualization for StackOverflow - Topic: insert  st  client  to /Users/tnathu-ai/VSCode/Government-Digital-Transformation/assets/images/stackoverflow_time_series_analysis_insert  st  client .png\n",
      "Saved time series visualization for StackOverflow - Topic: interest  destination  point  to /Users/tnathu-ai/VSCode/Government-Digital-Transformation/assets/images/stackoverflow_time_series_analysis_interest  destination  point .png\n"
     ]
    },
    {
     "name": "stderr",
     "output_type": "stream",
     "text": [
      "<timed exec>:63: SettingWithCopyWarning: \n",
      "A value is trying to be set on a copy of a slice from a DataFrame.\n",
      "Try using .loc[row_indexer,col_indexer] = value instead\n",
      "\n",
      "See the caveats in the documentation: https://pandas.pydata.org/pandas-docs/stable/user_guide/indexing.html#returning-a-view-versus-a-copy\n",
      "<timed exec>:63: SettingWithCopyWarning: \n",
      "A value is trying to be set on a copy of a slice from a DataFrame.\n",
      "Try using .loc[row_indexer,col_indexer] = value instead\n",
      "\n",
      "See the caveats in the documentation: https://pandas.pydata.org/pandas-docs/stable/user_guide/indexing.html#returning-a-view-versus-a-copy\n"
     ]
    },
    {
     "name": "stdout",
     "output_type": "stream",
     "text": [
      "Saved time series visualization for StackOverflow - Topic: insert  div  class  to /Users/tnathu-ai/VSCode/Government-Digital-Transformation/assets/images/stackoverflow_time_series_analysis_insert  div  class .png\n"
     ]
    },
    {
     "name": "stderr",
     "output_type": "stream",
     "text": [
      "<timed exec>:63: SettingWithCopyWarning: \n",
      "A value is trying to be set on a copy of a slice from a DataFrame.\n",
      "Try using .loc[row_indexer,col_indexer] = value instead\n",
      "\n",
      "See the caveats in the documentation: https://pandas.pydata.org/pandas-docs/stable/user_guide/indexing.html#returning-a-view-versus-a-copy\n"
     ]
    },
    {
     "name": "stdout",
     "output_type": "stream",
     "text": [
      "Saved time series visualization for StackOverflow - Topic: div  class  100  to /Users/tnathu-ai/VSCode/Government-Digital-Transformation/assets/images/stackoverflow_time_series_analysis_div  class  100 .png\n",
      "Saved sentiment analysis for StackOverflow to /Users/tnathu-ai/VSCode/Government-Digital-Transformation/data/intermediate/analysis/stackoverflow_sentiment_analysis.txt\n",
      "Extracted Topic: (0, '0.008*\"new\" + 0.005*\"victoria\" + 0.004*\"url\" + 0.004*\"team\" + 0.004*\"connection\"')\n",
      "Extracted Topic: (1, '0.055*\"insert\" + 0.010*\"st\" + 0.008*\"client\" + 0.006*\"job\" + 0.006*\"quotation\"')\n",
      "Extracted Topic: (2, '0.022*\"label\" + 0.019*\"name\" + 0.016*\"target\" + 0.015*\"id\" + 0.011*\"ned\"')\n",
      "Extracted Topic: (3, '0.009*\"access\" + 0.008*\"true\" + 0.008*\"h3\" + 0.006*\"ch\" + 0.006*\"ag\"')\n",
      "Extracted Topic: (4, '0.015*\"lia\" + 0.010*\"li\" + 0.009*\"div\" + 0.007*\"university\" + 0.007*\"weather\"')\n",
      "Saved topic modeling for StackOverflow to /Users/tnathu-ai/VSCode/Government-Digital-Transformation/data/intermediate/analysis/stackoverflow_topic_modeling.txt\n",
      "Saved qualitative analysis for StackOverflow to /Users/tnathu-ai/VSCode/Government-Digital-Transformation/data/intermediate/analysis/stackoverflow_qualitative_analysis.txt\n",
      "Saved time series visualization for StackOverflow - Topic: new  victoria  url  to /Users/tnathu-ai/VSCode/Government-Digital-Transformation/assets/images/stackoverflow_time_series_analysis_new  victoria  url .png\n",
      "Saved time series visualization for StackOverflow - Topic: insert  st  client  to /Users/tnathu-ai/VSCode/Government-Digital-Transformation/assets/images/stackoverflow_time_series_analysis_insert  st  client .png\n"
     ]
    },
    {
     "name": "stderr",
     "output_type": "stream",
     "text": [
      "<timed exec>:63: SettingWithCopyWarning: \n",
      "A value is trying to be set on a copy of a slice from a DataFrame.\n",
      "Try using .loc[row_indexer,col_indexer] = value instead\n",
      "\n",
      "See the caveats in the documentation: https://pandas.pydata.org/pandas-docs/stable/user_guide/indexing.html#returning-a-view-versus-a-copy\n",
      "<timed exec>:63: SettingWithCopyWarning: \n",
      "A value is trying to be set on a copy of a slice from a DataFrame.\n",
      "Try using .loc[row_indexer,col_indexer] = value instead\n",
      "\n",
      "See the caveats in the documentation: https://pandas.pydata.org/pandas-docs/stable/user_guide/indexing.html#returning-a-view-versus-a-copy\n"
     ]
    },
    {
     "name": "stdout",
     "output_type": "stream",
     "text": [
      "Saved time series visualization for StackOverflow - Topic: label  name  target  to /Users/tnathu-ai/VSCode/Government-Digital-Transformation/assets/images/stackoverflow_time_series_analysis_label  name  target .png\n",
      "Saved time series visualization for StackOverflow - Topic: access  true  h3  to /Users/tnathu-ai/VSCode/Government-Digital-Transformation/assets/images/stackoverflow_time_series_analysis_access  true  h3 .png\n"
     ]
    },
    {
     "name": "stderr",
     "output_type": "stream",
     "text": [
      "<timed exec>:63: SettingWithCopyWarning: \n",
      "A value is trying to be set on a copy of a slice from a DataFrame.\n",
      "Try using .loc[row_indexer,col_indexer] = value instead\n",
      "\n",
      "See the caveats in the documentation: https://pandas.pydata.org/pandas-docs/stable/user_guide/indexing.html#returning-a-view-versus-a-copy\n"
     ]
    },
    {
     "name": "stdout",
     "output_type": "stream",
     "text": [
      "Saved time series visualization for StackOverflow - Topic: lia  li  div  to /Users/tnathu-ai/VSCode/Government-Digital-Transformation/assets/images/stackoverflow_time_series_analysis_lia  li  div .png\n",
      "Saved sentiment analysis for StackOverflow to /Users/tnathu-ai/VSCode/Government-Digital-Transformation/data/intermediate/analysis/stackoverflow_sentiment_analysis.txt\n",
      "Extracted Topic: (0, '0.021*\"home\" + 0.018*\"tax\" + 0.008*\"div\" + 0.008*\"widget\" + 0.007*\"br\"')\n",
      "Extracted Topic: (1, '0.022*\"medicare\" + 0.022*\"expression\" + 0.017*\"code\" + 0.017*\"error\" + 0.016*\"said\"')\n",
      "Extracted Topic: (2, '0.043*\"25\" + 0.035*\"option\" + 0.021*\"ptsoption\" + 0.021*\"div\" + 0.016*\"40\"')\n",
      "Extracted Topic: (3, '0.017*\"communication\" + 0.016*\"xslvalueof\" + 0.011*\"xslwhen\" + 0.010*\"personaldetails\" + 0.009*\"condition\"')\n",
      "Extracted Topic: (4, '0.035*\"medicare\" + 0.035*\"numbers\" + 0.019*\"im\" + 0.014*\"australian\" + 0.014*\"need\"')\n",
      "Saved topic modeling for StackOverflow to /Users/tnathu-ai/VSCode/Government-Digital-Transformation/data/intermediate/analysis/stackoverflow_topic_modeling.txt\n",
      "Saved qualitative analysis for StackOverflow to /Users/tnathu-ai/VSCode/Government-Digital-Transformation/data/intermediate/analysis/stackoverflow_qualitative_analysis.txt\n"
     ]
    },
    {
     "name": "stderr",
     "output_type": "stream",
     "text": [
      "<timed exec>:63: SettingWithCopyWarning: \n",
      "A value is trying to be set on a copy of a slice from a DataFrame.\n",
      "Try using .loc[row_indexer,col_indexer] = value instead\n",
      "\n",
      "See the caveats in the documentation: https://pandas.pydata.org/pandas-docs/stable/user_guide/indexing.html#returning-a-view-versus-a-copy\n"
     ]
    },
    {
     "name": "stdout",
     "output_type": "stream",
     "text": [
      "Saved time series visualization for StackOverflow - Topic: home  tax  div  to /Users/tnathu-ai/VSCode/Government-Digital-Transformation/assets/images/stackoverflow_time_series_analysis_home  tax  div .png\n",
      "Saved time series visualization for StackOverflow - Topic: medicare  expression  code  to /Users/tnathu-ai/VSCode/Government-Digital-Transformation/assets/images/stackoverflow_time_series_analysis_medicare  expression  code .png\n"
     ]
    },
    {
     "name": "stderr",
     "output_type": "stream",
     "text": [
      "<timed exec>:63: SettingWithCopyWarning: \n",
      "A value is trying to be set on a copy of a slice from a DataFrame.\n",
      "Try using .loc[row_indexer,col_indexer] = value instead\n",
      "\n",
      "See the caveats in the documentation: https://pandas.pydata.org/pandas-docs/stable/user_guide/indexing.html#returning-a-view-versus-a-copy\n",
      "<timed exec>:63: SettingWithCopyWarning: \n",
      "A value is trying to be set on a copy of a slice from a DataFrame.\n",
      "Try using .loc[row_indexer,col_indexer] = value instead\n",
      "\n",
      "See the caveats in the documentation: https://pandas.pydata.org/pandas-docs/stable/user_guide/indexing.html#returning-a-view-versus-a-copy\n"
     ]
    },
    {
     "name": "stdout",
     "output_type": "stream",
     "text": [
      "Saved time series visualization for StackOverflow - Topic: 25  option  ptsoption  to /Users/tnathu-ai/VSCode/Government-Digital-Transformation/assets/images/stackoverflow_time_series_analysis_25  option  ptsoption .png\n",
      "Saved time series visualization for StackOverflow - Topic: communication  xslvalueof  xslwhen  to /Users/tnathu-ai/VSCode/Government-Digital-Transformation/assets/images/stackoverflow_time_series_analysis_communication  xslvalueof  xslwhen .png\n",
      "Saved time series visualization for StackOverflow - Topic: medicare  numbers  im  to /Users/tnathu-ai/VSCode/Government-Digital-Transformation/assets/images/stackoverflow_time_series_analysis_medicare  numbers  im .png\n",
      "Saved sentiment analysis for StackOverflow to /Users/tnathu-ai/VSCode/Government-Digital-Transformation/data/intermediate/analysis/stackoverflow_sentiment_analysis.txt\n",
      "Extracted Topic: (0, '0.013*\"played\" + 0.013*\"game\" + 0.012*\"ball\" + 0.011*\"team\" + 0.010*\"sport\"')\n",
      "Extracted Topic: (1, '0.033*\"science\" + 0.026*\"economics\" + 0.022*\"economic\" + 0.021*\"institute\" + 0.015*\"research\"')\n",
      "Extracted Topic: (2, '0.030*\"line\" + 0.027*\"file\" + 0.011*\"url\" + 0.010*\"import\" + 0.008*\"py\"')\n",
      "Extracted Topic: (3, '0.001*\"game\" + 0.001*\"science\" + 0.001*\"ball\" + 0.001*\"played\" + 0.001*\"economics\"')\n",
      "Extracted Topic: (4, '0.001*\"game\" + 0.001*\"ball\" + 0.001*\"player\" + 0.001*\"also\" + 0.001*\"sport\"')\n",
      "Saved topic modeling for StackOverflow to /Users/tnathu-ai/VSCode/Government-Digital-Transformation/data/intermediate/analysis/stackoverflow_topic_modeling.txt\n",
      "Saved qualitative analysis for StackOverflow to /Users/tnathu-ai/VSCode/Government-Digital-Transformation/data/intermediate/analysis/stackoverflow_qualitative_analysis.txt\n",
      "Saved time series visualization for StackOverflow - Topic: played  game  ball  to /Users/tnathu-ai/VSCode/Government-Digital-Transformation/assets/images/stackoverflow_time_series_analysis_played  game  ball .png\n"
     ]
    },
    {
     "name": "stderr",
     "output_type": "stream",
     "text": [
      "<timed exec>:63: SettingWithCopyWarning: \n",
      "A value is trying to be set on a copy of a slice from a DataFrame.\n",
      "Try using .loc[row_indexer,col_indexer] = value instead\n",
      "\n",
      "See the caveats in the documentation: https://pandas.pydata.org/pandas-docs/stable/user_guide/indexing.html#returning-a-view-versus-a-copy\n",
      "<timed exec>:63: SettingWithCopyWarning: \n",
      "A value is trying to be set on a copy of a slice from a DataFrame.\n",
      "Try using .loc[row_indexer,col_indexer] = value instead\n",
      "\n",
      "See the caveats in the documentation: https://pandas.pydata.org/pandas-docs/stable/user_guide/indexing.html#returning-a-view-versus-a-copy\n"
     ]
    },
    {
     "name": "stdout",
     "output_type": "stream",
     "text": [
      "Saved time series visualization for StackOverflow - Topic: science  economics  economic  to /Users/tnathu-ai/VSCode/Government-Digital-Transformation/assets/images/stackoverflow_time_series_analysis_science  economics  economic .png\n",
      "Saved time series visualization for StackOverflow - Topic: line  file  url  to /Users/tnathu-ai/VSCode/Government-Digital-Transformation/assets/images/stackoverflow_time_series_analysis_line  file  url .png\n"
     ]
    },
    {
     "name": "stderr",
     "output_type": "stream",
     "text": [
      "<timed exec>:63: SettingWithCopyWarning: \n",
      "A value is trying to be set on a copy of a slice from a DataFrame.\n",
      "Try using .loc[row_indexer,col_indexer] = value instead\n",
      "\n",
      "See the caveats in the documentation: https://pandas.pydata.org/pandas-docs/stable/user_guide/indexing.html#returning-a-view-versus-a-copy\n"
     ]
    },
    {
     "name": "stdout",
     "output_type": "stream",
     "text": [
      "Saved time series visualization for StackOverflow - Topic: game  science  ball  to /Users/tnathu-ai/VSCode/Government-Digital-Transformation/assets/images/stackoverflow_time_series_analysis_game  science  ball .png\n",
      "Saved time series visualization for StackOverflow - Topic: game  ball  player  to /Users/tnathu-ai/VSCode/Government-Digital-Transformation/assets/images/stackoverflow_time_series_analysis_game  ball  player .png\n"
     ]
    },
    {
     "name": "stderr",
     "output_type": "stream",
     "text": [
      "<timed exec>:63: SettingWithCopyWarning: \n",
      "A value is trying to be set on a copy of a slice from a DataFrame.\n",
      "Try using .loc[row_indexer,col_indexer] = value instead\n",
      "\n",
      "See the caveats in the documentation: https://pandas.pydata.org/pandas-docs/stable/user_guide/indexing.html#returning-a-view-versus-a-copy\n"
     ]
    },
    {
     "name": "stdout",
     "output_type": "stream",
     "text": [
      "Saved sentiment analysis for StackOverflow to /Users/tnathu-ai/VSCode/Government-Digital-Transformation/data/intermediate/analysis/stackoverflow_sentiment_analysis.txt\n",
      "Extracted Topic: (0, '0.015*\"founders\" + 0.015*\"linkedin\" + 0.014*\"website\" + 0.014*\"one\" + 0.013*\"information\"')\n",
      "Extracted Topic: (1, '0.001*\"founders\" + 0.001*\"information\" + 0.001*\"linkedin\" + 0.001*\"one\" + 0.001*\"website\"')\n",
      "Extracted Topic: (2, '0.001*\"founders\" + 0.001*\"linkedin\" + 0.001*\"time\" + 0.001*\"website\" + 0.001*\"information\"')\n",
      "Extracted Topic: (3, '0.052*\"time\" + 0.025*\"sensor\" + 0.024*\"sensors\" + 0.024*\"parking\" + 0.021*\"street\"')\n",
      "Extracted Topic: (4, '0.001*\"linkedin\" + 0.001*\"one\" + 0.001*\"founders\" + 0.001*\"website\" + 0.001*\"information\"')\n",
      "Saved topic modeling for StackOverflow to /Users/tnathu-ai/VSCode/Government-Digital-Transformation/data/intermediate/analysis/stackoverflow_topic_modeling.txt\n",
      "Saved qualitative analysis for StackOverflow to /Users/tnathu-ai/VSCode/Government-Digital-Transformation/data/intermediate/analysis/stackoverflow_qualitative_analysis.txt\n",
      "Saved time series visualization for StackOverflow - Topic: founders  linkedin  website  to /Users/tnathu-ai/VSCode/Government-Digital-Transformation/assets/images/stackoverflow_time_series_analysis_founders  linkedin  website .png\n"
     ]
    },
    {
     "name": "stderr",
     "output_type": "stream",
     "text": [
      "<timed exec>:63: SettingWithCopyWarning: \n",
      "A value is trying to be set on a copy of a slice from a DataFrame.\n",
      "Try using .loc[row_indexer,col_indexer] = value instead\n",
      "\n",
      "See the caveats in the documentation: https://pandas.pydata.org/pandas-docs/stable/user_guide/indexing.html#returning-a-view-versus-a-copy\n",
      "<timed exec>:63: SettingWithCopyWarning: \n",
      "A value is trying to be set on a copy of a slice from a DataFrame.\n",
      "Try using .loc[row_indexer,col_indexer] = value instead\n",
      "\n",
      "See the caveats in the documentation: https://pandas.pydata.org/pandas-docs/stable/user_guide/indexing.html#returning-a-view-versus-a-copy\n"
     ]
    },
    {
     "name": "stdout",
     "output_type": "stream",
     "text": [
      "Saved time series visualization for StackOverflow - Topic: founders  information  linkedin  to /Users/tnathu-ai/VSCode/Government-Digital-Transformation/assets/images/stackoverflow_time_series_analysis_founders  information  linkedin .png\n",
      "Saved time series visualization for StackOverflow - Topic: founders  linkedin  time  to /Users/tnathu-ai/VSCode/Government-Digital-Transformation/assets/images/stackoverflow_time_series_analysis_founders  linkedin  time .png\n"
     ]
    },
    {
     "name": "stderr",
     "output_type": "stream",
     "text": [
      "<timed exec>:63: SettingWithCopyWarning: \n",
      "A value is trying to be set on a copy of a slice from a DataFrame.\n",
      "Try using .loc[row_indexer,col_indexer] = value instead\n",
      "\n",
      "See the caveats in the documentation: https://pandas.pydata.org/pandas-docs/stable/user_guide/indexing.html#returning-a-view-versus-a-copy\n"
     ]
    },
    {
     "name": "stdout",
     "output_type": "stream",
     "text": [
      "Saved time series visualization for StackOverflow - Topic: time  sensor  sensors  to /Users/tnathu-ai/VSCode/Government-Digital-Transformation/assets/images/stackoverflow_time_series_analysis_time  sensor  sensors .png\n",
      "Saved time series visualization for StackOverflow - Topic: linkedin  one  founders  to /Users/tnathu-ai/VSCode/Government-Digital-Transformation/assets/images/stackoverflow_time_series_analysis_linkedin  one  founders .png\n",
      "Saved sentiment analysis for StackOverflow to /Users/tnathu-ai/VSCode/Government-Digital-Transformation/data/intermediate/analysis/stackoverflow_sentiment_analysis.txt\n",
      "Extracted Topic: (0, '0.021*\"home\" + 0.018*\"tax\" + 0.008*\"div\" + 0.008*\"widget\" + 0.007*\"font\"')\n",
      "Extracted Topic: (1, '0.018*\"court\" + 0.016*\"patents\" + 0.015*\"abstract\" + 0.015*\"claims\" + 0.014*\"patent\"')\n",
      "Extracted Topic: (2, '0.001*\"patents\" + 0.001*\"court\" + 0.001*\"patent\" + 0.001*\"abstract\" + 0.001*\"claims\"')\n",
      "Extracted Topic: (3, '0.001*\"patents\" + 0.001*\"court\" + 0.001*\"abstract\" + 0.001*\"claims\" + 0.001*\"software\"')\n",
      "Extracted Topic: (4, '0.001*\"abstract\" + 0.001*\"patents\" + 0.001*\"court\" + 0.001*\"patent\" + 0.001*\"claims\"')\n",
      "Saved topic modeling for StackOverflow to /Users/tnathu-ai/VSCode/Government-Digital-Transformation/data/intermediate/analysis/stackoverflow_topic_modeling.txt\n",
      "Saved qualitative analysis for StackOverflow to /Users/tnathu-ai/VSCode/Government-Digital-Transformation/data/intermediate/analysis/stackoverflow_qualitative_analysis.txt\n",
      "Saved time series visualization for StackOverflow - Topic: home  tax  div  to /Users/tnathu-ai/VSCode/Government-Digital-Transformation/assets/images/stackoverflow_time_series_analysis_home  tax  div .png\n"
     ]
    },
    {
     "name": "stderr",
     "output_type": "stream",
     "text": [
      "<timed exec>:63: SettingWithCopyWarning: \n",
      "A value is trying to be set on a copy of a slice from a DataFrame.\n",
      "Try using .loc[row_indexer,col_indexer] = value instead\n",
      "\n",
      "See the caveats in the documentation: https://pandas.pydata.org/pandas-docs/stable/user_guide/indexing.html#returning-a-view-versus-a-copy\n",
      "<timed exec>:63: SettingWithCopyWarning: \n",
      "A value is trying to be set on a copy of a slice from a DataFrame.\n",
      "Try using .loc[row_indexer,col_indexer] = value instead\n",
      "\n",
      "See the caveats in the documentation: https://pandas.pydata.org/pandas-docs/stable/user_guide/indexing.html#returning-a-view-versus-a-copy\n"
     ]
    },
    {
     "name": "stdout",
     "output_type": "stream",
     "text": [
      "Saved time series visualization for StackOverflow - Topic: court  patents  abstract  to /Users/tnathu-ai/VSCode/Government-Digital-Transformation/assets/images/stackoverflow_time_series_analysis_court  patents  abstract .png\n",
      "Saved time series visualization for StackOverflow - Topic: patents  court  patent  to /Users/tnathu-ai/VSCode/Government-Digital-Transformation/assets/images/stackoverflow_time_series_analysis_patents  court  patent .png\n"
     ]
    },
    {
     "name": "stderr",
     "output_type": "stream",
     "text": [
      "<timed exec>:63: SettingWithCopyWarning: \n",
      "A value is trying to be set on a copy of a slice from a DataFrame.\n",
      "Try using .loc[row_indexer,col_indexer] = value instead\n",
      "\n",
      "See the caveats in the documentation: https://pandas.pydata.org/pandas-docs/stable/user_guide/indexing.html#returning-a-view-versus-a-copy\n",
      "<timed exec>:63: SettingWithCopyWarning: \n",
      "A value is trying to be set on a copy of a slice from a DataFrame.\n",
      "Try using .loc[row_indexer,col_indexer] = value instead\n",
      "\n",
      "See the caveats in the documentation: https://pandas.pydata.org/pandas-docs/stable/user_guide/indexing.html#returning-a-view-versus-a-copy\n"
     ]
    },
    {
     "name": "stdout",
     "output_type": "stream",
     "text": [
      "Saved time series visualization for StackOverflow - Topic: patents  court  abstract  to /Users/tnathu-ai/VSCode/Government-Digital-Transformation/assets/images/stackoverflow_time_series_analysis_patents  court  abstract .png\n",
      "Saved time series visualization for StackOverflow - Topic: abstract  patents  court  to /Users/tnathu-ai/VSCode/Government-Digital-Transformation/assets/images/stackoverflow_time_series_analysis_abstract  patents  court .png\n",
      "Saved sentiment analysis for StackOverflow to /Users/tnathu-ai/VSCode/Government-Digital-Transformation/data/intermediate/analysis/stackoverflow_sentiment_analysis.txt\n",
      "Extracted Topic: (0, '0.018*\"dividend\" + 0.013*\"merger\" + 0.013*\"text\" + 0.009*\"mine\" + 0.008*\"expected\"')\n",
      "Extracted Topic: (1, '0.045*\"lia\" + 0.028*\"li\" + 0.025*\"div\" + 0.020*\"weather\" + 0.013*\"ul\"')\n",
      "Extracted Topic: (2, '0.001*\"lia\" + 0.001*\"li\" + 0.001*\"div\" + 0.001*\"weather\" + 0.001*\"ul\"')\n",
      "Extracted Topic: (3, '0.001*\"lia\" + 0.001*\"li\" + 0.001*\"div\" + 0.001*\"weather\" + 0.001*\"dividend\"')\n",
      "Extracted Topic: (4, '0.001*\"lia\" + 0.001*\"li\" + 0.001*\"weather\" + 0.001*\"div\" + 0.001*\"forecast\"')\n",
      "Saved topic modeling for StackOverflow to /Users/tnathu-ai/VSCode/Government-Digital-Transformation/data/intermediate/analysis/stackoverflow_topic_modeling.txt\n",
      "Saved qualitative analysis for StackOverflow to /Users/tnathu-ai/VSCode/Government-Digital-Transformation/data/intermediate/analysis/stackoverflow_qualitative_analysis.txt\n",
      "Saved time series visualization for StackOverflow - Topic: dividend  merger  text  to /Users/tnathu-ai/VSCode/Government-Digital-Transformation/assets/images/stackoverflow_time_series_analysis_dividend  merger  text .png\n",
      "Saved time series visualization for StackOverflow - Topic: lia  li  div  to /Users/tnathu-ai/VSCode/Government-Digital-Transformation/assets/images/stackoverflow_time_series_analysis_lia  li  div .png\n",
      "Saved time series visualization for StackOverflow - Topic: lia  li  div  to /Users/tnathu-ai/VSCode/Government-Digital-Transformation/assets/images/stackoverflow_time_series_analysis_lia  li  div .png\n",
      "Saved time series visualization for StackOverflow - Topic: lia  li  div  to /Users/tnathu-ai/VSCode/Government-Digital-Transformation/assets/images/stackoverflow_time_series_analysis_lia  li  div .png\n",
      "Saved time series visualization for StackOverflow - Topic: lia  li  weather  to /Users/tnathu-ai/VSCode/Government-Digital-Transformation/assets/images/stackoverflow_time_series_analysis_lia  li  weather .png\n",
      "Saved sentiment analysis for StackOverflow to /Users/tnathu-ai/VSCode/Government-Digital-Transformation/data/intermediate/analysis/stackoverflow_sentiment_analysis.txt\n",
      "Extracted Topic: (0, '0.031*\"possible\" + 0.031*\"abc\" + 0.031*\"australian\" + 0.031*\"corporation\" + 0.031*\"browsewatchlisten\"')\n",
      "Extracted Topic: (1, '0.031*\"ipad\" + 0.031*\"tabs\" + 0.031*\"like\" + 0.031*\"browsewatchlisten\" + 0.031*\"apps\"')\n",
      "Extracted Topic: (2, '0.031*\"abc\" + 0.031*\"possible\" + 0.031*\"australian\" + 0.031*\"seen\" + 0.031*\"setup\"')\n",
      "Extracted Topic: (3, '0.031*\"abc\" + 0.031*\"possible\" + 0.031*\"australian\" + 0.031*\"seen\" + 0.031*\"setup\"')\n",
      "Extracted Topic: (4, '0.059*\"ipad\" + 0.059*\"tabs\" + 0.053*\"like\" + 0.030*\"uitabbar\" + 0.030*\"rootviewcontroller\"')\n",
      "Saved topic modeling for StackOverflow to /Users/tnathu-ai/VSCode/Government-Digital-Transformation/data/intermediate/analysis/stackoverflow_topic_modeling.txt\n",
      "Saved qualitative analysis for StackOverflow to /Users/tnathu-ai/VSCode/Government-Digital-Transformation/data/intermediate/analysis/stackoverflow_qualitative_analysis.txt\n",
      "Saved time series visualization for StackOverflow - Topic: possible  abc  australian  to /Users/tnathu-ai/VSCode/Government-Digital-Transformation/assets/images/stackoverflow_time_series_analysis_possible  abc  australian .png\n",
      "Saved time series visualization for StackOverflow - Topic: ipad  tabs  like  to /Users/tnathu-ai/VSCode/Government-Digital-Transformation/assets/images/stackoverflow_time_series_analysis_ipad  tabs  like .png\n",
      "Saved time series visualization for StackOverflow - Topic: abc  possible  australian  to /Users/tnathu-ai/VSCode/Government-Digital-Transformation/assets/images/stackoverflow_time_series_analysis_abc  possible  australian .png\n",
      "Saved time series visualization for StackOverflow - Topic: abc  possible  australian  to /Users/tnathu-ai/VSCode/Government-Digital-Transformation/assets/images/stackoverflow_time_series_analysis_abc  possible  australian .png\n",
      "Saved time series visualization for StackOverflow - Topic: ipad  tabs  like  to /Users/tnathu-ai/VSCode/Government-Digital-Transformation/assets/images/stackoverflow_time_series_analysis_ipad  tabs  like .png\n",
      "Saved sentiment analysis for StackOverflow to /Users/tnathu-ai/VSCode/Government-Digital-Transformation/data/intermediate/analysis/stackoverflow_sentiment_analysis.txt\n",
      "Extracted Topic: (0, '0.002*\"covid19\" + 0.002*\"people\" + 0.002*\"covid\" + 0.002*\"vaccine\" + 0.002*\"get\"')\n",
      "Extracted Topic: (1, '0.002*\"covid19\" + 0.002*\"people\" + 0.002*\"vaccine\" + 0.002*\"covid\" + 0.002*\"get\"')\n",
      "Extracted Topic: (2, '0.021*\"covid19\" + 0.016*\"people\" + 0.014*\"vaccine\" + 0.012*\"covid\" + 0.011*\"get\"')\n",
      "Extracted Topic: (3, '0.002*\"people\" + 0.002*\"covid19\" + 0.002*\"vaccine\" + 0.002*\"get\" + 0.002*\"covid\"')\n",
      "Extracted Topic: (4, '0.002*\"covid19\" + 0.002*\"people\" + 0.002*\"us\" + 0.002*\"covid\" + 0.002*\"vaccine\"')\n",
      "Saved topic modeling for StackOverflow to /Users/tnathu-ai/VSCode/Government-Digital-Transformation/data/intermediate/analysis/stackoverflow_topic_modeling.txt\n",
      "Saved qualitative analysis for StackOverflow to /Users/tnathu-ai/VSCode/Government-Digital-Transformation/data/intermediate/analysis/stackoverflow_qualitative_analysis.txt\n",
      "Saved time series visualization for StackOverflow - Topic: covid19  people  covid  to /Users/tnathu-ai/VSCode/Government-Digital-Transformation/assets/images/stackoverflow_time_series_analysis_covid19  people  covid .png\n",
      "Saved time series visualization for StackOverflow - Topic: covid19  people  vaccine  to /Users/tnathu-ai/VSCode/Government-Digital-Transformation/assets/images/stackoverflow_time_series_analysis_covid19  people  vaccine .png\n",
      "Saved time series visualization for StackOverflow - Topic: covid19  people  vaccine  to /Users/tnathu-ai/VSCode/Government-Digital-Transformation/assets/images/stackoverflow_time_series_analysis_covid19  people  vaccine .png\n",
      "Saved time series visualization for StackOverflow - Topic: people  covid19  vaccine  to /Users/tnathu-ai/VSCode/Government-Digital-Transformation/assets/images/stackoverflow_time_series_analysis_people  covid19  vaccine .png\n",
      "Saved time series visualization for StackOverflow - Topic: covid19  people  us  to /Users/tnathu-ai/VSCode/Government-Digital-Transformation/assets/images/stackoverflow_time_series_analysis_covid19  people  us .png\n",
      "Saved sentiment analysis for StackOverflow to /Users/tnathu-ai/VSCode/Government-Digital-Transformation/data/intermediate/analysis/stackoverflow_sentiment_analysis.txt\n",
      "Extracted Topic: (0, '0.007*\"level\" + 0.007*\"business\" + 0.007*\"million\" + 0.007*\"small\" + 0.007*\"speaker\"')\n",
      "Extracted Topic: (1, '0.026*\"business\" + 0.021*\"small\" + 0.020*\"million\" + 0.018*\"level\" + 0.017*\"package\"')\n",
      "Extracted Topic: (2, '0.007*\"business\" + 0.007*\"million\" + 0.007*\"speech\" + 0.007*\"small\" + 0.007*\"level\"')\n",
      "Extracted Topic: (3, '0.007*\"small\" + 0.007*\"package\" + 0.007*\"million\" + 0.007*\"business\" + 0.007*\"minister\"')\n",
      "Extracted Topic: (4, '0.007*\"million\" + 0.007*\"business\" + 0.007*\"speaker\" + 0.007*\"small\" + 0.007*\"package\"')\n",
      "Saved topic modeling for StackOverflow to /Users/tnathu-ai/VSCode/Government-Digital-Transformation/data/intermediate/analysis/stackoverflow_topic_modeling.txt\n",
      "Saved qualitative analysis for StackOverflow to /Users/tnathu-ai/VSCode/Government-Digital-Transformation/data/intermediate/analysis/stackoverflow_qualitative_analysis.txt\n",
      "Saved time series visualization for StackOverflow - Topic: level  business  million  to /Users/tnathu-ai/VSCode/Government-Digital-Transformation/assets/images/stackoverflow_time_series_analysis_level  business  million .png\n",
      "Saved time series visualization for StackOverflow - Topic: business  small  million  to /Users/tnathu-ai/VSCode/Government-Digital-Transformation/assets/images/stackoverflow_time_series_analysis_business  small  million .png\n",
      "Saved time series visualization for StackOverflow - Topic: business  million  speech  to /Users/tnathu-ai/VSCode/Government-Digital-Transformation/assets/images/stackoverflow_time_series_analysis_business  million  speech .png\n",
      "Saved time series visualization for StackOverflow - Topic: small  package  million  to /Users/tnathu-ai/VSCode/Government-Digital-Transformation/assets/images/stackoverflow_time_series_analysis_small  package  million .png\n",
      "Saved time series visualization for StackOverflow - Topic: million  business  speaker  to /Users/tnathu-ai/VSCode/Government-Digital-Transformation/assets/images/stackoverflow_time_series_analysis_million  business  speaker .png\n",
      "Saved sentiment analysis for StackOverflow to /Users/tnathu-ai/VSCode/Government-Digital-Transformation/data/intermediate/analysis/stackoverflow_sentiment_analysis.txt\n",
      "Extracted Topic: (0, '0.002*\"location\" + 0.002*\"dateexpires\" + 0.002*\"job\" + 0.002*\"sql\" + 0.002*\"dateactive\"')\n",
      "Extracted Topic: (1, '0.002*\"location\" + 0.002*\"sql\" + 0.002*\"xsltemplate\" + 0.002*\"job\" + 0.002*\"160160\"')\n",
      "Extracted Topic: (2, '0.027*\"location\" + 0.015*\"sql\" + 0.014*\"job\" + 0.013*\"dateexpires\" + 0.013*\"dateactive\"')\n",
      "Extracted Topic: (3, '0.029*\"rule\" + 0.018*\"cookies\" + 0.018*\"modsecurity\" + 0.018*\"plesk\" + 0.013*\"web\"')\n",
      "Extracted Topic: (4, '0.002*\"location\" + 0.002*\"sql\" + 0.002*\"job\" + 0.002*\"dateupdated\" + 0.002*\"dateexpires\"')\n",
      "Saved topic modeling for StackOverflow to /Users/tnathu-ai/VSCode/Government-Digital-Transformation/data/intermediate/analysis/stackoverflow_topic_modeling.txt\n",
      "Saved qualitative analysis for StackOverflow to /Users/tnathu-ai/VSCode/Government-Digital-Transformation/data/intermediate/analysis/stackoverflow_qualitative_analysis.txt\n",
      "Saved time series visualization for StackOverflow - Topic: location  dateexpires  job  to /Users/tnathu-ai/VSCode/Government-Digital-Transformation/assets/images/stackoverflow_time_series_analysis_location  dateexpires  job .png\n",
      "Saved time series visualization for StackOverflow - Topic: location  sql  xsltemplate  to /Users/tnathu-ai/VSCode/Government-Digital-Transformation/assets/images/stackoverflow_time_series_analysis_location  sql  xsltemplate .png\n",
      "Saved time series visualization for StackOverflow - Topic: location  sql  job  to /Users/tnathu-ai/VSCode/Government-Digital-Transformation/assets/images/stackoverflow_time_series_analysis_location  sql  job .png\n",
      "Saved time series visualization for StackOverflow - Topic: rule  cookies  modsecurity  to /Users/tnathu-ai/VSCode/Government-Digital-Transformation/assets/images/stackoverflow_time_series_analysis_rule  cookies  modsecurity .png\n"
     ]
    },
    {
     "name": "stderr",
     "output_type": "stream",
     "text": [
      "<timed exec>:63: SettingWithCopyWarning: \n",
      "A value is trying to be set on a copy of a slice from a DataFrame.\n",
      "Try using .loc[row_indexer,col_indexer] = value instead\n",
      "\n",
      "See the caveats in the documentation: https://pandas.pydata.org/pandas-docs/stable/user_guide/indexing.html#returning-a-view-versus-a-copy\n"
     ]
    },
    {
     "name": "stdout",
     "output_type": "stream",
     "text": [
      "Saved time series visualization for StackOverflow - Topic: location  sql  job  to /Users/tnathu-ai/VSCode/Government-Digital-Transformation/assets/images/stackoverflow_time_series_analysis_location  sql  job .png\n",
      "Saved sentiment analysis for StackOverflow to /Users/tnathu-ai/VSCode/Government-Digital-Transformation/data/intermediate/analysis/stackoverflow_sentiment_analysis.txt\n",
      "Extracted Topic: (0, '0.027*\"line\" + 0.025*\"file\" + 0.010*\"url\" + 0.009*\"import\" + 0.007*\"py\"')\n",
      "Extracted Topic: (1, '0.020*\"journal\" + 0.020*\"na\" + 0.020*\"science\" + 0.014*\"economics\" + 0.011*\"research\"')\n",
      "Extracted Topic: (2, '0.033*\"na\" + 0.018*\"yes\" + 0.016*\"developer\" + 0.010*\"company\" + 0.010*\"etc\"')\n",
      "Extracted Topic: (3, '0.019*\"covid19\" + 0.015*\"people\" + 0.013*\"vaccine\" + 0.011*\"covid\" + 0.010*\"get\"')\n",
      "Extracted Topic: (4, '0.103*\"university\" + 0.054*\"option\" + 0.026*\"na\" + 0.015*\"notreported\" + 0.015*\"college\"')\n",
      "Saved topic modeling for StackOverflow to /Users/tnathu-ai/VSCode/Government-Digital-Transformation/data/intermediate/analysis/stackoverflow_topic_modeling.txt\n",
      "Saved qualitative analysis for StackOverflow to /Users/tnathu-ai/VSCode/Government-Digital-Transformation/data/intermediate/analysis/stackoverflow_qualitative_analysis.txt\n",
      "Saved time series visualization for StackOverflow - Topic: line  file  url  to /Users/tnathu-ai/VSCode/Government-Digital-Transformation/assets/images/stackoverflow_time_series_analysis_line  file  url .png\n"
     ]
    },
    {
     "name": "stderr",
     "output_type": "stream",
     "text": [
      "<timed exec>:63: SettingWithCopyWarning: \n",
      "A value is trying to be set on a copy of a slice from a DataFrame.\n",
      "Try using .loc[row_indexer,col_indexer] = value instead\n",
      "\n",
      "See the caveats in the documentation: https://pandas.pydata.org/pandas-docs/stable/user_guide/indexing.html#returning-a-view-versus-a-copy\n"
     ]
    },
    {
     "name": "stdout",
     "output_type": "stream",
     "text": [
      "Saved time series visualization for StackOverflow - Topic: journal  na  science  to /Users/tnathu-ai/VSCode/Government-Digital-Transformation/assets/images/stackoverflow_time_series_analysis_journal  na  science .png\n",
      "Saved time series visualization for StackOverflow - Topic: na  yes  developer  to /Users/tnathu-ai/VSCode/Government-Digital-Transformation/assets/images/stackoverflow_time_series_analysis_na  yes  developer .png\n"
     ]
    },
    {
     "name": "stderr",
     "output_type": "stream",
     "text": [
      "<timed exec>:63: SettingWithCopyWarning: \n",
      "A value is trying to be set on a copy of a slice from a DataFrame.\n",
      "Try using .loc[row_indexer,col_indexer] = value instead\n",
      "\n",
      "See the caveats in the documentation: https://pandas.pydata.org/pandas-docs/stable/user_guide/indexing.html#returning-a-view-versus-a-copy\n"
     ]
    },
    {
     "name": "stdout",
     "output_type": "stream",
     "text": [
      "Saved time series visualization for StackOverflow - Topic: covid19  people  vaccine  to /Users/tnathu-ai/VSCode/Government-Digital-Transformation/assets/images/stackoverflow_time_series_analysis_covid19  people  vaccine .png\n",
      "Saved time series visualization for StackOverflow - Topic: university  option  na  to /Users/tnathu-ai/VSCode/Government-Digital-Transformation/assets/images/stackoverflow_time_series_analysis_university  option  na .png\n",
      "Saved sentiment analysis for StackOverflow to /Users/tnathu-ai/VSCode/Government-Digital-Transformation/data/intermediate/analysis/stackoverflow_sentiment_analysis.txt\n",
      "Extracted Topic: (0, '0.022*\"data\" + 0.012*\"select\" + 0.011*\"like\" + 0.011*\"regional\" + 0.010*\"statistics\"')\n",
      "Extracted Topic: (1, '0.012*\"pcount\" + 0.010*\"file\" + 0.010*\"tncount\" + 0.009*\"sncount\" + 0.008*\"polygons\"')\n",
      "Extracted Topic: (2, '0.018*\"data\" + 0.013*\"using\" + 0.013*\"shapefile\" + 0.012*\"im\" + 0.011*\"plot\"')\n",
      "Extracted Topic: (3, '0.017*\"20601110501\" + 0.015*\"20401106101\" + 0.013*\"example\" + 0.011*\"im\" + 0.011*\"would\"')\n",
      "Extracted Topic: (4, '0.019*\"dataframe\" + 0.015*\"value\" + 0.014*\"data\" + 0.013*\"map\" + 0.012*\"obs\"')\n",
      "Saved topic modeling for StackOverflow to /Users/tnathu-ai/VSCode/Government-Digital-Transformation/data/intermediate/analysis/stackoverflow_topic_modeling.txt\n",
      "Saved qualitative analysis for StackOverflow to /Users/tnathu-ai/VSCode/Government-Digital-Transformation/data/intermediate/analysis/stackoverflow_qualitative_analysis.txt\n",
      "Saved time series visualization for StackOverflow - Topic: data  select  like  to /Users/tnathu-ai/VSCode/Government-Digital-Transformation/assets/images/stackoverflow_time_series_analysis_data  select  like .png\n"
     ]
    },
    {
     "name": "stderr",
     "output_type": "stream",
     "text": [
      "<timed exec>:63: SettingWithCopyWarning: \n",
      "A value is trying to be set on a copy of a slice from a DataFrame.\n",
      "Try using .loc[row_indexer,col_indexer] = value instead\n",
      "\n",
      "See the caveats in the documentation: https://pandas.pydata.org/pandas-docs/stable/user_guide/indexing.html#returning-a-view-versus-a-copy\n",
      "<timed exec>:63: SettingWithCopyWarning: \n",
      "A value is trying to be set on a copy of a slice from a DataFrame.\n",
      "Try using .loc[row_indexer,col_indexer] = value instead\n",
      "\n",
      "See the caveats in the documentation: https://pandas.pydata.org/pandas-docs/stable/user_guide/indexing.html#returning-a-view-versus-a-copy\n"
     ]
    },
    {
     "name": "stdout",
     "output_type": "stream",
     "text": [
      "Saved time series visualization for StackOverflow - Topic: pcount  file  tncount  to /Users/tnathu-ai/VSCode/Government-Digital-Transformation/assets/images/stackoverflow_time_series_analysis_pcount  file  tncount .png\n",
      "Saved time series visualization for StackOverflow - Topic: data  using  shapefile  to /Users/tnathu-ai/VSCode/Government-Digital-Transformation/assets/images/stackoverflow_time_series_analysis_data  using  shapefile .png\n"
     ]
    },
    {
     "name": "stderr",
     "output_type": "stream",
     "text": [
      "<timed exec>:63: SettingWithCopyWarning: \n",
      "A value is trying to be set on a copy of a slice from a DataFrame.\n",
      "Try using .loc[row_indexer,col_indexer] = value instead\n",
      "\n",
      "See the caveats in the documentation: https://pandas.pydata.org/pandas-docs/stable/user_guide/indexing.html#returning-a-view-versus-a-copy\n",
      "<timed exec>:63: SettingWithCopyWarning: \n",
      "A value is trying to be set on a copy of a slice from a DataFrame.\n",
      "Try using .loc[row_indexer,col_indexer] = value instead\n",
      "\n",
      "See the caveats in the documentation: https://pandas.pydata.org/pandas-docs/stable/user_guide/indexing.html#returning-a-view-versus-a-copy\n"
     ]
    },
    {
     "name": "stdout",
     "output_type": "stream",
     "text": [
      "Saved time series visualization for StackOverflow - Topic: 20601110501  20401106101  example  to /Users/tnathu-ai/VSCode/Government-Digital-Transformation/assets/images/stackoverflow_time_series_analysis_20601110501  20401106101  example .png\n",
      "Saved time series visualization for StackOverflow - Topic: dataframe  value  data  to /Users/tnathu-ai/VSCode/Government-Digital-Transformation/assets/images/stackoverflow_time_series_analysis_dataframe  value  data .png\n"
     ]
    },
    {
     "name": "stderr",
     "output_type": "stream",
     "text": [
      "<timed exec>:63: SettingWithCopyWarning: \n",
      "A value is trying to be set on a copy of a slice from a DataFrame.\n",
      "Try using .loc[row_indexer,col_indexer] = value instead\n",
      "\n",
      "See the caveats in the documentation: https://pandas.pydata.org/pandas-docs/stable/user_guide/indexing.html#returning-a-view-versus-a-copy\n"
     ]
    },
    {
     "name": "stdout",
     "output_type": "stream",
     "text": [
      "Saved sentiment analysis for StackOverflow to /Users/tnathu-ai/VSCode/Government-Digital-Transformation/data/intermediate/analysis/stackoverflow_sentiment_analysis.txt\n",
      "Extracted Topic: (0, '0.005*\"file\" + 0.005*\"line\" + 0.005*\"package\" + 0.005*\"return\" + 0.005*\"textrank\"')\n",
      "Extracted Topic: (1, '0.005*\"file\" + 0.005*\"line\" + 0.005*\"package\" + 0.005*\"return\" + 0.005*\"use\"')\n",
      "Extracted Topic: (2, '0.005*\"file\" + 0.005*\"line\" + 0.005*\"unzip1\" + 0.005*\"package\" + 0.005*\"use\"')\n",
      "Extracted Topic: (3, '0.005*\"file\" + 0.005*\"line\" + 0.005*\"package\" + 0.005*\"return\" + 0.005*\"unzip1\"')\n",
      "Extracted Topic: (4, '0.034*\"file\" + 0.031*\"line\" + 0.022*\"package\" + 0.017*\"return\" + 0.016*\"unzip1\"')\n",
      "Saved topic modeling for StackOverflow to /Users/tnathu-ai/VSCode/Government-Digital-Transformation/data/intermediate/analysis/stackoverflow_topic_modeling.txt\n",
      "Saved qualitative analysis for StackOverflow to /Users/tnathu-ai/VSCode/Government-Digital-Transformation/data/intermediate/analysis/stackoverflow_qualitative_analysis.txt\n",
      "Saved time series visualization for StackOverflow - Topic: file  line  package  to /Users/tnathu-ai/VSCode/Government-Digital-Transformation/assets/images/stackoverflow_time_series_analysis_file  line  package .png\n",
      "Saved time series visualization for StackOverflow - Topic: file  line  package  to /Users/tnathu-ai/VSCode/Government-Digital-Transformation/assets/images/stackoverflow_time_series_analysis_file  line  package .png\n",
      "Saved time series visualization for StackOverflow - Topic: file  line  unzip1  to /Users/tnathu-ai/VSCode/Government-Digital-Transformation/assets/images/stackoverflow_time_series_analysis_file  line  unzip1 .png\n",
      "Saved time series visualization for StackOverflow - Topic: file  line  package  to /Users/tnathu-ai/VSCode/Government-Digital-Transformation/assets/images/stackoverflow_time_series_analysis_file  line  package .png\n",
      "Saved time series visualization for StackOverflow - Topic: file  line  package  to /Users/tnathu-ai/VSCode/Government-Digital-Transformation/assets/images/stackoverflow_time_series_analysis_file  line  package .png\n",
      "Saved sentiment analysis for StackOverflow to /Users/tnathu-ai/VSCode/Government-Digital-Transformation/data/intermediate/analysis/stackoverflow_sentiment_analysis.txt\n",
      "Extracted Topic: (0, '0.032*\"line\" + 0.029*\"file\" + 0.011*\"url\" + 0.010*\"import\" + 0.008*\"py\"')\n",
      "Extracted Topic: (1, '0.001*\"line\" + 0.001*\"file\" + 0.001*\"url\" + 0.001*\"send\" + 0.001*\"import\"')\n",
      "Extracted Topic: (2, '0.025*\"im\" + 0.015*\"save\" + 0.015*\"date\" + 0.015*\"js\" + 0.015*\"api\"')\n",
      "Extracted Topic: (3, '0.028*\"systems\" + 0.018*\"data\" + 0.017*\"company\" + 0.016*\"view\" + 0.015*\"long\"')\n",
      "Extracted Topic: (4, '0.045*\"problem\" + 0.039*\"data\" + 0.034*\"energy\" + 0.027*\"years\" + 0.018*\"australian\"')\n",
      "Saved topic modeling for StackOverflow to /Users/tnathu-ai/VSCode/Government-Digital-Transformation/data/intermediate/analysis/stackoverflow_topic_modeling.txt\n",
      "Saved qualitative analysis for StackOverflow to /Users/tnathu-ai/VSCode/Government-Digital-Transformation/data/intermediate/analysis/stackoverflow_qualitative_analysis.txt\n",
      "Saved time series visualization for StackOverflow - Topic: line  file  url  to /Users/tnathu-ai/VSCode/Government-Digital-Transformation/assets/images/stackoverflow_time_series_analysis_line  file  url .png\n",
      "Saved time series visualization for StackOverflow - Topic: line  file  url  to /Users/tnathu-ai/VSCode/Government-Digital-Transformation/assets/images/stackoverflow_time_series_analysis_line  file  url .png\n",
      "Saved time series visualization for StackOverflow - Topic: im  save  date  to /Users/tnathu-ai/VSCode/Government-Digital-Transformation/assets/images/stackoverflow_time_series_analysis_im  save  date .png\n",
      "Saved time series visualization for StackOverflow - Topic: systems  data  company  to /Users/tnathu-ai/VSCode/Government-Digital-Transformation/assets/images/stackoverflow_time_series_analysis_systems  data  company .png\n",
      "Saved time series visualization for StackOverflow - Topic: problem  data  energy  to /Users/tnathu-ai/VSCode/Government-Digital-Transformation/assets/images/stackoverflow_time_series_analysis_problem  data  energy .png\n",
      "Saved sentiment analysis for StackOverflow to /Users/tnathu-ai/VSCode/Government-Digital-Transformation/data/intermediate/analysis/stackoverflow_sentiment_analysis.txt\n",
      "Extracted Topic: (0, '0.012*\"experience\" + 0.010*\"product\" + 0.010*\"india\" + 0.009*\"also\" + 0.009*\"rajesh\"')\n",
      "Extracted Topic: (1, '0.001*\"dd\" + 0.001*\"dt\" + 0.001*\"business\" + 0.001*\"td\" + 0.001*\"tr\"')\n",
      "Extracted Topic: (2, '0.001*\"dd\" + 0.001*\"dt\" + 0.001*\"experience\" + 0.001*\"business\" + 0.001*\"rajesh\"')\n",
      "Extracted Topic: (3, '0.092*\"dd\" + 0.041*\"dt\" + 0.015*\"business\" + 0.012*\"least\" + 0.011*\"tr\"')\n",
      "Extracted Topic: (4, '0.001*\"dd\" + 0.001*\"dt\" + 0.001*\"business\" + 0.001*\"product\" + 0.001*\"tr\"')\n",
      "Saved topic modeling for StackOverflow to /Users/tnathu-ai/VSCode/Government-Digital-Transformation/data/intermediate/analysis/stackoverflow_topic_modeling.txt\n",
      "Saved qualitative analysis for StackOverflow to /Users/tnathu-ai/VSCode/Government-Digital-Transformation/data/intermediate/analysis/stackoverflow_qualitative_analysis.txt\n",
      "Saved time series visualization for StackOverflow - Topic: experience  product  india  to /Users/tnathu-ai/VSCode/Government-Digital-Transformation/assets/images/stackoverflow_time_series_analysis_experience  product  india .png\n",
      "Saved time series visualization for StackOverflow - Topic: dd  dt  business  to /Users/tnathu-ai/VSCode/Government-Digital-Transformation/assets/images/stackoverflow_time_series_analysis_dd  dt  business .png\n",
      "Saved time series visualization for StackOverflow - Topic: dd  dt  experience  to /Users/tnathu-ai/VSCode/Government-Digital-Transformation/assets/images/stackoverflow_time_series_analysis_dd  dt  experience .png\n",
      "Saved time series visualization for StackOverflow - Topic: dd  dt  business  to /Users/tnathu-ai/VSCode/Government-Digital-Transformation/assets/images/stackoverflow_time_series_analysis_dd  dt  business .png\n",
      "Saved time series visualization for StackOverflow - Topic: dd  dt  business  to /Users/tnathu-ai/VSCode/Government-Digital-Transformation/assets/images/stackoverflow_time_series_analysis_dd  dt  business .png\n",
      "Saved sentiment analysis for StackOverflow to /Users/tnathu-ai/VSCode/Government-Digital-Transformation/data/intermediate/analysis/stackoverflow_sentiment_analysis.txt\n",
      "Extracted Topic: (0, '0.023*\"div\" + 0.020*\"news\" + 0.014*\"india\" + 0.012*\"li\" + 0.011*\"url\"')\n",
      "Extracted Topic: (1, '0.002*\"div\" + 0.002*\"news\" + 0.002*\"publishedat\" + 0.002*\"title\" + 0.002*\"url\"')\n",
      "Extracted Topic: (2, '0.002*\"div\" + 0.002*\"news\" + 0.002*\"li\" + 0.002*\"covid19\" + 0.002*\"publishedat\"')\n",
      "Extracted Topic: (3, '0.002*\"news\" + 0.002*\"div\" + 0.002*\"india\" + 0.002*\"urltoimage\" + 0.002*\"publishedat\"')\n",
      "Extracted Topic: (4, '0.002*\"div\" + 0.002*\"news\" + 0.002*\"li\" + 0.002*\"india\" + 0.002*\"url\"')\n",
      "Saved topic modeling for StackOverflow to /Users/tnathu-ai/VSCode/Government-Digital-Transformation/data/intermediate/analysis/stackoverflow_topic_modeling.txt\n",
      "Saved qualitative analysis for StackOverflow to /Users/tnathu-ai/VSCode/Government-Digital-Transformation/data/intermediate/analysis/stackoverflow_qualitative_analysis.txt\n",
      "Saved time series visualization for StackOverflow - Topic: div  news  india  to /Users/tnathu-ai/VSCode/Government-Digital-Transformation/assets/images/stackoverflow_time_series_analysis_div  news  india .png\n",
      "Saved time series visualization for StackOverflow - Topic: div  news  publishedat  to /Users/tnathu-ai/VSCode/Government-Digital-Transformation/assets/images/stackoverflow_time_series_analysis_div  news  publishedat .png\n",
      "Saved time series visualization for StackOverflow - Topic: div  news  li  to /Users/tnathu-ai/VSCode/Government-Digital-Transformation/assets/images/stackoverflow_time_series_analysis_div  news  li .png\n",
      "Saved time series visualization for StackOverflow - Topic: news  div  india  to /Users/tnathu-ai/VSCode/Government-Digital-Transformation/assets/images/stackoverflow_time_series_analysis_news  div  india .png\n",
      "Saved time series visualization for StackOverflow - Topic: div  news  li  to /Users/tnathu-ai/VSCode/Government-Digital-Transformation/assets/images/stackoverflow_time_series_analysis_div  news  li .png\n",
      "Saved sentiment analysis for StackOverflow to /Users/tnathu-ai/VSCode/Government-Digital-Transformation/data/intermediate/analysis/stackoverflow_sentiment_analysis.txt\n",
      "Extracted Topic: (0, '0.046*\"list\" + 0.033*\"political\" + 0.024*\"politics\" + 0.009*\"activism\" + 0.009*\"public\"')\n",
      "Extracted Topic: (1, '0.001*\"list\" + 0.001*\"political\" + 0.001*\"politics\" + 0.001*\"science\" + 0.001*\"activism\"')\n",
      "Extracted Topic: (2, '0.001*\"product\" + 0.001*\"experience\" + 0.001*\"rajesh\" + 0.001*\"also\" + 0.001*\"data\"')\n",
      "Extracted Topic: (3, '0.012*\"experience\" + 0.011*\"india\" + 0.011*\"product\" + 0.009*\"also\" + 0.009*\"rajesh\"')\n",
      "Extracted Topic: (4, '0.001*\"list\" + 0.001*\"political\" + 0.001*\"experience\" + 0.001*\"india\" + 0.001*\"also\"')\n",
      "Saved topic modeling for StackOverflow to /Users/tnathu-ai/VSCode/Government-Digital-Transformation/data/intermediate/analysis/stackoverflow_topic_modeling.txt\n",
      "Saved qualitative analysis for StackOverflow to /Users/tnathu-ai/VSCode/Government-Digital-Transformation/data/intermediate/analysis/stackoverflow_qualitative_analysis.txt\n",
      "Saved time series visualization for StackOverflow - Topic: list  political  politics  to /Users/tnathu-ai/VSCode/Government-Digital-Transformation/assets/images/stackoverflow_time_series_analysis_list  political  politics .png\n"
     ]
    },
    {
     "name": "stderr",
     "output_type": "stream",
     "text": [
      "<timed exec>:63: SettingWithCopyWarning: \n",
      "A value is trying to be set on a copy of a slice from a DataFrame.\n",
      "Try using .loc[row_indexer,col_indexer] = value instead\n",
      "\n",
      "See the caveats in the documentation: https://pandas.pydata.org/pandas-docs/stable/user_guide/indexing.html#returning-a-view-versus-a-copy\n",
      "<timed exec>:63: SettingWithCopyWarning: \n",
      "A value is trying to be set on a copy of a slice from a DataFrame.\n",
      "Try using .loc[row_indexer,col_indexer] = value instead\n",
      "\n",
      "See the caveats in the documentation: https://pandas.pydata.org/pandas-docs/stable/user_guide/indexing.html#returning-a-view-versus-a-copy\n"
     ]
    },
    {
     "name": "stdout",
     "output_type": "stream",
     "text": [
      "Saved time series visualization for StackOverflow - Topic: list  political  politics  to /Users/tnathu-ai/VSCode/Government-Digital-Transformation/assets/images/stackoverflow_time_series_analysis_list  political  politics .png\n",
      "Saved time series visualization for StackOverflow - Topic: product  experience  rajesh  to /Users/tnathu-ai/VSCode/Government-Digital-Transformation/assets/images/stackoverflow_time_series_analysis_product  experience  rajesh .png\n",
      "Saved time series visualization for StackOverflow - Topic: experience  india  product  to /Users/tnathu-ai/VSCode/Government-Digital-Transformation/assets/images/stackoverflow_time_series_analysis_experience  india  product .png\n",
      "Saved time series visualization for StackOverflow - Topic: list  political  experience  to /Users/tnathu-ai/VSCode/Government-Digital-Transformation/assets/images/stackoverflow_time_series_analysis_list  political  experience .png\n",
      "Saved sentiment analysis for StackOverflow to /Users/tnathu-ai/VSCode/Government-Digital-Transformation/data/intermediate/analysis/stackoverflow_sentiment_analysis.txt\n",
      "Extracted Topic: (0, '0.073*\"option\" + 0.018*\"na\" + 0.010*\"yes\" + 0.009*\"developer\" + 0.008*\"engineering\"')\n",
      "Extracted Topic: (1, '0.000*\"option\" + 0.000*\"na\" + 0.000*\"im\" + 0.000*\"etc\" + 0.000*\"yes\"')\n",
      "Extracted Topic: (2, '0.040*\"iphone\" + 0.035*\"sourcenamesocialgist\" + 0.023*\"langenglish\" + 0.020*\"summary\" + 0.017*\"followercount0\"')\n",
      "Extracted Topic: (3, '0.011*\"im\" + 0.009*\"love\" + 0.008*\"people\" + 0.007*\"like\" + 0.006*\"friends\"')\n",
      "Extracted Topic: (4, '0.000*\"option\" + 0.000*\"na\" + 0.000*\"yes\" + 0.000*\"like\" + 0.000*\"etc\"')\n",
      "Saved topic modeling for StackOverflow to /Users/tnathu-ai/VSCode/Government-Digital-Transformation/data/intermediate/analysis/stackoverflow_topic_modeling.txt\n",
      "Saved qualitative analysis for StackOverflow to /Users/tnathu-ai/VSCode/Government-Digital-Transformation/data/intermediate/analysis/stackoverflow_qualitative_analysis.txt\n",
      "Saved time series visualization for StackOverflow - Topic: option  na  yes  to /Users/tnathu-ai/VSCode/Government-Digital-Transformation/assets/images/stackoverflow_time_series_analysis_option  na  yes .png\n",
      "Saved time series visualization for StackOverflow - Topic: option  na  im  to /Users/tnathu-ai/VSCode/Government-Digital-Transformation/assets/images/stackoverflow_time_series_analysis_option  na  im .png\n",
      "Saved time series visualization for StackOverflow - Topic: iphone  sourcenamesocialgist  langenglish  to /Users/tnathu-ai/VSCode/Government-Digital-Transformation/assets/images/stackoverflow_time_series_analysis_iphone  sourcenamesocialgist  langenglish .png\n"
     ]
    },
    {
     "name": "stderr",
     "output_type": "stream",
     "text": [
      "<timed exec>:63: SettingWithCopyWarning: \n",
      "A value is trying to be set on a copy of a slice from a DataFrame.\n",
      "Try using .loc[row_indexer,col_indexer] = value instead\n",
      "\n",
      "See the caveats in the documentation: https://pandas.pydata.org/pandas-docs/stable/user_guide/indexing.html#returning-a-view-versus-a-copy\n"
     ]
    },
    {
     "name": "stdout",
     "output_type": "stream",
     "text": [
      "Saved time series visualization for StackOverflow - Topic: im  love  people  to /Users/tnathu-ai/VSCode/Government-Digital-Transformation/assets/images/stackoverflow_time_series_analysis_im  love  people .png\n",
      "Saved time series visualization for StackOverflow - Topic: option  na  yes  to /Users/tnathu-ai/VSCode/Government-Digital-Transformation/assets/images/stackoverflow_time_series_analysis_option  na  yes .png\n",
      "Saved sentiment analysis for StackOverflow to /Users/tnathu-ai/VSCode/Government-Digital-Transformation/data/intermediate/analysis/stackoverflow_sentiment_analysis.txt\n",
      "Extracted Topic: (0, '0.018*\"data\" + 0.009*\"also\" + 0.008*\"experience\" + 0.008*\"map\" + 0.007*\"india\"')\n",
      "Extracted Topic: (1, '0.052*\"dd\" + 0.023*\"dt\" + 0.011*\"li\" + 0.009*\"business\" + 0.008*\"div\"')\n",
      "Extracted Topic: (2, '0.020*\"lia\" + 0.013*\"classfa\" + 0.013*\"ariahiddentruei\" + 0.012*\"div\" + 0.010*\"none\"')\n",
      "Extracted Topic: (3, '0.016*\"iphone\" + 0.014*\"sourcenamesocialgist\" + 0.009*\"langenglish\" + 0.008*\"summary\" + 0.007*\"south\"')\n",
      "Extracted Topic: (4, '0.013*\"data\" + 0.009*\"div\" + 0.006*\"code\" + 0.006*\"function\" + 0.006*\"option\"')\n",
      "Saved topic modeling for StackOverflow to /Users/tnathu-ai/VSCode/Government-Digital-Transformation/data/intermediate/analysis/stackoverflow_topic_modeling.txt\n",
      "Saved qualitative analysis for StackOverflow to /Users/tnathu-ai/VSCode/Government-Digital-Transformation/data/intermediate/analysis/stackoverflow_qualitative_analysis.txt\n",
      "Saved time series visualization for StackOverflow - Topic: data  also  experience  to /Users/tnathu-ai/VSCode/Government-Digital-Transformation/assets/images/stackoverflow_time_series_analysis_data  also  experience .png\n",
      "Saved time series visualization for StackOverflow - Topic: dd  dt  li  to /Users/tnathu-ai/VSCode/Government-Digital-Transformation/assets/images/stackoverflow_time_series_analysis_dd  dt  li .png\n",
      "Saved time series visualization for StackOverflow - Topic: lia  classfa  ariahiddentruei  to /Users/tnathu-ai/VSCode/Government-Digital-Transformation/assets/images/stackoverflow_time_series_analysis_lia  classfa  ariahiddentruei .png\n"
     ]
    },
    {
     "name": "stderr",
     "output_type": "stream",
     "text": [
      "<timed exec>:63: SettingWithCopyWarning: \n",
      "A value is trying to be set on a copy of a slice from a DataFrame.\n",
      "Try using .loc[row_indexer,col_indexer] = value instead\n",
      "\n",
      "See the caveats in the documentation: https://pandas.pydata.org/pandas-docs/stable/user_guide/indexing.html#returning-a-view-versus-a-copy\n"
     ]
    },
    {
     "name": "stdout",
     "output_type": "stream",
     "text": [
      "Saved time series visualization for StackOverflow - Topic: iphone  sourcenamesocialgist  langenglish  to /Users/tnathu-ai/VSCode/Government-Digital-Transformation/assets/images/stackoverflow_time_series_analysis_iphone  sourcenamesocialgist  langenglish .png\n",
      "Saved time series visualization for StackOverflow - Topic: data  div  code  to /Users/tnathu-ai/VSCode/Government-Digital-Transformation/assets/images/stackoverflow_time_series_analysis_data  div  code .png\n",
      "Saved sentiment analysis for StackOverflow to /Users/tnathu-ai/VSCode/Government-Digital-Transformation/data/intermediate/analysis/stackoverflow_sentiment_analysis.txt\n",
      "Extracted Topic: (0, '0.022*\"model\" + 0.022*\"300\" + 0.017*\"list\" + 0.015*\"sentences\" + 0.013*\"network\"')\n",
      "Extracted Topic: (1, '0.031*\"australia\" + 0.026*\"census\" + 0.020*\"like\" + 0.020*\"american\" + 0.020*\"football\"')\n",
      "Extracted Topic: (2, '0.014*\"covid19\" + 0.009*\"said\" + 0.009*\"cases\" + 0.007*\"million\" + 0.007*\"us\"')\n",
      "Extracted Topic: (3, '0.001*\"data\" + 0.001*\"cases\" + 0.001*\"covid19\" + 0.001*\"said\" + 0.001*\"also\"')\n",
      "Extracted Topic: (4, '0.024*\"data\" + 0.016*\"ipv4\" + 0.015*\"internet\" + 0.014*\"addresses\" + 0.013*\"understand\"')\n",
      "Saved topic modeling for StackOverflow to /Users/tnathu-ai/VSCode/Government-Digital-Transformation/data/intermediate/analysis/stackoverflow_topic_modeling.txt\n",
      "Saved qualitative analysis for StackOverflow to /Users/tnathu-ai/VSCode/Government-Digital-Transformation/data/intermediate/analysis/stackoverflow_qualitative_analysis.txt\n"
     ]
    },
    {
     "name": "stderr",
     "output_type": "stream",
     "text": [
      "<timed exec>:63: SettingWithCopyWarning: \n",
      "A value is trying to be set on a copy of a slice from a DataFrame.\n",
      "Try using .loc[row_indexer,col_indexer] = value instead\n",
      "\n",
      "See the caveats in the documentation: https://pandas.pydata.org/pandas-docs/stable/user_guide/indexing.html#returning-a-view-versus-a-copy\n"
     ]
    },
    {
     "name": "stdout",
     "output_type": "stream",
     "text": [
      "Saved time series visualization for StackOverflow - Topic: model  300  list  to /Users/tnathu-ai/VSCode/Government-Digital-Transformation/assets/images/stackoverflow_time_series_analysis_model  300  list .png\n",
      "Saved time series visualization for StackOverflow - Topic: australia  census  like  to /Users/tnathu-ai/VSCode/Government-Digital-Transformation/assets/images/stackoverflow_time_series_analysis_australia  census  like .png\n"
     ]
    },
    {
     "name": "stderr",
     "output_type": "stream",
     "text": [
      "<timed exec>:63: SettingWithCopyWarning: \n",
      "A value is trying to be set on a copy of a slice from a DataFrame.\n",
      "Try using .loc[row_indexer,col_indexer] = value instead\n",
      "\n",
      "See the caveats in the documentation: https://pandas.pydata.org/pandas-docs/stable/user_guide/indexing.html#returning-a-view-versus-a-copy\n",
      "<timed exec>:63: SettingWithCopyWarning: \n",
      "A value is trying to be set on a copy of a slice from a DataFrame.\n",
      "Try using .loc[row_indexer,col_indexer] = value instead\n",
      "\n",
      "See the caveats in the documentation: https://pandas.pydata.org/pandas-docs/stable/user_guide/indexing.html#returning-a-view-versus-a-copy\n"
     ]
    },
    {
     "name": "stdout",
     "output_type": "stream",
     "text": [
      "Saved time series visualization for StackOverflow - Topic: covid19  said  cases  to /Users/tnathu-ai/VSCode/Government-Digital-Transformation/assets/images/stackoverflow_time_series_analysis_covid19  said  cases .png\n",
      "Saved time series visualization for StackOverflow - Topic: data  cases  covid19  to /Users/tnathu-ai/VSCode/Government-Digital-Transformation/assets/images/stackoverflow_time_series_analysis_data  cases  covid19 .png\n"
     ]
    },
    {
     "name": "stderr",
     "output_type": "stream",
     "text": [
      "<timed exec>:63: SettingWithCopyWarning: \n",
      "A value is trying to be set on a copy of a slice from a DataFrame.\n",
      "Try using .loc[row_indexer,col_indexer] = value instead\n",
      "\n",
      "See the caveats in the documentation: https://pandas.pydata.org/pandas-docs/stable/user_guide/indexing.html#returning-a-view-versus-a-copy\n"
     ]
    },
    {
     "name": "stdout",
     "output_type": "stream",
     "text": [
      "Saved time series visualization for StackOverflow - Topic: data  ipv4  internet  to /Users/tnathu-ai/VSCode/Government-Digital-Transformation/assets/images/stackoverflow_time_series_analysis_data  ipv4  internet .png\n",
      "Saved sentiment analysis for StackOverflow to /Users/tnathu-ai/VSCode/Government-Digital-Transformation/data/intermediate/analysis/stackoverflow_sentiment_analysis.txt\n",
      "Extracted Topic: (0, '0.013*\"city\" + 0.008*\"title\" + 0.007*\"time\" + 0.006*\"description\" + 0.006*\"link\"')\n",
      "Extracted Topic: (1, '0.015*\"covid19\" + 0.015*\"covid\" + 0.012*\"cases\" + 0.009*\"import\" + 0.008*\"get\"')\n",
      "Extracted Topic: (2, '0.009*\"comedy\" + 0.007*\"import\" + 0.007*\"enclosureurl\" + 0.007*\"comedian\" + 0.006*\"pubdate\"')\n",
      "Extracted Topic: (3, '0.049*\"code\" + 0.048*\"name\" + 0.010*\"div\" + 0.009*\"covid19\" + 0.006*\"let\"')\n",
      "Extracted Topic: (4, '0.016*\"name\" + 0.016*\"id\" + 0.011*\"logo\" + 0.010*\"data\" + 0.006*\"title\"')\n",
      "Saved topic modeling for StackOverflow to /Users/tnathu-ai/VSCode/Government-Digital-Transformation/data/intermediate/analysis/stackoverflow_topic_modeling.txt\n",
      "Saved qualitative analysis for StackOverflow to /Users/tnathu-ai/VSCode/Government-Digital-Transformation/data/intermediate/analysis/stackoverflow_qualitative_analysis.txt\n"
     ]
    },
    {
     "name": "stderr",
     "output_type": "stream",
     "text": [
      "<timed exec>:63: SettingWithCopyWarning: \n",
      "A value is trying to be set on a copy of a slice from a DataFrame.\n",
      "Try using .loc[row_indexer,col_indexer] = value instead\n",
      "\n",
      "See the caveats in the documentation: https://pandas.pydata.org/pandas-docs/stable/user_guide/indexing.html#returning-a-view-versus-a-copy\n"
     ]
    },
    {
     "name": "stdout",
     "output_type": "stream",
     "text": [
      "Saved time series visualization for StackOverflow - Topic: city  title  time  to /Users/tnathu-ai/VSCode/Government-Digital-Transformation/assets/images/stackoverflow_time_series_analysis_city  title  time .png\n",
      "Saved time series visualization for StackOverflow - Topic: covid19  covid  cases  to /Users/tnathu-ai/VSCode/Government-Digital-Transformation/assets/images/stackoverflow_time_series_analysis_covid19  covid  cases .png\n"
     ]
    },
    {
     "name": "stderr",
     "output_type": "stream",
     "text": [
      "<timed exec>:63: SettingWithCopyWarning: \n",
      "A value is trying to be set on a copy of a slice from a DataFrame.\n",
      "Try using .loc[row_indexer,col_indexer] = value instead\n",
      "\n",
      "See the caveats in the documentation: https://pandas.pydata.org/pandas-docs/stable/user_guide/indexing.html#returning-a-view-versus-a-copy\n"
     ]
    },
    {
     "name": "stdout",
     "output_type": "stream",
     "text": [
      "Saved time series visualization for StackOverflow - Topic: comedy  import  enclosureurl  to /Users/tnathu-ai/VSCode/Government-Digital-Transformation/assets/images/stackoverflow_time_series_analysis_comedy  import  enclosureurl .png\n"
     ]
    },
    {
     "name": "stderr",
     "output_type": "stream",
     "text": [
      "<timed exec>:63: SettingWithCopyWarning: \n",
      "A value is trying to be set on a copy of a slice from a DataFrame.\n",
      "Try using .loc[row_indexer,col_indexer] = value instead\n",
      "\n",
      "See the caveats in the documentation: https://pandas.pydata.org/pandas-docs/stable/user_guide/indexing.html#returning-a-view-versus-a-copy\n"
     ]
    },
    {
     "name": "stdout",
     "output_type": "stream",
     "text": [
      "Saved time series visualization for StackOverflow - Topic: code  name  div  to /Users/tnathu-ai/VSCode/Government-Digital-Transformation/assets/images/stackoverflow_time_series_analysis_code  name  div .png\n",
      "Saved time series visualization for StackOverflow - Topic: name  id  logo  to /Users/tnathu-ai/VSCode/Government-Digital-Transformation/assets/images/stackoverflow_time_series_analysis_name  id  logo .png\n",
      "Saved sentiment analysis for StackOverflow to /Users/tnathu-ai/VSCode/Government-Digital-Transformation/data/intermediate/analysis/stackoverflow_sentiment_analysis.txt\n",
      "Extracted Topic: (0, '0.017*\"cost\" + 0.016*\"import\" + 0.013*\"distributer\" + 0.012*\"quantity\" + 0.011*\"party\"')\n",
      "Extracted Topic: (1, '0.051*\"return\" + 0.048*\"def\" + 0.013*\"cost\" + 0.012*\"type\" + 0.012*\"fun\"')\n",
      "Extracted Topic: (2, '0.001*\"name\" + 0.001*\"value\" + 0.001*\"import\" + 0.001*\"cost\" + 0.001*\"quantity\"')\n",
      "Extracted Topic: (3, '0.001*\"return\" + 0.001*\"def\" + 0.001*\"fun\" + 0.001*\"10000\" + 0.001*\"type\"')\n",
      "Extracted Topic: (4, '0.183*\"name\" + 0.177*\"value\" + 0.007*\"data\" + 0.006*\"import\" + 0.006*\"reacthighcharts\"')\n",
      "Saved topic modeling for StackOverflow to /Users/tnathu-ai/VSCode/Government-Digital-Transformation/data/intermediate/analysis/stackoverflow_topic_modeling.txt\n",
      "Saved qualitative analysis for StackOverflow to /Users/tnathu-ai/VSCode/Government-Digital-Transformation/data/intermediate/analysis/stackoverflow_qualitative_analysis.txt\n",
      "Saved time series visualization for StackOverflow - Topic: cost  import  distributer  to /Users/tnathu-ai/VSCode/Government-Digital-Transformation/assets/images/stackoverflow_time_series_analysis_cost  import  distributer .png\n",
      "Saved time series visualization for StackOverflow - Topic: return  def  cost  to /Users/tnathu-ai/VSCode/Government-Digital-Transformation/assets/images/stackoverflow_time_series_analysis_return  def  cost .png\n",
      "Saved time series visualization for StackOverflow - Topic: name  value  import  to /Users/tnathu-ai/VSCode/Government-Digital-Transformation/assets/images/stackoverflow_time_series_analysis_name  value  import .png\n",
      "Saved time series visualization for StackOverflow - Topic: return  def  fun  to /Users/tnathu-ai/VSCode/Government-Digital-Transformation/assets/images/stackoverflow_time_series_analysis_return  def  fun .png\n",
      "Saved time series visualization for StackOverflow - Topic: name  value  data  to /Users/tnathu-ai/VSCode/Government-Digital-Transformation/assets/images/stackoverflow_time_series_analysis_name  value  data .png\n",
      "Saved sentiment analysis for StackOverflow to /Users/tnathu-ai/VSCode/Government-Digital-Transformation/data/intermediate/analysis/stackoverflow_sentiment_analysis.txt\n",
      "Extracted Topic: (0, '0.014*\"display\" + 0.010*\"na\" + 0.005*\"none\" + 0.004*\"0000\" + 0.003*\"south\"')\n",
      "Extracted Topic: (1, '0.006*\"div\" + 0.006*\"link\" + 0.005*\"title\" + 0.005*\"description\" + 0.004*\"covid19\"')\n",
      "Extracted Topic: (2, '0.009*\"null\" + 0.008*\"new\" + 0.006*\"property\" + 0.005*\"bean\" + 0.004*\"first\"')\n",
      "Extracted Topic: (3, '0.013*\"dd\" + 0.008*\"lia\" + 0.008*\"business\" + 0.007*\"health\" + 0.006*\"fitness\"')\n",
      "Extracted Topic: (4, '0.007*\"values\" + 0.006*\"insert\" + 0.004*\"islands\" + 0.003*\"answeroption\" + 0.003*\"time\"')\n",
      "Saved topic modeling for StackOverflow to /Users/tnathu-ai/VSCode/Government-Digital-Transformation/data/intermediate/analysis/stackoverflow_topic_modeling.txt\n",
      "Saved qualitative analysis for StackOverflow to /Users/tnathu-ai/VSCode/Government-Digital-Transformation/data/intermediate/analysis/stackoverflow_qualitative_analysis.txt\n"
     ]
    },
    {
     "name": "stderr",
     "output_type": "stream",
     "text": [
      "<timed exec>:63: SettingWithCopyWarning: \n",
      "A value is trying to be set on a copy of a slice from a DataFrame.\n",
      "Try using .loc[row_indexer,col_indexer] = value instead\n",
      "\n",
      "See the caveats in the documentation: https://pandas.pydata.org/pandas-docs/stable/user_guide/indexing.html#returning-a-view-versus-a-copy\n"
     ]
    },
    {
     "name": "stdout",
     "output_type": "stream",
     "text": [
      "Saved time series visualization for StackOverflow - Topic: display  na  none  to /Users/tnathu-ai/VSCode/Government-Digital-Transformation/assets/images/stackoverflow_time_series_analysis_display  na  none .png\n"
     ]
    },
    {
     "name": "stderr",
     "output_type": "stream",
     "text": [
      "<timed exec>:63: SettingWithCopyWarning: \n",
      "A value is trying to be set on a copy of a slice from a DataFrame.\n",
      "Try using .loc[row_indexer,col_indexer] = value instead\n",
      "\n",
      "See the caveats in the documentation: https://pandas.pydata.org/pandas-docs/stable/user_guide/indexing.html#returning-a-view-versus-a-copy\n",
      "<timed exec>:63: SettingWithCopyWarning: \n",
      "A value is trying to be set on a copy of a slice from a DataFrame.\n",
      "Try using .loc[row_indexer,col_indexer] = value instead\n",
      "\n",
      "See the caveats in the documentation: https://pandas.pydata.org/pandas-docs/stable/user_guide/indexing.html#returning-a-view-versus-a-copy\n"
     ]
    },
    {
     "name": "stdout",
     "output_type": "stream",
     "text": [
      "Saved time series visualization for StackOverflow - Topic: div  link  title  to /Users/tnathu-ai/VSCode/Government-Digital-Transformation/assets/images/stackoverflow_time_series_analysis_div  link  title .png\n",
      "Saved time series visualization for StackOverflow - Topic: null  new  property  to /Users/tnathu-ai/VSCode/Government-Digital-Transformation/assets/images/stackoverflow_time_series_analysis_null  new  property .png\n",
      "Saved time series visualization for StackOverflow - Topic: dd  lia  business  to /Users/tnathu-ai/VSCode/Government-Digital-Transformation/assets/images/stackoverflow_time_series_analysis_dd  lia  business .png\n"
     ]
    },
    {
     "name": "stderr",
     "output_type": "stream",
     "text": [
      "<timed exec>:63: SettingWithCopyWarning: \n",
      "A value is trying to be set on a copy of a slice from a DataFrame.\n",
      "Try using .loc[row_indexer,col_indexer] = value instead\n",
      "\n",
      "See the caveats in the documentation: https://pandas.pydata.org/pandas-docs/stable/user_guide/indexing.html#returning-a-view-versus-a-copy\n"
     ]
    },
    {
     "name": "stdout",
     "output_type": "stream",
     "text": [
      "Saved time series visualization for StackOverflow - Topic: values  insert  islands  to /Users/tnathu-ai/VSCode/Government-Digital-Transformation/assets/images/stackoverflow_time_series_analysis_values  insert  islands .png\n",
      "Saved sentiment analysis for StackOverflow to /Users/tnathu-ai/VSCode/Government-Digital-Transformation/data/intermediate/analysis/stackoverflow_sentiment_analysis.txt\n",
      "Extracted Topic: (0, '0.002*\"line\" + 0.002*\"file\" + 0.002*\"science\" + 0.002*\"economics\" + 0.002*\"economic\"')\n",
      "Extracted Topic: (1, '0.032*\"line\" + 0.029*\"file\" + 0.012*\"url\" + 0.010*\"import\" + 0.008*\"py\"')\n",
      "Extracted Topic: (2, '0.002*\"file\" + 0.002*\"line\" + 0.002*\"science\" + 0.002*\"url\" + 0.002*\"import\"')\n",
      "Extracted Topic: (3, '0.002*\"file\" + 0.002*\"line\" + 0.002*\"url\" + 0.002*\"py\" + 0.002*\"failed\"')\n",
      "Extracted Topic: (4, '0.038*\"science\" + 0.030*\"economics\" + 0.025*\"economic\" + 0.024*\"institute\" + 0.017*\"research\"')\n",
      "Saved topic modeling for StackOverflow to /Users/tnathu-ai/VSCode/Government-Digital-Transformation/data/intermediate/analysis/stackoverflow_topic_modeling.txt\n",
      "Saved qualitative analysis for StackOverflow to /Users/tnathu-ai/VSCode/Government-Digital-Transformation/data/intermediate/analysis/stackoverflow_qualitative_analysis.txt\n",
      "Saved time series visualization for StackOverflow - Topic: line  file  science  to /Users/tnathu-ai/VSCode/Government-Digital-Transformation/assets/images/stackoverflow_time_series_analysis_line  file  science .png\n",
      "Saved time series visualization for StackOverflow - Topic: line  file  url  to /Users/tnathu-ai/VSCode/Government-Digital-Transformation/assets/images/stackoverflow_time_series_analysis_line  file  url .png\n"
     ]
    },
    {
     "name": "stderr",
     "output_type": "stream",
     "text": [
      "<timed exec>:63: SettingWithCopyWarning: \n",
      "A value is trying to be set on a copy of a slice from a DataFrame.\n",
      "Try using .loc[row_indexer,col_indexer] = value instead\n",
      "\n",
      "See the caveats in the documentation: https://pandas.pydata.org/pandas-docs/stable/user_guide/indexing.html#returning-a-view-versus-a-copy\n"
     ]
    },
    {
     "name": "stdout",
     "output_type": "stream",
     "text": [
      "Saved time series visualization for StackOverflow - Topic: file  line  science  to /Users/tnathu-ai/VSCode/Government-Digital-Transformation/assets/images/stackoverflow_time_series_analysis_file  line  science .png\n",
      "Saved time series visualization for StackOverflow - Topic: file  line  url  to /Users/tnathu-ai/VSCode/Government-Digital-Transformation/assets/images/stackoverflow_time_series_analysis_file  line  url .png\n"
     ]
    },
    {
     "name": "stderr",
     "output_type": "stream",
     "text": [
      "<timed exec>:63: SettingWithCopyWarning: \n",
      "A value is trying to be set on a copy of a slice from a DataFrame.\n",
      "Try using .loc[row_indexer,col_indexer] = value instead\n",
      "\n",
      "See the caveats in the documentation: https://pandas.pydata.org/pandas-docs/stable/user_guide/indexing.html#returning-a-view-versus-a-copy\n"
     ]
    },
    {
     "name": "stdout",
     "output_type": "stream",
     "text": [
      "Saved time series visualization for StackOverflow - Topic: science  economics  economic  to /Users/tnathu-ai/VSCode/Government-Digital-Transformation/assets/images/stackoverflow_time_series_analysis_science  economics  economic .png\n",
      "Saved sentiment analysis for StackOverflow to /Users/tnathu-ai/VSCode/Government-Digital-Transformation/data/intermediate/analysis/stackoverflow_sentiment_analysis.txt\n",
      "Extracted Topic: (0, '0.042*\"div\" + 0.017*\"var\" + 0.014*\"else\" + 0.013*\"script\" + 0.011*\"await\"')\n",
      "Extracted Topic: (1, '0.001*\"div\" + 0.001*\"else\" + 0.001*\"create\" + 0.001*\"script\" + 0.001*\"var\"')\n",
      "Extracted Topic: (2, '0.031*\"database\" + 0.028*\"table\" + 0.028*\"create\" + 0.027*\"new\" + 0.018*\"insert\"')\n",
      "Extracted Topic: (3, '0.040*\"import\" + 0.019*\"private\" + 0.015*\"void\" + 0.012*\"override\" + 0.012*\"user\"')\n",
      "Extracted Topic: (4, '0.030*\"name\" + 0.021*\"council\" + 0.018*\"location\" + 0.014*\"folder\" + 0.014*\"text\"')\n",
      "Saved topic modeling for StackOverflow to /Users/tnathu-ai/VSCode/Government-Digital-Transformation/data/intermediate/analysis/stackoverflow_topic_modeling.txt\n",
      "Saved qualitative analysis for StackOverflow to /Users/tnathu-ai/VSCode/Government-Digital-Transformation/data/intermediate/analysis/stackoverflow_qualitative_analysis.txt\n",
      "Saved time series visualization for StackOverflow - Topic: div  var  else  to /Users/tnathu-ai/VSCode/Government-Digital-Transformation/assets/images/stackoverflow_time_series_analysis_div  var  else .png\n",
      "Saved time series visualization for StackOverflow - Topic: div  else  create  to /Users/tnathu-ai/VSCode/Government-Digital-Transformation/assets/images/stackoverflow_time_series_analysis_div  else  create .png\n",
      "Saved time series visualization for StackOverflow - Topic: database  table  create  to /Users/tnathu-ai/VSCode/Government-Digital-Transformation/assets/images/stackoverflow_time_series_analysis_database  table  create .png\n",
      "Saved time series visualization for StackOverflow - Topic: import  private  void  to /Users/tnathu-ai/VSCode/Government-Digital-Transformation/assets/images/stackoverflow_time_series_analysis_import  private  void .png\n"
     ]
    },
    {
     "name": "stderr",
     "output_type": "stream",
     "text": [
      "<timed exec>:63: SettingWithCopyWarning: \n",
      "A value is trying to be set on a copy of a slice from a DataFrame.\n",
      "Try using .loc[row_indexer,col_indexer] = value instead\n",
      "\n",
      "See the caveats in the documentation: https://pandas.pydata.org/pandas-docs/stable/user_guide/indexing.html#returning-a-view-versus-a-copy\n"
     ]
    },
    {
     "name": "stdout",
     "output_type": "stream",
     "text": [
      "Saved time series visualization for StackOverflow - Topic: name  council  location  to /Users/tnathu-ai/VSCode/Government-Digital-Transformation/assets/images/stackoverflow_time_series_analysis_name  council  location .png\n",
      "Saved sentiment analysis for StackOverflow to /Users/tnathu-ai/VSCode/Government-Digital-Transformation/data/intermediate/analysis/stackoverflow_sentiment_analysis.txt\n",
      "Extracted Topic: (0, '0.023*\"cents\" + 0.023*\"tax\" + 0.023*\"plus\" + 0.023*\"18200\" + 0.023*\"im\"')\n",
      "Extracted Topic: (1, '0.023*\"im\" + 0.023*\"using\" + 0.023*\"19\" + 0.023*\"must\" + 0.023*\"nil\"')\n",
      "Extracted Topic: (2, '0.069*\"tax\" + 0.066*\"cents\" + 0.052*\"plus\" + 0.035*\"45000\" + 0.035*\"120000\"')\n",
      "Extracted Topic: (3, '0.023*\"cents\" + 0.023*\"tax\" + 0.023*\"plus\" + 0.023*\"18200\" + 0.023*\"120000\"')\n",
      "Extracted Topic: (4, '0.023*\"im\" + 0.023*\"using\" + 0.023*\"however\" + 0.023*\"must\" + 0.023*\"laws\"')\n",
      "Saved topic modeling for StackOverflow to /Users/tnathu-ai/VSCode/Government-Digital-Transformation/data/intermediate/analysis/stackoverflow_topic_modeling.txt\n",
      "Saved qualitative analysis for StackOverflow to /Users/tnathu-ai/VSCode/Government-Digital-Transformation/data/intermediate/analysis/stackoverflow_qualitative_analysis.txt\n",
      "Saved time series visualization for StackOverflow - Topic: cents  tax  plus  to /Users/tnathu-ai/VSCode/Government-Digital-Transformation/assets/images/stackoverflow_time_series_analysis_cents  tax  plus .png\n",
      "Saved time series visualization for StackOverflow - Topic: im  using  19  to /Users/tnathu-ai/VSCode/Government-Digital-Transformation/assets/images/stackoverflow_time_series_analysis_im  using  19 .png\n",
      "Saved time series visualization for StackOverflow - Topic: tax  cents  plus  to /Users/tnathu-ai/VSCode/Government-Digital-Transformation/assets/images/stackoverflow_time_series_analysis_tax  cents  plus .png\n",
      "Saved time series visualization for StackOverflow - Topic: cents  tax  plus  to /Users/tnathu-ai/VSCode/Government-Digital-Transformation/assets/images/stackoverflow_time_series_analysis_cents  tax  plus .png\n",
      "Saved time series visualization for StackOverflow - Topic: im  using  however  to /Users/tnathu-ai/VSCode/Government-Digital-Transformation/assets/images/stackoverflow_time_series_analysis_im  using  however .png\n",
      "Saved sentiment analysis for StackOverflow to /Users/tnathu-ai/VSCode/Government-Digital-Transformation/data/intermediate/analysis/stackoverflow_sentiment_analysis.txt\n",
      "Extracted Topic: (0, '0.001*\"sports\" + 0.001*\"fitness\" + 0.001*\"health\" + 0.001*\"recreation\" + 0.001*\"travel\"')\n",
      "Extracted Topic: (1, '0.033*\"health\" + 0.031*\"fitness\" + 0.028*\"sports\" + 0.026*\"travel\" + 0.025*\"recreation\"')\n",
      "Extracted Topic: (2, '0.001*\"health\" + 0.001*\"fitness\" + 0.001*\"sports\" + 0.001*\"recreation\" + 0.001*\"travel\"')\n",
      "Extracted Topic: (3, '0.001*\"health\" + 0.001*\"fitness\" + 0.001*\"travel\" + 0.001*\"sports\" + 0.001*\"recreation\"')\n",
      "Extracted Topic: (4, '0.022*\"story\" + 0.019*\"year\" + 0.015*\"paragraph\" + 0.015*\"named\" + 0.015*\"cricketer\"')\n",
      "Saved topic modeling for StackOverflow to /Users/tnathu-ai/VSCode/Government-Digital-Transformation/data/intermediate/analysis/stackoverflow_topic_modeling.txt\n",
      "Saved qualitative analysis for StackOverflow to /Users/tnathu-ai/VSCode/Government-Digital-Transformation/data/intermediate/analysis/stackoverflow_qualitative_analysis.txt\n",
      "Saved time series visualization for StackOverflow - Topic: sports  fitness  health  to /Users/tnathu-ai/VSCode/Government-Digital-Transformation/assets/images/stackoverflow_time_series_analysis_sports  fitness  health .png\n",
      "Saved time series visualization for StackOverflow - Topic: health  fitness  sports  to /Users/tnathu-ai/VSCode/Government-Digital-Transformation/assets/images/stackoverflow_time_series_analysis_health  fitness  sports .png\n",
      "Saved time series visualization for StackOverflow - Topic: health  fitness  sports  to /Users/tnathu-ai/VSCode/Government-Digital-Transformation/assets/images/stackoverflow_time_series_analysis_health  fitness  sports .png\n"
     ]
    },
    {
     "name": "stderr",
     "output_type": "stream",
     "text": [
      "<timed exec>:63: SettingWithCopyWarning: \n",
      "A value is trying to be set on a copy of a slice from a DataFrame.\n",
      "Try using .loc[row_indexer,col_indexer] = value instead\n",
      "\n",
      "See the caveats in the documentation: https://pandas.pydata.org/pandas-docs/stable/user_guide/indexing.html#returning-a-view-versus-a-copy\n",
      "<timed exec>:63: SettingWithCopyWarning: \n",
      "A value is trying to be set on a copy of a slice from a DataFrame.\n",
      "Try using .loc[row_indexer,col_indexer] = value instead\n",
      "\n",
      "See the caveats in the documentation: https://pandas.pydata.org/pandas-docs/stable/user_guide/indexing.html#returning-a-view-versus-a-copy\n"
     ]
    },
    {
     "name": "stdout",
     "output_type": "stream",
     "text": [
      "Saved time series visualization for StackOverflow - Topic: health  fitness  travel  to /Users/tnathu-ai/VSCode/Government-Digital-Transformation/assets/images/stackoverflow_time_series_analysis_health  fitness  travel .png\n",
      "Saved time series visualization for StackOverflow - Topic: story  year  paragraph  to /Users/tnathu-ai/VSCode/Government-Digital-Transformation/assets/images/stackoverflow_time_series_analysis_story  year  paragraph .png\n",
      "Saved sentiment analysis for StackOverflow to /Users/tnathu-ai/VSCode/Government-Digital-Transformation/data/intermediate/analysis/stackoverflow_sentiment_analysis.txt\n",
      "Extracted Topic: (0, '0.002*\"data\" + 0.002*\"snippet\" + 0.002*\"li\" + 0.002*\"span\" + 0.002*\"h3\"')\n",
      "Extracted Topic: (1, '0.002*\"data\" + 0.002*\"snippet\" + 0.002*\"span\" + 0.002*\"li\" + 0.002*\"end\"')\n",
      "Extracted Topic: (2, '0.021*\"span\" + 0.021*\"snippet\" + 0.018*\"li\" + 0.016*\"data\" + 0.013*\"end\"')\n",
      "Extracted Topic: (3, '0.002*\"experience\" + 0.002*\"product\" + 0.002*\"rajesh\" + 0.002*\"india\" + 0.002*\"ecommerce\"')\n",
      "Extracted Topic: (4, '0.012*\"experience\" + 0.011*\"product\" + 0.011*\"india\" + 0.009*\"also\" + 0.009*\"rajesh\"')\n",
      "Saved topic modeling for StackOverflow to /Users/tnathu-ai/VSCode/Government-Digital-Transformation/data/intermediate/analysis/stackoverflow_topic_modeling.txt\n",
      "Saved qualitative analysis for StackOverflow to /Users/tnathu-ai/VSCode/Government-Digital-Transformation/data/intermediate/analysis/stackoverflow_qualitative_analysis.txt\n",
      "Saved time series visualization for StackOverflow - Topic: data  snippet  li  to /Users/tnathu-ai/VSCode/Government-Digital-Transformation/assets/images/stackoverflow_time_series_analysis_data  snippet  li .png\n",
      "Saved time series visualization for StackOverflow - Topic: data  snippet  span  to /Users/tnathu-ai/VSCode/Government-Digital-Transformation/assets/images/stackoverflow_time_series_analysis_data  snippet  span .png\n",
      "Saved time series visualization for StackOverflow - Topic: span  snippet  li  to /Users/tnathu-ai/VSCode/Government-Digital-Transformation/assets/images/stackoverflow_time_series_analysis_span  snippet  li .png\n",
      "Saved time series visualization for StackOverflow - Topic: experience  product  rajesh  to /Users/tnathu-ai/VSCode/Government-Digital-Transformation/assets/images/stackoverflow_time_series_analysis_experience  product  rajesh .png\n"
     ]
    },
    {
     "name": "stderr",
     "output_type": "stream",
     "text": [
      "<timed exec>:63: SettingWithCopyWarning: \n",
      "A value is trying to be set on a copy of a slice from a DataFrame.\n",
      "Try using .loc[row_indexer,col_indexer] = value instead\n",
      "\n",
      "See the caveats in the documentation: https://pandas.pydata.org/pandas-docs/stable/user_guide/indexing.html#returning-a-view-versus-a-copy\n",
      "<timed exec>:63: SettingWithCopyWarning: \n",
      "A value is trying to be set on a copy of a slice from a DataFrame.\n",
      "Try using .loc[row_indexer,col_indexer] = value instead\n",
      "\n",
      "See the caveats in the documentation: https://pandas.pydata.org/pandas-docs/stable/user_guide/indexing.html#returning-a-view-versus-a-copy\n"
     ]
    },
    {
     "name": "stdout",
     "output_type": "stream",
     "text": [
      "Saved time series visualization for StackOverflow - Topic: experience  product  india  to /Users/tnathu-ai/VSCode/Government-Digital-Transformation/assets/images/stackoverflow_time_series_analysis_experience  product  india .png\n",
      "Saved sentiment analysis for StackOverflow to /Users/tnathu-ai/VSCode/Government-Digital-Transformation/data/intermediate/analysis/stackoverflow_sentiment_analysis.txt\n",
      "Extracted Topic: (0, '0.004*\"import\" + 0.004*\"covid\" + 0.004*\"cases\" + 0.004*\"news\" + 0.004*\"sa\"')\n",
      "Extracted Topic: (1, '0.004*\"import\" + 0.004*\"covid\" + 0.004*\"cases\" + 0.004*\"code\" + 0.004*\"sa\"')\n",
      "Extracted Topic: (2, '0.004*\"covid\" + 0.004*\"sa\" + 0.004*\"cases\" + 0.004*\"news\" + 0.004*\"adelaide\"')\n",
      "Extracted Topic: (3, '0.044*\"import\" + 0.029*\"covid\" + 0.023*\"cases\" + 0.021*\"code\" + 0.017*\"getheadline\"')\n",
      "Extracted Topic: (4, '0.038*\"covid\" + 0.025*\"news\" + 0.022*\"cases\" + 0.021*\"sa\" + 0.016*\"adelaide\"')\n",
      "Saved topic modeling for StackOverflow to /Users/tnathu-ai/VSCode/Government-Digital-Transformation/data/intermediate/analysis/stackoverflow_topic_modeling.txt\n",
      "Saved qualitative analysis for StackOverflow to /Users/tnathu-ai/VSCode/Government-Digital-Transformation/data/intermediate/analysis/stackoverflow_qualitative_analysis.txt\n",
      "Saved time series visualization for StackOverflow - Topic: import  covid  cases  to /Users/tnathu-ai/VSCode/Government-Digital-Transformation/assets/images/stackoverflow_time_series_analysis_import  covid  cases .png\n",
      "Saved time series visualization for StackOverflow - Topic: import  covid  cases  to /Users/tnathu-ai/VSCode/Government-Digital-Transformation/assets/images/stackoverflow_time_series_analysis_import  covid  cases .png\n",
      "Saved time series visualization for StackOverflow - Topic: covid  sa  cases  to /Users/tnathu-ai/VSCode/Government-Digital-Transformation/assets/images/stackoverflow_time_series_analysis_covid  sa  cases .png\n",
      "Saved time series visualization for StackOverflow - Topic: import  covid  cases  to /Users/tnathu-ai/VSCode/Government-Digital-Transformation/assets/images/stackoverflow_time_series_analysis_import  covid  cases .png\n",
      "Saved time series visualization for StackOverflow - Topic: covid  news  cases  to /Users/tnathu-ai/VSCode/Government-Digital-Transformation/assets/images/stackoverflow_time_series_analysis_covid  news  cases .png\n",
      "Saved sentiment analysis for StackOverflow to /Users/tnathu-ai/VSCode/Government-Digital-Transformation/data/intermediate/analysis/stackoverflow_sentiment_analysis.txt\n",
      "Extracted Topic: (0, '0.001*\"university\" + 0.001*\"team\" + 0.001*\"australia\" + 0.001*\"victoria\" + 0.001*\"nsw\"')\n",
      "Extracted Topic: (1, '0.015*\"team\" + 0.014*\"retail\" + 0.012*\"ago\" + 0.011*\"nsw\" + 0.010*\"victoria\"')\n",
      "Extracted Topic: (2, '0.012*\"secondaryoutcome\" + 0.010*\"treatment\" + 0.009*\"ethicscommitee\" + 0.007*\"years\" + 0.006*\"days\"')\n",
      "Extracted Topic: (3, '0.039*\"university\" + 0.021*\"usa\" + 0.019*\"health\" + 0.014*\"hospital\" + 0.013*\"uk\"')\n",
      "Extracted Topic: (4, '0.018*\"said\" + 0.011*\"australia\" + 0.011*\"string\" + 0.011*\"saturday\" + 0.010*\"central\"')\n",
      "Saved topic modeling for StackOverflow to /Users/tnathu-ai/VSCode/Government-Digital-Transformation/data/intermediate/analysis/stackoverflow_topic_modeling.txt\n",
      "Saved qualitative analysis for StackOverflow to /Users/tnathu-ai/VSCode/Government-Digital-Transformation/data/intermediate/analysis/stackoverflow_qualitative_analysis.txt\n",
      "Saved time series visualization for StackOverflow - Topic: university  team  australia  to /Users/tnathu-ai/VSCode/Government-Digital-Transformation/assets/images/stackoverflow_time_series_analysis_university  team  australia .png\n"
     ]
    },
    {
     "name": "stderr",
     "output_type": "stream",
     "text": [
      "<timed exec>:63: SettingWithCopyWarning: \n",
      "A value is trying to be set on a copy of a slice from a DataFrame.\n",
      "Try using .loc[row_indexer,col_indexer] = value instead\n",
      "\n",
      "See the caveats in the documentation: https://pandas.pydata.org/pandas-docs/stable/user_guide/indexing.html#returning-a-view-versus-a-copy\n",
      "<timed exec>:63: SettingWithCopyWarning: \n",
      "A value is trying to be set on a copy of a slice from a DataFrame.\n",
      "Try using .loc[row_indexer,col_indexer] = value instead\n",
      "\n",
      "See the caveats in the documentation: https://pandas.pydata.org/pandas-docs/stable/user_guide/indexing.html#returning-a-view-versus-a-copy\n"
     ]
    },
    {
     "name": "stdout",
     "output_type": "stream",
     "text": [
      "Saved time series visualization for StackOverflow - Topic: team  retail  ago  to /Users/tnathu-ai/VSCode/Government-Digital-Transformation/assets/images/stackoverflow_time_series_analysis_team  retail  ago .png\n",
      "Saved time series visualization for StackOverflow - Topic: secondaryoutcome  treatment  ethicscommitee  to /Users/tnathu-ai/VSCode/Government-Digital-Transformation/assets/images/stackoverflow_time_series_analysis_secondaryoutcome  treatment  ethicscommitee .png\n",
      "Saved time series visualization for StackOverflow - Topic: university  usa  health  to /Users/tnathu-ai/VSCode/Government-Digital-Transformation/assets/images/stackoverflow_time_series_analysis_university  usa  health .png\n",
      "Saved time series visualization for StackOverflow - Topic: said  australia  string  to /Users/tnathu-ai/VSCode/Government-Digital-Transformation/assets/images/stackoverflow_time_series_analysis_said  australia  string .png\n",
      "Saved sentiment analysis for StackOverflow to /Users/tnathu-ai/VSCode/Government-Digital-Transformation/data/intermediate/analysis/stackoverflow_sentiment_analysis.txt\n",
      "Extracted Topic: (0, '0.009*\"team\" + 0.008*\"retail\" + 0.007*\"div\" + 0.007*\"ago\" + 0.006*\"nsw\"')\n",
      "Extracted Topic: (1, '0.006*\"var\" + 0.006*\"covid19\" + 0.005*\"line\" + 0.004*\"file\" + 0.004*\"said\"')\n",
      "Extracted Topic: (2, '0.007*\"would\" + 0.005*\"people\" + 0.005*\"text\" + 0.005*\"soviet\" + 0.005*\"also\"')\n",
      "Extracted Topic: (3, '0.020*\"eap\" + 0.018*\"div\" + 0.008*\"order\" + 0.008*\"jpn\" + 0.007*\"plot\"')\n",
      "Extracted Topic: (4, '0.053*\"question\" + 0.047*\"new\" + 0.031*\"none\" + 0.009*\"questionthe\" + 0.009*\"non\"')\n",
      "Saved topic modeling for StackOverflow to /Users/tnathu-ai/VSCode/Government-Digital-Transformation/data/intermediate/analysis/stackoverflow_topic_modeling.txt\n",
      "Saved qualitative analysis for StackOverflow to /Users/tnathu-ai/VSCode/Government-Digital-Transformation/data/intermediate/analysis/stackoverflow_qualitative_analysis.txt\n",
      "Saved time series visualization for StackOverflow - Topic: team  retail  div  to /Users/tnathu-ai/VSCode/Government-Digital-Transformation/assets/images/stackoverflow_time_series_analysis_team  retail  div .png\n"
     ]
    },
    {
     "name": "stderr",
     "output_type": "stream",
     "text": [
      "<timed exec>:63: SettingWithCopyWarning: \n",
      "A value is trying to be set on a copy of a slice from a DataFrame.\n",
      "Try using .loc[row_indexer,col_indexer] = value instead\n",
      "\n",
      "See the caveats in the documentation: https://pandas.pydata.org/pandas-docs/stable/user_guide/indexing.html#returning-a-view-versus-a-copy\n",
      "<timed exec>:63: SettingWithCopyWarning: \n",
      "A value is trying to be set on a copy of a slice from a DataFrame.\n",
      "Try using .loc[row_indexer,col_indexer] = value instead\n",
      "\n",
      "See the caveats in the documentation: https://pandas.pydata.org/pandas-docs/stable/user_guide/indexing.html#returning-a-view-versus-a-copy\n"
     ]
    },
    {
     "name": "stdout",
     "output_type": "stream",
     "text": [
      "Saved time series visualization for StackOverflow - Topic: var  covid19  line  to /Users/tnathu-ai/VSCode/Government-Digital-Transformation/assets/images/stackoverflow_time_series_analysis_var  covid19  line .png\n",
      "Saved time series visualization for StackOverflow - Topic: would  people  text  to /Users/tnathu-ai/VSCode/Government-Digital-Transformation/assets/images/stackoverflow_time_series_analysis_would  people  text .png\n"
     ]
    },
    {
     "name": "stderr",
     "output_type": "stream",
     "text": [
      "<timed exec>:63: SettingWithCopyWarning: \n",
      "A value is trying to be set on a copy of a slice from a DataFrame.\n",
      "Try using .loc[row_indexer,col_indexer] = value instead\n",
      "\n",
      "See the caveats in the documentation: https://pandas.pydata.org/pandas-docs/stable/user_guide/indexing.html#returning-a-view-versus-a-copy\n"
     ]
    },
    {
     "name": "stdout",
     "output_type": "stream",
     "text": [
      "Saved time series visualization for StackOverflow - Topic: eap  div  order  to /Users/tnathu-ai/VSCode/Government-Digital-Transformation/assets/images/stackoverflow_time_series_analysis_eap  div  order .png\n",
      "Saved time series visualization for StackOverflow - Topic: question  new  none  to /Users/tnathu-ai/VSCode/Government-Digital-Transformation/assets/images/stackoverflow_time_series_analysis_question  new  none .png\n"
     ]
    },
    {
     "name": "stderr",
     "output_type": "stream",
     "text": [
      "<timed exec>:63: SettingWithCopyWarning: \n",
      "A value is trying to be set on a copy of a slice from a DataFrame.\n",
      "Try using .loc[row_indexer,col_indexer] = value instead\n",
      "\n",
      "See the caveats in the documentation: https://pandas.pydata.org/pandas-docs/stable/user_guide/indexing.html#returning-a-view-versus-a-copy\n"
     ]
    },
    {
     "name": "stdout",
     "output_type": "stream",
     "text": [
      "Saved sentiment analysis for StackOverflow to /Users/tnathu-ai/VSCode/Government-Digital-Transformation/data/intermediate/analysis/stackoverflow_sentiment_analysis.txt\n",
      "Extracted Topic: (0, '0.007*\"post\" + 0.007*\"australia\" + 0.007*\"get\" + 0.007*\"value\" + 0.005*\"key\"')\n",
      "Extracted Topic: (1, '0.189*\"option\" + 0.008*\"div\" + 0.007*\"input\" + 0.007*\"select\" + 0.005*\"echo\"')\n",
      "Extracted Topic: (2, '0.013*\"div\" + 0.006*\"import\" + 0.005*\"return\" + 0.004*\"script\" + 0.004*\"echo\"')\n",
      "Extracted Topic: (3, '0.006*\"div\" + 0.006*\"stylecolor000000\" + 0.004*\"script\" + 0.004*\"name\" + 0.004*\"form\"')\n",
      "Extracted Topic: (4, '0.026*\"div\" + 0.008*\"new\" + 0.008*\"var\" + 0.007*\"input\" + 0.006*\"function\"')\n",
      "Saved topic modeling for StackOverflow to /Users/tnathu-ai/VSCode/Government-Digital-Transformation/data/intermediate/analysis/stackoverflow_topic_modeling.txt\n",
      "Saved qualitative analysis for StackOverflow to /Users/tnathu-ai/VSCode/Government-Digital-Transformation/data/intermediate/analysis/stackoverflow_qualitative_analysis.txt\n",
      "Saved time series visualization for StackOverflow - Topic: post  australia  get  to /Users/tnathu-ai/VSCode/Government-Digital-Transformation/assets/images/stackoverflow_time_series_analysis_post  australia  get .png\n"
     ]
    },
    {
     "name": "stderr",
     "output_type": "stream",
     "text": [
      "<timed exec>:63: SettingWithCopyWarning: \n",
      "A value is trying to be set on a copy of a slice from a DataFrame.\n",
      "Try using .loc[row_indexer,col_indexer] = value instead\n",
      "\n",
      "See the caveats in the documentation: https://pandas.pydata.org/pandas-docs/stable/user_guide/indexing.html#returning-a-view-versus-a-copy\n"
     ]
    },
    {
     "name": "stdout",
     "output_type": "stream",
     "text": [
      "Saved time series visualization for StackOverflow - Topic: option  div  input  to /Users/tnathu-ai/VSCode/Government-Digital-Transformation/assets/images/stackoverflow_time_series_analysis_option  div  input .png\n"
     ]
    },
    {
     "name": "stderr",
     "output_type": "stream",
     "text": [
      "<timed exec>:63: SettingWithCopyWarning: \n",
      "A value is trying to be set on a copy of a slice from a DataFrame.\n",
      "Try using .loc[row_indexer,col_indexer] = value instead\n",
      "\n",
      "See the caveats in the documentation: https://pandas.pydata.org/pandas-docs/stable/user_guide/indexing.html#returning-a-view-versus-a-copy\n"
     ]
    },
    {
     "name": "stdout",
     "output_type": "stream",
     "text": [
      "Saved time series visualization for StackOverflow - Topic: div  import  return  to /Users/tnathu-ai/VSCode/Government-Digital-Transformation/assets/images/stackoverflow_time_series_analysis_div  import  return .png\n"
     ]
    },
    {
     "name": "stderr",
     "output_type": "stream",
     "text": [
      "<timed exec>:63: SettingWithCopyWarning: \n",
      "A value is trying to be set on a copy of a slice from a DataFrame.\n",
      "Try using .loc[row_indexer,col_indexer] = value instead\n",
      "\n",
      "See the caveats in the documentation: https://pandas.pydata.org/pandas-docs/stable/user_guide/indexing.html#returning-a-view-versus-a-copy\n"
     ]
    },
    {
     "name": "stdout",
     "output_type": "stream",
     "text": [
      "Saved time series visualization for StackOverflow - Topic: div  stylecolor000000  script  to /Users/tnathu-ai/VSCode/Government-Digital-Transformation/assets/images/stackoverflow_time_series_analysis_div  stylecolor000000  script .png\n"
     ]
    },
    {
     "name": "stderr",
     "output_type": "stream",
     "text": [
      "<timed exec>:63: SettingWithCopyWarning: \n",
      "A value is trying to be set on a copy of a slice from a DataFrame.\n",
      "Try using .loc[row_indexer,col_indexer] = value instead\n",
      "\n",
      "See the caveats in the documentation: https://pandas.pydata.org/pandas-docs/stable/user_guide/indexing.html#returning-a-view-versus-a-copy\n"
     ]
    },
    {
     "name": "stdout",
     "output_type": "stream",
     "text": [
      "Saved time series visualization for StackOverflow - Topic: div  new  var  to /Users/tnathu-ai/VSCode/Government-Digital-Transformation/assets/images/stackoverflow_time_series_analysis_div  new  var .png\n",
      "Saved sentiment analysis for StackOverflow to /Users/tnathu-ai/VSCode/Government-Digital-Transformation/data/intermediate/analysis/stackoverflow_sentiment_analysis.txt\n",
      "Extracted Topic: (0, '0.043*\"seg\" + 0.034*\"text\" + 0.021*\"tool\" + 0.018*\"design\" + 0.012*\"evaluation\"')\n",
      "Extracted Topic: (1, '0.005*\"seg\" + 0.005*\"text\" + 0.005*\"tool\" + 0.005*\"design\" + 0.005*\"sidm\"')\n",
      "Extracted Topic: (2, '0.005*\"text\" + 0.005*\"seg\" + 0.005*\"tool\" + 0.005*\"design\" + 0.005*\"evaluation\"')\n",
      "Extracted Topic: (3, '0.005*\"seg\" + 0.005*\"text\" + 0.005*\"tool\" + 0.005*\"design\" + 0.005*\"evaluation\"')\n",
      "Extracted Topic: (4, '0.005*\"seg\" + 0.005*\"text\" + 0.005*\"tool\" + 0.005*\"design\" + 0.005*\"water\"')\n",
      "Saved topic modeling for StackOverflow to /Users/tnathu-ai/VSCode/Government-Digital-Transformation/data/intermediate/analysis/stackoverflow_topic_modeling.txt\n",
      "Saved qualitative analysis for StackOverflow to /Users/tnathu-ai/VSCode/Government-Digital-Transformation/data/intermediate/analysis/stackoverflow_qualitative_analysis.txt\n",
      "Saved time series visualization for StackOverflow - Topic: seg  text  tool  to /Users/tnathu-ai/VSCode/Government-Digital-Transformation/assets/images/stackoverflow_time_series_analysis_seg  text  tool .png\n",
      "Saved time series visualization for StackOverflow - Topic: seg  text  tool  to /Users/tnathu-ai/VSCode/Government-Digital-Transformation/assets/images/stackoverflow_time_series_analysis_seg  text  tool .png\n",
      "Saved time series visualization for StackOverflow - Topic: text  seg  tool  to /Users/tnathu-ai/VSCode/Government-Digital-Transformation/assets/images/stackoverflow_time_series_analysis_text  seg  tool .png\n",
      "Saved time series visualization for StackOverflow - Topic: seg  text  tool  to /Users/tnathu-ai/VSCode/Government-Digital-Transformation/assets/images/stackoverflow_time_series_analysis_seg  text  tool .png\n",
      "Saved time series visualization for StackOverflow - Topic: seg  text  tool  to /Users/tnathu-ai/VSCode/Government-Digital-Transformation/assets/images/stackoverflow_time_series_analysis_seg  text  tool .png\n",
      "Saved sentiment analysis for StackOverflow to /Users/tnathu-ai/VSCode/Government-Digital-Transformation/data/intermediate/analysis/stackoverflow_sentiment_analysis.txt\n",
      "Extracted Topic: (0, '0.002*\"sector\" + 0.002*\"ltd\" + 0.002*\"dim\" + 0.002*\"sheet\" + 0.002*\"country\"')\n",
      "Extracted Topic: (1, '0.098*\"div\" + 0.022*\"section\" + 0.017*\"row\" + 0.013*\"centeralign\" + 0.011*\"lia\"')\n",
      "Extracted Topic: (2, '0.002*\"div\" + 0.002*\"section\" + 0.002*\"row\" + 0.002*\"centeralign\" + 0.002*\"holdings\"')\n",
      "Extracted Topic: (3, '0.002*\"div\" + 0.002*\"row\" + 0.002*\"end\" + 0.002*\"sector\" + 0.002*\"australia\"')\n",
      "Extracted Topic: (4, '0.021*\"holdings\" + 0.019*\"sector\" + 0.018*\"ltd\" + 0.018*\"country\" + 0.018*\"dim\"')\n",
      "Saved topic modeling for StackOverflow to /Users/tnathu-ai/VSCode/Government-Digital-Transformation/data/intermediate/analysis/stackoverflow_topic_modeling.txt\n",
      "Saved qualitative analysis for StackOverflow to /Users/tnathu-ai/VSCode/Government-Digital-Transformation/data/intermediate/analysis/stackoverflow_qualitative_analysis.txt\n",
      "Saved time series visualization for StackOverflow - Topic: sector  ltd  dim  to /Users/tnathu-ai/VSCode/Government-Digital-Transformation/assets/images/stackoverflow_time_series_analysis_sector  ltd  dim .png\n",
      "Saved time series visualization for StackOverflow - Topic: div  section  row  to /Users/tnathu-ai/VSCode/Government-Digital-Transformation/assets/images/stackoverflow_time_series_analysis_div  section  row .png\n",
      "Saved time series visualization for StackOverflow - Topic: div  section  row  to /Users/tnathu-ai/VSCode/Government-Digital-Transformation/assets/images/stackoverflow_time_series_analysis_div  section  row .png\n",
      "Saved time series visualization for StackOverflow - Topic: div  row  end  to /Users/tnathu-ai/VSCode/Government-Digital-Transformation/assets/images/stackoverflow_time_series_analysis_div  row  end .png\n"
     ]
    },
    {
     "name": "stderr",
     "output_type": "stream",
     "text": [
      "<timed exec>:63: SettingWithCopyWarning: \n",
      "A value is trying to be set on a copy of a slice from a DataFrame.\n",
      "Try using .loc[row_indexer,col_indexer] = value instead\n",
      "\n",
      "See the caveats in the documentation: https://pandas.pydata.org/pandas-docs/stable/user_guide/indexing.html#returning-a-view-versus-a-copy\n"
     ]
    },
    {
     "name": "stdout",
     "output_type": "stream",
     "text": [
      "Saved time series visualization for StackOverflow - Topic: holdings  sector  ltd  to /Users/tnathu-ai/VSCode/Government-Digital-Transformation/assets/images/stackoverflow_time_series_analysis_holdings  sector  ltd .png\n",
      "Saved sentiment analysis for StackOverflow to /Users/tnathu-ai/VSCode/Government-Digital-Transformation/data/intermediate/analysis/stackoverflow_sentiment_analysis.txt\n",
      "Extracted Topic: (0, '0.030*\"import\" + 0.030*\"div\" + 0.014*\"uncontrolledtooltip\" + 0.014*\"ui\" + 0.013*\"const\"')\n",
      "Extracted Topic: (1, '0.020*\"card\" + 0.016*\"points\" + 0.013*\"express\" + 0.010*\"qantas\" + 0.010*\"aw\"')\n",
      "Extracted Topic: (2, '0.000*\"people\" + 0.000*\"covid19\" + 0.000*\"covid\" + 0.000*\"card\" + 0.000*\"vaccine\"')\n",
      "Extracted Topic: (3, '0.007*\"url\" + 0.007*\"title\" + 0.007*\"category\" + 0.007*\"image\" + 0.007*\"keywords\"')\n",
      "Extracted Topic: (4, '0.018*\"covid19\" + 0.014*\"people\" + 0.012*\"vaccine\" + 0.011*\"covid\" + 0.009*\"get\"')\n",
      "Saved topic modeling for StackOverflow to /Users/tnathu-ai/VSCode/Government-Digital-Transformation/data/intermediate/analysis/stackoverflow_topic_modeling.txt\n",
      "Saved qualitative analysis for StackOverflow to /Users/tnathu-ai/VSCode/Government-Digital-Transformation/data/intermediate/analysis/stackoverflow_qualitative_analysis.txt\n",
      "Saved time series visualization for StackOverflow - Topic: import  div  uncontrolledtooltip  to /Users/tnathu-ai/VSCode/Government-Digital-Transformation/assets/images/stackoverflow_time_series_analysis_import  div  uncontrolledtooltip .png\n"
     ]
    },
    {
     "name": "stderr",
     "output_type": "stream",
     "text": [
      "<timed exec>:63: SettingWithCopyWarning: \n",
      "A value is trying to be set on a copy of a slice from a DataFrame.\n",
      "Try using .loc[row_indexer,col_indexer] = value instead\n",
      "\n",
      "See the caveats in the documentation: https://pandas.pydata.org/pandas-docs/stable/user_guide/indexing.html#returning-a-view-versus-a-copy\n",
      "<timed exec>:63: SettingWithCopyWarning: \n",
      "A value is trying to be set on a copy of a slice from a DataFrame.\n",
      "Try using .loc[row_indexer,col_indexer] = value instead\n",
      "\n",
      "See the caveats in the documentation: https://pandas.pydata.org/pandas-docs/stable/user_guide/indexing.html#returning-a-view-versus-a-copy\n"
     ]
    },
    {
     "name": "stdout",
     "output_type": "stream",
     "text": [
      "Saved time series visualization for StackOverflow - Topic: card  points  express  to /Users/tnathu-ai/VSCode/Government-Digital-Transformation/assets/images/stackoverflow_time_series_analysis_card  points  express .png\n",
      "Saved time series visualization for StackOverflow - Topic: people  covid19  covid  to /Users/tnathu-ai/VSCode/Government-Digital-Transformation/assets/images/stackoverflow_time_series_analysis_people  covid19  covid .png\n"
     ]
    },
    {
     "name": "stderr",
     "output_type": "stream",
     "text": [
      "<timed exec>:63: SettingWithCopyWarning: \n",
      "A value is trying to be set on a copy of a slice from a DataFrame.\n",
      "Try using .loc[row_indexer,col_indexer] = value instead\n",
      "\n",
      "See the caveats in the documentation: https://pandas.pydata.org/pandas-docs/stable/user_guide/indexing.html#returning-a-view-versus-a-copy\n",
      "<timed exec>:63: SettingWithCopyWarning: \n",
      "A value is trying to be set on a copy of a slice from a DataFrame.\n",
      "Try using .loc[row_indexer,col_indexer] = value instead\n",
      "\n",
      "See the caveats in the documentation: https://pandas.pydata.org/pandas-docs/stable/user_guide/indexing.html#returning-a-view-versus-a-copy\n"
     ]
    },
    {
     "name": "stdout",
     "output_type": "stream",
     "text": [
      "Saved time series visualization for StackOverflow - Topic: url  title  category  to /Users/tnathu-ai/VSCode/Government-Digital-Transformation/assets/images/stackoverflow_time_series_analysis_url  title  category .png\n"
     ]
    },
    {
     "name": "stderr",
     "output_type": "stream",
     "text": [
      "<timed exec>:63: SettingWithCopyWarning: \n",
      "A value is trying to be set on a copy of a slice from a DataFrame.\n",
      "Try using .loc[row_indexer,col_indexer] = value instead\n",
      "\n",
      "See the caveats in the documentation: https://pandas.pydata.org/pandas-docs/stable/user_guide/indexing.html#returning-a-view-versus-a-copy\n"
     ]
    },
    {
     "name": "stdout",
     "output_type": "stream",
     "text": [
      "Saved time series visualization for StackOverflow - Topic: covid19  people  vaccine  to /Users/tnathu-ai/VSCode/Government-Digital-Transformation/assets/images/stackoverflow_time_series_analysis_covid19  people  vaccine .png\n",
      "Saved sentiment analysis for StackOverflow to /Users/tnathu-ai/VSCode/Government-Digital-Transformation/data/intermediate/analysis/stackoverflow_sentiment_analysis.txt\n",
      "Extracted Topic: (0, '0.028*\"option\" + 0.010*\"div\" + 0.005*\"echo\" + 0.005*\"package\" + 0.005*\"input\"')\n",
      "Extracted Topic: (1, '0.019*\"div\" + 0.008*\"var\" + 0.008*\"function\" + 0.007*\"form\" + 0.005*\"script\"')\n",
      "Extracted Topic: (2, '0.010*\"div\" + 0.009*\"der\" + 0.007*\"die\" + 0.005*\"und\" + 0.005*\"input\"')\n",
      "Extracted Topic: (3, '0.005*\"get\" + 0.005*\"end\" + 0.005*\"return\" + 0.005*\"file\" + 0.005*\"data\"')\n",
      "Extracted Topic: (4, '0.008*\"div\" + 0.007*\"data\" + 0.006*\"return\" + 0.005*\"import\" + 0.005*\"code\"')\n",
      "Saved topic modeling for StackOverflow to /Users/tnathu-ai/VSCode/Government-Digital-Transformation/data/intermediate/analysis/stackoverflow_topic_modeling.txt\n",
      "Saved qualitative analysis for StackOverflow to /Users/tnathu-ai/VSCode/Government-Digital-Transformation/data/intermediate/analysis/stackoverflow_qualitative_analysis.txt\n"
     ]
    },
    {
     "name": "stderr",
     "output_type": "stream",
     "text": [
      "<timed exec>:63: SettingWithCopyWarning: \n",
      "A value is trying to be set on a copy of a slice from a DataFrame.\n",
      "Try using .loc[row_indexer,col_indexer] = value instead\n",
      "\n",
      "See the caveats in the documentation: https://pandas.pydata.org/pandas-docs/stable/user_guide/indexing.html#returning-a-view-versus-a-copy\n"
     ]
    },
    {
     "name": "stdout",
     "output_type": "stream",
     "text": [
      "Saved time series visualization for StackOverflow - Topic: option  div  echo  to /Users/tnathu-ai/VSCode/Government-Digital-Transformation/assets/images/stackoverflow_time_series_analysis_option  div  echo .png\n"
     ]
    },
    {
     "name": "stderr",
     "output_type": "stream",
     "text": [
      "<timed exec>:63: SettingWithCopyWarning: \n",
      "A value is trying to be set on a copy of a slice from a DataFrame.\n",
      "Try using .loc[row_indexer,col_indexer] = value instead\n",
      "\n",
      "See the caveats in the documentation: https://pandas.pydata.org/pandas-docs/stable/user_guide/indexing.html#returning-a-view-versus-a-copy\n"
     ]
    },
    {
     "name": "stdout",
     "output_type": "stream",
     "text": [
      "Saved time series visualization for StackOverflow - Topic: div  var  function  to /Users/tnathu-ai/VSCode/Government-Digital-Transformation/assets/images/stackoverflow_time_series_analysis_div  var  function .png\n"
     ]
    },
    {
     "name": "stderr",
     "output_type": "stream",
     "text": [
      "<timed exec>:63: SettingWithCopyWarning: \n",
      "A value is trying to be set on a copy of a slice from a DataFrame.\n",
      "Try using .loc[row_indexer,col_indexer] = value instead\n",
      "\n",
      "See the caveats in the documentation: https://pandas.pydata.org/pandas-docs/stable/user_guide/indexing.html#returning-a-view-versus-a-copy\n"
     ]
    },
    {
     "name": "stdout",
     "output_type": "stream",
     "text": [
      "Saved time series visualization for StackOverflow - Topic: div  der  die  to /Users/tnathu-ai/VSCode/Government-Digital-Transformation/assets/images/stackoverflow_time_series_analysis_div  der  die .png\n"
     ]
    },
    {
     "name": "stderr",
     "output_type": "stream",
     "text": [
      "<timed exec>:63: SettingWithCopyWarning: \n",
      "A value is trying to be set on a copy of a slice from a DataFrame.\n",
      "Try using .loc[row_indexer,col_indexer] = value instead\n",
      "\n",
      "See the caveats in the documentation: https://pandas.pydata.org/pandas-docs/stable/user_guide/indexing.html#returning-a-view-versus-a-copy\n"
     ]
    },
    {
     "name": "stdout",
     "output_type": "stream",
     "text": [
      "Saved time series visualization for StackOverflow - Topic: get  end  return  to /Users/tnathu-ai/VSCode/Government-Digital-Transformation/assets/images/stackoverflow_time_series_analysis_get  end  return .png\n"
     ]
    },
    {
     "name": "stderr",
     "output_type": "stream",
     "text": [
      "<timed exec>:63: SettingWithCopyWarning: \n",
      "A value is trying to be set on a copy of a slice from a DataFrame.\n",
      "Try using .loc[row_indexer,col_indexer] = value instead\n",
      "\n",
      "See the caveats in the documentation: https://pandas.pydata.org/pandas-docs/stable/user_guide/indexing.html#returning-a-view-versus-a-copy\n"
     ]
    },
    {
     "name": "stdout",
     "output_type": "stream",
     "text": [
      "Saved time series visualization for StackOverflow - Topic: div  data  return  to /Users/tnathu-ai/VSCode/Government-Digital-Transformation/assets/images/stackoverflow_time_series_analysis_div  data  return .png\n",
      "Saved sentiment analysis for StackOverflow to /Users/tnathu-ai/VSCode/Government-Digital-Transformation/data/intermediate/analysis/stackoverflow_sentiment_analysis.txt\n",
      "Extracted Topic: (0, '0.031*\"application\" + 0.029*\"used\" + 0.027*\"view\" + 0.027*\"detail\" + 0.021*\"using\"')\n",
      "Extracted Topic: (1, '0.026*\"domains\" + 0.022*\"available\" + 0.019*\"ive\" + 0.019*\"domain\" + 0.019*\"whois\"')\n",
      "Extracted Topic: (2, '0.002*\"payment\" + 0.002*\"service\" + 0.002*\"paypal\" + 0.002*\"available\" + 0.002*\"domains\"')\n",
      "Extracted Topic: (3, '0.033*\"windows\" + 0.027*\"support\" + 0.022*\"number\" + 0.022*\"problem\" + 0.021*\"subscription\"')\n",
      "Extracted Topic: (4, '0.029*\"payment\" + 0.020*\"project\" + 0.017*\"service\" + 0.017*\"number\" + 0.016*\"paypal\"')\n",
      "Saved topic modeling for StackOverflow to /Users/tnathu-ai/VSCode/Government-Digital-Transformation/data/intermediate/analysis/stackoverflow_topic_modeling.txt\n",
      "Saved qualitative analysis for StackOverflow to /Users/tnathu-ai/VSCode/Government-Digital-Transformation/data/intermediate/analysis/stackoverflow_qualitative_analysis.txt\n",
      "Saved time series visualization for StackOverflow - Topic: application  used  view  to /Users/tnathu-ai/VSCode/Government-Digital-Transformation/assets/images/stackoverflow_time_series_analysis_application  used  view .png\n"
     ]
    },
    {
     "name": "stderr",
     "output_type": "stream",
     "text": [
      "<timed exec>:63: SettingWithCopyWarning: \n",
      "A value is trying to be set on a copy of a slice from a DataFrame.\n",
      "Try using .loc[row_indexer,col_indexer] = value instead\n",
      "\n",
      "See the caveats in the documentation: https://pandas.pydata.org/pandas-docs/stable/user_guide/indexing.html#returning-a-view-versus-a-copy\n"
     ]
    },
    {
     "name": "stdout",
     "output_type": "stream",
     "text": [
      "Saved time series visualization for StackOverflow - Topic: domains  available  ive  to /Users/tnathu-ai/VSCode/Government-Digital-Transformation/assets/images/stackoverflow_time_series_analysis_domains  available  ive .png\n",
      "Saved time series visualization for StackOverflow - Topic: payment  service  paypal  to /Users/tnathu-ai/VSCode/Government-Digital-Transformation/assets/images/stackoverflow_time_series_analysis_payment  service  paypal .png\n"
     ]
    },
    {
     "name": "stderr",
     "output_type": "stream",
     "text": [
      "<timed exec>:63: SettingWithCopyWarning: \n",
      "A value is trying to be set on a copy of a slice from a DataFrame.\n",
      "Try using .loc[row_indexer,col_indexer] = value instead\n",
      "\n",
      "See the caveats in the documentation: https://pandas.pydata.org/pandas-docs/stable/user_guide/indexing.html#returning-a-view-versus-a-copy\n"
     ]
    },
    {
     "name": "stdout",
     "output_type": "stream",
     "text": [
      "Saved time series visualization for StackOverflow - Topic: windows  support  number  to /Users/tnathu-ai/VSCode/Government-Digital-Transformation/assets/images/stackoverflow_time_series_analysis_windows  support  number .png\n",
      "Saved time series visualization for StackOverflow - Topic: payment  project  service  to /Users/tnathu-ai/VSCode/Government-Digital-Transformation/assets/images/stackoverflow_time_series_analysis_payment  project  service .png\n",
      "Saved sentiment analysis for StackOverflow to /Users/tnathu-ai/VSCode/Government-Digital-Transformation/data/intermediate/analysis/stackoverflow_sentiment_analysis.txt\n",
      "Extracted Topic: (0, '0.001*\"title\" + 0.001*\"url\" + 0.001*\"tweetids\" + 0.001*\"description\" + 0.001*\"image\"')\n",
      "Extracted Topic: (1, '0.001*\"url\" + 0.001*\"category\" + 0.001*\"man\" + 0.001*\"tweetids\" + 0.001*\"timestamp\"')\n",
      "Extracted Topic: (2, '0.001*\"title\" + 0.001*\"tweetids\" + 0.001*\"category\" + 0.001*\"url\" + 0.001*\"description\"')\n",
      "Extracted Topic: (3, '0.001*\"timestamp\" + 0.001*\"keywords\" + 0.001*\"image\" + 0.001*\"man\" + 0.001*\"description\"')\n",
      "Extracted Topic: (4, '0.007*\"url\" + 0.007*\"category\" + 0.007*\"title\" + 0.007*\"image\" + 0.007*\"keywords\"')\n",
      "Saved topic modeling for StackOverflow to /Users/tnathu-ai/VSCode/Government-Digital-Transformation/data/intermediate/analysis/stackoverflow_topic_modeling.txt\n",
      "Saved qualitative analysis for StackOverflow to /Users/tnathu-ai/VSCode/Government-Digital-Transformation/data/intermediate/analysis/stackoverflow_qualitative_analysis.txt\n",
      "Saved time series visualization for StackOverflow - Topic: title  url  tweetids  to /Users/tnathu-ai/VSCode/Government-Digital-Transformation/assets/images/stackoverflow_time_series_analysis_title  url  tweetids .png\n",
      "Saved time series visualization for StackOverflow - Topic: url  category  man  to /Users/tnathu-ai/VSCode/Government-Digital-Transformation/assets/images/stackoverflow_time_series_analysis_url  category  man .png\n",
      "Saved time series visualization for StackOverflow - Topic: title  tweetids  category  to /Users/tnathu-ai/VSCode/Government-Digital-Transformation/assets/images/stackoverflow_time_series_analysis_title  tweetids  category .png\n",
      "Saved time series visualization for StackOverflow - Topic: timestamp  keywords  image  to /Users/tnathu-ai/VSCode/Government-Digital-Transformation/assets/images/stackoverflow_time_series_analysis_timestamp  keywords  image .png\n",
      "Saved time series visualization for StackOverflow - Topic: url  category  title  to /Users/tnathu-ai/VSCode/Government-Digital-Transformation/assets/images/stackoverflow_time_series_analysis_url  category  title .png\n",
      "Saved sentiment analysis for StackOverflow to /Users/tnathu-ai/VSCode/Government-Digital-Transformation/data/intermediate/analysis/stackoverflow_sentiment_analysis.txt\n",
      "Extracted Topic: (0, '0.000*\"option\" + 0.000*\"div\" + 0.000*\"span\" + 0.000*\"li\" + 0.000*\"ul\"')\n",
      "Extracted Topic: (1, '0.031*\"tab\" + 0.023*\"tabtab\" + 0.013*\"deal\" + 0.012*\"version\" + 0.011*\"incl\"')\n",
      "Extracted Topic: (2, '0.019*\"div\" + 0.012*\"pumpkin\" + 0.011*\"heart\" + 0.009*\"walk\" + 0.006*\"link\"')\n",
      "Extracted Topic: (3, '0.040*\"option\" + 0.037*\"div\" + 0.027*\"span\" + 0.021*\"li\" + 0.016*\"using\"')\n",
      "Extracted Topic: (4, '0.030*\"div\" + 0.015*\"news\" + 0.011*\"india\" + 0.009*\"li\" + 0.009*\"url\"')\n",
      "Saved topic modeling for StackOverflow to /Users/tnathu-ai/VSCode/Government-Digital-Transformation/data/intermediate/analysis/stackoverflow_topic_modeling.txt\n",
      "Saved qualitative analysis for StackOverflow to /Users/tnathu-ai/VSCode/Government-Digital-Transformation/data/intermediate/analysis/stackoverflow_qualitative_analysis.txt\n",
      "Saved time series visualization for StackOverflow - Topic: option  div  span  to /Users/tnathu-ai/VSCode/Government-Digital-Transformation/assets/images/stackoverflow_time_series_analysis_option  div  span .png\n"
     ]
    },
    {
     "name": "stderr",
     "output_type": "stream",
     "text": [
      "<timed exec>:63: SettingWithCopyWarning: \n",
      "A value is trying to be set on a copy of a slice from a DataFrame.\n",
      "Try using .loc[row_indexer,col_indexer] = value instead\n",
      "\n",
      "See the caveats in the documentation: https://pandas.pydata.org/pandas-docs/stable/user_guide/indexing.html#returning-a-view-versus-a-copy\n",
      "<timed exec>:63: SettingWithCopyWarning: \n",
      "A value is trying to be set on a copy of a slice from a DataFrame.\n",
      "Try using .loc[row_indexer,col_indexer] = value instead\n",
      "\n",
      "See the caveats in the documentation: https://pandas.pydata.org/pandas-docs/stable/user_guide/indexing.html#returning-a-view-versus-a-copy\n"
     ]
    },
    {
     "name": "stdout",
     "output_type": "stream",
     "text": [
      "Saved time series visualization for StackOverflow - Topic: tab  tabtab  deal  to /Users/tnathu-ai/VSCode/Government-Digital-Transformation/assets/images/stackoverflow_time_series_analysis_tab  tabtab  deal .png\n",
      "Saved time series visualization for StackOverflow - Topic: div  pumpkin  heart  to /Users/tnathu-ai/VSCode/Government-Digital-Transformation/assets/images/stackoverflow_time_series_analysis_div  pumpkin  heart .png\n",
      "Saved time series visualization for StackOverflow - Topic: option  div  span  to /Users/tnathu-ai/VSCode/Government-Digital-Transformation/assets/images/stackoverflow_time_series_analysis_option  div  span .png\n",
      "Saved time series visualization for StackOverflow - Topic: div  news  india  to /Users/tnathu-ai/VSCode/Government-Digital-Transformation/assets/images/stackoverflow_time_series_analysis_div  news  india .png\n",
      "Saved sentiment analysis for StackOverflow to /Users/tnathu-ai/VSCode/Government-Digital-Transformation/data/intermediate/analysis/stackoverflow_sentiment_analysis.txt\n",
      "Extracted Topic: (0, '0.158*\"university\" + 0.041*\"na\" + 0.023*\"notreported\" + 0.023*\"college\" + 0.021*\"dental\"')\n",
      "Extracted Topic: (1, '0.007*\"url\" + 0.007*\"title\" + 0.007*\"category\" + 0.007*\"image\" + 0.007*\"keywords\"')\n",
      "Extracted Topic: (2, '0.000*\"university\" + 0.000*\"na\" + 0.000*\"college\" + 0.000*\"dental\" + 0.000*\"notreported\"')\n",
      "Extracted Topic: (3, '0.000*\"university\" + 0.000*\"na\" + 0.000*\"notreported\" + 0.000*\"college\" + 0.000*\"dental\"')\n",
      "Extracted Topic: (4, '0.019*\"color\" + 0.015*\"0px\" + 0.013*\"div\" + 0.012*\"fff\" + 0.012*\"array\"')\n",
      "Saved topic modeling for StackOverflow to /Users/tnathu-ai/VSCode/Government-Digital-Transformation/data/intermediate/analysis/stackoverflow_topic_modeling.txt\n",
      "Saved qualitative analysis for StackOverflow to /Users/tnathu-ai/VSCode/Government-Digital-Transformation/data/intermediate/analysis/stackoverflow_qualitative_analysis.txt\n",
      "Saved time series visualization for StackOverflow - Topic: university  na  notreported  to /Users/tnathu-ai/VSCode/Government-Digital-Transformation/assets/images/stackoverflow_time_series_analysis_university  na  notreported .png\n"
     ]
    },
    {
     "name": "stderr",
     "output_type": "stream",
     "text": [
      "<timed exec>:63: SettingWithCopyWarning: \n",
      "A value is trying to be set on a copy of a slice from a DataFrame.\n",
      "Try using .loc[row_indexer,col_indexer] = value instead\n",
      "\n",
      "See the caveats in the documentation: https://pandas.pydata.org/pandas-docs/stable/user_guide/indexing.html#returning-a-view-versus-a-copy\n"
     ]
    },
    {
     "name": "stdout",
     "output_type": "stream",
     "text": [
      "Saved time series visualization for StackOverflow - Topic: url  title  category  to /Users/tnathu-ai/VSCode/Government-Digital-Transformation/assets/images/stackoverflow_time_series_analysis_url  title  category .png\n",
      "Saved time series visualization for StackOverflow - Topic: university  na  college  to /Users/tnathu-ai/VSCode/Government-Digital-Transformation/assets/images/stackoverflow_time_series_analysis_university  na  college .png\n",
      "Saved time series visualization for StackOverflow - Topic: university  na  notreported  to /Users/tnathu-ai/VSCode/Government-Digital-Transformation/assets/images/stackoverflow_time_series_analysis_university  na  notreported .png\n",
      "Saved time series visualization for StackOverflow - Topic: color  0px  div  to /Users/tnathu-ai/VSCode/Government-Digital-Transformation/assets/images/stackoverflow_time_series_analysis_color  0px  div .png\n",
      "Saved sentiment analysis for StackOverflow to /Users/tnathu-ai/VSCode/Government-Digital-Transformation/data/intermediate/analysis/stackoverflow_sentiment_analysis.txt\n",
      "Extracted Topic: (0, '0.045*\"xselement\" + 0.038*\"xscomplextype\" + 0.032*\"minoccurs0\" + 0.023*\"xssequence\" + 0.020*\"xsattribute\"')\n",
      "Extracted Topic: (1, '0.100*\"public\" + 0.070*\"string\" + 0.064*\"xmlelementelementname\" + 0.063*\"get\" + 0.044*\"set\"')\n",
      "Extracted Topic: (2, '0.027*\"td\" + 0.015*\"email\" + 0.013*\"tr\" + 0.011*\"div\" + 0.008*\"border0\"')\n",
      "Extracted Topic: (3, '0.020*\"shipping\" + 0.019*\"array\" + 0.018*\"table\" + 0.016*\"set\" + 0.015*\"chosenmethod\"')\n",
      "Extracted Topic: (4, '0.029*\"words\" + 0.019*\"business\" + 0.019*\"tool\" + 0.019*\"similar\" + 0.017*\"nonenglish\"')\n",
      "Saved topic modeling for StackOverflow to /Users/tnathu-ai/VSCode/Government-Digital-Transformation/data/intermediate/analysis/stackoverflow_topic_modeling.txt\n",
      "Saved qualitative analysis for StackOverflow to /Users/tnathu-ai/VSCode/Government-Digital-Transformation/data/intermediate/analysis/stackoverflow_qualitative_analysis.txt\n",
      "Saved time series visualization for StackOverflow - Topic: xselement  xscomplextype  minoccurs0  to /Users/tnathu-ai/VSCode/Government-Digital-Transformation/assets/images/stackoverflow_time_series_analysis_xselement  xscomplextype  minoccurs0 .png\n"
     ]
    },
    {
     "name": "stderr",
     "output_type": "stream",
     "text": [
      "<timed exec>:63: SettingWithCopyWarning: \n",
      "A value is trying to be set on a copy of a slice from a DataFrame.\n",
      "Try using .loc[row_indexer,col_indexer] = value instead\n",
      "\n",
      "See the caveats in the documentation: https://pandas.pydata.org/pandas-docs/stable/user_guide/indexing.html#returning-a-view-versus-a-copy\n",
      "<timed exec>:63: SettingWithCopyWarning: \n",
      "A value is trying to be set on a copy of a slice from a DataFrame.\n",
      "Try using .loc[row_indexer,col_indexer] = value instead\n",
      "\n",
      "See the caveats in the documentation: https://pandas.pydata.org/pandas-docs/stable/user_guide/indexing.html#returning-a-view-versus-a-copy\n"
     ]
    },
    {
     "name": "stdout",
     "output_type": "stream",
     "text": [
      "Saved time series visualization for StackOverflow - Topic: public  string  xmlelementelementname  to /Users/tnathu-ai/VSCode/Government-Digital-Transformation/assets/images/stackoverflow_time_series_analysis_public  string  xmlelementelementname .png\n",
      "Saved time series visualization for StackOverflow - Topic: td  email  tr  to /Users/tnathu-ai/VSCode/Government-Digital-Transformation/assets/images/stackoverflow_time_series_analysis_td  email  tr .png\n"
     ]
    },
    {
     "name": "stderr",
     "output_type": "stream",
     "text": [
      "<timed exec>:63: SettingWithCopyWarning: \n",
      "A value is trying to be set on a copy of a slice from a DataFrame.\n",
      "Try using .loc[row_indexer,col_indexer] = value instead\n",
      "\n",
      "See the caveats in the documentation: https://pandas.pydata.org/pandas-docs/stable/user_guide/indexing.html#returning-a-view-versus-a-copy\n"
     ]
    },
    {
     "name": "stdout",
     "output_type": "stream",
     "text": [
      "Saved time series visualization for StackOverflow - Topic: shipping  array  table  to /Users/tnathu-ai/VSCode/Government-Digital-Transformation/assets/images/stackoverflow_time_series_analysis_shipping  array  table .png\n",
      "Saved time series visualization for StackOverflow - Topic: words  business  tool  to /Users/tnathu-ai/VSCode/Government-Digital-Transformation/assets/images/stackoverflow_time_series_analysis_words  business  tool .png\n",
      "Saved sentiment analysis for StackOverflow to /Users/tnathu-ai/VSCode/Government-Digital-Transformation/data/intermediate/analysis/stackoverflow_sentiment_analysis.txt\n",
      "Extracted Topic: (0, '0.001*\"option\" + 0.001*\"attrs\" + 0.001*\"insurance\" + 0.001*\"nonindividualnametext\" + 0.001*\"security\"')\n",
      "Extracted Topic: (1, '0.033*\"melbourne\" + 0.028*\"20180521\" + 0.025*\"20180520\" + 0.024*\"null\" + 0.019*\"00000000\"')\n",
      "Extracted Topic: (2, '0.022*\"li\" + 0.018*\"breaches\" + 0.013*\"ul\" + 0.013*\"notifications\" + 0.010*\"data\"')\n",
      "Extracted Topic: (3, '0.022*\"security\" + 0.016*\"opportunity\" + 0.015*\"save\" + 0.014*\"testing\" + 0.012*\"penetration\"')\n",
      "Extracted Topic: (4, '0.111*\"option\" + 0.027*\"attrs\" + 0.015*\"insurance\" + 0.015*\"nonindividualnametext\" + 0.014*\"listnonindividualnametext\"')\n",
      "Saved topic modeling for StackOverflow to /Users/tnathu-ai/VSCode/Government-Digital-Transformation/data/intermediate/analysis/stackoverflow_topic_modeling.txt\n",
      "Saved qualitative analysis for StackOverflow to /Users/tnathu-ai/VSCode/Government-Digital-Transformation/data/intermediate/analysis/stackoverflow_qualitative_analysis.txt\n",
      "Saved time series visualization for StackOverflow - Topic: option  attrs  insurance  to /Users/tnathu-ai/VSCode/Government-Digital-Transformation/assets/images/stackoverflow_time_series_analysis_option  attrs  insurance .png\n"
     ]
    },
    {
     "name": "stderr",
     "output_type": "stream",
     "text": [
      "<timed exec>:63: SettingWithCopyWarning: \n",
      "A value is trying to be set on a copy of a slice from a DataFrame.\n",
      "Try using .loc[row_indexer,col_indexer] = value instead\n",
      "\n",
      "See the caveats in the documentation: https://pandas.pydata.org/pandas-docs/stable/user_guide/indexing.html#returning-a-view-versus-a-copy\n",
      "<timed exec>:63: SettingWithCopyWarning: \n",
      "A value is trying to be set on a copy of a slice from a DataFrame.\n",
      "Try using .loc[row_indexer,col_indexer] = value instead\n",
      "\n",
      "See the caveats in the documentation: https://pandas.pydata.org/pandas-docs/stable/user_guide/indexing.html#returning-a-view-versus-a-copy\n"
     ]
    },
    {
     "name": "stdout",
     "output_type": "stream",
     "text": [
      "Saved time series visualization for StackOverflow - Topic: melbourne  20180521  20180520  to /Users/tnathu-ai/VSCode/Government-Digital-Transformation/assets/images/stackoverflow_time_series_analysis_melbourne  20180521  20180520 .png\n",
      "Saved time series visualization for StackOverflow - Topic: li  breaches  ul  to /Users/tnathu-ai/VSCode/Government-Digital-Transformation/assets/images/stackoverflow_time_series_analysis_li  breaches  ul .png\n",
      "Saved time series visualization for StackOverflow - Topic: security  opportunity  save  to /Users/tnathu-ai/VSCode/Government-Digital-Transformation/assets/images/stackoverflow_time_series_analysis_security  opportunity  save .png\n",
      "Saved time series visualization for StackOverflow - Topic: option  attrs  insurance  to /Users/tnathu-ai/VSCode/Government-Digital-Transformation/assets/images/stackoverflow_time_series_analysis_option  attrs  insurance .png\n"
     ]
    },
    {
     "name": "stderr",
     "output_type": "stream",
     "text": [
      "<timed exec>:63: SettingWithCopyWarning: \n",
      "A value is trying to be set on a copy of a slice from a DataFrame.\n",
      "Try using .loc[row_indexer,col_indexer] = value instead\n",
      "\n",
      "See the caveats in the documentation: https://pandas.pydata.org/pandas-docs/stable/user_guide/indexing.html#returning-a-view-versus-a-copy\n"
     ]
    },
    {
     "name": "stdout",
     "output_type": "stream",
     "text": [
      "Saved sentiment analysis for StackOverflow to /Users/tnathu-ai/VSCode/Government-Digital-Transformation/data/intermediate/analysis/stackoverflow_sentiment_analysis.txt\n",
      "Extracted Topic: (0, '0.031*\"im\" + 0.028*\"using\" + 0.028*\"2314\" + 0.028*\"rails\" + 0.026*\"version\"')\n",
      "Extracted Topic: (1, '0.003*\"li\" + 0.003*\"breaches\" + 0.003*\"january\" + 0.003*\"im\" + 0.003*\"2314\"')\n",
      "Extracted Topic: (2, '0.003*\"li\" + 0.003*\"breaches\" + 0.003*\"ul\" + 0.003*\"data\" + 0.003*\"report\"')\n",
      "Extracted Topic: (3, '0.024*\"li\" + 0.019*\"breaches\" + 0.014*\"ul\" + 0.014*\"notifications\" + 0.011*\"data\"')\n",
      "Extracted Topic: (4, '0.003*\"breaches\" + 0.003*\"li\" + 0.003*\"ul\" + 0.003*\"data\" + 0.003*\"report\"')\n",
      "Saved topic modeling for StackOverflow to /Users/tnathu-ai/VSCode/Government-Digital-Transformation/data/intermediate/analysis/stackoverflow_topic_modeling.txt\n",
      "Saved qualitative analysis for StackOverflow to /Users/tnathu-ai/VSCode/Government-Digital-Transformation/data/intermediate/analysis/stackoverflow_qualitative_analysis.txt\n",
      "Saved time series visualization for StackOverflow - Topic: im  using  2314  to /Users/tnathu-ai/VSCode/Government-Digital-Transformation/assets/images/stackoverflow_time_series_analysis_im  using  2314 .png\n",
      "Saved time series visualization for StackOverflow - Topic: li  breaches  january  to /Users/tnathu-ai/VSCode/Government-Digital-Transformation/assets/images/stackoverflow_time_series_analysis_li  breaches  january .png\n",
      "Saved time series visualization for StackOverflow - Topic: li  breaches  ul  to /Users/tnathu-ai/VSCode/Government-Digital-Transformation/assets/images/stackoverflow_time_series_analysis_li  breaches  ul .png\n",
      "Saved time series visualization for StackOverflow - Topic: li  breaches  ul  to /Users/tnathu-ai/VSCode/Government-Digital-Transformation/assets/images/stackoverflow_time_series_analysis_li  breaches  ul .png\n",
      "Saved time series visualization for StackOverflow - Topic: breaches  li  ul  to /Users/tnathu-ai/VSCode/Government-Digital-Transformation/assets/images/stackoverflow_time_series_analysis_breaches  li  ul .png\n",
      "Saved sentiment analysis for StackOverflow to /Users/tnathu-ai/VSCode/Government-Digital-Transformation/data/intermediate/analysis/stackoverflow_sentiment_analysis.txt\n",
      "Extracted Topic: (0, '0.021*\"covid19\" + 0.016*\"people\" + 0.014*\"vaccine\" + 0.012*\"covid\" + 0.011*\"get\"')\n",
      "Extracted Topic: (1, '0.002*\"covid19\" + 0.002*\"people\" + 0.002*\"vaccine\" + 0.002*\"covid\" + 0.002*\"get\"')\n",
      "Extracted Topic: (2, '0.002*\"covid19\" + 0.002*\"vaccine\" + 0.002*\"people\" + 0.002*\"covid\" + 0.002*\"us\"')\n",
      "Extracted Topic: (3, '0.002*\"covid19\" + 0.002*\"people\" + 0.002*\"vaccine\" + 0.002*\"us\" + 0.002*\"covid\"')\n",
      "Extracted Topic: (4, '0.002*\"covid19\" + 0.002*\"people\" + 0.002*\"vaccine\" + 0.002*\"covid\" + 0.002*\"us\"')\n",
      "Saved topic modeling for StackOverflow to /Users/tnathu-ai/VSCode/Government-Digital-Transformation/data/intermediate/analysis/stackoverflow_topic_modeling.txt\n",
      "Saved qualitative analysis for StackOverflow to /Users/tnathu-ai/VSCode/Government-Digital-Transformation/data/intermediate/analysis/stackoverflow_qualitative_analysis.txt\n",
      "Saved time series visualization for StackOverflow - Topic: covid19  people  vaccine  to /Users/tnathu-ai/VSCode/Government-Digital-Transformation/assets/images/stackoverflow_time_series_analysis_covid19  people  vaccine .png\n",
      "Saved time series visualization for StackOverflow - Topic: covid19  people  vaccine  to /Users/tnathu-ai/VSCode/Government-Digital-Transformation/assets/images/stackoverflow_time_series_analysis_covid19  people  vaccine .png\n",
      "Saved time series visualization for StackOverflow - Topic: covid19  vaccine  people  to /Users/tnathu-ai/VSCode/Government-Digital-Transformation/assets/images/stackoverflow_time_series_analysis_covid19  vaccine  people .png\n",
      "Saved time series visualization for StackOverflow - Topic: covid19  people  vaccine  to /Users/tnathu-ai/VSCode/Government-Digital-Transformation/assets/images/stackoverflow_time_series_analysis_covid19  people  vaccine .png\n",
      "Saved time series visualization for StackOverflow - Topic: covid19  people  vaccine  to /Users/tnathu-ai/VSCode/Government-Digital-Transformation/assets/images/stackoverflow_time_series_analysis_covid19  people  vaccine .png\n",
      "Saved sentiment analysis for StackOverflow to /Users/tnathu-ai/VSCode/Government-Digital-Transformation/data/intermediate/analysis/stackoverflow_sentiment_analysis.txt\n",
      "Extracted Topic: (0, '0.007*\"time\" + 0.007*\"would\" + 0.007*\"daylight\" + 0.007*\"getutcoffset\" + 0.007*\"saving\"')\n",
      "Extracted Topic: (1, '0.007*\"time\" + 0.007*\"would\" + 0.007*\"getutcoffset\" + 0.007*\"function\" + 0.007*\"system\"')\n",
      "Extracted Topic: (2, '0.045*\"time\" + 0.033*\"would\" + 0.023*\"daylight\" + 0.023*\"saving\" + 0.022*\"getutcoffset\"')\n",
      "Extracted Topic: (3, '0.007*\"time\" + 0.007*\"would\" + 0.007*\"saving\" + 0.007*\"daylight\" + 0.007*\"getutcoffset\"')\n",
      "Extracted Topic: (4, '0.007*\"time\" + 0.007*\"getutcoffset\" + 0.007*\"would\" + 0.007*\"daylight\" + 0.007*\"saving\"')\n",
      "Saved topic modeling for StackOverflow to /Users/tnathu-ai/VSCode/Government-Digital-Transformation/data/intermediate/analysis/stackoverflow_topic_modeling.txt\n",
      "Saved qualitative analysis for StackOverflow to /Users/tnathu-ai/VSCode/Government-Digital-Transformation/data/intermediate/analysis/stackoverflow_qualitative_analysis.txt\n",
      "Saved time series visualization for StackOverflow - Topic: time  would  daylight  to /Users/tnathu-ai/VSCode/Government-Digital-Transformation/assets/images/stackoverflow_time_series_analysis_time  would  daylight .png\n",
      "Saved time series visualization for StackOverflow - Topic: time  would  getutcoffset  to /Users/tnathu-ai/VSCode/Government-Digital-Transformation/assets/images/stackoverflow_time_series_analysis_time  would  getutcoffset .png\n",
      "Saved time series visualization for StackOverflow - Topic: time  would  daylight  to /Users/tnathu-ai/VSCode/Government-Digital-Transformation/assets/images/stackoverflow_time_series_analysis_time  would  daylight .png\n",
      "Saved time series visualization for StackOverflow - Topic: time  would  saving  to /Users/tnathu-ai/VSCode/Government-Digital-Transformation/assets/images/stackoverflow_time_series_analysis_time  would  saving .png\n",
      "Saved time series visualization for StackOverflow - Topic: time  getutcoffset  would  to /Users/tnathu-ai/VSCode/Government-Digital-Transformation/assets/images/stackoverflow_time_series_analysis_time  getutcoffset  would .png\n",
      "Saved sentiment analysis for StackOverflow to /Users/tnathu-ai/VSCode/Government-Digital-Transformation/data/intermediate/analysis/stackoverflow_sentiment_analysis.txt\n",
      "Extracted Topic: (0, '0.007*\"im\" + 0.007*\"iraq\" + 0.007*\"afghanistan\" + 0.007*\"keyword\" + 0.007*\"australia\"')\n",
      "Extracted Topic: (1, '0.007*\"im\" + 0.007*\"keyword\" + 0.007*\"china\" + 0.007*\"iraq\" + 0.007*\"afghanistan\"')\n",
      "Extracted Topic: (2, '0.007*\"im\" + 0.007*\"china\" + 0.007*\"afghanistan\" + 0.007*\"iraq\" + 0.007*\"learn\"')\n",
      "Extracted Topic: (3, '0.032*\"im\" + 0.018*\"china\" + 0.017*\"iraq\" + 0.017*\"afghanistan\" + 0.012*\"australian\"')\n",
      "Extracted Topic: (4, '0.007*\"im\" + 0.007*\"afghanistan\" + 0.007*\"iraq\" + 0.007*\"china\" + 0.007*\"assange\"')\n",
      "Saved topic modeling for StackOverflow to /Users/tnathu-ai/VSCode/Government-Digital-Transformation/data/intermediate/analysis/stackoverflow_topic_modeling.txt\n",
      "Saved qualitative analysis for StackOverflow to /Users/tnathu-ai/VSCode/Government-Digital-Transformation/data/intermediate/analysis/stackoverflow_qualitative_analysis.txt\n",
      "Saved time series visualization for StackOverflow - Topic: im  iraq  afghanistan  to /Users/tnathu-ai/VSCode/Government-Digital-Transformation/assets/images/stackoverflow_time_series_analysis_im  iraq  afghanistan .png\n",
      "Saved time series visualization for StackOverflow - Topic: im  keyword  china  to /Users/tnathu-ai/VSCode/Government-Digital-Transformation/assets/images/stackoverflow_time_series_analysis_im  keyword  china .png\n",
      "Saved time series visualization for StackOverflow - Topic: im  china  afghanistan  to /Users/tnathu-ai/VSCode/Government-Digital-Transformation/assets/images/stackoverflow_time_series_analysis_im  china  afghanistan .png\n",
      "Saved time series visualization for StackOverflow - Topic: im  china  iraq  to /Users/tnathu-ai/VSCode/Government-Digital-Transformation/assets/images/stackoverflow_time_series_analysis_im  china  iraq .png\n",
      "Saved time series visualization for StackOverflow - Topic: im  afghanistan  iraq  to /Users/tnathu-ai/VSCode/Government-Digital-Transformation/assets/images/stackoverflow_time_series_analysis_im  afghanistan  iraq .png\n",
      "Saved sentiment analysis for StackOverflow to /Users/tnathu-ai/VSCode/Government-Digital-Transformation/data/intermediate/analysis/stackoverflow_sentiment_analysis.txt\n",
      "Extracted Topic: (0, '0.005*\"economic\" + 0.005*\"institute\" + 0.005*\"economics\" + 0.005*\"science\" + 0.005*\"center\"')\n",
      "Extracted Topic: (1, '0.005*\"science\" + 0.005*\"economics\" + 0.005*\"economic\" + 0.005*\"institute\" + 0.005*\"research\"')\n",
      "Extracted Topic: (2, '0.005*\"science\" + 0.005*\"economics\" + 0.005*\"economic\" + 0.005*\"institute\" + 0.005*\"research\"')\n",
      "Extracted Topic: (3, '0.005*\"science\" + 0.005*\"economics\" + 0.005*\"institute\" + 0.005*\"research\" + 0.005*\"economic\"')\n",
      "Extracted Topic: (4, '0.040*\"science\" + 0.031*\"economics\" + 0.026*\"economic\" + 0.025*\"institute\" + 0.018*\"research\"')\n",
      "Saved topic modeling for StackOverflow to /Users/tnathu-ai/VSCode/Government-Digital-Transformation/data/intermediate/analysis/stackoverflow_topic_modeling.txt\n",
      "Saved qualitative analysis for StackOverflow to /Users/tnathu-ai/VSCode/Government-Digital-Transformation/data/intermediate/analysis/stackoverflow_qualitative_analysis.txt\n",
      "Saved time series visualization for StackOverflow - Topic: economic  institute  economics  to /Users/tnathu-ai/VSCode/Government-Digital-Transformation/assets/images/stackoverflow_time_series_analysis_economic  institute  economics .png\n",
      "Saved time series visualization for StackOverflow - Topic: science  economics  economic  to /Users/tnathu-ai/VSCode/Government-Digital-Transformation/assets/images/stackoverflow_time_series_analysis_science  economics  economic .png\n",
      "Saved time series visualization for StackOverflow - Topic: science  economics  economic  to /Users/tnathu-ai/VSCode/Government-Digital-Transformation/assets/images/stackoverflow_time_series_analysis_science  economics  economic .png\n",
      "Saved time series visualization for StackOverflow - Topic: science  economics  institute  to /Users/tnathu-ai/VSCode/Government-Digital-Transformation/assets/images/stackoverflow_time_series_analysis_science  economics  institute .png\n",
      "Saved time series visualization for StackOverflow - Topic: science  economics  economic  to /Users/tnathu-ai/VSCode/Government-Digital-Transformation/assets/images/stackoverflow_time_series_analysis_science  economics  economic .png\n",
      "Saved sentiment analysis for StackOverflow to /Users/tnathu-ai/VSCode/Government-Digital-Transformation/data/intermediate/analysis/stackoverflow_sentiment_analysis.txt\n",
      "Extracted Topic: (0, '0.001*\"url\" + 0.001*\"old\" + 0.001*\"tweetids\" + 0.001*\"keywords\" + 0.001*\"category\"')\n",
      "Extracted Topic: (1, '0.007*\"url\" + 0.007*\"title\" + 0.007*\"category\" + 0.007*\"image\" + 0.007*\"keywords\"')\n",
      "Extracted Topic: (2, '0.001*\"image\" + 0.001*\"keywords\" + 0.001*\"category\" + 0.001*\"title\" + 0.001*\"timestamp\"')\n",
      "Extracted Topic: (3, '0.001*\"description\" + 0.001*\"timestamp\" + 0.001*\"url\" + 0.001*\"keywords\" + 0.001*\"content\"')\n",
      "Extracted Topic: (4, '0.001*\"image\" + 0.001*\"title\" + 0.001*\"url\" + 0.001*\"description\" + 0.001*\"gun\"')\n",
      "Saved topic modeling for StackOverflow to /Users/tnathu-ai/VSCode/Government-Digital-Transformation/data/intermediate/analysis/stackoverflow_topic_modeling.txt\n",
      "Saved qualitative analysis for StackOverflow to /Users/tnathu-ai/VSCode/Government-Digital-Transformation/data/intermediate/analysis/stackoverflow_qualitative_analysis.txt\n",
      "Saved time series visualization for StackOverflow - Topic: url  old  tweetids  to /Users/tnathu-ai/VSCode/Government-Digital-Transformation/assets/images/stackoverflow_time_series_analysis_url  old  tweetids .png\n",
      "Saved time series visualization for StackOverflow - Topic: url  title  category  to /Users/tnathu-ai/VSCode/Government-Digital-Transformation/assets/images/stackoverflow_time_series_analysis_url  title  category .png\n",
      "Saved time series visualization for StackOverflow - Topic: image  keywords  category  to /Users/tnathu-ai/VSCode/Government-Digital-Transformation/assets/images/stackoverflow_time_series_analysis_image  keywords  category .png\n",
      "Saved time series visualization for StackOverflow - Topic: description  timestamp  url  to /Users/tnathu-ai/VSCode/Government-Digital-Transformation/assets/images/stackoverflow_time_series_analysis_description  timestamp  url .png\n",
      "Saved time series visualization for StackOverflow - Topic: image  title  url  to /Users/tnathu-ai/VSCode/Government-Digital-Transformation/assets/images/stackoverflow_time_series_analysis_image  title  url .png\n",
      "Saved sentiment analysis for StackOverflow to /Users/tnathu-ai/VSCode/Government-Digital-Transformation/data/intermediate/analysis/stackoverflow_sentiment_analysis.txt\n",
      "Extracted Topic: (0, '0.003*\"yf\" + 0.003*\"js\" + 0.003*\"accesstoken\" + 0.003*\"ym\" + 0.003*\"payload\"')\n",
      "Extracted Topic: (1, '0.003*\"accesstoken\" + 0.003*\"yl\" + 0.003*\"yf\" + 0.003*\"js\" + 0.003*\"ym\"')\n",
      "Extracted Topic: (2, '0.003*\"giam\" + 0.003*\"js\" + 0.003*\"yf\" + 0.003*\"accesstoken\" + 0.003*\"file\"')\n",
      "Extracted Topic: (3, '0.003*\"js\" + 0.003*\"ym\" + 0.003*\"yf\" + 0.003*\"gial\" + 0.003*\"file\"')\n",
      "Extracted Topic: (4, '0.017*\"js\" + 0.015*\"yf\" + 0.014*\"accesstoken\" + 0.014*\"ym\" + 0.012*\"giam\"')\n",
      "Saved topic modeling for StackOverflow to /Users/tnathu-ai/VSCode/Government-Digital-Transformation/data/intermediate/analysis/stackoverflow_topic_modeling.txt\n",
      "Saved qualitative analysis for StackOverflow to /Users/tnathu-ai/VSCode/Government-Digital-Transformation/data/intermediate/analysis/stackoverflow_qualitative_analysis.txt\n",
      "Saved time series visualization for StackOverflow - Topic: yf  js  accesstoken  to /Users/tnathu-ai/VSCode/Government-Digital-Transformation/assets/images/stackoverflow_time_series_analysis_yf  js  accesstoken .png\n",
      "Saved time series visualization for StackOverflow - Topic: accesstoken  yl  yf  to /Users/tnathu-ai/VSCode/Government-Digital-Transformation/assets/images/stackoverflow_time_series_analysis_accesstoken  yl  yf .png\n",
      "Saved time series visualization for StackOverflow - Topic: giam  js  yf  to /Users/tnathu-ai/VSCode/Government-Digital-Transformation/assets/images/stackoverflow_time_series_analysis_giam  js  yf .png\n",
      "Saved time series visualization for StackOverflow - Topic: js  ym  yf  to /Users/tnathu-ai/VSCode/Government-Digital-Transformation/assets/images/stackoverflow_time_series_analysis_js  ym  yf .png\n",
      "Saved time series visualization for StackOverflow - Topic: js  yf  accesstoken  to /Users/tnathu-ai/VSCode/Government-Digital-Transformation/assets/images/stackoverflow_time_series_analysis_js  yf  accesstoken .png\n",
      "Saved sentiment analysis for StackOverflow to /Users/tnathu-ai/VSCode/Government-Digital-Transformation/data/intermediate/analysis/stackoverflow_sentiment_analysis.txt\n",
      "Extracted Topic: (0, '0.038*\"display\" + 0.010*\"time\" + 0.010*\"title\" + 0.009*\"description\" + 0.008*\"link\"')\n",
      "Extracted Topic: (1, '0.036*\"question\" + 0.034*\"new\" + 0.021*\"none\" + 0.006*\"questionthe\" + 0.006*\"non\"')\n",
      "Extracted Topic: (2, '0.013*\"english\" + 0.008*\"slider\" + 0.008*\"div\" + 0.008*\"name\" + 0.007*\"language\"')\n",
      "Extracted Topic: (3, '0.010*\"line\" + 0.009*\"file\" + 0.008*\"inequality\" + 0.007*\"nations\" + 0.007*\"gci\"')\n",
      "Extracted Topic: (4, '0.141*\"name\" + 0.128*\"value\" + 0.005*\"true\" + 0.005*\"generate\" + 0.004*\"republic\"')\n",
      "Saved topic modeling for StackOverflow to /Users/tnathu-ai/VSCode/Government-Digital-Transformation/data/intermediate/analysis/stackoverflow_topic_modeling.txt\n",
      "Saved qualitative analysis for StackOverflow to /Users/tnathu-ai/VSCode/Government-Digital-Transformation/data/intermediate/analysis/stackoverflow_qualitative_analysis.txt\n",
      "Saved time series visualization for StackOverflow - Topic: display  time  title  to /Users/tnathu-ai/VSCode/Government-Digital-Transformation/assets/images/stackoverflow_time_series_analysis_display  time  title .png\n"
     ]
    },
    {
     "name": "stderr",
     "output_type": "stream",
     "text": [
      "<timed exec>:63: SettingWithCopyWarning: \n",
      "A value is trying to be set on a copy of a slice from a DataFrame.\n",
      "Try using .loc[row_indexer,col_indexer] = value instead\n",
      "\n",
      "See the caveats in the documentation: https://pandas.pydata.org/pandas-docs/stable/user_guide/indexing.html#returning-a-view-versus-a-copy\n"
     ]
    },
    {
     "name": "stdout",
     "output_type": "stream",
     "text": [
      "Saved time series visualization for StackOverflow - Topic: question  new  none  to /Users/tnathu-ai/VSCode/Government-Digital-Transformation/assets/images/stackoverflow_time_series_analysis_question  new  none .png\n",
      "Saved time series visualization for StackOverflow - Topic: english  slider  div  to /Users/tnathu-ai/VSCode/Government-Digital-Transformation/assets/images/stackoverflow_time_series_analysis_english  slider  div .png\n"
     ]
    },
    {
     "name": "stderr",
     "output_type": "stream",
     "text": [
      "<timed exec>:63: SettingWithCopyWarning: \n",
      "A value is trying to be set on a copy of a slice from a DataFrame.\n",
      "Try using .loc[row_indexer,col_indexer] = value instead\n",
      "\n",
      "See the caveats in the documentation: https://pandas.pydata.org/pandas-docs/stable/user_guide/indexing.html#returning-a-view-versus-a-copy\n",
      "<timed exec>:63: SettingWithCopyWarning: \n",
      "A value is trying to be set on a copy of a slice from a DataFrame.\n",
      "Try using .loc[row_indexer,col_indexer] = value instead\n",
      "\n",
      "See the caveats in the documentation: https://pandas.pydata.org/pandas-docs/stable/user_guide/indexing.html#returning-a-view-versus-a-copy\n"
     ]
    },
    {
     "name": "stdout",
     "output_type": "stream",
     "text": [
      "Saved time series visualization for StackOverflow - Topic: line  file  inequality  to /Users/tnathu-ai/VSCode/Government-Digital-Transformation/assets/images/stackoverflow_time_series_analysis_line  file  inequality .png\n",
      "Saved time series visualization for StackOverflow - Topic: name  value  true  to /Users/tnathu-ai/VSCode/Government-Digital-Transformation/assets/images/stackoverflow_time_series_analysis_name  value  true .png\n"
     ]
    },
    {
     "name": "stderr",
     "output_type": "stream",
     "text": [
      "<timed exec>:63: SettingWithCopyWarning: \n",
      "A value is trying to be set on a copy of a slice from a DataFrame.\n",
      "Try using .loc[row_indexer,col_indexer] = value instead\n",
      "\n",
      "See the caveats in the documentation: https://pandas.pydata.org/pandas-docs/stable/user_guide/indexing.html#returning-a-view-versus-a-copy\n"
     ]
    },
    {
     "name": "stdout",
     "output_type": "stream",
     "text": [
      "Saved sentiment analysis for StackOverflow to /Users/tnathu-ai/VSCode/Government-Digital-Transformation/data/intermediate/analysis/stackoverflow_sentiment_analysis.txt\n",
      "Extracted Topic: (0, '0.015*\"checking\" + 0.012*\"php\" + 0.012*\"install\" + 0.011*\"language\" + 0.007*\"testsapp\"')\n",
      "Extracted Topic: (1, '0.018*\"restart\" + 0.016*\"change\" + 0.013*\"default\" + 0.012*\"requires\" + 0.011*\"disables\"')\n",
      "Extracted Topic: (2, '0.027*\"null\" + 0.022*\"false\" + 0.012*\"docker\" + 0.012*\"run\" + 0.009*\"name\"')\n",
      "Extracted Topic: (3, '0.040*\"value\" + 0.016*\"enabled\" + 0.013*\"php\" + 0.013*\"support\" + 0.012*\"version\"')\n",
      "Extracted Topic: (4, '0.033*\"null\" + 0.018*\"return\" + 0.017*\"private\" + 0.015*\"new\" + 0.015*\"import\"')\n",
      "Saved topic modeling for StackOverflow to /Users/tnathu-ai/VSCode/Government-Digital-Transformation/data/intermediate/analysis/stackoverflow_topic_modeling.txt\n",
      "Saved qualitative analysis for StackOverflow to /Users/tnathu-ai/VSCode/Government-Digital-Transformation/data/intermediate/analysis/stackoverflow_qualitative_analysis.txt\n"
     ]
    },
    {
     "name": "stderr",
     "output_type": "stream",
     "text": [
      "<timed exec>:63: SettingWithCopyWarning: \n",
      "A value is trying to be set on a copy of a slice from a DataFrame.\n",
      "Try using .loc[row_indexer,col_indexer] = value instead\n",
      "\n",
      "See the caveats in the documentation: https://pandas.pydata.org/pandas-docs/stable/user_guide/indexing.html#returning-a-view-versus-a-copy\n",
      "<timed exec>:63: SettingWithCopyWarning: \n",
      "A value is trying to be set on a copy of a slice from a DataFrame.\n",
      "Try using .loc[row_indexer,col_indexer] = value instead\n",
      "\n",
      "See the caveats in the documentation: https://pandas.pydata.org/pandas-docs/stable/user_guide/indexing.html#returning-a-view-versus-a-copy\n"
     ]
    },
    {
     "name": "stdout",
     "output_type": "stream",
     "text": [
      "Saved time series visualization for StackOverflow - Topic: checking  php  install  to /Users/tnathu-ai/VSCode/Government-Digital-Transformation/assets/images/stackoverflow_time_series_analysis_checking  php  install .png\n",
      "Saved time series visualization for StackOverflow - Topic: restart  change  default  to /Users/tnathu-ai/VSCode/Government-Digital-Transformation/assets/images/stackoverflow_time_series_analysis_restart  change  default .png\n"
     ]
    },
    {
     "name": "stderr",
     "output_type": "stream",
     "text": [
      "<timed exec>:63: SettingWithCopyWarning: \n",
      "A value is trying to be set on a copy of a slice from a DataFrame.\n",
      "Try using .loc[row_indexer,col_indexer] = value instead\n",
      "\n",
      "See the caveats in the documentation: https://pandas.pydata.org/pandas-docs/stable/user_guide/indexing.html#returning-a-view-versus-a-copy\n",
      "<timed exec>:63: SettingWithCopyWarning: \n",
      "A value is trying to be set on a copy of a slice from a DataFrame.\n",
      "Try using .loc[row_indexer,col_indexer] = value instead\n",
      "\n",
      "See the caveats in the documentation: https://pandas.pydata.org/pandas-docs/stable/user_guide/indexing.html#returning-a-view-versus-a-copy\n"
     ]
    },
    {
     "name": "stdout",
     "output_type": "stream",
     "text": [
      "Saved time series visualization for StackOverflow - Topic: null  false  docker  to /Users/tnathu-ai/VSCode/Government-Digital-Transformation/assets/images/stackoverflow_time_series_analysis_null  false  docker .png\n",
      "Saved time series visualization for StackOverflow - Topic: value  enabled  php  to /Users/tnathu-ai/VSCode/Government-Digital-Transformation/assets/images/stackoverflow_time_series_analysis_value  enabled  php .png\n"
     ]
    },
    {
     "name": "stderr",
     "output_type": "stream",
     "text": [
      "<timed exec>:63: SettingWithCopyWarning: \n",
      "A value is trying to be set on a copy of a slice from a DataFrame.\n",
      "Try using .loc[row_indexer,col_indexer] = value instead\n",
      "\n",
      "See the caveats in the documentation: https://pandas.pydata.org/pandas-docs/stable/user_guide/indexing.html#returning-a-view-versus-a-copy\n"
     ]
    },
    {
     "name": "stdout",
     "output_type": "stream",
     "text": [
      "Saved time series visualization for StackOverflow - Topic: null  return  private  to /Users/tnathu-ai/VSCode/Government-Digital-Transformation/assets/images/stackoverflow_time_series_analysis_null  return  private .png\n",
      "Saved top services visualization for StackOverflow to /Users/tnathu-ai/VSCode/Government-Digital-Transformation/assets/images/stackoverflow_top_services.png\n",
      "Saved top services visualization for StackOverflow to /Users/tnathu-ai/VSCode/Government-Digital-Transformation/assets/images/stackoverflow_top_services.png\n",
      "Saved top services visualization for StackOverflow to /Users/tnathu-ai/VSCode/Government-Digital-Transformation/assets/images/stackoverflow_top_services.png\n",
      "Saved top services visualization for StackOverflow to /Users/tnathu-ai/VSCode/Government-Digital-Transformation/assets/images/stackoverflow_top_services.png\n",
      "Saved top services visualization for StackOverflow to /Users/tnathu-ai/VSCode/Government-Digital-Transformation/assets/images/stackoverflow_top_services.png\n",
      "Saved top services visualization for StackOverflow to /Users/tnathu-ai/VSCode/Government-Digital-Transformation/assets/images/stackoverflow_top_services.png\n",
      "Saved top services visualization for StackOverflow to /Users/tnathu-ai/VSCode/Government-Digital-Transformation/assets/images/stackoverflow_top_services.png\n",
      "Saved top services visualization for StackOverflow to /Users/tnathu-ai/VSCode/Government-Digital-Transformation/assets/images/stackoverflow_top_services.png\n",
      "Saved top services visualization for StackOverflow to /Users/tnathu-ai/VSCode/Government-Digital-Transformation/assets/images/stackoverflow_top_services.png\n",
      "Saved top services visualization for StackOverflow to /Users/tnathu-ai/VSCode/Government-Digital-Transformation/assets/images/stackoverflow_top_services.png\n",
      "Saved top services visualization for StackOverflow to /Users/tnathu-ai/VSCode/Government-Digital-Transformation/assets/images/stackoverflow_top_services.png\n",
      "Saved top services visualization for StackOverflow to /Users/tnathu-ai/VSCode/Government-Digital-Transformation/assets/images/stackoverflow_top_services.png\n",
      "Saved top services visualization for StackOverflow to /Users/tnathu-ai/VSCode/Government-Digital-Transformation/assets/images/stackoverflow_top_services.png\n",
      "Saved top services visualization for StackOverflow to /Users/tnathu-ai/VSCode/Government-Digital-Transformation/assets/images/stackoverflow_top_services.png\n",
      "Saved top services visualization for StackOverflow to /Users/tnathu-ai/VSCode/Government-Digital-Transformation/assets/images/stackoverflow_top_services.png\n",
      "Saved top services visualization for StackOverflow to /Users/tnathu-ai/VSCode/Government-Digital-Transformation/assets/images/stackoverflow_top_services.png\n",
      "Saved top services visualization for StackOverflow to /Users/tnathu-ai/VSCode/Government-Digital-Transformation/assets/images/stackoverflow_top_services.png\n",
      "Saved top services visualization for StackOverflow to /Users/tnathu-ai/VSCode/Government-Digital-Transformation/assets/images/stackoverflow_top_services.png\n",
      "Saved top services visualization for StackOverflow to /Users/tnathu-ai/VSCode/Government-Digital-Transformation/assets/images/stackoverflow_top_services.png\n",
      "Saved top services visualization for StackOverflow to /Users/tnathu-ai/VSCode/Government-Digital-Transformation/assets/images/stackoverflow_top_services.png\n",
      "Saved top services visualization for StackOverflow to /Users/tnathu-ai/VSCode/Government-Digital-Transformation/assets/images/stackoverflow_top_services.png\n",
      "Saved top services visualization for StackOverflow to /Users/tnathu-ai/VSCode/Government-Digital-Transformation/assets/images/stackoverflow_top_services.png\n",
      "Saved top services visualization for StackOverflow to /Users/tnathu-ai/VSCode/Government-Digital-Transformation/assets/images/stackoverflow_top_services.png\n",
      "Saved top services visualization for StackOverflow to /Users/tnathu-ai/VSCode/Government-Digital-Transformation/assets/images/stackoverflow_top_services.png\n",
      "Saved top services visualization for StackOverflow to /Users/tnathu-ai/VSCode/Government-Digital-Transformation/assets/images/stackoverflow_top_services.png\n",
      "Saved top services visualization for StackOverflow to /Users/tnathu-ai/VSCode/Government-Digital-Transformation/assets/images/stackoverflow_top_services.png\n",
      "Saved top services visualization for StackOverflow to /Users/tnathu-ai/VSCode/Government-Digital-Transformation/assets/images/stackoverflow_top_services.png\n",
      "Saved top services visualization for StackOverflow to /Users/tnathu-ai/VSCode/Government-Digital-Transformation/assets/images/stackoverflow_top_services.png\n",
      "Saved top services visualization for StackOverflow to /Users/tnathu-ai/VSCode/Government-Digital-Transformation/assets/images/stackoverflow_top_services.png\n",
      "Saved top services visualization for StackOverflow to /Users/tnathu-ai/VSCode/Government-Digital-Transformation/assets/images/stackoverflow_top_services.png\n",
      "Saved top services visualization for StackOverflow to /Users/tnathu-ai/VSCode/Government-Digital-Transformation/assets/images/stackoverflow_top_services.png\n",
      "Saved top services visualization for StackOverflow to /Users/tnathu-ai/VSCode/Government-Digital-Transformation/assets/images/stackoverflow_top_services.png\n",
      "Saved top services visualization for StackOverflow to /Users/tnathu-ai/VSCode/Government-Digital-Transformation/assets/images/stackoverflow_top_services.png\n",
      "Saved top services visualization for StackOverflow to /Users/tnathu-ai/VSCode/Government-Digital-Transformation/assets/images/stackoverflow_top_services.png\n",
      "Saved top services visualization for StackOverflow to /Users/tnathu-ai/VSCode/Government-Digital-Transformation/assets/images/stackoverflow_top_services.png\n",
      "Saved top services visualization for StackOverflow to /Users/tnathu-ai/VSCode/Government-Digital-Transformation/assets/images/stackoverflow_top_services.png\n",
      "Saved top services visualization for StackOverflow to /Users/tnathu-ai/VSCode/Government-Digital-Transformation/assets/images/stackoverflow_top_services.png\n",
      "Saved top services visualization for StackOverflow to /Users/tnathu-ai/VSCode/Government-Digital-Transformation/assets/images/stackoverflow_top_services.png\n",
      "Saved top services visualization for StackOverflow to /Users/tnathu-ai/VSCode/Government-Digital-Transformation/assets/images/stackoverflow_top_services.png\n",
      "Saved top services visualization for StackOverflow to /Users/tnathu-ai/VSCode/Government-Digital-Transformation/assets/images/stackoverflow_top_services.png\n",
      "Saved top services visualization for StackOverflow to /Users/tnathu-ai/VSCode/Government-Digital-Transformation/assets/images/stackoverflow_top_services.png\n",
      "Saved top services visualization for StackOverflow to /Users/tnathu-ai/VSCode/Government-Digital-Transformation/assets/images/stackoverflow_top_services.png\n",
      "Saved top services visualization for StackOverflow to /Users/tnathu-ai/VSCode/Government-Digital-Transformation/assets/images/stackoverflow_top_services.png\n",
      "Saved top services visualization for StackOverflow to /Users/tnathu-ai/VSCode/Government-Digital-Transformation/assets/images/stackoverflow_top_services.png\n",
      "Saved top services visualization for StackOverflow to /Users/tnathu-ai/VSCode/Government-Digital-Transformation/assets/images/stackoverflow_top_services.png\n",
      "Saved top services visualization for StackOverflow to /Users/tnathu-ai/VSCode/Government-Digital-Transformation/assets/images/stackoverflow_top_services.png\n",
      "Saved top services visualization for StackOverflow to /Users/tnathu-ai/VSCode/Government-Digital-Transformation/assets/images/stackoverflow_top_services.png\n",
      "Saved top services visualization for StackOverflow to /Users/tnathu-ai/VSCode/Government-Digital-Transformation/assets/images/stackoverflow_top_services.png\n",
      "Saved top services visualization for StackOverflow to /Users/tnathu-ai/VSCode/Government-Digital-Transformation/assets/images/stackoverflow_top_services.png\n",
      "Saved top services visualization for StackOverflow to /Users/tnathu-ai/VSCode/Government-Digital-Transformation/assets/images/stackoverflow_top_services.png\n",
      "Saved top services visualization for StackOverflow to /Users/tnathu-ai/VSCode/Government-Digital-Transformation/assets/images/stackoverflow_top_services.png\n",
      "Saved top services visualization for StackOverflow to /Users/tnathu-ai/VSCode/Government-Digital-Transformation/assets/images/stackoverflow_top_services.png\n",
      "Saved top services visualization for StackOverflow to /Users/tnathu-ai/VSCode/Government-Digital-Transformation/assets/images/stackoverflow_top_services.png\n",
      "Saved top services visualization for StackOverflow to /Users/tnathu-ai/VSCode/Government-Digital-Transformation/assets/images/stackoverflow_top_services.png\n",
      "Saved top services visualization for StackOverflow to /Users/tnathu-ai/VSCode/Government-Digital-Transformation/assets/images/stackoverflow_top_services.png\n",
      "Saved top services visualization for StackOverflow to /Users/tnathu-ai/VSCode/Government-Digital-Transformation/assets/images/stackoverflow_top_services.png\n",
      "Saved top services visualization for StackOverflow to /Users/tnathu-ai/VSCode/Government-Digital-Transformation/assets/images/stackoverflow_top_services.png\n",
      "Saved top services visualization for StackOverflow to /Users/tnathu-ai/VSCode/Government-Digital-Transformation/assets/images/stackoverflow_top_services.png\n",
      "Saved top services visualization for StackOverflow to /Users/tnathu-ai/VSCode/Government-Digital-Transformation/assets/images/stackoverflow_top_services.png\n",
      "Saved top services visualization for StackOverflow to /Users/tnathu-ai/VSCode/Government-Digital-Transformation/assets/images/stackoverflow_top_services.png\n",
      "Saved top services visualization for StackOverflow to /Users/tnathu-ai/VSCode/Government-Digital-Transformation/assets/images/stackoverflow_top_services.png\n",
      "Saved top services visualization for StackOverflow to /Users/tnathu-ai/VSCode/Government-Digital-Transformation/assets/images/stackoverflow_top_services.png\n",
      "Saved top services visualization for StackOverflow to /Users/tnathu-ai/VSCode/Government-Digital-Transformation/assets/images/stackoverflow_top_services.png\n",
      "Saved top services visualization for StackOverflow to /Users/tnathu-ai/VSCode/Government-Digital-Transformation/assets/images/stackoverflow_top_services.png\n",
      "Saved top services visualization for StackOverflow to /Users/tnathu-ai/VSCode/Government-Digital-Transformation/assets/images/stackoverflow_top_services.png\n",
      "Saved top services visualization for StackOverflow to /Users/tnathu-ai/VSCode/Government-Digital-Transformation/assets/images/stackoverflow_top_services.png\n",
      "Saved top services visualization for StackOverflow to /Users/tnathu-ai/VSCode/Government-Digital-Transformation/assets/images/stackoverflow_top_services.png\n",
      "Saved top services visualization for StackOverflow to /Users/tnathu-ai/VSCode/Government-Digital-Transformation/assets/images/stackoverflow_top_services.png\n",
      "Saved top services visualization for StackOverflow to /Users/tnathu-ai/VSCode/Government-Digital-Transformation/assets/images/stackoverflow_top_services.png\n",
      "Saved top services visualization for StackOverflow to /Users/tnathu-ai/VSCode/Government-Digital-Transformation/assets/images/stackoverflow_top_services.png\n",
      "Saved top services visualization for StackOverflow to /Users/tnathu-ai/VSCode/Government-Digital-Transformation/assets/images/stackoverflow_top_services.png\n",
      "Saved top services visualization for StackOverflow to /Users/tnathu-ai/VSCode/Government-Digital-Transformation/assets/images/stackoverflow_top_services.png\n",
      "Saved top services visualization for StackOverflow to /Users/tnathu-ai/VSCode/Government-Digital-Transformation/assets/images/stackoverflow_top_services.png\n",
      "Saved top services visualization for StackOverflow to /Users/tnathu-ai/VSCode/Government-Digital-Transformation/assets/images/stackoverflow_top_services.png\n",
      "Saved top services visualization for StackOverflow to /Users/tnathu-ai/VSCode/Government-Digital-Transformation/assets/images/stackoverflow_top_services.png\n",
      "Saved top services visualization for StackOverflow to /Users/tnathu-ai/VSCode/Government-Digital-Transformation/assets/images/stackoverflow_top_services.png\n",
      "Saved top services visualization for StackOverflow to /Users/tnathu-ai/VSCode/Government-Digital-Transformation/assets/images/stackoverflow_top_services.png\n",
      "Saved top services visualization for StackOverflow to /Users/tnathu-ai/VSCode/Government-Digital-Transformation/assets/images/stackoverflow_top_services.png\n",
      "Saved top services visualization for StackOverflow to /Users/tnathu-ai/VSCode/Government-Digital-Transformation/assets/images/stackoverflow_top_services.png\n",
      "Saved top services visualization for StackOverflow to /Users/tnathu-ai/VSCode/Government-Digital-Transformation/assets/images/stackoverflow_top_services.png\n",
      "Saved top services visualization for StackOverflow to /Users/tnathu-ai/VSCode/Government-Digital-Transformation/assets/images/stackoverflow_top_services.png\n",
      "Saved top services visualization for StackOverflow to /Users/tnathu-ai/VSCode/Government-Digital-Transformation/assets/images/stackoverflow_top_services.png\n",
      "Saved top services visualization for StackOverflow to /Users/tnathu-ai/VSCode/Government-Digital-Transformation/assets/images/stackoverflow_top_services.png\n",
      "Saved top services visualization for StackOverflow to /Users/tnathu-ai/VSCode/Government-Digital-Transformation/assets/images/stackoverflow_top_services.png\n",
      "Saved top services visualization for StackOverflow to /Users/tnathu-ai/VSCode/Government-Digital-Transformation/assets/images/stackoverflow_top_services.png\n",
      "Saved top services visualization for StackOverflow to /Users/tnathu-ai/VSCode/Government-Digital-Transformation/assets/images/stackoverflow_top_services.png\n",
      "Saved top services visualization for StackOverflow to /Users/tnathu-ai/VSCode/Government-Digital-Transformation/assets/images/stackoverflow_top_services.png\n",
      "Saved top services visualization for StackOverflow to /Users/tnathu-ai/VSCode/Government-Digital-Transformation/assets/images/stackoverflow_top_services.png\n",
      "Saved top services visualization for StackOverflow to /Users/tnathu-ai/VSCode/Government-Digital-Transformation/assets/images/stackoverflow_top_services.png\n",
      "Saved top services visualization for StackOverflow to /Users/tnathu-ai/VSCode/Government-Digital-Transformation/assets/images/stackoverflow_top_services.png\n",
      "Saved top services visualization for StackOverflow to /Users/tnathu-ai/VSCode/Government-Digital-Transformation/assets/images/stackoverflow_top_services.png\n",
      "Saved top services visualization for StackOverflow to /Users/tnathu-ai/VSCode/Government-Digital-Transformation/assets/images/stackoverflow_top_services.png\n",
      "Saved top services visualization for StackOverflow to /Users/tnathu-ai/VSCode/Government-Digital-Transformation/assets/images/stackoverflow_top_services.png\n",
      "Saved top services visualization for StackOverflow to /Users/tnathu-ai/VSCode/Government-Digital-Transformation/assets/images/stackoverflow_top_services.png\n",
      "Saved top services visualization for StackOverflow to /Users/tnathu-ai/VSCode/Government-Digital-Transformation/assets/images/stackoverflow_top_services.png\n",
      "Saved top services visualization for StackOverflow to /Users/tnathu-ai/VSCode/Government-Digital-Transformation/assets/images/stackoverflow_top_services.png\n",
      "Saved top services visualization for StackOverflow to /Users/tnathu-ai/VSCode/Government-Digital-Transformation/assets/images/stackoverflow_top_services.png\n",
      "Saved top services visualization for StackOverflow to /Users/tnathu-ai/VSCode/Government-Digital-Transformation/assets/images/stackoverflow_top_services.png\n",
      "Saved top services visualization for StackOverflow to /Users/tnathu-ai/VSCode/Government-Digital-Transformation/assets/images/stackoverflow_top_services.png\n",
      "Saved top services visualization for StackOverflow to /Users/tnathu-ai/VSCode/Government-Digital-Transformation/assets/images/stackoverflow_top_services.png\n",
      "Saved top services visualization for StackOverflow to /Users/tnathu-ai/VSCode/Government-Digital-Transformation/assets/images/stackoverflow_top_services.png\n",
      "Saved top services visualization for StackOverflow to /Users/tnathu-ai/VSCode/Government-Digital-Transformation/assets/images/stackoverflow_top_services.png\n",
      "Saved top services visualization for StackOverflow to /Users/tnathu-ai/VSCode/Government-Digital-Transformation/assets/images/stackoverflow_top_services.png\n",
      "Saved top services visualization for StackOverflow to /Users/tnathu-ai/VSCode/Government-Digital-Transformation/assets/images/stackoverflow_top_services.png\n",
      "Saved top services visualization for StackOverflow to /Users/tnathu-ai/VSCode/Government-Digital-Transformation/assets/images/stackoverflow_top_services.png\n",
      "Saved top services visualization for StackOverflow to /Users/tnathu-ai/VSCode/Government-Digital-Transformation/assets/images/stackoverflow_top_services.png\n",
      "Saved top services visualization for StackOverflow to /Users/tnathu-ai/VSCode/Government-Digital-Transformation/assets/images/stackoverflow_top_services.png\n",
      "Saved top services visualization for StackOverflow to /Users/tnathu-ai/VSCode/Government-Digital-Transformation/assets/images/stackoverflow_top_services.png\n",
      "Saved top services visualization for StackOverflow to /Users/tnathu-ai/VSCode/Government-Digital-Transformation/assets/images/stackoverflow_top_services.png\n",
      "Saved top services visualization for StackOverflow to /Users/tnathu-ai/VSCode/Government-Digital-Transformation/assets/images/stackoverflow_top_services.png\n",
      "Saved top services visualization for StackOverflow to /Users/tnathu-ai/VSCode/Government-Digital-Transformation/assets/images/stackoverflow_top_services.png\n",
      "Saved top services visualization for StackOverflow to /Users/tnathu-ai/VSCode/Government-Digital-Transformation/assets/images/stackoverflow_top_services.png\n",
      "Saved sentiment analysis for Reddit to /Users/tnathu-ai/VSCode/Government-Digital-Transformation/data/intermediate/analysis/reddit_sentiment_analysis.txt\n",
      "Extracted Topic: (0, '0.019*\"like\" + 0.015*\"dont\" + 0.012*\"people\" + 0.011*\"think\" + 0.011*\"im\"')\n",
      "Extracted Topic: (1, '0.027*\"city\" + 0.013*\"australia\" + 0.013*\"sydney\" + 0.011*\"melbourne\" + 0.011*\"cities\"')\n",
      "Extracted Topic: (2, '0.014*\"years\" + 0.012*\"get\" + 0.009*\"back\" + 0.009*\"go\" + 0.008*\"work\"')\n",
      "Extracted Topic: (3, '0.007*\"use\" + 0.006*\"youre\" + 0.005*\"data\" + 0.005*\"comment\" + 0.005*\"government\"')\n",
      "Extracted Topic: (4, '0.018*\"people\" + 0.010*\"would\" + 0.008*\"dont\" + 0.008*\"need\" + 0.006*\"get\"')\n",
      "Saved topic modeling for Reddit to /Users/tnathu-ai/VSCode/Government-Digital-Transformation/data/intermediate/analysis/reddit_topic_modeling.txt\n",
      "Saved qualitative analysis for Reddit to /Users/tnathu-ai/VSCode/Government-Digital-Transformation/data/intermediate/analysis/reddit_qualitative_analysis.txt\n"
     ]
    },
    {
     "name": "stderr",
     "output_type": "stream",
     "text": [
      "<timed exec>:63: SettingWithCopyWarning: \n",
      "A value is trying to be set on a copy of a slice from a DataFrame.\n",
      "Try using .loc[row_indexer,col_indexer] = value instead\n",
      "\n",
      "See the caveats in the documentation: https://pandas.pydata.org/pandas-docs/stable/user_guide/indexing.html#returning-a-view-versus-a-copy\n"
     ]
    },
    {
     "name": "stdout",
     "output_type": "stream",
     "text": [
      "Saved time series visualization for Reddit - Topic: like  dont  people  to /Users/tnathu-ai/VSCode/Government-Digital-Transformation/assets/images/reddit_time_series_analysis_like  dont  people .png\n"
     ]
    },
    {
     "name": "stderr",
     "output_type": "stream",
     "text": [
      "<timed exec>:63: SettingWithCopyWarning: \n",
      "A value is trying to be set on a copy of a slice from a DataFrame.\n",
      "Try using .loc[row_indexer,col_indexer] = value instead\n",
      "\n",
      "See the caveats in the documentation: https://pandas.pydata.org/pandas-docs/stable/user_guide/indexing.html#returning-a-view-versus-a-copy\n"
     ]
    },
    {
     "name": "stdout",
     "output_type": "stream",
     "text": [
      "Saved time series visualization for Reddit - Topic: city  australia  sydney  to /Users/tnathu-ai/VSCode/Government-Digital-Transformation/assets/images/reddit_time_series_analysis_city  australia  sydney .png\n"
     ]
    },
    {
     "name": "stderr",
     "output_type": "stream",
     "text": [
      "<timed exec>:63: SettingWithCopyWarning: \n",
      "A value is trying to be set on a copy of a slice from a DataFrame.\n",
      "Try using .loc[row_indexer,col_indexer] = value instead\n",
      "\n",
      "See the caveats in the documentation: https://pandas.pydata.org/pandas-docs/stable/user_guide/indexing.html#returning-a-view-versus-a-copy\n"
     ]
    },
    {
     "name": "stdout",
     "output_type": "stream",
     "text": [
      "Saved time series visualization for Reddit - Topic: years  get  back  to /Users/tnathu-ai/VSCode/Government-Digital-Transformation/assets/images/reddit_time_series_analysis_years  get  back .png\n"
     ]
    },
    {
     "name": "stderr",
     "output_type": "stream",
     "text": [
      "<timed exec>:63: SettingWithCopyWarning: \n",
      "A value is trying to be set on a copy of a slice from a DataFrame.\n",
      "Try using .loc[row_indexer,col_indexer] = value instead\n",
      "\n",
      "See the caveats in the documentation: https://pandas.pydata.org/pandas-docs/stable/user_guide/indexing.html#returning-a-view-versus-a-copy\n"
     ]
    },
    {
     "name": "stdout",
     "output_type": "stream",
     "text": [
      "Saved time series visualization for Reddit - Topic: use  youre  data  to /Users/tnathu-ai/VSCode/Government-Digital-Transformation/assets/images/reddit_time_series_analysis_use  youre  data .png\n"
     ]
    },
    {
     "name": "stderr",
     "output_type": "stream",
     "text": [
      "<timed exec>:63: SettingWithCopyWarning: \n",
      "A value is trying to be set on a copy of a slice from a DataFrame.\n",
      "Try using .loc[row_indexer,col_indexer] = value instead\n",
      "\n",
      "See the caveats in the documentation: https://pandas.pydata.org/pandas-docs/stable/user_guide/indexing.html#returning-a-view-versus-a-copy\n"
     ]
    },
    {
     "name": "stdout",
     "output_type": "stream",
     "text": [
      "Saved time series visualization for Reddit - Topic: people  would  dont  to /Users/tnathu-ai/VSCode/Government-Digital-Transformation/assets/images/reddit_time_series_analysis_people  would  dont .png\n",
      "Saved sentiment analysis for Reddit to /Users/tnathu-ai/VSCode/Government-Digital-Transformation/data/intermediate/analysis/reddit_sentiment_analysis.txt\n",
      "Extracted Topic: (0, '0.018*\"people\" + 0.009*\"time\" + 0.008*\"get\" + 0.007*\"covid\" + 0.006*\"dont\"')\n",
      "Extracted Topic: (1, '0.028*\"internet\" + 0.010*\"web\" + 0.009*\"world\" + 0.009*\"invented\" + 0.009*\"cern\"')\n",
      "Extracted Topic: (2, '0.010*\"australia\" + 0.008*\"one\" + 0.008*\"china\" + 0.007*\"dont\" + 0.007*\"im\"')\n",
      "Extracted Topic: (3, '0.017*\"would\" + 0.016*\"like\" + 0.007*\"dont\" + 0.006*\"even\" + 0.006*\"anything\"')\n",
      "Extracted Topic: (4, '0.018*\"metric\" + 0.016*\"us\" + 0.014*\"use\" + 0.013*\"imperial\" + 0.010*\"system\"')\n",
      "Saved topic modeling for Reddit to /Users/tnathu-ai/VSCode/Government-Digital-Transformation/data/intermediate/analysis/reddit_topic_modeling.txt\n",
      "Saved qualitative analysis for Reddit to /Users/tnathu-ai/VSCode/Government-Digital-Transformation/data/intermediate/analysis/reddit_qualitative_analysis.txt\n"
     ]
    },
    {
     "name": "stderr",
     "output_type": "stream",
     "text": [
      "<timed exec>:63: SettingWithCopyWarning: \n",
      "A value is trying to be set on a copy of a slice from a DataFrame.\n",
      "Try using .loc[row_indexer,col_indexer] = value instead\n",
      "\n",
      "See the caveats in the documentation: https://pandas.pydata.org/pandas-docs/stable/user_guide/indexing.html#returning-a-view-versus-a-copy\n"
     ]
    },
    {
     "name": "stdout",
     "output_type": "stream",
     "text": [
      "Saved time series visualization for Reddit - Topic: people  time  get  to /Users/tnathu-ai/VSCode/Government-Digital-Transformation/assets/images/reddit_time_series_analysis_people  time  get .png\n"
     ]
    },
    {
     "name": "stderr",
     "output_type": "stream",
     "text": [
      "<timed exec>:63: SettingWithCopyWarning: \n",
      "A value is trying to be set on a copy of a slice from a DataFrame.\n",
      "Try using .loc[row_indexer,col_indexer] = value instead\n",
      "\n",
      "See the caveats in the documentation: https://pandas.pydata.org/pandas-docs/stable/user_guide/indexing.html#returning-a-view-versus-a-copy\n"
     ]
    },
    {
     "name": "stdout",
     "output_type": "stream",
     "text": [
      "Saved time series visualization for Reddit - Topic: internet  web  world  to /Users/tnathu-ai/VSCode/Government-Digital-Transformation/assets/images/reddit_time_series_analysis_internet  web  world .png\n"
     ]
    },
    {
     "name": "stderr",
     "output_type": "stream",
     "text": [
      "<timed exec>:63: SettingWithCopyWarning: \n",
      "A value is trying to be set on a copy of a slice from a DataFrame.\n",
      "Try using .loc[row_indexer,col_indexer] = value instead\n",
      "\n",
      "See the caveats in the documentation: https://pandas.pydata.org/pandas-docs/stable/user_guide/indexing.html#returning-a-view-versus-a-copy\n"
     ]
    },
    {
     "name": "stdout",
     "output_type": "stream",
     "text": [
      "Saved time series visualization for Reddit - Topic: australia  one  china  to /Users/tnathu-ai/VSCode/Government-Digital-Transformation/assets/images/reddit_time_series_analysis_australia  one  china .png\n"
     ]
    },
    {
     "name": "stderr",
     "output_type": "stream",
     "text": [
      "<timed exec>:63: SettingWithCopyWarning: \n",
      "A value is trying to be set on a copy of a slice from a DataFrame.\n",
      "Try using .loc[row_indexer,col_indexer] = value instead\n",
      "\n",
      "See the caveats in the documentation: https://pandas.pydata.org/pandas-docs/stable/user_guide/indexing.html#returning-a-view-versus-a-copy\n"
     ]
    },
    {
     "name": "stdout",
     "output_type": "stream",
     "text": [
      "Saved time series visualization for Reddit - Topic: would  like  dont  to /Users/tnathu-ai/VSCode/Government-Digital-Transformation/assets/images/reddit_time_series_analysis_would  like  dont .png\n"
     ]
    },
    {
     "name": "stderr",
     "output_type": "stream",
     "text": [
      "<timed exec>:63: SettingWithCopyWarning: \n",
      "A value is trying to be set on a copy of a slice from a DataFrame.\n",
      "Try using .loc[row_indexer,col_indexer] = value instead\n",
      "\n",
      "See the caveats in the documentation: https://pandas.pydata.org/pandas-docs/stable/user_guide/indexing.html#returning-a-view-versus-a-copy\n"
     ]
    },
    {
     "name": "stdout",
     "output_type": "stream",
     "text": [
      "Saved time series visualization for Reddit - Topic: metric  us  use  to /Users/tnathu-ai/VSCode/Government-Digital-Transformation/assets/images/reddit_time_series_analysis_metric  us  use .png\n",
      "Saved sentiment analysis for Reddit to /Users/tnathu-ai/VSCode/Government-Digital-Transformation/data/intermediate/analysis/reddit_sentiment_analysis.txt\n",
      "Extracted Topic: (0, '0.014*\"government\" + 0.011*\"people\" + 0.010*\"use\" + 0.009*\"may\" + 0.007*\"like\"')\n",
      "Extracted Topic: (1, '0.015*\"im\" + 0.015*\"family\" + 0.014*\"would\" + 0.012*\"time\" + 0.012*\"dont\"')\n",
      "Extracted Topic: (2, '0.020*\"people\" + 0.014*\"like\" + 0.011*\"dont\" + 0.010*\"make\" + 0.009*\"want\"')\n",
      "Extracted Topic: (3, '0.014*\"people\" + 0.013*\"get\" + 0.007*\"dont\" + 0.007*\"health\" + 0.006*\"youre\"')\n",
      "Extracted Topic: (4, '0.015*\"australia\" + 0.010*\"years\" + 0.009*\"house\" + 0.008*\"pay\" + 0.007*\"year\"')\n",
      "Saved topic modeling for Reddit to /Users/tnathu-ai/VSCode/Government-Digital-Transformation/data/intermediate/analysis/reddit_topic_modeling.txt\n",
      "Saved qualitative analysis for Reddit to /Users/tnathu-ai/VSCode/Government-Digital-Transformation/data/intermediate/analysis/reddit_qualitative_analysis.txt\n"
     ]
    },
    {
     "name": "stderr",
     "output_type": "stream",
     "text": [
      "<timed exec>:63: SettingWithCopyWarning: \n",
      "A value is trying to be set on a copy of a slice from a DataFrame.\n",
      "Try using .loc[row_indexer,col_indexer] = value instead\n",
      "\n",
      "See the caveats in the documentation: https://pandas.pydata.org/pandas-docs/stable/user_guide/indexing.html#returning-a-view-versus-a-copy\n"
     ]
    },
    {
     "name": "stdout",
     "output_type": "stream",
     "text": [
      "Saved time series visualization for Reddit - Topic: government  people  use  to /Users/tnathu-ai/VSCode/Government-Digital-Transformation/assets/images/reddit_time_series_analysis_government  people  use .png\n"
     ]
    },
    {
     "name": "stderr",
     "output_type": "stream",
     "text": [
      "<timed exec>:63: SettingWithCopyWarning: \n",
      "A value is trying to be set on a copy of a slice from a DataFrame.\n",
      "Try using .loc[row_indexer,col_indexer] = value instead\n",
      "\n",
      "See the caveats in the documentation: https://pandas.pydata.org/pandas-docs/stable/user_guide/indexing.html#returning-a-view-versus-a-copy\n"
     ]
    },
    {
     "name": "stdout",
     "output_type": "stream",
     "text": [
      "Saved time series visualization for Reddit - Topic: im  family  would  to /Users/tnathu-ai/VSCode/Government-Digital-Transformation/assets/images/reddit_time_series_analysis_im  family  would .png\n"
     ]
    },
    {
     "name": "stderr",
     "output_type": "stream",
     "text": [
      "<timed exec>:63: SettingWithCopyWarning: \n",
      "A value is trying to be set on a copy of a slice from a DataFrame.\n",
      "Try using .loc[row_indexer,col_indexer] = value instead\n",
      "\n",
      "See the caveats in the documentation: https://pandas.pydata.org/pandas-docs/stable/user_guide/indexing.html#returning-a-view-versus-a-copy\n"
     ]
    },
    {
     "name": "stdout",
     "output_type": "stream",
     "text": [
      "Saved time series visualization for Reddit - Topic: people  like  dont  to /Users/tnathu-ai/VSCode/Government-Digital-Transformation/assets/images/reddit_time_series_analysis_people  like  dont .png\n"
     ]
    },
    {
     "name": "stderr",
     "output_type": "stream",
     "text": [
      "<timed exec>:63: SettingWithCopyWarning: \n",
      "A value is trying to be set on a copy of a slice from a DataFrame.\n",
      "Try using .loc[row_indexer,col_indexer] = value instead\n",
      "\n",
      "See the caveats in the documentation: https://pandas.pydata.org/pandas-docs/stable/user_guide/indexing.html#returning-a-view-versus-a-copy\n"
     ]
    },
    {
     "name": "stdout",
     "output_type": "stream",
     "text": [
      "Saved time series visualization for Reddit - Topic: people  get  dont  to /Users/tnathu-ai/VSCode/Government-Digital-Transformation/assets/images/reddit_time_series_analysis_people  get  dont .png\n"
     ]
    },
    {
     "name": "stderr",
     "output_type": "stream",
     "text": [
      "<timed exec>:63: SettingWithCopyWarning: \n",
      "A value is trying to be set on a copy of a slice from a DataFrame.\n",
      "Try using .loc[row_indexer,col_indexer] = value instead\n",
      "\n",
      "See the caveats in the documentation: https://pandas.pydata.org/pandas-docs/stable/user_guide/indexing.html#returning-a-view-versus-a-copy\n"
     ]
    },
    {
     "name": "stdout",
     "output_type": "stream",
     "text": [
      "Saved time series visualization for Reddit - Topic: australia  years  house  to /Users/tnathu-ai/VSCode/Government-Digital-Transformation/assets/images/reddit_time_series_analysis_australia  years  house .png\n",
      "Saved sentiment analysis for Reddit to /Users/tnathu-ai/VSCode/Government-Digital-Transformation/data/intermediate/analysis/reddit_sentiment_analysis.txt\n",
      "Extracted Topic: (0, '0.011*\"like\" + 0.010*\"im\" + 0.009*\"would\" + 0.008*\"dont\" + 0.007*\"one\"')\n",
      "Extracted Topic: (1, '0.016*\"trump\" + 0.007*\"emails\" + 0.006*\"said\" + 0.005*\"australian\" + 0.005*\"information\"')\n",
      "Extracted Topic: (2, '0.021*\"people\" + 0.010*\"us\" + 0.009*\"like\" + 0.009*\"would\" + 0.008*\"dont\"')\n",
      "Extracted Topic: (3, '0.014*\"us\" + 0.011*\"russia\" + 0.009*\"countries\" + 0.007*\"china\" + 0.007*\"ukraine\"')\n",
      "Extracted Topic: (4, '0.018*\"also\" + 0.009*\"like\" + 0.008*\"anne\" + 0.007*\"could\" + 0.006*\"one\"')\n",
      "Saved topic modeling for Reddit to /Users/tnathu-ai/VSCode/Government-Digital-Transformation/data/intermediate/analysis/reddit_topic_modeling.txt\n",
      "Saved qualitative analysis for Reddit to /Users/tnathu-ai/VSCode/Government-Digital-Transformation/data/intermediate/analysis/reddit_qualitative_analysis.txt\n"
     ]
    },
    {
     "name": "stderr",
     "output_type": "stream",
     "text": [
      "<timed exec>:63: SettingWithCopyWarning: \n",
      "A value is trying to be set on a copy of a slice from a DataFrame.\n",
      "Try using .loc[row_indexer,col_indexer] = value instead\n",
      "\n",
      "See the caveats in the documentation: https://pandas.pydata.org/pandas-docs/stable/user_guide/indexing.html#returning-a-view-versus-a-copy\n"
     ]
    },
    {
     "name": "stdout",
     "output_type": "stream",
     "text": [
      "Saved time series visualization for Reddit - Topic: like  im  would  to /Users/tnathu-ai/VSCode/Government-Digital-Transformation/assets/images/reddit_time_series_analysis_like  im  would .png\n"
     ]
    },
    {
     "name": "stderr",
     "output_type": "stream",
     "text": [
      "<timed exec>:63: SettingWithCopyWarning: \n",
      "A value is trying to be set on a copy of a slice from a DataFrame.\n",
      "Try using .loc[row_indexer,col_indexer] = value instead\n",
      "\n",
      "See the caveats in the documentation: https://pandas.pydata.org/pandas-docs/stable/user_guide/indexing.html#returning-a-view-versus-a-copy\n"
     ]
    },
    {
     "name": "stdout",
     "output_type": "stream",
     "text": [
      "Saved time series visualization for Reddit - Topic: trump  emails  said  to /Users/tnathu-ai/VSCode/Government-Digital-Transformation/assets/images/reddit_time_series_analysis_trump  emails  said .png\n"
     ]
    },
    {
     "name": "stderr",
     "output_type": "stream",
     "text": [
      "<timed exec>:63: SettingWithCopyWarning: \n",
      "A value is trying to be set on a copy of a slice from a DataFrame.\n",
      "Try using .loc[row_indexer,col_indexer] = value instead\n",
      "\n",
      "See the caveats in the documentation: https://pandas.pydata.org/pandas-docs/stable/user_guide/indexing.html#returning-a-view-versus-a-copy\n"
     ]
    },
    {
     "name": "stdout",
     "output_type": "stream",
     "text": [
      "Saved time series visualization for Reddit - Topic: people  us  like  to /Users/tnathu-ai/VSCode/Government-Digital-Transformation/assets/images/reddit_time_series_analysis_people  us  like .png\n"
     ]
    },
    {
     "name": "stderr",
     "output_type": "stream",
     "text": [
      "<timed exec>:63: SettingWithCopyWarning: \n",
      "A value is trying to be set on a copy of a slice from a DataFrame.\n",
      "Try using .loc[row_indexer,col_indexer] = value instead\n",
      "\n",
      "See the caveats in the documentation: https://pandas.pydata.org/pandas-docs/stable/user_guide/indexing.html#returning-a-view-versus-a-copy\n"
     ]
    },
    {
     "name": "stdout",
     "output_type": "stream",
     "text": [
      "Saved time series visualization for Reddit - Topic: us  russia  countries  to /Users/tnathu-ai/VSCode/Government-Digital-Transformation/assets/images/reddit_time_series_analysis_us  russia  countries .png\n"
     ]
    },
    {
     "name": "stderr",
     "output_type": "stream",
     "text": [
      "<timed exec>:63: SettingWithCopyWarning: \n",
      "A value is trying to be set on a copy of a slice from a DataFrame.\n",
      "Try using .loc[row_indexer,col_indexer] = value instead\n",
      "\n",
      "See the caveats in the documentation: https://pandas.pydata.org/pandas-docs/stable/user_guide/indexing.html#returning-a-view-versus-a-copy\n"
     ]
    },
    {
     "name": "stdout",
     "output_type": "stream",
     "text": [
      "Saved time series visualization for Reddit - Topic: also  like  anne  to /Users/tnathu-ai/VSCode/Government-Digital-Transformation/assets/images/reddit_time_series_analysis_also  like  anne .png\n",
      "Saved sentiment analysis for Reddit to /Users/tnathu-ai/VSCode/Government-Digital-Transformation/data/intermediate/analysis/reddit_sentiment_analysis.txt\n",
      "Extracted Topic: (0, '0.017*\"people\" + 0.016*\"war\" + 0.011*\"like\" + 0.010*\"country\" + 0.010*\"brs\"')\n",
      "Extracted Topic: (1, '0.011*\"people\" + 0.009*\"like\" + 0.008*\"one\" + 0.008*\"criminal\" + 0.006*\"force\"')\n",
      "Extracted Topic: (2, '0.013*\"war\" + 0.012*\"would\" + 0.007*\"think\" + 0.006*\"crimes\" + 0.006*\"sas\"')\n",
      "Extracted Topic: (3, '0.010*\"war\" + 0.008*\"many\" + 0.008*\"think\" + 0.007*\"get\" + 0.007*\"hes\"')\n",
      "Extracted Topic: (4, '0.018*\"people\" + 0.013*\"would\" + 0.012*\"war\" + 0.007*\"never\" + 0.006*\"death\"')\n",
      "Saved topic modeling for Reddit to /Users/tnathu-ai/VSCode/Government-Digital-Transformation/data/intermediate/analysis/reddit_topic_modeling.txt\n",
      "Saved qualitative analysis for Reddit to /Users/tnathu-ai/VSCode/Government-Digital-Transformation/data/intermediate/analysis/reddit_qualitative_analysis.txt\n",
      "Saved time series visualization for Reddit - Topic: people  war  like  to /Users/tnathu-ai/VSCode/Government-Digital-Transformation/assets/images/reddit_time_series_analysis_people  war  like .png\n"
     ]
    },
    {
     "name": "stderr",
     "output_type": "stream",
     "text": [
      "<timed exec>:63: SettingWithCopyWarning: \n",
      "A value is trying to be set on a copy of a slice from a DataFrame.\n",
      "Try using .loc[row_indexer,col_indexer] = value instead\n",
      "\n",
      "See the caveats in the documentation: https://pandas.pydata.org/pandas-docs/stable/user_guide/indexing.html#returning-a-view-versus-a-copy\n",
      "<timed exec>:63: SettingWithCopyWarning: \n",
      "A value is trying to be set on a copy of a slice from a DataFrame.\n",
      "Try using .loc[row_indexer,col_indexer] = value instead\n",
      "\n",
      "See the caveats in the documentation: https://pandas.pydata.org/pandas-docs/stable/user_guide/indexing.html#returning-a-view-versus-a-copy\n"
     ]
    },
    {
     "name": "stdout",
     "output_type": "stream",
     "text": [
      "Saved time series visualization for Reddit - Topic: people  like  one  to /Users/tnathu-ai/VSCode/Government-Digital-Transformation/assets/images/reddit_time_series_analysis_people  like  one .png\n",
      "Saved time series visualization for Reddit - Topic: war  would  think  to /Users/tnathu-ai/VSCode/Government-Digital-Transformation/assets/images/reddit_time_series_analysis_war  would  think .png\n"
     ]
    },
    {
     "name": "stderr",
     "output_type": "stream",
     "text": [
      "<timed exec>:63: SettingWithCopyWarning: \n",
      "A value is trying to be set on a copy of a slice from a DataFrame.\n",
      "Try using .loc[row_indexer,col_indexer] = value instead\n",
      "\n",
      "See the caveats in the documentation: https://pandas.pydata.org/pandas-docs/stable/user_guide/indexing.html#returning-a-view-versus-a-copy\n",
      "<timed exec>:63: SettingWithCopyWarning: \n",
      "A value is trying to be set on a copy of a slice from a DataFrame.\n",
      "Try using .loc[row_indexer,col_indexer] = value instead\n",
      "\n",
      "See the caveats in the documentation: https://pandas.pydata.org/pandas-docs/stable/user_guide/indexing.html#returning-a-view-versus-a-copy\n"
     ]
    },
    {
     "name": "stdout",
     "output_type": "stream",
     "text": [
      "Saved time series visualization for Reddit - Topic: war  many  think  to /Users/tnathu-ai/VSCode/Government-Digital-Transformation/assets/images/reddit_time_series_analysis_war  many  think .png\n",
      "Saved time series visualization for Reddit - Topic: people  would  war  to /Users/tnathu-ai/VSCode/Government-Digital-Transformation/assets/images/reddit_time_series_analysis_people  would  war .png\n"
     ]
    },
    {
     "name": "stderr",
     "output_type": "stream",
     "text": [
      "<timed exec>:63: SettingWithCopyWarning: \n",
      "A value is trying to be set on a copy of a slice from a DataFrame.\n",
      "Try using .loc[row_indexer,col_indexer] = value instead\n",
      "\n",
      "See the caveats in the documentation: https://pandas.pydata.org/pandas-docs/stable/user_guide/indexing.html#returning-a-view-versus-a-copy\n"
     ]
    },
    {
     "name": "stdout",
     "output_type": "stream",
     "text": [
      "Saved sentiment analysis for Reddit to /Users/tnathu-ai/VSCode/Government-Digital-Transformation/data/intermediate/analysis/reddit_sentiment_analysis.txt\n",
      "Extracted Topic: (0, '0.011*\"speaker\" + 0.008*\"israel\" + 0.006*\"aid\" + 0.005*\"hong\" + 0.005*\"kong\"')\n",
      "Extracted Topic: (1, '0.015*\"people\" + 0.011*\"israel\" + 0.010*\"dont\" + 0.009*\"one\" + 0.007*\"even\"')\n",
      "Extracted Topic: (2, '0.013*\"foreign\" + 0.013*\"government\" + 0.010*\"india\" + 0.007*\"international\" + 0.006*\"secretary\"')\n",
      "Extracted Topic: (3, '0.015*\"us\" + 0.011*\"russia\" + 0.011*\"china\" + 0.009*\"people\" + 0.008*\"war\"')\n",
      "Extracted Topic: (4, '0.020*\"would\" + 0.015*\"like\" + 0.012*\"us\" + 0.011*\"canada\" + 0.010*\"im\"')\n",
      "Saved topic modeling for Reddit to /Users/tnathu-ai/VSCode/Government-Digital-Transformation/data/intermediate/analysis/reddit_topic_modeling.txt\n",
      "Saved qualitative analysis for Reddit to /Users/tnathu-ai/VSCode/Government-Digital-Transformation/data/intermediate/analysis/reddit_qualitative_analysis.txt\n"
     ]
    },
    {
     "name": "stderr",
     "output_type": "stream",
     "text": [
      "<timed exec>:63: SettingWithCopyWarning: \n",
      "A value is trying to be set on a copy of a slice from a DataFrame.\n",
      "Try using .loc[row_indexer,col_indexer] = value instead\n",
      "\n",
      "See the caveats in the documentation: https://pandas.pydata.org/pandas-docs/stable/user_guide/indexing.html#returning-a-view-versus-a-copy\n"
     ]
    },
    {
     "name": "stdout",
     "output_type": "stream",
     "text": [
      "Saved time series visualization for Reddit - Topic: speaker  israel  aid  to /Users/tnathu-ai/VSCode/Government-Digital-Transformation/assets/images/reddit_time_series_analysis_speaker  israel  aid .png\n"
     ]
    },
    {
     "name": "stderr",
     "output_type": "stream",
     "text": [
      "<timed exec>:63: SettingWithCopyWarning: \n",
      "A value is trying to be set on a copy of a slice from a DataFrame.\n",
      "Try using .loc[row_indexer,col_indexer] = value instead\n",
      "\n",
      "See the caveats in the documentation: https://pandas.pydata.org/pandas-docs/stable/user_guide/indexing.html#returning-a-view-versus-a-copy\n"
     ]
    },
    {
     "name": "stdout",
     "output_type": "stream",
     "text": [
      "Saved time series visualization for Reddit - Topic: people  israel  dont  to /Users/tnathu-ai/VSCode/Government-Digital-Transformation/assets/images/reddit_time_series_analysis_people  israel  dont .png\n"
     ]
    },
    {
     "name": "stderr",
     "output_type": "stream",
     "text": [
      "<timed exec>:63: SettingWithCopyWarning: \n",
      "A value is trying to be set on a copy of a slice from a DataFrame.\n",
      "Try using .loc[row_indexer,col_indexer] = value instead\n",
      "\n",
      "See the caveats in the documentation: https://pandas.pydata.org/pandas-docs/stable/user_guide/indexing.html#returning-a-view-versus-a-copy\n"
     ]
    },
    {
     "name": "stdout",
     "output_type": "stream",
     "text": [
      "Saved time series visualization for Reddit - Topic: foreign  government  india  to /Users/tnathu-ai/VSCode/Government-Digital-Transformation/assets/images/reddit_time_series_analysis_foreign  government  india .png\n"
     ]
    },
    {
     "name": "stderr",
     "output_type": "stream",
     "text": [
      "<timed exec>:63: SettingWithCopyWarning: \n",
      "A value is trying to be set on a copy of a slice from a DataFrame.\n",
      "Try using .loc[row_indexer,col_indexer] = value instead\n",
      "\n",
      "See the caveats in the documentation: https://pandas.pydata.org/pandas-docs/stable/user_guide/indexing.html#returning-a-view-versus-a-copy\n"
     ]
    },
    {
     "name": "stdout",
     "output_type": "stream",
     "text": [
      "Saved time series visualization for Reddit - Topic: us  russia  china  to /Users/tnathu-ai/VSCode/Government-Digital-Transformation/assets/images/reddit_time_series_analysis_us  russia  china .png\n"
     ]
    },
    {
     "name": "stderr",
     "output_type": "stream",
     "text": [
      "<timed exec>:63: SettingWithCopyWarning: \n",
      "A value is trying to be set on a copy of a slice from a DataFrame.\n",
      "Try using .loc[row_indexer,col_indexer] = value instead\n",
      "\n",
      "See the caveats in the documentation: https://pandas.pydata.org/pandas-docs/stable/user_guide/indexing.html#returning-a-view-versus-a-copy\n"
     ]
    },
    {
     "name": "stdout",
     "output_type": "stream",
     "text": [
      "Saved time series visualization for Reddit - Topic: would  like  us  to /Users/tnathu-ai/VSCode/Government-Digital-Transformation/assets/images/reddit_time_series_analysis_would  like  us .png\n",
      "Saved sentiment analysis for Reddit to /Users/tnathu-ai/VSCode/Government-Digital-Transformation/data/intermediate/analysis/reddit_sentiment_analysis.txt\n",
      "Extracted Topic: (0, '0.012*\"dont\" + 0.011*\"like\" + 0.011*\"trump\" + 0.010*\"people\" + 0.009*\"thats\"')\n",
      "Extracted Topic: (1, '0.016*\"care\" + 0.011*\"get\" + 0.011*\"people\" + 0.008*\"money\" + 0.008*\"pay\"')\n",
      "Extracted Topic: (2, '0.021*\"like\" + 0.020*\"daughter\" + 0.014*\"wife\" + 0.012*\"dont\" + 0.009*\"old\"')\n",
      "Extracted Topic: (3, '0.016*\"people\" + 0.013*\"mental\" + 0.013*\"health\" + 0.010*\"biden\" + 0.009*\"age\"')\n",
      "Extracted Topic: (4, '0.012*\"im\" + 0.010*\"years\" + 0.010*\"life\" + 0.009*\"time\" + 0.009*\"one\"')\n",
      "Saved topic modeling for Reddit to /Users/tnathu-ai/VSCode/Government-Digital-Transformation/data/intermediate/analysis/reddit_topic_modeling.txt\n",
      "Saved qualitative analysis for Reddit to /Users/tnathu-ai/VSCode/Government-Digital-Transformation/data/intermediate/analysis/reddit_qualitative_analysis.txt\n"
     ]
    },
    {
     "name": "stderr",
     "output_type": "stream",
     "text": [
      "<timed exec>:63: SettingWithCopyWarning: \n",
      "A value is trying to be set on a copy of a slice from a DataFrame.\n",
      "Try using .loc[row_indexer,col_indexer] = value instead\n",
      "\n",
      "See the caveats in the documentation: https://pandas.pydata.org/pandas-docs/stable/user_guide/indexing.html#returning-a-view-versus-a-copy\n"
     ]
    },
    {
     "name": "stdout",
     "output_type": "stream",
     "text": [
      "Saved time series visualization for Reddit - Topic: dont  like  trump  to /Users/tnathu-ai/VSCode/Government-Digital-Transformation/assets/images/reddit_time_series_analysis_dont  like  trump .png\n"
     ]
    },
    {
     "name": "stderr",
     "output_type": "stream",
     "text": [
      "<timed exec>:63: SettingWithCopyWarning: \n",
      "A value is trying to be set on a copy of a slice from a DataFrame.\n",
      "Try using .loc[row_indexer,col_indexer] = value instead\n",
      "\n",
      "See the caveats in the documentation: https://pandas.pydata.org/pandas-docs/stable/user_guide/indexing.html#returning-a-view-versus-a-copy\n"
     ]
    },
    {
     "name": "stdout",
     "output_type": "stream",
     "text": [
      "Saved time series visualization for Reddit - Topic: care  get  people  to /Users/tnathu-ai/VSCode/Government-Digital-Transformation/assets/images/reddit_time_series_analysis_care  get  people .png\n"
     ]
    },
    {
     "name": "stderr",
     "output_type": "stream",
     "text": [
      "<timed exec>:63: SettingWithCopyWarning: \n",
      "A value is trying to be set on a copy of a slice from a DataFrame.\n",
      "Try using .loc[row_indexer,col_indexer] = value instead\n",
      "\n",
      "See the caveats in the documentation: https://pandas.pydata.org/pandas-docs/stable/user_guide/indexing.html#returning-a-view-versus-a-copy\n"
     ]
    },
    {
     "name": "stdout",
     "output_type": "stream",
     "text": [
      "Saved time series visualization for Reddit - Topic: like  daughter  wife  to /Users/tnathu-ai/VSCode/Government-Digital-Transformation/assets/images/reddit_time_series_analysis_like  daughter  wife .png\n"
     ]
    },
    {
     "name": "stderr",
     "output_type": "stream",
     "text": [
      "<timed exec>:63: SettingWithCopyWarning: \n",
      "A value is trying to be set on a copy of a slice from a DataFrame.\n",
      "Try using .loc[row_indexer,col_indexer] = value instead\n",
      "\n",
      "See the caveats in the documentation: https://pandas.pydata.org/pandas-docs/stable/user_guide/indexing.html#returning-a-view-versus-a-copy\n"
     ]
    },
    {
     "name": "stdout",
     "output_type": "stream",
     "text": [
      "Saved time series visualization for Reddit - Topic: people  mental  health  to /Users/tnathu-ai/VSCode/Government-Digital-Transformation/assets/images/reddit_time_series_analysis_people  mental  health .png\n"
     ]
    },
    {
     "name": "stderr",
     "output_type": "stream",
     "text": [
      "<timed exec>:63: SettingWithCopyWarning: \n",
      "A value is trying to be set on a copy of a slice from a DataFrame.\n",
      "Try using .loc[row_indexer,col_indexer] = value instead\n",
      "\n",
      "See the caveats in the documentation: https://pandas.pydata.org/pandas-docs/stable/user_guide/indexing.html#returning-a-view-versus-a-copy\n"
     ]
    },
    {
     "name": "stdout",
     "output_type": "stream",
     "text": [
      "Saved time series visualization for Reddit - Topic: im  years  life  to /Users/tnathu-ai/VSCode/Government-Digital-Transformation/assets/images/reddit_time_series_analysis_im  years  life .png\n",
      "Saved sentiment analysis for Reddit to /Users/tnathu-ai/VSCode/Government-Digital-Transformation/data/intermediate/analysis/reddit_sentiment_analysis.txt\n",
      "Extracted Topic: (0, '0.021*\"people\" + 0.006*\"would\" + 0.006*\"government\" + 0.006*\"get\" + 0.005*\"years\"')\n",
      "Extracted Topic: (1, '0.013*\"us\" + 0.012*\"australia\" + 0.011*\"china\" + 0.008*\"australian\" + 0.006*\"high\"')\n",
      "Extracted Topic: (2, '0.011*\"party\" + 0.010*\"one\" + 0.009*\"would\" + 0.008*\"vote\" + 0.007*\"get\"')\n",
      "Extracted Topic: (3, '0.018*\"dont\" + 0.018*\"people\" + 0.016*\"like\" + 0.010*\"im\" + 0.010*\"youre\"')\n",
      "Extracted Topic: (4, '0.010*\"water\" + 0.008*\"would\" + 0.007*\"need\" + 0.005*\"use\" + 0.005*\"money\"')\n",
      "Saved topic modeling for Reddit to /Users/tnathu-ai/VSCode/Government-Digital-Transformation/data/intermediate/analysis/reddit_topic_modeling.txt\n",
      "Saved qualitative analysis for Reddit to /Users/tnathu-ai/VSCode/Government-Digital-Transformation/data/intermediate/analysis/reddit_qualitative_analysis.txt\n"
     ]
    },
    {
     "name": "stderr",
     "output_type": "stream",
     "text": [
      "<timed exec>:63: SettingWithCopyWarning: \n",
      "A value is trying to be set on a copy of a slice from a DataFrame.\n",
      "Try using .loc[row_indexer,col_indexer] = value instead\n",
      "\n",
      "See the caveats in the documentation: https://pandas.pydata.org/pandas-docs/stable/user_guide/indexing.html#returning-a-view-versus-a-copy\n"
     ]
    },
    {
     "name": "stdout",
     "output_type": "stream",
     "text": [
      "Saved time series visualization for Reddit - Topic: people  would  government  to /Users/tnathu-ai/VSCode/Government-Digital-Transformation/assets/images/reddit_time_series_analysis_people  would  government .png\n"
     ]
    },
    {
     "name": "stderr",
     "output_type": "stream",
     "text": [
      "<timed exec>:63: SettingWithCopyWarning: \n",
      "A value is trying to be set on a copy of a slice from a DataFrame.\n",
      "Try using .loc[row_indexer,col_indexer] = value instead\n",
      "\n",
      "See the caveats in the documentation: https://pandas.pydata.org/pandas-docs/stable/user_guide/indexing.html#returning-a-view-versus-a-copy\n"
     ]
    },
    {
     "name": "stdout",
     "output_type": "stream",
     "text": [
      "Saved time series visualization for Reddit - Topic: us  australia  china  to /Users/tnathu-ai/VSCode/Government-Digital-Transformation/assets/images/reddit_time_series_analysis_us  australia  china .png\n"
     ]
    },
    {
     "name": "stderr",
     "output_type": "stream",
     "text": [
      "<timed exec>:63: SettingWithCopyWarning: \n",
      "A value is trying to be set on a copy of a slice from a DataFrame.\n",
      "Try using .loc[row_indexer,col_indexer] = value instead\n",
      "\n",
      "See the caveats in the documentation: https://pandas.pydata.org/pandas-docs/stable/user_guide/indexing.html#returning-a-view-versus-a-copy\n"
     ]
    },
    {
     "name": "stdout",
     "output_type": "stream",
     "text": [
      "Saved time series visualization for Reddit - Topic: party  one  would  to /Users/tnathu-ai/VSCode/Government-Digital-Transformation/assets/images/reddit_time_series_analysis_party  one  would .png\n"
     ]
    },
    {
     "name": "stderr",
     "output_type": "stream",
     "text": [
      "<timed exec>:63: SettingWithCopyWarning: \n",
      "A value is trying to be set on a copy of a slice from a DataFrame.\n",
      "Try using .loc[row_indexer,col_indexer] = value instead\n",
      "\n",
      "See the caveats in the documentation: https://pandas.pydata.org/pandas-docs/stable/user_guide/indexing.html#returning-a-view-versus-a-copy\n"
     ]
    },
    {
     "name": "stdout",
     "output_type": "stream",
     "text": [
      "Saved time series visualization for Reddit - Topic: dont  people  like  to /Users/tnathu-ai/VSCode/Government-Digital-Transformation/assets/images/reddit_time_series_analysis_dont  people  like .png\n"
     ]
    },
    {
     "name": "stderr",
     "output_type": "stream",
     "text": [
      "<timed exec>:63: SettingWithCopyWarning: \n",
      "A value is trying to be set on a copy of a slice from a DataFrame.\n",
      "Try using .loc[row_indexer,col_indexer] = value instead\n",
      "\n",
      "See the caveats in the documentation: https://pandas.pydata.org/pandas-docs/stable/user_guide/indexing.html#returning-a-view-versus-a-copy\n"
     ]
    },
    {
     "name": "stdout",
     "output_type": "stream",
     "text": [
      "Saved time series visualization for Reddit - Topic: water  would  need  to /Users/tnathu-ai/VSCode/Government-Digital-Transformation/assets/images/reddit_time_series_analysis_water  would  need .png\n",
      "Saved sentiment analysis for Reddit to /Users/tnathu-ai/VSCode/Government-Digital-Transformation/data/intermediate/analysis/reddit_sentiment_analysis.txt\n",
      "Extracted Topic: (0, '0.018*\"government\" + 0.009*\"party\" + 0.007*\"state\" + 0.007*\"change\" + 0.006*\"australian\"')\n",
      "Extracted Topic: (1, '0.021*\"us\" + 0.021*\"australia\" + 0.016*\"country\" + 0.014*\"china\" + 0.013*\"world\"')\n",
      "Extracted Topic: (2, '0.012*\"money\" + 0.010*\"would\" + 0.010*\"pay\" + 0.008*\"get\" + 0.007*\"need\"')\n",
      "Extracted Topic: (3, '0.026*\"people\" + 0.021*\"dont\" + 0.012*\"like\" + 0.012*\"think\" + 0.010*\"would\"')\n",
      "Extracted Topic: (4, '0.014*\"internet\" + 0.010*\"im\" + 0.010*\"get\" + 0.009*\"data\" + 0.009*\"got\"')\n",
      "Saved topic modeling for Reddit to /Users/tnathu-ai/VSCode/Government-Digital-Transformation/data/intermediate/analysis/reddit_topic_modeling.txt\n",
      "Saved qualitative analysis for Reddit to /Users/tnathu-ai/VSCode/Government-Digital-Transformation/data/intermediate/analysis/reddit_qualitative_analysis.txt\n"
     ]
    },
    {
     "name": "stderr",
     "output_type": "stream",
     "text": [
      "<timed exec>:63: SettingWithCopyWarning: \n",
      "A value is trying to be set on a copy of a slice from a DataFrame.\n",
      "Try using .loc[row_indexer,col_indexer] = value instead\n",
      "\n",
      "See the caveats in the documentation: https://pandas.pydata.org/pandas-docs/stable/user_guide/indexing.html#returning-a-view-versus-a-copy\n"
     ]
    },
    {
     "name": "stdout",
     "output_type": "stream",
     "text": [
      "Saved time series visualization for Reddit - Topic: government  party  state  to /Users/tnathu-ai/VSCode/Government-Digital-Transformation/assets/images/reddit_time_series_analysis_government  party  state .png\n"
     ]
    },
    {
     "name": "stderr",
     "output_type": "stream",
     "text": [
      "<timed exec>:63: SettingWithCopyWarning: \n",
      "A value is trying to be set on a copy of a slice from a DataFrame.\n",
      "Try using .loc[row_indexer,col_indexer] = value instead\n",
      "\n",
      "See the caveats in the documentation: https://pandas.pydata.org/pandas-docs/stable/user_guide/indexing.html#returning-a-view-versus-a-copy\n"
     ]
    },
    {
     "name": "stdout",
     "output_type": "stream",
     "text": [
      "Saved time series visualization for Reddit - Topic: us  australia  country  to /Users/tnathu-ai/VSCode/Government-Digital-Transformation/assets/images/reddit_time_series_analysis_us  australia  country .png\n"
     ]
    },
    {
     "name": "stderr",
     "output_type": "stream",
     "text": [
      "<timed exec>:63: SettingWithCopyWarning: \n",
      "A value is trying to be set on a copy of a slice from a DataFrame.\n",
      "Try using .loc[row_indexer,col_indexer] = value instead\n",
      "\n",
      "See the caveats in the documentation: https://pandas.pydata.org/pandas-docs/stable/user_guide/indexing.html#returning-a-view-versus-a-copy\n"
     ]
    },
    {
     "name": "stdout",
     "output_type": "stream",
     "text": [
      "Saved time series visualization for Reddit - Topic: money  would  pay  to /Users/tnathu-ai/VSCode/Government-Digital-Transformation/assets/images/reddit_time_series_analysis_money  would  pay .png\n"
     ]
    },
    {
     "name": "stderr",
     "output_type": "stream",
     "text": [
      "<timed exec>:63: SettingWithCopyWarning: \n",
      "A value is trying to be set on a copy of a slice from a DataFrame.\n",
      "Try using .loc[row_indexer,col_indexer] = value instead\n",
      "\n",
      "See the caveats in the documentation: https://pandas.pydata.org/pandas-docs/stable/user_guide/indexing.html#returning-a-view-versus-a-copy\n"
     ]
    },
    {
     "name": "stdout",
     "output_type": "stream",
     "text": [
      "Saved time series visualization for Reddit - Topic: people  dont  like  to /Users/tnathu-ai/VSCode/Government-Digital-Transformation/assets/images/reddit_time_series_analysis_people  dont  like .png\n"
     ]
    },
    {
     "name": "stderr",
     "output_type": "stream",
     "text": [
      "<timed exec>:63: SettingWithCopyWarning: \n",
      "A value is trying to be set on a copy of a slice from a DataFrame.\n",
      "Try using .loc[row_indexer,col_indexer] = value instead\n",
      "\n",
      "See the caveats in the documentation: https://pandas.pydata.org/pandas-docs/stable/user_guide/indexing.html#returning-a-view-versus-a-copy\n"
     ]
    },
    {
     "name": "stdout",
     "output_type": "stream",
     "text": [
      "Saved time series visualization for Reddit - Topic: internet  im  get  to /Users/tnathu-ai/VSCode/Government-Digital-Transformation/assets/images/reddit_time_series_analysis_internet  im  get .png\n",
      "Saved sentiment analysis for Reddit to /Users/tnathu-ai/VSCode/Government-Digital-Transformation/data/intermediate/analysis/reddit_sentiment_analysis.txt\n",
      "Extracted Topic: (0, '0.021*\"speed\" + 0.016*\"people\" + 0.016*\"driving\" + 0.016*\"road\" + 0.011*\"going\"')\n",
      "Extracted Topic: (1, '0.022*\"like\" + 0.011*\"ive\" + 0.010*\"new\" + 0.010*\"one\" + 0.008*\"seen\"')\n",
      "Extracted Topic: (2, '0.017*\"people\" + 0.014*\"dont\" + 0.011*\"like\" + 0.010*\"think\" + 0.009*\"im\"')\n",
      "Extracted Topic: (3, '0.014*\"seatbelt\" + 0.011*\"go\" + 0.009*\"get\" + 0.009*\"wear\" + 0.007*\"youre\"')\n",
      "Extracted Topic: (4, '0.015*\"car\" + 0.012*\"one\" + 0.011*\"like\" + 0.008*\"would\" + 0.008*\"get\"')\n",
      "Saved topic modeling for Reddit to /Users/tnathu-ai/VSCode/Government-Digital-Transformation/data/intermediate/analysis/reddit_topic_modeling.txt\n",
      "Saved qualitative analysis for Reddit to /Users/tnathu-ai/VSCode/Government-Digital-Transformation/data/intermediate/analysis/reddit_qualitative_analysis.txt\n"
     ]
    },
    {
     "name": "stderr",
     "output_type": "stream",
     "text": [
      "<timed exec>:63: SettingWithCopyWarning: \n",
      "A value is trying to be set on a copy of a slice from a DataFrame.\n",
      "Try using .loc[row_indexer,col_indexer] = value instead\n",
      "\n",
      "See the caveats in the documentation: https://pandas.pydata.org/pandas-docs/stable/user_guide/indexing.html#returning-a-view-versus-a-copy\n"
     ]
    },
    {
     "name": "stdout",
     "output_type": "stream",
     "text": [
      "Saved time series visualization for Reddit - Topic: speed  people  driving  to /Users/tnathu-ai/VSCode/Government-Digital-Transformation/assets/images/reddit_time_series_analysis_speed  people  driving .png\n"
     ]
    },
    {
     "name": "stderr",
     "output_type": "stream",
     "text": [
      "<timed exec>:63: SettingWithCopyWarning: \n",
      "A value is trying to be set on a copy of a slice from a DataFrame.\n",
      "Try using .loc[row_indexer,col_indexer] = value instead\n",
      "\n",
      "See the caveats in the documentation: https://pandas.pydata.org/pandas-docs/stable/user_guide/indexing.html#returning-a-view-versus-a-copy\n"
     ]
    },
    {
     "name": "stdout",
     "output_type": "stream",
     "text": [
      "Saved time series visualization for Reddit - Topic: like  ive  new  to /Users/tnathu-ai/VSCode/Government-Digital-Transformation/assets/images/reddit_time_series_analysis_like  ive  new .png\n"
     ]
    },
    {
     "name": "stderr",
     "output_type": "stream",
     "text": [
      "<timed exec>:63: SettingWithCopyWarning: \n",
      "A value is trying to be set on a copy of a slice from a DataFrame.\n",
      "Try using .loc[row_indexer,col_indexer] = value instead\n",
      "\n",
      "See the caveats in the documentation: https://pandas.pydata.org/pandas-docs/stable/user_guide/indexing.html#returning-a-view-versus-a-copy\n"
     ]
    },
    {
     "name": "stdout",
     "output_type": "stream",
     "text": [
      "Saved time series visualization for Reddit - Topic: people  dont  like  to /Users/tnathu-ai/VSCode/Government-Digital-Transformation/assets/images/reddit_time_series_analysis_people  dont  like .png\n"
     ]
    },
    {
     "name": "stderr",
     "output_type": "stream",
     "text": [
      "<timed exec>:63: SettingWithCopyWarning: \n",
      "A value is trying to be set on a copy of a slice from a DataFrame.\n",
      "Try using .loc[row_indexer,col_indexer] = value instead\n",
      "\n",
      "See the caveats in the documentation: https://pandas.pydata.org/pandas-docs/stable/user_guide/indexing.html#returning-a-view-versus-a-copy\n"
     ]
    },
    {
     "name": "stdout",
     "output_type": "stream",
     "text": [
      "Saved time series visualization for Reddit - Topic: seatbelt  go  get  to /Users/tnathu-ai/VSCode/Government-Digital-Transformation/assets/images/reddit_time_series_analysis_seatbelt  go  get .png\n"
     ]
    },
    {
     "name": "stderr",
     "output_type": "stream",
     "text": [
      "<timed exec>:63: SettingWithCopyWarning: \n",
      "A value is trying to be set on a copy of a slice from a DataFrame.\n",
      "Try using .loc[row_indexer,col_indexer] = value instead\n",
      "\n",
      "See the caveats in the documentation: https://pandas.pydata.org/pandas-docs/stable/user_guide/indexing.html#returning-a-view-versus-a-copy\n"
     ]
    },
    {
     "name": "stdout",
     "output_type": "stream",
     "text": [
      "Saved time series visualization for Reddit - Topic: car  one  like  to /Users/tnathu-ai/VSCode/Government-Digital-Transformation/assets/images/reddit_time_series_analysis_car  one  like .png\n",
      "Saved sentiment analysis for Reddit to /Users/tnathu-ai/VSCode/Government-Digital-Transformation/data/intermediate/analysis/reddit_sentiment_analysis.txt\n",
      "Extracted Topic: (0, '0.009*\"money\" + 0.008*\"pay\" + 0.006*\"free\" + 0.006*\"government\" + 0.005*\"china\"')\n",
      "Extracted Topic: (1, '0.021*\"service\" + 0.009*\"would\" + 0.008*\"trump\" + 0.006*\"secret\" + 0.005*\"house\"')\n",
      "Extracted Topic: (2, '0.031*\"people\" + 0.018*\"dont\" + 0.010*\"like\" + 0.009*\"think\" + 0.008*\"even\"')\n",
      "Extracted Topic: (3, '0.013*\"get\" + 0.010*\"time\" + 0.009*\"work\" + 0.008*\"would\" + 0.008*\"could\"')\n",
      "Extracted Topic: (4, '0.019*\"like\" + 0.015*\"im\" + 0.006*\"get\" + 0.006*\"australia\" + 0.006*\"know\"')\n",
      "Saved topic modeling for Reddit to /Users/tnathu-ai/VSCode/Government-Digital-Transformation/data/intermediate/analysis/reddit_topic_modeling.txt\n",
      "Saved qualitative analysis for Reddit to /Users/tnathu-ai/VSCode/Government-Digital-Transformation/data/intermediate/analysis/reddit_qualitative_analysis.txt\n"
     ]
    },
    {
     "name": "stderr",
     "output_type": "stream",
     "text": [
      "<timed exec>:63: SettingWithCopyWarning: \n",
      "A value is trying to be set on a copy of a slice from a DataFrame.\n",
      "Try using .loc[row_indexer,col_indexer] = value instead\n",
      "\n",
      "See the caveats in the documentation: https://pandas.pydata.org/pandas-docs/stable/user_guide/indexing.html#returning-a-view-versus-a-copy\n"
     ]
    },
    {
     "name": "stdout",
     "output_type": "stream",
     "text": [
      "Saved time series visualization for Reddit - Topic: money  pay  free  to /Users/tnathu-ai/VSCode/Government-Digital-Transformation/assets/images/reddit_time_series_analysis_money  pay  free .png\n"
     ]
    },
    {
     "name": "stderr",
     "output_type": "stream",
     "text": [
      "<timed exec>:63: SettingWithCopyWarning: \n",
      "A value is trying to be set on a copy of a slice from a DataFrame.\n",
      "Try using .loc[row_indexer,col_indexer] = value instead\n",
      "\n",
      "See the caveats in the documentation: https://pandas.pydata.org/pandas-docs/stable/user_guide/indexing.html#returning-a-view-versus-a-copy\n"
     ]
    },
    {
     "name": "stdout",
     "output_type": "stream",
     "text": [
      "Saved time series visualization for Reddit - Topic: service  would  trump  to /Users/tnathu-ai/VSCode/Government-Digital-Transformation/assets/images/reddit_time_series_analysis_service  would  trump .png\n"
     ]
    },
    {
     "name": "stderr",
     "output_type": "stream",
     "text": [
      "<timed exec>:63: SettingWithCopyWarning: \n",
      "A value is trying to be set on a copy of a slice from a DataFrame.\n",
      "Try using .loc[row_indexer,col_indexer] = value instead\n",
      "\n",
      "See the caveats in the documentation: https://pandas.pydata.org/pandas-docs/stable/user_guide/indexing.html#returning-a-view-versus-a-copy\n"
     ]
    },
    {
     "name": "stdout",
     "output_type": "stream",
     "text": [
      "Saved time series visualization for Reddit - Topic: people  dont  like  to /Users/tnathu-ai/VSCode/Government-Digital-Transformation/assets/images/reddit_time_series_analysis_people  dont  like .png\n"
     ]
    },
    {
     "name": "stderr",
     "output_type": "stream",
     "text": [
      "<timed exec>:63: SettingWithCopyWarning: \n",
      "A value is trying to be set on a copy of a slice from a DataFrame.\n",
      "Try using .loc[row_indexer,col_indexer] = value instead\n",
      "\n",
      "See the caveats in the documentation: https://pandas.pydata.org/pandas-docs/stable/user_guide/indexing.html#returning-a-view-versus-a-copy\n"
     ]
    },
    {
     "name": "stdout",
     "output_type": "stream",
     "text": [
      "Saved time series visualization for Reddit - Topic: get  time  work  to /Users/tnathu-ai/VSCode/Government-Digital-Transformation/assets/images/reddit_time_series_analysis_get  time  work .png\n"
     ]
    },
    {
     "name": "stderr",
     "output_type": "stream",
     "text": [
      "<timed exec>:63: SettingWithCopyWarning: \n",
      "A value is trying to be set on a copy of a slice from a DataFrame.\n",
      "Try using .loc[row_indexer,col_indexer] = value instead\n",
      "\n",
      "See the caveats in the documentation: https://pandas.pydata.org/pandas-docs/stable/user_guide/indexing.html#returning-a-view-versus-a-copy\n"
     ]
    },
    {
     "name": "stdout",
     "output_type": "stream",
     "text": [
      "Saved time series visualization for Reddit - Topic: like  im  get  to /Users/tnathu-ai/VSCode/Government-Digital-Transformation/assets/images/reddit_time_series_analysis_like  im  get .png\n"
     ]
    },
    {
     "name": "stderr",
     "output_type": "stream",
     "text": [
      "<timed exec>:123: DtypeWarning: Columns (3) have mixed types. Specify dtype option on import or set low_memory=False.\n"
     ]
    },
    {
     "name": "stdout",
     "output_type": "stream",
     "text": [
      "Saved sentiment analysis for Reddit to /Users/tnathu-ai/VSCode/Government-Digital-Transformation/data/intermediate/analysis/reddit_sentiment_analysis.txt\n",
      "Extracted Topic: (0, '0.024*\"like\" + 0.016*\"im\" + 0.012*\"dont\" + 0.010*\"good\" + 0.010*\"know\"')\n",
      "Extracted Topic: (1, '0.018*\"australia\" + 0.016*\"war\" + 0.013*\"america\" + 0.012*\"kids\" + 0.010*\"using\"')\n",
      "Extracted Topic: (2, '0.012*\"tax\" + 0.011*\"money\" + 0.010*\"years\" + 0.010*\"would\" + 0.009*\"pay\"')\n",
      "Extracted Topic: (3, '0.027*\"people\" + 0.014*\"dont\" + 0.008*\"government\" + 0.007*\"think\" + 0.007*\"would\"')\n",
      "Extracted Topic: (4, '0.013*\"us\" + 0.008*\"party\" + 0.008*\"state\" + 0.007*\"gun\" + 0.007*\"country\"')\n",
      "Saved topic modeling for Reddit to /Users/tnathu-ai/VSCode/Government-Digital-Transformation/data/intermediate/analysis/reddit_topic_modeling.txt\n",
      "Saved qualitative analysis for Reddit to /Users/tnathu-ai/VSCode/Government-Digital-Transformation/data/intermediate/analysis/reddit_qualitative_analysis.txt\n"
     ]
    },
    {
     "name": "stderr",
     "output_type": "stream",
     "text": [
      "<timed exec>:63: SettingWithCopyWarning: \n",
      "A value is trying to be set on a copy of a slice from a DataFrame.\n",
      "Try using .loc[row_indexer,col_indexer] = value instead\n",
      "\n",
      "See the caveats in the documentation: https://pandas.pydata.org/pandas-docs/stable/user_guide/indexing.html#returning-a-view-versus-a-copy\n"
     ]
    },
    {
     "name": "stdout",
     "output_type": "stream",
     "text": [
      "Saved time series visualization for Reddit - Topic: like  im  dont  to /Users/tnathu-ai/VSCode/Government-Digital-Transformation/assets/images/reddit_time_series_analysis_like  im  dont .png\n"
     ]
    },
    {
     "name": "stderr",
     "output_type": "stream",
     "text": [
      "<timed exec>:63: SettingWithCopyWarning: \n",
      "A value is trying to be set on a copy of a slice from a DataFrame.\n",
      "Try using .loc[row_indexer,col_indexer] = value instead\n",
      "\n",
      "See the caveats in the documentation: https://pandas.pydata.org/pandas-docs/stable/user_guide/indexing.html#returning-a-view-versus-a-copy\n"
     ]
    },
    {
     "name": "stdout",
     "output_type": "stream",
     "text": [
      "Saved time series visualization for Reddit - Topic: australia  war  america  to /Users/tnathu-ai/VSCode/Government-Digital-Transformation/assets/images/reddit_time_series_analysis_australia  war  america .png\n"
     ]
    },
    {
     "name": "stderr",
     "output_type": "stream",
     "text": [
      "<timed exec>:63: SettingWithCopyWarning: \n",
      "A value is trying to be set on a copy of a slice from a DataFrame.\n",
      "Try using .loc[row_indexer,col_indexer] = value instead\n",
      "\n",
      "See the caveats in the documentation: https://pandas.pydata.org/pandas-docs/stable/user_guide/indexing.html#returning-a-view-versus-a-copy\n"
     ]
    },
    {
     "name": "stdout",
     "output_type": "stream",
     "text": [
      "Saved time series visualization for Reddit - Topic: tax  money  years  to /Users/tnathu-ai/VSCode/Government-Digital-Transformation/assets/images/reddit_time_series_analysis_tax  money  years .png\n"
     ]
    },
    {
     "name": "stderr",
     "output_type": "stream",
     "text": [
      "<timed exec>:63: SettingWithCopyWarning: \n",
      "A value is trying to be set on a copy of a slice from a DataFrame.\n",
      "Try using .loc[row_indexer,col_indexer] = value instead\n",
      "\n",
      "See the caveats in the documentation: https://pandas.pydata.org/pandas-docs/stable/user_guide/indexing.html#returning-a-view-versus-a-copy\n"
     ]
    },
    {
     "name": "stdout",
     "output_type": "stream",
     "text": [
      "Saved time series visualization for Reddit - Topic: people  dont  government  to /Users/tnathu-ai/VSCode/Government-Digital-Transformation/assets/images/reddit_time_series_analysis_people  dont  government .png\n"
     ]
    },
    {
     "name": "stderr",
     "output_type": "stream",
     "text": [
      "<timed exec>:63: SettingWithCopyWarning: \n",
      "A value is trying to be set on a copy of a slice from a DataFrame.\n",
      "Try using .loc[row_indexer,col_indexer] = value instead\n",
      "\n",
      "See the caveats in the documentation: https://pandas.pydata.org/pandas-docs/stable/user_guide/indexing.html#returning-a-view-versus-a-copy\n"
     ]
    },
    {
     "name": "stdout",
     "output_type": "stream",
     "text": [
      "Saved time series visualization for Reddit - Topic: us  party  state  to /Users/tnathu-ai/VSCode/Government-Digital-Transformation/assets/images/reddit_time_series_analysis_us  party  state .png\n",
      "Saved sentiment analysis for Reddit to /Users/tnathu-ai/VSCode/Government-Digital-Transformation/data/intermediate/analysis/reddit_sentiment_analysis.txt\n",
      "Extracted Topic: (0, '0.016*\"dont\" + 0.015*\"im\" + 0.014*\"get\" + 0.010*\"like\" + 0.008*\"people\"')\n",
      "Extracted Topic: (1, '0.009*\"government\" + 0.008*\"money\" + 0.005*\"country\" + 0.005*\"us\" + 0.005*\"brazil\"')\n",
      "Extracted Topic: (2, '0.027*\"people\" + 0.009*\"like\" + 0.008*\"white\" + 0.007*\"think\" + 0.006*\"would\"')\n",
      "Extracted Topic: (3, '0.015*\"like\" + 0.009*\"car\" + 0.007*\"around\" + 0.006*\"landing\" + 0.005*\"time\"')\n",
      "Extracted Topic: (4, '0.035*\"land\" + 0.019*\"indigenous\" + 0.012*\"people\" + 0.009*\"native\" + 0.006*\"us\"')\n",
      "Saved topic modeling for Reddit to /Users/tnathu-ai/VSCode/Government-Digital-Transformation/data/intermediate/analysis/reddit_topic_modeling.txt\n",
      "Saved qualitative analysis for Reddit to /Users/tnathu-ai/VSCode/Government-Digital-Transformation/data/intermediate/analysis/reddit_qualitative_analysis.txt\n"
     ]
    },
    {
     "name": "stderr",
     "output_type": "stream",
     "text": [
      "<timed exec>:63: SettingWithCopyWarning: \n",
      "A value is trying to be set on a copy of a slice from a DataFrame.\n",
      "Try using .loc[row_indexer,col_indexer] = value instead\n",
      "\n",
      "See the caveats in the documentation: https://pandas.pydata.org/pandas-docs/stable/user_guide/indexing.html#returning-a-view-versus-a-copy\n"
     ]
    },
    {
     "name": "stdout",
     "output_type": "stream",
     "text": [
      "Saved time series visualization for Reddit - Topic: dont  im  get  to /Users/tnathu-ai/VSCode/Government-Digital-Transformation/assets/images/reddit_time_series_analysis_dont  im  get .png\n"
     ]
    },
    {
     "name": "stderr",
     "output_type": "stream",
     "text": [
      "<timed exec>:63: SettingWithCopyWarning: \n",
      "A value is trying to be set on a copy of a slice from a DataFrame.\n",
      "Try using .loc[row_indexer,col_indexer] = value instead\n",
      "\n",
      "See the caveats in the documentation: https://pandas.pydata.org/pandas-docs/stable/user_guide/indexing.html#returning-a-view-versus-a-copy\n"
     ]
    },
    {
     "name": "stdout",
     "output_type": "stream",
     "text": [
      "Saved time series visualization for Reddit - Topic: government  money  country  to /Users/tnathu-ai/VSCode/Government-Digital-Transformation/assets/images/reddit_time_series_analysis_government  money  country .png\n"
     ]
    },
    {
     "name": "stderr",
     "output_type": "stream",
     "text": [
      "<timed exec>:63: SettingWithCopyWarning: \n",
      "A value is trying to be set on a copy of a slice from a DataFrame.\n",
      "Try using .loc[row_indexer,col_indexer] = value instead\n",
      "\n",
      "See the caveats in the documentation: https://pandas.pydata.org/pandas-docs/stable/user_guide/indexing.html#returning-a-view-versus-a-copy\n"
     ]
    },
    {
     "name": "stdout",
     "output_type": "stream",
     "text": [
      "Saved time series visualization for Reddit - Topic: people  like  white  to /Users/tnathu-ai/VSCode/Government-Digital-Transformation/assets/images/reddit_time_series_analysis_people  like  white .png\n"
     ]
    },
    {
     "name": "stderr",
     "output_type": "stream",
     "text": [
      "<timed exec>:63: SettingWithCopyWarning: \n",
      "A value is trying to be set on a copy of a slice from a DataFrame.\n",
      "Try using .loc[row_indexer,col_indexer] = value instead\n",
      "\n",
      "See the caveats in the documentation: https://pandas.pydata.org/pandas-docs/stable/user_guide/indexing.html#returning-a-view-versus-a-copy\n"
     ]
    },
    {
     "name": "stdout",
     "output_type": "stream",
     "text": [
      "Saved time series visualization for Reddit - Topic: like  car  around  to /Users/tnathu-ai/VSCode/Government-Digital-Transformation/assets/images/reddit_time_series_analysis_like  car  around .png\n"
     ]
    },
    {
     "name": "stderr",
     "output_type": "stream",
     "text": [
      "<timed exec>:63: SettingWithCopyWarning: \n",
      "A value is trying to be set on a copy of a slice from a DataFrame.\n",
      "Try using .loc[row_indexer,col_indexer] = value instead\n",
      "\n",
      "See the caveats in the documentation: https://pandas.pydata.org/pandas-docs/stable/user_guide/indexing.html#returning-a-view-versus-a-copy\n"
     ]
    },
    {
     "name": "stdout",
     "output_type": "stream",
     "text": [
      "Saved time series visualization for Reddit - Topic: land  indigenous  people  to /Users/tnathu-ai/VSCode/Government-Digital-Transformation/assets/images/reddit_time_series_analysis_land  indigenous  people .png\n",
      "Saved sentiment analysis for Reddit to /Users/tnathu-ai/VSCode/Government-Digital-Transformation/data/intermediate/analysis/reddit_sentiment_analysis.txt\n",
      "Extracted Topic: (0, '0.028*\"covid\" + 0.016*\"people\" + 0.013*\"get\" + 0.012*\"vaccine\" + 0.011*\"flu\"')\n",
      "Extracted Topic: (1, '0.022*\"people\" + 0.020*\"dont\" + 0.020*\"like\" + 0.014*\"im\" + 0.011*\"think\"')\n",
      "Extracted Topic: (2, '0.018*\"people\" + 0.014*\"us\" + 0.009*\"china\" + 0.008*\"world\" + 0.007*\"government\"')\n",
      "Extracted Topic: (3, '0.012*\"data\" + 0.009*\"news\" + 0.006*\"evidence\" + 0.006*\"media\" + 0.006*\"would\"')\n",
      "Extracted Topic: (4, '0.015*\"vitamin\" + 0.009*\"like\" + 0.008*\"water\" + 0.008*\"one\" + 0.007*\"would\"')\n",
      "Saved topic modeling for Reddit to /Users/tnathu-ai/VSCode/Government-Digital-Transformation/data/intermediate/analysis/reddit_topic_modeling.txt\n",
      "Saved qualitative analysis for Reddit to /Users/tnathu-ai/VSCode/Government-Digital-Transformation/data/intermediate/analysis/reddit_qualitative_analysis.txt\n"
     ]
    },
    {
     "name": "stderr",
     "output_type": "stream",
     "text": [
      "<timed exec>:63: SettingWithCopyWarning: \n",
      "A value is trying to be set on a copy of a slice from a DataFrame.\n",
      "Try using .loc[row_indexer,col_indexer] = value instead\n",
      "\n",
      "See the caveats in the documentation: https://pandas.pydata.org/pandas-docs/stable/user_guide/indexing.html#returning-a-view-versus-a-copy\n"
     ]
    },
    {
     "name": "stdout",
     "output_type": "stream",
     "text": [
      "Saved time series visualization for Reddit - Topic: covid  people  get  to /Users/tnathu-ai/VSCode/Government-Digital-Transformation/assets/images/reddit_time_series_analysis_covid  people  get .png\n"
     ]
    },
    {
     "name": "stderr",
     "output_type": "stream",
     "text": [
      "<timed exec>:63: SettingWithCopyWarning: \n",
      "A value is trying to be set on a copy of a slice from a DataFrame.\n",
      "Try using .loc[row_indexer,col_indexer] = value instead\n",
      "\n",
      "See the caveats in the documentation: https://pandas.pydata.org/pandas-docs/stable/user_guide/indexing.html#returning-a-view-versus-a-copy\n"
     ]
    },
    {
     "name": "stdout",
     "output_type": "stream",
     "text": [
      "Saved time series visualization for Reddit - Topic: people  dont  like  to /Users/tnathu-ai/VSCode/Government-Digital-Transformation/assets/images/reddit_time_series_analysis_people  dont  like .png\n"
     ]
    },
    {
     "name": "stderr",
     "output_type": "stream",
     "text": [
      "<timed exec>:63: SettingWithCopyWarning: \n",
      "A value is trying to be set on a copy of a slice from a DataFrame.\n",
      "Try using .loc[row_indexer,col_indexer] = value instead\n",
      "\n",
      "See the caveats in the documentation: https://pandas.pydata.org/pandas-docs/stable/user_guide/indexing.html#returning-a-view-versus-a-copy\n"
     ]
    },
    {
     "name": "stdout",
     "output_type": "stream",
     "text": [
      "Saved time series visualization for Reddit - Topic: people  us  china  to /Users/tnathu-ai/VSCode/Government-Digital-Transformation/assets/images/reddit_time_series_analysis_people  us  china .png\n"
     ]
    },
    {
     "name": "stderr",
     "output_type": "stream",
     "text": [
      "<timed exec>:63: SettingWithCopyWarning: \n",
      "A value is trying to be set on a copy of a slice from a DataFrame.\n",
      "Try using .loc[row_indexer,col_indexer] = value instead\n",
      "\n",
      "See the caveats in the documentation: https://pandas.pydata.org/pandas-docs/stable/user_guide/indexing.html#returning-a-view-versus-a-copy\n"
     ]
    },
    {
     "name": "stdout",
     "output_type": "stream",
     "text": [
      "Saved time series visualization for Reddit - Topic: data  news  evidence  to /Users/tnathu-ai/VSCode/Government-Digital-Transformation/assets/images/reddit_time_series_analysis_data  news  evidence .png\n"
     ]
    },
    {
     "name": "stderr",
     "output_type": "stream",
     "text": [
      "<timed exec>:63: SettingWithCopyWarning: \n",
      "A value is trying to be set on a copy of a slice from a DataFrame.\n",
      "Try using .loc[row_indexer,col_indexer] = value instead\n",
      "\n",
      "See the caveats in the documentation: https://pandas.pydata.org/pandas-docs/stable/user_guide/indexing.html#returning-a-view-versus-a-copy\n"
     ]
    },
    {
     "name": "stdout",
     "output_type": "stream",
     "text": [
      "Saved time series visualization for Reddit - Topic: vitamin  like  water  to /Users/tnathu-ai/VSCode/Government-Digital-Transformation/assets/images/reddit_time_series_analysis_vitamin  like  water .png\n",
      "Saved sentiment analysis for Reddit to /Users/tnathu-ai/VSCode/Government-Digital-Transformation/data/intermediate/analysis/reddit_sentiment_analysis.txt\n",
      "Extracted Topic: (0, '0.008*\"dont\" + 0.006*\"many\" + 0.006*\"need\" + 0.006*\"like\" + 0.005*\"cats\"')\n",
      "Extracted Topic: (1, '0.008*\"like\" + 0.006*\"sa\" + 0.006*\"would\" + 0.005*\"mga\" + 0.005*\"even\"')\n",
      "Extracted Topic: (2, '0.011*\"would\" + 0.010*\"people\" + 0.007*\"like\" + 0.006*\"want\" + 0.005*\"make\"')\n",
      "Extracted Topic: (3, '0.007*\"nuclear\" + 0.007*\"get\" + 0.006*\"science\" + 0.005*\"would\" + 0.005*\"im\"')\n",
      "Extracted Topic: (4, '0.010*\"climate\" + 0.009*\"change\" + 0.006*\"like\" + 0.006*\"im\" + 0.006*\"penguins\"')\n",
      "Saved topic modeling for Reddit to /Users/tnathu-ai/VSCode/Government-Digital-Transformation/data/intermediate/analysis/reddit_topic_modeling.txt\n",
      "Saved qualitative analysis for Reddit to /Users/tnathu-ai/VSCode/Government-Digital-Transformation/data/intermediate/analysis/reddit_qualitative_analysis.txt\n"
     ]
    },
    {
     "name": "stderr",
     "output_type": "stream",
     "text": [
      "<timed exec>:63: SettingWithCopyWarning: \n",
      "A value is trying to be set on a copy of a slice from a DataFrame.\n",
      "Try using .loc[row_indexer,col_indexer] = value instead\n",
      "\n",
      "See the caveats in the documentation: https://pandas.pydata.org/pandas-docs/stable/user_guide/indexing.html#returning-a-view-versus-a-copy\n",
      "<timed exec>:63: SettingWithCopyWarning: \n",
      "A value is trying to be set on a copy of a slice from a DataFrame.\n",
      "Try using .loc[row_indexer,col_indexer] = value instead\n",
      "\n",
      "See the caveats in the documentation: https://pandas.pydata.org/pandas-docs/stable/user_guide/indexing.html#returning-a-view-versus-a-copy\n"
     ]
    },
    {
     "name": "stdout",
     "output_type": "stream",
     "text": [
      "Saved time series visualization for Reddit - Topic: dont  many  need  to /Users/tnathu-ai/VSCode/Government-Digital-Transformation/assets/images/reddit_time_series_analysis_dont  many  need .png\n",
      "Saved time series visualization for Reddit - Topic: like  sa  would  to /Users/tnathu-ai/VSCode/Government-Digital-Transformation/assets/images/reddit_time_series_analysis_like  sa  would .png\n"
     ]
    },
    {
     "name": "stderr",
     "output_type": "stream",
     "text": [
      "<timed exec>:63: SettingWithCopyWarning: \n",
      "A value is trying to be set on a copy of a slice from a DataFrame.\n",
      "Try using .loc[row_indexer,col_indexer] = value instead\n",
      "\n",
      "See the caveats in the documentation: https://pandas.pydata.org/pandas-docs/stable/user_guide/indexing.html#returning-a-view-versus-a-copy\n",
      "<timed exec>:63: SettingWithCopyWarning: \n",
      "A value is trying to be set on a copy of a slice from a DataFrame.\n",
      "Try using .loc[row_indexer,col_indexer] = value instead\n",
      "\n",
      "See the caveats in the documentation: https://pandas.pydata.org/pandas-docs/stable/user_guide/indexing.html#returning-a-view-versus-a-copy\n"
     ]
    },
    {
     "name": "stdout",
     "output_type": "stream",
     "text": [
      "Saved time series visualization for Reddit - Topic: would  people  like  to /Users/tnathu-ai/VSCode/Government-Digital-Transformation/assets/images/reddit_time_series_analysis_would  people  like .png\n",
      "Saved time series visualization for Reddit - Topic: nuclear  get  science  to /Users/tnathu-ai/VSCode/Government-Digital-Transformation/assets/images/reddit_time_series_analysis_nuclear  get  science .png\n"
     ]
    },
    {
     "name": "stderr",
     "output_type": "stream",
     "text": [
      "<timed exec>:63: SettingWithCopyWarning: \n",
      "A value is trying to be set on a copy of a slice from a DataFrame.\n",
      "Try using .loc[row_indexer,col_indexer] = value instead\n",
      "\n",
      "See the caveats in the documentation: https://pandas.pydata.org/pandas-docs/stable/user_guide/indexing.html#returning-a-view-versus-a-copy\n"
     ]
    },
    {
     "name": "stdout",
     "output_type": "stream",
     "text": [
      "Saved time series visualization for Reddit - Topic: climate  change  like  to /Users/tnathu-ai/VSCode/Government-Digital-Transformation/assets/images/reddit_time_series_analysis_climate  change  like .png\n",
      "Saved sentiment analysis for Reddit to /Users/tnathu-ai/VSCode/Government-Digital-Transformation/data/intermediate/analysis/reddit_sentiment_analysis.txt\n",
      "Extracted Topic: (0, '0.024*\"accent\" + 0.020*\"people\" + 0.010*\"australia\" + 0.007*\"australian\" + 0.007*\"dont\"')\n",
      "Extracted Topic: (1, '0.016*\"never\" + 0.012*\"one\" + 0.012*\"like\" + 0.011*\"us\" + 0.010*\"read\"')\n",
      "Extracted Topic: (2, '0.018*\"like\" + 0.015*\"accents\" + 0.013*\"different\" + 0.012*\"say\" + 0.011*\"sound\"')\n",
      "Extracted Topic: (3, '0.012*\"government\" + 0.012*\"would\" + 0.008*\"visa\" + 0.008*\"get\" + 0.007*\"year\"')\n",
      "Extracted Topic: (4, '0.014*\"like\" + 0.013*\"said\" + 0.011*\"going\" + 0.011*\"dont\" + 0.010*\"nato\"')\n",
      "Saved topic modeling for Reddit to /Users/tnathu-ai/VSCode/Government-Digital-Transformation/data/intermediate/analysis/reddit_topic_modeling.txt\n",
      "Saved qualitative analysis for Reddit to /Users/tnathu-ai/VSCode/Government-Digital-Transformation/data/intermediate/analysis/reddit_qualitative_analysis.txt\n"
     ]
    },
    {
     "name": "stderr",
     "output_type": "stream",
     "text": [
      "<timed exec>:63: SettingWithCopyWarning: \n",
      "A value is trying to be set on a copy of a slice from a DataFrame.\n",
      "Try using .loc[row_indexer,col_indexer] = value instead\n",
      "\n",
      "See the caveats in the documentation: https://pandas.pydata.org/pandas-docs/stable/user_guide/indexing.html#returning-a-view-versus-a-copy\n"
     ]
    },
    {
     "name": "stdout",
     "output_type": "stream",
     "text": [
      "Saved time series visualization for Reddit - Topic: accent  people  australia  to /Users/tnathu-ai/VSCode/Government-Digital-Transformation/assets/images/reddit_time_series_analysis_accent  people  australia .png\n"
     ]
    },
    {
     "name": "stderr",
     "output_type": "stream",
     "text": [
      "<timed exec>:63: SettingWithCopyWarning: \n",
      "A value is trying to be set on a copy of a slice from a DataFrame.\n",
      "Try using .loc[row_indexer,col_indexer] = value instead\n",
      "\n",
      "See the caveats in the documentation: https://pandas.pydata.org/pandas-docs/stable/user_guide/indexing.html#returning-a-view-versus-a-copy\n"
     ]
    },
    {
     "name": "stdout",
     "output_type": "stream",
     "text": [
      "Saved time series visualization for Reddit - Topic: never  one  like  to /Users/tnathu-ai/VSCode/Government-Digital-Transformation/assets/images/reddit_time_series_analysis_never  one  like .png\n"
     ]
    },
    {
     "name": "stderr",
     "output_type": "stream",
     "text": [
      "<timed exec>:63: SettingWithCopyWarning: \n",
      "A value is trying to be set on a copy of a slice from a DataFrame.\n",
      "Try using .loc[row_indexer,col_indexer] = value instead\n",
      "\n",
      "See the caveats in the documentation: https://pandas.pydata.org/pandas-docs/stable/user_guide/indexing.html#returning-a-view-versus-a-copy\n"
     ]
    },
    {
     "name": "stdout",
     "output_type": "stream",
     "text": [
      "Saved time series visualization for Reddit - Topic: like  accents  different  to /Users/tnathu-ai/VSCode/Government-Digital-Transformation/assets/images/reddit_time_series_analysis_like  accents  different .png\n"
     ]
    },
    {
     "name": "stderr",
     "output_type": "stream",
     "text": [
      "<timed exec>:63: SettingWithCopyWarning: \n",
      "A value is trying to be set on a copy of a slice from a DataFrame.\n",
      "Try using .loc[row_indexer,col_indexer] = value instead\n",
      "\n",
      "See the caveats in the documentation: https://pandas.pydata.org/pandas-docs/stable/user_guide/indexing.html#returning-a-view-versus-a-copy\n"
     ]
    },
    {
     "name": "stdout",
     "output_type": "stream",
     "text": [
      "Saved time series visualization for Reddit - Topic: government  would  visa  to /Users/tnathu-ai/VSCode/Government-Digital-Transformation/assets/images/reddit_time_series_analysis_government  would  visa .png\n"
     ]
    },
    {
     "name": "stderr",
     "output_type": "stream",
     "text": [
      "<timed exec>:63: SettingWithCopyWarning: \n",
      "A value is trying to be set on a copy of a slice from a DataFrame.\n",
      "Try using .loc[row_indexer,col_indexer] = value instead\n",
      "\n",
      "See the caveats in the documentation: https://pandas.pydata.org/pandas-docs/stable/user_guide/indexing.html#returning-a-view-versus-a-copy\n"
     ]
    },
    {
     "name": "stdout",
     "output_type": "stream",
     "text": [
      "Saved time series visualization for Reddit - Topic: like  said  going  to /Users/tnathu-ai/VSCode/Government-Digital-Transformation/assets/images/reddit_time_series_analysis_like  said  going .png\n",
      "Saved sentiment analysis for Reddit to /Users/tnathu-ai/VSCode/Government-Digital-Transformation/data/intermediate/analysis/reddit_sentiment_analysis.txt\n",
      "Extracted Topic: (0, '0.009*\"safe\" + 0.008*\"would\" + 0.008*\"powder\" + 0.006*\"eat\" + 0.006*\"food\"')\n",
      "Extracted Topic: (1, '0.016*\"like\" + 0.010*\"dont\" + 0.009*\"would\" + 0.008*\"much\" + 0.008*\"use\"')\n",
      "Extracted Topic: (2, '0.013*\"like\" + 0.012*\"dont\" + 0.011*\"people\" + 0.010*\"im\" + 0.008*\"know\"')\n",
      "Extracted Topic: (3, '0.013*\"work\" + 0.011*\"time\" + 0.011*\"get\" + 0.009*\"day\" + 0.009*\"one\"')\n",
      "Extracted Topic: (4, '0.017*\"people\" + 0.008*\"australia\" + 0.008*\"us\" + 0.007*\"government\" + 0.006*\"would\"')\n",
      "Saved topic modeling for Reddit to /Users/tnathu-ai/VSCode/Government-Digital-Transformation/data/intermediate/analysis/reddit_topic_modeling.txt\n",
      "Saved qualitative analysis for Reddit to /Users/tnathu-ai/VSCode/Government-Digital-Transformation/data/intermediate/analysis/reddit_qualitative_analysis.txt\n"
     ]
    },
    {
     "name": "stderr",
     "output_type": "stream",
     "text": [
      "<timed exec>:63: SettingWithCopyWarning: \n",
      "A value is trying to be set on a copy of a slice from a DataFrame.\n",
      "Try using .loc[row_indexer,col_indexer] = value instead\n",
      "\n",
      "See the caveats in the documentation: https://pandas.pydata.org/pandas-docs/stable/user_guide/indexing.html#returning-a-view-versus-a-copy\n"
     ]
    },
    {
     "name": "stdout",
     "output_type": "stream",
     "text": [
      "Saved time series visualization for Reddit - Topic: safe  would  powder  to /Users/tnathu-ai/VSCode/Government-Digital-Transformation/assets/images/reddit_time_series_analysis_safe  would  powder .png\n"
     ]
    },
    {
     "name": "stderr",
     "output_type": "stream",
     "text": [
      "<timed exec>:63: SettingWithCopyWarning: \n",
      "A value is trying to be set on a copy of a slice from a DataFrame.\n",
      "Try using .loc[row_indexer,col_indexer] = value instead\n",
      "\n",
      "See the caveats in the documentation: https://pandas.pydata.org/pandas-docs/stable/user_guide/indexing.html#returning-a-view-versus-a-copy\n"
     ]
    },
    {
     "name": "stdout",
     "output_type": "stream",
     "text": [
      "Saved time series visualization for Reddit - Topic: like  dont  would  to /Users/tnathu-ai/VSCode/Government-Digital-Transformation/assets/images/reddit_time_series_analysis_like  dont  would .png\n"
     ]
    },
    {
     "name": "stderr",
     "output_type": "stream",
     "text": [
      "<timed exec>:63: SettingWithCopyWarning: \n",
      "A value is trying to be set on a copy of a slice from a DataFrame.\n",
      "Try using .loc[row_indexer,col_indexer] = value instead\n",
      "\n",
      "See the caveats in the documentation: https://pandas.pydata.org/pandas-docs/stable/user_guide/indexing.html#returning-a-view-versus-a-copy\n"
     ]
    },
    {
     "name": "stdout",
     "output_type": "stream",
     "text": [
      "Saved time series visualization for Reddit - Topic: like  dont  people  to /Users/tnathu-ai/VSCode/Government-Digital-Transformation/assets/images/reddit_time_series_analysis_like  dont  people .png\n"
     ]
    },
    {
     "name": "stderr",
     "output_type": "stream",
     "text": [
      "<timed exec>:63: SettingWithCopyWarning: \n",
      "A value is trying to be set on a copy of a slice from a DataFrame.\n",
      "Try using .loc[row_indexer,col_indexer] = value instead\n",
      "\n",
      "See the caveats in the documentation: https://pandas.pydata.org/pandas-docs/stable/user_guide/indexing.html#returning-a-view-versus-a-copy\n"
     ]
    },
    {
     "name": "stdout",
     "output_type": "stream",
     "text": [
      "Saved time series visualization for Reddit - Topic: work  time  get  to /Users/tnathu-ai/VSCode/Government-Digital-Transformation/assets/images/reddit_time_series_analysis_work  time  get .png\n"
     ]
    },
    {
     "name": "stderr",
     "output_type": "stream",
     "text": [
      "<timed exec>:63: SettingWithCopyWarning: \n",
      "A value is trying to be set on a copy of a slice from a DataFrame.\n",
      "Try using .loc[row_indexer,col_indexer] = value instead\n",
      "\n",
      "See the caveats in the documentation: https://pandas.pydata.org/pandas-docs/stable/user_guide/indexing.html#returning-a-view-versus-a-copy\n"
     ]
    },
    {
     "name": "stdout",
     "output_type": "stream",
     "text": [
      "Saved time series visualization for Reddit - Topic: people  australia  us  to /Users/tnathu-ai/VSCode/Government-Digital-Transformation/assets/images/reddit_time_series_analysis_people  australia  us .png\n",
      "Saved sentiment analysis for Reddit to /Users/tnathu-ai/VSCode/Government-Digital-Transformation/data/intermediate/analysis/reddit_sentiment_analysis.txt\n",
      "Extracted Topic: (0, '0.014*\"business\" + 0.012*\"turnover\" + 0.012*\"would\" + 0.012*\"year\" + 0.009*\"money\"')\n",
      "Extracted Topic: (1, '0.020*\"work\" + 0.017*\"1500\" + 0.016*\"employer\" + 0.016*\"pay\" + 0.015*\"jobkeeper\"')\n",
      "Extracted Topic: (2, '0.026*\"job\" + 0.011*\"work\" + 0.008*\"jobseeker\" + 0.008*\"employment\" + 0.007*\"like\"')\n",
      "Extracted Topic: (3, '0.014*\"im\" + 0.012*\"income\" + 0.010*\"get\" + 0.010*\"tax\" + 0.009*\"people\"')\n",
      "Extracted Topic: (4, '0.015*\"people\" + 0.010*\"get\" + 0.009*\"dont\" + 0.008*\"would\" + 0.006*\"australia\"')\n",
      "Saved topic modeling for Reddit to /Users/tnathu-ai/VSCode/Government-Digital-Transformation/data/intermediate/analysis/reddit_topic_modeling.txt\n",
      "Saved qualitative analysis for Reddit to /Users/tnathu-ai/VSCode/Government-Digital-Transformation/data/intermediate/analysis/reddit_qualitative_analysis.txt\n"
     ]
    },
    {
     "name": "stderr",
     "output_type": "stream",
     "text": [
      "<timed exec>:63: SettingWithCopyWarning: \n",
      "A value is trying to be set on a copy of a slice from a DataFrame.\n",
      "Try using .loc[row_indexer,col_indexer] = value instead\n",
      "\n",
      "See the caveats in the documentation: https://pandas.pydata.org/pandas-docs/stable/user_guide/indexing.html#returning-a-view-versus-a-copy\n"
     ]
    },
    {
     "name": "stdout",
     "output_type": "stream",
     "text": [
      "Saved time series visualization for Reddit - Topic: business  turnover  would  to /Users/tnathu-ai/VSCode/Government-Digital-Transformation/assets/images/reddit_time_series_analysis_business  turnover  would .png\n"
     ]
    },
    {
     "name": "stderr",
     "output_type": "stream",
     "text": [
      "<timed exec>:63: SettingWithCopyWarning: \n",
      "A value is trying to be set on a copy of a slice from a DataFrame.\n",
      "Try using .loc[row_indexer,col_indexer] = value instead\n",
      "\n",
      "See the caveats in the documentation: https://pandas.pydata.org/pandas-docs/stable/user_guide/indexing.html#returning-a-view-versus-a-copy\n"
     ]
    },
    {
     "name": "stdout",
     "output_type": "stream",
     "text": [
      "Saved time series visualization for Reddit - Topic: work  1500  employer  to /Users/tnathu-ai/VSCode/Government-Digital-Transformation/assets/images/reddit_time_series_analysis_work  1500  employer .png\n"
     ]
    },
    {
     "name": "stderr",
     "output_type": "stream",
     "text": [
      "<timed exec>:63: SettingWithCopyWarning: \n",
      "A value is trying to be set on a copy of a slice from a DataFrame.\n",
      "Try using .loc[row_indexer,col_indexer] = value instead\n",
      "\n",
      "See the caveats in the documentation: https://pandas.pydata.org/pandas-docs/stable/user_guide/indexing.html#returning-a-view-versus-a-copy\n"
     ]
    },
    {
     "name": "stdout",
     "output_type": "stream",
     "text": [
      "Saved time series visualization for Reddit - Topic: job  work  jobseeker  to /Users/tnathu-ai/VSCode/Government-Digital-Transformation/assets/images/reddit_time_series_analysis_job  work  jobseeker .png\n"
     ]
    },
    {
     "name": "stderr",
     "output_type": "stream",
     "text": [
      "<timed exec>:63: SettingWithCopyWarning: \n",
      "A value is trying to be set on a copy of a slice from a DataFrame.\n",
      "Try using .loc[row_indexer,col_indexer] = value instead\n",
      "\n",
      "See the caveats in the documentation: https://pandas.pydata.org/pandas-docs/stable/user_guide/indexing.html#returning-a-view-versus-a-copy\n"
     ]
    },
    {
     "name": "stdout",
     "output_type": "stream",
     "text": [
      "Saved time series visualization for Reddit - Topic: im  income  get  to /Users/tnathu-ai/VSCode/Government-Digital-Transformation/assets/images/reddit_time_series_analysis_im  income  get .png\n"
     ]
    },
    {
     "name": "stderr",
     "output_type": "stream",
     "text": [
      "<timed exec>:63: SettingWithCopyWarning: \n",
      "A value is trying to be set on a copy of a slice from a DataFrame.\n",
      "Try using .loc[row_indexer,col_indexer] = value instead\n",
      "\n",
      "See the caveats in the documentation: https://pandas.pydata.org/pandas-docs/stable/user_guide/indexing.html#returning-a-view-versus-a-copy\n"
     ]
    },
    {
     "name": "stdout",
     "output_type": "stream",
     "text": [
      "Saved time series visualization for Reddit - Topic: people  get  dont  to /Users/tnathu-ai/VSCode/Government-Digital-Transformation/assets/images/reddit_time_series_analysis_people  get  dont .png\n",
      "Saved sentiment analysis for Reddit to /Users/tnathu-ai/VSCode/Government-Digital-Transformation/data/intermediate/analysis/reddit_sentiment_analysis.txt\n",
      "Extracted Topic: (0, '0.015*\"makes\" + 0.014*\"sense\" + 0.013*\"many\" + 0.013*\"governments\" + 0.013*\"scomo\"')\n",
      "Extracted Topic: (1, '0.022*\"im\" + 0.017*\"control\" + 0.015*\"would\" + 0.015*\"parliament\" + 0.014*\"say\"')\n",
      "Extracted Topic: (2, '0.027*\"one\" + 0.020*\"australia\" + 0.015*\"new\" + 0.015*\"also\" + 0.013*\"look\"')\n",
      "Extracted Topic: (3, '0.039*\"senate\" + 0.022*\"australian\" + 0.021*\"thats\" + 0.015*\"money\" + 0.013*\"people\"')\n",
      "Extracted Topic: (4, '0.024*\"australia\" + 0.022*\"empire\" + 0.019*\"like\" + 0.017*\"taken\" + 0.016*\"parliament\"')\n",
      "Saved topic modeling for Reddit to /Users/tnathu-ai/VSCode/Government-Digital-Transformation/data/intermediate/analysis/reddit_topic_modeling.txt\n",
      "Saved qualitative analysis for Reddit to /Users/tnathu-ai/VSCode/Government-Digital-Transformation/data/intermediate/analysis/reddit_qualitative_analysis.txt\n",
      "Saved time series visualization for Reddit - Topic: makes  sense  many  to /Users/tnathu-ai/VSCode/Government-Digital-Transformation/assets/images/reddit_time_series_analysis_makes  sense  many .png\n"
     ]
    },
    {
     "name": "stderr",
     "output_type": "stream",
     "text": [
      "<timed exec>:63: SettingWithCopyWarning: \n",
      "A value is trying to be set on a copy of a slice from a DataFrame.\n",
      "Try using .loc[row_indexer,col_indexer] = value instead\n",
      "\n",
      "See the caveats in the documentation: https://pandas.pydata.org/pandas-docs/stable/user_guide/indexing.html#returning-a-view-versus-a-copy\n",
      "<timed exec>:63: SettingWithCopyWarning: \n",
      "A value is trying to be set on a copy of a slice from a DataFrame.\n",
      "Try using .loc[row_indexer,col_indexer] = value instead\n",
      "\n",
      "See the caveats in the documentation: https://pandas.pydata.org/pandas-docs/stable/user_guide/indexing.html#returning-a-view-versus-a-copy\n"
     ]
    },
    {
     "name": "stdout",
     "output_type": "stream",
     "text": [
      "Saved time series visualization for Reddit - Topic: im  control  would  to /Users/tnathu-ai/VSCode/Government-Digital-Transformation/assets/images/reddit_time_series_analysis_im  control  would .png\n",
      "Saved time series visualization for Reddit - Topic: one  australia  new  to /Users/tnathu-ai/VSCode/Government-Digital-Transformation/assets/images/reddit_time_series_analysis_one  australia  new .png\n"
     ]
    },
    {
     "name": "stderr",
     "output_type": "stream",
     "text": [
      "<timed exec>:63: SettingWithCopyWarning: \n",
      "A value is trying to be set on a copy of a slice from a DataFrame.\n",
      "Try using .loc[row_indexer,col_indexer] = value instead\n",
      "\n",
      "See the caveats in the documentation: https://pandas.pydata.org/pandas-docs/stable/user_guide/indexing.html#returning-a-view-versus-a-copy\n",
      "<timed exec>:63: SettingWithCopyWarning: \n",
      "A value is trying to be set on a copy of a slice from a DataFrame.\n",
      "Try using .loc[row_indexer,col_indexer] = value instead\n",
      "\n",
      "See the caveats in the documentation: https://pandas.pydata.org/pandas-docs/stable/user_guide/indexing.html#returning-a-view-versus-a-copy\n"
     ]
    },
    {
     "name": "stdout",
     "output_type": "stream",
     "text": [
      "Saved time series visualization for Reddit - Topic: senate  australian  thats  to /Users/tnathu-ai/VSCode/Government-Digital-Transformation/assets/images/reddit_time_series_analysis_senate  australian  thats .png\n",
      "Saved time series visualization for Reddit - Topic: australia  empire  like  to /Users/tnathu-ai/VSCode/Government-Digital-Transformation/assets/images/reddit_time_series_analysis_australia  empire  like .png\n"
     ]
    },
    {
     "name": "stderr",
     "output_type": "stream",
     "text": [
      "<timed exec>:63: SettingWithCopyWarning: \n",
      "A value is trying to be set on a copy of a slice from a DataFrame.\n",
      "Try using .loc[row_indexer,col_indexer] = value instead\n",
      "\n",
      "See the caveats in the documentation: https://pandas.pydata.org/pandas-docs/stable/user_guide/indexing.html#returning-a-view-versus-a-copy\n"
     ]
    },
    {
     "name": "stdout",
     "output_type": "stream",
     "text": [
      "Saved sentiment analysis for Reddit to /Users/tnathu-ai/VSCode/Government-Digital-Transformation/data/intermediate/analysis/reddit_sentiment_analysis.txt\n",
      "Extracted Topic: (0, '0.026*\"eu\" + 0.019*\"uk\" + 0.011*\"would\" + 0.009*\"vaccine\" + 0.008*\"production\"')\n",
      "Extracted Topic: (1, '0.022*\"china\" + 0.010*\"us\" + 0.007*\"chinese\" + 0.006*\"would\" + 0.005*\"like\"')\n",
      "Extracted Topic: (2, '0.010*\"food\" + 0.009*\"processed\" + 0.007*\"people\" + 0.007*\"like\" + 0.006*\"study\"')\n",
      "Extracted Topic: (3, '0.012*\"people\" + 0.011*\"dont\" + 0.010*\"would\" + 0.009*\"im\" + 0.009*\"get\"')\n",
      "Extracted Topic: (4, '0.014*\"people\" + 0.011*\"like\" + 0.010*\"country\" + 0.010*\"us\" + 0.009*\"world\"')\n",
      "Saved topic modeling for Reddit to /Users/tnathu-ai/VSCode/Government-Digital-Transformation/data/intermediate/analysis/reddit_topic_modeling.txt\n",
      "Saved qualitative analysis for Reddit to /Users/tnathu-ai/VSCode/Government-Digital-Transformation/data/intermediate/analysis/reddit_qualitative_analysis.txt\n"
     ]
    },
    {
     "name": "stderr",
     "output_type": "stream",
     "text": [
      "<timed exec>:63: SettingWithCopyWarning: \n",
      "A value is trying to be set on a copy of a slice from a DataFrame.\n",
      "Try using .loc[row_indexer,col_indexer] = value instead\n",
      "\n",
      "See the caveats in the documentation: https://pandas.pydata.org/pandas-docs/stable/user_guide/indexing.html#returning-a-view-versus-a-copy\n"
     ]
    },
    {
     "name": "stdout",
     "output_type": "stream",
     "text": [
      "Saved time series visualization for Reddit - Topic: eu  uk  would  to /Users/tnathu-ai/VSCode/Government-Digital-Transformation/assets/images/reddit_time_series_analysis_eu  uk  would .png\n"
     ]
    },
    {
     "name": "stderr",
     "output_type": "stream",
     "text": [
      "<timed exec>:63: SettingWithCopyWarning: \n",
      "A value is trying to be set on a copy of a slice from a DataFrame.\n",
      "Try using .loc[row_indexer,col_indexer] = value instead\n",
      "\n",
      "See the caveats in the documentation: https://pandas.pydata.org/pandas-docs/stable/user_guide/indexing.html#returning-a-view-versus-a-copy\n"
     ]
    },
    {
     "name": "stdout",
     "output_type": "stream",
     "text": [
      "Saved time series visualization for Reddit - Topic: china  us  chinese  to /Users/tnathu-ai/VSCode/Government-Digital-Transformation/assets/images/reddit_time_series_analysis_china  us  chinese .png\n"
     ]
    },
    {
     "name": "stderr",
     "output_type": "stream",
     "text": [
      "<timed exec>:63: SettingWithCopyWarning: \n",
      "A value is trying to be set on a copy of a slice from a DataFrame.\n",
      "Try using .loc[row_indexer,col_indexer] = value instead\n",
      "\n",
      "See the caveats in the documentation: https://pandas.pydata.org/pandas-docs/stable/user_guide/indexing.html#returning-a-view-versus-a-copy\n"
     ]
    },
    {
     "name": "stdout",
     "output_type": "stream",
     "text": [
      "Saved time series visualization for Reddit - Topic: food  processed  people  to /Users/tnathu-ai/VSCode/Government-Digital-Transformation/assets/images/reddit_time_series_analysis_food  processed  people .png\n"
     ]
    },
    {
     "name": "stderr",
     "output_type": "stream",
     "text": [
      "<timed exec>:63: SettingWithCopyWarning: \n",
      "A value is trying to be set on a copy of a slice from a DataFrame.\n",
      "Try using .loc[row_indexer,col_indexer] = value instead\n",
      "\n",
      "See the caveats in the documentation: https://pandas.pydata.org/pandas-docs/stable/user_guide/indexing.html#returning-a-view-versus-a-copy\n"
     ]
    },
    {
     "name": "stdout",
     "output_type": "stream",
     "text": [
      "Saved time series visualization for Reddit - Topic: people  dont  would  to /Users/tnathu-ai/VSCode/Government-Digital-Transformation/assets/images/reddit_time_series_analysis_people  dont  would .png\n"
     ]
    },
    {
     "name": "stderr",
     "output_type": "stream",
     "text": [
      "<timed exec>:63: SettingWithCopyWarning: \n",
      "A value is trying to be set on a copy of a slice from a DataFrame.\n",
      "Try using .loc[row_indexer,col_indexer] = value instead\n",
      "\n",
      "See the caveats in the documentation: https://pandas.pydata.org/pandas-docs/stable/user_guide/indexing.html#returning-a-view-versus-a-copy\n"
     ]
    },
    {
     "name": "stdout",
     "output_type": "stream",
     "text": [
      "Saved time series visualization for Reddit - Topic: people  like  country  to /Users/tnathu-ai/VSCode/Government-Digital-Transformation/assets/images/reddit_time_series_analysis_people  like  country .png\n",
      "Saved sentiment analysis for Reddit to /Users/tnathu-ai/VSCode/Government-Digital-Transformation/data/intermediate/analysis/reddit_sentiment_analysis.txt\n",
      "Extracted Topic: (0, '0.018*\"people\" + 0.015*\"refugees\" + 0.008*\"country\" + 0.006*\"germany\" + 0.006*\"refugee\"')\n",
      "Extracted Topic: (1, '0.010*\"people\" + 0.010*\"years\" + 0.009*\"get\" + 0.007*\"like\" + 0.007*\"one\"')\n",
      "Extracted Topic: (2, '0.012*\"climate\" + 0.011*\"change\" + 0.010*\"party\" + 0.008*\"tax\" + 0.007*\"labor\"')\n",
      "Extracted Topic: (3, '0.017*\"people\" + 0.014*\"dont\" + 0.014*\"like\" + 0.009*\"im\" + 0.009*\"think\"')\n",
      "Extracted Topic: (4, '0.012*\"us\" + 0.010*\"australia\" + 0.010*\"would\" + 0.008*\"government\" + 0.007*\"money\"')\n",
      "Saved topic modeling for Reddit to /Users/tnathu-ai/VSCode/Government-Digital-Transformation/data/intermediate/analysis/reddit_topic_modeling.txt\n",
      "Saved qualitative analysis for Reddit to /Users/tnathu-ai/VSCode/Government-Digital-Transformation/data/intermediate/analysis/reddit_qualitative_analysis.txt\n"
     ]
    },
    {
     "name": "stderr",
     "output_type": "stream",
     "text": [
      "<timed exec>:63: SettingWithCopyWarning: \n",
      "A value is trying to be set on a copy of a slice from a DataFrame.\n",
      "Try using .loc[row_indexer,col_indexer] = value instead\n",
      "\n",
      "See the caveats in the documentation: https://pandas.pydata.org/pandas-docs/stable/user_guide/indexing.html#returning-a-view-versus-a-copy\n"
     ]
    },
    {
     "name": "stdout",
     "output_type": "stream",
     "text": [
      "Saved time series visualization for Reddit - Topic: people  refugees  country  to /Users/tnathu-ai/VSCode/Government-Digital-Transformation/assets/images/reddit_time_series_analysis_people  refugees  country .png\n"
     ]
    },
    {
     "name": "stderr",
     "output_type": "stream",
     "text": [
      "<timed exec>:63: SettingWithCopyWarning: \n",
      "A value is trying to be set on a copy of a slice from a DataFrame.\n",
      "Try using .loc[row_indexer,col_indexer] = value instead\n",
      "\n",
      "See the caveats in the documentation: https://pandas.pydata.org/pandas-docs/stable/user_guide/indexing.html#returning-a-view-versus-a-copy\n"
     ]
    },
    {
     "name": "stdout",
     "output_type": "stream",
     "text": [
      "Saved time series visualization for Reddit - Topic: people  years  get  to /Users/tnathu-ai/VSCode/Government-Digital-Transformation/assets/images/reddit_time_series_analysis_people  years  get .png\n"
     ]
    },
    {
     "name": "stderr",
     "output_type": "stream",
     "text": [
      "<timed exec>:63: SettingWithCopyWarning: \n",
      "A value is trying to be set on a copy of a slice from a DataFrame.\n",
      "Try using .loc[row_indexer,col_indexer] = value instead\n",
      "\n",
      "See the caveats in the documentation: https://pandas.pydata.org/pandas-docs/stable/user_guide/indexing.html#returning-a-view-versus-a-copy\n"
     ]
    },
    {
     "name": "stdout",
     "output_type": "stream",
     "text": [
      "Saved time series visualization for Reddit - Topic: climate  change  party  to /Users/tnathu-ai/VSCode/Government-Digital-Transformation/assets/images/reddit_time_series_analysis_climate  change  party .png\n"
     ]
    },
    {
     "name": "stderr",
     "output_type": "stream",
     "text": [
      "<timed exec>:63: SettingWithCopyWarning: \n",
      "A value is trying to be set on a copy of a slice from a DataFrame.\n",
      "Try using .loc[row_indexer,col_indexer] = value instead\n",
      "\n",
      "See the caveats in the documentation: https://pandas.pydata.org/pandas-docs/stable/user_guide/indexing.html#returning-a-view-versus-a-copy\n"
     ]
    },
    {
     "name": "stdout",
     "output_type": "stream",
     "text": [
      "Saved time series visualization for Reddit - Topic: people  dont  like  to /Users/tnathu-ai/VSCode/Government-Digital-Transformation/assets/images/reddit_time_series_analysis_people  dont  like .png\n"
     ]
    },
    {
     "name": "stderr",
     "output_type": "stream",
     "text": [
      "<timed exec>:63: SettingWithCopyWarning: \n",
      "A value is trying to be set on a copy of a slice from a DataFrame.\n",
      "Try using .loc[row_indexer,col_indexer] = value instead\n",
      "\n",
      "See the caveats in the documentation: https://pandas.pydata.org/pandas-docs/stable/user_guide/indexing.html#returning-a-view-versus-a-copy\n"
     ]
    },
    {
     "name": "stdout",
     "output_type": "stream",
     "text": [
      "Saved time series visualization for Reddit - Topic: us  australia  would  to /Users/tnathu-ai/VSCode/Government-Digital-Transformation/assets/images/reddit_time_series_analysis_us  australia  would .png\n",
      "Saved sentiment analysis for Reddit to /Users/tnathu-ai/VSCode/Government-Digital-Transformation/data/intermediate/analysis/reddit_sentiment_analysis.txt\n",
      "Extracted Topic: (0, '0.006*\"didnt\" + 0.006*\"corporations\" + 0.006*\"higher\" + 0.004*\"like\" + 0.004*\"years\"')\n",
      "Extracted Topic: (1, '0.013*\"roads\" + 0.011*\"road\" + 0.008*\"would\" + 0.008*\"city\" + 0.008*\"people\"')\n",
      "Extracted Topic: (2, '0.009*\"go\" + 0.009*\"city\" + 0.008*\"great\" + 0.008*\"like\" + 0.007*\"get\"')\n",
      "Extracted Topic: (3, '0.016*\"china\" + 0.012*\"us\" + 0.012*\"money\" + 0.011*\"infrastructure\" + 0.010*\"tax\"')\n",
      "Extracted Topic: (4, '0.020*\"people\" + 0.016*\"dont\" + 0.012*\"like\" + 0.010*\"think\" + 0.009*\"im\"')\n",
      "Saved topic modeling for Reddit to /Users/tnathu-ai/VSCode/Government-Digital-Transformation/data/intermediate/analysis/reddit_topic_modeling.txt\n",
      "Saved qualitative analysis for Reddit to /Users/tnathu-ai/VSCode/Government-Digital-Transformation/data/intermediate/analysis/reddit_qualitative_analysis.txt\n"
     ]
    },
    {
     "name": "stderr",
     "output_type": "stream",
     "text": [
      "<timed exec>:63: SettingWithCopyWarning: \n",
      "A value is trying to be set on a copy of a slice from a DataFrame.\n",
      "Try using .loc[row_indexer,col_indexer] = value instead\n",
      "\n",
      "See the caveats in the documentation: https://pandas.pydata.org/pandas-docs/stable/user_guide/indexing.html#returning-a-view-versus-a-copy\n"
     ]
    },
    {
     "name": "stdout",
     "output_type": "stream",
     "text": [
      "Saved time series visualization for Reddit - Topic: didnt  corporations  higher  to /Users/tnathu-ai/VSCode/Government-Digital-Transformation/assets/images/reddit_time_series_analysis_didnt  corporations  higher .png\n"
     ]
    },
    {
     "name": "stderr",
     "output_type": "stream",
     "text": [
      "<timed exec>:63: SettingWithCopyWarning: \n",
      "A value is trying to be set on a copy of a slice from a DataFrame.\n",
      "Try using .loc[row_indexer,col_indexer] = value instead\n",
      "\n",
      "See the caveats in the documentation: https://pandas.pydata.org/pandas-docs/stable/user_guide/indexing.html#returning-a-view-versus-a-copy\n"
     ]
    },
    {
     "name": "stdout",
     "output_type": "stream",
     "text": [
      "Saved time series visualization for Reddit - Topic: roads  road  would  to /Users/tnathu-ai/VSCode/Government-Digital-Transformation/assets/images/reddit_time_series_analysis_roads  road  would .png\n"
     ]
    },
    {
     "name": "stderr",
     "output_type": "stream",
     "text": [
      "<timed exec>:63: SettingWithCopyWarning: \n",
      "A value is trying to be set on a copy of a slice from a DataFrame.\n",
      "Try using .loc[row_indexer,col_indexer] = value instead\n",
      "\n",
      "See the caveats in the documentation: https://pandas.pydata.org/pandas-docs/stable/user_guide/indexing.html#returning-a-view-versus-a-copy\n"
     ]
    },
    {
     "name": "stdout",
     "output_type": "stream",
     "text": [
      "Saved time series visualization for Reddit - Topic: go  city  great  to /Users/tnathu-ai/VSCode/Government-Digital-Transformation/assets/images/reddit_time_series_analysis_go  city  great .png\n"
     ]
    },
    {
     "name": "stderr",
     "output_type": "stream",
     "text": [
      "<timed exec>:63: SettingWithCopyWarning: \n",
      "A value is trying to be set on a copy of a slice from a DataFrame.\n",
      "Try using .loc[row_indexer,col_indexer] = value instead\n",
      "\n",
      "See the caveats in the documentation: https://pandas.pydata.org/pandas-docs/stable/user_guide/indexing.html#returning-a-view-versus-a-copy\n"
     ]
    },
    {
     "name": "stdout",
     "output_type": "stream",
     "text": [
      "Saved time series visualization for Reddit - Topic: china  us  money  to /Users/tnathu-ai/VSCode/Government-Digital-Transformation/assets/images/reddit_time_series_analysis_china  us  money .png\n"
     ]
    },
    {
     "name": "stderr",
     "output_type": "stream",
     "text": [
      "<timed exec>:63: SettingWithCopyWarning: \n",
      "A value is trying to be set on a copy of a slice from a DataFrame.\n",
      "Try using .loc[row_indexer,col_indexer] = value instead\n",
      "\n",
      "See the caveats in the documentation: https://pandas.pydata.org/pandas-docs/stable/user_guide/indexing.html#returning-a-view-versus-a-copy\n"
     ]
    },
    {
     "name": "stdout",
     "output_type": "stream",
     "text": [
      "Saved time series visualization for Reddit - Topic: people  dont  like  to /Users/tnathu-ai/VSCode/Government-Digital-Transformation/assets/images/reddit_time_series_analysis_people  dont  like .png\n",
      "Saved sentiment analysis for Reddit to /Users/tnathu-ai/VSCode/Government-Digital-Transformation/data/intermediate/analysis/reddit_sentiment_analysis.txt\n",
      "Extracted Topic: (0, '0.005*\"use\" + 0.004*\"shes\" + 0.004*\"chakra\" + 0.004*\"control\" + 0.004*\"party\"')\n",
      "Extracted Topic: (1, '0.075*\"water\" + 0.009*\"drink\" + 0.008*\"use\" + 0.007*\"get\" + 0.007*\"hot\"')\n",
      "Extracted Topic: (2, '0.023*\"people\" + 0.014*\"dont\" + 0.012*\"get\" + 0.011*\"like\" + 0.009*\"would\"')\n",
      "Extracted Topic: (3, '0.016*\"like\" + 0.011*\"im\" + 0.010*\"one\" + 0.008*\"time\" + 0.007*\"got\"')\n",
      "Extracted Topic: (4, '0.011*\"nuclear\" + 0.011*\"would\" + 0.009*\"australia\" + 0.009*\"us\" + 0.007*\"power\"')\n",
      "Saved topic modeling for Reddit to /Users/tnathu-ai/VSCode/Government-Digital-Transformation/data/intermediate/analysis/reddit_topic_modeling.txt\n",
      "Saved qualitative analysis for Reddit to /Users/tnathu-ai/VSCode/Government-Digital-Transformation/data/intermediate/analysis/reddit_qualitative_analysis.txt\n"
     ]
    },
    {
     "name": "stderr",
     "output_type": "stream",
     "text": [
      "<timed exec>:63: SettingWithCopyWarning: \n",
      "A value is trying to be set on a copy of a slice from a DataFrame.\n",
      "Try using .loc[row_indexer,col_indexer] = value instead\n",
      "\n",
      "See the caveats in the documentation: https://pandas.pydata.org/pandas-docs/stable/user_guide/indexing.html#returning-a-view-versus-a-copy\n"
     ]
    },
    {
     "name": "stdout",
     "output_type": "stream",
     "text": [
      "Saved time series visualization for Reddit - Topic: use  shes  chakra  to /Users/tnathu-ai/VSCode/Government-Digital-Transformation/assets/images/reddit_time_series_analysis_use  shes  chakra .png\n"
     ]
    },
    {
     "name": "stderr",
     "output_type": "stream",
     "text": [
      "<timed exec>:63: SettingWithCopyWarning: \n",
      "A value is trying to be set on a copy of a slice from a DataFrame.\n",
      "Try using .loc[row_indexer,col_indexer] = value instead\n",
      "\n",
      "See the caveats in the documentation: https://pandas.pydata.org/pandas-docs/stable/user_guide/indexing.html#returning-a-view-versus-a-copy\n"
     ]
    },
    {
     "name": "stdout",
     "output_type": "stream",
     "text": [
      "Saved time series visualization for Reddit - Topic: water  drink  use  to /Users/tnathu-ai/VSCode/Government-Digital-Transformation/assets/images/reddit_time_series_analysis_water  drink  use .png\n"
     ]
    },
    {
     "name": "stderr",
     "output_type": "stream",
     "text": [
      "<timed exec>:63: SettingWithCopyWarning: \n",
      "A value is trying to be set on a copy of a slice from a DataFrame.\n",
      "Try using .loc[row_indexer,col_indexer] = value instead\n",
      "\n",
      "See the caveats in the documentation: https://pandas.pydata.org/pandas-docs/stable/user_guide/indexing.html#returning-a-view-versus-a-copy\n"
     ]
    },
    {
     "name": "stdout",
     "output_type": "stream",
     "text": [
      "Saved time series visualization for Reddit - Topic: people  dont  get  to /Users/tnathu-ai/VSCode/Government-Digital-Transformation/assets/images/reddit_time_series_analysis_people  dont  get .png\n"
     ]
    },
    {
     "name": "stderr",
     "output_type": "stream",
     "text": [
      "<timed exec>:63: SettingWithCopyWarning: \n",
      "A value is trying to be set on a copy of a slice from a DataFrame.\n",
      "Try using .loc[row_indexer,col_indexer] = value instead\n",
      "\n",
      "See the caveats in the documentation: https://pandas.pydata.org/pandas-docs/stable/user_guide/indexing.html#returning-a-view-versus-a-copy\n"
     ]
    },
    {
     "name": "stdout",
     "output_type": "stream",
     "text": [
      "Saved time series visualization for Reddit - Topic: like  im  one  to /Users/tnathu-ai/VSCode/Government-Digital-Transformation/assets/images/reddit_time_series_analysis_like  im  one .png\n"
     ]
    },
    {
     "name": "stderr",
     "output_type": "stream",
     "text": [
      "<timed exec>:63: SettingWithCopyWarning: \n",
      "A value is trying to be set on a copy of a slice from a DataFrame.\n",
      "Try using .loc[row_indexer,col_indexer] = value instead\n",
      "\n",
      "See the caveats in the documentation: https://pandas.pydata.org/pandas-docs/stable/user_guide/indexing.html#returning-a-view-versus-a-copy\n"
     ]
    },
    {
     "name": "stdout",
     "output_type": "stream",
     "text": [
      "Saved time series visualization for Reddit - Topic: nuclear  would  australia  to /Users/tnathu-ai/VSCode/Government-Digital-Transformation/assets/images/reddit_time_series_analysis_nuclear  would  australia .png\n",
      "Saved sentiment analysis for Reddit to /Users/tnathu-ai/VSCode/Government-Digital-Transformation/data/intermediate/analysis/reddit_sentiment_analysis.txt\n",
      "Extracted Topic: (0, '0.018*\"pension\" + 0.010*\"tax\" + 0.010*\"get\" + 0.009*\"years\" + 0.009*\"age\"')\n",
      "Extracted Topic: (1, '0.011*\"like\" + 0.011*\"get\" + 0.008*\"year\" + 0.006*\"funds\" + 0.006*\"pension\"')\n",
      "Extracted Topic: (2, '0.017*\"people\" + 0.013*\"work\" + 0.010*\"like\" + 0.008*\"dont\" + 0.006*\"im\"')\n",
      "Extracted Topic: (3, '0.018*\"people\" + 0.012*\"home\" + 0.011*\"money\" + 0.010*\"house\" + 0.009*\"would\"')\n",
      "Extracted Topic: (4, '0.010*\"know\" + 0.006*\"go\" + 0.006*\"think\" + 0.006*\"thailand\" + 0.006*\"get\"')\n",
      "Saved topic modeling for Reddit to /Users/tnathu-ai/VSCode/Government-Digital-Transformation/data/intermediate/analysis/reddit_topic_modeling.txt\n",
      "Saved qualitative analysis for Reddit to /Users/tnathu-ai/VSCode/Government-Digital-Transformation/data/intermediate/analysis/reddit_qualitative_analysis.txt\n"
     ]
    },
    {
     "name": "stderr",
     "output_type": "stream",
     "text": [
      "<timed exec>:63: SettingWithCopyWarning: \n",
      "A value is trying to be set on a copy of a slice from a DataFrame.\n",
      "Try using .loc[row_indexer,col_indexer] = value instead\n",
      "\n",
      "See the caveats in the documentation: https://pandas.pydata.org/pandas-docs/stable/user_guide/indexing.html#returning-a-view-versus-a-copy\n"
     ]
    },
    {
     "name": "stdout",
     "output_type": "stream",
     "text": [
      "Saved time series visualization for Reddit - Topic: pension  tax  get  to /Users/tnathu-ai/VSCode/Government-Digital-Transformation/assets/images/reddit_time_series_analysis_pension  tax  get .png\n"
     ]
    },
    {
     "name": "stderr",
     "output_type": "stream",
     "text": [
      "<timed exec>:63: SettingWithCopyWarning: \n",
      "A value is trying to be set on a copy of a slice from a DataFrame.\n",
      "Try using .loc[row_indexer,col_indexer] = value instead\n",
      "\n",
      "See the caveats in the documentation: https://pandas.pydata.org/pandas-docs/stable/user_guide/indexing.html#returning-a-view-versus-a-copy\n"
     ]
    },
    {
     "name": "stdout",
     "output_type": "stream",
     "text": [
      "Saved time series visualization for Reddit - Topic: like  get  year  to /Users/tnathu-ai/VSCode/Government-Digital-Transformation/assets/images/reddit_time_series_analysis_like  get  year .png\n",
      "Saved time series visualization for Reddit - Topic: people  work  like  to /Users/tnathu-ai/VSCode/Government-Digital-Transformation/assets/images/reddit_time_series_analysis_people  work  like .png\n"
     ]
    },
    {
     "name": "stderr",
     "output_type": "stream",
     "text": [
      "<timed exec>:63: SettingWithCopyWarning: \n",
      "A value is trying to be set on a copy of a slice from a DataFrame.\n",
      "Try using .loc[row_indexer,col_indexer] = value instead\n",
      "\n",
      "See the caveats in the documentation: https://pandas.pydata.org/pandas-docs/stable/user_guide/indexing.html#returning-a-view-versus-a-copy\n",
      "<timed exec>:63: SettingWithCopyWarning: \n",
      "A value is trying to be set on a copy of a slice from a DataFrame.\n",
      "Try using .loc[row_indexer,col_indexer] = value instead\n",
      "\n",
      "See the caveats in the documentation: https://pandas.pydata.org/pandas-docs/stable/user_guide/indexing.html#returning-a-view-versus-a-copy\n"
     ]
    },
    {
     "name": "stdout",
     "output_type": "stream",
     "text": [
      "Saved time series visualization for Reddit - Topic: people  home  money  to /Users/tnathu-ai/VSCode/Government-Digital-Transformation/assets/images/reddit_time_series_analysis_people  home  money .png\n"
     ]
    },
    {
     "name": "stderr",
     "output_type": "stream",
     "text": [
      "<timed exec>:63: SettingWithCopyWarning: \n",
      "A value is trying to be set on a copy of a slice from a DataFrame.\n",
      "Try using .loc[row_indexer,col_indexer] = value instead\n",
      "\n",
      "See the caveats in the documentation: https://pandas.pydata.org/pandas-docs/stable/user_guide/indexing.html#returning-a-view-versus-a-copy\n"
     ]
    },
    {
     "name": "stdout",
     "output_type": "stream",
     "text": [
      "Saved time series visualization for Reddit - Topic: know  go  think  to /Users/tnathu-ai/VSCode/Government-Digital-Transformation/assets/images/reddit_time_series_analysis_know  go  think .png\n",
      "Saved sentiment analysis for Reddit to /Users/tnathu-ai/VSCode/Government-Digital-Transformation/data/intermediate/analysis/reddit_sentiment_analysis.txt\n",
      "Extracted Topic: (0, '0.011*\"would\" + 0.009*\"people\" + 0.008*\"like\" + 0.008*\"get\" + 0.008*\"fire\"')\n",
      "Extracted Topic: (1, '0.013*\"city\" + 0.011*\"water\" + 0.011*\"government\" + 0.007*\"people\" + 0.007*\"money\"')\n",
      "Extracted Topic: (2, '0.007*\"australia\" + 0.006*\"also\" + 0.006*\"would\" + 0.005*\"news\" + 0.005*\"south\"')\n",
      "Extracted Topic: (3, '0.028*\"people\" + 0.013*\"dont\" + 0.009*\"work\" + 0.008*\"like\" + 0.006*\"think\"')\n",
      "Extracted Topic: (4, '0.012*\"like\" + 0.011*\"im\" + 0.009*\"get\" + 0.008*\"one\" + 0.008*\"good\"')\n",
      "Saved topic modeling for Reddit to /Users/tnathu-ai/VSCode/Government-Digital-Transformation/data/intermediate/analysis/reddit_topic_modeling.txt\n",
      "Saved qualitative analysis for Reddit to /Users/tnathu-ai/VSCode/Government-Digital-Transformation/data/intermediate/analysis/reddit_qualitative_analysis.txt\n"
     ]
    },
    {
     "name": "stderr",
     "output_type": "stream",
     "text": [
      "<timed exec>:63: SettingWithCopyWarning: \n",
      "A value is trying to be set on a copy of a slice from a DataFrame.\n",
      "Try using .loc[row_indexer,col_indexer] = value instead\n",
      "\n",
      "See the caveats in the documentation: https://pandas.pydata.org/pandas-docs/stable/user_guide/indexing.html#returning-a-view-versus-a-copy\n"
     ]
    },
    {
     "name": "stdout",
     "output_type": "stream",
     "text": [
      "Saved time series visualization for Reddit - Topic: would  people  like  to /Users/tnathu-ai/VSCode/Government-Digital-Transformation/assets/images/reddit_time_series_analysis_would  people  like .png\n"
     ]
    },
    {
     "name": "stderr",
     "output_type": "stream",
     "text": [
      "<timed exec>:63: SettingWithCopyWarning: \n",
      "A value is trying to be set on a copy of a slice from a DataFrame.\n",
      "Try using .loc[row_indexer,col_indexer] = value instead\n",
      "\n",
      "See the caveats in the documentation: https://pandas.pydata.org/pandas-docs/stable/user_guide/indexing.html#returning-a-view-versus-a-copy\n"
     ]
    },
    {
     "name": "stdout",
     "output_type": "stream",
     "text": [
      "Saved time series visualization for Reddit - Topic: city  water  government  to /Users/tnathu-ai/VSCode/Government-Digital-Transformation/assets/images/reddit_time_series_analysis_city  water  government .png\n"
     ]
    },
    {
     "name": "stderr",
     "output_type": "stream",
     "text": [
      "<timed exec>:63: SettingWithCopyWarning: \n",
      "A value is trying to be set on a copy of a slice from a DataFrame.\n",
      "Try using .loc[row_indexer,col_indexer] = value instead\n",
      "\n",
      "See the caveats in the documentation: https://pandas.pydata.org/pandas-docs/stable/user_guide/indexing.html#returning-a-view-versus-a-copy\n"
     ]
    },
    {
     "name": "stdout",
     "output_type": "stream",
     "text": [
      "Saved time series visualization for Reddit - Topic: australia  also  would  to /Users/tnathu-ai/VSCode/Government-Digital-Transformation/assets/images/reddit_time_series_analysis_australia  also  would .png\n"
     ]
    },
    {
     "name": "stderr",
     "output_type": "stream",
     "text": [
      "<timed exec>:63: SettingWithCopyWarning: \n",
      "A value is trying to be set on a copy of a slice from a DataFrame.\n",
      "Try using .loc[row_indexer,col_indexer] = value instead\n",
      "\n",
      "See the caveats in the documentation: https://pandas.pydata.org/pandas-docs/stable/user_guide/indexing.html#returning-a-view-versus-a-copy\n"
     ]
    },
    {
     "name": "stdout",
     "output_type": "stream",
     "text": [
      "Saved time series visualization for Reddit - Topic: people  dont  work  to /Users/tnathu-ai/VSCode/Government-Digital-Transformation/assets/images/reddit_time_series_analysis_people  dont  work .png\n"
     ]
    },
    {
     "name": "stderr",
     "output_type": "stream",
     "text": [
      "<timed exec>:63: SettingWithCopyWarning: \n",
      "A value is trying to be set on a copy of a slice from a DataFrame.\n",
      "Try using .loc[row_indexer,col_indexer] = value instead\n",
      "\n",
      "See the caveats in the documentation: https://pandas.pydata.org/pandas-docs/stable/user_guide/indexing.html#returning-a-view-versus-a-copy\n"
     ]
    },
    {
     "name": "stdout",
     "output_type": "stream",
     "text": [
      "Saved time series visualization for Reddit - Topic: like  im  get  to /Users/tnathu-ai/VSCode/Government-Digital-Transformation/assets/images/reddit_time_series_analysis_like  im  get .png\n",
      "Saved sentiment analysis for Reddit to /Users/tnathu-ai/VSCode/Government-Digital-Transformation/data/intermediate/analysis/reddit_sentiment_analysis.txt\n",
      "Extracted Topic: (0, '0.023*\"weather\" + 0.009*\"like\" + 0.009*\"get\" + 0.008*\"day\" + 0.007*\"apple\"')\n",
      "Extracted Topic: (1, '0.010*\"bom\" + 0.009*\"data\" + 0.008*\"government\" + 0.008*\"like\" + 0.007*\"would\"')\n",
      "Extracted Topic: (2, '0.012*\"people\" + 0.011*\"dont\" + 0.011*\"climate\" + 0.009*\"change\" + 0.007*\"would\"')\n",
      "Extracted Topic: (3, '0.010*\"climate\" + 0.006*\"years\" + 0.006*\"like\" + 0.006*\"record\" + 0.006*\"change\"')\n",
      "Extracted Topic: (4, '0.014*\"bom\" + 0.010*\"bureau\" + 0.006*\"new\" + 0.005*\"staff\" + 0.005*\"public\"')\n",
      "Saved topic modeling for Reddit to /Users/tnathu-ai/VSCode/Government-Digital-Transformation/data/intermediate/analysis/reddit_topic_modeling.txt\n",
      "Saved qualitative analysis for Reddit to /Users/tnathu-ai/VSCode/Government-Digital-Transformation/data/intermediate/analysis/reddit_qualitative_analysis.txt\n"
     ]
    },
    {
     "name": "stderr",
     "output_type": "stream",
     "text": [
      "<timed exec>:63: SettingWithCopyWarning: \n",
      "A value is trying to be set on a copy of a slice from a DataFrame.\n",
      "Try using .loc[row_indexer,col_indexer] = value instead\n",
      "\n",
      "See the caveats in the documentation: https://pandas.pydata.org/pandas-docs/stable/user_guide/indexing.html#returning-a-view-versus-a-copy\n"
     ]
    },
    {
     "name": "stdout",
     "output_type": "stream",
     "text": [
      "Saved time series visualization for Reddit - Topic: weather  like  get  to /Users/tnathu-ai/VSCode/Government-Digital-Transformation/assets/images/reddit_time_series_analysis_weather  like  get .png\n"
     ]
    },
    {
     "name": "stderr",
     "output_type": "stream",
     "text": [
      "<timed exec>:63: SettingWithCopyWarning: \n",
      "A value is trying to be set on a copy of a slice from a DataFrame.\n",
      "Try using .loc[row_indexer,col_indexer] = value instead\n",
      "\n",
      "See the caveats in the documentation: https://pandas.pydata.org/pandas-docs/stable/user_guide/indexing.html#returning-a-view-versus-a-copy\n"
     ]
    },
    {
     "name": "stdout",
     "output_type": "stream",
     "text": [
      "Saved time series visualization for Reddit - Topic: bom  data  government  to /Users/tnathu-ai/VSCode/Government-Digital-Transformation/assets/images/reddit_time_series_analysis_bom  data  government .png\n"
     ]
    },
    {
     "name": "stderr",
     "output_type": "stream",
     "text": [
      "<timed exec>:63: SettingWithCopyWarning: \n",
      "A value is trying to be set on a copy of a slice from a DataFrame.\n",
      "Try using .loc[row_indexer,col_indexer] = value instead\n",
      "\n",
      "See the caveats in the documentation: https://pandas.pydata.org/pandas-docs/stable/user_guide/indexing.html#returning-a-view-versus-a-copy\n"
     ]
    },
    {
     "name": "stdout",
     "output_type": "stream",
     "text": [
      "Saved time series visualization for Reddit - Topic: people  dont  climate  to /Users/tnathu-ai/VSCode/Government-Digital-Transformation/assets/images/reddit_time_series_analysis_people  dont  climate .png\n",
      "Saved time series visualization for Reddit - Topic: climate  years  like  to /Users/tnathu-ai/VSCode/Government-Digital-Transformation/assets/images/reddit_time_series_analysis_climate  years  like .png\n"
     ]
    },
    {
     "name": "stderr",
     "output_type": "stream",
     "text": [
      "<timed exec>:63: SettingWithCopyWarning: \n",
      "A value is trying to be set on a copy of a slice from a DataFrame.\n",
      "Try using .loc[row_indexer,col_indexer] = value instead\n",
      "\n",
      "See the caveats in the documentation: https://pandas.pydata.org/pandas-docs/stable/user_guide/indexing.html#returning-a-view-versus-a-copy\n",
      "<timed exec>:63: SettingWithCopyWarning: \n",
      "A value is trying to be set on a copy of a slice from a DataFrame.\n",
      "Try using .loc[row_indexer,col_indexer] = value instead\n",
      "\n",
      "See the caveats in the documentation: https://pandas.pydata.org/pandas-docs/stable/user_guide/indexing.html#returning-a-view-versus-a-copy\n"
     ]
    },
    {
     "name": "stdout",
     "output_type": "stream",
     "text": [
      "Saved time series visualization for Reddit - Topic: bom  bureau  new  to /Users/tnathu-ai/VSCode/Government-Digital-Transformation/assets/images/reddit_time_series_analysis_bom  bureau  new .png\n",
      "Saved sentiment analysis for Reddit to /Users/tnathu-ai/VSCode/Government-Digital-Transformation/data/intermediate/analysis/reddit_sentiment_analysis.txt\n",
      "Extracted Topic: (0, '0.015*\"people\" + 0.012*\"crime\" + 0.008*\"also\" + 0.008*\"state\" + 0.008*\"would\"')\n",
      "Extracted Topic: (1, '0.018*\"people\" + 0.017*\"like\" + 0.017*\"dont\" + 0.012*\"im\" + 0.011*\"get\"')\n",
      "Extracted Topic: (2, '0.009*\"law\" + 0.007*\"use\" + 0.007*\"would\" + 0.006*\"evidence\" + 0.005*\"money\"')\n",
      "Extracted Topic: (3, '0.014*\"like\" + 0.011*\"ive\" + 0.010*\"one\" + 0.007*\"years\" + 0.006*\"time\"')\n",
      "Extracted Topic: (4, '0.026*\"us\" + 0.012*\"china\" + 0.010*\"world\" + 0.008*\"war\" + 0.008*\"power\"')\n",
      "Saved topic modeling for Reddit to /Users/tnathu-ai/VSCode/Government-Digital-Transformation/data/intermediate/analysis/reddit_topic_modeling.txt\n",
      "Saved qualitative analysis for Reddit to /Users/tnathu-ai/VSCode/Government-Digital-Transformation/data/intermediate/analysis/reddit_qualitative_analysis.txt\n"
     ]
    },
    {
     "name": "stderr",
     "output_type": "stream",
     "text": [
      "<timed exec>:63: SettingWithCopyWarning: \n",
      "A value is trying to be set on a copy of a slice from a DataFrame.\n",
      "Try using .loc[row_indexer,col_indexer] = value instead\n",
      "\n",
      "See the caveats in the documentation: https://pandas.pydata.org/pandas-docs/stable/user_guide/indexing.html#returning-a-view-versus-a-copy\n"
     ]
    },
    {
     "name": "stdout",
     "output_type": "stream",
     "text": [
      "Saved time series visualization for Reddit - Topic: people  crime  also  to /Users/tnathu-ai/VSCode/Government-Digital-Transformation/assets/images/reddit_time_series_analysis_people  crime  also .png\n"
     ]
    },
    {
     "name": "stderr",
     "output_type": "stream",
     "text": [
      "<timed exec>:63: SettingWithCopyWarning: \n",
      "A value is trying to be set on a copy of a slice from a DataFrame.\n",
      "Try using .loc[row_indexer,col_indexer] = value instead\n",
      "\n",
      "See the caveats in the documentation: https://pandas.pydata.org/pandas-docs/stable/user_guide/indexing.html#returning-a-view-versus-a-copy\n"
     ]
    },
    {
     "name": "stdout",
     "output_type": "stream",
     "text": [
      "Saved time series visualization for Reddit - Topic: people  like  dont  to /Users/tnathu-ai/VSCode/Government-Digital-Transformation/assets/images/reddit_time_series_analysis_people  like  dont .png\n"
     ]
    },
    {
     "name": "stderr",
     "output_type": "stream",
     "text": [
      "<timed exec>:63: SettingWithCopyWarning: \n",
      "A value is trying to be set on a copy of a slice from a DataFrame.\n",
      "Try using .loc[row_indexer,col_indexer] = value instead\n",
      "\n",
      "See the caveats in the documentation: https://pandas.pydata.org/pandas-docs/stable/user_guide/indexing.html#returning-a-view-versus-a-copy\n"
     ]
    },
    {
     "name": "stdout",
     "output_type": "stream",
     "text": [
      "Saved time series visualization for Reddit - Topic: law  use  would  to /Users/tnathu-ai/VSCode/Government-Digital-Transformation/assets/images/reddit_time_series_analysis_law  use  would .png\n"
     ]
    },
    {
     "name": "stderr",
     "output_type": "stream",
     "text": [
      "<timed exec>:63: SettingWithCopyWarning: \n",
      "A value is trying to be set on a copy of a slice from a DataFrame.\n",
      "Try using .loc[row_indexer,col_indexer] = value instead\n",
      "\n",
      "See the caveats in the documentation: https://pandas.pydata.org/pandas-docs/stable/user_guide/indexing.html#returning-a-view-versus-a-copy\n"
     ]
    },
    {
     "name": "stdout",
     "output_type": "stream",
     "text": [
      "Saved time series visualization for Reddit - Topic: like  ive  one  to /Users/tnathu-ai/VSCode/Government-Digital-Transformation/assets/images/reddit_time_series_analysis_like  ive  one .png\n"
     ]
    },
    {
     "name": "stderr",
     "output_type": "stream",
     "text": [
      "<timed exec>:63: SettingWithCopyWarning: \n",
      "A value is trying to be set on a copy of a slice from a DataFrame.\n",
      "Try using .loc[row_indexer,col_indexer] = value instead\n",
      "\n",
      "See the caveats in the documentation: https://pandas.pydata.org/pandas-docs/stable/user_guide/indexing.html#returning-a-view-versus-a-copy\n"
     ]
    },
    {
     "name": "stdout",
     "output_type": "stream",
     "text": [
      "Saved time series visualization for Reddit - Topic: us  china  world  to /Users/tnathu-ai/VSCode/Government-Digital-Transformation/assets/images/reddit_time_series_analysis_us  china  world .png\n",
      "Saved sentiment analysis for Reddit to /Users/tnathu-ai/VSCode/Government-Digital-Transformation/data/intermediate/analysis/reddit_sentiment_analysis.txt\n",
      "Extracted Topic: (0, '0.029*\"governance\" + 0.024*\"period\" + 0.022*\"rewards\" + 0.021*\"algo\" + 0.014*\"apy\"')\n",
      "Extracted Topic: (1, '0.013*\"algo\" + 0.012*\"im\" + 0.011*\"sure\" + 0.009*\"like\" + 0.007*\"post\"')\n",
      "Extracted Topic: (2, '0.034*\"algo\" + 0.019*\"rewards\" + 0.018*\"get\" + 0.016*\"im\" + 0.015*\"wallet\"')\n",
      "Extracted Topic: (3, '0.016*\"automatically\" + 0.015*\"message\" + 0.015*\"please\" + 0.013*\"bot\" + 0.013*\"dont\"')\n",
      "Extracted Topic: (4, '0.013*\"get\" + 0.012*\"algo\" + 0.010*\"like\" + 0.010*\"wallet\" + 0.009*\"governance\"')\n",
      "Saved topic modeling for Reddit to /Users/tnathu-ai/VSCode/Government-Digital-Transformation/data/intermediate/analysis/reddit_topic_modeling.txt\n",
      "Saved qualitative analysis for Reddit to /Users/tnathu-ai/VSCode/Government-Digital-Transformation/data/intermediate/analysis/reddit_qualitative_analysis.txt\n"
     ]
    },
    {
     "name": "stderr",
     "output_type": "stream",
     "text": [
      "<timed exec>:63: SettingWithCopyWarning: \n",
      "A value is trying to be set on a copy of a slice from a DataFrame.\n",
      "Try using .loc[row_indexer,col_indexer] = value instead\n",
      "\n",
      "See the caveats in the documentation: https://pandas.pydata.org/pandas-docs/stable/user_guide/indexing.html#returning-a-view-versus-a-copy\n"
     ]
    },
    {
     "name": "stdout",
     "output_type": "stream",
     "text": [
      "Saved time series visualization for Reddit - Topic: governance  period  rewards  to /Users/tnathu-ai/VSCode/Government-Digital-Transformation/assets/images/reddit_time_series_analysis_governance  period  rewards .png\n"
     ]
    },
    {
     "name": "stderr",
     "output_type": "stream",
     "text": [
      "<timed exec>:63: SettingWithCopyWarning: \n",
      "A value is trying to be set on a copy of a slice from a DataFrame.\n",
      "Try using .loc[row_indexer,col_indexer] = value instead\n",
      "\n",
      "See the caveats in the documentation: https://pandas.pydata.org/pandas-docs/stable/user_guide/indexing.html#returning-a-view-versus-a-copy\n"
     ]
    },
    {
     "name": "stdout",
     "output_type": "stream",
     "text": [
      "Saved time series visualization for Reddit - Topic: algo  im  sure  to /Users/tnathu-ai/VSCode/Government-Digital-Transformation/assets/images/reddit_time_series_analysis_algo  im  sure .png\n"
     ]
    },
    {
     "name": "stderr",
     "output_type": "stream",
     "text": [
      "<timed exec>:63: SettingWithCopyWarning: \n",
      "A value is trying to be set on a copy of a slice from a DataFrame.\n",
      "Try using .loc[row_indexer,col_indexer] = value instead\n",
      "\n",
      "See the caveats in the documentation: https://pandas.pydata.org/pandas-docs/stable/user_guide/indexing.html#returning-a-view-versus-a-copy\n"
     ]
    },
    {
     "name": "stdout",
     "output_type": "stream",
     "text": [
      "Saved time series visualization for Reddit - Topic: algo  rewards  get  to /Users/tnathu-ai/VSCode/Government-Digital-Transformation/assets/images/reddit_time_series_analysis_algo  rewards  get .png\n",
      "Saved time series visualization for Reddit - Topic: automatically  message  please  to /Users/tnathu-ai/VSCode/Government-Digital-Transformation/assets/images/reddit_time_series_analysis_automatically  message  please .png\n"
     ]
    },
    {
     "name": "stderr",
     "output_type": "stream",
     "text": [
      "<timed exec>:63: SettingWithCopyWarning: \n",
      "A value is trying to be set on a copy of a slice from a DataFrame.\n",
      "Try using .loc[row_indexer,col_indexer] = value instead\n",
      "\n",
      "See the caveats in the documentation: https://pandas.pydata.org/pandas-docs/stable/user_guide/indexing.html#returning-a-view-versus-a-copy\n",
      "<timed exec>:63: SettingWithCopyWarning: \n",
      "A value is trying to be set on a copy of a slice from a DataFrame.\n",
      "Try using .loc[row_indexer,col_indexer] = value instead\n",
      "\n",
      "See the caveats in the documentation: https://pandas.pydata.org/pandas-docs/stable/user_guide/indexing.html#returning-a-view-versus-a-copy\n"
     ]
    },
    {
     "name": "stdout",
     "output_type": "stream",
     "text": [
      "Saved time series visualization for Reddit - Topic: get  algo  like  to /Users/tnathu-ai/VSCode/Government-Digital-Transformation/assets/images/reddit_time_series_analysis_get  algo  like .png\n",
      "Saved sentiment analysis for Reddit to /Users/tnathu-ai/VSCode/Government-Digital-Transformation/data/intermediate/analysis/reddit_sentiment_analysis.txt\n",
      "Extracted Topic: (0, '0.010*\"im\" + 0.009*\"dont\" + 0.007*\"youre\" + 0.006*\"like\" + 0.006*\"get\"')\n",
      "Extracted Topic: (1, '0.016*\"people\" + 0.010*\"dont\" + 0.009*\"like\" + 0.007*\"get\" + 0.005*\"power\"')\n",
      "Extracted Topic: (2, '0.018*\"us\" + 0.013*\"china\" + 0.012*\"australia\" + 0.010*\"country\" + 0.008*\"countries\"')\n",
      "Extracted Topic: (3, '0.012*\"tax\" + 0.011*\"climate\" + 0.011*\"change\" + 0.010*\"money\" + 0.009*\"years\"')\n",
      "Extracted Topic: (4, '0.016*\"people\" + 0.010*\"dont\" + 0.009*\"like\" + 0.007*\"would\" + 0.007*\"party\"')\n",
      "Saved topic modeling for Reddit to /Users/tnathu-ai/VSCode/Government-Digital-Transformation/data/intermediate/analysis/reddit_topic_modeling.txt\n",
      "Saved qualitative analysis for Reddit to /Users/tnathu-ai/VSCode/Government-Digital-Transformation/data/intermediate/analysis/reddit_qualitative_analysis.txt\n"
     ]
    },
    {
     "name": "stderr",
     "output_type": "stream",
     "text": [
      "<timed exec>:63: SettingWithCopyWarning: \n",
      "A value is trying to be set on a copy of a slice from a DataFrame.\n",
      "Try using .loc[row_indexer,col_indexer] = value instead\n",
      "\n",
      "See the caveats in the documentation: https://pandas.pydata.org/pandas-docs/stable/user_guide/indexing.html#returning-a-view-versus-a-copy\n"
     ]
    },
    {
     "name": "stdout",
     "output_type": "stream",
     "text": [
      "Saved time series visualization for Reddit - Topic: im  dont  youre  to /Users/tnathu-ai/VSCode/Government-Digital-Transformation/assets/images/reddit_time_series_analysis_im  dont  youre .png\n"
     ]
    },
    {
     "name": "stderr",
     "output_type": "stream",
     "text": [
      "<timed exec>:63: SettingWithCopyWarning: \n",
      "A value is trying to be set on a copy of a slice from a DataFrame.\n",
      "Try using .loc[row_indexer,col_indexer] = value instead\n",
      "\n",
      "See the caveats in the documentation: https://pandas.pydata.org/pandas-docs/stable/user_guide/indexing.html#returning-a-view-versus-a-copy\n"
     ]
    },
    {
     "name": "stdout",
     "output_type": "stream",
     "text": [
      "Saved time series visualization for Reddit - Topic: people  dont  like  to /Users/tnathu-ai/VSCode/Government-Digital-Transformation/assets/images/reddit_time_series_analysis_people  dont  like .png\n"
     ]
    },
    {
     "name": "stderr",
     "output_type": "stream",
     "text": [
      "<timed exec>:63: SettingWithCopyWarning: \n",
      "A value is trying to be set on a copy of a slice from a DataFrame.\n",
      "Try using .loc[row_indexer,col_indexer] = value instead\n",
      "\n",
      "See the caveats in the documentation: https://pandas.pydata.org/pandas-docs/stable/user_guide/indexing.html#returning-a-view-versus-a-copy\n"
     ]
    },
    {
     "name": "stdout",
     "output_type": "stream",
     "text": [
      "Saved time series visualization for Reddit - Topic: us  china  australia  to /Users/tnathu-ai/VSCode/Government-Digital-Transformation/assets/images/reddit_time_series_analysis_us  china  australia .png\n"
     ]
    },
    {
     "name": "stderr",
     "output_type": "stream",
     "text": [
      "<timed exec>:63: SettingWithCopyWarning: \n",
      "A value is trying to be set on a copy of a slice from a DataFrame.\n",
      "Try using .loc[row_indexer,col_indexer] = value instead\n",
      "\n",
      "See the caveats in the documentation: https://pandas.pydata.org/pandas-docs/stable/user_guide/indexing.html#returning-a-view-versus-a-copy\n"
     ]
    },
    {
     "name": "stdout",
     "output_type": "stream",
     "text": [
      "Saved time series visualization for Reddit - Topic: tax  climate  change  to /Users/tnathu-ai/VSCode/Government-Digital-Transformation/assets/images/reddit_time_series_analysis_tax  climate  change .png\n"
     ]
    },
    {
     "name": "stderr",
     "output_type": "stream",
     "text": [
      "<timed exec>:63: SettingWithCopyWarning: \n",
      "A value is trying to be set on a copy of a slice from a DataFrame.\n",
      "Try using .loc[row_indexer,col_indexer] = value instead\n",
      "\n",
      "See the caveats in the documentation: https://pandas.pydata.org/pandas-docs/stable/user_guide/indexing.html#returning-a-view-versus-a-copy\n"
     ]
    },
    {
     "name": "stdout",
     "output_type": "stream",
     "text": [
      "Saved time series visualization for Reddit - Topic: people  dont  like  to /Users/tnathu-ai/VSCode/Government-Digital-Transformation/assets/images/reddit_time_series_analysis_people  dont  like .png\n",
      "Saved sentiment analysis for Reddit to /Users/tnathu-ai/VSCode/Government-Digital-Transformation/data/intermediate/analysis/reddit_sentiment_analysis.txt\n",
      "Extracted Topic: (0, '0.014*\"would\" + 0.010*\"car\" + 0.007*\"could\" + 0.007*\"cars\" + 0.006*\"need\"')\n",
      "Extracted Topic: (1, '0.018*\"dont\" + 0.018*\"like\" + 0.018*\"people\" + 0.014*\"im\" + 0.012*\"know\"')\n",
      "Extracted Topic: (2, '0.007*\"one\" + 0.007*\"tech\" + 0.006*\"people\" + 0.005*\"new\" + 0.005*\"research\"')\n",
      "Extracted Topic: (3, '0.023*\"uber\" + 0.017*\"taxi\" + 0.014*\"drivers\" + 0.010*\"get\" + 0.009*\"years\"')\n",
      "Extracted Topic: (4, '0.015*\"us\" + 0.012*\"world\" + 0.011*\"people\" + 0.010*\"technology\" + 0.006*\"government\"')\n",
      "Saved topic modeling for Reddit to /Users/tnathu-ai/VSCode/Government-Digital-Transformation/data/intermediate/analysis/reddit_topic_modeling.txt\n",
      "Saved qualitative analysis for Reddit to /Users/tnathu-ai/VSCode/Government-Digital-Transformation/data/intermediate/analysis/reddit_qualitative_analysis.txt\n"
     ]
    },
    {
     "name": "stderr",
     "output_type": "stream",
     "text": [
      "<timed exec>:63: SettingWithCopyWarning: \n",
      "A value is trying to be set on a copy of a slice from a DataFrame.\n",
      "Try using .loc[row_indexer,col_indexer] = value instead\n",
      "\n",
      "See the caveats in the documentation: https://pandas.pydata.org/pandas-docs/stable/user_guide/indexing.html#returning-a-view-versus-a-copy\n"
     ]
    },
    {
     "name": "stdout",
     "output_type": "stream",
     "text": [
      "Saved time series visualization for Reddit - Topic: would  car  could  to /Users/tnathu-ai/VSCode/Government-Digital-Transformation/assets/images/reddit_time_series_analysis_would  car  could .png\n"
     ]
    },
    {
     "name": "stderr",
     "output_type": "stream",
     "text": [
      "<timed exec>:63: SettingWithCopyWarning: \n",
      "A value is trying to be set on a copy of a slice from a DataFrame.\n",
      "Try using .loc[row_indexer,col_indexer] = value instead\n",
      "\n",
      "See the caveats in the documentation: https://pandas.pydata.org/pandas-docs/stable/user_guide/indexing.html#returning-a-view-versus-a-copy\n"
     ]
    },
    {
     "name": "stdout",
     "output_type": "stream",
     "text": [
      "Saved time series visualization for Reddit - Topic: dont  like  people  to /Users/tnathu-ai/VSCode/Government-Digital-Transformation/assets/images/reddit_time_series_analysis_dont  like  people .png\n"
     ]
    },
    {
     "name": "stderr",
     "output_type": "stream",
     "text": [
      "<timed exec>:63: SettingWithCopyWarning: \n",
      "A value is trying to be set on a copy of a slice from a DataFrame.\n",
      "Try using .loc[row_indexer,col_indexer] = value instead\n",
      "\n",
      "See the caveats in the documentation: https://pandas.pydata.org/pandas-docs/stable/user_guide/indexing.html#returning-a-view-versus-a-copy\n"
     ]
    },
    {
     "name": "stdout",
     "output_type": "stream",
     "text": [
      "Saved time series visualization for Reddit - Topic: one  tech  people  to /Users/tnathu-ai/VSCode/Government-Digital-Transformation/assets/images/reddit_time_series_analysis_one  tech  people .png\n"
     ]
    },
    {
     "name": "stderr",
     "output_type": "stream",
     "text": [
      "<timed exec>:63: SettingWithCopyWarning: \n",
      "A value is trying to be set on a copy of a slice from a DataFrame.\n",
      "Try using .loc[row_indexer,col_indexer] = value instead\n",
      "\n",
      "See the caveats in the documentation: https://pandas.pydata.org/pandas-docs/stable/user_guide/indexing.html#returning-a-view-versus-a-copy\n"
     ]
    },
    {
     "name": "stdout",
     "output_type": "stream",
     "text": [
      "Saved time series visualization for Reddit - Topic: uber  taxi  drivers  to /Users/tnathu-ai/VSCode/Government-Digital-Transformation/assets/images/reddit_time_series_analysis_uber  taxi  drivers .png\n"
     ]
    },
    {
     "name": "stderr",
     "output_type": "stream",
     "text": [
      "<timed exec>:63: SettingWithCopyWarning: \n",
      "A value is trying to be set on a copy of a slice from a DataFrame.\n",
      "Try using .loc[row_indexer,col_indexer] = value instead\n",
      "\n",
      "See the caveats in the documentation: https://pandas.pydata.org/pandas-docs/stable/user_guide/indexing.html#returning-a-view-versus-a-copy\n"
     ]
    },
    {
     "name": "stdout",
     "output_type": "stream",
     "text": [
      "Saved time series visualization for Reddit - Topic: us  world  people  to /Users/tnathu-ai/VSCode/Government-Digital-Transformation/assets/images/reddit_time_series_analysis_us  world  people .png\n",
      "Saved sentiment analysis for Reddit to /Users/tnathu-ai/VSCode/Government-Digital-Transformation/data/intermediate/analysis/reddit_sentiment_analysis.txt\n",
      "Extracted Topic: (0, '0.019*\"us\" + 0.017*\"china\" + 0.009*\"would\" + 0.009*\"australia\" + 0.008*\"world\"')\n",
      "Extracted Topic: (1, '0.014*\"like\" + 0.013*\"get\" + 0.008*\"people\" + 0.008*\"dont\" + 0.007*\"years\"')\n",
      "Extracted Topic: (2, '0.015*\"people\" + 0.011*\"dont\" + 0.009*\"like\" + 0.008*\"would\" + 0.006*\"make\"')\n",
      "Extracted Topic: (3, '0.021*\"business\" + 0.016*\"tax\" + 0.015*\"pay\" + 0.012*\"money\" + 0.008*\"businesses\"')\n",
      "Extracted Topic: (4, '0.008*\"im\" + 0.006*\"one\" + 0.006*\"people\" + 0.006*\"dont\" + 0.005*\"email\"')\n",
      "Saved topic modeling for Reddit to /Users/tnathu-ai/VSCode/Government-Digital-Transformation/data/intermediate/analysis/reddit_topic_modeling.txt\n",
      "Saved qualitative analysis for Reddit to /Users/tnathu-ai/VSCode/Government-Digital-Transformation/data/intermediate/analysis/reddit_qualitative_analysis.txt\n"
     ]
    },
    {
     "name": "stderr",
     "output_type": "stream",
     "text": [
      "<timed exec>:63: SettingWithCopyWarning: \n",
      "A value is trying to be set on a copy of a slice from a DataFrame.\n",
      "Try using .loc[row_indexer,col_indexer] = value instead\n",
      "\n",
      "See the caveats in the documentation: https://pandas.pydata.org/pandas-docs/stable/user_guide/indexing.html#returning-a-view-versus-a-copy\n"
     ]
    },
    {
     "name": "stdout",
     "output_type": "stream",
     "text": [
      "Saved time series visualization for Reddit - Topic: us  china  would  to /Users/tnathu-ai/VSCode/Government-Digital-Transformation/assets/images/reddit_time_series_analysis_us  china  would .png\n"
     ]
    },
    {
     "name": "stderr",
     "output_type": "stream",
     "text": [
      "<timed exec>:63: SettingWithCopyWarning: \n",
      "A value is trying to be set on a copy of a slice from a DataFrame.\n",
      "Try using .loc[row_indexer,col_indexer] = value instead\n",
      "\n",
      "See the caveats in the documentation: https://pandas.pydata.org/pandas-docs/stable/user_guide/indexing.html#returning-a-view-versus-a-copy\n"
     ]
    },
    {
     "name": "stdout",
     "output_type": "stream",
     "text": [
      "Saved time series visualization for Reddit - Topic: like  get  people  to /Users/tnathu-ai/VSCode/Government-Digital-Transformation/assets/images/reddit_time_series_analysis_like  get  people .png\n"
     ]
    },
    {
     "name": "stderr",
     "output_type": "stream",
     "text": [
      "<timed exec>:63: SettingWithCopyWarning: \n",
      "A value is trying to be set on a copy of a slice from a DataFrame.\n",
      "Try using .loc[row_indexer,col_indexer] = value instead\n",
      "\n",
      "See the caveats in the documentation: https://pandas.pydata.org/pandas-docs/stable/user_guide/indexing.html#returning-a-view-versus-a-copy\n"
     ]
    },
    {
     "name": "stdout",
     "output_type": "stream",
     "text": [
      "Saved time series visualization for Reddit - Topic: people  dont  like  to /Users/tnathu-ai/VSCode/Government-Digital-Transformation/assets/images/reddit_time_series_analysis_people  dont  like .png\n"
     ]
    },
    {
     "name": "stderr",
     "output_type": "stream",
     "text": [
      "<timed exec>:63: SettingWithCopyWarning: \n",
      "A value is trying to be set on a copy of a slice from a DataFrame.\n",
      "Try using .loc[row_indexer,col_indexer] = value instead\n",
      "\n",
      "See the caveats in the documentation: https://pandas.pydata.org/pandas-docs/stable/user_guide/indexing.html#returning-a-view-versus-a-copy\n"
     ]
    },
    {
     "name": "stdout",
     "output_type": "stream",
     "text": [
      "Saved time series visualization for Reddit - Topic: business  tax  pay  to /Users/tnathu-ai/VSCode/Government-Digital-Transformation/assets/images/reddit_time_series_analysis_business  tax  pay .png\n"
     ]
    },
    {
     "name": "stderr",
     "output_type": "stream",
     "text": [
      "<timed exec>:63: SettingWithCopyWarning: \n",
      "A value is trying to be set on a copy of a slice from a DataFrame.\n",
      "Try using .loc[row_indexer,col_indexer] = value instead\n",
      "\n",
      "See the caveats in the documentation: https://pandas.pydata.org/pandas-docs/stable/user_guide/indexing.html#returning-a-view-versus-a-copy\n"
     ]
    },
    {
     "name": "stdout",
     "output_type": "stream",
     "text": [
      "Saved time series visualization for Reddit - Topic: im  one  people  to /Users/tnathu-ai/VSCode/Government-Digital-Transformation/assets/images/reddit_time_series_analysis_im  one  people .png\n",
      "Saved sentiment analysis for Reddit to /Users/tnathu-ai/VSCode/Government-Digital-Transformation/data/intermediate/analysis/reddit_sentiment_analysis.txt\n",
      "Extracted Topic: (0, '0.018*\"speed\" + 0.010*\"get\" + 0.009*\"internet\" + 0.008*\"money\" + 0.006*\"guaranteed\"')\n",
      "Extracted Topic: (1, '0.009*\"would\" + 0.007*\"one\" + 0.006*\"money\" + 0.006*\"use\" + 0.005*\"dont\"')\n",
      "Extracted Topic: (2, '0.018*\"get\" + 0.012*\"im\" + 0.011*\"people\" + 0.010*\"dont\" + 0.009*\"like\"')\n",
      "Extracted Topic: (3, '0.019*\"people\" + 0.008*\"australia\" + 0.008*\"dont\" + 0.007*\"like\" + 0.007*\"would\"')\n",
      "Extracted Topic: (4, '0.025*\"accent\" + 0.017*\"like\" + 0.012*\"accents\" + 0.011*\"different\" + 0.011*\"australian\"')\n",
      "Saved topic modeling for Reddit to /Users/tnathu-ai/VSCode/Government-Digital-Transformation/data/intermediate/analysis/reddit_topic_modeling.txt\n",
      "Saved qualitative analysis for Reddit to /Users/tnathu-ai/VSCode/Government-Digital-Transformation/data/intermediate/analysis/reddit_qualitative_analysis.txt\n"
     ]
    },
    {
     "name": "stderr",
     "output_type": "stream",
     "text": [
      "<timed exec>:63: SettingWithCopyWarning: \n",
      "A value is trying to be set on a copy of a slice from a DataFrame.\n",
      "Try using .loc[row_indexer,col_indexer] = value instead\n",
      "\n",
      "See the caveats in the documentation: https://pandas.pydata.org/pandas-docs/stable/user_guide/indexing.html#returning-a-view-versus-a-copy\n"
     ]
    },
    {
     "name": "stdout",
     "output_type": "stream",
     "text": [
      "Saved time series visualization for Reddit - Topic: speed  get  internet  to /Users/tnathu-ai/VSCode/Government-Digital-Transformation/assets/images/reddit_time_series_analysis_speed  get  internet .png\n"
     ]
    },
    {
     "name": "stderr",
     "output_type": "stream",
     "text": [
      "<timed exec>:63: SettingWithCopyWarning: \n",
      "A value is trying to be set on a copy of a slice from a DataFrame.\n",
      "Try using .loc[row_indexer,col_indexer] = value instead\n",
      "\n",
      "See the caveats in the documentation: https://pandas.pydata.org/pandas-docs/stable/user_guide/indexing.html#returning-a-view-versus-a-copy\n"
     ]
    },
    {
     "name": "stdout",
     "output_type": "stream",
     "text": [
      "Saved time series visualization for Reddit - Topic: would  one  money  to /Users/tnathu-ai/VSCode/Government-Digital-Transformation/assets/images/reddit_time_series_analysis_would  one  money .png\n"
     ]
    },
    {
     "name": "stderr",
     "output_type": "stream",
     "text": [
      "<timed exec>:63: SettingWithCopyWarning: \n",
      "A value is trying to be set on a copy of a slice from a DataFrame.\n",
      "Try using .loc[row_indexer,col_indexer] = value instead\n",
      "\n",
      "See the caveats in the documentation: https://pandas.pydata.org/pandas-docs/stable/user_guide/indexing.html#returning-a-view-versus-a-copy\n"
     ]
    },
    {
     "name": "stdout",
     "output_type": "stream",
     "text": [
      "Saved time series visualization for Reddit - Topic: get  im  people  to /Users/tnathu-ai/VSCode/Government-Digital-Transformation/assets/images/reddit_time_series_analysis_get  im  people .png\n"
     ]
    },
    {
     "name": "stderr",
     "output_type": "stream",
     "text": [
      "<timed exec>:63: SettingWithCopyWarning: \n",
      "A value is trying to be set on a copy of a slice from a DataFrame.\n",
      "Try using .loc[row_indexer,col_indexer] = value instead\n",
      "\n",
      "See the caveats in the documentation: https://pandas.pydata.org/pandas-docs/stable/user_guide/indexing.html#returning-a-view-versus-a-copy\n"
     ]
    },
    {
     "name": "stdout",
     "output_type": "stream",
     "text": [
      "Saved time series visualization for Reddit - Topic: people  australia  dont  to /Users/tnathu-ai/VSCode/Government-Digital-Transformation/assets/images/reddit_time_series_analysis_people  australia  dont .png\n"
     ]
    },
    {
     "name": "stderr",
     "output_type": "stream",
     "text": [
      "<timed exec>:63: SettingWithCopyWarning: \n",
      "A value is trying to be set on a copy of a slice from a DataFrame.\n",
      "Try using .loc[row_indexer,col_indexer] = value instead\n",
      "\n",
      "See the caveats in the documentation: https://pandas.pydata.org/pandas-docs/stable/user_guide/indexing.html#returning-a-view-versus-a-copy\n"
     ]
    },
    {
     "name": "stdout",
     "output_type": "stream",
     "text": [
      "Saved time series visualization for Reddit - Topic: accent  like  accents  to /Users/tnathu-ai/VSCode/Government-Digital-Transformation/assets/images/reddit_time_series_analysis_accent  like  accents .png\n",
      "Saved sentiment analysis for Reddit to /Users/tnathu-ai/VSCode/Government-Digital-Transformation/data/intermediate/analysis/reddit_sentiment_analysis.txt\n",
      "Extracted Topic: (0, '0.010*\"like\" + 0.009*\"got\" + 0.009*\"years\" + 0.007*\"never\" + 0.007*\"one\"')\n",
      "Extracted Topic: (1, '0.011*\"dont\" + 0.011*\"get\" + 0.011*\"people\" + 0.008*\"go\" + 0.008*\"work\"')\n",
      "Extracted Topic: (2, '0.028*\"crime\" + 0.025*\"people\" + 0.020*\"black\" + 0.012*\"crimes\" + 0.012*\"white\"')\n",
      "Extracted Topic: (3, '0.009*\"year\" + 0.006*\"also\" + 0.005*\"country\" + 0.005*\"left\" + 0.005*\"right\"')\n",
      "Extracted Topic: (4, '0.014*\"people\" + 0.013*\"dont\" + 0.013*\"like\" + 0.010*\"youre\" + 0.010*\"im\"')\n",
      "Saved topic modeling for Reddit to /Users/tnathu-ai/VSCode/Government-Digital-Transformation/data/intermediate/analysis/reddit_topic_modeling.txt\n",
      "Saved qualitative analysis for Reddit to /Users/tnathu-ai/VSCode/Government-Digital-Transformation/data/intermediate/analysis/reddit_qualitative_analysis.txt\n"
     ]
    },
    {
     "name": "stderr",
     "output_type": "stream",
     "text": [
      "<timed exec>:63: SettingWithCopyWarning: \n",
      "A value is trying to be set on a copy of a slice from a DataFrame.\n",
      "Try using .loc[row_indexer,col_indexer] = value instead\n",
      "\n",
      "See the caveats in the documentation: https://pandas.pydata.org/pandas-docs/stable/user_guide/indexing.html#returning-a-view-versus-a-copy\n"
     ]
    },
    {
     "name": "stdout",
     "output_type": "stream",
     "text": [
      "Saved time series visualization for Reddit - Topic: like  got  years  to /Users/tnathu-ai/VSCode/Government-Digital-Transformation/assets/images/reddit_time_series_analysis_like  got  years .png\n"
     ]
    },
    {
     "name": "stderr",
     "output_type": "stream",
     "text": [
      "<timed exec>:63: SettingWithCopyWarning: \n",
      "A value is trying to be set on a copy of a slice from a DataFrame.\n",
      "Try using .loc[row_indexer,col_indexer] = value instead\n",
      "\n",
      "See the caveats in the documentation: https://pandas.pydata.org/pandas-docs/stable/user_guide/indexing.html#returning-a-view-versus-a-copy\n"
     ]
    },
    {
     "name": "stdout",
     "output_type": "stream",
     "text": [
      "Saved time series visualization for Reddit - Topic: dont  get  people  to /Users/tnathu-ai/VSCode/Government-Digital-Transformation/assets/images/reddit_time_series_analysis_dont  get  people .png\n"
     ]
    },
    {
     "name": "stderr",
     "output_type": "stream",
     "text": [
      "<timed exec>:63: SettingWithCopyWarning: \n",
      "A value is trying to be set on a copy of a slice from a DataFrame.\n",
      "Try using .loc[row_indexer,col_indexer] = value instead\n",
      "\n",
      "See the caveats in the documentation: https://pandas.pydata.org/pandas-docs/stable/user_guide/indexing.html#returning-a-view-versus-a-copy\n"
     ]
    },
    {
     "name": "stdout",
     "output_type": "stream",
     "text": [
      "Saved time series visualization for Reddit - Topic: crime  people  black  to /Users/tnathu-ai/VSCode/Government-Digital-Transformation/assets/images/reddit_time_series_analysis_crime  people  black .png\n"
     ]
    },
    {
     "name": "stderr",
     "output_type": "stream",
     "text": [
      "<timed exec>:63: SettingWithCopyWarning: \n",
      "A value is trying to be set on a copy of a slice from a DataFrame.\n",
      "Try using .loc[row_indexer,col_indexer] = value instead\n",
      "\n",
      "See the caveats in the documentation: https://pandas.pydata.org/pandas-docs/stable/user_guide/indexing.html#returning-a-view-versus-a-copy\n"
     ]
    },
    {
     "name": "stdout",
     "output_type": "stream",
     "text": [
      "Saved time series visualization for Reddit - Topic: year  also  country  to /Users/tnathu-ai/VSCode/Government-Digital-Transformation/assets/images/reddit_time_series_analysis_year  also  country .png\n"
     ]
    },
    {
     "name": "stderr",
     "output_type": "stream",
     "text": [
      "<timed exec>:63: SettingWithCopyWarning: \n",
      "A value is trying to be set on a copy of a slice from a DataFrame.\n",
      "Try using .loc[row_indexer,col_indexer] = value instead\n",
      "\n",
      "See the caveats in the documentation: https://pandas.pydata.org/pandas-docs/stable/user_guide/indexing.html#returning-a-view-versus-a-copy\n"
     ]
    },
    {
     "name": "stdout",
     "output_type": "stream",
     "text": [
      "Saved time series visualization for Reddit - Topic: people  dont  like  to /Users/tnathu-ai/VSCode/Government-Digital-Transformation/assets/images/reddit_time_series_analysis_people  dont  like .png\n",
      "Saved sentiment analysis for Reddit to /Users/tnathu-ai/VSCode/Government-Digital-Transformation/data/intermediate/analysis/reddit_sentiment_analysis.txt\n",
      "Extracted Topic: (0, '0.012*\"like\" + 0.010*\"one\" + 0.008*\"australia\" + 0.007*\"years\" + 0.007*\"new\"')\n",
      "Extracted Topic: (1, '0.016*\"people\" + 0.015*\"dont\" + 0.012*\"like\" + 0.011*\"get\" + 0.010*\"know\"')\n",
      "Extracted Topic: (2, '0.008*\"us\" + 0.008*\"would\" + 0.008*\"government\" + 0.007*\"apple\" + 0.007*\"china\"')\n",
      "Extracted Topic: (3, '0.008*\"could\" + 0.007*\"im\" + 0.007*\"would\" + 0.007*\"one\" + 0.006*\"use\"')\n",
      "Extracted Topic: (4, '0.008*\"people\" + 0.007*\"koalas\" + 0.007*\"much\" + 0.006*\"dont\" + 0.006*\"like\"')\n",
      "Saved topic modeling for Reddit to /Users/tnathu-ai/VSCode/Government-Digital-Transformation/data/intermediate/analysis/reddit_topic_modeling.txt\n",
      "Saved qualitative analysis for Reddit to /Users/tnathu-ai/VSCode/Government-Digital-Transformation/data/intermediate/analysis/reddit_qualitative_analysis.txt\n"
     ]
    },
    {
     "name": "stderr",
     "output_type": "stream",
     "text": [
      "<timed exec>:63: SettingWithCopyWarning: \n",
      "A value is trying to be set on a copy of a slice from a DataFrame.\n",
      "Try using .loc[row_indexer,col_indexer] = value instead\n",
      "\n",
      "See the caveats in the documentation: https://pandas.pydata.org/pandas-docs/stable/user_guide/indexing.html#returning-a-view-versus-a-copy\n"
     ]
    },
    {
     "name": "stdout",
     "output_type": "stream",
     "text": [
      "Saved time series visualization for Reddit - Topic: like  one  australia  to /Users/tnathu-ai/VSCode/Government-Digital-Transformation/assets/images/reddit_time_series_analysis_like  one  australia .png\n"
     ]
    },
    {
     "name": "stderr",
     "output_type": "stream",
     "text": [
      "<timed exec>:63: SettingWithCopyWarning: \n",
      "A value is trying to be set on a copy of a slice from a DataFrame.\n",
      "Try using .loc[row_indexer,col_indexer] = value instead\n",
      "\n",
      "See the caveats in the documentation: https://pandas.pydata.org/pandas-docs/stable/user_guide/indexing.html#returning-a-view-versus-a-copy\n"
     ]
    },
    {
     "name": "stdout",
     "output_type": "stream",
     "text": [
      "Saved time series visualization for Reddit - Topic: people  dont  like  to /Users/tnathu-ai/VSCode/Government-Digital-Transformation/assets/images/reddit_time_series_analysis_people  dont  like .png\n"
     ]
    },
    {
     "name": "stderr",
     "output_type": "stream",
     "text": [
      "<timed exec>:63: SettingWithCopyWarning: \n",
      "A value is trying to be set on a copy of a slice from a DataFrame.\n",
      "Try using .loc[row_indexer,col_indexer] = value instead\n",
      "\n",
      "See the caveats in the documentation: https://pandas.pydata.org/pandas-docs/stable/user_guide/indexing.html#returning-a-view-versus-a-copy\n"
     ]
    },
    {
     "name": "stdout",
     "output_type": "stream",
     "text": [
      "Saved time series visualization for Reddit - Topic: us  would  government  to /Users/tnathu-ai/VSCode/Government-Digital-Transformation/assets/images/reddit_time_series_analysis_us  would  government .png\n"
     ]
    },
    {
     "name": "stderr",
     "output_type": "stream",
     "text": [
      "<timed exec>:63: SettingWithCopyWarning: \n",
      "A value is trying to be set on a copy of a slice from a DataFrame.\n",
      "Try using .loc[row_indexer,col_indexer] = value instead\n",
      "\n",
      "See the caveats in the documentation: https://pandas.pydata.org/pandas-docs/stable/user_guide/indexing.html#returning-a-view-versus-a-copy\n"
     ]
    },
    {
     "name": "stdout",
     "output_type": "stream",
     "text": [
      "Saved time series visualization for Reddit - Topic: could  im  would  to /Users/tnathu-ai/VSCode/Government-Digital-Transformation/assets/images/reddit_time_series_analysis_could  im  would .png\n"
     ]
    },
    {
     "name": "stderr",
     "output_type": "stream",
     "text": [
      "<timed exec>:63: SettingWithCopyWarning: \n",
      "A value is trying to be set on a copy of a slice from a DataFrame.\n",
      "Try using .loc[row_indexer,col_indexer] = value instead\n",
      "\n",
      "See the caveats in the documentation: https://pandas.pydata.org/pandas-docs/stable/user_guide/indexing.html#returning-a-view-versus-a-copy\n"
     ]
    },
    {
     "name": "stdout",
     "output_type": "stream",
     "text": [
      "Saved time series visualization for Reddit - Topic: people  koalas  much  to /Users/tnathu-ai/VSCode/Government-Digital-Transformation/assets/images/reddit_time_series_analysis_people  koalas  much .png\n",
      "Saved sentiment analysis for Reddit to /Users/tnathu-ai/VSCode/Government-Digital-Transformation/data/intermediate/analysis/reddit_sentiment_analysis.txt\n",
      "Extracted Topic: (0, '0.008*\"news\" + 0.008*\"one\" + 0.006*\"accent\" + 0.006*\"please\" + 0.006*\"australian\"')\n",
      "Extracted Topic: (1, '0.012*\"money\" + 0.008*\"fund\" + 0.007*\"much\" + 0.007*\"like\" + 0.006*\"government\"')\n",
      "Extracted Topic: (2, '0.011*\"public\" + 0.010*\"funding\" + 0.010*\"private\" + 0.009*\"school\" + 0.009*\"schools\"')\n",
      "Extracted Topic: (3, '0.018*\"music\" + 0.014*\"like\" + 0.009*\"im\" + 0.007*\"one\" + 0.007*\"good\"')\n",
      "Extracted Topic: (4, '0.025*\"people\" + 0.011*\"dont\" + 0.009*\"think\" + 0.008*\"get\" + 0.008*\"like\"')\n",
      "Saved topic modeling for Reddit to /Users/tnathu-ai/VSCode/Government-Digital-Transformation/data/intermediate/analysis/reddit_topic_modeling.txt\n",
      "Saved qualitative analysis for Reddit to /Users/tnathu-ai/VSCode/Government-Digital-Transformation/data/intermediate/analysis/reddit_qualitative_analysis.txt\n"
     ]
    },
    {
     "name": "stderr",
     "output_type": "stream",
     "text": [
      "<timed exec>:63: SettingWithCopyWarning: \n",
      "A value is trying to be set on a copy of a slice from a DataFrame.\n",
      "Try using .loc[row_indexer,col_indexer] = value instead\n",
      "\n",
      "See the caveats in the documentation: https://pandas.pydata.org/pandas-docs/stable/user_guide/indexing.html#returning-a-view-versus-a-copy\n"
     ]
    },
    {
     "name": "stdout",
     "output_type": "stream",
     "text": [
      "Saved time series visualization for Reddit - Topic: news  one  accent  to /Users/tnathu-ai/VSCode/Government-Digital-Transformation/assets/images/reddit_time_series_analysis_news  one  accent .png\n"
     ]
    },
    {
     "name": "stderr",
     "output_type": "stream",
     "text": [
      "<timed exec>:63: SettingWithCopyWarning: \n",
      "A value is trying to be set on a copy of a slice from a DataFrame.\n",
      "Try using .loc[row_indexer,col_indexer] = value instead\n",
      "\n",
      "See the caveats in the documentation: https://pandas.pydata.org/pandas-docs/stable/user_guide/indexing.html#returning-a-view-versus-a-copy\n"
     ]
    },
    {
     "name": "stdout",
     "output_type": "stream",
     "text": [
      "Saved time series visualization for Reddit - Topic: money  fund  much  to /Users/tnathu-ai/VSCode/Government-Digital-Transformation/assets/images/reddit_time_series_analysis_money  fund  much .png\n"
     ]
    },
    {
     "name": "stderr",
     "output_type": "stream",
     "text": [
      "<timed exec>:63: SettingWithCopyWarning: \n",
      "A value is trying to be set on a copy of a slice from a DataFrame.\n",
      "Try using .loc[row_indexer,col_indexer] = value instead\n",
      "\n",
      "See the caveats in the documentation: https://pandas.pydata.org/pandas-docs/stable/user_guide/indexing.html#returning-a-view-versus-a-copy\n"
     ]
    },
    {
     "name": "stdout",
     "output_type": "stream",
     "text": [
      "Saved time series visualization for Reddit - Topic: public  funding  private  to /Users/tnathu-ai/VSCode/Government-Digital-Transformation/assets/images/reddit_time_series_analysis_public  funding  private .png\n"
     ]
    },
    {
     "name": "stderr",
     "output_type": "stream",
     "text": [
      "<timed exec>:63: SettingWithCopyWarning: \n",
      "A value is trying to be set on a copy of a slice from a DataFrame.\n",
      "Try using .loc[row_indexer,col_indexer] = value instead\n",
      "\n",
      "See the caveats in the documentation: https://pandas.pydata.org/pandas-docs/stable/user_guide/indexing.html#returning-a-view-versus-a-copy\n"
     ]
    },
    {
     "name": "stdout",
     "output_type": "stream",
     "text": [
      "Saved time series visualization for Reddit - Topic: music  like  im  to /Users/tnathu-ai/VSCode/Government-Digital-Transformation/assets/images/reddit_time_series_analysis_music  like  im .png\n"
     ]
    },
    {
     "name": "stderr",
     "output_type": "stream",
     "text": [
      "<timed exec>:63: SettingWithCopyWarning: \n",
      "A value is trying to be set on a copy of a slice from a DataFrame.\n",
      "Try using .loc[row_indexer,col_indexer] = value instead\n",
      "\n",
      "See the caveats in the documentation: https://pandas.pydata.org/pandas-docs/stable/user_guide/indexing.html#returning-a-view-versus-a-copy\n"
     ]
    },
    {
     "name": "stdout",
     "output_type": "stream",
     "text": [
      "Saved time series visualization for Reddit - Topic: people  dont  think  to /Users/tnathu-ai/VSCode/Government-Digital-Transformation/assets/images/reddit_time_series_analysis_people  dont  think .png\n",
      "Saved sentiment analysis for Reddit to /Users/tnathu-ai/VSCode/Government-Digital-Transformation/data/intermediate/analysis/reddit_sentiment_analysis.txt\n",
      "Extracted Topic: (0, '0.011*\"would\" + 0.009*\"people\" + 0.008*\"meat\" + 0.007*\"climate\" + 0.007*\"water\"')\n",
      "Extracted Topic: (1, '0.010*\"im\" + 0.008*\"even\" + 0.008*\"dont\" + 0.007*\"people\" + 0.006*\"thats\"')\n",
      "Extracted Topic: (2, '0.012*\"would\" + 0.007*\"dont\" + 0.006*\"like\" + 0.006*\"say\" + 0.006*\"years\"')\n",
      "Extracted Topic: (3, '0.013*\"climate\" + 0.010*\"change\" + 0.009*\"solar\" + 0.007*\"co2\" + 0.007*\"carbon\"')\n",
      "Extracted Topic: (4, '0.023*\"climate\" + 0.018*\"change\" + 0.012*\"government\" + 0.008*\"like\" + 0.008*\"make\"')\n",
      "Saved topic modeling for Reddit to /Users/tnathu-ai/VSCode/Government-Digital-Transformation/data/intermediate/analysis/reddit_topic_modeling.txt\n",
      "Saved qualitative analysis for Reddit to /Users/tnathu-ai/VSCode/Government-Digital-Transformation/data/intermediate/analysis/reddit_qualitative_analysis.txt\n",
      "Saved time series visualization for Reddit - Topic: would  people  meat  to /Users/tnathu-ai/VSCode/Government-Digital-Transformation/assets/images/reddit_time_series_analysis_would  people  meat .png\n"
     ]
    },
    {
     "name": "stderr",
     "output_type": "stream",
     "text": [
      "<timed exec>:63: SettingWithCopyWarning: \n",
      "A value is trying to be set on a copy of a slice from a DataFrame.\n",
      "Try using .loc[row_indexer,col_indexer] = value instead\n",
      "\n",
      "See the caveats in the documentation: https://pandas.pydata.org/pandas-docs/stable/user_guide/indexing.html#returning-a-view-versus-a-copy\n",
      "<timed exec>:63: SettingWithCopyWarning: \n",
      "A value is trying to be set on a copy of a slice from a DataFrame.\n",
      "Try using .loc[row_indexer,col_indexer] = value instead\n",
      "\n",
      "See the caveats in the documentation: https://pandas.pydata.org/pandas-docs/stable/user_guide/indexing.html#returning-a-view-versus-a-copy\n"
     ]
    },
    {
     "name": "stdout",
     "output_type": "stream",
     "text": [
      "Saved time series visualization for Reddit - Topic: im  even  dont  to /Users/tnathu-ai/VSCode/Government-Digital-Transformation/assets/images/reddit_time_series_analysis_im  even  dont .png\n",
      "Saved time series visualization for Reddit - Topic: would  dont  like  to /Users/tnathu-ai/VSCode/Government-Digital-Transformation/assets/images/reddit_time_series_analysis_would  dont  like .png\n"
     ]
    },
    {
     "name": "stderr",
     "output_type": "stream",
     "text": [
      "<timed exec>:63: SettingWithCopyWarning: \n",
      "A value is trying to be set on a copy of a slice from a DataFrame.\n",
      "Try using .loc[row_indexer,col_indexer] = value instead\n",
      "\n",
      "See the caveats in the documentation: https://pandas.pydata.org/pandas-docs/stable/user_guide/indexing.html#returning-a-view-versus-a-copy\n",
      "<timed exec>:63: SettingWithCopyWarning: \n",
      "A value is trying to be set on a copy of a slice from a DataFrame.\n",
      "Try using .loc[row_indexer,col_indexer] = value instead\n",
      "\n",
      "See the caveats in the documentation: https://pandas.pydata.org/pandas-docs/stable/user_guide/indexing.html#returning-a-view-versus-a-copy\n"
     ]
    },
    {
     "name": "stdout",
     "output_type": "stream",
     "text": [
      "Saved time series visualization for Reddit - Topic: climate  change  solar  to /Users/tnathu-ai/VSCode/Government-Digital-Transformation/assets/images/reddit_time_series_analysis_climate  change  solar .png\n",
      "Saved time series visualization for Reddit - Topic: climate  change  government  to /Users/tnathu-ai/VSCode/Government-Digital-Transformation/assets/images/reddit_time_series_analysis_climate  change  government .png\n"
     ]
    },
    {
     "name": "stderr",
     "output_type": "stream",
     "text": [
      "<timed exec>:63: SettingWithCopyWarning: \n",
      "A value is trying to be set on a copy of a slice from a DataFrame.\n",
      "Try using .loc[row_indexer,col_indexer] = value instead\n",
      "\n",
      "See the caveats in the documentation: https://pandas.pydata.org/pandas-docs/stable/user_guide/indexing.html#returning-a-view-versus-a-copy\n"
     ]
    },
    {
     "name": "stdout",
     "output_type": "stream",
     "text": [
      "Saved sentiment analysis for Reddit to /Users/tnathu-ai/VSCode/Government-Digital-Transformation/data/intermediate/analysis/reddit_sentiment_analysis.txt\n",
      "Extracted Topic: (0, '0.018*\"post\" + 0.011*\"back\" + 0.011*\"days\" + 0.010*\"get\" + 0.010*\"parcel\"')\n",
      "Extracted Topic: (1, '0.014*\"people\" + 0.012*\"irish\" + 0.009*\"ireland\" + 0.009*\"english\" + 0.008*\"uk\"')\n",
      "Extracted Topic: (2, '0.010*\"dont\" + 0.009*\"get\" + 0.009*\"would\" + 0.007*\"need\" + 0.007*\"auspost\"')\n",
      "Extracted Topic: (3, '0.018*\"post\" + 0.013*\"get\" + 0.012*\"delivery\" + 0.012*\"parcel\" + 0.010*\"door\"')\n",
      "Extracted Topic: (4, '0.013*\"like\" + 0.009*\"game\" + 0.008*\"good\" + 0.007*\"think\" + 0.007*\"better\"')\n",
      "Saved topic modeling for Reddit to /Users/tnathu-ai/VSCode/Government-Digital-Transformation/data/intermediate/analysis/reddit_topic_modeling.txt\n",
      "Saved qualitative analysis for Reddit to /Users/tnathu-ai/VSCode/Government-Digital-Transformation/data/intermediate/analysis/reddit_qualitative_analysis.txt\n"
     ]
    },
    {
     "name": "stderr",
     "output_type": "stream",
     "text": [
      "<timed exec>:63: SettingWithCopyWarning: \n",
      "A value is trying to be set on a copy of a slice from a DataFrame.\n",
      "Try using .loc[row_indexer,col_indexer] = value instead\n",
      "\n",
      "See the caveats in the documentation: https://pandas.pydata.org/pandas-docs/stable/user_guide/indexing.html#returning-a-view-versus-a-copy\n"
     ]
    },
    {
     "name": "stdout",
     "output_type": "stream",
     "text": [
      "Saved time series visualization for Reddit - Topic: post  back  days  to /Users/tnathu-ai/VSCode/Government-Digital-Transformation/assets/images/reddit_time_series_analysis_post  back  days .png\n"
     ]
    },
    {
     "name": "stderr",
     "output_type": "stream",
     "text": [
      "<timed exec>:63: SettingWithCopyWarning: \n",
      "A value is trying to be set on a copy of a slice from a DataFrame.\n",
      "Try using .loc[row_indexer,col_indexer] = value instead\n",
      "\n",
      "See the caveats in the documentation: https://pandas.pydata.org/pandas-docs/stable/user_guide/indexing.html#returning-a-view-versus-a-copy\n"
     ]
    },
    {
     "name": "stdout",
     "output_type": "stream",
     "text": [
      "Saved time series visualization for Reddit - Topic: people  irish  ireland  to /Users/tnathu-ai/VSCode/Government-Digital-Transformation/assets/images/reddit_time_series_analysis_people  irish  ireland .png\n"
     ]
    },
    {
     "name": "stderr",
     "output_type": "stream",
     "text": [
      "<timed exec>:63: SettingWithCopyWarning: \n",
      "A value is trying to be set on a copy of a slice from a DataFrame.\n",
      "Try using .loc[row_indexer,col_indexer] = value instead\n",
      "\n",
      "See the caveats in the documentation: https://pandas.pydata.org/pandas-docs/stable/user_guide/indexing.html#returning-a-view-versus-a-copy\n"
     ]
    },
    {
     "name": "stdout",
     "output_type": "stream",
     "text": [
      "Saved time series visualization for Reddit - Topic: dont  get  would  to /Users/tnathu-ai/VSCode/Government-Digital-Transformation/assets/images/reddit_time_series_analysis_dont  get  would .png\n"
     ]
    },
    {
     "name": "stderr",
     "output_type": "stream",
     "text": [
      "<timed exec>:63: SettingWithCopyWarning: \n",
      "A value is trying to be set on a copy of a slice from a DataFrame.\n",
      "Try using .loc[row_indexer,col_indexer] = value instead\n",
      "\n",
      "See the caveats in the documentation: https://pandas.pydata.org/pandas-docs/stable/user_guide/indexing.html#returning-a-view-versus-a-copy\n"
     ]
    },
    {
     "name": "stdout",
     "output_type": "stream",
     "text": [
      "Saved time series visualization for Reddit - Topic: post  get  delivery  to /Users/tnathu-ai/VSCode/Government-Digital-Transformation/assets/images/reddit_time_series_analysis_post  get  delivery .png\n"
     ]
    },
    {
     "name": "stderr",
     "output_type": "stream",
     "text": [
      "<timed exec>:63: SettingWithCopyWarning: \n",
      "A value is trying to be set on a copy of a slice from a DataFrame.\n",
      "Try using .loc[row_indexer,col_indexer] = value instead\n",
      "\n",
      "See the caveats in the documentation: https://pandas.pydata.org/pandas-docs/stable/user_guide/indexing.html#returning-a-view-versus-a-copy\n"
     ]
    },
    {
     "name": "stdout",
     "output_type": "stream",
     "text": [
      "Saved time series visualization for Reddit - Topic: like  game  good  to /Users/tnathu-ai/VSCode/Government-Digital-Transformation/assets/images/reddit_time_series_analysis_like  game  good .png\n",
      "Saved sentiment analysis for Reddit to /Users/tnathu-ai/VSCode/Government-Digital-Transformation/data/intermediate/analysis/reddit_sentiment_analysis.txt\n",
      "Extracted Topic: (0, '0.028*\"please\" + 0.025*\"party\" + 0.025*\"action\" + 0.020*\"automatically\" + 0.020*\"bot\"')\n",
      "Extracted Topic: (1, '0.012*\"people\" + 0.007*\"dont\" + 0.006*\"government\" + 0.006*\"get\" + 0.005*\"thats\"')\n",
      "Extracted Topic: (2, '0.016*\"people\" + 0.012*\"would\" + 0.008*\"voice\" + 0.007*\"dont\" + 0.007*\"think\"')\n",
      "Extracted Topic: (3, '0.010*\"like\" + 0.007*\"people\" + 0.007*\"dont\" + 0.006*\"get\" + 0.006*\"im\"')\n",
      "Extracted Topic: (4, '0.036*\"cats\" + 0.026*\"cat\" + 0.007*\"outside\" + 0.007*\"inside\" + 0.006*\"like\"')\n",
      "Saved topic modeling for Reddit to /Users/tnathu-ai/VSCode/Government-Digital-Transformation/data/intermediate/analysis/reddit_topic_modeling.txt\n",
      "Saved qualitative analysis for Reddit to /Users/tnathu-ai/VSCode/Government-Digital-Transformation/data/intermediate/analysis/reddit_qualitative_analysis.txt\n"
     ]
    },
    {
     "name": "stderr",
     "output_type": "stream",
     "text": [
      "<timed exec>:63: SettingWithCopyWarning: \n",
      "A value is trying to be set on a copy of a slice from a DataFrame.\n",
      "Try using .loc[row_indexer,col_indexer] = value instead\n",
      "\n",
      "See the caveats in the documentation: https://pandas.pydata.org/pandas-docs/stable/user_guide/indexing.html#returning-a-view-versus-a-copy\n"
     ]
    },
    {
     "name": "stdout",
     "output_type": "stream",
     "text": [
      "Saved time series visualization for Reddit - Topic: please  party  action  to /Users/tnathu-ai/VSCode/Government-Digital-Transformation/assets/images/reddit_time_series_analysis_please  party  action .png\n"
     ]
    },
    {
     "name": "stderr",
     "output_type": "stream",
     "text": [
      "<timed exec>:63: SettingWithCopyWarning: \n",
      "A value is trying to be set on a copy of a slice from a DataFrame.\n",
      "Try using .loc[row_indexer,col_indexer] = value instead\n",
      "\n",
      "See the caveats in the documentation: https://pandas.pydata.org/pandas-docs/stable/user_guide/indexing.html#returning-a-view-versus-a-copy\n"
     ]
    },
    {
     "name": "stdout",
     "output_type": "stream",
     "text": [
      "Saved time series visualization for Reddit - Topic: people  dont  government  to /Users/tnathu-ai/VSCode/Government-Digital-Transformation/assets/images/reddit_time_series_analysis_people  dont  government .png\n"
     ]
    },
    {
     "name": "stderr",
     "output_type": "stream",
     "text": [
      "<timed exec>:63: SettingWithCopyWarning: \n",
      "A value is trying to be set on a copy of a slice from a DataFrame.\n",
      "Try using .loc[row_indexer,col_indexer] = value instead\n",
      "\n",
      "See the caveats in the documentation: https://pandas.pydata.org/pandas-docs/stable/user_guide/indexing.html#returning-a-view-versus-a-copy\n"
     ]
    },
    {
     "name": "stdout",
     "output_type": "stream",
     "text": [
      "Saved time series visualization for Reddit - Topic: people  would  voice  to /Users/tnathu-ai/VSCode/Government-Digital-Transformation/assets/images/reddit_time_series_analysis_people  would  voice .png\n"
     ]
    },
    {
     "name": "stderr",
     "output_type": "stream",
     "text": [
      "<timed exec>:63: SettingWithCopyWarning: \n",
      "A value is trying to be set on a copy of a slice from a DataFrame.\n",
      "Try using .loc[row_indexer,col_indexer] = value instead\n",
      "\n",
      "See the caveats in the documentation: https://pandas.pydata.org/pandas-docs/stable/user_guide/indexing.html#returning-a-view-versus-a-copy\n"
     ]
    },
    {
     "name": "stdout",
     "output_type": "stream",
     "text": [
      "Saved time series visualization for Reddit - Topic: like  people  dont  to /Users/tnathu-ai/VSCode/Government-Digital-Transformation/assets/images/reddit_time_series_analysis_like  people  dont .png\n"
     ]
    },
    {
     "name": "stderr",
     "output_type": "stream",
     "text": [
      "<timed exec>:63: SettingWithCopyWarning: \n",
      "A value is trying to be set on a copy of a slice from a DataFrame.\n",
      "Try using .loc[row_indexer,col_indexer] = value instead\n",
      "\n",
      "See the caveats in the documentation: https://pandas.pydata.org/pandas-docs/stable/user_guide/indexing.html#returning-a-view-versus-a-copy\n"
     ]
    },
    {
     "name": "stdout",
     "output_type": "stream",
     "text": [
      "Saved time series visualization for Reddit - Topic: cats  cat  outside  to /Users/tnathu-ai/VSCode/Government-Digital-Transformation/assets/images/reddit_time_series_analysis_cats  cat  outside .png\n",
      "Saved sentiment analysis for Reddit to /Users/tnathu-ai/VSCode/Government-Digital-Transformation/data/intermediate/analysis/reddit_sentiment_analysis.txt\n",
      "Extracted Topic: (0, '0.020*\"insurance\" + 0.018*\"people\" + 0.018*\"health\" + 0.016*\"care\" + 0.015*\"pay\"')\n",
      "Extracted Topic: (1, '0.028*\"people\" + 0.018*\"dont\" + 0.012*\"like\" + 0.011*\"im\" + 0.009*\"think\"')\n",
      "Extracted Topic: (2, '0.008*\"nuclear\" + 0.006*\"australia\" + 0.006*\"labor\" + 0.006*\"greens\" + 0.006*\"population\"')\n",
      "Extracted Topic: (3, '0.012*\"get\" + 0.009*\"im\" + 0.009*\"time\" + 0.008*\"years\" + 0.007*\"hospital\"')\n",
      "Extracted Topic: (4, '0.017*\"government\" + 0.012*\"would\" + 0.011*\"greens\" + 0.010*\"party\" + 0.007*\"vote\"')\n",
      "Saved topic modeling for Reddit to /Users/tnathu-ai/VSCode/Government-Digital-Transformation/data/intermediate/analysis/reddit_topic_modeling.txt\n",
      "Saved qualitative analysis for Reddit to /Users/tnathu-ai/VSCode/Government-Digital-Transformation/data/intermediate/analysis/reddit_qualitative_analysis.txt\n"
     ]
    },
    {
     "name": "stderr",
     "output_type": "stream",
     "text": [
      "<timed exec>:63: SettingWithCopyWarning: \n",
      "A value is trying to be set on a copy of a slice from a DataFrame.\n",
      "Try using .loc[row_indexer,col_indexer] = value instead\n",
      "\n",
      "See the caveats in the documentation: https://pandas.pydata.org/pandas-docs/stable/user_guide/indexing.html#returning-a-view-versus-a-copy\n"
     ]
    },
    {
     "name": "stdout",
     "output_type": "stream",
     "text": [
      "Saved time series visualization for Reddit - Topic: insurance  people  health  to /Users/tnathu-ai/VSCode/Government-Digital-Transformation/assets/images/reddit_time_series_analysis_insurance  people  health .png\n"
     ]
    },
    {
     "name": "stderr",
     "output_type": "stream",
     "text": [
      "<timed exec>:63: SettingWithCopyWarning: \n",
      "A value is trying to be set on a copy of a slice from a DataFrame.\n",
      "Try using .loc[row_indexer,col_indexer] = value instead\n",
      "\n",
      "See the caveats in the documentation: https://pandas.pydata.org/pandas-docs/stable/user_guide/indexing.html#returning-a-view-versus-a-copy\n"
     ]
    },
    {
     "name": "stdout",
     "output_type": "stream",
     "text": [
      "Saved time series visualization for Reddit - Topic: people  dont  like  to /Users/tnathu-ai/VSCode/Government-Digital-Transformation/assets/images/reddit_time_series_analysis_people  dont  like .png\n"
     ]
    },
    {
     "name": "stderr",
     "output_type": "stream",
     "text": [
      "<timed exec>:63: SettingWithCopyWarning: \n",
      "A value is trying to be set on a copy of a slice from a DataFrame.\n",
      "Try using .loc[row_indexer,col_indexer] = value instead\n",
      "\n",
      "See the caveats in the documentation: https://pandas.pydata.org/pandas-docs/stable/user_guide/indexing.html#returning-a-view-versus-a-copy\n"
     ]
    },
    {
     "name": "stdout",
     "output_type": "stream",
     "text": [
      "Saved time series visualization for Reddit - Topic: nuclear  australia  labor  to /Users/tnathu-ai/VSCode/Government-Digital-Transformation/assets/images/reddit_time_series_analysis_nuclear  australia  labor .png\n"
     ]
    },
    {
     "name": "stderr",
     "output_type": "stream",
     "text": [
      "<timed exec>:63: SettingWithCopyWarning: \n",
      "A value is trying to be set on a copy of a slice from a DataFrame.\n",
      "Try using .loc[row_indexer,col_indexer] = value instead\n",
      "\n",
      "See the caveats in the documentation: https://pandas.pydata.org/pandas-docs/stable/user_guide/indexing.html#returning-a-view-versus-a-copy\n"
     ]
    },
    {
     "name": "stdout",
     "output_type": "stream",
     "text": [
      "Saved time series visualization for Reddit - Topic: get  im  time  to /Users/tnathu-ai/VSCode/Government-Digital-Transformation/assets/images/reddit_time_series_analysis_get  im  time .png\n"
     ]
    },
    {
     "name": "stderr",
     "output_type": "stream",
     "text": [
      "<timed exec>:63: SettingWithCopyWarning: \n",
      "A value is trying to be set on a copy of a slice from a DataFrame.\n",
      "Try using .loc[row_indexer,col_indexer] = value instead\n",
      "\n",
      "See the caveats in the documentation: https://pandas.pydata.org/pandas-docs/stable/user_guide/indexing.html#returning-a-view-versus-a-copy\n"
     ]
    },
    {
     "name": "stdout",
     "output_type": "stream",
     "text": [
      "Saved time series visualization for Reddit - Topic: government  would  greens  to /Users/tnathu-ai/VSCode/Government-Digital-Transformation/assets/images/reddit_time_series_analysis_government  would  greens .png\n"
     ]
    },
    {
     "name": "stderr",
     "output_type": "stream",
     "text": [
      "<timed exec>:123: DtypeWarning: Columns (2) have mixed types. Specify dtype option on import or set low_memory=False.\n"
     ]
    },
    {
     "name": "stdout",
     "output_type": "stream",
     "text": [
      "Saved sentiment analysis for Reddit to /Users/tnathu-ai/VSCode/Government-Digital-Transformation/data/intermediate/analysis/reddit_sentiment_analysis.txt\n",
      "Extracted Topic: (0, '0.036*\"college\" + 0.017*\"school\" + 0.013*\"go\" + 0.013*\"degree\" + 0.012*\"get\"')\n",
      "Extracted Topic: (1, '0.035*\"people\" + 0.027*\"dont\" + 0.015*\"like\" + 0.014*\"want\" + 0.014*\"think\"')\n",
      "Extracted Topic: (2, '0.052*\"loans\" + 0.034*\"loan\" + 0.034*\"student\" + 0.030*\"debt\" + 0.027*\"pay\"')\n",
      "Extracted Topic: (3, '0.017*\"money\" + 0.014*\"government\" + 0.012*\"education\" + 0.011*\"problem\" + 0.011*\"people\"')\n",
      "Extracted Topic: (4, '0.010*\"biden\" + 0.010*\"shit\" + 0.009*\"one\" + 0.009*\"got\" + 0.008*\"time\"')\n",
      "Saved topic modeling for Reddit to /Users/tnathu-ai/VSCode/Government-Digital-Transformation/data/intermediate/analysis/reddit_topic_modeling.txt\n",
      "Saved qualitative analysis for Reddit to /Users/tnathu-ai/VSCode/Government-Digital-Transformation/data/intermediate/analysis/reddit_qualitative_analysis.txt\n"
     ]
    },
    {
     "name": "stderr",
     "output_type": "stream",
     "text": [
      "<timed exec>:63: SettingWithCopyWarning: \n",
      "A value is trying to be set on a copy of a slice from a DataFrame.\n",
      "Try using .loc[row_indexer,col_indexer] = value instead\n",
      "\n",
      "See the caveats in the documentation: https://pandas.pydata.org/pandas-docs/stable/user_guide/indexing.html#returning-a-view-versus-a-copy\n"
     ]
    },
    {
     "name": "stdout",
     "output_type": "stream",
     "text": [
      "Saved time series visualization for Reddit - Topic: college  school  go  to /Users/tnathu-ai/VSCode/Government-Digital-Transformation/assets/images/reddit_time_series_analysis_college  school  go .png\n"
     ]
    },
    {
     "name": "stderr",
     "output_type": "stream",
     "text": [
      "<timed exec>:63: SettingWithCopyWarning: \n",
      "A value is trying to be set on a copy of a slice from a DataFrame.\n",
      "Try using .loc[row_indexer,col_indexer] = value instead\n",
      "\n",
      "See the caveats in the documentation: https://pandas.pydata.org/pandas-docs/stable/user_guide/indexing.html#returning-a-view-versus-a-copy\n"
     ]
    },
    {
     "name": "stdout",
     "output_type": "stream",
     "text": [
      "Saved time series visualization for Reddit - Topic: people  dont  like  to /Users/tnathu-ai/VSCode/Government-Digital-Transformation/assets/images/reddit_time_series_analysis_people  dont  like .png\n"
     ]
    },
    {
     "name": "stderr",
     "output_type": "stream",
     "text": [
      "<timed exec>:63: SettingWithCopyWarning: \n",
      "A value is trying to be set on a copy of a slice from a DataFrame.\n",
      "Try using .loc[row_indexer,col_indexer] = value instead\n",
      "\n",
      "See the caveats in the documentation: https://pandas.pydata.org/pandas-docs/stable/user_guide/indexing.html#returning-a-view-versus-a-copy\n"
     ]
    },
    {
     "name": "stdout",
     "output_type": "stream",
     "text": [
      "Saved time series visualization for Reddit - Topic: loans  loan  student  to /Users/tnathu-ai/VSCode/Government-Digital-Transformation/assets/images/reddit_time_series_analysis_loans  loan  student .png\n"
     ]
    },
    {
     "name": "stderr",
     "output_type": "stream",
     "text": [
      "<timed exec>:63: SettingWithCopyWarning: \n",
      "A value is trying to be set on a copy of a slice from a DataFrame.\n",
      "Try using .loc[row_indexer,col_indexer] = value instead\n",
      "\n",
      "See the caveats in the documentation: https://pandas.pydata.org/pandas-docs/stable/user_guide/indexing.html#returning-a-view-versus-a-copy\n"
     ]
    },
    {
     "name": "stdout",
     "output_type": "stream",
     "text": [
      "Saved time series visualization for Reddit - Topic: money  government  education  to /Users/tnathu-ai/VSCode/Government-Digital-Transformation/assets/images/reddit_time_series_analysis_money  government  education .png\n"
     ]
    },
    {
     "name": "stderr",
     "output_type": "stream",
     "text": [
      "<timed exec>:63: SettingWithCopyWarning: \n",
      "A value is trying to be set on a copy of a slice from a DataFrame.\n",
      "Try using .loc[row_indexer,col_indexer] = value instead\n",
      "\n",
      "See the caveats in the documentation: https://pandas.pydata.org/pandas-docs/stable/user_guide/indexing.html#returning-a-view-versus-a-copy\n"
     ]
    },
    {
     "name": "stdout",
     "output_type": "stream",
     "text": [
      "Saved time series visualization for Reddit - Topic: biden  shit  one  to /Users/tnathu-ai/VSCode/Government-Digital-Transformation/assets/images/reddit_time_series_analysis_biden  shit  one .png\n",
      "Saved sentiment analysis for Reddit to /Users/tnathu-ai/VSCode/Government-Digital-Transformation/data/intermediate/analysis/reddit_sentiment_analysis.txt\n",
      "Extracted Topic: (0, '0.019*\"climate\" + 0.014*\"life\" + 0.014*\"change\" + 0.013*\"co2\" + 0.011*\"years\"')\n",
      "Extracted Topic: (1, '0.016*\"people\" + 0.016*\"dont\" + 0.011*\"think\" + 0.010*\"like\" + 0.009*\"want\"')\n",
      "Extracted Topic: (2, '0.008*\"years\" + 0.008*\"still\" + 0.007*\"big\" + 0.006*\"use\" + 0.006*\"power\"')\n",
      "Extracted Topic: (3, '0.008*\"one\" + 0.008*\"us\" + 0.006*\"people\" + 0.006*\"trump\" + 0.006*\"would\"')\n",
      "Extracted Topic: (4, '0.014*\"australia\" + 0.013*\"jobs\" + 0.011*\"think\" + 0.011*\"make\" + 0.010*\"change\"')\n",
      "Saved topic modeling for Reddit to /Users/tnathu-ai/VSCode/Government-Digital-Transformation/data/intermediate/analysis/reddit_topic_modeling.txt\n",
      "Saved qualitative analysis for Reddit to /Users/tnathu-ai/VSCode/Government-Digital-Transformation/data/intermediate/analysis/reddit_qualitative_analysis.txt\n"
     ]
    },
    {
     "name": "stderr",
     "output_type": "stream",
     "text": [
      "<timed exec>:63: SettingWithCopyWarning: \n",
      "A value is trying to be set on a copy of a slice from a DataFrame.\n",
      "Try using .loc[row_indexer,col_indexer] = value instead\n",
      "\n",
      "See the caveats in the documentation: https://pandas.pydata.org/pandas-docs/stable/user_guide/indexing.html#returning-a-view-versus-a-copy\n"
     ]
    },
    {
     "name": "stdout",
     "output_type": "stream",
     "text": [
      "Saved time series visualization for Reddit - Topic: climate  life  change  to /Users/tnathu-ai/VSCode/Government-Digital-Transformation/assets/images/reddit_time_series_analysis_climate  life  change .png\n"
     ]
    },
    {
     "name": "stderr",
     "output_type": "stream",
     "text": [
      "<timed exec>:63: SettingWithCopyWarning: \n",
      "A value is trying to be set on a copy of a slice from a DataFrame.\n",
      "Try using .loc[row_indexer,col_indexer] = value instead\n",
      "\n",
      "See the caveats in the documentation: https://pandas.pydata.org/pandas-docs/stable/user_guide/indexing.html#returning-a-view-versus-a-copy\n"
     ]
    },
    {
     "name": "stdout",
     "output_type": "stream",
     "text": [
      "Saved time series visualization for Reddit - Topic: people  dont  think  to /Users/tnathu-ai/VSCode/Government-Digital-Transformation/assets/images/reddit_time_series_analysis_people  dont  think .png\n"
     ]
    },
    {
     "name": "stderr",
     "output_type": "stream",
     "text": [
      "<timed exec>:63: SettingWithCopyWarning: \n",
      "A value is trying to be set on a copy of a slice from a DataFrame.\n",
      "Try using .loc[row_indexer,col_indexer] = value instead\n",
      "\n",
      "See the caveats in the documentation: https://pandas.pydata.org/pandas-docs/stable/user_guide/indexing.html#returning-a-view-versus-a-copy\n"
     ]
    },
    {
     "name": "stdout",
     "output_type": "stream",
     "text": [
      "Saved time series visualization for Reddit - Topic: years  still  big  to /Users/tnathu-ai/VSCode/Government-Digital-Transformation/assets/images/reddit_time_series_analysis_years  still  big .png\n"
     ]
    },
    {
     "name": "stderr",
     "output_type": "stream",
     "text": [
      "<timed exec>:63: SettingWithCopyWarning: \n",
      "A value is trying to be set on a copy of a slice from a DataFrame.\n",
      "Try using .loc[row_indexer,col_indexer] = value instead\n",
      "\n",
      "See the caveats in the documentation: https://pandas.pydata.org/pandas-docs/stable/user_guide/indexing.html#returning-a-view-versus-a-copy\n"
     ]
    },
    {
     "name": "stdout",
     "output_type": "stream",
     "text": [
      "Saved time series visualization for Reddit - Topic: one  us  people  to /Users/tnathu-ai/VSCode/Government-Digital-Transformation/assets/images/reddit_time_series_analysis_one  us  people .png\n"
     ]
    },
    {
     "name": "stderr",
     "output_type": "stream",
     "text": [
      "<timed exec>:63: SettingWithCopyWarning: \n",
      "A value is trying to be set on a copy of a slice from a DataFrame.\n",
      "Try using .loc[row_indexer,col_indexer] = value instead\n",
      "\n",
      "See the caveats in the documentation: https://pandas.pydata.org/pandas-docs/stable/user_guide/indexing.html#returning-a-view-versus-a-copy\n"
     ]
    },
    {
     "name": "stdout",
     "output_type": "stream",
     "text": [
      "Saved time series visualization for Reddit - Topic: australia  jobs  think  to /Users/tnathu-ai/VSCode/Government-Digital-Transformation/assets/images/reddit_time_series_analysis_australia  jobs  think .png\n",
      "Saved sentiment analysis for Reddit to /Users/tnathu-ai/VSCode/Government-Digital-Transformation/data/intermediate/analysis/reddit_sentiment_analysis.txt\n",
      "Extracted Topic: (0, '0.025*\"people\" + 0.012*\"like\" + 0.011*\"dont\" + 0.009*\"get\" + 0.008*\"would\"')\n",
      "Extracted Topic: (1, '0.017*\"get\" + 0.013*\"work\" + 0.010*\"job\" + 0.009*\"dont\" + 0.008*\"go\"')\n",
      "Extracted Topic: (2, '0.019*\"people\" + 0.012*\"money\" + 0.011*\"welfare\" + 0.011*\"would\" + 0.009*\"government\"')\n",
      "Extracted Topic: (3, '0.016*\"get\" + 0.013*\"time\" + 0.011*\"centrelink\" + 0.010*\"years\" + 0.009*\"pay\"')\n",
      "Extracted Topic: (4, '0.015*\"call\" + 0.014*\"centrelink\" + 0.008*\"debt\" + 0.008*\"phone\" + 0.007*\"one\"')\n",
      "Saved topic modeling for Reddit to /Users/tnathu-ai/VSCode/Government-Digital-Transformation/data/intermediate/analysis/reddit_topic_modeling.txt\n",
      "Saved qualitative analysis for Reddit to /Users/tnathu-ai/VSCode/Government-Digital-Transformation/data/intermediate/analysis/reddit_qualitative_analysis.txt\n"
     ]
    },
    {
     "name": "stderr",
     "output_type": "stream",
     "text": [
      "<timed exec>:63: SettingWithCopyWarning: \n",
      "A value is trying to be set on a copy of a slice from a DataFrame.\n",
      "Try using .loc[row_indexer,col_indexer] = value instead\n",
      "\n",
      "See the caveats in the documentation: https://pandas.pydata.org/pandas-docs/stable/user_guide/indexing.html#returning-a-view-versus-a-copy\n"
     ]
    },
    {
     "name": "stdout",
     "output_type": "stream",
     "text": [
      "Saved time series visualization for Reddit - Topic: people  like  dont  to /Users/tnathu-ai/VSCode/Government-Digital-Transformation/assets/images/reddit_time_series_analysis_people  like  dont .png\n"
     ]
    },
    {
     "name": "stderr",
     "output_type": "stream",
     "text": [
      "<timed exec>:63: SettingWithCopyWarning: \n",
      "A value is trying to be set on a copy of a slice from a DataFrame.\n",
      "Try using .loc[row_indexer,col_indexer] = value instead\n",
      "\n",
      "See the caveats in the documentation: https://pandas.pydata.org/pandas-docs/stable/user_guide/indexing.html#returning-a-view-versus-a-copy\n"
     ]
    },
    {
     "name": "stdout",
     "output_type": "stream",
     "text": [
      "Saved time series visualization for Reddit - Topic: get  work  job  to /Users/tnathu-ai/VSCode/Government-Digital-Transformation/assets/images/reddit_time_series_analysis_get  work  job .png\n"
     ]
    },
    {
     "name": "stderr",
     "output_type": "stream",
     "text": [
      "<timed exec>:63: SettingWithCopyWarning: \n",
      "A value is trying to be set on a copy of a slice from a DataFrame.\n",
      "Try using .loc[row_indexer,col_indexer] = value instead\n",
      "\n",
      "See the caveats in the documentation: https://pandas.pydata.org/pandas-docs/stable/user_guide/indexing.html#returning-a-view-versus-a-copy\n"
     ]
    },
    {
     "name": "stdout",
     "output_type": "stream",
     "text": [
      "Saved time series visualization for Reddit - Topic: people  money  welfare  to /Users/tnathu-ai/VSCode/Government-Digital-Transformation/assets/images/reddit_time_series_analysis_people  money  welfare .png\n"
     ]
    },
    {
     "name": "stderr",
     "output_type": "stream",
     "text": [
      "<timed exec>:63: SettingWithCopyWarning: \n",
      "A value is trying to be set on a copy of a slice from a DataFrame.\n",
      "Try using .loc[row_indexer,col_indexer] = value instead\n",
      "\n",
      "See the caveats in the documentation: https://pandas.pydata.org/pandas-docs/stable/user_guide/indexing.html#returning-a-view-versus-a-copy\n"
     ]
    },
    {
     "name": "stdout",
     "output_type": "stream",
     "text": [
      "Saved time series visualization for Reddit - Topic: get  time  centrelink  to /Users/tnathu-ai/VSCode/Government-Digital-Transformation/assets/images/reddit_time_series_analysis_get  time  centrelink .png\n"
     ]
    },
    {
     "name": "stderr",
     "output_type": "stream",
     "text": [
      "<timed exec>:63: SettingWithCopyWarning: \n",
      "A value is trying to be set on a copy of a slice from a DataFrame.\n",
      "Try using .loc[row_indexer,col_indexer] = value instead\n",
      "\n",
      "See the caveats in the documentation: https://pandas.pydata.org/pandas-docs/stable/user_guide/indexing.html#returning-a-view-versus-a-copy\n"
     ]
    },
    {
     "name": "stdout",
     "output_type": "stream",
     "text": [
      "Saved time series visualization for Reddit - Topic: call  centrelink  debt  to /Users/tnathu-ai/VSCode/Government-Digital-Transformation/assets/images/reddit_time_series_analysis_call  centrelink  debt .png\n",
      "Saved sentiment analysis for Reddit to /Users/tnathu-ai/VSCode/Government-Digital-Transformation/data/intermediate/analysis/reddit_sentiment_analysis.txt\n",
      "Extracted Topic: (0, '0.015*\"us\" + 0.014*\"australia\" + 0.013*\"law\" + 0.010*\"australian\" + 0.009*\"laws\"')\n",
      "Extracted Topic: (1, '0.014*\"like\" + 0.010*\"years\" + 0.009*\"get\" + 0.008*\"im\" + 0.008*\"got\"')\n",
      "Extracted Topic: (2, '0.012*\"would\" + 0.010*\"game\" + 0.009*\"dont\" + 0.008*\"get\" + 0.006*\"make\"')\n",
      "Extracted Topic: (3, '0.018*\"people\" + 0.016*\"right\" + 0.011*\"dont\" + 0.009*\"like\" + 0.007*\"youre\"')\n",
      "Extracted Topic: (4, '0.013*\"people\" + 0.009*\"dont\" + 0.009*\"would\" + 0.008*\"like\" + 0.007*\"think\"')\n",
      "Saved topic modeling for Reddit to /Users/tnathu-ai/VSCode/Government-Digital-Transformation/data/intermediate/analysis/reddit_topic_modeling.txt\n",
      "Saved qualitative analysis for Reddit to /Users/tnathu-ai/VSCode/Government-Digital-Transformation/data/intermediate/analysis/reddit_qualitative_analysis.txt\n"
     ]
    },
    {
     "name": "stderr",
     "output_type": "stream",
     "text": [
      "<timed exec>:63: SettingWithCopyWarning: \n",
      "A value is trying to be set on a copy of a slice from a DataFrame.\n",
      "Try using .loc[row_indexer,col_indexer] = value instead\n",
      "\n",
      "See the caveats in the documentation: https://pandas.pydata.org/pandas-docs/stable/user_guide/indexing.html#returning-a-view-versus-a-copy\n"
     ]
    },
    {
     "name": "stdout",
     "output_type": "stream",
     "text": [
      "Saved time series visualization for Reddit - Topic: us  australia  law  to /Users/tnathu-ai/VSCode/Government-Digital-Transformation/assets/images/reddit_time_series_analysis_us  australia  law .png\n"
     ]
    },
    {
     "name": "stderr",
     "output_type": "stream",
     "text": [
      "<timed exec>:63: SettingWithCopyWarning: \n",
      "A value is trying to be set on a copy of a slice from a DataFrame.\n",
      "Try using .loc[row_indexer,col_indexer] = value instead\n",
      "\n",
      "See the caveats in the documentation: https://pandas.pydata.org/pandas-docs/stable/user_guide/indexing.html#returning-a-view-versus-a-copy\n"
     ]
    },
    {
     "name": "stdout",
     "output_type": "stream",
     "text": [
      "Saved time series visualization for Reddit - Topic: like  years  get  to /Users/tnathu-ai/VSCode/Government-Digital-Transformation/assets/images/reddit_time_series_analysis_like  years  get .png\n"
     ]
    },
    {
     "name": "stderr",
     "output_type": "stream",
     "text": [
      "<timed exec>:63: SettingWithCopyWarning: \n",
      "A value is trying to be set on a copy of a slice from a DataFrame.\n",
      "Try using .loc[row_indexer,col_indexer] = value instead\n",
      "\n",
      "See the caveats in the documentation: https://pandas.pydata.org/pandas-docs/stable/user_guide/indexing.html#returning-a-view-versus-a-copy\n"
     ]
    },
    {
     "name": "stdout",
     "output_type": "stream",
     "text": [
      "Saved time series visualization for Reddit - Topic: would  game  dont  to /Users/tnathu-ai/VSCode/Government-Digital-Transformation/assets/images/reddit_time_series_analysis_would  game  dont .png\n"
     ]
    },
    {
     "name": "stderr",
     "output_type": "stream",
     "text": [
      "<timed exec>:63: SettingWithCopyWarning: \n",
      "A value is trying to be set on a copy of a slice from a DataFrame.\n",
      "Try using .loc[row_indexer,col_indexer] = value instead\n",
      "\n",
      "See the caveats in the documentation: https://pandas.pydata.org/pandas-docs/stable/user_guide/indexing.html#returning-a-view-versus-a-copy\n"
     ]
    },
    {
     "name": "stdout",
     "output_type": "stream",
     "text": [
      "Saved time series visualization for Reddit - Topic: people  right  dont  to /Users/tnathu-ai/VSCode/Government-Digital-Transformation/assets/images/reddit_time_series_analysis_people  right  dont .png\n"
     ]
    },
    {
     "name": "stderr",
     "output_type": "stream",
     "text": [
      "<timed exec>:63: SettingWithCopyWarning: \n",
      "A value is trying to be set on a copy of a slice from a DataFrame.\n",
      "Try using .loc[row_indexer,col_indexer] = value instead\n",
      "\n",
      "See the caveats in the documentation: https://pandas.pydata.org/pandas-docs/stable/user_guide/indexing.html#returning-a-view-versus-a-copy\n"
     ]
    },
    {
     "name": "stdout",
     "output_type": "stream",
     "text": [
      "Saved time series visualization for Reddit - Topic: people  dont  would  to /Users/tnathu-ai/VSCode/Government-Digital-Transformation/assets/images/reddit_time_series_analysis_people  dont  would .png\n",
      "Saved sentiment analysis for Reddit to /Users/tnathu-ai/VSCode/Government-Digital-Transformation/data/intermediate/analysis/reddit_sentiment_analysis.txt\n",
      "Extracted Topic: (0, '0.012*\"loans\" + 0.012*\"years\" + 0.011*\"get\" + 0.010*\"would\" + 0.009*\"money\"')\n",
      "Extracted Topic: (1, '0.041*\"people\" + 0.018*\"dont\" + 0.014*\"want\" + 0.010*\"like\" + 0.007*\"get\"')\n",
      "Extracted Topic: (2, '0.032*\"education\" + 0.015*\"government\" + 0.012*\"state\" + 0.011*\"would\" + 0.010*\"states\"')\n",
      "Extracted Topic: (3, '0.016*\"im\" + 0.015*\"like\" + 0.010*\"one\" + 0.008*\"youre\" + 0.007*\"even\"')\n",
      "Extracted Topic: (4, '0.023*\"school\" + 0.015*\"students\" + 0.015*\"schools\" + 0.010*\"kids\" + 0.010*\"teachers\"')\n",
      "Saved topic modeling for Reddit to /Users/tnathu-ai/VSCode/Government-Digital-Transformation/data/intermediate/analysis/reddit_topic_modeling.txt\n",
      "Saved qualitative analysis for Reddit to /Users/tnathu-ai/VSCode/Government-Digital-Transformation/data/intermediate/analysis/reddit_qualitative_analysis.txt\n"
     ]
    },
    {
     "name": "stderr",
     "output_type": "stream",
     "text": [
      "<timed exec>:63: SettingWithCopyWarning: \n",
      "A value is trying to be set on a copy of a slice from a DataFrame.\n",
      "Try using .loc[row_indexer,col_indexer] = value instead\n",
      "\n",
      "See the caveats in the documentation: https://pandas.pydata.org/pandas-docs/stable/user_guide/indexing.html#returning-a-view-versus-a-copy\n"
     ]
    },
    {
     "name": "stdout",
     "output_type": "stream",
     "text": [
      "Saved time series visualization for Reddit - Topic: loans  years  get  to /Users/tnathu-ai/VSCode/Government-Digital-Transformation/assets/images/reddit_time_series_analysis_loans  years  get .png\n"
     ]
    },
    {
     "name": "stderr",
     "output_type": "stream",
     "text": [
      "<timed exec>:63: SettingWithCopyWarning: \n",
      "A value is trying to be set on a copy of a slice from a DataFrame.\n",
      "Try using .loc[row_indexer,col_indexer] = value instead\n",
      "\n",
      "See the caveats in the documentation: https://pandas.pydata.org/pandas-docs/stable/user_guide/indexing.html#returning-a-view-versus-a-copy\n"
     ]
    },
    {
     "name": "stdout",
     "output_type": "stream",
     "text": [
      "Saved time series visualization for Reddit - Topic: people  dont  want  to /Users/tnathu-ai/VSCode/Government-Digital-Transformation/assets/images/reddit_time_series_analysis_people  dont  want .png\n"
     ]
    },
    {
     "name": "stderr",
     "output_type": "stream",
     "text": [
      "<timed exec>:63: SettingWithCopyWarning: \n",
      "A value is trying to be set on a copy of a slice from a DataFrame.\n",
      "Try using .loc[row_indexer,col_indexer] = value instead\n",
      "\n",
      "See the caveats in the documentation: https://pandas.pydata.org/pandas-docs/stable/user_guide/indexing.html#returning-a-view-versus-a-copy\n"
     ]
    },
    {
     "name": "stdout",
     "output_type": "stream",
     "text": [
      "Saved time series visualization for Reddit - Topic: education  government  state  to /Users/tnathu-ai/VSCode/Government-Digital-Transformation/assets/images/reddit_time_series_analysis_education  government  state .png\n"
     ]
    },
    {
     "name": "stderr",
     "output_type": "stream",
     "text": [
      "<timed exec>:63: SettingWithCopyWarning: \n",
      "A value is trying to be set on a copy of a slice from a DataFrame.\n",
      "Try using .loc[row_indexer,col_indexer] = value instead\n",
      "\n",
      "See the caveats in the documentation: https://pandas.pydata.org/pandas-docs/stable/user_guide/indexing.html#returning-a-view-versus-a-copy\n"
     ]
    },
    {
     "name": "stdout",
     "output_type": "stream",
     "text": [
      "Saved time series visualization for Reddit - Topic: im  like  one  to /Users/tnathu-ai/VSCode/Government-Digital-Transformation/assets/images/reddit_time_series_analysis_im  like  one .png\n"
     ]
    },
    {
     "name": "stderr",
     "output_type": "stream",
     "text": [
      "<timed exec>:63: SettingWithCopyWarning: \n",
      "A value is trying to be set on a copy of a slice from a DataFrame.\n",
      "Try using .loc[row_indexer,col_indexer] = value instead\n",
      "\n",
      "See the caveats in the documentation: https://pandas.pydata.org/pandas-docs/stable/user_guide/indexing.html#returning-a-view-versus-a-copy\n"
     ]
    },
    {
     "name": "stdout",
     "output_type": "stream",
     "text": [
      "Saved time series visualization for Reddit - Topic: school  students  schools  to /Users/tnathu-ai/VSCode/Government-Digital-Transformation/assets/images/reddit_time_series_analysis_school  students  schools .png\n",
      "Saved sentiment analysis for Reddit to /Users/tnathu-ai/VSCode/Government-Digital-Transformation/data/intermediate/analysis/reddit_sentiment_analysis.txt\n",
      "Extracted Topic: (0, '0.008*\"people\" + 0.007*\"even\" + 0.007*\"like\" + 0.006*\"also\" + 0.005*\"vaccine\"')\n",
      "Extracted Topic: (1, '0.014*\"nz\" + 0.012*\"would\" + 0.012*\"dont\" + 0.010*\"people\" + 0.008*\"one\"')\n",
      "Extracted Topic: (2, '0.009*\"nsw\" + 0.009*\"people\" + 0.008*\"australia\" + 0.007*\"get\" + 0.007*\"going\"')\n",
      "Extracted Topic: (3, '0.007*\"one\" + 0.006*\"hes\" + 0.006*\"like\" + 0.006*\"im\" + 0.006*\"covid\"')\n",
      "Extracted Topic: (4, '0.010*\"like\" + 0.009*\"vapes\" + 0.008*\"get\" + 0.007*\"think\" + 0.007*\"nicotine\"')\n",
      "Saved topic modeling for Reddit to /Users/tnathu-ai/VSCode/Government-Digital-Transformation/data/intermediate/analysis/reddit_topic_modeling.txt\n",
      "Saved qualitative analysis for Reddit to /Users/tnathu-ai/VSCode/Government-Digital-Transformation/data/intermediate/analysis/reddit_qualitative_analysis.txt\n"
     ]
    },
    {
     "name": "stderr",
     "output_type": "stream",
     "text": [
      "<timed exec>:63: SettingWithCopyWarning: \n",
      "A value is trying to be set on a copy of a slice from a DataFrame.\n",
      "Try using .loc[row_indexer,col_indexer] = value instead\n",
      "\n",
      "See the caveats in the documentation: https://pandas.pydata.org/pandas-docs/stable/user_guide/indexing.html#returning-a-view-versus-a-copy\n",
      "<timed exec>:63: SettingWithCopyWarning: \n",
      "A value is trying to be set on a copy of a slice from a DataFrame.\n",
      "Try using .loc[row_indexer,col_indexer] = value instead\n",
      "\n",
      "See the caveats in the documentation: https://pandas.pydata.org/pandas-docs/stable/user_guide/indexing.html#returning-a-view-versus-a-copy\n"
     ]
    },
    {
     "name": "stdout",
     "output_type": "stream",
     "text": [
      "Saved time series visualization for Reddit - Topic: people  even  like  to /Users/tnathu-ai/VSCode/Government-Digital-Transformation/assets/images/reddit_time_series_analysis_people  even  like .png\n",
      "Saved time series visualization for Reddit - Topic: nz  would  dont  to /Users/tnathu-ai/VSCode/Government-Digital-Transformation/assets/images/reddit_time_series_analysis_nz  would  dont .png\n"
     ]
    },
    {
     "name": "stderr",
     "output_type": "stream",
     "text": [
      "<timed exec>:63: SettingWithCopyWarning: \n",
      "A value is trying to be set on a copy of a slice from a DataFrame.\n",
      "Try using .loc[row_indexer,col_indexer] = value instead\n",
      "\n",
      "See the caveats in the documentation: https://pandas.pydata.org/pandas-docs/stable/user_guide/indexing.html#returning-a-view-versus-a-copy\n",
      "<timed exec>:63: SettingWithCopyWarning: \n",
      "A value is trying to be set on a copy of a slice from a DataFrame.\n",
      "Try using .loc[row_indexer,col_indexer] = value instead\n",
      "\n",
      "See the caveats in the documentation: https://pandas.pydata.org/pandas-docs/stable/user_guide/indexing.html#returning-a-view-versus-a-copy\n"
     ]
    },
    {
     "name": "stdout",
     "output_type": "stream",
     "text": [
      "Saved time series visualization for Reddit - Topic: nsw  people  australia  to /Users/tnathu-ai/VSCode/Government-Digital-Transformation/assets/images/reddit_time_series_analysis_nsw  people  australia .png\n",
      "Saved time series visualization for Reddit - Topic: one  hes  like  to /Users/tnathu-ai/VSCode/Government-Digital-Transformation/assets/images/reddit_time_series_analysis_one  hes  like .png\n"
     ]
    },
    {
     "name": "stderr",
     "output_type": "stream",
     "text": [
      "<timed exec>:63: SettingWithCopyWarning: \n",
      "A value is trying to be set on a copy of a slice from a DataFrame.\n",
      "Try using .loc[row_indexer,col_indexer] = value instead\n",
      "\n",
      "See the caveats in the documentation: https://pandas.pydata.org/pandas-docs/stable/user_guide/indexing.html#returning-a-view-versus-a-copy\n"
     ]
    },
    {
     "name": "stdout",
     "output_type": "stream",
     "text": [
      "Saved time series visualization for Reddit - Topic: like  vapes  get  to /Users/tnathu-ai/VSCode/Government-Digital-Transformation/assets/images/reddit_time_series_analysis_like  vapes  get .png\n",
      "Saved sentiment analysis for Reddit to /Users/tnathu-ai/VSCode/Government-Digital-Transformation/data/intermediate/analysis/reddit_sentiment_analysis.txt\n",
      "Extracted Topic: (0, '0.041*\"nuclear\" + 0.026*\"power\" + 0.024*\"solar\" + 0.024*\"wind\" + 0.021*\"years\"')\n",
      "Extracted Topic: (1, '0.042*\"energy\" + 0.019*\"renewable\" + 0.011*\"power\" + 0.011*\"renewables\" + 0.010*\"storage\"')\n",
      "Extracted Topic: (2, '0.015*\"people\" + 0.011*\"money\" + 0.009*\"us\" + 0.009*\"government\" + 0.009*\"would\"')\n",
      "Extracted Topic: (3, '0.012*\"waste\" + 0.006*\"people\" + 0.006*\"water\" + 0.006*\"like\" + 0.005*\"also\"')\n",
      "Extracted Topic: (4, '0.016*\"im\" + 0.015*\"like\" + 0.013*\"dont\" + 0.012*\"think\" + 0.010*\"know\"')\n",
      "Saved topic modeling for Reddit to /Users/tnathu-ai/VSCode/Government-Digital-Transformation/data/intermediate/analysis/reddit_topic_modeling.txt\n",
      "Saved qualitative analysis for Reddit to /Users/tnathu-ai/VSCode/Government-Digital-Transformation/data/intermediate/analysis/reddit_qualitative_analysis.txt\n"
     ]
    },
    {
     "name": "stderr",
     "output_type": "stream",
     "text": [
      "<timed exec>:63: SettingWithCopyWarning: \n",
      "A value is trying to be set on a copy of a slice from a DataFrame.\n",
      "Try using .loc[row_indexer,col_indexer] = value instead\n",
      "\n",
      "See the caveats in the documentation: https://pandas.pydata.org/pandas-docs/stable/user_guide/indexing.html#returning-a-view-versus-a-copy\n"
     ]
    },
    {
     "name": "stdout",
     "output_type": "stream",
     "text": [
      "Saved time series visualization for Reddit - Topic: nuclear  power  solar  to /Users/tnathu-ai/VSCode/Government-Digital-Transformation/assets/images/reddit_time_series_analysis_nuclear  power  solar .png\n"
     ]
    },
    {
     "name": "stderr",
     "output_type": "stream",
     "text": [
      "<timed exec>:63: SettingWithCopyWarning: \n",
      "A value is trying to be set on a copy of a slice from a DataFrame.\n",
      "Try using .loc[row_indexer,col_indexer] = value instead\n",
      "\n",
      "See the caveats in the documentation: https://pandas.pydata.org/pandas-docs/stable/user_guide/indexing.html#returning-a-view-versus-a-copy\n"
     ]
    },
    {
     "name": "stdout",
     "output_type": "stream",
     "text": [
      "Saved time series visualization for Reddit - Topic: energy  renewable  power  to /Users/tnathu-ai/VSCode/Government-Digital-Transformation/assets/images/reddit_time_series_analysis_energy  renewable  power .png\n"
     ]
    },
    {
     "name": "stderr",
     "output_type": "stream",
     "text": [
      "<timed exec>:63: SettingWithCopyWarning: \n",
      "A value is trying to be set on a copy of a slice from a DataFrame.\n",
      "Try using .loc[row_indexer,col_indexer] = value instead\n",
      "\n",
      "See the caveats in the documentation: https://pandas.pydata.org/pandas-docs/stable/user_guide/indexing.html#returning-a-view-versus-a-copy\n"
     ]
    },
    {
     "name": "stdout",
     "output_type": "stream",
     "text": [
      "Saved time series visualization for Reddit - Topic: people  money  us  to /Users/tnathu-ai/VSCode/Government-Digital-Transformation/assets/images/reddit_time_series_analysis_people  money  us .png\n"
     ]
    },
    {
     "name": "stderr",
     "output_type": "stream",
     "text": [
      "<timed exec>:63: SettingWithCopyWarning: \n",
      "A value is trying to be set on a copy of a slice from a DataFrame.\n",
      "Try using .loc[row_indexer,col_indexer] = value instead\n",
      "\n",
      "See the caveats in the documentation: https://pandas.pydata.org/pandas-docs/stable/user_guide/indexing.html#returning-a-view-versus-a-copy\n"
     ]
    },
    {
     "name": "stdout",
     "output_type": "stream",
     "text": [
      "Saved time series visualization for Reddit - Topic: waste  people  water  to /Users/tnathu-ai/VSCode/Government-Digital-Transformation/assets/images/reddit_time_series_analysis_waste  people  water .png\n"
     ]
    },
    {
     "name": "stderr",
     "output_type": "stream",
     "text": [
      "<timed exec>:63: SettingWithCopyWarning: \n",
      "A value is trying to be set on a copy of a slice from a DataFrame.\n",
      "Try using .loc[row_indexer,col_indexer] = value instead\n",
      "\n",
      "See the caveats in the documentation: https://pandas.pydata.org/pandas-docs/stable/user_guide/indexing.html#returning-a-view-versus-a-copy\n"
     ]
    },
    {
     "name": "stdout",
     "output_type": "stream",
     "text": [
      "Saved time series visualization for Reddit - Topic: im  like  dont  to /Users/tnathu-ai/VSCode/Government-Digital-Transformation/assets/images/reddit_time_series_analysis_im  like  dont .png\n",
      "Saved sentiment analysis for Reddit to /Users/tnathu-ai/VSCode/Government-Digital-Transformation/data/intermediate/analysis/reddit_sentiment_analysis.txt\n",
      "Extracted Topic: (0, '0.022*\"like\" + 0.018*\"dont\" + 0.016*\"people\" + 0.013*\"im\" + 0.012*\"know\"')\n",
      "Extracted Topic: (1, '0.012*\"government\" + 0.008*\"states\" + 0.007*\"vote\" + 0.006*\"rights\" + 0.006*\"would\"')\n",
      "Extracted Topic: (2, '0.012*\"gun\" + 0.012*\"one\" + 0.011*\"years\" + 0.010*\"get\" + 0.009*\"got\"')\n",
      "Extracted Topic: (3, '0.018*\"people\" + 0.008*\"israel\" + 0.007*\"right\" + 0.007*\"country\" + 0.007*\"state\"')\n",
      "Extracted Topic: (4, '0.019*\"citizenship\" + 0.019*\"test\" + 0.013*\"english\" + 0.012*\"would\" + 0.011*\"people\"')\n",
      "Saved topic modeling for Reddit to /Users/tnathu-ai/VSCode/Government-Digital-Transformation/data/intermediate/analysis/reddit_topic_modeling.txt\n",
      "Saved qualitative analysis for Reddit to /Users/tnathu-ai/VSCode/Government-Digital-Transformation/data/intermediate/analysis/reddit_qualitative_analysis.txt\n"
     ]
    },
    {
     "name": "stderr",
     "output_type": "stream",
     "text": [
      "<timed exec>:63: SettingWithCopyWarning: \n",
      "A value is trying to be set on a copy of a slice from a DataFrame.\n",
      "Try using .loc[row_indexer,col_indexer] = value instead\n",
      "\n",
      "See the caveats in the documentation: https://pandas.pydata.org/pandas-docs/stable/user_guide/indexing.html#returning-a-view-versus-a-copy\n"
     ]
    },
    {
     "name": "stdout",
     "output_type": "stream",
     "text": [
      "Saved time series visualization for Reddit - Topic: like  dont  people  to /Users/tnathu-ai/VSCode/Government-Digital-Transformation/assets/images/reddit_time_series_analysis_like  dont  people .png\n"
     ]
    },
    {
     "name": "stderr",
     "output_type": "stream",
     "text": [
      "<timed exec>:63: SettingWithCopyWarning: \n",
      "A value is trying to be set on a copy of a slice from a DataFrame.\n",
      "Try using .loc[row_indexer,col_indexer] = value instead\n",
      "\n",
      "See the caveats in the documentation: https://pandas.pydata.org/pandas-docs/stable/user_guide/indexing.html#returning-a-view-versus-a-copy\n"
     ]
    },
    {
     "name": "stdout",
     "output_type": "stream",
     "text": [
      "Saved time series visualization for Reddit - Topic: government  states  vote  to /Users/tnathu-ai/VSCode/Government-Digital-Transformation/assets/images/reddit_time_series_analysis_government  states  vote .png\n"
     ]
    },
    {
     "name": "stderr",
     "output_type": "stream",
     "text": [
      "<timed exec>:63: SettingWithCopyWarning: \n",
      "A value is trying to be set on a copy of a slice from a DataFrame.\n",
      "Try using .loc[row_indexer,col_indexer] = value instead\n",
      "\n",
      "See the caveats in the documentation: https://pandas.pydata.org/pandas-docs/stable/user_guide/indexing.html#returning-a-view-versus-a-copy\n"
     ]
    },
    {
     "name": "stdout",
     "output_type": "stream",
     "text": [
      "Saved time series visualization for Reddit - Topic: gun  one  years  to /Users/tnathu-ai/VSCode/Government-Digital-Transformation/assets/images/reddit_time_series_analysis_gun  one  years .png\n"
     ]
    },
    {
     "name": "stderr",
     "output_type": "stream",
     "text": [
      "<timed exec>:63: SettingWithCopyWarning: \n",
      "A value is trying to be set on a copy of a slice from a DataFrame.\n",
      "Try using .loc[row_indexer,col_indexer] = value instead\n",
      "\n",
      "See the caveats in the documentation: https://pandas.pydata.org/pandas-docs/stable/user_guide/indexing.html#returning-a-view-versus-a-copy\n"
     ]
    },
    {
     "name": "stdout",
     "output_type": "stream",
     "text": [
      "Saved time series visualization for Reddit - Topic: people  israel  right  to /Users/tnathu-ai/VSCode/Government-Digital-Transformation/assets/images/reddit_time_series_analysis_people  israel  right .png\n"
     ]
    },
    {
     "name": "stderr",
     "output_type": "stream",
     "text": [
      "<timed exec>:63: SettingWithCopyWarning: \n",
      "A value is trying to be set on a copy of a slice from a DataFrame.\n",
      "Try using .loc[row_indexer,col_indexer] = value instead\n",
      "\n",
      "See the caveats in the documentation: https://pandas.pydata.org/pandas-docs/stable/user_guide/indexing.html#returning-a-view-versus-a-copy\n"
     ]
    },
    {
     "name": "stdout",
     "output_type": "stream",
     "text": [
      "Saved time series visualization for Reddit - Topic: citizenship  test  english  to /Users/tnathu-ai/VSCode/Government-Digital-Transformation/assets/images/reddit_time_series_analysis_citizenship  test  english .png\n",
      "Saved sentiment analysis for Reddit to /Users/tnathu-ai/VSCode/Government-Digital-Transformation/data/intermediate/analysis/reddit_sentiment_analysis.txt\n",
      "Extracted Topic: (0, '0.035*\"television\" + 0.028*\"sbs\" + 0.021*\"services\" + 0.021*\"allowed\" + 0.021*\"industry\"')\n",
      "Extracted Topic: (1, '0.034*\"bill\" + 0.034*\"sbs\" + 0.034*\"another\" + 0.034*\"people\" + 0.034*\"government\"')\n",
      "Extracted Topic: (2, '0.051*\"please\" + 0.037*\"automatically\" + 0.037*\"moderators\" + 0.037*\"performed\" + 0.037*\"contact\"')\n",
      "Extracted Topic: (3, '0.068*\"post\" + 0.068*\"deleted\" + 0.068*\"mass\" + 0.055*\"anonymized\" + 0.035*\"farflung\"')\n",
      "Extracted Topic: (4, '0.045*\"government\" + 0.034*\"sbs\" + 0.025*\"trying\" + 0.017*\"bill\" + 0.017*\"expand\"')\n",
      "Saved topic modeling for Reddit to /Users/tnathu-ai/VSCode/Government-Digital-Transformation/data/intermediate/analysis/reddit_topic_modeling.txt\n",
      "Saved qualitative analysis for Reddit to /Users/tnathu-ai/VSCode/Government-Digital-Transformation/data/intermediate/analysis/reddit_qualitative_analysis.txt\n",
      "Saved time series visualization for Reddit - Topic: television  sbs  services  to /Users/tnathu-ai/VSCode/Government-Digital-Transformation/assets/images/reddit_time_series_analysis_television  sbs  services .png\n"
     ]
    },
    {
     "name": "stderr",
     "output_type": "stream",
     "text": [
      "<timed exec>:63: SettingWithCopyWarning: \n",
      "A value is trying to be set on a copy of a slice from a DataFrame.\n",
      "Try using .loc[row_indexer,col_indexer] = value instead\n",
      "\n",
      "See the caveats in the documentation: https://pandas.pydata.org/pandas-docs/stable/user_guide/indexing.html#returning-a-view-versus-a-copy\n",
      "<timed exec>:63: SettingWithCopyWarning: \n",
      "A value is trying to be set on a copy of a slice from a DataFrame.\n",
      "Try using .loc[row_indexer,col_indexer] = value instead\n",
      "\n",
      "See the caveats in the documentation: https://pandas.pydata.org/pandas-docs/stable/user_guide/indexing.html#returning-a-view-versus-a-copy\n"
     ]
    },
    {
     "name": "stdout",
     "output_type": "stream",
     "text": [
      "Saved time series visualization for Reddit - Topic: bill  sbs  another  to /Users/tnathu-ai/VSCode/Government-Digital-Transformation/assets/images/reddit_time_series_analysis_bill  sbs  another .png\n",
      "Saved time series visualization for Reddit - Topic: please  automatically  moderators  to /Users/tnathu-ai/VSCode/Government-Digital-Transformation/assets/images/reddit_time_series_analysis_please  automatically  moderators .png\n"
     ]
    },
    {
     "name": "stderr",
     "output_type": "stream",
     "text": [
      "<timed exec>:63: SettingWithCopyWarning: \n",
      "A value is trying to be set on a copy of a slice from a DataFrame.\n",
      "Try using .loc[row_indexer,col_indexer] = value instead\n",
      "\n",
      "See the caveats in the documentation: https://pandas.pydata.org/pandas-docs/stable/user_guide/indexing.html#returning-a-view-versus-a-copy\n",
      "<timed exec>:63: SettingWithCopyWarning: \n",
      "A value is trying to be set on a copy of a slice from a DataFrame.\n",
      "Try using .loc[row_indexer,col_indexer] = value instead\n",
      "\n",
      "See the caveats in the documentation: https://pandas.pydata.org/pandas-docs/stable/user_guide/indexing.html#returning-a-view-versus-a-copy\n"
     ]
    },
    {
     "name": "stdout",
     "output_type": "stream",
     "text": [
      "Saved time series visualization for Reddit - Topic: post  deleted  mass  to /Users/tnathu-ai/VSCode/Government-Digital-Transformation/assets/images/reddit_time_series_analysis_post  deleted  mass .png\n",
      "Saved time series visualization for Reddit - Topic: government  sbs  trying  to /Users/tnathu-ai/VSCode/Government-Digital-Transformation/assets/images/reddit_time_series_analysis_government  sbs  trying .png\n"
     ]
    },
    {
     "name": "stderr",
     "output_type": "stream",
     "text": [
      "<timed exec>:63: SettingWithCopyWarning: \n",
      "A value is trying to be set on a copy of a slice from a DataFrame.\n",
      "Try using .loc[row_indexer,col_indexer] = value instead\n",
      "\n",
      "See the caveats in the documentation: https://pandas.pydata.org/pandas-docs/stable/user_guide/indexing.html#returning-a-view-versus-a-copy\n"
     ]
    },
    {
     "name": "stdout",
     "output_type": "stream",
     "text": [
      "Saved sentiment analysis for Reddit to /Users/tnathu-ai/VSCode/Government-Digital-Transformation/data/intermediate/analysis/reddit_sentiment_analysis.txt\n",
      "Extracted Topic: (0, '0.014*\"would\" + 0.011*\"government\" + 0.010*\"power\" + 0.008*\"prices\" + 0.008*\"never\"')\n",
      "Extracted Topic: (1, '0.014*\"power\" + 0.013*\"coal\" + 0.011*\"market\" + 0.010*\"gas\" + 0.009*\"money\"')\n",
      "Extracted Topic: (2, '0.015*\"gas\" + 0.012*\"power\" + 0.008*\"even\" + 0.008*\"dont\" + 0.007*\"market\"')\n",
      "Extracted Topic: (3, '0.015*\"people\" + 0.013*\"get\" + 0.013*\"gas\" + 0.011*\"market\" + 0.011*\"vote\"')\n",
      "Extracted Topic: (4, '0.014*\"market\" + 0.013*\"power\" + 0.011*\"generators\" + 0.009*\"coal\" + 0.008*\"aemo\"')\n",
      "Saved topic modeling for Reddit to /Users/tnathu-ai/VSCode/Government-Digital-Transformation/data/intermediate/analysis/reddit_topic_modeling.txt\n",
      "Saved qualitative analysis for Reddit to /Users/tnathu-ai/VSCode/Government-Digital-Transformation/data/intermediate/analysis/reddit_qualitative_analysis.txt\n"
     ]
    },
    {
     "name": "stderr",
     "output_type": "stream",
     "text": [
      "<timed exec>:63: SettingWithCopyWarning: \n",
      "A value is trying to be set on a copy of a slice from a DataFrame.\n",
      "Try using .loc[row_indexer,col_indexer] = value instead\n",
      "\n",
      "See the caveats in the documentation: https://pandas.pydata.org/pandas-docs/stable/user_guide/indexing.html#returning-a-view-versus-a-copy\n"
     ]
    },
    {
     "name": "stdout",
     "output_type": "stream",
     "text": [
      "Saved time series visualization for Reddit - Topic: would  government  power  to /Users/tnathu-ai/VSCode/Government-Digital-Transformation/assets/images/reddit_time_series_analysis_would  government  power .png\n"
     ]
    },
    {
     "name": "stderr",
     "output_type": "stream",
     "text": [
      "<timed exec>:63: SettingWithCopyWarning: \n",
      "A value is trying to be set on a copy of a slice from a DataFrame.\n",
      "Try using .loc[row_indexer,col_indexer] = value instead\n",
      "\n",
      "See the caveats in the documentation: https://pandas.pydata.org/pandas-docs/stable/user_guide/indexing.html#returning-a-view-versus-a-copy\n",
      "<timed exec>:63: SettingWithCopyWarning: \n",
      "A value is trying to be set on a copy of a slice from a DataFrame.\n",
      "Try using .loc[row_indexer,col_indexer] = value instead\n",
      "\n",
      "See the caveats in the documentation: https://pandas.pydata.org/pandas-docs/stable/user_guide/indexing.html#returning-a-view-versus-a-copy\n"
     ]
    },
    {
     "name": "stdout",
     "output_type": "stream",
     "text": [
      "Saved time series visualization for Reddit - Topic: power  coal  market  to /Users/tnathu-ai/VSCode/Government-Digital-Transformation/assets/images/reddit_time_series_analysis_power  coal  market .png\n",
      "Saved time series visualization for Reddit - Topic: gas  power  even  to /Users/tnathu-ai/VSCode/Government-Digital-Transformation/assets/images/reddit_time_series_analysis_gas  power  even .png\n"
     ]
    },
    {
     "name": "stderr",
     "output_type": "stream",
     "text": [
      "<timed exec>:63: SettingWithCopyWarning: \n",
      "A value is trying to be set on a copy of a slice from a DataFrame.\n",
      "Try using .loc[row_indexer,col_indexer] = value instead\n",
      "\n",
      "See the caveats in the documentation: https://pandas.pydata.org/pandas-docs/stable/user_guide/indexing.html#returning-a-view-versus-a-copy\n"
     ]
    },
    {
     "name": "stdout",
     "output_type": "stream",
     "text": [
      "Saved time series visualization for Reddit - Topic: people  get  gas  to /Users/tnathu-ai/VSCode/Government-Digital-Transformation/assets/images/reddit_time_series_analysis_people  get  gas .png\n"
     ]
    },
    {
     "name": "stderr",
     "output_type": "stream",
     "text": [
      "<timed exec>:63: SettingWithCopyWarning: \n",
      "A value is trying to be set on a copy of a slice from a DataFrame.\n",
      "Try using .loc[row_indexer,col_indexer] = value instead\n",
      "\n",
      "See the caveats in the documentation: https://pandas.pydata.org/pandas-docs/stable/user_guide/indexing.html#returning-a-view-versus-a-copy\n"
     ]
    },
    {
     "name": "stdout",
     "output_type": "stream",
     "text": [
      "Saved time series visualization for Reddit - Topic: market  power  generators  to /Users/tnathu-ai/VSCode/Government-Digital-Transformation/assets/images/reddit_time_series_analysis_market  power  generators .png\n",
      "Saved sentiment analysis for Reddit to /Users/tnathu-ai/VSCode/Government-Digital-Transformation/data/intermediate/analysis/reddit_sentiment_analysis.txt\n",
      "Extracted Topic: (0, '0.015*\"government\" + 0.009*\"party\" + 0.009*\"get\" + 0.007*\"labor\" + 0.007*\"people\"')\n",
      "Extracted Topic: (1, '0.015*\"people\" + 0.011*\"money\" + 0.009*\"get\" + 0.008*\"work\" + 0.007*\"would\"')\n",
      "Extracted Topic: (2, '0.026*\"china\" + 0.019*\"us\" + 0.010*\"countries\" + 0.009*\"australia\" + 0.007*\"like\"')\n",
      "Extracted Topic: (3, '0.017*\"people\" + 0.015*\"dont\" + 0.012*\"like\" + 0.011*\"im\" + 0.009*\"think\"')\n",
      "Extracted Topic: (4, '0.013*\"coal\" + 0.009*\"power\" + 0.008*\"australia\" + 0.007*\"energy\" + 0.007*\"solar\"')\n",
      "Saved topic modeling for Reddit to /Users/tnathu-ai/VSCode/Government-Digital-Transformation/data/intermediate/analysis/reddit_topic_modeling.txt\n",
      "Saved qualitative analysis for Reddit to /Users/tnathu-ai/VSCode/Government-Digital-Transformation/data/intermediate/analysis/reddit_qualitative_analysis.txt\n"
     ]
    },
    {
     "name": "stderr",
     "output_type": "stream",
     "text": [
      "<timed exec>:63: SettingWithCopyWarning: \n",
      "A value is trying to be set on a copy of a slice from a DataFrame.\n",
      "Try using .loc[row_indexer,col_indexer] = value instead\n",
      "\n",
      "See the caveats in the documentation: https://pandas.pydata.org/pandas-docs/stable/user_guide/indexing.html#returning-a-view-versus-a-copy\n"
     ]
    },
    {
     "name": "stdout",
     "output_type": "stream",
     "text": [
      "Saved time series visualization for Reddit - Topic: government  party  get  to /Users/tnathu-ai/VSCode/Government-Digital-Transformation/assets/images/reddit_time_series_analysis_government  party  get .png\n"
     ]
    },
    {
     "name": "stderr",
     "output_type": "stream",
     "text": [
      "<timed exec>:63: SettingWithCopyWarning: \n",
      "A value is trying to be set on a copy of a slice from a DataFrame.\n",
      "Try using .loc[row_indexer,col_indexer] = value instead\n",
      "\n",
      "See the caveats in the documentation: https://pandas.pydata.org/pandas-docs/stable/user_guide/indexing.html#returning-a-view-versus-a-copy\n"
     ]
    },
    {
     "name": "stdout",
     "output_type": "stream",
     "text": [
      "Saved time series visualization for Reddit - Topic: people  money  get  to /Users/tnathu-ai/VSCode/Government-Digital-Transformation/assets/images/reddit_time_series_analysis_people  money  get .png\n"
     ]
    },
    {
     "name": "stderr",
     "output_type": "stream",
     "text": [
      "<timed exec>:63: SettingWithCopyWarning: \n",
      "A value is trying to be set on a copy of a slice from a DataFrame.\n",
      "Try using .loc[row_indexer,col_indexer] = value instead\n",
      "\n",
      "See the caveats in the documentation: https://pandas.pydata.org/pandas-docs/stable/user_guide/indexing.html#returning-a-view-versus-a-copy\n"
     ]
    },
    {
     "name": "stdout",
     "output_type": "stream",
     "text": [
      "Saved time series visualization for Reddit - Topic: china  us  countries  to /Users/tnathu-ai/VSCode/Government-Digital-Transformation/assets/images/reddit_time_series_analysis_china  us  countries .png\n"
     ]
    },
    {
     "name": "stderr",
     "output_type": "stream",
     "text": [
      "<timed exec>:63: SettingWithCopyWarning: \n",
      "A value is trying to be set on a copy of a slice from a DataFrame.\n",
      "Try using .loc[row_indexer,col_indexer] = value instead\n",
      "\n",
      "See the caveats in the documentation: https://pandas.pydata.org/pandas-docs/stable/user_guide/indexing.html#returning-a-view-versus-a-copy\n"
     ]
    },
    {
     "name": "stdout",
     "output_type": "stream",
     "text": [
      "Saved time series visualization for Reddit - Topic: people  dont  like  to /Users/tnathu-ai/VSCode/Government-Digital-Transformation/assets/images/reddit_time_series_analysis_people  dont  like .png\n"
     ]
    },
    {
     "name": "stderr",
     "output_type": "stream",
     "text": [
      "<timed exec>:63: SettingWithCopyWarning: \n",
      "A value is trying to be set on a copy of a slice from a DataFrame.\n",
      "Try using .loc[row_indexer,col_indexer] = value instead\n",
      "\n",
      "See the caveats in the documentation: https://pandas.pydata.org/pandas-docs/stable/user_guide/indexing.html#returning-a-view-versus-a-copy\n"
     ]
    },
    {
     "name": "stdout",
     "output_type": "stream",
     "text": [
      "Saved time series visualization for Reddit - Topic: coal  power  australia  to /Users/tnathu-ai/VSCode/Government-Digital-Transformation/assets/images/reddit_time_series_analysis_coal  power  australia .png\n",
      "Saved sentiment analysis for Reddit to /Users/tnathu-ai/VSCode/Government-Digital-Transformation/data/intermediate/analysis/reddit_sentiment_analysis.txt\n",
      "Extracted Topic: (0, '0.010*\"people\" + 0.009*\"would\" + 0.007*\"dont\" + 0.006*\"get\" + 0.006*\"much\"')\n",
      "Extracted Topic: (1, '0.008*\"tax\" + 0.008*\"im\" + 0.007*\"make\" + 0.007*\"like\" + 0.006*\"need\"')\n",
      "Extracted Topic: (2, '0.013*\"us\" + 0.011*\"australia\" + 0.010*\"government\" + 0.008*\"china\" + 0.007*\"change\"')\n",
      "Extracted Topic: (3, '0.009*\"years\" + 0.006*\"abuse\" + 0.005*\"fires\" + 0.005*\"elders\" + 0.005*\"also\"')\n",
      "Extracted Topic: (4, '0.017*\"people\" + 0.012*\"dont\" + 0.011*\"like\" + 0.008*\"trump\" + 0.008*\"think\"')\n",
      "Saved topic modeling for Reddit to /Users/tnathu-ai/VSCode/Government-Digital-Transformation/data/intermediate/analysis/reddit_topic_modeling.txt\n",
      "Saved qualitative analysis for Reddit to /Users/tnathu-ai/VSCode/Government-Digital-Transformation/data/intermediate/analysis/reddit_qualitative_analysis.txt\n"
     ]
    },
    {
     "name": "stderr",
     "output_type": "stream",
     "text": [
      "<timed exec>:63: SettingWithCopyWarning: \n",
      "A value is trying to be set on a copy of a slice from a DataFrame.\n",
      "Try using .loc[row_indexer,col_indexer] = value instead\n",
      "\n",
      "See the caveats in the documentation: https://pandas.pydata.org/pandas-docs/stable/user_guide/indexing.html#returning-a-view-versus-a-copy\n"
     ]
    },
    {
     "name": "stdout",
     "output_type": "stream",
     "text": [
      "Saved time series visualization for Reddit - Topic: people  would  dont  to /Users/tnathu-ai/VSCode/Government-Digital-Transformation/assets/images/reddit_time_series_analysis_people  would  dont .png\n"
     ]
    },
    {
     "name": "stderr",
     "output_type": "stream",
     "text": [
      "<timed exec>:63: SettingWithCopyWarning: \n",
      "A value is trying to be set on a copy of a slice from a DataFrame.\n",
      "Try using .loc[row_indexer,col_indexer] = value instead\n",
      "\n",
      "See the caveats in the documentation: https://pandas.pydata.org/pandas-docs/stable/user_guide/indexing.html#returning-a-view-versus-a-copy\n"
     ]
    },
    {
     "name": "stdout",
     "output_type": "stream",
     "text": [
      "Saved time series visualization for Reddit - Topic: tax  im  make  to /Users/tnathu-ai/VSCode/Government-Digital-Transformation/assets/images/reddit_time_series_analysis_tax  im  make .png\n"
     ]
    },
    {
     "name": "stderr",
     "output_type": "stream",
     "text": [
      "<timed exec>:63: SettingWithCopyWarning: \n",
      "A value is trying to be set on a copy of a slice from a DataFrame.\n",
      "Try using .loc[row_indexer,col_indexer] = value instead\n",
      "\n",
      "See the caveats in the documentation: https://pandas.pydata.org/pandas-docs/stable/user_guide/indexing.html#returning-a-view-versus-a-copy\n"
     ]
    },
    {
     "name": "stdout",
     "output_type": "stream",
     "text": [
      "Saved time series visualization for Reddit - Topic: us  australia  government  to /Users/tnathu-ai/VSCode/Government-Digital-Transformation/assets/images/reddit_time_series_analysis_us  australia  government .png\n"
     ]
    },
    {
     "name": "stderr",
     "output_type": "stream",
     "text": [
      "<timed exec>:63: SettingWithCopyWarning: \n",
      "A value is trying to be set on a copy of a slice from a DataFrame.\n",
      "Try using .loc[row_indexer,col_indexer] = value instead\n",
      "\n",
      "See the caveats in the documentation: https://pandas.pydata.org/pandas-docs/stable/user_guide/indexing.html#returning-a-view-versus-a-copy\n"
     ]
    },
    {
     "name": "stdout",
     "output_type": "stream",
     "text": [
      "Saved time series visualization for Reddit - Topic: years  abuse  fires  to /Users/tnathu-ai/VSCode/Government-Digital-Transformation/assets/images/reddit_time_series_analysis_years  abuse  fires .png\n"
     ]
    },
    {
     "name": "stderr",
     "output_type": "stream",
     "text": [
      "<timed exec>:63: SettingWithCopyWarning: \n",
      "A value is trying to be set on a copy of a slice from a DataFrame.\n",
      "Try using .loc[row_indexer,col_indexer] = value instead\n",
      "\n",
      "See the caveats in the documentation: https://pandas.pydata.org/pandas-docs/stable/user_guide/indexing.html#returning-a-view-versus-a-copy\n"
     ]
    },
    {
     "name": "stdout",
     "output_type": "stream",
     "text": [
      "Saved time series visualization for Reddit - Topic: people  dont  like  to /Users/tnathu-ai/VSCode/Government-Digital-Transformation/assets/images/reddit_time_series_analysis_people  dont  like .png\n",
      "Saved sentiment analysis for Reddit to /Users/tnathu-ai/VSCode/Government-Digital-Transformation/data/intermediate/analysis/reddit_sentiment_analysis.txt\n",
      "Extracted Topic: (0, '0.008*\"meat\" + 0.007*\"food\" + 0.007*\"much\" + 0.006*\"climate\" + 0.006*\"less\"')\n",
      "Extracted Topic: (1, '0.015*\"use\" + 0.010*\"like\" + 0.009*\"get\" + 0.008*\"tense\" + 0.007*\"plastic\"')\n",
      "Extracted Topic: (2, '0.013*\"government\" + 0.009*\"would\" + 0.006*\"power\" + 0.006*\"change\" + 0.006*\"tax\"')\n",
      "Extracted Topic: (3, '0.021*\"people\" + 0.010*\"dont\" + 0.009*\"like\" + 0.007*\"think\" + 0.007*\"would\"')\n",
      "Extracted Topic: (4, '0.016*\"money\" + 0.013*\"get\" + 0.012*\"dont\" + 0.012*\"people\" + 0.011*\"like\"')\n",
      "Saved topic modeling for Reddit to /Users/tnathu-ai/VSCode/Government-Digital-Transformation/data/intermediate/analysis/reddit_topic_modeling.txt\n",
      "Saved qualitative analysis for Reddit to /Users/tnathu-ai/VSCode/Government-Digital-Transformation/data/intermediate/analysis/reddit_qualitative_analysis.txt\n"
     ]
    },
    {
     "name": "stderr",
     "output_type": "stream",
     "text": [
      "<timed exec>:63: SettingWithCopyWarning: \n",
      "A value is trying to be set on a copy of a slice from a DataFrame.\n",
      "Try using .loc[row_indexer,col_indexer] = value instead\n",
      "\n",
      "See the caveats in the documentation: https://pandas.pydata.org/pandas-docs/stable/user_guide/indexing.html#returning-a-view-versus-a-copy\n"
     ]
    },
    {
     "name": "stdout",
     "output_type": "stream",
     "text": [
      "Saved time series visualization for Reddit - Topic: meat  food  much  to /Users/tnathu-ai/VSCode/Government-Digital-Transformation/assets/images/reddit_time_series_analysis_meat  food  much .png\n"
     ]
    },
    {
     "name": "stderr",
     "output_type": "stream",
     "text": [
      "<timed exec>:63: SettingWithCopyWarning: \n",
      "A value is trying to be set on a copy of a slice from a DataFrame.\n",
      "Try using .loc[row_indexer,col_indexer] = value instead\n",
      "\n",
      "See the caveats in the documentation: https://pandas.pydata.org/pandas-docs/stable/user_guide/indexing.html#returning-a-view-versus-a-copy\n"
     ]
    },
    {
     "name": "stdout",
     "output_type": "stream",
     "text": [
      "Saved time series visualization for Reddit - Topic: use  like  get  to /Users/tnathu-ai/VSCode/Government-Digital-Transformation/assets/images/reddit_time_series_analysis_use  like  get .png\n"
     ]
    },
    {
     "name": "stderr",
     "output_type": "stream",
     "text": [
      "<timed exec>:63: SettingWithCopyWarning: \n",
      "A value is trying to be set on a copy of a slice from a DataFrame.\n",
      "Try using .loc[row_indexer,col_indexer] = value instead\n",
      "\n",
      "See the caveats in the documentation: https://pandas.pydata.org/pandas-docs/stable/user_guide/indexing.html#returning-a-view-versus-a-copy\n"
     ]
    },
    {
     "name": "stdout",
     "output_type": "stream",
     "text": [
      "Saved time series visualization for Reddit - Topic: government  would  power  to /Users/tnathu-ai/VSCode/Government-Digital-Transformation/assets/images/reddit_time_series_analysis_government  would  power .png\n"
     ]
    },
    {
     "name": "stderr",
     "output_type": "stream",
     "text": [
      "<timed exec>:63: SettingWithCopyWarning: \n",
      "A value is trying to be set on a copy of a slice from a DataFrame.\n",
      "Try using .loc[row_indexer,col_indexer] = value instead\n",
      "\n",
      "See the caveats in the documentation: https://pandas.pydata.org/pandas-docs/stable/user_guide/indexing.html#returning-a-view-versus-a-copy\n"
     ]
    },
    {
     "name": "stdout",
     "output_type": "stream",
     "text": [
      "Saved time series visualization for Reddit - Topic: people  dont  like  to /Users/tnathu-ai/VSCode/Government-Digital-Transformation/assets/images/reddit_time_series_analysis_people  dont  like .png\n"
     ]
    },
    {
     "name": "stderr",
     "output_type": "stream",
     "text": [
      "<timed exec>:63: SettingWithCopyWarning: \n",
      "A value is trying to be set on a copy of a slice from a DataFrame.\n",
      "Try using .loc[row_indexer,col_indexer] = value instead\n",
      "\n",
      "See the caveats in the documentation: https://pandas.pydata.org/pandas-docs/stable/user_guide/indexing.html#returning-a-view-versus-a-copy\n"
     ]
    },
    {
     "name": "stdout",
     "output_type": "stream",
     "text": [
      "Saved time series visualization for Reddit - Topic: money  get  dont  to /Users/tnathu-ai/VSCode/Government-Digital-Transformation/assets/images/reddit_time_series_analysis_money  get  dont .png\n",
      "Saved sentiment analysis for Reddit to /Users/tnathu-ai/VSCode/Government-Digital-Transformation/data/intermediate/analysis/reddit_sentiment_analysis.txt\n",
      "Extracted Topic: (0, '0.019*\"people\" + 0.010*\"dont\" + 0.010*\"get\" + 0.008*\"would\" + 0.007*\"government\"')\n",
      "Extracted Topic: (1, '0.018*\"like\" + 0.014*\"im\" + 0.013*\"art\" + 0.011*\"know\" + 0.011*\"dont\"')\n",
      "Extracted Topic: (2, '0.021*\"people\" + 0.013*\"american\" + 0.011*\"culture\" + 0.009*\"white\" + 0.008*\"us\"')\n",
      "Extracted Topic: (3, '0.007*\"like\" + 0.006*\"class\" + 0.006*\"ive\" + 0.006*\"one\" + 0.006*\"russian\"')\n",
      "Extracted Topic: (4, '0.008*\"years\" + 0.007*\"music\" + 0.006*\"time\" + 0.006*\"church\" + 0.005*\"year\"')\n",
      "Saved topic modeling for Reddit to /Users/tnathu-ai/VSCode/Government-Digital-Transformation/data/intermediate/analysis/reddit_topic_modeling.txt\n",
      "Saved qualitative analysis for Reddit to /Users/tnathu-ai/VSCode/Government-Digital-Transformation/data/intermediate/analysis/reddit_qualitative_analysis.txt\n"
     ]
    },
    {
     "name": "stderr",
     "output_type": "stream",
     "text": [
      "<timed exec>:63: SettingWithCopyWarning: \n",
      "A value is trying to be set on a copy of a slice from a DataFrame.\n",
      "Try using .loc[row_indexer,col_indexer] = value instead\n",
      "\n",
      "See the caveats in the documentation: https://pandas.pydata.org/pandas-docs/stable/user_guide/indexing.html#returning-a-view-versus-a-copy\n"
     ]
    },
    {
     "name": "stdout",
     "output_type": "stream",
     "text": [
      "Saved time series visualization for Reddit - Topic: people  dont  get  to /Users/tnathu-ai/VSCode/Government-Digital-Transformation/assets/images/reddit_time_series_analysis_people  dont  get .png\n"
     ]
    },
    {
     "name": "stderr",
     "output_type": "stream",
     "text": [
      "<timed exec>:63: SettingWithCopyWarning: \n",
      "A value is trying to be set on a copy of a slice from a DataFrame.\n",
      "Try using .loc[row_indexer,col_indexer] = value instead\n",
      "\n",
      "See the caveats in the documentation: https://pandas.pydata.org/pandas-docs/stable/user_guide/indexing.html#returning-a-view-versus-a-copy\n"
     ]
    },
    {
     "name": "stdout",
     "output_type": "stream",
     "text": [
      "Saved time series visualization for Reddit - Topic: like  im  art  to /Users/tnathu-ai/VSCode/Government-Digital-Transformation/assets/images/reddit_time_series_analysis_like  im  art .png\n"
     ]
    },
    {
     "name": "stderr",
     "output_type": "stream",
     "text": [
      "<timed exec>:63: SettingWithCopyWarning: \n",
      "A value is trying to be set on a copy of a slice from a DataFrame.\n",
      "Try using .loc[row_indexer,col_indexer] = value instead\n",
      "\n",
      "See the caveats in the documentation: https://pandas.pydata.org/pandas-docs/stable/user_guide/indexing.html#returning-a-view-versus-a-copy\n"
     ]
    },
    {
     "name": "stdout",
     "output_type": "stream",
     "text": [
      "Saved time series visualization for Reddit - Topic: people  american  culture  to /Users/tnathu-ai/VSCode/Government-Digital-Transformation/assets/images/reddit_time_series_analysis_people  american  culture .png\n"
     ]
    },
    {
     "name": "stderr",
     "output_type": "stream",
     "text": [
      "<timed exec>:63: SettingWithCopyWarning: \n",
      "A value is trying to be set on a copy of a slice from a DataFrame.\n",
      "Try using .loc[row_indexer,col_indexer] = value instead\n",
      "\n",
      "See the caveats in the documentation: https://pandas.pydata.org/pandas-docs/stable/user_guide/indexing.html#returning-a-view-versus-a-copy\n"
     ]
    },
    {
     "name": "stdout",
     "output_type": "stream",
     "text": [
      "Saved time series visualization for Reddit - Topic: like  class  ive  to /Users/tnathu-ai/VSCode/Government-Digital-Transformation/assets/images/reddit_time_series_analysis_like  class  ive .png\n"
     ]
    },
    {
     "name": "stderr",
     "output_type": "stream",
     "text": [
      "<timed exec>:63: SettingWithCopyWarning: \n",
      "A value is trying to be set on a copy of a slice from a DataFrame.\n",
      "Try using .loc[row_indexer,col_indexer] = value instead\n",
      "\n",
      "See the caveats in the documentation: https://pandas.pydata.org/pandas-docs/stable/user_guide/indexing.html#returning-a-view-versus-a-copy\n"
     ]
    },
    {
     "name": "stdout",
     "output_type": "stream",
     "text": [
      "Saved time series visualization for Reddit - Topic: years  music  time  to /Users/tnathu-ai/VSCode/Government-Digital-Transformation/assets/images/reddit_time_series_analysis_years  music  time .png\n",
      "Saved sentiment analysis for Reddit to /Users/tnathu-ai/VSCode/Government-Digital-Transformation/data/intermediate/analysis/reddit_sentiment_analysis.txt\n",
      "Extracted Topic: (0, '0.018*\"would\" + 0.007*\"cost\" + 0.006*\"high\" + 0.006*\"much\" + 0.006*\"like\"')\n",
      "Extracted Topic: (1, '0.018*\"people\" + 0.015*\"dont\" + 0.014*\"like\" + 0.008*\"get\" + 0.007*\"government\"')\n",
      "Extracted Topic: (2, '0.008*\"party\" + 0.005*\"labor\" + 0.005*\"time\" + 0.005*\"vote\" + 0.004*\"good\"')\n",
      "Extracted Topic: (3, '0.014*\"im\" + 0.008*\"get\" + 0.006*\"one\" + 0.006*\"like\" + 0.006*\"liberal\"')\n",
      "Extracted Topic: (4, '0.019*\"tax\" + 0.012*\"australia\" + 0.011*\"digital\" + 0.010*\"australian\" + 0.009*\"companies\"')\n",
      "Saved topic modeling for Reddit to /Users/tnathu-ai/VSCode/Government-Digital-Transformation/data/intermediate/analysis/reddit_topic_modeling.txt\n",
      "Saved qualitative analysis for Reddit to /Users/tnathu-ai/VSCode/Government-Digital-Transformation/data/intermediate/analysis/reddit_qualitative_analysis.txt\n"
     ]
    },
    {
     "name": "stderr",
     "output_type": "stream",
     "text": [
      "<timed exec>:63: SettingWithCopyWarning: \n",
      "A value is trying to be set on a copy of a slice from a DataFrame.\n",
      "Try using .loc[row_indexer,col_indexer] = value instead\n",
      "\n",
      "See the caveats in the documentation: https://pandas.pydata.org/pandas-docs/stable/user_guide/indexing.html#returning-a-view-versus-a-copy\n"
     ]
    },
    {
     "name": "stdout",
     "output_type": "stream",
     "text": [
      "Saved time series visualization for Reddit - Topic: would  cost  high  to /Users/tnathu-ai/VSCode/Government-Digital-Transformation/assets/images/reddit_time_series_analysis_would  cost  high .png\n"
     ]
    },
    {
     "name": "stderr",
     "output_type": "stream",
     "text": [
      "<timed exec>:63: SettingWithCopyWarning: \n",
      "A value is trying to be set on a copy of a slice from a DataFrame.\n",
      "Try using .loc[row_indexer,col_indexer] = value instead\n",
      "\n",
      "See the caveats in the documentation: https://pandas.pydata.org/pandas-docs/stable/user_guide/indexing.html#returning-a-view-versus-a-copy\n"
     ]
    },
    {
     "name": "stdout",
     "output_type": "stream",
     "text": [
      "Saved time series visualization for Reddit - Topic: people  dont  like  to /Users/tnathu-ai/VSCode/Government-Digital-Transformation/assets/images/reddit_time_series_analysis_people  dont  like .png\n"
     ]
    },
    {
     "name": "stderr",
     "output_type": "stream",
     "text": [
      "<timed exec>:63: SettingWithCopyWarning: \n",
      "A value is trying to be set on a copy of a slice from a DataFrame.\n",
      "Try using .loc[row_indexer,col_indexer] = value instead\n",
      "\n",
      "See the caveats in the documentation: https://pandas.pydata.org/pandas-docs/stable/user_guide/indexing.html#returning-a-view-versus-a-copy\n"
     ]
    },
    {
     "name": "stdout",
     "output_type": "stream",
     "text": [
      "Saved time series visualization for Reddit - Topic: party  labor  time  to /Users/tnathu-ai/VSCode/Government-Digital-Transformation/assets/images/reddit_time_series_analysis_party  labor  time .png\n"
     ]
    },
    {
     "name": "stderr",
     "output_type": "stream",
     "text": [
      "<timed exec>:63: SettingWithCopyWarning: \n",
      "A value is trying to be set on a copy of a slice from a DataFrame.\n",
      "Try using .loc[row_indexer,col_indexer] = value instead\n",
      "\n",
      "See the caveats in the documentation: https://pandas.pydata.org/pandas-docs/stable/user_guide/indexing.html#returning-a-view-versus-a-copy\n"
     ]
    },
    {
     "name": "stdout",
     "output_type": "stream",
     "text": [
      "Saved time series visualization for Reddit - Topic: im  get  one  to /Users/tnathu-ai/VSCode/Government-Digital-Transformation/assets/images/reddit_time_series_analysis_im  get  one .png\n"
     ]
    },
    {
     "name": "stderr",
     "output_type": "stream",
     "text": [
      "<timed exec>:63: SettingWithCopyWarning: \n",
      "A value is trying to be set on a copy of a slice from a DataFrame.\n",
      "Try using .loc[row_indexer,col_indexer] = value instead\n",
      "\n",
      "See the caveats in the documentation: https://pandas.pydata.org/pandas-docs/stable/user_guide/indexing.html#returning-a-view-versus-a-copy\n"
     ]
    },
    {
     "name": "stdout",
     "output_type": "stream",
     "text": [
      "Saved time series visualization for Reddit - Topic: tax  australia  digital  to /Users/tnathu-ai/VSCode/Government-Digital-Transformation/assets/images/reddit_time_series_analysis_tax  australia  digital .png\n",
      "Saved sentiment analysis for Reddit to /Users/tnathu-ai/VSCode/Government-Digital-Transformation/data/intermediate/analysis/reddit_sentiment_analysis.txt\n",
      "Extracted Topic: (0, '0.013*\"ukraine\" + 0.013*\"russia\" + 0.007*\"russian\" + 0.007*\"one\" + 0.006*\"military\"')\n",
      "Extracted Topic: (1, '0.020*\"people\" + 0.013*\"dont\" + 0.009*\"im\" + 0.009*\"know\" + 0.008*\"think\"')\n",
      "Extracted Topic: (2, '0.016*\"us\" + 0.012*\"would\" + 0.010*\"china\" + 0.010*\"also\" + 0.007*\"air\"')\n",
      "Extracted Topic: (3, '0.019*\"like\" + 0.011*\"get\" + 0.011*\"women\" + 0.008*\"men\" + 0.008*\"people\"')\n",
      "Extracted Topic: (4, '0.023*\"war\" + 0.011*\"japan\" + 0.010*\"china\" + 0.009*\"us\" + 0.009*\"country\"')\n",
      "Saved topic modeling for Reddit to /Users/tnathu-ai/VSCode/Government-Digital-Transformation/data/intermediate/analysis/reddit_topic_modeling.txt\n",
      "Saved qualitative analysis for Reddit to /Users/tnathu-ai/VSCode/Government-Digital-Transformation/data/intermediate/analysis/reddit_qualitative_analysis.txt\n"
     ]
    },
    {
     "name": "stderr",
     "output_type": "stream",
     "text": [
      "<timed exec>:63: SettingWithCopyWarning: \n",
      "A value is trying to be set on a copy of a slice from a DataFrame.\n",
      "Try using .loc[row_indexer,col_indexer] = value instead\n",
      "\n",
      "See the caveats in the documentation: https://pandas.pydata.org/pandas-docs/stable/user_guide/indexing.html#returning-a-view-versus-a-copy\n"
     ]
    },
    {
     "name": "stdout",
     "output_type": "stream",
     "text": [
      "Saved time series visualization for Reddit - Topic: ukraine  russia  russian  to /Users/tnathu-ai/VSCode/Government-Digital-Transformation/assets/images/reddit_time_series_analysis_ukraine  russia  russian .png\n"
     ]
    },
    {
     "name": "stderr",
     "output_type": "stream",
     "text": [
      "<timed exec>:63: SettingWithCopyWarning: \n",
      "A value is trying to be set on a copy of a slice from a DataFrame.\n",
      "Try using .loc[row_indexer,col_indexer] = value instead\n",
      "\n",
      "See the caveats in the documentation: https://pandas.pydata.org/pandas-docs/stable/user_guide/indexing.html#returning-a-view-versus-a-copy\n"
     ]
    },
    {
     "name": "stdout",
     "output_type": "stream",
     "text": [
      "Saved time series visualization for Reddit - Topic: people  dont  im  to /Users/tnathu-ai/VSCode/Government-Digital-Transformation/assets/images/reddit_time_series_analysis_people  dont  im .png\n"
     ]
    },
    {
     "name": "stderr",
     "output_type": "stream",
     "text": [
      "<timed exec>:63: SettingWithCopyWarning: \n",
      "A value is trying to be set on a copy of a slice from a DataFrame.\n",
      "Try using .loc[row_indexer,col_indexer] = value instead\n",
      "\n",
      "See the caveats in the documentation: https://pandas.pydata.org/pandas-docs/stable/user_guide/indexing.html#returning-a-view-versus-a-copy\n"
     ]
    },
    {
     "name": "stdout",
     "output_type": "stream",
     "text": [
      "Saved time series visualization for Reddit - Topic: us  would  china  to /Users/tnathu-ai/VSCode/Government-Digital-Transformation/assets/images/reddit_time_series_analysis_us  would  china .png\n"
     ]
    },
    {
     "name": "stderr",
     "output_type": "stream",
     "text": [
      "<timed exec>:63: SettingWithCopyWarning: \n",
      "A value is trying to be set on a copy of a slice from a DataFrame.\n",
      "Try using .loc[row_indexer,col_indexer] = value instead\n",
      "\n",
      "See the caveats in the documentation: https://pandas.pydata.org/pandas-docs/stable/user_guide/indexing.html#returning-a-view-versus-a-copy\n"
     ]
    },
    {
     "name": "stdout",
     "output_type": "stream",
     "text": [
      "Saved time series visualization for Reddit - Topic: like  get  women  to /Users/tnathu-ai/VSCode/Government-Digital-Transformation/assets/images/reddit_time_series_analysis_like  get  women .png\n"
     ]
    },
    {
     "name": "stderr",
     "output_type": "stream",
     "text": [
      "<timed exec>:63: SettingWithCopyWarning: \n",
      "A value is trying to be set on a copy of a slice from a DataFrame.\n",
      "Try using .loc[row_indexer,col_indexer] = value instead\n",
      "\n",
      "See the caveats in the documentation: https://pandas.pydata.org/pandas-docs/stable/user_guide/indexing.html#returning-a-view-versus-a-copy\n"
     ]
    },
    {
     "name": "stdout",
     "output_type": "stream",
     "text": [
      "Saved time series visualization for Reddit - Topic: war  japan  china  to /Users/tnathu-ai/VSCode/Government-Digital-Transformation/assets/images/reddit_time_series_analysis_war  japan  china .png\n",
      "Saved sentiment analysis for Reddit to /Users/tnathu-ai/VSCode/Government-Digital-Transformation/data/intermediate/analysis/reddit_sentiment_analysis.txt\n",
      "Extracted Topic: (0, '0.012*\"france\" + 0.011*\"right\" + 0.010*\"new\" + 0.010*\"clay\" + 0.009*\"left\"')\n",
      "Extracted Topic: (1, '0.009*\"government\" + 0.008*\"would\" + 0.007*\"use\" + 0.005*\"also\" + 0.005*\"make\"')\n",
      "Extracted Topic: (2, '0.012*\"australia\" + 0.008*\"like\" + 0.007*\"one\" + 0.007*\"get\" + 0.006*\"years\"')\n",
      "Extracted Topic: (3, '0.012*\"people\" + 0.010*\"map\" + 0.010*\"british\" + 0.007*\"australia\" + 0.007*\"part\"')\n",
      "Extracted Topic: (4, '0.017*\"like\" + 0.016*\"im\" + 0.015*\"dont\" + 0.011*\"people\" + 0.011*\"know\"')\n",
      "Saved topic modeling for Reddit to /Users/tnathu-ai/VSCode/Government-Digital-Transformation/data/intermediate/analysis/reddit_topic_modeling.txt\n",
      "Saved qualitative analysis for Reddit to /Users/tnathu-ai/VSCode/Government-Digital-Transformation/data/intermediate/analysis/reddit_qualitative_analysis.txt\n"
     ]
    },
    {
     "name": "stderr",
     "output_type": "stream",
     "text": [
      "<timed exec>:63: SettingWithCopyWarning: \n",
      "A value is trying to be set on a copy of a slice from a DataFrame.\n",
      "Try using .loc[row_indexer,col_indexer] = value instead\n",
      "\n",
      "See the caveats in the documentation: https://pandas.pydata.org/pandas-docs/stable/user_guide/indexing.html#returning-a-view-versus-a-copy\n"
     ]
    },
    {
     "name": "stdout",
     "output_type": "stream",
     "text": [
      "Saved time series visualization for Reddit - Topic: france  right  new  to /Users/tnathu-ai/VSCode/Government-Digital-Transformation/assets/images/reddit_time_series_analysis_france  right  new .png\n"
     ]
    },
    {
     "name": "stderr",
     "output_type": "stream",
     "text": [
      "<timed exec>:63: SettingWithCopyWarning: \n",
      "A value is trying to be set on a copy of a slice from a DataFrame.\n",
      "Try using .loc[row_indexer,col_indexer] = value instead\n",
      "\n",
      "See the caveats in the documentation: https://pandas.pydata.org/pandas-docs/stable/user_guide/indexing.html#returning-a-view-versus-a-copy\n"
     ]
    },
    {
     "name": "stdout",
     "output_type": "stream",
     "text": [
      "Saved time series visualization for Reddit - Topic: government  would  use  to /Users/tnathu-ai/VSCode/Government-Digital-Transformation/assets/images/reddit_time_series_analysis_government  would  use .png\n"
     ]
    },
    {
     "name": "stderr",
     "output_type": "stream",
     "text": [
      "<timed exec>:63: SettingWithCopyWarning: \n",
      "A value is trying to be set on a copy of a slice from a DataFrame.\n",
      "Try using .loc[row_indexer,col_indexer] = value instead\n",
      "\n",
      "See the caveats in the documentation: https://pandas.pydata.org/pandas-docs/stable/user_guide/indexing.html#returning-a-view-versus-a-copy\n"
     ]
    },
    {
     "name": "stdout",
     "output_type": "stream",
     "text": [
      "Saved time series visualization for Reddit - Topic: australia  like  one  to /Users/tnathu-ai/VSCode/Government-Digital-Transformation/assets/images/reddit_time_series_analysis_australia  like  one .png\n"
     ]
    },
    {
     "name": "stderr",
     "output_type": "stream",
     "text": [
      "<timed exec>:63: SettingWithCopyWarning: \n",
      "A value is trying to be set on a copy of a slice from a DataFrame.\n",
      "Try using .loc[row_indexer,col_indexer] = value instead\n",
      "\n",
      "See the caveats in the documentation: https://pandas.pydata.org/pandas-docs/stable/user_guide/indexing.html#returning-a-view-versus-a-copy\n"
     ]
    },
    {
     "name": "stdout",
     "output_type": "stream",
     "text": [
      "Saved time series visualization for Reddit - Topic: people  map  british  to /Users/tnathu-ai/VSCode/Government-Digital-Transformation/assets/images/reddit_time_series_analysis_people  map  british .png\n"
     ]
    },
    {
     "name": "stderr",
     "output_type": "stream",
     "text": [
      "<timed exec>:63: SettingWithCopyWarning: \n",
      "A value is trying to be set on a copy of a slice from a DataFrame.\n",
      "Try using .loc[row_indexer,col_indexer] = value instead\n",
      "\n",
      "See the caveats in the documentation: https://pandas.pydata.org/pandas-docs/stable/user_guide/indexing.html#returning-a-view-versus-a-copy\n"
     ]
    },
    {
     "name": "stdout",
     "output_type": "stream",
     "text": [
      "Saved time series visualization for Reddit - Topic: like  im  dont  to /Users/tnathu-ai/VSCode/Government-Digital-Transformation/assets/images/reddit_time_series_analysis_like  im  dont .png\n",
      "Saved sentiment analysis for Reddit to /Users/tnathu-ai/VSCode/Government-Digital-Transformation/data/intermediate/analysis/reddit_sentiment_analysis.txt\n",
      "Extracted Topic: (0, '0.010*\"money\" + 0.009*\"people\" + 0.008*\"get\" + 0.007*\"pay\" + 0.007*\"years\"')\n",
      "Extracted Topic: (1, '0.017*\"im\" + 0.016*\"like\" + 0.015*\"dont\" + 0.014*\"get\" + 0.013*\"people\"')\n",
      "Extracted Topic: (2, '0.018*\"people\" + 0.011*\"government\" + 0.008*\"would\" + 0.008*\"dont\" + 0.007*\"think\"')\n",
      "Extracted Topic: (3, '0.016*\"australia\" + 0.015*\"us\" + 0.014*\"country\" + 0.013*\"party\" + 0.012*\"china\"')\n",
      "Extracted Topic: (4, '0.017*\"like\" + 0.015*\"app\" + 0.008*\"chinese\" + 0.008*\"would\" + 0.007*\"industry\"')\n",
      "Saved topic modeling for Reddit to /Users/tnathu-ai/VSCode/Government-Digital-Transformation/data/intermediate/analysis/reddit_topic_modeling.txt\n",
      "Saved qualitative analysis for Reddit to /Users/tnathu-ai/VSCode/Government-Digital-Transformation/data/intermediate/analysis/reddit_qualitative_analysis.txt\n"
     ]
    },
    {
     "name": "stderr",
     "output_type": "stream",
     "text": [
      "<timed exec>:63: SettingWithCopyWarning: \n",
      "A value is trying to be set on a copy of a slice from a DataFrame.\n",
      "Try using .loc[row_indexer,col_indexer] = value instead\n",
      "\n",
      "See the caveats in the documentation: https://pandas.pydata.org/pandas-docs/stable/user_guide/indexing.html#returning-a-view-versus-a-copy\n"
     ]
    },
    {
     "name": "stdout",
     "output_type": "stream",
     "text": [
      "Saved time series visualization for Reddit - Topic: money  people  get  to /Users/tnathu-ai/VSCode/Government-Digital-Transformation/assets/images/reddit_time_series_analysis_money  people  get .png\n"
     ]
    },
    {
     "name": "stderr",
     "output_type": "stream",
     "text": [
      "<timed exec>:63: SettingWithCopyWarning: \n",
      "A value is trying to be set on a copy of a slice from a DataFrame.\n",
      "Try using .loc[row_indexer,col_indexer] = value instead\n",
      "\n",
      "See the caveats in the documentation: https://pandas.pydata.org/pandas-docs/stable/user_guide/indexing.html#returning-a-view-versus-a-copy\n"
     ]
    },
    {
     "name": "stdout",
     "output_type": "stream",
     "text": [
      "Saved time series visualization for Reddit - Topic: im  like  dont  to /Users/tnathu-ai/VSCode/Government-Digital-Transformation/assets/images/reddit_time_series_analysis_im  like  dont .png\n"
     ]
    },
    {
     "name": "stderr",
     "output_type": "stream",
     "text": [
      "<timed exec>:63: SettingWithCopyWarning: \n",
      "A value is trying to be set on a copy of a slice from a DataFrame.\n",
      "Try using .loc[row_indexer,col_indexer] = value instead\n",
      "\n",
      "See the caveats in the documentation: https://pandas.pydata.org/pandas-docs/stable/user_guide/indexing.html#returning-a-view-versus-a-copy\n"
     ]
    },
    {
     "name": "stdout",
     "output_type": "stream",
     "text": [
      "Saved time series visualization for Reddit - Topic: people  government  would  to /Users/tnathu-ai/VSCode/Government-Digital-Transformation/assets/images/reddit_time_series_analysis_people  government  would .png\n"
     ]
    },
    {
     "name": "stderr",
     "output_type": "stream",
     "text": [
      "<timed exec>:63: SettingWithCopyWarning: \n",
      "A value is trying to be set on a copy of a slice from a DataFrame.\n",
      "Try using .loc[row_indexer,col_indexer] = value instead\n",
      "\n",
      "See the caveats in the documentation: https://pandas.pydata.org/pandas-docs/stable/user_guide/indexing.html#returning-a-view-versus-a-copy\n"
     ]
    },
    {
     "name": "stdout",
     "output_type": "stream",
     "text": [
      "Saved time series visualization for Reddit - Topic: australia  us  country  to /Users/tnathu-ai/VSCode/Government-Digital-Transformation/assets/images/reddit_time_series_analysis_australia  us  country .png\n"
     ]
    },
    {
     "name": "stderr",
     "output_type": "stream",
     "text": [
      "<timed exec>:63: SettingWithCopyWarning: \n",
      "A value is trying to be set on a copy of a slice from a DataFrame.\n",
      "Try using .loc[row_indexer,col_indexer] = value instead\n",
      "\n",
      "See the caveats in the documentation: https://pandas.pydata.org/pandas-docs/stable/user_guide/indexing.html#returning-a-view-versus-a-copy\n"
     ]
    },
    {
     "name": "stdout",
     "output_type": "stream",
     "text": [
      "Saved time series visualization for Reddit - Topic: like  app  chinese  to /Users/tnathu-ai/VSCode/Government-Digital-Transformation/assets/images/reddit_time_series_analysis_like  app  chinese .png\n",
      "Saved sentiment analysis for Reddit to /Users/tnathu-ai/VSCode/Government-Digital-Transformation/data/intermediate/analysis/reddit_sentiment_analysis.txt\n",
      "Extracted Topic: (0, '0.015*\"government\" + 0.015*\"us\" + 0.013*\"china\" + 0.013*\"country\" + 0.010*\"people\"')\n",
      "Extracted Topic: (1, '0.018*\"years\" + 0.009*\"year\" + 0.009*\"change\" + 0.008*\"tax\" + 0.006*\"last\"')\n",
      "Extracted Topic: (2, '0.022*\"people\" + 0.021*\"dont\" + 0.019*\"get\" + 0.014*\"like\" + 0.010*\"im\"')\n",
      "Extracted Topic: (3, '0.014*\"car\" + 0.012*\"cars\" + 0.008*\"people\" + 0.007*\"money\" + 0.007*\"government\"')\n",
      "Extracted Topic: (4, '0.008*\"one\" + 0.008*\"like\" + 0.007*\"people\" + 0.006*\"us\" + 0.005*\"even\"')\n",
      "Saved topic modeling for Reddit to /Users/tnathu-ai/VSCode/Government-Digital-Transformation/data/intermediate/analysis/reddit_topic_modeling.txt\n",
      "Saved qualitative analysis for Reddit to /Users/tnathu-ai/VSCode/Government-Digital-Transformation/data/intermediate/analysis/reddit_qualitative_analysis.txt\n"
     ]
    },
    {
     "name": "stderr",
     "output_type": "stream",
     "text": [
      "<timed exec>:63: SettingWithCopyWarning: \n",
      "A value is trying to be set on a copy of a slice from a DataFrame.\n",
      "Try using .loc[row_indexer,col_indexer] = value instead\n",
      "\n",
      "See the caveats in the documentation: https://pandas.pydata.org/pandas-docs/stable/user_guide/indexing.html#returning-a-view-versus-a-copy\n"
     ]
    },
    {
     "name": "stdout",
     "output_type": "stream",
     "text": [
      "Saved time series visualization for Reddit - Topic: government  us  china  to /Users/tnathu-ai/VSCode/Government-Digital-Transformation/assets/images/reddit_time_series_analysis_government  us  china .png\n"
     ]
    },
    {
     "name": "stderr",
     "output_type": "stream",
     "text": [
      "<timed exec>:63: SettingWithCopyWarning: \n",
      "A value is trying to be set on a copy of a slice from a DataFrame.\n",
      "Try using .loc[row_indexer,col_indexer] = value instead\n",
      "\n",
      "See the caveats in the documentation: https://pandas.pydata.org/pandas-docs/stable/user_guide/indexing.html#returning-a-view-versus-a-copy\n"
     ]
    },
    {
     "name": "stdout",
     "output_type": "stream",
     "text": [
      "Saved time series visualization for Reddit - Topic: years  year  change  to /Users/tnathu-ai/VSCode/Government-Digital-Transformation/assets/images/reddit_time_series_analysis_years  year  change .png\n"
     ]
    },
    {
     "name": "stderr",
     "output_type": "stream",
     "text": [
      "<timed exec>:63: SettingWithCopyWarning: \n",
      "A value is trying to be set on a copy of a slice from a DataFrame.\n",
      "Try using .loc[row_indexer,col_indexer] = value instead\n",
      "\n",
      "See the caveats in the documentation: https://pandas.pydata.org/pandas-docs/stable/user_guide/indexing.html#returning-a-view-versus-a-copy\n"
     ]
    },
    {
     "name": "stdout",
     "output_type": "stream",
     "text": [
      "Saved time series visualization for Reddit - Topic: people  dont  get  to /Users/tnathu-ai/VSCode/Government-Digital-Transformation/assets/images/reddit_time_series_analysis_people  dont  get .png\n"
     ]
    },
    {
     "name": "stderr",
     "output_type": "stream",
     "text": [
      "<timed exec>:63: SettingWithCopyWarning: \n",
      "A value is trying to be set on a copy of a slice from a DataFrame.\n",
      "Try using .loc[row_indexer,col_indexer] = value instead\n",
      "\n",
      "See the caveats in the documentation: https://pandas.pydata.org/pandas-docs/stable/user_guide/indexing.html#returning-a-view-versus-a-copy\n"
     ]
    },
    {
     "name": "stdout",
     "output_type": "stream",
     "text": [
      "Saved time series visualization for Reddit - Topic: car  cars  people  to /Users/tnathu-ai/VSCode/Government-Digital-Transformation/assets/images/reddit_time_series_analysis_car  cars  people .png\n"
     ]
    },
    {
     "name": "stderr",
     "output_type": "stream",
     "text": [
      "<timed exec>:63: SettingWithCopyWarning: \n",
      "A value is trying to be set on a copy of a slice from a DataFrame.\n",
      "Try using .loc[row_indexer,col_indexer] = value instead\n",
      "\n",
      "See the caveats in the documentation: https://pandas.pydata.org/pandas-docs/stable/user_guide/indexing.html#returning-a-view-versus-a-copy\n"
     ]
    },
    {
     "name": "stdout",
     "output_type": "stream",
     "text": [
      "Saved time series visualization for Reddit - Topic: one  like  people  to /Users/tnathu-ai/VSCode/Government-Digital-Transformation/assets/images/reddit_time_series_analysis_one  like  people .png\n",
      "Saved sentiment analysis for Reddit to /Users/tnathu-ai/VSCode/Government-Digital-Transformation/data/intermediate/analysis/reddit_sentiment_analysis.txt\n",
      "Extracted Topic: (0, '0.016*\"id\" + 0.011*\"use\" + 0.010*\"digital\" + 0.009*\"identity\" + 0.008*\"government\"')\n",
      "Extracted Topic: (1, '0.012*\"people\" + 0.009*\"child\" + 0.008*\"aboriginal\" + 0.007*\"children\" + 0.006*\"australia\"')\n",
      "Extracted Topic: (2, '0.016*\"cards\" + 0.012*\"like\" + 0.011*\"play\" + 0.011*\"arena\" + 0.011*\"magic\"')\n",
      "Extracted Topic: (3, '0.015*\"dont\" + 0.013*\"like\" + 0.011*\"people\" + 0.010*\"im\" + 0.009*\"know\"')\n",
      "Extracted Topic: (4, '0.017*\"game\" + 0.016*\"people\" + 0.010*\"youre\" + 0.009*\"free\" + 0.007*\"like\"')\n",
      "Saved topic modeling for Reddit to /Users/tnathu-ai/VSCode/Government-Digital-Transformation/data/intermediate/analysis/reddit_topic_modeling.txt\n",
      "Saved qualitative analysis for Reddit to /Users/tnathu-ai/VSCode/Government-Digital-Transformation/data/intermediate/analysis/reddit_qualitative_analysis.txt\n"
     ]
    },
    {
     "name": "stderr",
     "output_type": "stream",
     "text": [
      "<timed exec>:63: SettingWithCopyWarning: \n",
      "A value is trying to be set on a copy of a slice from a DataFrame.\n",
      "Try using .loc[row_indexer,col_indexer] = value instead\n",
      "\n",
      "See the caveats in the documentation: https://pandas.pydata.org/pandas-docs/stable/user_guide/indexing.html#returning-a-view-versus-a-copy\n"
     ]
    },
    {
     "name": "stdout",
     "output_type": "stream",
     "text": [
      "Saved time series visualization for Reddit - Topic: id  use  digital  to /Users/tnathu-ai/VSCode/Government-Digital-Transformation/assets/images/reddit_time_series_analysis_id  use  digital .png\n"
     ]
    },
    {
     "name": "stderr",
     "output_type": "stream",
     "text": [
      "<timed exec>:63: SettingWithCopyWarning: \n",
      "A value is trying to be set on a copy of a slice from a DataFrame.\n",
      "Try using .loc[row_indexer,col_indexer] = value instead\n",
      "\n",
      "See the caveats in the documentation: https://pandas.pydata.org/pandas-docs/stable/user_guide/indexing.html#returning-a-view-versus-a-copy\n"
     ]
    },
    {
     "name": "stdout",
     "output_type": "stream",
     "text": [
      "Saved time series visualization for Reddit - Topic: people  child  aboriginal  to /Users/tnathu-ai/VSCode/Government-Digital-Transformation/assets/images/reddit_time_series_analysis_people  child  aboriginal .png\n"
     ]
    },
    {
     "name": "stderr",
     "output_type": "stream",
     "text": [
      "<timed exec>:63: SettingWithCopyWarning: \n",
      "A value is trying to be set on a copy of a slice from a DataFrame.\n",
      "Try using .loc[row_indexer,col_indexer] = value instead\n",
      "\n",
      "See the caveats in the documentation: https://pandas.pydata.org/pandas-docs/stable/user_guide/indexing.html#returning-a-view-versus-a-copy\n"
     ]
    },
    {
     "name": "stdout",
     "output_type": "stream",
     "text": [
      "Saved time series visualization for Reddit - Topic: cards  like  play  to /Users/tnathu-ai/VSCode/Government-Digital-Transformation/assets/images/reddit_time_series_analysis_cards  like  play .png\n"
     ]
    },
    {
     "name": "stderr",
     "output_type": "stream",
     "text": [
      "<timed exec>:63: SettingWithCopyWarning: \n",
      "A value is trying to be set on a copy of a slice from a DataFrame.\n",
      "Try using .loc[row_indexer,col_indexer] = value instead\n",
      "\n",
      "See the caveats in the documentation: https://pandas.pydata.org/pandas-docs/stable/user_guide/indexing.html#returning-a-view-versus-a-copy\n"
     ]
    },
    {
     "name": "stdout",
     "output_type": "stream",
     "text": [
      "Saved time series visualization for Reddit - Topic: dont  like  people  to /Users/tnathu-ai/VSCode/Government-Digital-Transformation/assets/images/reddit_time_series_analysis_dont  like  people .png\n"
     ]
    },
    {
     "name": "stderr",
     "output_type": "stream",
     "text": [
      "<timed exec>:63: SettingWithCopyWarning: \n",
      "A value is trying to be set on a copy of a slice from a DataFrame.\n",
      "Try using .loc[row_indexer,col_indexer] = value instead\n",
      "\n",
      "See the caveats in the documentation: https://pandas.pydata.org/pandas-docs/stable/user_guide/indexing.html#returning-a-view-versus-a-copy\n"
     ]
    },
    {
     "name": "stdout",
     "output_type": "stream",
     "text": [
      "Saved time series visualization for Reddit - Topic: game  people  youre  to /Users/tnathu-ai/VSCode/Government-Digital-Transformation/assets/images/reddit_time_series_analysis_game  people  youre .png\n",
      "Saved sentiment analysis for Reddit to /Users/tnathu-ai/VSCode/Government-Digital-Transformation/data/intermediate/analysis/reddit_sentiment_analysis.txt\n",
      "Extracted Topic: (0, '0.012*\"would\" + 0.012*\"ip\" + 0.009*\"make\" + 0.007*\"property\" + 0.007*\"work\"')\n",
      "Extracted Topic: (1, '0.013*\"people\" + 0.007*\"property\" + 0.007*\"get\" + 0.007*\"would\" + 0.007*\"house\"')\n",
      "Extracted Topic: (2, '0.009*\"like\" + 0.007*\"im\" + 0.007*\"would\" + 0.007*\"someone\" + 0.007*\"dont\"')\n",
      "Extracted Topic: (3, '0.016*\"like\" + 0.013*\"people\" + 0.012*\"dont\" + 0.009*\"im\" + 0.008*\"get\"')\n",
      "Extracted Topic: (4, '0.019*\"us\" + 0.008*\"china\" + 0.006*\"country\" + 0.006*\"trade\" + 0.005*\"countries\"')\n",
      "Saved topic modeling for Reddit to /Users/tnathu-ai/VSCode/Government-Digital-Transformation/data/intermediate/analysis/reddit_topic_modeling.txt\n",
      "Saved qualitative analysis for Reddit to /Users/tnathu-ai/VSCode/Government-Digital-Transformation/data/intermediate/analysis/reddit_qualitative_analysis.txt\n"
     ]
    },
    {
     "name": "stderr",
     "output_type": "stream",
     "text": [
      "<timed exec>:63: SettingWithCopyWarning: \n",
      "A value is trying to be set on a copy of a slice from a DataFrame.\n",
      "Try using .loc[row_indexer,col_indexer] = value instead\n",
      "\n",
      "See the caveats in the documentation: https://pandas.pydata.org/pandas-docs/stable/user_guide/indexing.html#returning-a-view-versus-a-copy\n"
     ]
    },
    {
     "name": "stdout",
     "output_type": "stream",
     "text": [
      "Saved time series visualization for Reddit - Topic: would  ip  make  to /Users/tnathu-ai/VSCode/Government-Digital-Transformation/assets/images/reddit_time_series_analysis_would  ip  make .png\n"
     ]
    },
    {
     "name": "stderr",
     "output_type": "stream",
     "text": [
      "<timed exec>:63: SettingWithCopyWarning: \n",
      "A value is trying to be set on a copy of a slice from a DataFrame.\n",
      "Try using .loc[row_indexer,col_indexer] = value instead\n",
      "\n",
      "See the caveats in the documentation: https://pandas.pydata.org/pandas-docs/stable/user_guide/indexing.html#returning-a-view-versus-a-copy\n"
     ]
    },
    {
     "name": "stdout",
     "output_type": "stream",
     "text": [
      "Saved time series visualization for Reddit - Topic: people  property  get  to /Users/tnathu-ai/VSCode/Government-Digital-Transformation/assets/images/reddit_time_series_analysis_people  property  get .png\n"
     ]
    },
    {
     "name": "stderr",
     "output_type": "stream",
     "text": [
      "<timed exec>:63: SettingWithCopyWarning: \n",
      "A value is trying to be set on a copy of a slice from a DataFrame.\n",
      "Try using .loc[row_indexer,col_indexer] = value instead\n",
      "\n",
      "See the caveats in the documentation: https://pandas.pydata.org/pandas-docs/stable/user_guide/indexing.html#returning-a-view-versus-a-copy\n"
     ]
    },
    {
     "name": "stdout",
     "output_type": "stream",
     "text": [
      "Saved time series visualization for Reddit - Topic: like  im  would  to /Users/tnathu-ai/VSCode/Government-Digital-Transformation/assets/images/reddit_time_series_analysis_like  im  would .png\n"
     ]
    },
    {
     "name": "stderr",
     "output_type": "stream",
     "text": [
      "<timed exec>:63: SettingWithCopyWarning: \n",
      "A value is trying to be set on a copy of a slice from a DataFrame.\n",
      "Try using .loc[row_indexer,col_indexer] = value instead\n",
      "\n",
      "See the caveats in the documentation: https://pandas.pydata.org/pandas-docs/stable/user_guide/indexing.html#returning-a-view-versus-a-copy\n"
     ]
    },
    {
     "name": "stdout",
     "output_type": "stream",
     "text": [
      "Saved time series visualization for Reddit - Topic: like  people  dont  to /Users/tnathu-ai/VSCode/Government-Digital-Transformation/assets/images/reddit_time_series_analysis_like  people  dont .png\n"
     ]
    },
    {
     "name": "stderr",
     "output_type": "stream",
     "text": [
      "<timed exec>:63: SettingWithCopyWarning: \n",
      "A value is trying to be set on a copy of a slice from a DataFrame.\n",
      "Try using .loc[row_indexer,col_indexer] = value instead\n",
      "\n",
      "See the caveats in the documentation: https://pandas.pydata.org/pandas-docs/stable/user_guide/indexing.html#returning-a-view-versus-a-copy\n"
     ]
    },
    {
     "name": "stdout",
     "output_type": "stream",
     "text": [
      "Saved time series visualization for Reddit - Topic: us  china  country  to /Users/tnathu-ai/VSCode/Government-Digital-Transformation/assets/images/reddit_time_series_analysis_us  china  country .png\n",
      "Saved sentiment analysis for Reddit to /Users/tnathu-ai/VSCode/Government-Digital-Transformation/data/intermediate/analysis/reddit_sentiment_analysis.txt\n",
      "Extracted Topic: (0, '0.025*\"trump\" + 0.021*\"government\" + 0.013*\"party\" + 0.010*\"iran\" + 0.008*\"state\"')\n",
      "Extracted Topic: (1, '0.013*\"people\" + 0.012*\"get\" + 0.011*\"years\" + 0.010*\"money\" + 0.009*\"election\"')\n",
      "Extracted Topic: (2, '0.012*\"data\" + 0.009*\"government\" + 0.008*\"use\" + 0.007*\"information\" + 0.006*\"would\"')\n",
      "Extracted Topic: (3, '0.036*\"us\" + 0.020*\"country\" + 0.016*\"australia\" + 0.015*\"china\" + 0.015*\"world\"')\n",
      "Extracted Topic: (4, '0.024*\"people\" + 0.019*\"dont\" + 0.017*\"like\" + 0.013*\"think\" + 0.012*\"im\"')\n",
      "Saved topic modeling for Reddit to /Users/tnathu-ai/VSCode/Government-Digital-Transformation/data/intermediate/analysis/reddit_topic_modeling.txt\n",
      "Saved qualitative analysis for Reddit to /Users/tnathu-ai/VSCode/Government-Digital-Transformation/data/intermediate/analysis/reddit_qualitative_analysis.txt\n"
     ]
    },
    {
     "name": "stderr",
     "output_type": "stream",
     "text": [
      "<timed exec>:63: SettingWithCopyWarning: \n",
      "A value is trying to be set on a copy of a slice from a DataFrame.\n",
      "Try using .loc[row_indexer,col_indexer] = value instead\n",
      "\n",
      "See the caveats in the documentation: https://pandas.pydata.org/pandas-docs/stable/user_guide/indexing.html#returning-a-view-versus-a-copy\n"
     ]
    },
    {
     "name": "stdout",
     "output_type": "stream",
     "text": [
      "Saved time series visualization for Reddit - Topic: trump  government  party  to /Users/tnathu-ai/VSCode/Government-Digital-Transformation/assets/images/reddit_time_series_analysis_trump  government  party .png\n"
     ]
    },
    {
     "name": "stderr",
     "output_type": "stream",
     "text": [
      "<timed exec>:63: SettingWithCopyWarning: \n",
      "A value is trying to be set on a copy of a slice from a DataFrame.\n",
      "Try using .loc[row_indexer,col_indexer] = value instead\n",
      "\n",
      "See the caveats in the documentation: https://pandas.pydata.org/pandas-docs/stable/user_guide/indexing.html#returning-a-view-versus-a-copy\n"
     ]
    },
    {
     "name": "stdout",
     "output_type": "stream",
     "text": [
      "Saved time series visualization for Reddit - Topic: people  get  years  to /Users/tnathu-ai/VSCode/Government-Digital-Transformation/assets/images/reddit_time_series_analysis_people  get  years .png\n"
     ]
    },
    {
     "name": "stderr",
     "output_type": "stream",
     "text": [
      "<timed exec>:63: SettingWithCopyWarning: \n",
      "A value is trying to be set on a copy of a slice from a DataFrame.\n",
      "Try using .loc[row_indexer,col_indexer] = value instead\n",
      "\n",
      "See the caveats in the documentation: https://pandas.pydata.org/pandas-docs/stable/user_guide/indexing.html#returning-a-view-versus-a-copy\n"
     ]
    },
    {
     "name": "stdout",
     "output_type": "stream",
     "text": [
      "Saved time series visualization for Reddit - Topic: data  government  use  to /Users/tnathu-ai/VSCode/Government-Digital-Transformation/assets/images/reddit_time_series_analysis_data  government  use .png\n"
     ]
    },
    {
     "name": "stderr",
     "output_type": "stream",
     "text": [
      "<timed exec>:63: SettingWithCopyWarning: \n",
      "A value is trying to be set on a copy of a slice from a DataFrame.\n",
      "Try using .loc[row_indexer,col_indexer] = value instead\n",
      "\n",
      "See the caveats in the documentation: https://pandas.pydata.org/pandas-docs/stable/user_guide/indexing.html#returning-a-view-versus-a-copy\n"
     ]
    },
    {
     "name": "stdout",
     "output_type": "stream",
     "text": [
      "Saved time series visualization for Reddit - Topic: us  country  australia  to /Users/tnathu-ai/VSCode/Government-Digital-Transformation/assets/images/reddit_time_series_analysis_us  country  australia .png\n"
     ]
    },
    {
     "name": "stderr",
     "output_type": "stream",
     "text": [
      "<timed exec>:63: SettingWithCopyWarning: \n",
      "A value is trying to be set on a copy of a slice from a DataFrame.\n",
      "Try using .loc[row_indexer,col_indexer] = value instead\n",
      "\n",
      "See the caveats in the documentation: https://pandas.pydata.org/pandas-docs/stable/user_guide/indexing.html#returning-a-view-versus-a-copy\n"
     ]
    },
    {
     "name": "stdout",
     "output_type": "stream",
     "text": [
      "Saved time series visualization for Reddit - Topic: people  dont  like  to /Users/tnathu-ai/VSCode/Government-Digital-Transformation/assets/images/reddit_time_series_analysis_people  dont  like .png\n",
      "Saved sentiment analysis for Reddit to /Users/tnathu-ai/VSCode/Government-Digital-Transformation/data/intermediate/analysis/reddit_sentiment_analysis.txt\n",
      "Extracted Topic: (0, '0.011*\"government\" + 0.009*\"would\" + 0.009*\"law\" + 0.008*\"people\" + 0.007*\"insurance\"')\n",
      "Extracted Topic: (1, '0.022*\"people\" + 0.018*\"like\" + 0.017*\"dont\" + 0.014*\"im\" + 0.011*\"think\"')\n",
      "Extracted Topic: (2, '0.017*\"cop\" + 0.013*\"officers\" + 0.011*\"people\" + 0.010*\"white\" + 0.009*\"one\"')\n",
      "Extracted Topic: (3, '0.051*\"police\" + 0.021*\"cops\" + 0.013*\"house\" + 0.013*\"get\" + 0.009*\"like\"')\n",
      "Extracted Topic: (4, '0.013*\"years\" + 0.010*\"hes\" + 0.010*\"us\" + 0.010*\"time\" + 0.009*\"fucking\"')\n",
      "Saved topic modeling for Reddit to /Users/tnathu-ai/VSCode/Government-Digital-Transformation/data/intermediate/analysis/reddit_topic_modeling.txt\n",
      "Saved qualitative analysis for Reddit to /Users/tnathu-ai/VSCode/Government-Digital-Transformation/data/intermediate/analysis/reddit_qualitative_analysis.txt\n"
     ]
    },
    {
     "name": "stderr",
     "output_type": "stream",
     "text": [
      "<timed exec>:63: SettingWithCopyWarning: \n",
      "A value is trying to be set on a copy of a slice from a DataFrame.\n",
      "Try using .loc[row_indexer,col_indexer] = value instead\n",
      "\n",
      "See the caveats in the documentation: https://pandas.pydata.org/pandas-docs/stable/user_guide/indexing.html#returning-a-view-versus-a-copy\n"
     ]
    },
    {
     "name": "stdout",
     "output_type": "stream",
     "text": [
      "Saved time series visualization for Reddit - Topic: government  would  law  to /Users/tnathu-ai/VSCode/Government-Digital-Transformation/assets/images/reddit_time_series_analysis_government  would  law .png\n"
     ]
    },
    {
     "name": "stderr",
     "output_type": "stream",
     "text": [
      "<timed exec>:63: SettingWithCopyWarning: \n",
      "A value is trying to be set on a copy of a slice from a DataFrame.\n",
      "Try using .loc[row_indexer,col_indexer] = value instead\n",
      "\n",
      "See the caveats in the documentation: https://pandas.pydata.org/pandas-docs/stable/user_guide/indexing.html#returning-a-view-versus-a-copy\n"
     ]
    },
    {
     "name": "stdout",
     "output_type": "stream",
     "text": [
      "Saved time series visualization for Reddit - Topic: people  like  dont  to /Users/tnathu-ai/VSCode/Government-Digital-Transformation/assets/images/reddit_time_series_analysis_people  like  dont .png\n"
     ]
    },
    {
     "name": "stderr",
     "output_type": "stream",
     "text": [
      "<timed exec>:63: SettingWithCopyWarning: \n",
      "A value is trying to be set on a copy of a slice from a DataFrame.\n",
      "Try using .loc[row_indexer,col_indexer] = value instead\n",
      "\n",
      "See the caveats in the documentation: https://pandas.pydata.org/pandas-docs/stable/user_guide/indexing.html#returning-a-view-versus-a-copy\n"
     ]
    },
    {
     "name": "stdout",
     "output_type": "stream",
     "text": [
      "Saved time series visualization for Reddit - Topic: cop  officers  people  to /Users/tnathu-ai/VSCode/Government-Digital-Transformation/assets/images/reddit_time_series_analysis_cop  officers  people .png\n"
     ]
    },
    {
     "name": "stderr",
     "output_type": "stream",
     "text": [
      "<timed exec>:63: SettingWithCopyWarning: \n",
      "A value is trying to be set on a copy of a slice from a DataFrame.\n",
      "Try using .loc[row_indexer,col_indexer] = value instead\n",
      "\n",
      "See the caveats in the documentation: https://pandas.pydata.org/pandas-docs/stable/user_guide/indexing.html#returning-a-view-versus-a-copy\n"
     ]
    },
    {
     "name": "stdout",
     "output_type": "stream",
     "text": [
      "Saved time series visualization for Reddit - Topic: police  cops  house  to /Users/tnathu-ai/VSCode/Government-Digital-Transformation/assets/images/reddit_time_series_analysis_police  cops  house .png\n"
     ]
    },
    {
     "name": "stderr",
     "output_type": "stream",
     "text": [
      "<timed exec>:63: SettingWithCopyWarning: \n",
      "A value is trying to be set on a copy of a slice from a DataFrame.\n",
      "Try using .loc[row_indexer,col_indexer] = value instead\n",
      "\n",
      "See the caveats in the documentation: https://pandas.pydata.org/pandas-docs/stable/user_guide/indexing.html#returning-a-view-versus-a-copy\n"
     ]
    },
    {
     "name": "stdout",
     "output_type": "stream",
     "text": [
      "Saved time series visualization for Reddit - Topic: years  hes  us  to /Users/tnathu-ai/VSCode/Government-Digital-Transformation/assets/images/reddit_time_series_analysis_years  hes  us .png\n",
      "Saved sentiment analysis for Reddit to /Users/tnathu-ai/VSCode/Government-Digital-Transformation/data/intermediate/analysis/reddit_sentiment_analysis.txt\n",
      "Extracted Topic: (0, '0.024*\"people\" + 0.014*\"dont\" + 0.009*\"get\" + 0.009*\"like\" + 0.009*\"even\"')\n",
      "Extracted Topic: (1, '0.005*\"im\" + 0.005*\"also\" + 0.004*\"good\" + 0.004*\"thanks\" + 0.004*\"comment\"')\n",
      "Extracted Topic: (2, '0.011*\"sea\" + 0.011*\"fish\" + 0.009*\"turtles\" + 0.007*\"turtle\" + 0.007*\"like\"')\n",
      "Extracted Topic: (3, '0.014*\"like\" + 0.012*\"one\" + 0.011*\"would\" + 0.010*\"get\" + 0.009*\"back\"')\n",
      "Extracted Topic: (4, '0.024*\"money\" + 0.008*\"gold\" + 0.008*\"buy\" + 0.008*\"would\" + 0.006*\"inflation\"')\n",
      "Saved topic modeling for Reddit to /Users/tnathu-ai/VSCode/Government-Digital-Transformation/data/intermediate/analysis/reddit_topic_modeling.txt\n",
      "Saved qualitative analysis for Reddit to /Users/tnathu-ai/VSCode/Government-Digital-Transformation/data/intermediate/analysis/reddit_qualitative_analysis.txt\n"
     ]
    },
    {
     "name": "stderr",
     "output_type": "stream",
     "text": [
      "<timed exec>:63: SettingWithCopyWarning: \n",
      "A value is trying to be set on a copy of a slice from a DataFrame.\n",
      "Try using .loc[row_indexer,col_indexer] = value instead\n",
      "\n",
      "See the caveats in the documentation: https://pandas.pydata.org/pandas-docs/stable/user_guide/indexing.html#returning-a-view-versus-a-copy\n"
     ]
    },
    {
     "name": "stdout",
     "output_type": "stream",
     "text": [
      "Saved time series visualization for Reddit - Topic: people  dont  get  to /Users/tnathu-ai/VSCode/Government-Digital-Transformation/assets/images/reddit_time_series_analysis_people  dont  get .png\n"
     ]
    },
    {
     "name": "stderr",
     "output_type": "stream",
     "text": [
      "<timed exec>:63: SettingWithCopyWarning: \n",
      "A value is trying to be set on a copy of a slice from a DataFrame.\n",
      "Try using .loc[row_indexer,col_indexer] = value instead\n",
      "\n",
      "See the caveats in the documentation: https://pandas.pydata.org/pandas-docs/stable/user_guide/indexing.html#returning-a-view-versus-a-copy\n"
     ]
    },
    {
     "name": "stdout",
     "output_type": "stream",
     "text": [
      "Saved time series visualization for Reddit - Topic: im  also  good  to /Users/tnathu-ai/VSCode/Government-Digital-Transformation/assets/images/reddit_time_series_analysis_im  also  good .png\n"
     ]
    },
    {
     "name": "stderr",
     "output_type": "stream",
     "text": [
      "<timed exec>:63: SettingWithCopyWarning: \n",
      "A value is trying to be set on a copy of a slice from a DataFrame.\n",
      "Try using .loc[row_indexer,col_indexer] = value instead\n",
      "\n",
      "See the caveats in the documentation: https://pandas.pydata.org/pandas-docs/stable/user_guide/indexing.html#returning-a-view-versus-a-copy\n"
     ]
    },
    {
     "name": "stdout",
     "output_type": "stream",
     "text": [
      "Saved time series visualization for Reddit - Topic: sea  fish  turtles  to /Users/tnathu-ai/VSCode/Government-Digital-Transformation/assets/images/reddit_time_series_analysis_sea  fish  turtles .png\n"
     ]
    },
    {
     "name": "stderr",
     "output_type": "stream",
     "text": [
      "<timed exec>:63: SettingWithCopyWarning: \n",
      "A value is trying to be set on a copy of a slice from a DataFrame.\n",
      "Try using .loc[row_indexer,col_indexer] = value instead\n",
      "\n",
      "See the caveats in the documentation: https://pandas.pydata.org/pandas-docs/stable/user_guide/indexing.html#returning-a-view-versus-a-copy\n"
     ]
    },
    {
     "name": "stdout",
     "output_type": "stream",
     "text": [
      "Saved time series visualization for Reddit - Topic: like  one  would  to /Users/tnathu-ai/VSCode/Government-Digital-Transformation/assets/images/reddit_time_series_analysis_like  one  would .png\n"
     ]
    },
    {
     "name": "stderr",
     "output_type": "stream",
     "text": [
      "<timed exec>:63: SettingWithCopyWarning: \n",
      "A value is trying to be set on a copy of a slice from a DataFrame.\n",
      "Try using .loc[row_indexer,col_indexer] = value instead\n",
      "\n",
      "See the caveats in the documentation: https://pandas.pydata.org/pandas-docs/stable/user_guide/indexing.html#returning-a-view-versus-a-copy\n"
     ]
    },
    {
     "name": "stdout",
     "output_type": "stream",
     "text": [
      "Saved time series visualization for Reddit - Topic: money  gold  buy  to /Users/tnathu-ai/VSCode/Government-Digital-Transformation/assets/images/reddit_time_series_analysis_money  gold  buy .png\n",
      "Saved sentiment analysis for Reddit to /Users/tnathu-ai/VSCode/Government-Digital-Transformation/data/intermediate/analysis/reddit_sentiment_analysis.txt\n",
      "Extracted Topic: (0, '0.007*\"people\" + 0.007*\"post\" + 0.007*\"get\" + 0.006*\"delivery\" + 0.006*\"dont\"')\n",
      "Extracted Topic: (1, '0.008*\"like\" + 0.008*\"would\" + 0.007*\"people\" + 0.006*\"centrelink\" + 0.006*\"money\"')\n",
      "Extracted Topic: (2, '0.016*\"post\" + 0.009*\"australia\" + 0.009*\"parcel\" + 0.007*\"even\" + 0.006*\"like\"')\n",
      "Extracted Topic: (3, '0.007*\"please\" + 0.006*\"contact\" + 0.006*\"would\" + 0.005*\"one\" + 0.005*\"thats\"')\n",
      "Extracted Topic: (4, '0.010*\"ombudsman\" + 0.007*\"people\" + 0.007*\"government\" + 0.007*\"police\" + 0.006*\"data\"')\n",
      "Saved topic modeling for Reddit to /Users/tnathu-ai/VSCode/Government-Digital-Transformation/data/intermediate/analysis/reddit_topic_modeling.txt\n",
      "Saved qualitative analysis for Reddit to /Users/tnathu-ai/VSCode/Government-Digital-Transformation/data/intermediate/analysis/reddit_qualitative_analysis.txt\n"
     ]
    },
    {
     "name": "stderr",
     "output_type": "stream",
     "text": [
      "<timed exec>:63: SettingWithCopyWarning: \n",
      "A value is trying to be set on a copy of a slice from a DataFrame.\n",
      "Try using .loc[row_indexer,col_indexer] = value instead\n",
      "\n",
      "See the caveats in the documentation: https://pandas.pydata.org/pandas-docs/stable/user_guide/indexing.html#returning-a-view-versus-a-copy\n",
      "<timed exec>:63: SettingWithCopyWarning: \n",
      "A value is trying to be set on a copy of a slice from a DataFrame.\n",
      "Try using .loc[row_indexer,col_indexer] = value instead\n",
      "\n",
      "See the caveats in the documentation: https://pandas.pydata.org/pandas-docs/stable/user_guide/indexing.html#returning-a-view-versus-a-copy\n"
     ]
    },
    {
     "name": "stdout",
     "output_type": "stream",
     "text": [
      "Saved time series visualization for Reddit - Topic: people  post  get  to /Users/tnathu-ai/VSCode/Government-Digital-Transformation/assets/images/reddit_time_series_analysis_people  post  get .png\n",
      "Saved time series visualization for Reddit - Topic: like  would  people  to /Users/tnathu-ai/VSCode/Government-Digital-Transformation/assets/images/reddit_time_series_analysis_like  would  people .png\n"
     ]
    },
    {
     "name": "stderr",
     "output_type": "stream",
     "text": [
      "<timed exec>:63: SettingWithCopyWarning: \n",
      "A value is trying to be set on a copy of a slice from a DataFrame.\n",
      "Try using .loc[row_indexer,col_indexer] = value instead\n",
      "\n",
      "See the caveats in the documentation: https://pandas.pydata.org/pandas-docs/stable/user_guide/indexing.html#returning-a-view-versus-a-copy\n",
      "<timed exec>:63: SettingWithCopyWarning: \n",
      "A value is trying to be set on a copy of a slice from a DataFrame.\n",
      "Try using .loc[row_indexer,col_indexer] = value instead\n",
      "\n",
      "See the caveats in the documentation: https://pandas.pydata.org/pandas-docs/stable/user_guide/indexing.html#returning-a-view-versus-a-copy\n"
     ]
    },
    {
     "name": "stdout",
     "output_type": "stream",
     "text": [
      "Saved time series visualization for Reddit - Topic: post  australia  parcel  to /Users/tnathu-ai/VSCode/Government-Digital-Transformation/assets/images/reddit_time_series_analysis_post  australia  parcel .png\n",
      "Saved time series visualization for Reddit - Topic: please  contact  would  to /Users/tnathu-ai/VSCode/Government-Digital-Transformation/assets/images/reddit_time_series_analysis_please  contact  would .png\n"
     ]
    },
    {
     "name": "stderr",
     "output_type": "stream",
     "text": [
      "<timed exec>:63: SettingWithCopyWarning: \n",
      "A value is trying to be set on a copy of a slice from a DataFrame.\n",
      "Try using .loc[row_indexer,col_indexer] = value instead\n",
      "\n",
      "See the caveats in the documentation: https://pandas.pydata.org/pandas-docs/stable/user_guide/indexing.html#returning-a-view-versus-a-copy\n"
     ]
    },
    {
     "name": "stdout",
     "output_type": "stream",
     "text": [
      "Saved time series visualization for Reddit - Topic: ombudsman  people  government  to /Users/tnathu-ai/VSCode/Government-Digital-Transformation/assets/images/reddit_time_series_analysis_ombudsman  people  government .png\n",
      "Saved sentiment analysis for Reddit to /Users/tnathu-ai/VSCode/Government-Digital-Transformation/data/intermediate/analysis/reddit_sentiment_analysis.txt\n",
      "Extracted Topic: (0, '0.010*\"money\" + 0.009*\"infrastructure\" + 0.008*\"projects\" + 0.008*\"government\" + 0.007*\"people\"')\n",
      "Extracted Topic: (1, '0.012*\"work\" + 0.009*\"construction\" + 0.008*\"project\" + 0.007*\"one\" + 0.007*\"building\"')\n",
      "Extracted Topic: (2, '0.017*\"people\" + 0.013*\"dont\" + 0.009*\"im\" + 0.009*\"like\" + 0.008*\"know\"')\n",
      "Extracted Topic: (3, '0.014*\"would\" + 0.011*\"rail\" + 0.008*\"city\" + 0.008*\"line\" + 0.007*\"train\"')\n",
      "Extracted Topic: (4, '0.015*\"us\" + 0.008*\"country\" + 0.008*\"china\" + 0.007*\"like\" + 0.007*\"would\"')\n",
      "Saved topic modeling for Reddit to /Users/tnathu-ai/VSCode/Government-Digital-Transformation/data/intermediate/analysis/reddit_topic_modeling.txt\n",
      "Saved qualitative analysis for Reddit to /Users/tnathu-ai/VSCode/Government-Digital-Transformation/data/intermediate/analysis/reddit_qualitative_analysis.txt\n"
     ]
    },
    {
     "name": "stderr",
     "output_type": "stream",
     "text": [
      "<timed exec>:63: SettingWithCopyWarning: \n",
      "A value is trying to be set on a copy of a slice from a DataFrame.\n",
      "Try using .loc[row_indexer,col_indexer] = value instead\n",
      "\n",
      "See the caveats in the documentation: https://pandas.pydata.org/pandas-docs/stable/user_guide/indexing.html#returning-a-view-versus-a-copy\n"
     ]
    },
    {
     "name": "stdout",
     "output_type": "stream",
     "text": [
      "Saved time series visualization for Reddit - Topic: money  infrastructure  projects  to /Users/tnathu-ai/VSCode/Government-Digital-Transformation/assets/images/reddit_time_series_analysis_money  infrastructure  projects .png\n"
     ]
    },
    {
     "name": "stderr",
     "output_type": "stream",
     "text": [
      "<timed exec>:63: SettingWithCopyWarning: \n",
      "A value is trying to be set on a copy of a slice from a DataFrame.\n",
      "Try using .loc[row_indexer,col_indexer] = value instead\n",
      "\n",
      "See the caveats in the documentation: https://pandas.pydata.org/pandas-docs/stable/user_guide/indexing.html#returning-a-view-versus-a-copy\n"
     ]
    },
    {
     "name": "stdout",
     "output_type": "stream",
     "text": [
      "Saved time series visualization for Reddit - Topic: work  construction  project  to /Users/tnathu-ai/VSCode/Government-Digital-Transformation/assets/images/reddit_time_series_analysis_work  construction  project .png\n"
     ]
    },
    {
     "name": "stderr",
     "output_type": "stream",
     "text": [
      "<timed exec>:63: SettingWithCopyWarning: \n",
      "A value is trying to be set on a copy of a slice from a DataFrame.\n",
      "Try using .loc[row_indexer,col_indexer] = value instead\n",
      "\n",
      "See the caveats in the documentation: https://pandas.pydata.org/pandas-docs/stable/user_guide/indexing.html#returning-a-view-versus-a-copy\n"
     ]
    },
    {
     "name": "stdout",
     "output_type": "stream",
     "text": [
      "Saved time series visualization for Reddit - Topic: people  dont  im  to /Users/tnathu-ai/VSCode/Government-Digital-Transformation/assets/images/reddit_time_series_analysis_people  dont  im .png\n"
     ]
    },
    {
     "name": "stderr",
     "output_type": "stream",
     "text": [
      "<timed exec>:63: SettingWithCopyWarning: \n",
      "A value is trying to be set on a copy of a slice from a DataFrame.\n",
      "Try using .loc[row_indexer,col_indexer] = value instead\n",
      "\n",
      "See the caveats in the documentation: https://pandas.pydata.org/pandas-docs/stable/user_guide/indexing.html#returning-a-view-versus-a-copy\n"
     ]
    },
    {
     "name": "stdout",
     "output_type": "stream",
     "text": [
      "Saved time series visualization for Reddit - Topic: would  rail  city  to /Users/tnathu-ai/VSCode/Government-Digital-Transformation/assets/images/reddit_time_series_analysis_would  rail  city .png\n"
     ]
    },
    {
     "name": "stderr",
     "output_type": "stream",
     "text": [
      "<timed exec>:63: SettingWithCopyWarning: \n",
      "A value is trying to be set on a copy of a slice from a DataFrame.\n",
      "Try using .loc[row_indexer,col_indexer] = value instead\n",
      "\n",
      "See the caveats in the documentation: https://pandas.pydata.org/pandas-docs/stable/user_guide/indexing.html#returning-a-view-versus-a-copy\n"
     ]
    },
    {
     "name": "stdout",
     "output_type": "stream",
     "text": [
      "Saved time series visualization for Reddit - Topic: us  country  china  to /Users/tnathu-ai/VSCode/Government-Digital-Transformation/assets/images/reddit_time_series_analysis_us  country  china .png\n",
      "Saved sentiment analysis for Reddit to /Users/tnathu-ai/VSCode/Government-Digital-Transformation/data/intermediate/analysis/reddit_sentiment_analysis.txt\n",
      "Extracted Topic: (0, '0.011*\"people\" + 0.007*\"religion\" + 0.006*\"believe\" + 0.006*\"christian\" + 0.005*\"one\"')\n",
      "Extracted Topic: (1, '0.017*\"culture\" + 0.017*\"australia\" + 0.013*\"australian\" + 0.013*\"people\" + 0.012*\"country\"')\n",
      "Extracted Topic: (2, '0.020*\"like\" + 0.019*\"people\" + 0.019*\"dont\" + 0.015*\"im\" + 0.011*\"youre\"')\n",
      "Extracted Topic: (3, '0.010*\"get\" + 0.010*\"years\" + 0.008*\"work\" + 0.006*\"would\" + 0.005*\"dont\"')\n",
      "Extracted Topic: (4, '0.011*\"people\" + 0.010*\"public\" + 0.009*\"money\" + 0.009*\"school\" + 0.009*\"government\"')\n",
      "Saved topic modeling for Reddit to /Users/tnathu-ai/VSCode/Government-Digital-Transformation/data/intermediate/analysis/reddit_topic_modeling.txt\n",
      "Saved qualitative analysis for Reddit to /Users/tnathu-ai/VSCode/Government-Digital-Transformation/data/intermediate/analysis/reddit_qualitative_analysis.txt\n"
     ]
    },
    {
     "name": "stderr",
     "output_type": "stream",
     "text": [
      "<timed exec>:63: SettingWithCopyWarning: \n",
      "A value is trying to be set on a copy of a slice from a DataFrame.\n",
      "Try using .loc[row_indexer,col_indexer] = value instead\n",
      "\n",
      "See the caveats in the documentation: https://pandas.pydata.org/pandas-docs/stable/user_guide/indexing.html#returning-a-view-versus-a-copy\n"
     ]
    },
    {
     "name": "stdout",
     "output_type": "stream",
     "text": [
      "Saved time series visualization for Reddit - Topic: people  religion  believe  to /Users/tnathu-ai/VSCode/Government-Digital-Transformation/assets/images/reddit_time_series_analysis_people  religion  believe .png\n"
     ]
    },
    {
     "name": "stderr",
     "output_type": "stream",
     "text": [
      "<timed exec>:63: SettingWithCopyWarning: \n",
      "A value is trying to be set on a copy of a slice from a DataFrame.\n",
      "Try using .loc[row_indexer,col_indexer] = value instead\n",
      "\n",
      "See the caveats in the documentation: https://pandas.pydata.org/pandas-docs/stable/user_guide/indexing.html#returning-a-view-versus-a-copy\n"
     ]
    },
    {
     "name": "stdout",
     "output_type": "stream",
     "text": [
      "Saved time series visualization for Reddit - Topic: culture  australia  australian  to /Users/tnathu-ai/VSCode/Government-Digital-Transformation/assets/images/reddit_time_series_analysis_culture  australia  australian .png\n"
     ]
    },
    {
     "name": "stderr",
     "output_type": "stream",
     "text": [
      "<timed exec>:63: SettingWithCopyWarning: \n",
      "A value is trying to be set on a copy of a slice from a DataFrame.\n",
      "Try using .loc[row_indexer,col_indexer] = value instead\n",
      "\n",
      "See the caveats in the documentation: https://pandas.pydata.org/pandas-docs/stable/user_guide/indexing.html#returning-a-view-versus-a-copy\n"
     ]
    },
    {
     "name": "stdout",
     "output_type": "stream",
     "text": [
      "Saved time series visualization for Reddit - Topic: like  people  dont  to /Users/tnathu-ai/VSCode/Government-Digital-Transformation/assets/images/reddit_time_series_analysis_like  people  dont .png\n"
     ]
    },
    {
     "name": "stderr",
     "output_type": "stream",
     "text": [
      "<timed exec>:63: SettingWithCopyWarning: \n",
      "A value is trying to be set on a copy of a slice from a DataFrame.\n",
      "Try using .loc[row_indexer,col_indexer] = value instead\n",
      "\n",
      "See the caveats in the documentation: https://pandas.pydata.org/pandas-docs/stable/user_guide/indexing.html#returning-a-view-versus-a-copy\n"
     ]
    },
    {
     "name": "stdout",
     "output_type": "stream",
     "text": [
      "Saved time series visualization for Reddit - Topic: get  years  work  to /Users/tnathu-ai/VSCode/Government-Digital-Transformation/assets/images/reddit_time_series_analysis_get  years  work .png\n"
     ]
    },
    {
     "name": "stderr",
     "output_type": "stream",
     "text": [
      "<timed exec>:63: SettingWithCopyWarning: \n",
      "A value is trying to be set on a copy of a slice from a DataFrame.\n",
      "Try using .loc[row_indexer,col_indexer] = value instead\n",
      "\n",
      "See the caveats in the documentation: https://pandas.pydata.org/pandas-docs/stable/user_guide/indexing.html#returning-a-view-versus-a-copy\n"
     ]
    },
    {
     "name": "stdout",
     "output_type": "stream",
     "text": [
      "Saved time series visualization for Reddit - Topic: people  public  money  to /Users/tnathu-ai/VSCode/Government-Digital-Transformation/assets/images/reddit_time_series_analysis_people  public  money .png\n",
      "Saved sentiment analysis for Reddit to /Users/tnathu-ai/VSCode/Government-Digital-Transformation/data/intermediate/analysis/reddit_sentiment_analysis.txt\n",
      "Extracted Topic: (0, '0.010*\"like\" + 0.009*\"film\" + 0.007*\"comment\" + 0.007*\"please\" + 0.007*\"departed\"')\n",
      "Extracted Topic: (1, '0.027*\"va\" + 0.010*\"care\" + 0.010*\"government\" + 0.009*\"get\" + 0.008*\"veterans\"')\n",
      "Extracted Topic: (2, '0.010*\"movie\" + 0.010*\"one\" + 0.010*\"got\" + 0.010*\"war\" + 0.010*\"years\"')\n",
      "Extracted Topic: (3, '0.024*\"people\" + 0.018*\"dont\" + 0.015*\"like\" + 0.011*\"im\" + 0.010*\"think\"')\n",
      "Extracted Topic: (4, '0.009*\"would\" + 0.007*\"union\" + 0.006*\"one\" + 0.006*\"also\" + 0.005*\"time\"')\n",
      "Saved topic modeling for Reddit to /Users/tnathu-ai/VSCode/Government-Digital-Transformation/data/intermediate/analysis/reddit_topic_modeling.txt\n",
      "Saved qualitative analysis for Reddit to /Users/tnathu-ai/VSCode/Government-Digital-Transformation/data/intermediate/analysis/reddit_qualitative_analysis.txt\n"
     ]
    },
    {
     "name": "stderr",
     "output_type": "stream",
     "text": [
      "<timed exec>:63: SettingWithCopyWarning: \n",
      "A value is trying to be set on a copy of a slice from a DataFrame.\n",
      "Try using .loc[row_indexer,col_indexer] = value instead\n",
      "\n",
      "See the caveats in the documentation: https://pandas.pydata.org/pandas-docs/stable/user_guide/indexing.html#returning-a-view-versus-a-copy\n"
     ]
    },
    {
     "name": "stdout",
     "output_type": "stream",
     "text": [
      "Saved time series visualization for Reddit - Topic: like  film  comment  to /Users/tnathu-ai/VSCode/Government-Digital-Transformation/assets/images/reddit_time_series_analysis_like  film  comment .png\n"
     ]
    },
    {
     "name": "stderr",
     "output_type": "stream",
     "text": [
      "<timed exec>:63: SettingWithCopyWarning: \n",
      "A value is trying to be set on a copy of a slice from a DataFrame.\n",
      "Try using .loc[row_indexer,col_indexer] = value instead\n",
      "\n",
      "See the caveats in the documentation: https://pandas.pydata.org/pandas-docs/stable/user_guide/indexing.html#returning-a-view-versus-a-copy\n"
     ]
    },
    {
     "name": "stdout",
     "output_type": "stream",
     "text": [
      "Saved time series visualization for Reddit - Topic: va  care  government  to /Users/tnathu-ai/VSCode/Government-Digital-Transformation/assets/images/reddit_time_series_analysis_va  care  government .png\n"
     ]
    },
    {
     "name": "stderr",
     "output_type": "stream",
     "text": [
      "<timed exec>:63: SettingWithCopyWarning: \n",
      "A value is trying to be set on a copy of a slice from a DataFrame.\n",
      "Try using .loc[row_indexer,col_indexer] = value instead\n",
      "\n",
      "See the caveats in the documentation: https://pandas.pydata.org/pandas-docs/stable/user_guide/indexing.html#returning-a-view-versus-a-copy\n"
     ]
    },
    {
     "name": "stdout",
     "output_type": "stream",
     "text": [
      "Saved time series visualization for Reddit - Topic: movie  one  got  to /Users/tnathu-ai/VSCode/Government-Digital-Transformation/assets/images/reddit_time_series_analysis_movie  one  got .png\n"
     ]
    },
    {
     "name": "stderr",
     "output_type": "stream",
     "text": [
      "<timed exec>:63: SettingWithCopyWarning: \n",
      "A value is trying to be set on a copy of a slice from a DataFrame.\n",
      "Try using .loc[row_indexer,col_indexer] = value instead\n",
      "\n",
      "See the caveats in the documentation: https://pandas.pydata.org/pandas-docs/stable/user_guide/indexing.html#returning-a-view-versus-a-copy\n"
     ]
    },
    {
     "name": "stdout",
     "output_type": "stream",
     "text": [
      "Saved time series visualization for Reddit - Topic: people  dont  like  to /Users/tnathu-ai/VSCode/Government-Digital-Transformation/assets/images/reddit_time_series_analysis_people  dont  like .png\n"
     ]
    },
    {
     "name": "stderr",
     "output_type": "stream",
     "text": [
      "<timed exec>:63: SettingWithCopyWarning: \n",
      "A value is trying to be set on a copy of a slice from a DataFrame.\n",
      "Try using .loc[row_indexer,col_indexer] = value instead\n",
      "\n",
      "See the caveats in the documentation: https://pandas.pydata.org/pandas-docs/stable/user_guide/indexing.html#returning-a-view-versus-a-copy\n"
     ]
    },
    {
     "name": "stdout",
     "output_type": "stream",
     "text": [
      "Saved time series visualization for Reddit - Topic: would  union  one  to /Users/tnathu-ai/VSCode/Government-Digital-Transformation/assets/images/reddit_time_series_analysis_would  union  one .png\n",
      "Saved sentiment analysis for Reddit to /Users/tnathu-ai/VSCode/Government-Digital-Transformation/data/intermediate/analysis/reddit_sentiment_analysis.txt\n",
      "Extracted Topic: (0, '0.013*\"religion\" + 0.011*\"cultural\" + 0.010*\"god\" + 0.009*\"us\" + 0.009*\"heritage\"')\n",
      "Extracted Topic: (1, '0.015*\"like\" + 0.012*\"name\" + 0.008*\"techno\" + 0.006*\"irish\" + 0.006*\"church\"')\n",
      "Extracted Topic: (2, '0.022*\"people\" + 0.015*\"dont\" + 0.012*\"like\" + 0.011*\"would\" + 0.010*\"im\"')\n",
      "Extracted Topic: (3, '0.017*\"people\" + 0.013*\"culture\" + 0.011*\"like\" + 0.009*\"dont\" + 0.008*\"australia\"')\n",
      "Extracted Topic: (4, '0.010*\"like\" + 0.009*\"get\" + 0.008*\"one\" + 0.008*\"ive\" + 0.007*\"time\"')\n",
      "Saved topic modeling for Reddit to /Users/tnathu-ai/VSCode/Government-Digital-Transformation/data/intermediate/analysis/reddit_topic_modeling.txt\n",
      "Saved qualitative analysis for Reddit to /Users/tnathu-ai/VSCode/Government-Digital-Transformation/data/intermediate/analysis/reddit_qualitative_analysis.txt\n"
     ]
    },
    {
     "name": "stderr",
     "output_type": "stream",
     "text": [
      "<timed exec>:63: SettingWithCopyWarning: \n",
      "A value is trying to be set on a copy of a slice from a DataFrame.\n",
      "Try using .loc[row_indexer,col_indexer] = value instead\n",
      "\n",
      "See the caveats in the documentation: https://pandas.pydata.org/pandas-docs/stable/user_guide/indexing.html#returning-a-view-versus-a-copy\n"
     ]
    },
    {
     "name": "stdout",
     "output_type": "stream",
     "text": [
      "Saved time series visualization for Reddit - Topic: religion  cultural  god  to /Users/tnathu-ai/VSCode/Government-Digital-Transformation/assets/images/reddit_time_series_analysis_religion  cultural  god .png\n"
     ]
    },
    {
     "name": "stderr",
     "output_type": "stream",
     "text": [
      "<timed exec>:63: SettingWithCopyWarning: \n",
      "A value is trying to be set on a copy of a slice from a DataFrame.\n",
      "Try using .loc[row_indexer,col_indexer] = value instead\n",
      "\n",
      "See the caveats in the documentation: https://pandas.pydata.org/pandas-docs/stable/user_guide/indexing.html#returning-a-view-versus-a-copy\n"
     ]
    },
    {
     "name": "stdout",
     "output_type": "stream",
     "text": [
      "Saved time series visualization for Reddit - Topic: like  name  techno  to /Users/tnathu-ai/VSCode/Government-Digital-Transformation/assets/images/reddit_time_series_analysis_like  name  techno .png\n"
     ]
    },
    {
     "name": "stderr",
     "output_type": "stream",
     "text": [
      "<timed exec>:63: SettingWithCopyWarning: \n",
      "A value is trying to be set on a copy of a slice from a DataFrame.\n",
      "Try using .loc[row_indexer,col_indexer] = value instead\n",
      "\n",
      "See the caveats in the documentation: https://pandas.pydata.org/pandas-docs/stable/user_guide/indexing.html#returning-a-view-versus-a-copy\n"
     ]
    },
    {
     "name": "stdout",
     "output_type": "stream",
     "text": [
      "Saved time series visualization for Reddit - Topic: people  dont  like  to /Users/tnathu-ai/VSCode/Government-Digital-Transformation/assets/images/reddit_time_series_analysis_people  dont  like .png\n"
     ]
    },
    {
     "name": "stderr",
     "output_type": "stream",
     "text": [
      "<timed exec>:63: SettingWithCopyWarning: \n",
      "A value is trying to be set on a copy of a slice from a DataFrame.\n",
      "Try using .loc[row_indexer,col_indexer] = value instead\n",
      "\n",
      "See the caveats in the documentation: https://pandas.pydata.org/pandas-docs/stable/user_guide/indexing.html#returning-a-view-versus-a-copy\n"
     ]
    },
    {
     "name": "stdout",
     "output_type": "stream",
     "text": [
      "Saved time series visualization for Reddit - Topic: people  culture  like  to /Users/tnathu-ai/VSCode/Government-Digital-Transformation/assets/images/reddit_time_series_analysis_people  culture  like .png\n"
     ]
    },
    {
     "name": "stderr",
     "output_type": "stream",
     "text": [
      "<timed exec>:63: SettingWithCopyWarning: \n",
      "A value is trying to be set on a copy of a slice from a DataFrame.\n",
      "Try using .loc[row_indexer,col_indexer] = value instead\n",
      "\n",
      "See the caveats in the documentation: https://pandas.pydata.org/pandas-docs/stable/user_guide/indexing.html#returning-a-view-versus-a-copy\n"
     ]
    },
    {
     "name": "stdout",
     "output_type": "stream",
     "text": [
      "Saved time series visualization for Reddit - Topic: like  get  one  to /Users/tnathu-ai/VSCode/Government-Digital-Transformation/assets/images/reddit_time_series_analysis_like  get  one .png\n",
      "Saved sentiment analysis for Reddit to /Users/tnathu-ai/VSCode/Government-Digital-Transformation/data/intermediate/analysis/reddit_sentiment_analysis.txt\n",
      "Extracted Topic: (0, '0.020*\"us\" + 0.017*\"china\" + 0.013*\"would\" + 0.011*\"war\" + 0.007*\"japan\"')\n",
      "Extracted Topic: (1, '0.005*\"india\" + 0.005*\"companies\" + 0.005*\"dont\" + 0.005*\"government\" + 0.005*\"get\"')\n",
      "Extracted Topic: (2, '0.017*\"people\" + 0.013*\"im\" + 0.012*\"like\" + 0.011*\"dont\" + 0.009*\"get\"')\n",
      "Extracted Topic: (3, '0.026*\"na\" + 0.018*\"players\" + 0.016*\"would\" + 0.011*\"teams\" + 0.011*\"team\"')\n",
      "Extracted Topic: (4, '0.006*\"government\" + 0.006*\"australia\" + 0.006*\"state\" + 0.005*\"doesnt\" + 0.005*\"would\"')\n",
      "Saved topic modeling for Reddit to /Users/tnathu-ai/VSCode/Government-Digital-Transformation/data/intermediate/analysis/reddit_topic_modeling.txt\n",
      "Saved qualitative analysis for Reddit to /Users/tnathu-ai/VSCode/Government-Digital-Transformation/data/intermediate/analysis/reddit_qualitative_analysis.txt\n"
     ]
    },
    {
     "name": "stderr",
     "output_type": "stream",
     "text": [
      "<timed exec>:63: SettingWithCopyWarning: \n",
      "A value is trying to be set on a copy of a slice from a DataFrame.\n",
      "Try using .loc[row_indexer,col_indexer] = value instead\n",
      "\n",
      "See the caveats in the documentation: https://pandas.pydata.org/pandas-docs/stable/user_guide/indexing.html#returning-a-view-versus-a-copy\n"
     ]
    },
    {
     "name": "stdout",
     "output_type": "stream",
     "text": [
      "Saved time series visualization for Reddit - Topic: us  china  would  to /Users/tnathu-ai/VSCode/Government-Digital-Transformation/assets/images/reddit_time_series_analysis_us  china  would .png\n"
     ]
    },
    {
     "name": "stderr",
     "output_type": "stream",
     "text": [
      "<timed exec>:63: SettingWithCopyWarning: \n",
      "A value is trying to be set on a copy of a slice from a DataFrame.\n",
      "Try using .loc[row_indexer,col_indexer] = value instead\n",
      "\n",
      "See the caveats in the documentation: https://pandas.pydata.org/pandas-docs/stable/user_guide/indexing.html#returning-a-view-versus-a-copy\n"
     ]
    },
    {
     "name": "stdout",
     "output_type": "stream",
     "text": [
      "Saved time series visualization for Reddit - Topic: india  companies  dont  to /Users/tnathu-ai/VSCode/Government-Digital-Transformation/assets/images/reddit_time_series_analysis_india  companies  dont .png\n"
     ]
    },
    {
     "name": "stderr",
     "output_type": "stream",
     "text": [
      "<timed exec>:63: SettingWithCopyWarning: \n",
      "A value is trying to be set on a copy of a slice from a DataFrame.\n",
      "Try using .loc[row_indexer,col_indexer] = value instead\n",
      "\n",
      "See the caveats in the documentation: https://pandas.pydata.org/pandas-docs/stable/user_guide/indexing.html#returning-a-view-versus-a-copy\n"
     ]
    },
    {
     "name": "stdout",
     "output_type": "stream",
     "text": [
      "Saved time series visualization for Reddit - Topic: people  im  like  to /Users/tnathu-ai/VSCode/Government-Digital-Transformation/assets/images/reddit_time_series_analysis_people  im  like .png\n"
     ]
    },
    {
     "name": "stderr",
     "output_type": "stream",
     "text": [
      "<timed exec>:63: SettingWithCopyWarning: \n",
      "A value is trying to be set on a copy of a slice from a DataFrame.\n",
      "Try using .loc[row_indexer,col_indexer] = value instead\n",
      "\n",
      "See the caveats in the documentation: https://pandas.pydata.org/pandas-docs/stable/user_guide/indexing.html#returning-a-view-versus-a-copy\n"
     ]
    },
    {
     "name": "stdout",
     "output_type": "stream",
     "text": [
      "Saved time series visualization for Reddit - Topic: na  players  would  to /Users/tnathu-ai/VSCode/Government-Digital-Transformation/assets/images/reddit_time_series_analysis_na  players  would .png\n"
     ]
    },
    {
     "name": "stderr",
     "output_type": "stream",
     "text": [
      "<timed exec>:63: SettingWithCopyWarning: \n",
      "A value is trying to be set on a copy of a slice from a DataFrame.\n",
      "Try using .loc[row_indexer,col_indexer] = value instead\n",
      "\n",
      "See the caveats in the documentation: https://pandas.pydata.org/pandas-docs/stable/user_guide/indexing.html#returning-a-view-versus-a-copy\n"
     ]
    },
    {
     "name": "stdout",
     "output_type": "stream",
     "text": [
      "Saved time series visualization for Reddit - Topic: government  australia  state  to /Users/tnathu-ai/VSCode/Government-Digital-Transformation/assets/images/reddit_time_series_analysis_government  australia  state .png\n",
      "Saved sentiment analysis for Reddit to /Users/tnathu-ai/VSCode/Government-Digital-Transformation/data/intermediate/analysis/reddit_sentiment_analysis.txt\n",
      "Extracted Topic: (0, '0.013*\"years\" + 0.009*\"time\" + 0.008*\"year\" + 0.008*\"get\" + 0.008*\"school\"')\n",
      "Extracted Topic: (1, '0.016*\"would\" + 0.015*\"government\" + 0.015*\"insurance\" + 0.011*\"people\" + 0.010*\"pay\"')\n",
      "Extracted Topic: (2, '0.011*\"like\" + 0.009*\"read\" + 0.006*\"australia\" + 0.006*\"comment\" + 0.005*\"article\"')\n",
      "Extracted Topic: (3, '0.019*\"health\" + 0.010*\"care\" + 0.010*\"drugs\" + 0.008*\"us\" + 0.007*\"drug\"')\n",
      "Extracted Topic: (4, '0.023*\"people\" + 0.017*\"dont\" + 0.016*\"like\" + 0.013*\"im\" + 0.011*\"think\"')\n",
      "Saved topic modeling for Reddit to /Users/tnathu-ai/VSCode/Government-Digital-Transformation/data/intermediate/analysis/reddit_topic_modeling.txt\n",
      "Saved qualitative analysis for Reddit to /Users/tnathu-ai/VSCode/Government-Digital-Transformation/data/intermediate/analysis/reddit_qualitative_analysis.txt\n"
     ]
    },
    {
     "name": "stderr",
     "output_type": "stream",
     "text": [
      "<timed exec>:63: SettingWithCopyWarning: \n",
      "A value is trying to be set on a copy of a slice from a DataFrame.\n",
      "Try using .loc[row_indexer,col_indexer] = value instead\n",
      "\n",
      "See the caveats in the documentation: https://pandas.pydata.org/pandas-docs/stable/user_guide/indexing.html#returning-a-view-versus-a-copy\n"
     ]
    },
    {
     "name": "stdout",
     "output_type": "stream",
     "text": [
      "Saved time series visualization for Reddit - Topic: years  time  year  to /Users/tnathu-ai/VSCode/Government-Digital-Transformation/assets/images/reddit_time_series_analysis_years  time  year .png\n"
     ]
    },
    {
     "name": "stderr",
     "output_type": "stream",
     "text": [
      "<timed exec>:63: SettingWithCopyWarning: \n",
      "A value is trying to be set on a copy of a slice from a DataFrame.\n",
      "Try using .loc[row_indexer,col_indexer] = value instead\n",
      "\n",
      "See the caveats in the documentation: https://pandas.pydata.org/pandas-docs/stable/user_guide/indexing.html#returning-a-view-versus-a-copy\n"
     ]
    },
    {
     "name": "stdout",
     "output_type": "stream",
     "text": [
      "Saved time series visualization for Reddit - Topic: would  government  insurance  to /Users/tnathu-ai/VSCode/Government-Digital-Transformation/assets/images/reddit_time_series_analysis_would  government  insurance .png\n"
     ]
    },
    {
     "name": "stderr",
     "output_type": "stream",
     "text": [
      "<timed exec>:63: SettingWithCopyWarning: \n",
      "A value is trying to be set on a copy of a slice from a DataFrame.\n",
      "Try using .loc[row_indexer,col_indexer] = value instead\n",
      "\n",
      "See the caveats in the documentation: https://pandas.pydata.org/pandas-docs/stable/user_guide/indexing.html#returning-a-view-versus-a-copy\n"
     ]
    },
    {
     "name": "stdout",
     "output_type": "stream",
     "text": [
      "Saved time series visualization for Reddit - Topic: like  read  australia  to /Users/tnathu-ai/VSCode/Government-Digital-Transformation/assets/images/reddit_time_series_analysis_like  read  australia .png\n"
     ]
    },
    {
     "name": "stderr",
     "output_type": "stream",
     "text": [
      "<timed exec>:63: SettingWithCopyWarning: \n",
      "A value is trying to be set on a copy of a slice from a DataFrame.\n",
      "Try using .loc[row_indexer,col_indexer] = value instead\n",
      "\n",
      "See the caveats in the documentation: https://pandas.pydata.org/pandas-docs/stable/user_guide/indexing.html#returning-a-view-versus-a-copy\n"
     ]
    },
    {
     "name": "stdout",
     "output_type": "stream",
     "text": [
      "Saved time series visualization for Reddit - Topic: health  care  drugs  to /Users/tnathu-ai/VSCode/Government-Digital-Transformation/assets/images/reddit_time_series_analysis_health  care  drugs .png\n"
     ]
    },
    {
     "name": "stderr",
     "output_type": "stream",
     "text": [
      "<timed exec>:63: SettingWithCopyWarning: \n",
      "A value is trying to be set on a copy of a slice from a DataFrame.\n",
      "Try using .loc[row_indexer,col_indexer] = value instead\n",
      "\n",
      "See the caveats in the documentation: https://pandas.pydata.org/pandas-docs/stable/user_guide/indexing.html#returning-a-view-versus-a-copy\n"
     ]
    },
    {
     "name": "stdout",
     "output_type": "stream",
     "text": [
      "Saved time series visualization for Reddit - Topic: people  dont  like  to /Users/tnathu-ai/VSCode/Government-Digital-Transformation/assets/images/reddit_time_series_analysis_people  dont  like .png\n",
      "Saved sentiment analysis for Reddit to /Users/tnathu-ai/VSCode/Government-Digital-Transformation/data/intermediate/analysis/reddit_sentiment_analysis.txt\n",
      "Extracted Topic: (0, '0.031*\"uber\" + 0.018*\"drivers\" + 0.012*\"us\" + 0.009*\"taxis\" + 0.009*\"country\"')\n",
      "Extracted Topic: (1, '0.014*\"public\" + 0.014*\"pay\" + 0.011*\"sector\" + 0.011*\"money\" + 0.010*\"private\"')\n",
      "Extracted Topic: (2, '0.015*\"get\" + 0.013*\"like\" + 0.011*\"im\" + 0.010*\"time\" + 0.010*\"work\"')\n",
      "Extracted Topic: (3, '0.023*\"people\" + 0.013*\"dont\" + 0.010*\"think\" + 0.007*\"employees\" + 0.007*\"like\"')\n",
      "Extracted Topic: (4, '0.043*\"taxi\" + 0.017*\"driver\" + 0.011*\"one\" + 0.009*\"must\" + 0.007*\"comment\"')\n",
      "Saved topic modeling for Reddit to /Users/tnathu-ai/VSCode/Government-Digital-Transformation/data/intermediate/analysis/reddit_topic_modeling.txt\n",
      "Saved qualitative analysis for Reddit to /Users/tnathu-ai/VSCode/Government-Digital-Transformation/data/intermediate/analysis/reddit_qualitative_analysis.txt\n"
     ]
    },
    {
     "name": "stderr",
     "output_type": "stream",
     "text": [
      "<timed exec>:63: SettingWithCopyWarning: \n",
      "A value is trying to be set on a copy of a slice from a DataFrame.\n",
      "Try using .loc[row_indexer,col_indexer] = value instead\n",
      "\n",
      "See the caveats in the documentation: https://pandas.pydata.org/pandas-docs/stable/user_guide/indexing.html#returning-a-view-versus-a-copy\n"
     ]
    },
    {
     "name": "stdout",
     "output_type": "stream",
     "text": [
      "Saved time series visualization for Reddit - Topic: uber  drivers  us  to /Users/tnathu-ai/VSCode/Government-Digital-Transformation/assets/images/reddit_time_series_analysis_uber  drivers  us .png\n"
     ]
    },
    {
     "name": "stderr",
     "output_type": "stream",
     "text": [
      "<timed exec>:63: SettingWithCopyWarning: \n",
      "A value is trying to be set on a copy of a slice from a DataFrame.\n",
      "Try using .loc[row_indexer,col_indexer] = value instead\n",
      "\n",
      "See the caveats in the documentation: https://pandas.pydata.org/pandas-docs/stable/user_guide/indexing.html#returning-a-view-versus-a-copy\n"
     ]
    },
    {
     "name": "stdout",
     "output_type": "stream",
     "text": [
      "Saved time series visualization for Reddit - Topic: public  pay  sector  to /Users/tnathu-ai/VSCode/Government-Digital-Transformation/assets/images/reddit_time_series_analysis_public  pay  sector .png\n"
     ]
    },
    {
     "name": "stderr",
     "output_type": "stream",
     "text": [
      "<timed exec>:63: SettingWithCopyWarning: \n",
      "A value is trying to be set on a copy of a slice from a DataFrame.\n",
      "Try using .loc[row_indexer,col_indexer] = value instead\n",
      "\n",
      "See the caveats in the documentation: https://pandas.pydata.org/pandas-docs/stable/user_guide/indexing.html#returning-a-view-versus-a-copy\n"
     ]
    },
    {
     "name": "stdout",
     "output_type": "stream",
     "text": [
      "Saved time series visualization for Reddit - Topic: get  like  im  to /Users/tnathu-ai/VSCode/Government-Digital-Transformation/assets/images/reddit_time_series_analysis_get  like  im .png\n"
     ]
    },
    {
     "name": "stderr",
     "output_type": "stream",
     "text": [
      "<timed exec>:63: SettingWithCopyWarning: \n",
      "A value is trying to be set on a copy of a slice from a DataFrame.\n",
      "Try using .loc[row_indexer,col_indexer] = value instead\n",
      "\n",
      "See the caveats in the documentation: https://pandas.pydata.org/pandas-docs/stable/user_guide/indexing.html#returning-a-view-versus-a-copy\n"
     ]
    },
    {
     "name": "stdout",
     "output_type": "stream",
     "text": [
      "Saved time series visualization for Reddit - Topic: people  dont  think  to /Users/tnathu-ai/VSCode/Government-Digital-Transformation/assets/images/reddit_time_series_analysis_people  dont  think .png\n"
     ]
    },
    {
     "name": "stderr",
     "output_type": "stream",
     "text": [
      "<timed exec>:63: SettingWithCopyWarning: \n",
      "A value is trying to be set on a copy of a slice from a DataFrame.\n",
      "Try using .loc[row_indexer,col_indexer] = value instead\n",
      "\n",
      "See the caveats in the documentation: https://pandas.pydata.org/pandas-docs/stable/user_guide/indexing.html#returning-a-view-versus-a-copy\n"
     ]
    },
    {
     "name": "stdout",
     "output_type": "stream",
     "text": [
      "Saved time series visualization for Reddit - Topic: taxi  driver  one  to /Users/tnathu-ai/VSCode/Government-Digital-Transformation/assets/images/reddit_time_series_analysis_taxi  driver  one .png\n",
      "Saved sentiment analysis for Reddit to /Users/tnathu-ai/VSCode/Government-Digital-Transformation/data/intermediate/analysis/reddit_sentiment_analysis.txt\n",
      "Extracted Topic: (0, '0.007*\"government\" + 0.007*\"home\" + 0.006*\"years\" + 0.005*\"visa\" + 0.005*\"affairs\"')\n",
      "Extracted Topic: (1, '0.015*\"like\" + 0.009*\"fucking\" + 0.008*\"fuck\" + 0.008*\"australia\" + 0.007*\"youre\"')\n",
      "Extracted Topic: (2, '0.012*\"house\" + 0.010*\"one\" + 0.009*\"like\" + 0.009*\"get\" + 0.008*\"home\"')\n",
      "Extracted Topic: (3, '0.014*\"dont\" + 0.013*\"would\" + 0.012*\"family\" + 0.011*\"know\" + 0.010*\"like\"')\n",
      "Extracted Topic: (4, '0.024*\"people\" + 0.009*\"australia\" + 0.009*\"country\" + 0.008*\"money\" + 0.007*\"dont\"')\n",
      "Saved topic modeling for Reddit to /Users/tnathu-ai/VSCode/Government-Digital-Transformation/data/intermediate/analysis/reddit_topic_modeling.txt\n",
      "Saved qualitative analysis for Reddit to /Users/tnathu-ai/VSCode/Government-Digital-Transformation/data/intermediate/analysis/reddit_qualitative_analysis.txt\n"
     ]
    },
    {
     "name": "stderr",
     "output_type": "stream",
     "text": [
      "<timed exec>:63: SettingWithCopyWarning: \n",
      "A value is trying to be set on a copy of a slice from a DataFrame.\n",
      "Try using .loc[row_indexer,col_indexer] = value instead\n",
      "\n",
      "See the caveats in the documentation: https://pandas.pydata.org/pandas-docs/stable/user_guide/indexing.html#returning-a-view-versus-a-copy\n"
     ]
    },
    {
     "name": "stdout",
     "output_type": "stream",
     "text": [
      "Saved time series visualization for Reddit - Topic: government  home  years  to /Users/tnathu-ai/VSCode/Government-Digital-Transformation/assets/images/reddit_time_series_analysis_government  home  years .png\n"
     ]
    },
    {
     "name": "stderr",
     "output_type": "stream",
     "text": [
      "<timed exec>:63: SettingWithCopyWarning: \n",
      "A value is trying to be set on a copy of a slice from a DataFrame.\n",
      "Try using .loc[row_indexer,col_indexer] = value instead\n",
      "\n",
      "See the caveats in the documentation: https://pandas.pydata.org/pandas-docs/stable/user_guide/indexing.html#returning-a-view-versus-a-copy\n"
     ]
    },
    {
     "name": "stdout",
     "output_type": "stream",
     "text": [
      "Saved time series visualization for Reddit - Topic: like  fucking  fuck  to /Users/tnathu-ai/VSCode/Government-Digital-Transformation/assets/images/reddit_time_series_analysis_like  fucking  fuck .png\n"
     ]
    },
    {
     "name": "stderr",
     "output_type": "stream",
     "text": [
      "<timed exec>:63: SettingWithCopyWarning: \n",
      "A value is trying to be set on a copy of a slice from a DataFrame.\n",
      "Try using .loc[row_indexer,col_indexer] = value instead\n",
      "\n",
      "See the caveats in the documentation: https://pandas.pydata.org/pandas-docs/stable/user_guide/indexing.html#returning-a-view-versus-a-copy\n"
     ]
    },
    {
     "name": "stdout",
     "output_type": "stream",
     "text": [
      "Saved time series visualization for Reddit - Topic: house  one  like  to /Users/tnathu-ai/VSCode/Government-Digital-Transformation/assets/images/reddit_time_series_analysis_house  one  like .png\n"
     ]
    },
    {
     "name": "stderr",
     "output_type": "stream",
     "text": [
      "<timed exec>:63: SettingWithCopyWarning: \n",
      "A value is trying to be set on a copy of a slice from a DataFrame.\n",
      "Try using .loc[row_indexer,col_indexer] = value instead\n",
      "\n",
      "See the caveats in the documentation: https://pandas.pydata.org/pandas-docs/stable/user_guide/indexing.html#returning-a-view-versus-a-copy\n"
     ]
    },
    {
     "name": "stdout",
     "output_type": "stream",
     "text": [
      "Saved time series visualization for Reddit - Topic: dont  would  family  to /Users/tnathu-ai/VSCode/Government-Digital-Transformation/assets/images/reddit_time_series_analysis_dont  would  family .png\n"
     ]
    },
    {
     "name": "stderr",
     "output_type": "stream",
     "text": [
      "<timed exec>:63: SettingWithCopyWarning: \n",
      "A value is trying to be set on a copy of a slice from a DataFrame.\n",
      "Try using .loc[row_indexer,col_indexer] = value instead\n",
      "\n",
      "See the caveats in the documentation: https://pandas.pydata.org/pandas-docs/stable/user_guide/indexing.html#returning-a-view-versus-a-copy\n"
     ]
    },
    {
     "name": "stdout",
     "output_type": "stream",
     "text": [
      "Saved time series visualization for Reddit - Topic: people  australia  country  to /Users/tnathu-ai/VSCode/Government-Digital-Transformation/assets/images/reddit_time_series_analysis_people  australia  country .png\n",
      "Saved sentiment analysis for Reddit to /Users/tnathu-ai/VSCode/Government-Digital-Transformation/data/intermediate/analysis/reddit_sentiment_analysis.txt\n",
      "Extracted Topic: (0, '0.023*\"people\" + 0.020*\"like\" + 0.018*\"dont\" + 0.013*\"im\" + 0.012*\"think\"')\n",
      "Extracted Topic: (1, '0.052*\"trump\" + 0.019*\"hes\" + 0.016*\"president\" + 0.008*\"obama\" + 0.007*\"trumps\"')\n",
      "Extracted Topic: (2, '0.020*\"would\" + 0.014*\"russia\" + 0.012*\"flynn\" + 0.010*\"could\" + 0.009*\"military\"')\n",
      "Extracted Topic: (3, '0.012*\"years\" + 0.010*\"get\" + 0.008*\"money\" + 0.008*\"time\" + 0.007*\"people\"')\n",
      "Extracted Topic: (4, '0.014*\"us\" + 0.014*\"government\" + 0.011*\"security\" + 0.011*\"national\" + 0.009*\"china\"')\n",
      "Saved topic modeling for Reddit to /Users/tnathu-ai/VSCode/Government-Digital-Transformation/data/intermediate/analysis/reddit_topic_modeling.txt\n",
      "Saved qualitative analysis for Reddit to /Users/tnathu-ai/VSCode/Government-Digital-Transformation/data/intermediate/analysis/reddit_qualitative_analysis.txt\n"
     ]
    },
    {
     "name": "stderr",
     "output_type": "stream",
     "text": [
      "<timed exec>:63: SettingWithCopyWarning: \n",
      "A value is trying to be set on a copy of a slice from a DataFrame.\n",
      "Try using .loc[row_indexer,col_indexer] = value instead\n",
      "\n",
      "See the caveats in the documentation: https://pandas.pydata.org/pandas-docs/stable/user_guide/indexing.html#returning-a-view-versus-a-copy\n"
     ]
    },
    {
     "name": "stdout",
     "output_type": "stream",
     "text": [
      "Saved time series visualization for Reddit - Topic: people  like  dont  to /Users/tnathu-ai/VSCode/Government-Digital-Transformation/assets/images/reddit_time_series_analysis_people  like  dont .png\n"
     ]
    },
    {
     "name": "stderr",
     "output_type": "stream",
     "text": [
      "<timed exec>:63: SettingWithCopyWarning: \n",
      "A value is trying to be set on a copy of a slice from a DataFrame.\n",
      "Try using .loc[row_indexer,col_indexer] = value instead\n",
      "\n",
      "See the caveats in the documentation: https://pandas.pydata.org/pandas-docs/stable/user_guide/indexing.html#returning-a-view-versus-a-copy\n"
     ]
    },
    {
     "name": "stdout",
     "output_type": "stream",
     "text": [
      "Saved time series visualization for Reddit - Topic: trump  hes  president  to /Users/tnathu-ai/VSCode/Government-Digital-Transformation/assets/images/reddit_time_series_analysis_trump  hes  president .png\n"
     ]
    },
    {
     "name": "stderr",
     "output_type": "stream",
     "text": [
      "<timed exec>:63: SettingWithCopyWarning: \n",
      "A value is trying to be set on a copy of a slice from a DataFrame.\n",
      "Try using .loc[row_indexer,col_indexer] = value instead\n",
      "\n",
      "See the caveats in the documentation: https://pandas.pydata.org/pandas-docs/stable/user_guide/indexing.html#returning-a-view-versus-a-copy\n"
     ]
    },
    {
     "name": "stdout",
     "output_type": "stream",
     "text": [
      "Saved time series visualization for Reddit - Topic: would  russia  flynn  to /Users/tnathu-ai/VSCode/Government-Digital-Transformation/assets/images/reddit_time_series_analysis_would  russia  flynn .png\n"
     ]
    },
    {
     "name": "stderr",
     "output_type": "stream",
     "text": [
      "<timed exec>:63: SettingWithCopyWarning: \n",
      "A value is trying to be set on a copy of a slice from a DataFrame.\n",
      "Try using .loc[row_indexer,col_indexer] = value instead\n",
      "\n",
      "See the caveats in the documentation: https://pandas.pydata.org/pandas-docs/stable/user_guide/indexing.html#returning-a-view-versus-a-copy\n"
     ]
    },
    {
     "name": "stdout",
     "output_type": "stream",
     "text": [
      "Saved time series visualization for Reddit - Topic: years  get  money  to /Users/tnathu-ai/VSCode/Government-Digital-Transformation/assets/images/reddit_time_series_analysis_years  get  money .png\n"
     ]
    },
    {
     "name": "stderr",
     "output_type": "stream",
     "text": [
      "<timed exec>:63: SettingWithCopyWarning: \n",
      "A value is trying to be set on a copy of a slice from a DataFrame.\n",
      "Try using .loc[row_indexer,col_indexer] = value instead\n",
      "\n",
      "See the caveats in the documentation: https://pandas.pydata.org/pandas-docs/stable/user_guide/indexing.html#returning-a-view-versus-a-copy\n"
     ]
    },
    {
     "name": "stdout",
     "output_type": "stream",
     "text": [
      "Saved time series visualization for Reddit - Topic: us  government  security  to /Users/tnathu-ai/VSCode/Government-Digital-Transformation/assets/images/reddit_time_series_analysis_us  government  security .png\n",
      "Saved sentiment analysis for Reddit to /Users/tnathu-ai/VSCode/Government-Digital-Transformation/data/intermediate/analysis/reddit_sentiment_analysis.txt\n",
      "Extracted Topic: (0, '0.024*\"people\" + 0.013*\"dont\" + 0.008*\"like\" + 0.007*\"country\" + 0.007*\"think\"')\n",
      "Extracted Topic: (1, '0.012*\"get\" + 0.011*\"work\" + 0.009*\"people\" + 0.008*\"dont\" + 0.006*\"would\"')\n",
      "Extracted Topic: (2, '0.016*\"immigration\" + 0.010*\"population\" + 0.010*\"people\" + 0.009*\"migration\" + 0.008*\"housing\"')\n",
      "Extracted Topic: (3, '0.017*\"like\" + 0.008*\"im\" + 0.008*\"one\" + 0.006*\"would\" + 0.005*\"pretty\"')\n",
      "Extracted Topic: (4, '0.013*\"eu\" + 0.012*\"visa\" + 0.009*\"years\" + 0.007*\"australia\" + 0.007*\"sa\"')\n",
      "Saved topic modeling for Reddit to /Users/tnathu-ai/VSCode/Government-Digital-Transformation/data/intermediate/analysis/reddit_topic_modeling.txt\n",
      "Saved qualitative analysis for Reddit to /Users/tnathu-ai/VSCode/Government-Digital-Transformation/data/intermediate/analysis/reddit_qualitative_analysis.txt\n"
     ]
    },
    {
     "name": "stderr",
     "output_type": "stream",
     "text": [
      "<timed exec>:63: SettingWithCopyWarning: \n",
      "A value is trying to be set on a copy of a slice from a DataFrame.\n",
      "Try using .loc[row_indexer,col_indexer] = value instead\n",
      "\n",
      "See the caveats in the documentation: https://pandas.pydata.org/pandas-docs/stable/user_guide/indexing.html#returning-a-view-versus-a-copy\n"
     ]
    },
    {
     "name": "stdout",
     "output_type": "stream",
     "text": [
      "Saved time series visualization for Reddit - Topic: people  dont  like  to /Users/tnathu-ai/VSCode/Government-Digital-Transformation/assets/images/reddit_time_series_analysis_people  dont  like .png\n"
     ]
    },
    {
     "name": "stderr",
     "output_type": "stream",
     "text": [
      "<timed exec>:63: SettingWithCopyWarning: \n",
      "A value is trying to be set on a copy of a slice from a DataFrame.\n",
      "Try using .loc[row_indexer,col_indexer] = value instead\n",
      "\n",
      "See the caveats in the documentation: https://pandas.pydata.org/pandas-docs/stable/user_guide/indexing.html#returning-a-view-versus-a-copy\n"
     ]
    },
    {
     "name": "stdout",
     "output_type": "stream",
     "text": [
      "Saved time series visualization for Reddit - Topic: get  work  people  to /Users/tnathu-ai/VSCode/Government-Digital-Transformation/assets/images/reddit_time_series_analysis_get  work  people .png\n"
     ]
    },
    {
     "name": "stderr",
     "output_type": "stream",
     "text": [
      "<timed exec>:63: SettingWithCopyWarning: \n",
      "A value is trying to be set on a copy of a slice from a DataFrame.\n",
      "Try using .loc[row_indexer,col_indexer] = value instead\n",
      "\n",
      "See the caveats in the documentation: https://pandas.pydata.org/pandas-docs/stable/user_guide/indexing.html#returning-a-view-versus-a-copy\n"
     ]
    },
    {
     "name": "stdout",
     "output_type": "stream",
     "text": [
      "Saved time series visualization for Reddit - Topic: immigration  population  people  to /Users/tnathu-ai/VSCode/Government-Digital-Transformation/assets/images/reddit_time_series_analysis_immigration  population  people .png\n"
     ]
    },
    {
     "name": "stderr",
     "output_type": "stream",
     "text": [
      "<timed exec>:63: SettingWithCopyWarning: \n",
      "A value is trying to be set on a copy of a slice from a DataFrame.\n",
      "Try using .loc[row_indexer,col_indexer] = value instead\n",
      "\n",
      "See the caveats in the documentation: https://pandas.pydata.org/pandas-docs/stable/user_guide/indexing.html#returning-a-view-versus-a-copy\n"
     ]
    },
    {
     "name": "stdout",
     "output_type": "stream",
     "text": [
      "Saved time series visualization for Reddit - Topic: like  im  one  to /Users/tnathu-ai/VSCode/Government-Digital-Transformation/assets/images/reddit_time_series_analysis_like  im  one .png\n"
     ]
    },
    {
     "name": "stderr",
     "output_type": "stream",
     "text": [
      "<timed exec>:63: SettingWithCopyWarning: \n",
      "A value is trying to be set on a copy of a slice from a DataFrame.\n",
      "Try using .loc[row_indexer,col_indexer] = value instead\n",
      "\n",
      "See the caveats in the documentation: https://pandas.pydata.org/pandas-docs/stable/user_guide/indexing.html#returning-a-view-versus-a-copy\n"
     ]
    },
    {
     "name": "stdout",
     "output_type": "stream",
     "text": [
      "Saved time series visualization for Reddit - Topic: eu  visa  years  to /Users/tnathu-ai/VSCode/Government-Digital-Transformation/assets/images/reddit_time_series_analysis_eu  visa  years .png\n",
      "Saved sentiment analysis for Reddit to /Users/tnathu-ai/VSCode/Government-Digital-Transformation/data/intermediate/analysis/reddit_sentiment_analysis.txt\n",
      "Extracted Topic: (0, '0.008*\"people\" + 0.006*\"tax\" + 0.005*\"like\" + 0.005*\"right\" + 0.005*\"government\"')\n",
      "Extracted Topic: (1, '0.011*\"get\" + 0.009*\"years\" + 0.009*\"time\" + 0.008*\"like\" + 0.007*\"one\"')\n",
      "Extracted Topic: (2, '0.020*\"dont\" + 0.019*\"people\" + 0.016*\"im\" + 0.014*\"like\" + 0.011*\"youre\"')\n",
      "Extracted Topic: (3, '0.014*\"women\" + 0.013*\"would\" + 0.011*\"country\" + 0.010*\"people\" + 0.009*\"men\"')\n",
      "Extracted Topic: (4, '0.010*\"would\" + 0.007*\"pay\" + 0.007*\"get\" + 0.007*\"work\" + 0.007*\"need\"')\n",
      "Saved topic modeling for Reddit to /Users/tnathu-ai/VSCode/Government-Digital-Transformation/data/intermediate/analysis/reddit_topic_modeling.txt\n",
      "Saved qualitative analysis for Reddit to /Users/tnathu-ai/VSCode/Government-Digital-Transformation/data/intermediate/analysis/reddit_qualitative_analysis.txt\n"
     ]
    },
    {
     "name": "stderr",
     "output_type": "stream",
     "text": [
      "<timed exec>:63: SettingWithCopyWarning: \n",
      "A value is trying to be set on a copy of a slice from a DataFrame.\n",
      "Try using .loc[row_indexer,col_indexer] = value instead\n",
      "\n",
      "See the caveats in the documentation: https://pandas.pydata.org/pandas-docs/stable/user_guide/indexing.html#returning-a-view-versus-a-copy\n"
     ]
    },
    {
     "name": "stdout",
     "output_type": "stream",
     "text": [
      "Saved time series visualization for Reddit - Topic: people  tax  like  to /Users/tnathu-ai/VSCode/Government-Digital-Transformation/assets/images/reddit_time_series_analysis_people  tax  like .png\n"
     ]
    },
    {
     "name": "stderr",
     "output_type": "stream",
     "text": [
      "<timed exec>:63: SettingWithCopyWarning: \n",
      "A value is trying to be set on a copy of a slice from a DataFrame.\n",
      "Try using .loc[row_indexer,col_indexer] = value instead\n",
      "\n",
      "See the caveats in the documentation: https://pandas.pydata.org/pandas-docs/stable/user_guide/indexing.html#returning-a-view-versus-a-copy\n"
     ]
    },
    {
     "name": "stdout",
     "output_type": "stream",
     "text": [
      "Saved time series visualization for Reddit - Topic: get  years  time  to /Users/tnathu-ai/VSCode/Government-Digital-Transformation/assets/images/reddit_time_series_analysis_get  years  time .png\n"
     ]
    },
    {
     "name": "stderr",
     "output_type": "stream",
     "text": [
      "<timed exec>:63: SettingWithCopyWarning: \n",
      "A value is trying to be set on a copy of a slice from a DataFrame.\n",
      "Try using .loc[row_indexer,col_indexer] = value instead\n",
      "\n",
      "See the caveats in the documentation: https://pandas.pydata.org/pandas-docs/stable/user_guide/indexing.html#returning-a-view-versus-a-copy\n"
     ]
    },
    {
     "name": "stdout",
     "output_type": "stream",
     "text": [
      "Saved time series visualization for Reddit - Topic: dont  people  im  to /Users/tnathu-ai/VSCode/Government-Digital-Transformation/assets/images/reddit_time_series_analysis_dont  people  im .png\n"
     ]
    },
    {
     "name": "stderr",
     "output_type": "stream",
     "text": [
      "<timed exec>:63: SettingWithCopyWarning: \n",
      "A value is trying to be set on a copy of a slice from a DataFrame.\n",
      "Try using .loc[row_indexer,col_indexer] = value instead\n",
      "\n",
      "See the caveats in the documentation: https://pandas.pydata.org/pandas-docs/stable/user_guide/indexing.html#returning-a-view-versus-a-copy\n"
     ]
    },
    {
     "name": "stdout",
     "output_type": "stream",
     "text": [
      "Saved time series visualization for Reddit - Topic: women  would  country  to /Users/tnathu-ai/VSCode/Government-Digital-Transformation/assets/images/reddit_time_series_analysis_women  would  country .png\n"
     ]
    },
    {
     "name": "stderr",
     "output_type": "stream",
     "text": [
      "<timed exec>:63: SettingWithCopyWarning: \n",
      "A value is trying to be set on a copy of a slice from a DataFrame.\n",
      "Try using .loc[row_indexer,col_indexer] = value instead\n",
      "\n",
      "See the caveats in the documentation: https://pandas.pydata.org/pandas-docs/stable/user_guide/indexing.html#returning-a-view-versus-a-copy\n"
     ]
    },
    {
     "name": "stdout",
     "output_type": "stream",
     "text": [
      "Saved time series visualization for Reddit - Topic: would  pay  get  to /Users/tnathu-ai/VSCode/Government-Digital-Transformation/assets/images/reddit_time_series_analysis_would  pay  get .png\n",
      "Saved sentiment analysis for Reddit to /Users/tnathu-ai/VSCode/Government-Digital-Transformation/data/intermediate/analysis/reddit_sentiment_analysis.txt\n",
      "Extracted Topic: (0, '0.018*\"people\" + 0.012*\"im\" + 0.012*\"like\" + 0.011*\"get\" + 0.009*\"dont\"')\n",
      "Extracted Topic: (1, '0.034*\"ring\" + 0.015*\"one\" + 0.014*\"rings\" + 0.012*\"smart\" + 0.012*\"data\"')\n",
      "Extracted Topic: (2, '0.009*\"would\" + 0.008*\"people\" + 0.006*\"think\" + 0.006*\"dont\" + 0.006*\"also\"')\n",
      "Extracted Topic: (3, '0.018*\"cases\" + 0.011*\"new\" + 0.009*\"test\" + 0.009*\"wa\" + 0.009*\"days\"')\n",
      "Extracted Topic: (4, '0.011*\"get\" + 0.010*\"work\" + 0.008*\"would\" + 0.007*\"health\" + 0.006*\"one\"')\n",
      "Saved topic modeling for Reddit to /Users/tnathu-ai/VSCode/Government-Digital-Transformation/data/intermediate/analysis/reddit_topic_modeling.txt\n",
      "Saved qualitative analysis for Reddit to /Users/tnathu-ai/VSCode/Government-Digital-Transformation/data/intermediate/analysis/reddit_qualitative_analysis.txt\n"
     ]
    },
    {
     "name": "stderr",
     "output_type": "stream",
     "text": [
      "<timed exec>:63: SettingWithCopyWarning: \n",
      "A value is trying to be set on a copy of a slice from a DataFrame.\n",
      "Try using .loc[row_indexer,col_indexer] = value instead\n",
      "\n",
      "See the caveats in the documentation: https://pandas.pydata.org/pandas-docs/stable/user_guide/indexing.html#returning-a-view-versus-a-copy\n"
     ]
    },
    {
     "name": "stdout",
     "output_type": "stream",
     "text": [
      "Saved time series visualization for Reddit - Topic: people  im  like  to /Users/tnathu-ai/VSCode/Government-Digital-Transformation/assets/images/reddit_time_series_analysis_people  im  like .png\n"
     ]
    },
    {
     "name": "stderr",
     "output_type": "stream",
     "text": [
      "<timed exec>:63: SettingWithCopyWarning: \n",
      "A value is trying to be set on a copy of a slice from a DataFrame.\n",
      "Try using .loc[row_indexer,col_indexer] = value instead\n",
      "\n",
      "See the caveats in the documentation: https://pandas.pydata.org/pandas-docs/stable/user_guide/indexing.html#returning-a-view-versus-a-copy\n"
     ]
    },
    {
     "name": "stdout",
     "output_type": "stream",
     "text": [
      "Saved time series visualization for Reddit - Topic: ring  one  rings  to /Users/tnathu-ai/VSCode/Government-Digital-Transformation/assets/images/reddit_time_series_analysis_ring  one  rings .png\n"
     ]
    },
    {
     "name": "stderr",
     "output_type": "stream",
     "text": [
      "<timed exec>:63: SettingWithCopyWarning: \n",
      "A value is trying to be set on a copy of a slice from a DataFrame.\n",
      "Try using .loc[row_indexer,col_indexer] = value instead\n",
      "\n",
      "See the caveats in the documentation: https://pandas.pydata.org/pandas-docs/stable/user_guide/indexing.html#returning-a-view-versus-a-copy\n"
     ]
    },
    {
     "name": "stdout",
     "output_type": "stream",
     "text": [
      "Saved time series visualization for Reddit - Topic: would  people  think  to /Users/tnathu-ai/VSCode/Government-Digital-Transformation/assets/images/reddit_time_series_analysis_would  people  think .png\n"
     ]
    },
    {
     "name": "stderr",
     "output_type": "stream",
     "text": [
      "<timed exec>:63: SettingWithCopyWarning: \n",
      "A value is trying to be set on a copy of a slice from a DataFrame.\n",
      "Try using .loc[row_indexer,col_indexer] = value instead\n",
      "\n",
      "See the caveats in the documentation: https://pandas.pydata.org/pandas-docs/stable/user_guide/indexing.html#returning-a-view-versus-a-copy\n"
     ]
    },
    {
     "name": "stdout",
     "output_type": "stream",
     "text": [
      "Saved time series visualization for Reddit - Topic: cases  new  test  to /Users/tnathu-ai/VSCode/Government-Digital-Transformation/assets/images/reddit_time_series_analysis_cases  new  test .png\n"
     ]
    },
    {
     "name": "stderr",
     "output_type": "stream",
     "text": [
      "<timed exec>:63: SettingWithCopyWarning: \n",
      "A value is trying to be set on a copy of a slice from a DataFrame.\n",
      "Try using .loc[row_indexer,col_indexer] = value instead\n",
      "\n",
      "See the caveats in the documentation: https://pandas.pydata.org/pandas-docs/stable/user_guide/indexing.html#returning-a-view-versus-a-copy\n"
     ]
    },
    {
     "name": "stdout",
     "output_type": "stream",
     "text": [
      "Saved time series visualization for Reddit - Topic: get  work  would  to /Users/tnathu-ai/VSCode/Government-Digital-Transformation/assets/images/reddit_time_series_analysis_get  work  would .png\n",
      "Saved sentiment analysis for Reddit to /Users/tnathu-ai/VSCode/Government-Digital-Transformation/data/intermediate/analysis/reddit_sentiment_analysis.txt\n",
      "Extracted Topic: (0, '0.016*\"2023\" + 0.016*\"2024\" + 0.015*\"application\" + 0.012*\"biometrics\" + 0.011*\"received\"')\n",
      "Extracted Topic: (1, '0.015*\"like\" + 0.012*\"im\" + 0.012*\"people\" + 0.011*\"get\" + 0.010*\"dont\"')\n",
      "Extracted Topic: (2, '0.014*\"us\" + 0.014*\"visa\" + 0.012*\"would\" + 0.011*\"get\" + 0.010*\"canada\"')\n",
      "Extracted Topic: (3, '0.017*\"people\" + 0.008*\"dont\" + 0.007*\"government\" + 0.006*\"even\" + 0.006*\"country\"')\n",
      "Extracted Topic: (4, '0.009*\"years\" + 0.009*\"dog\" + 0.008*\"one\" + 0.006*\"home\" + 0.006*\"time\"')\n",
      "Saved topic modeling for Reddit to /Users/tnathu-ai/VSCode/Government-Digital-Transformation/data/intermediate/analysis/reddit_topic_modeling.txt\n",
      "Saved qualitative analysis for Reddit to /Users/tnathu-ai/VSCode/Government-Digital-Transformation/data/intermediate/analysis/reddit_qualitative_analysis.txt\n"
     ]
    },
    {
     "name": "stderr",
     "output_type": "stream",
     "text": [
      "<timed exec>:63: SettingWithCopyWarning: \n",
      "A value is trying to be set on a copy of a slice from a DataFrame.\n",
      "Try using .loc[row_indexer,col_indexer] = value instead\n",
      "\n",
      "See the caveats in the documentation: https://pandas.pydata.org/pandas-docs/stable/user_guide/indexing.html#returning-a-view-versus-a-copy\n"
     ]
    },
    {
     "name": "stdout",
     "output_type": "stream",
     "text": [
      "Saved time series visualization for Reddit - Topic: 2023  2024  application  to /Users/tnathu-ai/VSCode/Government-Digital-Transformation/assets/images/reddit_time_series_analysis_2023  2024  application .png\n"
     ]
    },
    {
     "name": "stderr",
     "output_type": "stream",
     "text": [
      "<timed exec>:63: SettingWithCopyWarning: \n",
      "A value is trying to be set on a copy of a slice from a DataFrame.\n",
      "Try using .loc[row_indexer,col_indexer] = value instead\n",
      "\n",
      "See the caveats in the documentation: https://pandas.pydata.org/pandas-docs/stable/user_guide/indexing.html#returning-a-view-versus-a-copy\n"
     ]
    },
    {
     "name": "stdout",
     "output_type": "stream",
     "text": [
      "Saved time series visualization for Reddit - Topic: like  im  people  to /Users/tnathu-ai/VSCode/Government-Digital-Transformation/assets/images/reddit_time_series_analysis_like  im  people .png\n"
     ]
    },
    {
     "name": "stderr",
     "output_type": "stream",
     "text": [
      "<timed exec>:63: SettingWithCopyWarning: \n",
      "A value is trying to be set on a copy of a slice from a DataFrame.\n",
      "Try using .loc[row_indexer,col_indexer] = value instead\n",
      "\n",
      "See the caveats in the documentation: https://pandas.pydata.org/pandas-docs/stable/user_guide/indexing.html#returning-a-view-versus-a-copy\n"
     ]
    },
    {
     "name": "stdout",
     "output_type": "stream",
     "text": [
      "Saved time series visualization for Reddit - Topic: us  visa  would  to /Users/tnathu-ai/VSCode/Government-Digital-Transformation/assets/images/reddit_time_series_analysis_us  visa  would .png\n"
     ]
    },
    {
     "name": "stderr",
     "output_type": "stream",
     "text": [
      "<timed exec>:63: SettingWithCopyWarning: \n",
      "A value is trying to be set on a copy of a slice from a DataFrame.\n",
      "Try using .loc[row_indexer,col_indexer] = value instead\n",
      "\n",
      "See the caveats in the documentation: https://pandas.pydata.org/pandas-docs/stable/user_guide/indexing.html#returning-a-view-versus-a-copy\n"
     ]
    },
    {
     "name": "stdout",
     "output_type": "stream",
     "text": [
      "Saved time series visualization for Reddit - Topic: people  dont  government  to /Users/tnathu-ai/VSCode/Government-Digital-Transformation/assets/images/reddit_time_series_analysis_people  dont  government .png\n"
     ]
    },
    {
     "name": "stderr",
     "output_type": "stream",
     "text": [
      "<timed exec>:63: SettingWithCopyWarning: \n",
      "A value is trying to be set on a copy of a slice from a DataFrame.\n",
      "Try using .loc[row_indexer,col_indexer] = value instead\n",
      "\n",
      "See the caveats in the documentation: https://pandas.pydata.org/pandas-docs/stable/user_guide/indexing.html#returning-a-view-versus-a-copy\n"
     ]
    },
    {
     "name": "stdout",
     "output_type": "stream",
     "text": [
      "Saved time series visualization for Reddit - Topic: years  dog  one  to /Users/tnathu-ai/VSCode/Government-Digital-Transformation/assets/images/reddit_time_series_analysis_years  dog  one .png\n",
      "Saved sentiment analysis for Reddit to /Users/tnathu-ai/VSCode/Government-Digital-Transformation/data/intermediate/analysis/reddit_sentiment_analysis.txt\n",
      "Extracted Topic: (0, '0.022*\"people\" + 0.016*\"dont\" + 0.015*\"like\" + 0.010*\"think\" + 0.010*\"im\"')\n",
      "Extracted Topic: (1, '0.011*\"year\" + 0.010*\"power\" + 0.010*\"years\" + 0.010*\"state\" + 0.009*\"fires\"')\n",
      "Extracted Topic: (2, '0.011*\"government\" + 0.010*\"change\" + 0.010*\"us\" + 0.010*\"climate\" + 0.009*\"policy\"')\n",
      "Extracted Topic: (3, '0.021*\"energy\" + 0.017*\"nuclear\" + 0.015*\"power\" + 0.011*\"solar\" + 0.010*\"coal\"')\n",
      "Extracted Topic: (4, '0.016*\"tax\" + 0.012*\"money\" + 0.010*\"people\" + 0.009*\"would\" + 0.008*\"pay\"')\n",
      "Saved topic modeling for Reddit to /Users/tnathu-ai/VSCode/Government-Digital-Transformation/data/intermediate/analysis/reddit_topic_modeling.txt\n",
      "Saved qualitative analysis for Reddit to /Users/tnathu-ai/VSCode/Government-Digital-Transformation/data/intermediate/analysis/reddit_qualitative_analysis.txt\n"
     ]
    },
    {
     "name": "stderr",
     "output_type": "stream",
     "text": [
      "<timed exec>:63: SettingWithCopyWarning: \n",
      "A value is trying to be set on a copy of a slice from a DataFrame.\n",
      "Try using .loc[row_indexer,col_indexer] = value instead\n",
      "\n",
      "See the caveats in the documentation: https://pandas.pydata.org/pandas-docs/stable/user_guide/indexing.html#returning-a-view-versus-a-copy\n"
     ]
    },
    {
     "name": "stdout",
     "output_type": "stream",
     "text": [
      "Saved time series visualization for Reddit - Topic: people  dont  like  to /Users/tnathu-ai/VSCode/Government-Digital-Transformation/assets/images/reddit_time_series_analysis_people  dont  like .png\n"
     ]
    },
    {
     "name": "stderr",
     "output_type": "stream",
     "text": [
      "<timed exec>:63: SettingWithCopyWarning: \n",
      "A value is trying to be set on a copy of a slice from a DataFrame.\n",
      "Try using .loc[row_indexer,col_indexer] = value instead\n",
      "\n",
      "See the caveats in the documentation: https://pandas.pydata.org/pandas-docs/stable/user_guide/indexing.html#returning-a-view-versus-a-copy\n"
     ]
    },
    {
     "name": "stdout",
     "output_type": "stream",
     "text": [
      "Saved time series visualization for Reddit - Topic: year  power  years  to /Users/tnathu-ai/VSCode/Government-Digital-Transformation/assets/images/reddit_time_series_analysis_year  power  years .png\n"
     ]
    },
    {
     "name": "stderr",
     "output_type": "stream",
     "text": [
      "<timed exec>:63: SettingWithCopyWarning: \n",
      "A value is trying to be set on a copy of a slice from a DataFrame.\n",
      "Try using .loc[row_indexer,col_indexer] = value instead\n",
      "\n",
      "See the caveats in the documentation: https://pandas.pydata.org/pandas-docs/stable/user_guide/indexing.html#returning-a-view-versus-a-copy\n"
     ]
    },
    {
     "name": "stdout",
     "output_type": "stream",
     "text": [
      "Saved time series visualization for Reddit - Topic: government  change  us  to /Users/tnathu-ai/VSCode/Government-Digital-Transformation/assets/images/reddit_time_series_analysis_government  change  us .png\n"
     ]
    },
    {
     "name": "stderr",
     "output_type": "stream",
     "text": [
      "<timed exec>:63: SettingWithCopyWarning: \n",
      "A value is trying to be set on a copy of a slice from a DataFrame.\n",
      "Try using .loc[row_indexer,col_indexer] = value instead\n",
      "\n",
      "See the caveats in the documentation: https://pandas.pydata.org/pandas-docs/stable/user_guide/indexing.html#returning-a-view-versus-a-copy\n"
     ]
    },
    {
     "name": "stdout",
     "output_type": "stream",
     "text": [
      "Saved time series visualization for Reddit - Topic: energy  nuclear  power  to /Users/tnathu-ai/VSCode/Government-Digital-Transformation/assets/images/reddit_time_series_analysis_energy  nuclear  power .png\n"
     ]
    },
    {
     "name": "stderr",
     "output_type": "stream",
     "text": [
      "<timed exec>:63: SettingWithCopyWarning: \n",
      "A value is trying to be set on a copy of a slice from a DataFrame.\n",
      "Try using .loc[row_indexer,col_indexer] = value instead\n",
      "\n",
      "See the caveats in the documentation: https://pandas.pydata.org/pandas-docs/stable/user_guide/indexing.html#returning-a-view-versus-a-copy\n"
     ]
    },
    {
     "name": "stdout",
     "output_type": "stream",
     "text": [
      "Saved time series visualization for Reddit - Topic: tax  money  people  to /Users/tnathu-ai/VSCode/Government-Digital-Transformation/assets/images/reddit_time_series_analysis_tax  money  people .png\n",
      "Saved sentiment analysis for Reddit to /Users/tnathu-ai/VSCode/Government-Digital-Transformation/data/intermediate/analysis/reddit_sentiment_analysis.txt\n",
      "Extracted Topic: (0, '0.013*\"like\" + 0.012*\"im\" + 0.011*\"get\" + 0.010*\"people\" + 0.009*\"dont\"')\n",
      "Extracted Topic: (1, '0.014*\"people\" + 0.008*\"would\" + 0.008*\"oil\" + 0.008*\"government\" + 0.007*\"money\"')\n",
      "Extracted Topic: (2, '0.009*\"one\" + 0.008*\"party\" + 0.008*\"would\" + 0.007*\"like\" + 0.007*\"vote\"')\n",
      "Extracted Topic: (3, '0.015*\"people\" + 0.010*\"dont\" + 0.007*\"like\" + 0.007*\"us\" + 0.007*\"think\"')\n",
      "Extracted Topic: (4, '0.021*\"public\" + 0.018*\"work\" + 0.017*\"pay\" + 0.016*\"sector\" + 0.014*\"private\"')\n",
      "Saved topic modeling for Reddit to /Users/tnathu-ai/VSCode/Government-Digital-Transformation/data/intermediate/analysis/reddit_topic_modeling.txt\n",
      "Saved qualitative analysis for Reddit to /Users/tnathu-ai/VSCode/Government-Digital-Transformation/data/intermediate/analysis/reddit_qualitative_analysis.txt\n"
     ]
    },
    {
     "name": "stderr",
     "output_type": "stream",
     "text": [
      "<timed exec>:63: SettingWithCopyWarning: \n",
      "A value is trying to be set on a copy of a slice from a DataFrame.\n",
      "Try using .loc[row_indexer,col_indexer] = value instead\n",
      "\n",
      "See the caveats in the documentation: https://pandas.pydata.org/pandas-docs/stable/user_guide/indexing.html#returning-a-view-versus-a-copy\n"
     ]
    },
    {
     "name": "stdout",
     "output_type": "stream",
     "text": [
      "Saved time series visualization for Reddit - Topic: like  im  get  to /Users/tnathu-ai/VSCode/Government-Digital-Transformation/assets/images/reddit_time_series_analysis_like  im  get .png\n"
     ]
    },
    {
     "name": "stderr",
     "output_type": "stream",
     "text": [
      "<timed exec>:63: SettingWithCopyWarning: \n",
      "A value is trying to be set on a copy of a slice from a DataFrame.\n",
      "Try using .loc[row_indexer,col_indexer] = value instead\n",
      "\n",
      "See the caveats in the documentation: https://pandas.pydata.org/pandas-docs/stable/user_guide/indexing.html#returning-a-view-versus-a-copy\n"
     ]
    },
    {
     "name": "stdout",
     "output_type": "stream",
     "text": [
      "Saved time series visualization for Reddit - Topic: people  would  oil  to /Users/tnathu-ai/VSCode/Government-Digital-Transformation/assets/images/reddit_time_series_analysis_people  would  oil .png\n"
     ]
    },
    {
     "name": "stderr",
     "output_type": "stream",
     "text": [
      "<timed exec>:63: SettingWithCopyWarning: \n",
      "A value is trying to be set on a copy of a slice from a DataFrame.\n",
      "Try using .loc[row_indexer,col_indexer] = value instead\n",
      "\n",
      "See the caveats in the documentation: https://pandas.pydata.org/pandas-docs/stable/user_guide/indexing.html#returning-a-view-versus-a-copy\n"
     ]
    },
    {
     "name": "stdout",
     "output_type": "stream",
     "text": [
      "Saved time series visualization for Reddit - Topic: one  party  would  to /Users/tnathu-ai/VSCode/Government-Digital-Transformation/assets/images/reddit_time_series_analysis_one  party  would .png\n"
     ]
    },
    {
     "name": "stderr",
     "output_type": "stream",
     "text": [
      "<timed exec>:63: SettingWithCopyWarning: \n",
      "A value is trying to be set on a copy of a slice from a DataFrame.\n",
      "Try using .loc[row_indexer,col_indexer] = value instead\n",
      "\n",
      "See the caveats in the documentation: https://pandas.pydata.org/pandas-docs/stable/user_guide/indexing.html#returning-a-view-versus-a-copy\n"
     ]
    },
    {
     "name": "stdout",
     "output_type": "stream",
     "text": [
      "Saved time series visualization for Reddit - Topic: people  dont  like  to /Users/tnathu-ai/VSCode/Government-Digital-Transformation/assets/images/reddit_time_series_analysis_people  dont  like .png\n"
     ]
    },
    {
     "name": "stderr",
     "output_type": "stream",
     "text": [
      "<timed exec>:63: SettingWithCopyWarning: \n",
      "A value is trying to be set on a copy of a slice from a DataFrame.\n",
      "Try using .loc[row_indexer,col_indexer] = value instead\n",
      "\n",
      "See the caveats in the documentation: https://pandas.pydata.org/pandas-docs/stable/user_guide/indexing.html#returning-a-view-versus-a-copy\n"
     ]
    },
    {
     "name": "stdout",
     "output_type": "stream",
     "text": [
      "Saved time series visualization for Reddit - Topic: public  work  pay  to /Users/tnathu-ai/VSCode/Government-Digital-Transformation/assets/images/reddit_time_series_analysis_public  work  pay .png\n",
      "Saved sentiment analysis for Reddit to /Users/tnathu-ai/VSCode/Government-Digital-Transformation/data/intermediate/analysis/reddit_sentiment_analysis.txt\n",
      "Extracted Topic: (0, '0.014*\"car\" + 0.010*\"truck\" + 0.008*\"trucks\" + 0.008*\"need\" + 0.008*\"cars\"')\n",
      "Extracted Topic: (1, '0.021*\"dont\" + 0.018*\"like\" + 0.018*\"people\" + 0.014*\"im\" + 0.010*\"get\"')\n",
      "Extracted Topic: (2, '0.022*\"china\" + 0.021*\"us\" + 0.016*\"australia\" + 0.012*\"countries\" + 0.010*\"war\"')\n",
      "Extracted Topic: (3, '0.013*\"years\" + 0.010*\"israel\" + 0.008*\"back\" + 0.008*\"one\" + 0.007*\"trump\"')\n",
      "Extracted Topic: (4, '0.017*\"government\" + 0.017*\"people\" + 0.008*\"state\" + 0.006*\"us\" + 0.006*\"right\"')\n",
      "Saved topic modeling for Reddit to /Users/tnathu-ai/VSCode/Government-Digital-Transformation/data/intermediate/analysis/reddit_topic_modeling.txt\n",
      "Saved qualitative analysis for Reddit to /Users/tnathu-ai/VSCode/Government-Digital-Transformation/data/intermediate/analysis/reddit_qualitative_analysis.txt\n"
     ]
    },
    {
     "name": "stderr",
     "output_type": "stream",
     "text": [
      "<timed exec>:63: SettingWithCopyWarning: \n",
      "A value is trying to be set on a copy of a slice from a DataFrame.\n",
      "Try using .loc[row_indexer,col_indexer] = value instead\n",
      "\n",
      "See the caveats in the documentation: https://pandas.pydata.org/pandas-docs/stable/user_guide/indexing.html#returning-a-view-versus-a-copy\n"
     ]
    },
    {
     "name": "stdout",
     "output_type": "stream",
     "text": [
      "Saved time series visualization for Reddit - Topic: car  truck  trucks  to /Users/tnathu-ai/VSCode/Government-Digital-Transformation/assets/images/reddit_time_series_analysis_car  truck  trucks .png\n"
     ]
    },
    {
     "name": "stderr",
     "output_type": "stream",
     "text": [
      "<timed exec>:63: SettingWithCopyWarning: \n",
      "A value is trying to be set on a copy of a slice from a DataFrame.\n",
      "Try using .loc[row_indexer,col_indexer] = value instead\n",
      "\n",
      "See the caveats in the documentation: https://pandas.pydata.org/pandas-docs/stable/user_guide/indexing.html#returning-a-view-versus-a-copy\n"
     ]
    },
    {
     "name": "stdout",
     "output_type": "stream",
     "text": [
      "Saved time series visualization for Reddit - Topic: dont  like  people  to /Users/tnathu-ai/VSCode/Government-Digital-Transformation/assets/images/reddit_time_series_analysis_dont  like  people .png\n"
     ]
    },
    {
     "name": "stderr",
     "output_type": "stream",
     "text": [
      "<timed exec>:63: SettingWithCopyWarning: \n",
      "A value is trying to be set on a copy of a slice from a DataFrame.\n",
      "Try using .loc[row_indexer,col_indexer] = value instead\n",
      "\n",
      "See the caveats in the documentation: https://pandas.pydata.org/pandas-docs/stable/user_guide/indexing.html#returning-a-view-versus-a-copy\n"
     ]
    },
    {
     "name": "stdout",
     "output_type": "stream",
     "text": [
      "Saved time series visualization for Reddit - Topic: china  us  australia  to /Users/tnathu-ai/VSCode/Government-Digital-Transformation/assets/images/reddit_time_series_analysis_china  us  australia .png\n"
     ]
    },
    {
     "name": "stderr",
     "output_type": "stream",
     "text": [
      "<timed exec>:63: SettingWithCopyWarning: \n",
      "A value is trying to be set on a copy of a slice from a DataFrame.\n",
      "Try using .loc[row_indexer,col_indexer] = value instead\n",
      "\n",
      "See the caveats in the documentation: https://pandas.pydata.org/pandas-docs/stable/user_guide/indexing.html#returning-a-view-versus-a-copy\n"
     ]
    },
    {
     "name": "stdout",
     "output_type": "stream",
     "text": [
      "Saved time series visualization for Reddit - Topic: years  israel  back  to /Users/tnathu-ai/VSCode/Government-Digital-Transformation/assets/images/reddit_time_series_analysis_years  israel  back .png\n"
     ]
    },
    {
     "name": "stderr",
     "output_type": "stream",
     "text": [
      "<timed exec>:63: SettingWithCopyWarning: \n",
      "A value is trying to be set on a copy of a slice from a DataFrame.\n",
      "Try using .loc[row_indexer,col_indexer] = value instead\n",
      "\n",
      "See the caveats in the documentation: https://pandas.pydata.org/pandas-docs/stable/user_guide/indexing.html#returning-a-view-versus-a-copy\n"
     ]
    },
    {
     "name": "stdout",
     "output_type": "stream",
     "text": [
      "Saved time series visualization for Reddit - Topic: government  people  state  to /Users/tnathu-ai/VSCode/Government-Digital-Transformation/assets/images/reddit_time_series_analysis_government  people  state .png\n",
      "Saved sentiment analysis for Reddit to /Users/tnathu-ai/VSCode/Government-Digital-Transformation/data/intermediate/analysis/reddit_sentiment_analysis.txt\n",
      "Extracted Topic: (0, '0.013*\"us\" + 0.010*\"country\" + 0.009*\"like\" + 0.008*\"australia\" + 0.008*\"get\"')\n",
      "Extracted Topic: (1, '0.015*\"media\" + 0.010*\"social\" + 0.008*\"would\" + 0.006*\"money\" + 0.006*\"make\"')\n",
      "Extracted Topic: (2, '0.017*\"news\" + 0.013*\"would\" + 0.007*\"right\" + 0.007*\"party\" + 0.007*\"one\"')\n",
      "Extracted Topic: (3, '0.021*\"like\" + 0.017*\"dont\" + 0.012*\"im\" + 0.011*\"people\" + 0.008*\"know\"')\n",
      "Extracted Topic: (4, '0.027*\"people\" + 0.010*\"dont\" + 0.009*\"government\" + 0.007*\"right\" + 0.007*\"want\"')\n",
      "Saved topic modeling for Reddit to /Users/tnathu-ai/VSCode/Government-Digital-Transformation/data/intermediate/analysis/reddit_topic_modeling.txt\n",
      "Saved qualitative analysis for Reddit to /Users/tnathu-ai/VSCode/Government-Digital-Transformation/data/intermediate/analysis/reddit_qualitative_analysis.txt\n"
     ]
    },
    {
     "name": "stderr",
     "output_type": "stream",
     "text": [
      "<timed exec>:63: SettingWithCopyWarning: \n",
      "A value is trying to be set on a copy of a slice from a DataFrame.\n",
      "Try using .loc[row_indexer,col_indexer] = value instead\n",
      "\n",
      "See the caveats in the documentation: https://pandas.pydata.org/pandas-docs/stable/user_guide/indexing.html#returning-a-view-versus-a-copy\n"
     ]
    },
    {
     "name": "stdout",
     "output_type": "stream",
     "text": [
      "Saved time series visualization for Reddit - Topic: us  country  like  to /Users/tnathu-ai/VSCode/Government-Digital-Transformation/assets/images/reddit_time_series_analysis_us  country  like .png\n"
     ]
    },
    {
     "name": "stderr",
     "output_type": "stream",
     "text": [
      "<timed exec>:63: SettingWithCopyWarning: \n",
      "A value is trying to be set on a copy of a slice from a DataFrame.\n",
      "Try using .loc[row_indexer,col_indexer] = value instead\n",
      "\n",
      "See the caveats in the documentation: https://pandas.pydata.org/pandas-docs/stable/user_guide/indexing.html#returning-a-view-versus-a-copy\n"
     ]
    },
    {
     "name": "stdout",
     "output_type": "stream",
     "text": [
      "Saved time series visualization for Reddit - Topic: media  social  would  to /Users/tnathu-ai/VSCode/Government-Digital-Transformation/assets/images/reddit_time_series_analysis_media  social  would .png\n"
     ]
    },
    {
     "name": "stderr",
     "output_type": "stream",
     "text": [
      "<timed exec>:63: SettingWithCopyWarning: \n",
      "A value is trying to be set on a copy of a slice from a DataFrame.\n",
      "Try using .loc[row_indexer,col_indexer] = value instead\n",
      "\n",
      "See the caveats in the documentation: https://pandas.pydata.org/pandas-docs/stable/user_guide/indexing.html#returning-a-view-versus-a-copy\n"
     ]
    },
    {
     "name": "stdout",
     "output_type": "stream",
     "text": [
      "Saved time series visualization for Reddit - Topic: news  would  right  to /Users/tnathu-ai/VSCode/Government-Digital-Transformation/assets/images/reddit_time_series_analysis_news  would  right .png\n"
     ]
    },
    {
     "name": "stderr",
     "output_type": "stream",
     "text": [
      "<timed exec>:63: SettingWithCopyWarning: \n",
      "A value is trying to be set on a copy of a slice from a DataFrame.\n",
      "Try using .loc[row_indexer,col_indexer] = value instead\n",
      "\n",
      "See the caveats in the documentation: https://pandas.pydata.org/pandas-docs/stable/user_guide/indexing.html#returning-a-view-versus-a-copy\n"
     ]
    },
    {
     "name": "stdout",
     "output_type": "stream",
     "text": [
      "Saved time series visualization for Reddit - Topic: like  dont  im  to /Users/tnathu-ai/VSCode/Government-Digital-Transformation/assets/images/reddit_time_series_analysis_like  dont  im .png\n"
     ]
    },
    {
     "name": "stderr",
     "output_type": "stream",
     "text": [
      "<timed exec>:63: SettingWithCopyWarning: \n",
      "A value is trying to be set on a copy of a slice from a DataFrame.\n",
      "Try using .loc[row_indexer,col_indexer] = value instead\n",
      "\n",
      "See the caveats in the documentation: https://pandas.pydata.org/pandas-docs/stable/user_guide/indexing.html#returning-a-view-versus-a-copy\n"
     ]
    },
    {
     "name": "stdout",
     "output_type": "stream",
     "text": [
      "Saved time series visualization for Reddit - Topic: people  dont  government  to /Users/tnathu-ai/VSCode/Government-Digital-Transformation/assets/images/reddit_time_series_analysis_people  dont  government .png\n",
      "Saved sentiment analysis for Reddit to /Users/tnathu-ai/VSCode/Government-Digital-Transformation/data/intermediate/analysis/reddit_sentiment_analysis.txt\n",
      "Extracted Topic: (0, '0.009*\"get\" + 0.008*\"school\" + 0.008*\"kids\" + 0.008*\"one\" + 0.007*\"years\"')\n",
      "Extracted Topic: (1, '0.045*\"people\" + 0.019*\"dont\" + 0.009*\"think\" + 0.008*\"like\" + 0.008*\"would\"')\n",
      "Extracted Topic: (2, '0.039*\"mask\" + 0.019*\"wearing\" + 0.017*\"wear\" + 0.016*\"cops\" + 0.015*\"police\"')\n",
      "Extracted Topic: (3, '0.015*\"like\" + 0.014*\"police\" + 0.010*\"would\" + 0.010*\"officer\" + 0.010*\"im\"')\n",
      "Extracted Topic: (4, '0.008*\"news\" + 0.007*\"public\" + 0.007*\"like\" + 0.007*\"government\" + 0.006*\"would\"')\n",
      "Saved topic modeling for Reddit to /Users/tnathu-ai/VSCode/Government-Digital-Transformation/data/intermediate/analysis/reddit_topic_modeling.txt\n",
      "Saved qualitative analysis for Reddit to /Users/tnathu-ai/VSCode/Government-Digital-Transformation/data/intermediate/analysis/reddit_qualitative_analysis.txt\n"
     ]
    },
    {
     "name": "stderr",
     "output_type": "stream",
     "text": [
      "<timed exec>:63: SettingWithCopyWarning: \n",
      "A value is trying to be set on a copy of a slice from a DataFrame.\n",
      "Try using .loc[row_indexer,col_indexer] = value instead\n",
      "\n",
      "See the caveats in the documentation: https://pandas.pydata.org/pandas-docs/stable/user_guide/indexing.html#returning-a-view-versus-a-copy\n"
     ]
    },
    {
     "name": "stdout",
     "output_type": "stream",
     "text": [
      "Saved time series visualization for Reddit - Topic: get  school  kids  to /Users/tnathu-ai/VSCode/Government-Digital-Transformation/assets/images/reddit_time_series_analysis_get  school  kids .png\n"
     ]
    },
    {
     "name": "stderr",
     "output_type": "stream",
     "text": [
      "<timed exec>:63: SettingWithCopyWarning: \n",
      "A value is trying to be set on a copy of a slice from a DataFrame.\n",
      "Try using .loc[row_indexer,col_indexer] = value instead\n",
      "\n",
      "See the caveats in the documentation: https://pandas.pydata.org/pandas-docs/stable/user_guide/indexing.html#returning-a-view-versus-a-copy\n"
     ]
    },
    {
     "name": "stdout",
     "output_type": "stream",
     "text": [
      "Saved time series visualization for Reddit - Topic: people  dont  think  to /Users/tnathu-ai/VSCode/Government-Digital-Transformation/assets/images/reddit_time_series_analysis_people  dont  think .png\n"
     ]
    },
    {
     "name": "stderr",
     "output_type": "stream",
     "text": [
      "<timed exec>:63: SettingWithCopyWarning: \n",
      "A value is trying to be set on a copy of a slice from a DataFrame.\n",
      "Try using .loc[row_indexer,col_indexer] = value instead\n",
      "\n",
      "See the caveats in the documentation: https://pandas.pydata.org/pandas-docs/stable/user_guide/indexing.html#returning-a-view-versus-a-copy\n"
     ]
    },
    {
     "name": "stdout",
     "output_type": "stream",
     "text": [
      "Saved time series visualization for Reddit - Topic: mask  wearing  wear  to /Users/tnathu-ai/VSCode/Government-Digital-Transformation/assets/images/reddit_time_series_analysis_mask  wearing  wear .png\n"
     ]
    },
    {
     "name": "stderr",
     "output_type": "stream",
     "text": [
      "<timed exec>:63: SettingWithCopyWarning: \n",
      "A value is trying to be set on a copy of a slice from a DataFrame.\n",
      "Try using .loc[row_indexer,col_indexer] = value instead\n",
      "\n",
      "See the caveats in the documentation: https://pandas.pydata.org/pandas-docs/stable/user_guide/indexing.html#returning-a-view-versus-a-copy\n"
     ]
    },
    {
     "name": "stdout",
     "output_type": "stream",
     "text": [
      "Saved time series visualization for Reddit - Topic: like  police  would  to /Users/tnathu-ai/VSCode/Government-Digital-Transformation/assets/images/reddit_time_series_analysis_like  police  would .png\n"
     ]
    },
    {
     "name": "stderr",
     "output_type": "stream",
     "text": [
      "<timed exec>:63: SettingWithCopyWarning: \n",
      "A value is trying to be set on a copy of a slice from a DataFrame.\n",
      "Try using .loc[row_indexer,col_indexer] = value instead\n",
      "\n",
      "See the caveats in the documentation: https://pandas.pydata.org/pandas-docs/stable/user_guide/indexing.html#returning-a-view-versus-a-copy\n"
     ]
    },
    {
     "name": "stdout",
     "output_type": "stream",
     "text": [
      "Saved time series visualization for Reddit - Topic: news  public  like  to /Users/tnathu-ai/VSCode/Government-Digital-Transformation/assets/images/reddit_time_series_analysis_news  public  like .png\n",
      "Saved sentiment analysis for Reddit to /Users/tnathu-ai/VSCode/Government-Digital-Transformation/data/intermediate/analysis/reddit_sentiment_analysis.txt\n",
      "Extracted Topic: (0, '0.015*\"people\" + 0.011*\"tax\" + 0.011*\"would\" + 0.010*\"dont\" + 0.007*\"money\"')\n",
      "Extracted Topic: (1, '0.029*\"super\" + 0.021*\"fund\" + 0.012*\"funds\" + 0.011*\"australian\" + 0.010*\"insurance\"')\n",
      "Extracted Topic: (2, '0.025*\"super\" + 0.014*\"people\" + 0.009*\"money\" + 0.008*\"im\" + 0.008*\"get\"')\n",
      "Extracted Topic: (3, '0.013*\"life\" + 0.012*\"work\" + 0.010*\"go\" + 0.009*\"small\" + 0.008*\"please\"')\n",
      "Extracted Topic: (4, '0.015*\"time\" + 0.015*\"work\" + 0.013*\"years\" + 0.013*\"women\" + 0.010*\"fuck\"')\n",
      "Saved topic modeling for Reddit to /Users/tnathu-ai/VSCode/Government-Digital-Transformation/data/intermediate/analysis/reddit_topic_modeling.txt\n",
      "Saved qualitative analysis for Reddit to /Users/tnathu-ai/VSCode/Government-Digital-Transformation/data/intermediate/analysis/reddit_qualitative_analysis.txt\n"
     ]
    },
    {
     "name": "stderr",
     "output_type": "stream",
     "text": [
      "<timed exec>:63: SettingWithCopyWarning: \n",
      "A value is trying to be set on a copy of a slice from a DataFrame.\n",
      "Try using .loc[row_indexer,col_indexer] = value instead\n",
      "\n",
      "See the caveats in the documentation: https://pandas.pydata.org/pandas-docs/stable/user_guide/indexing.html#returning-a-view-versus-a-copy\n"
     ]
    },
    {
     "name": "stdout",
     "output_type": "stream",
     "text": [
      "Saved time series visualization for Reddit - Topic: people  tax  would  to /Users/tnathu-ai/VSCode/Government-Digital-Transformation/assets/images/reddit_time_series_analysis_people  tax  would .png\n"
     ]
    },
    {
     "name": "stderr",
     "output_type": "stream",
     "text": [
      "<timed exec>:63: SettingWithCopyWarning: \n",
      "A value is trying to be set on a copy of a slice from a DataFrame.\n",
      "Try using .loc[row_indexer,col_indexer] = value instead\n",
      "\n",
      "See the caveats in the documentation: https://pandas.pydata.org/pandas-docs/stable/user_guide/indexing.html#returning-a-view-versus-a-copy\n"
     ]
    },
    {
     "name": "stdout",
     "output_type": "stream",
     "text": [
      "Saved time series visualization for Reddit - Topic: super  fund  funds  to /Users/tnathu-ai/VSCode/Government-Digital-Transformation/assets/images/reddit_time_series_analysis_super  fund  funds .png\n"
     ]
    },
    {
     "name": "stderr",
     "output_type": "stream",
     "text": [
      "<timed exec>:63: SettingWithCopyWarning: \n",
      "A value is trying to be set on a copy of a slice from a DataFrame.\n",
      "Try using .loc[row_indexer,col_indexer] = value instead\n",
      "\n",
      "See the caveats in the documentation: https://pandas.pydata.org/pandas-docs/stable/user_guide/indexing.html#returning-a-view-versus-a-copy\n"
     ]
    },
    {
     "name": "stdout",
     "output_type": "stream",
     "text": [
      "Saved time series visualization for Reddit - Topic: super  people  money  to /Users/tnathu-ai/VSCode/Government-Digital-Transformation/assets/images/reddit_time_series_analysis_super  people  money .png\n"
     ]
    },
    {
     "name": "stderr",
     "output_type": "stream",
     "text": [
      "<timed exec>:63: SettingWithCopyWarning: \n",
      "A value is trying to be set on a copy of a slice from a DataFrame.\n",
      "Try using .loc[row_indexer,col_indexer] = value instead\n",
      "\n",
      "See the caveats in the documentation: https://pandas.pydata.org/pandas-docs/stable/user_guide/indexing.html#returning-a-view-versus-a-copy\n"
     ]
    },
    {
     "name": "stdout",
     "output_type": "stream",
     "text": [
      "Saved time series visualization for Reddit - Topic: life  work  go  to /Users/tnathu-ai/VSCode/Government-Digital-Transformation/assets/images/reddit_time_series_analysis_life  work  go .png\n",
      "Saved time series visualization for Reddit - Topic: time  work  years  to /Users/tnathu-ai/VSCode/Government-Digital-Transformation/assets/images/reddit_time_series_analysis_time  work  years .png\n"
     ]
    },
    {
     "name": "stderr",
     "output_type": "stream",
     "text": [
      "<timed exec>:63: SettingWithCopyWarning: \n",
      "A value is trying to be set on a copy of a slice from a DataFrame.\n",
      "Try using .loc[row_indexer,col_indexer] = value instead\n",
      "\n",
      "See the caveats in the documentation: https://pandas.pydata.org/pandas-docs/stable/user_guide/indexing.html#returning-a-view-versus-a-copy\n"
     ]
    },
    {
     "name": "stdout",
     "output_type": "stream",
     "text": [
      "Saved sentiment analysis for Reddit to /Users/tnathu-ai/VSCode/Government-Digital-Transformation/data/intermediate/analysis/reddit_sentiment_analysis.txt\n",
      "Extracted Topic: (0, '0.010*\"would\" + 0.009*\"power\" + 0.009*\"people\" + 0.008*\"coal\" + 0.008*\"energy\"')\n",
      "Extracted Topic: (1, '0.019*\"climate\" + 0.018*\"people\" + 0.017*\"change\" + 0.015*\"dont\" + 0.010*\"think\"')\n",
      "Extracted Topic: (2, '0.013*\"years\" + 0.009*\"global\" + 0.008*\"climate\" + 0.008*\"like\" + 0.007*\"emissions\"')\n",
      "Extracted Topic: (3, '0.013*\"party\" + 0.010*\"vote\" + 0.010*\"like\" + 0.009*\"get\" + 0.009*\"labor\"')\n",
      "Extracted Topic: (4, '0.015*\"fires\" + 0.012*\"fire\" + 0.012*\"australia\" + 0.006*\"burning\" + 0.006*\"areas\"')\n",
      "Saved topic modeling for Reddit to /Users/tnathu-ai/VSCode/Government-Digital-Transformation/data/intermediate/analysis/reddit_topic_modeling.txt\n",
      "Saved qualitative analysis for Reddit to /Users/tnathu-ai/VSCode/Government-Digital-Transformation/data/intermediate/analysis/reddit_qualitative_analysis.txt\n"
     ]
    },
    {
     "name": "stderr",
     "output_type": "stream",
     "text": [
      "<timed exec>:63: SettingWithCopyWarning: \n",
      "A value is trying to be set on a copy of a slice from a DataFrame.\n",
      "Try using .loc[row_indexer,col_indexer] = value instead\n",
      "\n",
      "See the caveats in the documentation: https://pandas.pydata.org/pandas-docs/stable/user_guide/indexing.html#returning-a-view-versus-a-copy\n"
     ]
    },
    {
     "name": "stdout",
     "output_type": "stream",
     "text": [
      "Saved time series visualization for Reddit - Topic: would  power  people  to /Users/tnathu-ai/VSCode/Government-Digital-Transformation/assets/images/reddit_time_series_analysis_would  power  people .png\n"
     ]
    },
    {
     "name": "stderr",
     "output_type": "stream",
     "text": [
      "<timed exec>:63: SettingWithCopyWarning: \n",
      "A value is trying to be set on a copy of a slice from a DataFrame.\n",
      "Try using .loc[row_indexer,col_indexer] = value instead\n",
      "\n",
      "See the caveats in the documentation: https://pandas.pydata.org/pandas-docs/stable/user_guide/indexing.html#returning-a-view-versus-a-copy\n"
     ]
    },
    {
     "name": "stdout",
     "output_type": "stream",
     "text": [
      "Saved time series visualization for Reddit - Topic: climate  people  change  to /Users/tnathu-ai/VSCode/Government-Digital-Transformation/assets/images/reddit_time_series_analysis_climate  people  change .png\n"
     ]
    },
    {
     "name": "stderr",
     "output_type": "stream",
     "text": [
      "<timed exec>:63: SettingWithCopyWarning: \n",
      "A value is trying to be set on a copy of a slice from a DataFrame.\n",
      "Try using .loc[row_indexer,col_indexer] = value instead\n",
      "\n",
      "See the caveats in the documentation: https://pandas.pydata.org/pandas-docs/stable/user_guide/indexing.html#returning-a-view-versus-a-copy\n"
     ]
    },
    {
     "name": "stdout",
     "output_type": "stream",
     "text": [
      "Saved time series visualization for Reddit - Topic: years  global  climate  to /Users/tnathu-ai/VSCode/Government-Digital-Transformation/assets/images/reddit_time_series_analysis_years  global  climate .png\n"
     ]
    },
    {
     "name": "stderr",
     "output_type": "stream",
     "text": [
      "<timed exec>:63: SettingWithCopyWarning: \n",
      "A value is trying to be set on a copy of a slice from a DataFrame.\n",
      "Try using .loc[row_indexer,col_indexer] = value instead\n",
      "\n",
      "See the caveats in the documentation: https://pandas.pydata.org/pandas-docs/stable/user_guide/indexing.html#returning-a-view-versus-a-copy\n"
     ]
    },
    {
     "name": "stdout",
     "output_type": "stream",
     "text": [
      "Saved time series visualization for Reddit - Topic: party  vote  like  to /Users/tnathu-ai/VSCode/Government-Digital-Transformation/assets/images/reddit_time_series_analysis_party  vote  like .png\n"
     ]
    },
    {
     "name": "stderr",
     "output_type": "stream",
     "text": [
      "<timed exec>:63: SettingWithCopyWarning: \n",
      "A value is trying to be set on a copy of a slice from a DataFrame.\n",
      "Try using .loc[row_indexer,col_indexer] = value instead\n",
      "\n",
      "See the caveats in the documentation: https://pandas.pydata.org/pandas-docs/stable/user_guide/indexing.html#returning-a-view-versus-a-copy\n"
     ]
    },
    {
     "name": "stdout",
     "output_type": "stream",
     "text": [
      "Saved time series visualization for Reddit - Topic: fires  fire  australia  to /Users/tnathu-ai/VSCode/Government-Digital-Transformation/assets/images/reddit_time_series_analysis_fires  fire  australia .png\n",
      "Saved sentiment analysis for Reddit to /Users/tnathu-ai/VSCode/Government-Digital-Transformation/data/intermediate/analysis/reddit_sentiment_analysis.txt\n",
      "Extracted Topic: (0, '0.013*\"us\" + 0.012*\"eu\" + 0.010*\"would\" + 0.009*\"laws\" + 0.008*\"google\"')\n",
      "Extracted Topic: (1, '0.009*\"law\" + 0.009*\"legal\" + 0.007*\"use\" + 0.006*\"point\" + 0.005*\"right\"')\n",
      "Extracted Topic: (2, '0.020*\"copyright\" + 0.015*\"patent\" + 0.014*\"would\" + 0.011*\"patents\" + 0.010*\"work\"')\n",
      "Extracted Topic: (3, '0.012*\"software\" + 0.010*\"would\" + 0.009*\"need\" + 0.007*\"get\" + 0.007*\"dont\"')\n",
      "Extracted Topic: (4, '0.024*\"people\" + 0.018*\"like\" + 0.014*\"dont\" + 0.011*\"get\" + 0.011*\"im\"')\n",
      "Saved topic modeling for Reddit to /Users/tnathu-ai/VSCode/Government-Digital-Transformation/data/intermediate/analysis/reddit_topic_modeling.txt\n",
      "Saved qualitative analysis for Reddit to /Users/tnathu-ai/VSCode/Government-Digital-Transformation/data/intermediate/analysis/reddit_qualitative_analysis.txt\n"
     ]
    },
    {
     "name": "stderr",
     "output_type": "stream",
     "text": [
      "<timed exec>:63: SettingWithCopyWarning: \n",
      "A value is trying to be set on a copy of a slice from a DataFrame.\n",
      "Try using .loc[row_indexer,col_indexer] = value instead\n",
      "\n",
      "See the caveats in the documentation: https://pandas.pydata.org/pandas-docs/stable/user_guide/indexing.html#returning-a-view-versus-a-copy\n"
     ]
    },
    {
     "name": "stdout",
     "output_type": "stream",
     "text": [
      "Saved time series visualization for Reddit - Topic: us  eu  would  to /Users/tnathu-ai/VSCode/Government-Digital-Transformation/assets/images/reddit_time_series_analysis_us  eu  would .png\n"
     ]
    },
    {
     "name": "stderr",
     "output_type": "stream",
     "text": [
      "<timed exec>:63: SettingWithCopyWarning: \n",
      "A value is trying to be set on a copy of a slice from a DataFrame.\n",
      "Try using .loc[row_indexer,col_indexer] = value instead\n",
      "\n",
      "See the caveats in the documentation: https://pandas.pydata.org/pandas-docs/stable/user_guide/indexing.html#returning-a-view-versus-a-copy\n"
     ]
    },
    {
     "name": "stdout",
     "output_type": "stream",
     "text": [
      "Saved time series visualization for Reddit - Topic: law  legal  use  to /Users/tnathu-ai/VSCode/Government-Digital-Transformation/assets/images/reddit_time_series_analysis_law  legal  use .png\n"
     ]
    },
    {
     "name": "stderr",
     "output_type": "stream",
     "text": [
      "<timed exec>:63: SettingWithCopyWarning: \n",
      "A value is trying to be set on a copy of a slice from a DataFrame.\n",
      "Try using .loc[row_indexer,col_indexer] = value instead\n",
      "\n",
      "See the caveats in the documentation: https://pandas.pydata.org/pandas-docs/stable/user_guide/indexing.html#returning-a-view-versus-a-copy\n"
     ]
    },
    {
     "name": "stdout",
     "output_type": "stream",
     "text": [
      "Saved time series visualization for Reddit - Topic: copyright  patent  would  to /Users/tnathu-ai/VSCode/Government-Digital-Transformation/assets/images/reddit_time_series_analysis_copyright  patent  would .png\n"
     ]
    },
    {
     "name": "stderr",
     "output_type": "stream",
     "text": [
      "<timed exec>:63: SettingWithCopyWarning: \n",
      "A value is trying to be set on a copy of a slice from a DataFrame.\n",
      "Try using .loc[row_indexer,col_indexer] = value instead\n",
      "\n",
      "See the caveats in the documentation: https://pandas.pydata.org/pandas-docs/stable/user_guide/indexing.html#returning-a-view-versus-a-copy\n"
     ]
    },
    {
     "name": "stdout",
     "output_type": "stream",
     "text": [
      "Saved time series visualization for Reddit - Topic: software  would  need  to /Users/tnathu-ai/VSCode/Government-Digital-Transformation/assets/images/reddit_time_series_analysis_software  would  need .png\n"
     ]
    },
    {
     "name": "stderr",
     "output_type": "stream",
     "text": [
      "<timed exec>:63: SettingWithCopyWarning: \n",
      "A value is trying to be set on a copy of a slice from a DataFrame.\n",
      "Try using .loc[row_indexer,col_indexer] = value instead\n",
      "\n",
      "See the caveats in the documentation: https://pandas.pydata.org/pandas-docs/stable/user_guide/indexing.html#returning-a-view-versus-a-copy\n"
     ]
    },
    {
     "name": "stdout",
     "output_type": "stream",
     "text": [
      "Saved time series visualization for Reddit - Topic: people  like  dont  to /Users/tnathu-ai/VSCode/Government-Digital-Transformation/assets/images/reddit_time_series_analysis_people  like  dont .png\n",
      "Saved sentiment analysis for Reddit to /Users/tnathu-ai/VSCode/Government-Digital-Transformation/data/intermediate/analysis/reddit_sentiment_analysis.txt\n",
      "Extracted Topic: (0, '0.010*\"people\" + 0.007*\"like\" + 0.006*\"party\" + 0.006*\"government\" + 0.006*\"dont\"')\n",
      "Extracted Topic: (1, '0.010*\"people\" + 0.007*\"tax\" + 0.007*\"house\" + 0.006*\"pay\" + 0.006*\"money\"')\n",
      "Extracted Topic: (2, '0.014*\"dont\" + 0.013*\"like\" + 0.013*\"people\" + 0.011*\"im\" + 0.010*\"would\"')\n",
      "Extracted Topic: (3, '0.012*\"china\" + 0.009*\"australia\" + 0.007*\"us\" + 0.007*\"years\" + 0.007*\"even\"')\n",
      "Extracted Topic: (4, '0.010*\"climate\" + 0.009*\"change\" + 0.008*\"electric\" + 0.008*\"cars\" + 0.006*\"car\"')\n",
      "Saved topic modeling for Reddit to /Users/tnathu-ai/VSCode/Government-Digital-Transformation/data/intermediate/analysis/reddit_topic_modeling.txt\n",
      "Saved qualitative analysis for Reddit to /Users/tnathu-ai/VSCode/Government-Digital-Transformation/data/intermediate/analysis/reddit_qualitative_analysis.txt\n"
     ]
    },
    {
     "name": "stderr",
     "output_type": "stream",
     "text": [
      "<timed exec>:63: SettingWithCopyWarning: \n",
      "A value is trying to be set on a copy of a slice from a DataFrame.\n",
      "Try using .loc[row_indexer,col_indexer] = value instead\n",
      "\n",
      "See the caveats in the documentation: https://pandas.pydata.org/pandas-docs/stable/user_guide/indexing.html#returning-a-view-versus-a-copy\n"
     ]
    },
    {
     "name": "stdout",
     "output_type": "stream",
     "text": [
      "Saved time series visualization for Reddit - Topic: people  like  party  to /Users/tnathu-ai/VSCode/Government-Digital-Transformation/assets/images/reddit_time_series_analysis_people  like  party .png\n"
     ]
    },
    {
     "name": "stderr",
     "output_type": "stream",
     "text": [
      "<timed exec>:63: SettingWithCopyWarning: \n",
      "A value is trying to be set on a copy of a slice from a DataFrame.\n",
      "Try using .loc[row_indexer,col_indexer] = value instead\n",
      "\n",
      "See the caveats in the documentation: https://pandas.pydata.org/pandas-docs/stable/user_guide/indexing.html#returning-a-view-versus-a-copy\n"
     ]
    },
    {
     "name": "stdout",
     "output_type": "stream",
     "text": [
      "Saved time series visualization for Reddit - Topic: people  tax  house  to /Users/tnathu-ai/VSCode/Government-Digital-Transformation/assets/images/reddit_time_series_analysis_people  tax  house .png\n"
     ]
    },
    {
     "name": "stderr",
     "output_type": "stream",
     "text": [
      "<timed exec>:63: SettingWithCopyWarning: \n",
      "A value is trying to be set on a copy of a slice from a DataFrame.\n",
      "Try using .loc[row_indexer,col_indexer] = value instead\n",
      "\n",
      "See the caveats in the documentation: https://pandas.pydata.org/pandas-docs/stable/user_guide/indexing.html#returning-a-view-versus-a-copy\n"
     ]
    },
    {
     "name": "stdout",
     "output_type": "stream",
     "text": [
      "Saved time series visualization for Reddit - Topic: dont  like  people  to /Users/tnathu-ai/VSCode/Government-Digital-Transformation/assets/images/reddit_time_series_analysis_dont  like  people .png\n"
     ]
    },
    {
     "name": "stderr",
     "output_type": "stream",
     "text": [
      "<timed exec>:63: SettingWithCopyWarning: \n",
      "A value is trying to be set on a copy of a slice from a DataFrame.\n",
      "Try using .loc[row_indexer,col_indexer] = value instead\n",
      "\n",
      "See the caveats in the documentation: https://pandas.pydata.org/pandas-docs/stable/user_guide/indexing.html#returning-a-view-versus-a-copy\n"
     ]
    },
    {
     "name": "stdout",
     "output_type": "stream",
     "text": [
      "Saved time series visualization for Reddit - Topic: china  australia  us  to /Users/tnathu-ai/VSCode/Government-Digital-Transformation/assets/images/reddit_time_series_analysis_china  australia  us .png\n"
     ]
    },
    {
     "name": "stderr",
     "output_type": "stream",
     "text": [
      "<timed exec>:63: SettingWithCopyWarning: \n",
      "A value is trying to be set on a copy of a slice from a DataFrame.\n",
      "Try using .loc[row_indexer,col_indexer] = value instead\n",
      "\n",
      "See the caveats in the documentation: https://pandas.pydata.org/pandas-docs/stable/user_guide/indexing.html#returning-a-view-versus-a-copy\n"
     ]
    },
    {
     "name": "stdout",
     "output_type": "stream",
     "text": [
      "Saved time series visualization for Reddit - Topic: climate  change  electric  to /Users/tnathu-ai/VSCode/Government-Digital-Transformation/assets/images/reddit_time_series_analysis_climate  change  electric .png\n",
      "Saved sentiment analysis for Reddit to /Users/tnathu-ai/VSCode/Government-Digital-Transformation/data/intermediate/analysis/reddit_sentiment_analysis.txt\n",
      "Extracted Topic: (0, '0.016*\"people\" + 0.015*\"gun\" + 0.010*\"would\" + 0.009*\"guns\" + 0.006*\"us\"')\n",
      "Extracted Topic: (1, '0.039*\"police\" + 0.014*\"union\" + 0.013*\"unions\" + 0.010*\"like\" + 0.008*\"cops\"')\n",
      "Extracted Topic: (2, '0.022*\"people\" + 0.018*\"dont\" + 0.012*\"like\" + 0.009*\"think\" + 0.008*\"know\"')\n",
      "Extracted Topic: (3, '0.009*\"government\" + 0.008*\"get\" + 0.007*\"would\" + 0.007*\"country\" + 0.007*\"one\"')\n",
      "Extracted Topic: (4, '0.006*\"like\" + 0.006*\"office\" + 0.005*\"years\" + 0.005*\"time\" + 0.005*\"year\"')\n",
      "Saved topic modeling for Reddit to /Users/tnathu-ai/VSCode/Government-Digital-Transformation/data/intermediate/analysis/reddit_topic_modeling.txt\n",
      "Saved qualitative analysis for Reddit to /Users/tnathu-ai/VSCode/Government-Digital-Transformation/data/intermediate/analysis/reddit_qualitative_analysis.txt\n"
     ]
    },
    {
     "name": "stderr",
     "output_type": "stream",
     "text": [
      "<timed exec>:63: SettingWithCopyWarning: \n",
      "A value is trying to be set on a copy of a slice from a DataFrame.\n",
      "Try using .loc[row_indexer,col_indexer] = value instead\n",
      "\n",
      "See the caveats in the documentation: https://pandas.pydata.org/pandas-docs/stable/user_guide/indexing.html#returning-a-view-versus-a-copy\n"
     ]
    },
    {
     "name": "stdout",
     "output_type": "stream",
     "text": [
      "Saved time series visualization for Reddit - Topic: people  gun  would  to /Users/tnathu-ai/VSCode/Government-Digital-Transformation/assets/images/reddit_time_series_analysis_people  gun  would .png\n"
     ]
    },
    {
     "name": "stderr",
     "output_type": "stream",
     "text": [
      "<timed exec>:63: SettingWithCopyWarning: \n",
      "A value is trying to be set on a copy of a slice from a DataFrame.\n",
      "Try using .loc[row_indexer,col_indexer] = value instead\n",
      "\n",
      "See the caveats in the documentation: https://pandas.pydata.org/pandas-docs/stable/user_guide/indexing.html#returning-a-view-versus-a-copy\n"
     ]
    },
    {
     "name": "stdout",
     "output_type": "stream",
     "text": [
      "Saved time series visualization for Reddit - Topic: police  union  unions  to /Users/tnathu-ai/VSCode/Government-Digital-Transformation/assets/images/reddit_time_series_analysis_police  union  unions .png\n"
     ]
    },
    {
     "name": "stderr",
     "output_type": "stream",
     "text": [
      "<timed exec>:63: SettingWithCopyWarning: \n",
      "A value is trying to be set on a copy of a slice from a DataFrame.\n",
      "Try using .loc[row_indexer,col_indexer] = value instead\n",
      "\n",
      "See the caveats in the documentation: https://pandas.pydata.org/pandas-docs/stable/user_guide/indexing.html#returning-a-view-versus-a-copy\n"
     ]
    },
    {
     "name": "stdout",
     "output_type": "stream",
     "text": [
      "Saved time series visualization for Reddit - Topic: people  dont  like  to /Users/tnathu-ai/VSCode/Government-Digital-Transformation/assets/images/reddit_time_series_analysis_people  dont  like .png\n"
     ]
    },
    {
     "name": "stderr",
     "output_type": "stream",
     "text": [
      "<timed exec>:63: SettingWithCopyWarning: \n",
      "A value is trying to be set on a copy of a slice from a DataFrame.\n",
      "Try using .loc[row_indexer,col_indexer] = value instead\n",
      "\n",
      "See the caveats in the documentation: https://pandas.pydata.org/pandas-docs/stable/user_guide/indexing.html#returning-a-view-versus-a-copy\n"
     ]
    },
    {
     "name": "stdout",
     "output_type": "stream",
     "text": [
      "Saved time series visualization for Reddit - Topic: government  get  would  to /Users/tnathu-ai/VSCode/Government-Digital-Transformation/assets/images/reddit_time_series_analysis_government  get  would .png\n"
     ]
    },
    {
     "name": "stderr",
     "output_type": "stream",
     "text": [
      "<timed exec>:63: SettingWithCopyWarning: \n",
      "A value is trying to be set on a copy of a slice from a DataFrame.\n",
      "Try using .loc[row_indexer,col_indexer] = value instead\n",
      "\n",
      "See the caveats in the documentation: https://pandas.pydata.org/pandas-docs/stable/user_guide/indexing.html#returning-a-view-versus-a-copy\n"
     ]
    },
    {
     "name": "stdout",
     "output_type": "stream",
     "text": [
      "Saved time series visualization for Reddit - Topic: like  office  years  to /Users/tnathu-ai/VSCode/Government-Digital-Transformation/assets/images/reddit_time_series_analysis_like  office  years .png\n",
      "Saved sentiment analysis for Reddit to /Users/tnathu-ai/VSCode/Government-Digital-Transformation/data/intermediate/analysis/reddit_sentiment_analysis.txt\n",
      "Extracted Topic: (0, '0.020*\"australia\" + 0.014*\"us\" + 0.008*\"vote\" + 0.008*\"government\" + 0.007*\"australian\"')\n",
      "Extracted Topic: (1, '0.014*\"get\" + 0.010*\"im\" + 0.010*\"like\" + 0.009*\"time\" + 0.008*\"got\"')\n",
      "Extracted Topic: (2, '0.015*\"women\" + 0.010*\"wear\" + 0.010*\"religion\" + 0.010*\"religious\" + 0.009*\"muslim\"')\n",
      "Extracted Topic: (3, '0.032*\"people\" + 0.019*\"dont\" + 0.010*\"like\" + 0.009*\"would\" + 0.009*\"think\"')\n",
      "Extracted Topic: (4, '0.019*\"law\" + 0.013*\"would\" + 0.011*\"use\" + 0.007*\"case\" + 0.006*\"police\"')\n",
      "Saved topic modeling for Reddit to /Users/tnathu-ai/VSCode/Government-Digital-Transformation/data/intermediate/analysis/reddit_topic_modeling.txt\n",
      "Saved qualitative analysis for Reddit to /Users/tnathu-ai/VSCode/Government-Digital-Transformation/data/intermediate/analysis/reddit_qualitative_analysis.txt\n"
     ]
    },
    {
     "name": "stderr",
     "output_type": "stream",
     "text": [
      "<timed exec>:63: SettingWithCopyWarning: \n",
      "A value is trying to be set on a copy of a slice from a DataFrame.\n",
      "Try using .loc[row_indexer,col_indexer] = value instead\n",
      "\n",
      "See the caveats in the documentation: https://pandas.pydata.org/pandas-docs/stable/user_guide/indexing.html#returning-a-view-versus-a-copy\n"
     ]
    },
    {
     "name": "stdout",
     "output_type": "stream",
     "text": [
      "Saved time series visualization for Reddit - Topic: australia  us  vote  to /Users/tnathu-ai/VSCode/Government-Digital-Transformation/assets/images/reddit_time_series_analysis_australia  us  vote .png\n"
     ]
    },
    {
     "name": "stderr",
     "output_type": "stream",
     "text": [
      "<timed exec>:63: SettingWithCopyWarning: \n",
      "A value is trying to be set on a copy of a slice from a DataFrame.\n",
      "Try using .loc[row_indexer,col_indexer] = value instead\n",
      "\n",
      "See the caveats in the documentation: https://pandas.pydata.org/pandas-docs/stable/user_guide/indexing.html#returning-a-view-versus-a-copy\n"
     ]
    },
    {
     "name": "stdout",
     "output_type": "stream",
     "text": [
      "Saved time series visualization for Reddit - Topic: get  im  like  to /Users/tnathu-ai/VSCode/Government-Digital-Transformation/assets/images/reddit_time_series_analysis_get  im  like .png\n"
     ]
    },
    {
     "name": "stderr",
     "output_type": "stream",
     "text": [
      "<timed exec>:63: SettingWithCopyWarning: \n",
      "A value is trying to be set on a copy of a slice from a DataFrame.\n",
      "Try using .loc[row_indexer,col_indexer] = value instead\n",
      "\n",
      "See the caveats in the documentation: https://pandas.pydata.org/pandas-docs/stable/user_guide/indexing.html#returning-a-view-versus-a-copy\n"
     ]
    },
    {
     "name": "stdout",
     "output_type": "stream",
     "text": [
      "Saved time series visualization for Reddit - Topic: women  wear  religion  to /Users/tnathu-ai/VSCode/Government-Digital-Transformation/assets/images/reddit_time_series_analysis_women  wear  religion .png\n"
     ]
    },
    {
     "name": "stderr",
     "output_type": "stream",
     "text": [
      "<timed exec>:63: SettingWithCopyWarning: \n",
      "A value is trying to be set on a copy of a slice from a DataFrame.\n",
      "Try using .loc[row_indexer,col_indexer] = value instead\n",
      "\n",
      "See the caveats in the documentation: https://pandas.pydata.org/pandas-docs/stable/user_guide/indexing.html#returning-a-view-versus-a-copy\n"
     ]
    },
    {
     "name": "stdout",
     "output_type": "stream",
     "text": [
      "Saved time series visualization for Reddit - Topic: people  dont  like  to /Users/tnathu-ai/VSCode/Government-Digital-Transformation/assets/images/reddit_time_series_analysis_people  dont  like .png\n"
     ]
    },
    {
     "name": "stderr",
     "output_type": "stream",
     "text": [
      "<timed exec>:63: SettingWithCopyWarning: \n",
      "A value is trying to be set on a copy of a slice from a DataFrame.\n",
      "Try using .loc[row_indexer,col_indexer] = value instead\n",
      "\n",
      "See the caveats in the documentation: https://pandas.pydata.org/pandas-docs/stable/user_guide/indexing.html#returning-a-view-versus-a-copy\n"
     ]
    },
    {
     "name": "stdout",
     "output_type": "stream",
     "text": [
      "Saved time series visualization for Reddit - Topic: law  would  use  to /Users/tnathu-ai/VSCode/Government-Digital-Transformation/assets/images/reddit_time_series_analysis_law  would  use .png\n"
     ]
    },
    {
     "name": "stderr",
     "output_type": "stream",
     "text": [
      "<timed exec>:123: DtypeWarning: Columns (3) have mixed types. Specify dtype option on import or set low_memory=False.\n"
     ]
    },
    {
     "ename": "",
     "evalue": "",
     "output_type": "error",
     "traceback": [
      "\u001b[1;31mThe Kernel crashed while executing code in the current cell or a previous cell. \n",
      "\u001b[1;31mPlease review the code in the cell(s) to identify a possible cause of the failure. \n",
      "\u001b[1;31mClick <a href='https://aka.ms/vscodeJupyterKernelCrash'>here</a> for more info. \n",
      "\u001b[1;31mView Jupyter <a href='command:jupyter.viewOutput'>log</a> for further details."
     ]
    }
   ],
   "source": [
    "%%time\n",
    "\n",
    "# Function to preprocess text\n",
    "def preprocess(text):\n",
    "    \"\"\"Preprocess the text by converting to lowercase, removing punctuation, and eliminating stopwords.\"\"\"\n",
    "    if not isinstance(text, str):\n",
    "        return \"\"\n",
    "    stop_words = set(stopwords.words('english'))\n",
    "    text = ''.join([c.lower() for c in text if c.isalnum() or c.isspace()])\n",
    "    return ' '.join([word for word in text.split() if word not in stop_words])\n",
    "\n",
    "# Function to generate n-grams from text\n",
    "def get_ngrams(text, n=(2, 3)):\n",
    "    \"\"\"Generate n-grams from the text.\"\"\"\n",
    "    if not text.strip():\n",
    "        return \"\"\n",
    "    vectorizer = CountVectorizer(ngram_range=n)\n",
    "    try:\n",
    "        ngrams = vectorizer.fit_transform([text])\n",
    "        ngram_features = vectorizer.get_feature_names_out()\n",
    "        return ' '.join(ngram_features)\n",
    "    except ValueError:\n",
    "        return \"\"\n",
    "\n",
    "# Function to get sentiment polarity using VADER\n",
    "def get_sentiment(text):\n",
    "    \"\"\"Return the compound sentiment score of the text using VADER.\"\"\"\n",
    "    if text:\n",
    "        sentiment_score = analyzer.polarity_scores(text)\n",
    "        return sentiment_score['compound']\n",
    "    return 0\n",
    "\n",
    "# Function to perform sentiment analysis on the text column of a DataFrame\n",
    "def perform_sentiment_analysis(df, text_column):\n",
    "    \"\"\"Perform sentiment analysis on the specified text column.\"\"\"\n",
    "    df['Processed Text'] = df[text_column].apply(preprocess)\n",
    "    df['Ngrams'] = df['Processed Text'].apply(lambda x: get_ngrams(x, (2, 3)))\n",
    "    df['Sentiment'] = df['Ngrams'].apply(get_sentiment)\n",
    "    return df\n",
    "\n",
    "# Function to perform topic modeling using LDA\n",
    "def topic_modeling(df, n=(2, 3)):\n",
    "    \"\"\"Perform LDA topic modeling on the processed comments using n-grams.\"\"\"\n",
    "    if df.empty or 'Ngrams' not in df.columns:\n",
    "        return []\n",
    "    texts = [text.split() for text in df['Ngrams'] if text.strip()]\n",
    "    dictionary = corpora.Dictionary(texts)\n",
    "    corpus = [dictionary.doc2bow(text) for text in texts]\n",
    "    lda_model = models.LdaModel(corpus, num_topics=5, id2word=dictionary, passes=50, iterations=100)\n",
    "    return lda_model.print_topics(num_words=5)\n",
    "\n",
    "# Function to perform qualitative analysis to understand specific reasons behind the sentiments\n",
    "def qualitative_analysis(df, text_column, output_file):\n",
    "    \"\"\"Perform qualitative analysis to understand specific reasons behind the sentiments.\"\"\"\n",
    "    with open(output_file, 'w') as f:\n",
    "        for index, row in df.iterrows():\n",
    "            f.write(f\"Title: {row.get(text_column)}\\n\")\n",
    "            f.write(f\"Sentiment: {row.get('Sentiment')}\\n\")\n",
    "            f.write(f\"Comment: {row.get('Processed Text')}\\n\")\n",
    "            f.write(\"\\n\" + \"-\"*40 + \"\\n\")\n",
    "\n",
    "# Function to perform time series analysis\n",
    "def time_series_analysis(df, date_column):\n",
    "    \"\"\"Perform time series analysis on the specified date column.\"\"\"\n",
    "    df[date_column] = pd.to_datetime(df[date_column])\n",
    "    time_series_df = df.groupby(df[date_column].dt.date).mean()\n",
    "    time_series_df = time_series_df.reset_index()\n",
    "    return time_series_df\n",
    "\n",
    "# Function to visualize time series data using Seaborn\n",
    "def visualize_time_series(time_series_df, date_column, value_column, source_type, topic):\n",
    "    \"\"\"Visualize the time series data using Seaborn and save the plot.\"\"\"\n",
    "    sns.set(style=\"darkgrid\")\n",
    "    plt.figure(figsize=(20, 10))\n",
    "    sns.lineplot(x=date_column, y=value_column, data=time_series_df)\n",
    "    plt.title(f\"Time Series Analysis - {source_type} - Topic: {topic}\")\n",
    "    plt.xlabel(\"Date\")\n",
    "    plt.ylabel(value_column.capitalize())\n",
    "\n",
    "    output_dir = IMAGE_DIR\n",
    "    os.makedirs(output_dir, exist_ok=True)\n",
    "    output_file = os.path.join(output_dir, f\"{source_type.lower()}_time_series_analysis_{topic}.png\")\n",
    "    plt.savefig(output_file)\n",
    "    plt.close()\n",
    "    print(f\"Saved time series visualization for {source_type} - Topic: {topic} to {output_file}\")\n",
    "\n",
    "# Function to get top services based on the specified metric\n",
    "def get_top_services(df, service_column, metric_column, top_n=10):\n",
    "    \"\"\"Get the top services based on the specified metric.\"\"\"\n",
    "    top_services = df.groupby(service_column)[metric_column].sum().nlargest(top_n).reset_index()\n",
    "    return top_services\n",
    "\n",
    "# Function to process and visualize top services\n",
    "def process_and_visualize_top_services(directory, source_type, service_column, metric_column, top_n=10):\n",
    "    \"\"\"Process each CSV file to visualize top services.\"\"\"\n",
    "    for filename in os.listdir(directory):\n",
    "        if filename.endswith(\".csv\"):\n",
    "            file_path = os.path.join(directory, filename)\n",
    "            df = pd.read_csv(file_path)\n",
    "            \n",
    "            if service_column in df.columns and metric_column in df.columns:\n",
    "                top_services_df = get_top_services(df, service_column, metric_column, top_n)\n",
    "                sns.set(style=\"whitegrid\")\n",
    "                plt.figure(figsize=(15, 8))\n",
    "                sns.barplot(x=metric_column, y=service_column, data=top_services_df, palette=\"viridis\")\n",
    "                plt.title(f\"Top {top_n} Services by {metric_column.capitalize()} - {source_type}\")\n",
    "                plt.xlabel(metric_column.capitalize())\n",
    "                plt.ylabel(service_column.capitalize())\n",
    "                \n",
    "                output_dir = IMAGE_DIR\n",
    "                os.makedirs(output_dir, exist_ok=True)\n",
    "                output_file = os.path.join(output_dir, f\"{source_type.lower()}_top_services.png\")\n",
    "                plt.savefig(output_file)\n",
    "                plt.close()\n",
    "                print(f\"Saved top services visualization for {source_type} to {output_file}\")\n",
    "            else:\n",
    "                print(f\"No suitable service column or metric column found in {file_path}\")\n",
    "\n",
    "# Function to process each CSV file in the specified directory and perform the analyses\n",
    "def process_files(directory, source_type):\n",
    "    \"\"\"Process each CSV file in the specified directory based on source type.\"\"\"\n",
    "    for filename in os.listdir(directory):\n",
    "        if filename.endswith(\".csv\"):\n",
    "            file_path = os.path.join(directory, filename)\n",
    "            df = pd.read_csv(file_path)\n",
    "\n",
    "            text_column = None\n",
    "            title_column = None\n",
    "            date_column = None\n",
    "\n",
    "            if source_type == 'Reddit':\n",
    "                text_column = 'Comment'\n",
    "                title_column = 'Title'\n",
    "                date_column = 'Comment Date'\n",
    "            elif source_type == 'GitHub':\n",
    "                text_column = 'Description'\n",
    "                title_column = 'Repository Name'\n",
    "                date_column = 'Last Updated'\n",
    "            elif source_type == 'StackOverflow':\n",
    "                text_column = 'Question Body'\n",
    "                title_column = 'Question Title'\n",
    "                date_column = 'Question Creation Date'\n",
    "            \n",
    "            if text_column in df.columns and date_column in df.columns:\n",
    "                # Perform sentiment analysis\n",
    "                df = perform_sentiment_analysis(df, text_column)\n",
    "                analysis_file = os.path.join(INTERMEDIATE_ANALYSIS_DIR, f\"{source_type.lower()}_sentiment_analysis.txt\")\n",
    "                with open(analysis_file, 'w') as f:\n",
    "                    f.write(df.to_string())\n",
    "                print(f\"Saved sentiment analysis for {source_type} to {analysis_file}\")\n",
    "\n",
    "                # Perform topic modeling\n",
    "                topics = topic_modeling(df)\n",
    "                topic_file = os.path.join(INTERMEDIATE_ANALYSIS_DIR, f\"{source_type.lower()}_topic_modeling.txt\")\n",
    "                with open(topic_file, 'w') as f:\n",
    "                    for topic in topics:\n",
    "                        f.write(f\"{topic}\\n\")\n",
    "                        print(f\"Extracted Topic: {topic}\")\n",
    "                print(f\"Saved topic modeling for {source_type} to {topic_file}\")\n",
    "\n",
    "                # Perform qualitative analysis\n",
    "                qualitative_file = os.path.join(INTERMEDIATE_ANALYSIS_DIR, f\"{source_type.lower()}_qualitative_analysis.txt\")\n",
    "                qualitative_analysis(df, text_column, qualitative_file)\n",
    "                print(f\"Saved qualitative analysis for {source_type} to {qualitative_file}\")\n",
    "\n",
    "                # Perform time series analysis for each topic\n",
    "                for topic in topics:\n",
    "                    topic_words = ' '.join(word.split('*')[1].replace('\"', '') for word in topic[1].split('+')[:3])\n",
    "                    topic_df = df[df['Ngrams'].str.contains('|'.join(topic_words.split()))]\n",
    "                    if not topic_df.empty:\n",
    "                        time_series_df = time_series_analysis(topic_df, date_column)\n",
    "                        visualize_time_series(time_series_df, date_column, 'Sentiment', source_type, topic_words)\n",
    "            else:\n",
    "                print(f\"No suitable text column or date column found in {file_path}\")\n",
    "\n",
    "# Function to execute the script for each platform separately to handle kernel breaks and perform granular analysis\n",
    "def execute_for_platform(platform):\n",
    "    \"\"\"Execute the analysis for a specific platform.\"\"\"\n",
    "    directory = DATA_DIRS.get(platform)\n",
    "    if directory:\n",
    "        process_files(directory, platform)\n",
    "        if platform == 'Reddit':\n",
    "            process_and_visualize_top_services(directory, platform, 'Title', 'Comment Upvotes')\n",
    "        elif platform == 'GitHub':\n",
    "            process_and_visualize_top_services(directory, platform, 'Repository Name', 'Stars')\n",
    "        elif platform == 'StackOverflow':\n",
    "            process_and_visualize_top_services(directory, platform, 'Question Title', 'Question Upvote')\n",
    "\n",
    "# Execute the script for each platform separately\n",
    "if __name__ == \"__main__\":\n",
    "    platforms = [ 'GitHub', 'StackOverflow', 'Reddit']\n",
    "    for platform in platforms:\n",
    "        execute_for_platform(platform)\n"
   ]
  },
  {
   "cell_type": "code",
   "execution_count": null,
   "metadata": {},
   "outputs": [],
   "source": []
  }
 ],
 "metadata": {
  "kernelspec": {
   "display_name": "Python 3",
   "language": "python",
   "name": "python3"
  },
  "language_info": {
   "codemirror_mode": {
    "name": "ipython",
    "version": 3
   },
   "file_extension": ".py",
   "mimetype": "text/x-python",
   "name": "python",
   "nbconvert_exporter": "python",
   "pygments_lexer": "ipython3",
   "version": "3.9.19"
  }
 },
 "nbformat": 4,
 "nbformat_minor": 2
}
