{
 "cells": [
  {
   "cell_type": "code",
   "execution_count": 10,
   "metadata": {},
   "outputs": [],
   "source": [
    "import requests\n",
    "import pandas as pd\n",
    "import os\n",
    "\n",
    "META_ACCESS_TOKEN = os.environ.get('META_ACCESS_TOKEN')\n",
    "ACCESS_TOKEN = META_ACCESS_TOKEN"
   ]
  },
  {
   "cell_type": "markdown",
   "metadata": {},
   "source": [
    "+ Create a Meta Developer Account: If you don't already have one, you need to create a Facebook Developer account and then create an app.\n",
    "+ Get an Access Token: You'll need an access token to authenticate your requests to the Facebook Graph API.\n",
    "+ Use the Graph API: You can retrieve posts from the ATO page and then fetch comments for each post using the Graph API."
   ]
  },
  {
   "cell_type": "code",
   "execution_count": 12,
   "metadata": {},
   "outputs": [
    {
     "name": "stdout",
     "output_type": "stream",
     "text": [
      "Status Code: 400\n",
      "Response: {\"error\":{\"message\":\"Invalid OAuth access token - Cannot parse access token\",\"type\":\"OAuthException\",\"code\":190,\"fbtrace_id\":\"ACli6yDbIAXhKnkYVLJXKtQ\"}}\n",
      "Data not found in the response\n",
      "Empty DataFrame\n",
      "Columns: []\n",
      "Index: []\n"
     ]
    }
   ],
   "source": [
    "# Define the base URL of the Graph API\n",
    "BASE_URL = 'https://graph.facebook.com/v12.0'\n",
    "\n",
    "ACCESS_TOKEN = META_ACCESS_TOKEN\n",
    "\n",
    "# The ID of the ATO Facebook Page - you might need to update this\n",
    "PAGE_ID = 'AustralianTaxationOffice'\n",
    "\n",
    "# Fetch the posts\n",
    "posts_response = requests.get(f'{BASE_URL}/{PAGE_ID}/posts?access_token={ACCESS_TOKEN}')\n",
    "\n",
    "# Check the status code and response text\n",
    "print('Status Code:', posts_response.status_code)\n",
    "print('Response:', posts_response.text)\n",
    "\n",
    "# Ensure the response contains 'data'\n",
    "if 'data' in posts_response.json():\n",
    "    posts = posts_response.json()['data']\n",
    "else:\n",
    "    print(\"Data not found in the response\")\n",
    "    posts = []\n",
    "\n",
    "# Initialize an empty list to store comments\n",
    "comments_list = []\n",
    "\n",
    "# Iterate through each post and fetch comments\n",
    "for post in posts:\n",
    "    post_id = post['id']\n",
    "    comments_response = requests.get(f'{BASE_URL}/{post_id}/comments?access_token={ACCESS_TOKEN}')\n",
    "    comments_data = comments_response.json()\n",
    "    \n",
    "    # Check if 'data' is in the response\n",
    "    if 'data' in comments_data:\n",
    "        comments = comments_data['data']\n",
    "        for comment in comments:\n",
    "            # Store the post ID, comment ID, and comment message in the list\n",
    "            comments_list.append({'post_id': post_id, 'comment_id': comment['id'], 'comment_message': comment['message']})\n",
    "    else:\n",
    "        print(f\"No comments found for post {post_id}\")\n",
    "\n",
    "# Convert the list of comments into a DataFrame\n",
    "comments_df = pd.DataFrame(comments_list)\n",
    "\n",
    "# Display the DataFrame\n",
    "print(comments_df)\n"
   ]
  },
  {
   "cell_type": "code",
   "execution_count": 13,
   "metadata": {},
   "outputs": [
    {
     "name": "stdout",
     "output_type": "stream",
     "text": [
      "Status Code: 400\n",
      "Response: {\"error\":{\"message\":\"Invalid OAuth access token - Cannot parse access token\",\"type\":\"OAuthException\",\"code\":190,\"fbtrace_id\":\"A_FAlKnytKd1EbyvC_IJVWH\"}}\n",
      "Data not found in the response\n",
      "Empty DataFrame\n",
      "Columns: []\n",
      "Index: []\n"
     ]
    }
   ],
   "source": [
    "import requests\n",
    "import pandas as pd\n",
    "\n",
    "# Define the base URL of the Graph API\n",
    "BASE_URL = 'https://graph.facebook.com/v12.0'\n",
    "\n",
    "\n",
    "# The ID of the ATO Facebook Page - you might need to update this\n",
    "PAGE_ID = 'AustralianTaxationOffice'\n",
    "\n",
    "# Fetch the posts\n",
    "posts_response = requests.get(f'{BASE_URL}/{PAGE_ID}/posts?access_token={ACCESS_TOKEN}')\n",
    "\n",
    "# Check the status code and response text\n",
    "print('Status Code:', posts_response.status_code)\n",
    "print('Response:', posts_response.text)\n",
    "\n",
    "# Ensure the response contains 'data'\n",
    "if 'data' in posts_response.json():\n",
    "    posts = posts_response.json()['data']\n",
    "else:\n",
    "    print(\"Data not found in the response\")\n",
    "    posts = []\n",
    "\n",
    "# Initialize an empty list to store comments\n",
    "comments_list = []\n",
    "\n",
    "# Iterate through each post and fetch comments\n",
    "for post in posts:\n",
    "    post_id = post['id']\n",
    "    comments_response = requests.get(f'{BASE_URL}/{post_id}/comments?access_token={ACCESS_TOKEN}')\n",
    "    comments_data = comments_response.json()\n",
    "    \n",
    "    # Check if 'data' is in the response\n",
    "    if 'data' in comments_data:\n",
    "        comments = comments_data['data']\n",
    "        for comment in comments:\n",
    "            # Store the post ID, comment ID, and comment message in the list\n",
    "            comments_list.append({'post_id': post_id, 'comment_id': comment['id'], 'comment_message': comment['message']})\n",
    "    else:\n",
    "        print(f\"No comments found for post {post_id}\")\n",
    "\n",
    "# Convert the list of comments into a DataFrame\n",
    "comments_df = pd.DataFrame(comments_list)\n",
    "\n",
    "# Display the DataFrame\n",
    "print(comments_df)\n"
   ]
  },
  {
   "cell_type": "markdown",
   "metadata": {},
   "source": []
  }
 ],
 "metadata": {
  "kernelspec": {
   "display_name": "CSIRO",
   "language": "python",
   "name": "python3"
  },
  "language_info": {
   "codemirror_mode": {
    "name": "ipython",
    "version": 3
   },
   "file_extension": ".py",
   "mimetype": "text/x-python",
   "name": "python",
   "nbconvert_exporter": "python",
   "pygments_lexer": "ipython3",
   "version": "3.12.2"
  }
 },
 "nbformat": 4,
 "nbformat_minor": 2
}
