{
 "cells": [
  {
   "cell_type": "markdown",
   "metadata": {},
   "source": [
    "# Get reviews and related information from Australian Taxation Office locations"
   ]
  },
  {
   "cell_type": "code",
   "execution_count": 13,
   "metadata": {},
   "outputs": [
    {
     "data": {
      "text/plain": [
       "'/Users/tnathu-ai/VSCode/Government-Digital-Transformation/notebooks/analysis'"
      ]
     },
     "execution_count": 13,
     "metadata": {},
     "output_type": "execute_result"
    }
   ],
   "source": [
    "import googlemaps\n",
    "import pandas as pd\n",
    "import time\n",
    "import os\n",
    "from retrying import retry\n",
    "# get the current working directory\n",
    "os.getcwd()\n",
    "\n",
    "\n",
    "# define place id constants\n",
    "ATO_PLACE_IDs = 'ChIJF_JXPNhd1moRrKDkeMhjAgQ'"
   ]
  },
  {
   "cell_type": "code",
   "execution_count": 6,
   "metadata": {},
   "outputs": [
    {
     "name": "stdout",
     "output_type": "stream",
     "text": [
      "ChIJF_JXPNhd1moRrKDkeMhjAgQ\n"
     ]
    }
   ],
   "source": [
    "GMAPS_KEY = os.getenv(\"GMAPS_KEY\")  # API Key for OpenAI\n",
    "gmaps = googlemaps.Client(key=GMAPS_KEY)\n",
    "\n",
    "# Location name to search for\n",
    "query = 'Australian Taxation Office'\n",
    "result = gmaps.places(query=query)\n",
    "\n",
    "# Assuming the first result is the desired one, extract its place_id\n",
    "if result['results']:\n",
    "    place_id = result['results'][0]['place_id']\n",
    "    print(place_id)\n",
    "else:\n",
    "    print(\"No results found\")"
   ]
  },
  {
   "cell_type": "code",
   "execution_count": 7,
   "metadata": {},
   "outputs": [
    {
     "data": {
      "text/html": [
       "<div>\n",
       "<style scoped>\n",
       "    .dataframe tbody tr th:only-of-type {\n",
       "        vertical-align: middle;\n",
       "    }\n",
       "\n",
       "    .dataframe tbody tr th {\n",
       "        vertical-align: top;\n",
       "    }\n",
       "\n",
       "    .dataframe thead th {\n",
       "        text-align: right;\n",
       "    }\n",
       "</style>\n",
       "<table border=\"1\" class=\"dataframe\">\n",
       "  <thead>\n",
       "    <tr style=\"text-align: right;\">\n",
       "      <th></th>\n",
       "      <th>author_name</th>\n",
       "      <th>author_url</th>\n",
       "      <th>language</th>\n",
       "      <th>original_language</th>\n",
       "      <th>profile_photo_url</th>\n",
       "      <th>rating</th>\n",
       "      <th>relative_time_description</th>\n",
       "      <th>text</th>\n",
       "      <th>time</th>\n",
       "      <th>translated</th>\n",
       "    </tr>\n",
       "  </thead>\n",
       "  <tbody>\n",
       "    <tr>\n",
       "      <th>0</th>\n",
       "      <td>Avec With</td>\n",
       "      <td>https://www.google.com/maps/contrib/1134230974...</td>\n",
       "      <td>en</td>\n",
       "      <td>en</td>\n",
       "      <td>https://lh3.googleusercontent.com/a/ACg8ocL7bX...</td>\n",
       "      <td>1</td>\n",
       "      <td>a month ago</td>\n",
       "      <td>The ATO is like the Mafia. They screw you over...</td>\n",
       "      <td>1709800415</td>\n",
       "      <td>False</td>\n",
       "    </tr>\n",
       "    <tr>\n",
       "      <th>1</th>\n",
       "      <td>Zakir Ahmed</td>\n",
       "      <td>https://www.google.com/maps/contrib/1001444960...</td>\n",
       "      <td>en</td>\n",
       "      <td>en</td>\n",
       "      <td>https://lh3.googleusercontent.com/a-/ALV-UjXy9...</td>\n",
       "      <td>1</td>\n",
       "      <td>a month ago</td>\n",
       "      <td>ATO don't deserve any star. I had worst experi...</td>\n",
       "      <td>1707786816</td>\n",
       "      <td>False</td>\n",
       "    </tr>\n",
       "    <tr>\n",
       "      <th>2</th>\n",
       "      <td>Shine An</td>\n",
       "      <td>https://www.google.com/maps/contrib/1067999549...</td>\n",
       "      <td>en</td>\n",
       "      <td>en</td>\n",
       "      <td>https://lh3.googleusercontent.com/a/ACg8ocLtYV...</td>\n",
       "      <td>1</td>\n",
       "      <td>5 months ago</td>\n",
       "      <td>ATO don't deserve any star. I had worst experi...</td>\n",
       "      <td>1699005129</td>\n",
       "      <td>False</td>\n",
       "    </tr>\n",
       "    <tr>\n",
       "      <th>3</th>\n",
       "      <td>Jay</td>\n",
       "      <td>https://www.google.com/maps/contrib/1032598375...</td>\n",
       "      <td>en</td>\n",
       "      <td>en</td>\n",
       "      <td>https://lh3.googleusercontent.com/a/ACg8ocIv7t...</td>\n",
       "      <td>1</td>\n",
       "      <td>7 months ago</td>\n",
       "      <td>2023 and we are still using these stupid hour ...</td>\n",
       "      <td>1693558901</td>\n",
       "      <td>False</td>\n",
       "    </tr>\n",
       "    <tr>\n",
       "      <th>4</th>\n",
       "      <td>Aaron Rowe</td>\n",
       "      <td>https://www.google.com/maps/contrib/1132385301...</td>\n",
       "      <td>en</td>\n",
       "      <td>en</td>\n",
       "      <td>https://lh3.googleusercontent.com/a/ACg8ocLO9B...</td>\n",
       "      <td>1</td>\n",
       "      <td>a week ago</td>\n",
       "      <td>I have been attempting to call them over numer...</td>\n",
       "      <td>1711505078</td>\n",
       "      <td>False</td>\n",
       "    </tr>\n",
       "  </tbody>\n",
       "</table>\n",
       "</div>"
      ],
      "text/plain": [
       "   author_name                                         author_url language  \\\n",
       "0    Avec With  https://www.google.com/maps/contrib/1134230974...       en   \n",
       "1  Zakir Ahmed  https://www.google.com/maps/contrib/1001444960...       en   \n",
       "2     Shine An  https://www.google.com/maps/contrib/1067999549...       en   \n",
       "3          Jay  https://www.google.com/maps/contrib/1032598375...       en   \n",
       "4   Aaron Rowe  https://www.google.com/maps/contrib/1132385301...       en   \n",
       "\n",
       "  original_language                                  profile_photo_url  \\\n",
       "0                en  https://lh3.googleusercontent.com/a/ACg8ocL7bX...   \n",
       "1                en  https://lh3.googleusercontent.com/a-/ALV-UjXy9...   \n",
       "2                en  https://lh3.googleusercontent.com/a/ACg8ocLtYV...   \n",
       "3                en  https://lh3.googleusercontent.com/a/ACg8ocIv7t...   \n",
       "4                en  https://lh3.googleusercontent.com/a/ACg8ocLO9B...   \n",
       "\n",
       "   rating relative_time_description  \\\n",
       "0       1               a month ago   \n",
       "1       1               a month ago   \n",
       "2       1              5 months ago   \n",
       "3       1              7 months ago   \n",
       "4       1                a week ago   \n",
       "\n",
       "                                                text        time  translated  \n",
       "0  The ATO is like the Mafia. They screw you over...  1709800415       False  \n",
       "1  ATO don't deserve any star. I had worst experi...  1707786816       False  \n",
       "2  ATO don't deserve any star. I had worst experi...  1699005129       False  \n",
       "3  2023 and we are still using these stupid hour ...  1693558901       False  \n",
       "4  I have been attempting to call them over numer...  1711505078       False  "
      ]
     },
     "execution_count": 7,
     "metadata": {},
     "output_type": "execute_result"
    }
   ],
   "source": [
    "\n",
    "def get_place_details(place_id):\n",
    "    \"\"\"Get place details.\"\"\"\n",
    "    # The API only allows fetching a subset of reviews, not all of them.\n",
    "    place_details = gmaps.place(place_id=place_id, fields=['name', 'adr_address', 'website', 'reviews', 'rating'])\n",
    "    return place_details\n",
    "\n",
    "place_id = ATO_PLACE_IDs\n",
    "\n",
    "# Fetch place details\n",
    "details = get_place_details(place_id)\n",
    "\n",
    "# Extract reviews\n",
    "reviews = details['result'].get('reviews', [])\n",
    "\n",
    "# Convert the reviews to a tabular format\n",
    "df = pd.DataFrame(reviews)\n",
    "\n",
    "df\n"
   ]
  },
  {
   "cell_type": "code",
   "execution_count": 8,
   "metadata": {},
   "outputs": [
    {
     "data": {
      "text/html": [
       "<div>\n",
       "<style scoped>\n",
       "    .dataframe tbody tr th:only-of-type {\n",
       "        vertical-align: middle;\n",
       "    }\n",
       "\n",
       "    .dataframe tbody tr th {\n",
       "        vertical-align: top;\n",
       "    }\n",
       "\n",
       "    .dataframe thead th {\n",
       "        text-align: right;\n",
       "    }\n",
       "</style>\n",
       "<table border=\"1\" class=\"dataframe\">\n",
       "  <thead>\n",
       "    <tr style=\"text-align: right;\">\n",
       "      <th></th>\n",
       "      <th>adr_address</th>\n",
       "      <th>name</th>\n",
       "      <th>rating</th>\n",
       "      <th>reviews</th>\n",
       "      <th>website</th>\n",
       "    </tr>\n",
       "  </thead>\n",
       "  <tbody>\n",
       "    <tr>\n",
       "      <th>0</th>\n",
       "      <td>ATO self service facilities available only, &lt;s...</td>\n",
       "      <td>Australian Taxation Office</td>\n",
       "      <td>1.2</td>\n",
       "      <td>[{'author_name': 'Avec With', 'author_url': 'h...</td>\n",
       "      <td>https://www.ato.gov.au/</td>\n",
       "    </tr>\n",
       "    <tr>\n",
       "      <th>1</th>\n",
       "      <td>&lt;span class=\"street-address\"&gt;6 Gladstone St&lt;/s...</td>\n",
       "      <td>Australian Taxation Office</td>\n",
       "      <td>2.5</td>\n",
       "      <td>[{'author_name': 'Christopher Stenton', 'autho...</td>\n",
       "      <td>http://www.ato.gov.au/</td>\n",
       "    </tr>\n",
       "    <tr>\n",
       "      <th>2</th>\n",
       "      <td>&lt;span class=\"street-address\"&gt;19 George St&lt;/spa...</td>\n",
       "      <td>ATO Dandenong</td>\n",
       "      <td>1.3</td>\n",
       "      <td>[{'author_name': 'Lily', 'author_url': 'https:...</td>\n",
       "      <td>NaN</td>\n",
       "    </tr>\n",
       "  </tbody>\n",
       "</table>\n",
       "</div>"
      ],
      "text/plain": [
       "                                         adr_address  \\\n",
       "0  ATO self service facilities available only, <s...   \n",
       "1  <span class=\"street-address\">6 Gladstone St</s...   \n",
       "2  <span class=\"street-address\">19 George St</spa...   \n",
       "\n",
       "                         name  rating  \\\n",
       "0  Australian Taxation Office     1.2   \n",
       "1  Australian Taxation Office     2.5   \n",
       "2               ATO Dandenong     1.3   \n",
       "\n",
       "                                             reviews                  website  \n",
       "0  [{'author_name': 'Avec With', 'author_url': 'h...  https://www.ato.gov.au/  \n",
       "1  [{'author_name': 'Christopher Stenton', 'autho...   http://www.ato.gov.au/  \n",
       "2  [{'author_name': 'Lily', 'author_url': 'https:...                      NaN  "
      ]
     },
     "execution_count": 8,
     "metadata": {},
     "output_type": "execute_result"
    }
   ],
   "source": [
    "\n",
    "def get_place_details(place_id):\n",
    "    \"\"\"Get place details for a given place_id.\"\"\"\n",
    "    place_details = gmaps.place(place_id=place_id, fields=['name', 'adr_address', 'website', 'reviews', 'rating'])\n",
    "    return place_details\n",
    "\n",
    "# Search for the place\n",
    "query = 'Australian Taxation Office'\n",
    "search_result = gmaps.places(query=query)\n",
    "\n",
    "# Check if we have results and extract the place_id\n",
    "if search_result['results']:\n",
    "    place_ids = [place['place_id'] for place in search_result['results']]\n",
    "else:\n",
    "    place_ids = []\n",
    "    print(\"No results found\")\n",
    "\n",
    "# Initialize an empty list to store place details\n",
    "place_details_list = []\n",
    "\n",
    "# Iterate over each place_id to fetch its details\n",
    "for idx, place_id in enumerate(place_ids):\n",
    "    # Fetch place details and add to the list\n",
    "    details = get_place_details(place_id)\n",
    "    place_details_list.append(details)\n",
    "\n",
    "    # Delay the next API call by 1 second to avoid hitting the rate limit\n",
    "    # Adjust the sleep time based on specific rate limit\n",
    "    time.sleep(1)\n",
    "\n",
    "# Convert the list of place details to a DataFrame\n",
    "df = pd.DataFrame([detail['result'] for detail in place_details_list if 'result' in detail])\n",
    "\n",
    "df\n"
   ]
  },
  {
   "cell_type": "code",
   "execution_count": 16,
   "metadata": {},
   "outputs": [
    {
     "name": "stdout",
     "output_type": "stream",
     "text": [
      "Exported to /Users/tnathu-ai/VSCode/Government-Digital-Transformation/notebooks/analysis/../../data/raw/google_map/ATO_GG_reviews.csv\n"
     ]
    }
   ],
   "source": [
    "# export df to csv\n",
    "df.to_csv('../../data/raw/google_map/ATO_GG_reviews.csv', index=False)\n",
    "print(f'Exported to {os.getcwd()}/../../data/raw/google_map/ATO_GG_reviews.csv')"
   ]
  },
  {
   "cell_type": "markdown",
   "metadata": {},
   "source": [
    "-----> OBSERVATION\n",
    "\n",
    "+ For the first place (Australian Taxation Office in Footscray):\n",
    "\n",
    "+ There are 5 reviews listed for this location.\n",
    "+ For the second place (ATO Dandenong):\n",
    "\n",
    "+ There are 4 reviews listed for this location.\n",
    "+ For the third place (Australian Taxation Office (No Public Access) in Docklands):\n",
    "\n",
    "+ There are 5 reviews listed for this location."
   ]
  },
  {
   "cell_type": "markdown",
   "metadata": {},
   "source": [
    "# Consolidated code"
   ]
  },
  {
   "cell_type": "code",
   "execution_count": 4,
   "metadata": {},
   "outputs": [
    {
     "name": "stdout",
     "output_type": "stream",
     "text": [
      "Exported to ../../data/raw/google_map/Australian_Taxation_Office_reviews.csv\n"
     ]
    }
   ],
   "source": [
    "import googlemaps\n",
    "import pandas as pd\n",
    "import os\n",
    "import time\n",
    "\n",
    "# Initialize Google Maps client\n",
    "def initialize_gmaps(api_key):\n",
    "    return googlemaps.Client(key=api_key)\n",
    "\n",
    "# Get details of a specific place\n",
    "def get_place_details(gmaps, place_id, fields=['name', 'adr_address', 'website', 'reviews', 'rating']):\n",
    "    return gmaps.place(place_id=place_id, fields=fields)\n",
    "\n",
    "# Main function to fetch reviews and export to CSV\n",
    "def fetch_and_save_reviews(place_name, save_directory):\n",
    "    GMAPS_KEY = os.getenv(\"GMAPS_KEY\")\n",
    "    gmaps = initialize_gmaps(GMAPS_KEY)\n",
    "\n",
    "    search_result = gmaps.places(query=place_name)\n",
    "\n",
    "    if search_result['results']:\n",
    "        place_ids = [place['place_id'] for place in search_result['results']]\n",
    "    else:\n",
    "        print(\"No results found\")\n",
    "        return\n",
    "\n",
    "    place_details_list = []\n",
    "    for place_id in place_ids:\n",
    "        details = get_place_details(gmaps, place_id)\n",
    "        place_details_list.append(details)\n",
    "        time.sleep(1)  # Prevent hitting API rate limit\n",
    "\n",
    "    # Filter out invalid entries and create DataFrame\n",
    "    valid_details = [detail['result'] for detail in place_details_list if 'result' in detail]\n",
    "    if valid_details:\n",
    "        df = pd.DataFrame(valid_details)\n",
    "        save_path = os.path.join(save_directory, f\"{place_name.replace(' ', '_')}_reviews.csv\")\n",
    "        df.to_csv(save_path, index=False)\n",
    "        print(f\"Exported to {save_path}\")\n",
    "    else:\n",
    "        print(\"No valid place details found.\")\n"
   ]
  },
  {
   "cell_type": "code",
   "execution_count": null,
   "metadata": {},
   "outputs": [],
   "source": [
    "%%time \n",
    "fetch_and_save_reviews(\"Australian Taxation Office\", \"../../data/raw/google_map\")"
   ]
  },
  {
   "cell_type": "code",
   "execution_count": 5,
   "metadata": {},
   "outputs": [
    {
     "name": "stdout",
     "output_type": "stream",
     "text": [
      "Exported to ../../data/raw/google_map/Australia_Post_reviews.csv\n"
     ]
    }
   ],
   "source": [
    "fetch_and_save_reviews(\"Australia Post\", \"../../data/raw/google_map\")"
   ]
  },
  {
   "cell_type": "code",
   "execution_count": 6,
   "metadata": {},
   "outputs": [
    {
     "name": "stdout",
     "output_type": "stream",
     "text": [
      "Exported to ../../data/raw/google_map/Public_Transport_Victoria_reviews.csv\n"
     ]
    }
   ],
   "source": [
    "fetch_and_save_reviews(\"Public Transport Victoria\", \"../../data/raw/google_map\")"
   ]
  },
  {
   "cell_type": "code",
   "execution_count": 7,
   "metadata": {},
   "outputs": [
    {
     "name": "stdout",
     "output_type": "stream",
     "text": [
      "Exported to ../../data/raw/google_map/Service_NSW_reviews.csv\n",
      "CPU times: user 170 ms, sys: 18.6 ms, total: 189 ms\n",
      "Wall time: 25.6 s\n"
     ]
    }
   ],
   "source": [
    "%%time\n",
    "fetch_and_save_reviews(\"Service NSW\", \"../../data/raw/google_map\")"
   ]
  },
  {
   "cell_type": "code",
   "execution_count": 8,
   "metadata": {},
   "outputs": [
    {
     "name": "stdout",
     "output_type": "stream",
     "text": [
      "Exported to ../../data/raw/google_map/SunSmart_reviews.csv\n",
      "CPU times: user 110 ms, sys: 22.3 ms, total: 133 ms\n",
      "Wall time: 11.6 s\n"
     ]
    }
   ],
   "source": [
    "%%time\n",
    "fetch_and_save_reviews(\"SunSmart\", \"../../data/raw/google_map\")"
   ]
  }
 ],
 "metadata": {
  "kernelspec": {
   "display_name": "CSIRO",
   "language": "python",
   "name": "python3"
  },
  "language_info": {
   "codemirror_mode": {
    "name": "ipython",
    "version": 3
   },
   "file_extension": ".py",
   "mimetype": "text/x-python",
   "name": "python",
   "nbconvert_exporter": "python",
   "pygments_lexer": "ipython3",
   "version": "3.12.2"
  }
 },
 "nbformat": 4,
 "nbformat_minor": 2
}
